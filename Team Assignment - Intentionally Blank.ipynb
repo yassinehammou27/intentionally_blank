{
 "cells": [
  {
   "cell_type": "markdown",
   "id": "d77536e6",
   "metadata": {},
   "source": [
    "# Team Assignment - Intentionally Blank"
   ]
  },
  {
   "cell_type": "markdown",
   "id": "452dbcfc",
   "metadata": {},
   "source": [
    "The following libraries should be installed before proceeding further:\n",
    "- pandas\n",
    "- numpy\n",
    "- matplotlib\n",
    "- **folium** (conda install -c conda-forge folium)\n",
    "- **branca** (Should automatically be installed with folium)\n",
    "- **plotly** (conda install -c plotly plotly=5.10.0)"
   ]
  },
  {
   "cell_type": "code",
   "execution_count": 1,
   "id": "6de21ca7",
   "metadata": {},
   "outputs": [],
   "source": [
    "#Import all necessary libraries\n",
    "\n",
    "import pandas as pd\n",
    "import numpy as np\n",
    "import math\n",
    "from datetime import datetime\n",
    "import seaborn as sns\n",
    "\n",
    "import matplotlib.pyplot as plt\n",
    "\n",
    "# also import these \"new\" libraries \n",
    "# Note: you may have to download an add them to your environment (using e.g. 'conda install -c conda-forge folium')\n",
    "# !important! Install this version of plotly=5.10.0 or else some maps and animations may not render correctly\n",
    "import plotly.express as px\n",
    "import folium\n",
    "from folium import plugins\n",
    "from folium.plugins import HeatMap\n",
    "from branca.element import Figure"
   ]
  },
  {
   "cell_type": "markdown",
   "id": "6f26ee6a",
   "metadata": {},
   "source": [
    "In addition to the available datasets from the team assignment the original dataset is read for additional information about each ride. The additional information contains the geographical coordinates for the start position and the end position of each ride."
   ]
  },
  {
   "cell_type": "code",
   "execution_count": 2,
   "id": "1f317040",
   "metadata": {},
   "outputs": [],
   "source": [
    "# Reading in weather and philadelphia_2017 data\n",
    "df_weather = pd.read_csv(\"data/weather_hourly_philadelphia.csv\")\n",
    "df_philadelphia_2017 = pd.read_csv(\"data/philadelphia_2017.csv\")\n",
    "\n",
    "# Additionally read the philadelphia data from the official website\n",
    "data_philadelphia_2017_Q1 = pd.read_csv(\"data/indego_Q1_2017.csv\")\n",
    "data_philadelphia_2017_Q2 = pd.read_csv(\"data/indego_Q2_2017.csv\")\n",
    "data_philadelphia_2017_Q3 = pd.read_csv(\"data/indego_Q3_2017.csv\")\n",
    "data_philadelphia_2017_Q4 = pd.read_csv(\"data/indego_Q4_2017.csv\")"
   ]
  },
  {
   "cell_type": "markdown",
   "id": "1077354c",
   "metadata": {},
   "source": [
    "## Preparing and cleaning data"
   ]
  },
  {
   "cell_type": "markdown",
   "id": "210840cd",
   "metadata": {},
   "source": [
    "### Preparing and cleaning the philadelphia datasets"
   ]
  },
  {
   "cell_type": "code",
   "execution_count": 3,
   "id": "93126832",
   "metadata": {},
   "outputs": [],
   "source": [
    "# Concatenate all quarters of philadelphia data and convert them to a dataframe\n",
    "df_philadelphia_website = pd.concat([data_philadelphia_2017_Q1, data_philadelphia_2017_Q2, data_philadelphia_2017_Q3, data_philadelphia_2017_Q4], ignore_index=True)"
   ]
  },
  {
   "cell_type": "code",
   "execution_count": null,
   "id": "fb2b8404",
   "metadata": {},
   "outputs": [],
   "source": [
    "# Dropping the columns duration, start_station_id, end_station_id, plan_duration, trip_route_category, passholder_type, start_station, end_station\n",
    "df_philadelphia_website.drop(['duration', 'start_station_id', 'end_station_id', 'plan_duration', 'trip_route_category', 'passholder_type', 'start_station', 'end_station', 'trip_id'], axis=1, inplace=True)\n",
    "df_philadelphia_website\n",
    "\n",
    "#Changing the type of start_time, end_time (df_philadelphia_2017 and df_philadelphia_website) and date_time (df_weather) to datetime type from pandas\n",
    "df_philadelphia_website.loc[:,'start_time'] = pd.to_datetime(df_philadelphia_website['start_time'])\n",
    "df_philadelphia_website.loc[:,'end_time'] = pd.to_datetime(df_philadelphia_website['end_time'])\n",
    "\n",
    "df_philadelphia_2017.loc[:,'start_time'] = pd.to_datetime(df_philadelphia_2017['start_time'])\n",
    "df_philadelphia_2017.loc[:,\"end_time\"] = pd.to_datetime(df_philadelphia_2017[\"end_time\"])\n",
    "\n",
    "#Sort dataframes by their corresponding time column\n",
    "df_philadelphia_website.sort_values([\"start_time\"], inplace = True)\n",
    "df_philadelphia_2017.sort_values([\"start_time\"], inplace = True)\n",
    "\n",
    "\n",
    "#Resetting the indexes\n",
    "df_philadelphia_website.reset_index(drop = True, inplace = True)\n",
    "df_philadelphia_2017.reset_index(drop = True, inplace = True)"
   ]
  },
  {
   "cell_type": "markdown",
   "id": "37be559f",
   "metadata": {},
   "source": [
    "Before we further clean the dataset for philadelphia its important to mention that we first deleted the irrelevant stations because some duplicate rows happen to have the same start time, end time and bike ids but different start and end stations like the \"Virtual Station\". Therefore we deleted those stations first to avoid deleting useful records. In the following example you can see that deleting the duplicates first could lead to deleting useful records and keeping irrelevant records which are deleted either way later."
   ]
  },
  {
   "cell_type": "code",
   "execution_count": null,
   "id": "461a017c",
   "metadata": {},
   "outputs": [],
   "source": [
    "df_philadelphia_2017[df_philadelphia_2017.duplicated(subset=['start_time', 'end_time', 'bike_id'], keep=False)].head(6)"
   ]
  },
  {
   "cell_type": "markdown",
   "id": "772c2cb0",
   "metadata": {},
   "source": [
    "The \"3083\" station does not exist as a real station. Furthermore the \"Virtual Station\" is used by staff to check in or check out a bike remotely for an event or when the bike was not properly checked in or out. Therefore we check the number of rows where one of those stations occur and delete those rows afterwards.\n",
    "\n",
    "For further information please check the official site about the data and the station table [here](https://www.rideindego.com/about/data/)."
   ]
  },
  {
   "cell_type": "code",
   "execution_count": null,
   "id": "46fbe4dc",
   "metadata": {},
   "outputs": [],
   "source": [
    "print(r'Number of rows in df_philadelphia_2017 with \"Virtual Station\" and \"3083\" in the start station or end station: ',\n",
    " df_philadelphia_2017[(df_philadelphia_2017[\"start_station_name\"] == \"Virtual Station\") | (df_philadelphia_2017[\"end_station_name\"] == \"Virtual Station\") |\n",
    "  (df_philadelphia_2017[\"start_station_name\"] == \"3083\") | (df_philadelphia_2017[\"end_station_name\"] == \"3083\")\n",
    "  ].shape[0])"
   ]
  },
  {
   "cell_type": "code",
   "execution_count": null,
   "id": "aabdc897",
   "metadata": {},
   "outputs": [],
   "source": [
    "# Deleting \"Virtual Station\" and \"3083\" from the start_station_name and end_station_name columns\n",
    "df_philadelphia_2017 = df_philadelphia_2017[(df_philadelphia_2017[\"start_station_name\"] != \"3083\") & (df_philadelphia_2017[\"end_station_name\"] != \"3083\") ]\n",
    "df_philadelphia_2017 = df_philadelphia_2017[(df_philadelphia_2017[\"start_station_name\"] != \"Virtual Station\") & (df_philadelphia_2017[\"end_station_name\"] != \"Virtual Station\") ]\n",
    "\n",
    "display(df_philadelphia_2017[(df_philadelphia_2017[\"start_station_name\"] == \"Virtual Station\") | (df_philadelphia_2017[\"end_station_name\"] == \"Virtual Station\") | (df_philadelphia_2017[\"start_station_name\"] == \"3083\") | (df_philadelphia_2017[\"end_station_name\"] == \"3083\")])"
   ]
  },
  {
   "cell_type": "markdown",
   "id": "6dc022f5",
   "metadata": {},
   "source": [
    "The \"bike_id\" should be unique to one bike. No trip with the same bike_id should start and end on the same time interval. "
   ]
  },
  {
   "cell_type": "code",
   "execution_count": null,
   "id": "f28c8055",
   "metadata": {},
   "outputs": [],
   "source": [
    "#Checking for any duplicates in philadelphia data\n",
    "print(\"Number of duplicates in df_philadelphia_2017: \", df_philadelphia_2017.duplicated(subset=['start_time', 'end_time', 'bike_id']).sum())\n",
    "print(\"Number of duplicates in df_philadelphia_website: \", df_philadelphia_website.duplicated(subset=['start_time', 'end_time', 'bike_id']).sum())"
   ]
  },
  {
   "cell_type": "code",
   "execution_count": null,
   "id": "0e7b9ef3",
   "metadata": {},
   "outputs": [],
   "source": [
    "#Dropping all duplicates for the philadelphia data depending on the start_time, end_time and bike_id\n",
    "df_philadelphia_2017.drop_duplicates(subset=[\"start_time\", \"end_time\", \"bike_id\"], keep=\"first\", inplace=True)\n",
    "df_philadelphia_website.drop_duplicates(subset=[\"start_time\", \"end_time\", \"bike_id\"], keep=\"first\", inplace=True)\n",
    "\n",
    "display(df_philadelphia_2017[df_philadelphia_2017.duplicated(subset=['start_time', 'end_time', 'bike_id'])].head(10))\n",
    "display(df_philadelphia_website[df_philadelphia_website.duplicated(subset=['start_time', 'end_time', 'bike_id'])].head(10))"
   ]
  },
  {
   "cell_type": "code",
   "execution_count": null,
   "id": "6217457a",
   "metadata": {},
   "outputs": [],
   "source": [
    "# Joining df_philadelphia_2017 with df_philadelphia_full on start_time, end_time, bike_id and dropping duplicate columns\n",
    "df_philadelphia_2017_joined = df_philadelphia_2017.merge(df_philadelphia_website, on=[\"start_time\", \"end_time\", \"bike_id\"], how=\"left\")\n",
    "\n",
    "df_philadelphia_2017_joined"
   ]
  },
  {
   "cell_type": "code",
   "execution_count": null,
   "id": "c8bd23ba",
   "metadata": {},
   "outputs": [],
   "source": [
    "#Checking for missing values in philadelphia data\n",
    "display(df_philadelphia_2017_joined[df_philadelphia_2017_joined.isnull().any(axis = 1)])"
   ]
  },
  {
   "cell_type": "code",
   "execution_count": null,
   "id": "cfb60234",
   "metadata": {},
   "outputs": [],
   "source": [
    "df_philadelphia_2017_joined.dropna(inplace = True)\t"
   ]
  },
  {
   "cell_type": "code",
   "execution_count": null,
   "id": "9073704b",
   "metadata": {},
   "outputs": [],
   "source": [
    "#Adding hour, month, weekday and trip duration(based on start and end time) to the table\n",
    "df_philadelphia_2017_joined.loc[:,\"trip_duration\"] = df_philadelphia_2017_joined[\"end_time\"] - df_philadelphia_2017_joined[\"start_time\"] \n",
    "df_philadelphia_2017_joined.loc[:,\"date\"] = df_philadelphia_2017_joined[\"start_time\"].dt.date\n",
    "df_philadelphia_2017_joined.loc[:,\"month\"] = df_philadelphia_2017_joined[\"start_time\"].dt.month\n",
    "df_philadelphia_2017_joined.loc[:,\"week\"] = df_philadelphia_2017_joined[\"start_time\"].dt.isocalendar().week\n",
    "df_philadelphia_2017_joined.loc[:,\"weekday\"] = df_philadelphia_2017_joined[\"start_time\"].dt.weekday\n",
    "df_philadelphia_2017_joined.loc[:,\"day\"] = df_philadelphia_2017_joined[\"start_time\"].dt.day\n",
    "df_philadelphia_2017_joined.loc[:,\"hour\"] = df_philadelphia_2017_joined[\"start_time\"].dt.hour\n",
    "df_philadelphia_2017_joined"
   ]
  },
  {
   "cell_type": "markdown",
   "id": "31d77c60",
   "metadata": {},
   "source": [
    "We also remove trips which are shorter than one minute and longer than one day because the bike sharing service does not allow those trips normally."
   ]
  },
  {
   "cell_type": "code",
   "execution_count": null,
   "id": "0b322d8a",
   "metadata": {
    "scrolled": true
   },
   "outputs": [],
   "source": [
    "df_philadelphia_2017_joined[df_philadelphia_2017_joined[\"trip_duration\"] < \"0 days 00:01:00\"]"
   ]
  },
  {
   "cell_type": "code",
   "execution_count": null,
   "id": "20e44c7a",
   "metadata": {},
   "outputs": [],
   "source": [
    "df_philadelphia_2017_joined = df_philadelphia_2017_joined[df_philadelphia_2017_joined[\"trip_duration\"] >= \"0 days 00:01:00\"]\n",
    "df_philadelphia_2017_joined[df_philadelphia_2017_joined[\"trip_duration\"] < \"0 days 00:01:00\"]"
   ]
  },
  {
   "cell_type": "code",
   "execution_count": null,
   "id": "7c4498e8",
   "metadata": {
    "scrolled": true
   },
   "outputs": [],
   "source": [
    "df_philadelphia_2017_joined[df_philadelphia_2017_joined[\"trip_duration\"] > \"1 days\"]"
   ]
  },
  {
   "cell_type": "code",
   "execution_count": null,
   "id": "4a3a5f24",
   "metadata": {},
   "outputs": [],
   "source": [
    "df_philadelphia_2017_joined = df_philadelphia_2017_joined[df_philadelphia_2017_joined[\"trip_duration\"] <= \"1 days\"]\n",
    "df_philadelphia_2017_joined[df_philadelphia_2017_joined[\"trip_duration\"] > \"1 days\"]"
   ]
  },
  {
   "cell_type": "code",
   "execution_count": null,
   "id": "7282b54e",
   "metadata": {},
   "outputs": [],
   "source": [
    "df_philadelphia_cleaned = df_philadelphia_2017_joined.copy()\n",
    "df_philadelphia_cleaned"
   ]
  },
  {
   "cell_type": "markdown",
   "id": "1e01df51",
   "metadata": {},
   "source": [
    "### Preparing and cleaning the weather dataset"
   ]
  },
  {
   "cell_type": "markdown",
   "id": "1d292726",
   "metadata": {},
   "source": [
    "After preparing and cleaning the philadelphia dataset we need to do most of the procedure on the weather dataset."
   ]
  },
  {
   "cell_type": "code",
   "execution_count": null,
   "id": "e0d01ad7",
   "metadata": {},
   "outputs": [],
   "source": [
    "#Changing the type of date_time (df_weather) to datetime type from pandas\n",
    "df_weather.loc[:, \"date_time\"] = pd.to_datetime(df_weather[\"date_time\"])\n",
    "\n",
    "#Sort the dataframe by their corresponding time column\n",
    "df_weather.sort_values([\"date_time\"], inplace = True)\n",
    "\n",
    "#Reset the index\n",
    "df_weather.reset_index(drop = True, inplace =True)"
   ]
  },
  {
   "cell_type": "markdown",
   "id": "c316a5ff",
   "metadata": {},
   "source": [
    "First of all we check for duplicate rows in the weather data and delete them if they occur because we do not need multiple rows multiple times."
   ]
  },
  {
   "cell_type": "code",
   "execution_count": null,
   "id": "ee5eafde",
   "metadata": {},
   "outputs": [],
   "source": [
    "#Checking for any duplicates in weather data\n",
    "print(\"Number of duplicates in df_weather: \", df_weather.duplicated().sum())"
   ]
  },
  {
   "cell_type": "code",
   "execution_count": null,
   "id": "0b69942d",
   "metadata": {},
   "outputs": [],
   "source": [
    "#Dropping all duplicates for the weather data\n",
    "df_weather.drop_duplicates(subset= [\"date_time\"],inplace = True)\n",
    "\n",
    "display(df_weather[df_weather.duplicated()])"
   ]
  },
  {
   "cell_type": "markdown",
   "id": "cc1be3de",
   "metadata": {},
   "source": [
    "We also check for null values in the weather data and delete them. It is important to note that we later add additional rows with null values but with the missing time intervals because we can interpolate them with the interpolate function in pandas."
   ]
  },
  {
   "cell_type": "code",
   "execution_count": null,
   "id": "d05f6a8c",
   "metadata": {},
   "outputs": [],
   "source": [
    "#Checking for missing values in weather data\n",
    "display(df_weather[df_weather.isnull().any(axis = 1)])"
   ]
  },
  {
   "cell_type": "code",
   "execution_count": null,
   "id": "2d2937c6",
   "metadata": {},
   "outputs": [],
   "source": [
    "df_weather.dropna(inplace = True)"
   ]
  },
  {
   "cell_type": "markdown",
   "id": "ad22ac1e",
   "metadata": {},
   "source": [
    "Since the weather data consists of data from the beginning of 2015 until the end of 2019, we want to have as well only the weather data for 2017."
   ]
  },
  {
   "cell_type": "code",
   "execution_count": null,
   "id": "29680806",
   "metadata": {},
   "outputs": [],
   "source": [
    "#Selecting data from the beginning of 2017 till the end of 2017\n",
    "df_weather_2017 = df_weather[(df_weather[\"date_time\"]>= \"2017-01-01 00:00:00\") & (df_weather[\"date_time\"]< \"2018-01-01 00:00:00\" )]"
   ]
  },
  {
   "cell_type": "code",
   "execution_count": null,
   "id": "d66286de",
   "metadata": {},
   "outputs": [],
   "source": [
    "#Add missing intervals in the weather data\n",
    "df_weather_2017.set_index(\"date_time\", inplace = True)\n",
    "df_weather_2017 = df_weather_2017.resample(\"H\").asfreq()"
   ]
  },
  {
   "cell_type": "markdown",
   "id": "026e5f8b",
   "metadata": {},
   "source": [
    "The minimum temperature and maximum temperature will be interpolated linearly. The precipitation value is interpolated by taking one of the nearest existing values."
   ]
  },
  {
   "cell_type": "code",
   "execution_count": null,
   "id": "38ffb854",
   "metadata": {},
   "outputs": [],
   "source": [
    "# Interpolate missing values in the weather data\n",
    "df_weather_2017[\"min_temp\"].interpolate(method = \"linear\", inplace = True)\n",
    "df_weather_2017[\"max_temp\"].interpolate(method = \"linear\", inplace = True)\n",
    "df_weather_2017[\"precip\"].interpolate(method = \"pad\", inplace = True)\n",
    "df_weather_2017.reset_index(drop=False, inplace = True)\n",
    "\n",
    "# Check if null values in the weather data still exist\n",
    "display(df_weather_2017[df_weather_2017.isnull().any(axis = 1)])\n",
    "display(df_weather_2017)"
   ]
  },
  {
   "cell_type": "markdown",
   "id": "0fca494e",
   "metadata": {},
   "source": [
    "All dataframes for reference:\n",
    "* **Philadelphia data**\n",
    "   * *df_philadelphia_cleaned*\n",
    "* **Weather data**\n",
    "   * *df_weather_2017*"
   ]
  },
  {
   "cell_type": "markdown",
   "id": "7616ac83",
   "metadata": {},
   "source": [
    "## Descriptive Analytics"
   ]
  },
  {
   "cell_type": "markdown",
   "id": "980c0878",
   "metadata": {},
   "source": [
    "### Temporal Demand Patterns and Seasonality"
   ]
  },
  {
   "cell_type": "markdown",
   "id": "c24fc75d",
   "metadata": {},
   "source": [
    "#### Analysis of Rental during the day\n",
    "\n",
    "First count the started rentals for each hour of the day for the whole dataset and vizualize it in a histogram."
   ]
  },
  {
   "cell_type": "code",
   "execution_count": null,
   "id": "76df6277",
   "metadata": {},
   "outputs": [],
   "source": [
    "#Calculate the number of rentals in each hour (accumulated over the year)\n",
    "df = df_philadelphia_cleaned\n",
    "df.groupby([\"hour\"])[\"hour\"].count().reset_index(name=\"n_rentals_within_hour\")"
   ]
  },
  {
   "cell_type": "code",
   "execution_count": null,
   "id": "80bbd4c2",
   "metadata": {},
   "outputs": [],
   "source": [
    "#Calculate the mean\n",
    "mean = df.groupby([\"hour\"])[\"hour\"].count().mean()\n",
    "mean"
   ]
  },
  {
   "cell_type": "code",
   "execution_count": null,
   "id": "49ee2667",
   "metadata": {},
   "outputs": [],
   "source": [
    "plt.hist(df[\"hour\"], bins=range(0,25,1), color=\"green\")\n",
    "plt.axhline(mean , color = 'r', linestyle = '--')\n",
    "plt.xlabel(\"Hour\")\n",
    "plt.ylabel(\"Number of rentals started\")\n",
    "plt.title(\"Development of started rentals during the day\")\n",
    "plt.xticks(range(0,25,2))\n",
    "plt.grid(True)\n",
    "min_xlim, max_xlim = plt.xlim()\n",
    "plt.text(min_xlim*(-0.2), mean*1.1, 'Mean: {:.2f}'.format(mean))\n",
    "plt.show()"
   ]
  },
  {
   "cell_type": "markdown",
   "id": "7a0d3029",
   "metadata": {},
   "source": [
    "To get average values we calculate the number of days for which we have data in our dataset and calculate the avarage number of rentals started within each hour in a day.\n",
    "\n",
    "IMPORTANT: The average values only provide meaningful results if we assume that we have all meaningful rental transactions that actually occurred included in our data set or at least equally distributed missing transaction for each hour."
   ]
  },
  {
   "cell_type": "code",
   "execution_count": null,
   "id": "e97a73fb",
   "metadata": {},
   "outputs": [],
   "source": [
    "#Check the number of days for which we have data in our set\n",
    "number_days = len(df[\"date\"].unique())\n",
    "number_days"
   ]
  },
  {
   "cell_type": "code",
   "execution_count": null,
   "id": "ee68ec93",
   "metadata": {},
   "outputs": [],
   "source": [
    "#Calculate average values for each hour\n",
    "df_avg_per_hour = df.groupby([\"hour\"])[\"hour\"].count().divide(number_days).reset_index(name=\"avg_n_rentals_within_hour\")\n",
    "df_avg_per_hour"
   ]
  },
  {
   "cell_type": "code",
   "execution_count": null,
   "id": "0d518e9b",
   "metadata": {},
   "outputs": [],
   "source": [
    "#Calculate mean\n",
    "mean= df_avg_per_hour[\"avg_n_rentals_within_hour\"].mean()\n",
    "mean"
   ]
  },
  {
   "cell_type": "code",
   "execution_count": null,
   "id": "e7442748",
   "metadata": {},
   "outputs": [],
   "source": [
    "plt.bar(\n",
    "        df_avg_per_hour[\"hour\"], \n",
    "        df_avg_per_hour[\"avg_n_rentals_within_hour\"], \n",
    "        color=\"green\"\n",
    ")\n",
    "plt.axhline(mean , color = 'r', linestyle = '--')\n",
    "plt.xlabel(\"Hour\")\n",
    "plt.ylabel(\"Average number of rentals started within hour\")\n",
    "plt.title(\"Development of avg started rentals during the day\")\n",
    "min_xlim, max_xlim = plt.xlim()\n",
    "plt.text(min_xlim*(-0.2), mean*1.1, 'Mean: {:.2f}'.format(mean))\n",
    "plt.grid(True)\n",
    "plt.show()"
   ]
  },
  {
   "cell_type": "markdown",
   "id": "894fd9b3",
   "metadata": {},
   "source": [
    "In the plots above we only considered the starting times of the rentals. To also considere the endtime, we calculate how many bikes in the respective hours were IN USE accumulated over the year. (e.g. rental from 0 o'clock to 2:45 would count as a usage in hour 0, 1 and 2). In the process of calculation we also have to considere that bike rentals can range over two days."
   ]
  },
  {
   "cell_type": "code",
   "execution_count": null,
   "id": "6a3939f3",
   "metadata": {},
   "outputs": [],
   "source": [
    "#Calculate average number of bikes in use\n",
    "df[\"end_time_hour\"] = df[\"end_time\"].dt.hour\n",
    "df[\"end_time_date\"] = df[\"end_time\"].dt.date\n",
    "df_values = pd.DataFrame()\n",
    "for i in range(0,24,1):\n",
    "    df_values[f\"{i}\"]= (((df[\"hour\"] <= i) & (df[\"end_time_hour\"] >= i)) \n",
    "                        | ((df[\"end_time_hour\"] >= i) & (df[\"date\"] < df[\"end_time_date\"])))\n",
    "\n",
    "df_sum = df_values.apply(lambda x: x.sum()/number_days).reset_index(name=\"avg_n_of_bikes_in_use\").rename(columns={\"index\": \"hour\"})\n",
    "df_sum"
   ]
  },
  {
   "cell_type": "code",
   "execution_count": null,
   "id": "7fa7b9db",
   "metadata": {},
   "outputs": [],
   "source": [
    "#Calculate mean\n",
    "mean = df_sum[\"avg_n_of_bikes_in_use\"].mean()\n",
    "mean"
   ]
  },
  {
   "cell_type": "code",
   "execution_count": null,
   "id": "74aa3224",
   "metadata": {},
   "outputs": [],
   "source": [
    "plt.bar(df_sum[\"hour\"], df_sum[\"avg_n_of_bikes_in_use\"], color=\"green\")\n",
    "plt.axhline(mean , color = 'r', linestyle = '--')\n",
    "plt.xlabel(\"Hour\")\n",
    "plt.ylabel(\"Average Number of Bikes in Use\")\n",
    "plt.title(\"Bikes in Use by Hours of the Day\")\n",
    "min_xlim, max_xlim = plt.xlim()\n",
    "plt.text(min_xlim*(-0.2), mean*1.1, 'Mean: {:.2f}'.format(mean))\n",
    "plt.grid(True)\n",
    "plt.show()"
   ]
  },
  {
   "cell_type": "markdown",
   "id": "ca8577a9",
   "metadata": {},
   "source": [
    "##### Analysis and Interpretation of the Results:\n",
    "\n",
    "The plots above all show that we have two peaks of bike rentals in the day. One peak demand at 8 am and the other peak at 5 pm. This peak can be a result of the rush-hour traffic. At these times most people are on their way to work/school or on their way back home. The demand around these times ( 8 am and 5 pm ) are also above average. Besides that, it also becomes clear that the bikes are mostly used during the day. During the night the demand is significantly below average (from 9 pm until 6 am)."
   ]
  },
  {
   "cell_type": "markdown",
   "id": "34e975b8",
   "metadata": {},
   "source": [
    "#### Analysis of Rental during the week\n",
    "\n",
    "First count the started rentals for each weekday of the day for the whole dataset and vizualize it in a histogram."
   ]
  },
  {
   "cell_type": "code",
   "execution_count": null,
   "id": "7627077a",
   "metadata": {},
   "outputs": [],
   "source": [
    "#Calculate accumulated rentals per weekday\n",
    "df.groupby([\"weekday\"])[\"weekday\"].count().reset_index(name=\"n_rentals_within_weekday\")"
   ]
  },
  {
   "cell_type": "markdown",
   "id": "1971a32d",
   "metadata": {},
   "source": [
    "The mapping: {0: \"Monday\", 1: \"Tuesday\", 2: \"Wednesday\", 3: \"Thursday\", 4: \"Friday\",5: \"Saturday\",6: \"Sunday\"}"
   ]
  },
  {
   "cell_type": "code",
   "execution_count": null,
   "id": "780fb0d8",
   "metadata": {},
   "outputs": [],
   "source": [
    "#Calculate mean\n",
    "mean = df.groupby([\"weekday\"])[\"weekday\"].count().mean()\n",
    "mean"
   ]
  },
  {
   "cell_type": "code",
   "execution_count": null,
   "id": "06508b6b",
   "metadata": {},
   "outputs": [],
   "source": [
    "plt.hist(df[\"weekday\"], bins=range(0,8,1), color=\"green\")\n",
    "plt.axhline(mean , color = 'r', linestyle = '--')\n",
    "plt.xlabel(\"Weekday\")\n",
    "plt.ylabel(\"Total Number of Rentals Started on Weekday\")\n",
    "plt.title(\"Development of Started Rentals During the Week\")\n",
    "plt.xticks(range(0,8,1))\n",
    "min_xlim, max_xlim = plt.xlim()\n",
    "plt.text(min_xlim*(-0.1), mean*1.1, 'Mean: {:.2f}'.format(mean))\n",
    "plt.grid(True)\n",
    "plt.show()"
   ]
  },
  {
   "cell_type": "markdown",
   "id": "ba99d5e8",
   "metadata": {},
   "source": [
    "To get average values we calculate the number of weeks for which we have data in our dataset and calculate the avarage number of rentals started within each weekday.\n",
    "\n",
    "IMPORTANT ASSUMPTION: The average values only provide meaningful results if we assume that we have all rental transactions that actually occurred included in our data set or at least equally distributed missing data points for each weekday. Otherwise the average values would provide misleading information. If we for example would have missing rental data for a specific weekday for several weeks, dividing by the total number of weeks would result to false average value for this weekday!"
   ]
  },
  {
   "cell_type": "code",
   "execution_count": null,
   "id": "e967f6c0",
   "metadata": {},
   "outputs": [],
   "source": [
    "#Check number of weeks we have in our set\n",
    "number_weeks = len(df[\"week\"].unique())\n",
    "number_weeks"
   ]
  },
  {
   "cell_type": "code",
   "execution_count": null,
   "id": "ee26c50e",
   "metadata": {},
   "outputs": [],
   "source": [
    "#Calculate average values per weekday\n",
    "df_average_per_weekday = df.groupby([\"weekday\"])[\"weekday\"].count().divide(number_weeks).reset_index(name=\"avg_number_started_rentals\")\n",
    "df_average_per_weekday"
   ]
  },
  {
   "cell_type": "code",
   "execution_count": null,
   "id": "8de42485",
   "metadata": {},
   "outputs": [],
   "source": [
    "#Calculate mean\n",
    "mean = df_average_per_weekday[\"avg_number_started_rentals\"].mean()\n",
    "mean"
   ]
  },
  {
   "cell_type": "code",
   "execution_count": null,
   "id": "20ae3bf6",
   "metadata": {},
   "outputs": [],
   "source": [
    "plt.bar(\n",
    "        df_average_per_weekday[\"weekday\"], \n",
    "        df_average_per_weekday[\"avg_number_started_rentals\"], \n",
    "        color=\"green\"\n",
    ")\n",
    "plt.axhline(mean, color=\"r\", linestyle=\"--\")\n",
    "plt.xlabel(\"Weekday\")\n",
    "plt.ylabel(\"Average Number of Rentals Started per Weekday\")\n",
    "plt.title(\"Development of Started Rentals During the Week\")\n",
    "min_xlim, max_xlim = plt.xlim()\n",
    "plt.text(min_xlim*(-0.1), mean*1.1, 'Mean: {:.2f}'.format(mean))\n",
    "plt.grid(True)\n",
    "plt.show()"
   ]
  },
  {
   "cell_type": "markdown",
   "id": "b8d02818",
   "metadata": {},
   "source": [
    "##### Analysis and Interpretation of Results:\n",
    "\n",
    "The Bike rental demand is the lowest at the weekends (Saturdays and Sundays). The demand these days is significantly below average. The demand on Mondays is slightly below the average. We have a peak demand on Wednesdays. This development can possibly be rooted in the fact that most people don't work/ go to school or university on the weekends. This could mean that a big share of people who use the bike rental service are people who are on their way to work, school, or university."
   ]
  },
  {
   "cell_type": "markdown",
   "id": "02e17c53",
   "metadata": {},
   "source": [
    "#### Analysis of Rental during the Year\n",
    "\n",
    "First count the started rentals for each month of the year for the whole dataset and vizualize it in a histogram.\n",
    "Average values can not be calculated since we only have data of one year."
   ]
  },
  {
   "cell_type": "code",
   "execution_count": null,
   "id": "fae7d38d",
   "metadata": {},
   "outputs": [],
   "source": [
    "#Calculate number of rentals per month\n",
    "df.groupby([\"month\"])[\"month\"].count().reset_index(name=\"n_of_retals_in_month\")"
   ]
  },
  {
   "cell_type": "code",
   "execution_count": null,
   "id": "8cbb2e3f",
   "metadata": {},
   "outputs": [],
   "source": [
    "#Calculate mean\n",
    "mean = df.groupby([\"month\"])[\"month\"].count().mean()\n",
    "mean"
   ]
  },
  {
   "cell_type": "code",
   "execution_count": null,
   "id": "e96afa29",
   "metadata": {},
   "outputs": [],
   "source": [
    "plt.hist(df[\"month\"], bins=range(0,14,1), color=\"green\")\n",
    "plt.axhline(mean, color=\"r\", linestyle=\"--\")\n",
    "plt.xlabel(\"Month\")\n",
    "plt.ylabel(\"Total Number of Rentals Started in Month\")\n",
    "plt.title(\"Development of Started Rentals during Month\")\n",
    "plt.xticks(range(1,13,1))\n",
    "min_xlim, max_xlim = plt.xlim()\n",
    "plt.text(min_xlim*(-0.1), mean*(1.06), \"Mean: {:.2f}\".format(mean))\n",
    "plt.grid(True)\n",
    "plt.show()"
   ]
  },
  {
   "cell_type": "code",
   "execution_count": null,
   "id": "f1874242",
   "metadata": {},
   "outputs": [],
   "source": [
    "df_weather = df_weather_2017\n",
    "df_weather[\"date\"] = df_weather[\"date_time\"].dt.date\n",
    "df_weather[\"hour\"] = df_weather[\"date_time\"].dt.hour\n",
    "\n",
    "#Join weather data with rental data and calculate average temperatures\n",
    "df_merge = pd.merge(df, df_weather, how=\"left\", left_on=[\"date\", \"hour\"], right_on=[\"date\", \"hour\"])\n",
    "df_merge[\"avg_temp\"] = df_merge[[\"max_temp\", \"min_temp\"]].mean(axis=\"columns\")"
   ]
  },
  {
   "cell_type": "code",
   "execution_count": null,
   "id": "02b289b4",
   "metadata": {},
   "outputs": [],
   "source": [
    "#Calculate average temperatures for each month\n",
    "df_temp_month = df_merge.groupby(\"month\")[\"avg_temp\"].mean().reset_index(name=\"avg_temp\")\n",
    "df_temp_month"
   ]
  },
  {
   "cell_type": "code",
   "execution_count": null,
   "id": "4595aa1c",
   "metadata": {},
   "outputs": [],
   "source": [
    "#Plot number of rentals together with average temperature\n",
    "#Red dots would be the average temperature for each month\n",
    "fig, ax1 = plt.subplots()\n",
    "ax2 = ax1.twinx()\n",
    "df_months = df.groupby([\"month\"])[\"month\"].count().reset_index(name=\"n_of_retals_in_month\")\n",
    "ax1.bar(df_months[\"month\"], df_months[\"n_of_retals_in_month\"], color=\"green\")\n",
    "ax1.set_ylabel(\"Total Number of Rentals Started in Month\")\n",
    "plt.title(\"Development of Started Rentals and Temperature\")\n",
    "plt.xticks(range(1,13,1))\n",
    "ax2.scatter(df_temp_month[\"month\"], df_temp_month[\"avg_temp\"], color=\"red\")\n",
    "ax2.set_ylabel(\"Average Temperature\")\n",
    "ax1.set_xlabel(\"Month\")\n",
    "plt.grid(True)\n",
    "plt.show()"
   ]
  },
  {
   "cell_type": "code",
   "execution_count": null,
   "id": "2967462b",
   "metadata": {},
   "outputs": [],
   "source": [
    "plt.scatter(df_temp_month[\"avg_temp\"], df_months[\"n_of_retals_in_month\"], color=\"red\")\n",
    "plt.xlabel(\"Average Temperature\")\n",
    "plt.ylabel(\"Bike Rental Demand\")\n",
    "plt.title(\"Development of Bike Rental Demand dependant on Average Temperature\")\n",
    "plt.grid(True)\n",
    "plt.show()"
   ]
  },
  {
   "cell_type": "markdown",
   "id": "c7760116",
   "metadata": {},
   "source": [
    "##### Analysis and Interpretation of the Results:\n",
    "\n",
    "The development of bike rental demand has similar development as the development of the average temperature during the year. \n",
    "The only difference can be seen at the peak. The average temperature has its peak in July whereas the bike rental demand has its peak in August. However, the difference in the bike rental demand in July and August is not that high. Another effect that could have an influence on the bike rental demand is the number of tourists. According to the annual report of Philadelphia, the number of tourists was the highest for the second and third quarters of the year (April to September). In these months the bike rental demand was always very close (April) or above the overall average of the bike rental demand. \n",
    "Especially for the month of December, January, February, and March the bike rental demand is clearly below the average.\n",
    "\n",
    "Development of the tourist numbers according to the annual report: \n",
    "- Q1: 7 million\n",
    "- Q2: 13.1 million\n",
    "- Q3: 13.1 million\n",
    "- Q4: 10.1 million"
   ]
  },
  {
   "cell_type": "markdown",
   "id": "afadb8bb",
   "metadata": {},
   "source": [
    "### Geographical Demand Patterns ##\n",
    "\n",
    "In this section, we look at which stations in Philadelphia are particularly popular and which are not due to the given dataset."
   ]
  },
  {
   "cell_type": "markdown",
   "id": "c3b3f70a",
   "metadata": {},
   "source": [
    "First step: reading data from the bikeshare dataset from Ride Indego Philadelphia."
   ]
  },
  {
   "cell_type": "code",
   "execution_count": null,
   "id": "8cb828b8",
   "metadata": {},
   "outputs": [],
   "source": [
    "df = df_philadelphia_cleaned.copy()"
   ]
  },
  {
   "cell_type": "code",
   "execution_count": null,
   "id": "75766617",
   "metadata": {},
   "outputs": [],
   "source": [
    "data = df[[\"start_station_id\", \"start_station_name\", \"end_station_id\", \"end_station_name\"]]\n",
    "data"
   ]
  },
  {
   "cell_type": "code",
   "execution_count": null,
   "id": "8a98325b",
   "metadata": {},
   "outputs": [],
   "source": [
    "data = df[[\"start_station_name\", \"end_station_name\"]]\n",
    "data"
   ]
  },
  {
   "cell_type": "markdown",
   "id": "19612e34",
   "metadata": {},
   "source": [
    "In the following we look at the stations where the ride was started and sort them in descending order of the number of rentals."
   ]
  },
  {
   "cell_type": "code",
   "execution_count": null,
   "id": "150ac752",
   "metadata": {},
   "outputs": [],
   "source": [
    "df.groupby([\"start_station_name\"])[\"start_station_name\"].count().reset_index(name = \"rentals_per_station\").sort_values(by=['rentals_per_station'], ascending=False)"
   ]
  },
  {
   "cell_type": "markdown",
   "id": "5d290ca0",
   "metadata": {},
   "source": [
    "Displaying only the five most popular start stations:"
   ]
  },
  {
   "cell_type": "code",
   "execution_count": null,
   "id": "c8b542c3",
   "metadata": {},
   "outputs": [],
   "source": [
    "df_most_popular = df.groupby([\"start_station_name\"])[\"start_station_name\"].count().reset_index(name = \"rentals_per_station\").sort_values(by=['rentals_per_station'], ascending=False).head()\n",
    "df_most_popular"
   ]
  },
  {
   "cell_type": "code",
   "execution_count": null,
   "id": "7d1fecad",
   "metadata": {},
   "outputs": [],
   "source": [
    "fig = plt.figure(figsize=(9,4))\n",
    "plt.bar(df_most_popular[\"start_station_name\"], df_most_popular[\"rentals_per_station\"])\n",
    "plt.rc('xtick', labelsize = 10)\n",
    "plt.rc('ytick', labelsize = 10)\n",
    "plt.xticks(rotation=45, ha='right')\n",
    "plt.xlabel(\"name of the station\", size = 'medium')\n",
    "plt.ylabel(\"number of rentals per station\", size = 'medium')\n",
    "plt.title(\"Top 5 most popular start stations\", size = 'x-large')\n",
    "plt.show()"
   ]
  },
  {
   "cell_type": "markdown",
   "id": "6c9cf3dc",
   "metadata": {},
   "source": [
    "Displaying only the five least popular start stations:"
   ]
  },
  {
   "cell_type": "code",
   "execution_count": null,
   "id": "17151186",
   "metadata": {},
   "outputs": [],
   "source": [
    "df_least_popular = df.groupby([\"start_station_name\"])[\"start_station_name\"].count().reset_index(name = \"rentals_per_station\").sort_values(by=['rentals_per_station'], ascending=False).tail()\n",
    "df_least_popular"
   ]
  },
  {
   "cell_type": "code",
   "execution_count": null,
   "id": "ce62139a",
   "metadata": {},
   "outputs": [],
   "source": [
    "fig = plt.figure(figsize=(9,4))\n",
    "plt.bar(df_least_popular[\"start_station_name\"], df_least_popular[\"rentals_per_station\"])\n",
    "plt.rc('xtick', labelsize = 10)\n",
    "plt.rc('ytick', labelsize = 10)\n",
    "plt.xticks(rotation=45, ha='right')\n",
    "plt.xlabel(\"name of the station\", size = 'medium')\n",
    "plt.ylabel(\"number of rentals per station\", size = 'medium')\n",
    "plt.title(\"Top 5 least popular start stations\", size = 'x-large')\n",
    "plt.show()"
   ]
  },
  {
   "cell_type": "markdown",
   "id": "ecd2ffa6",
   "metadata": {},
   "source": [
    "In the following we look at the stations where the ride was terminated and sort them in descending order of the number of rentals."
   ]
  },
  {
   "cell_type": "code",
   "execution_count": null,
   "id": "b69b5f9d",
   "metadata": {},
   "outputs": [],
   "source": [
    "df.groupby([\"end_station_name\"])[\"end_station_name\"].count().reset_index(name = \"rentals_per_station\").sort_values(by=['rentals_per_station'], ascending=False)"
   ]
  },
  {
   "cell_type": "markdown",
   "id": "cb9d9d3c",
   "metadata": {},
   "source": [
    "Displaying only the five most popular end stations:"
   ]
  },
  {
   "cell_type": "code",
   "execution_count": null,
   "id": "8e5d32dd",
   "metadata": {},
   "outputs": [],
   "source": [
    "df_most_popular_end = df.groupby([\"end_station_name\"])[\"end_station_name\"].count().reset_index(name = \"rentals_per_station\").sort_values(by=['rentals_per_station'], ascending=False).head()\n",
    "df_most_popular_end"
   ]
  },
  {
   "cell_type": "code",
   "execution_count": null,
   "id": "ceef189c",
   "metadata": {},
   "outputs": [],
   "source": [
    "fig = plt.figure(figsize=(9,4))\n",
    "plt.bar(df_most_popular_end[\"end_station_name\"], df_most_popular_end[\"rentals_per_station\"])\n",
    "plt.rc('xtick', labelsize = 10)\n",
    "plt.rc('ytick', labelsize = 10)\n",
    "plt.xticks(rotation=45, ha='right')\n",
    "plt.xlabel(\"name of the station\", size = 'medium')\n",
    "plt.ylabel(\"number of rentals per station\", size = 'medium')\n",
    "plt.title(\"Top 5 most popular end stations\", size = 'x-large')\n",
    "plt.show()"
   ]
  },
  {
   "cell_type": "markdown",
   "id": "a932d44a",
   "metadata": {},
   "source": [
    "Displaying only the five least popular end stations:"
   ]
  },
  {
   "cell_type": "code",
   "execution_count": null,
   "id": "8cbdaea7",
   "metadata": {},
   "outputs": [],
   "source": [
    "df_least_popular_end = df.groupby([\"end_station_name\"])[\"end_station_name\"].count().reset_index(name = \"rentals_per_station\").sort_values(by=['rentals_per_station'], ascending=False).tail()\n",
    "df_least_popular_end"
   ]
  },
  {
   "cell_type": "code",
   "execution_count": null,
   "id": "ca0c6dc5",
   "metadata": {},
   "outputs": [],
   "source": [
    "df_least_popular_end = df_least_popular_end.replace(['39th & Mt. Vernon, Mantua Haverford Community Center', '40th & Baltimore, Trolley Portal'], ['39th & Mt. Vernon', '40th & Baltimore'])\n",
    "print(df_least_popular_end)"
   ]
  },
  {
   "cell_type": "code",
   "execution_count": null,
   "id": "a4a8e27c",
   "metadata": {},
   "outputs": [],
   "source": [
    "fig = plt.figure(figsize=(9,4))\n",
    "plt.bar(df_least_popular_end[\"end_station_name\"], df_least_popular_end[\"rentals_per_station\"])\n",
    "plt.rc('xtick', labelsize = 10)\n",
    "plt.rc('ytick', labelsize = 10)\n",
    "plt.xticks(rotation=45, ha='right')\n",
    "plt.xlabel(\"name of the station\", size = 'medium')\n",
    "plt.ylabel(\"number of rentals per station\", size = 'medium')\n",
    "plt.title(\"Top 5 least popular end stations\", size = 'x-large')\n",
    "plt.show()"
   ]
  },
  {
   "cell_type": "markdown",
   "id": "36d0fd32",
   "metadata": {},
   "source": [
    "#### Analysis of the results:\n",
    "\n",
    "After looking at the top 5 most popular and top 5 least popular start and end stations, it is especially noticeable that the five most popular start stations are also the five most popular end stations in Philadelphia. Apparently, there is a high demand for renting bikes between these stations. According to Google Maps these stations are located in the center of the city and are no more than 1.6 miles apart from each other. This shows, that the bicycles are mainly used for short distances in the city center."
   ]
  },
  {
   "cell_type": "markdown",
   "id": "ff205a95",
   "metadata": {},
   "source": [
    "### Key Performance Indicators (KPIs)"
   ]
  },
  {
   "cell_type": "markdown",
   "id": "b82a58e2",
   "metadata": {},
   "source": [
    "#### Coverage"
   ]
  },
  {
   "cell_type": "markdown",
   "id": "b8865efd",
   "metadata": {},
   "source": [
    "In the next part we use the geographical coordinates of the original dataset from the indego website."
   ]
  },
  {
   "cell_type": "markdown",
   "id": "656217e6",
   "metadata": {},
   "source": [
    "First of all we create a dataframe where we group the rows by the start station and the corresponding coordinates. Furthermore we aggregate the rows into a new column \"counts\"."
   ]
  },
  {
   "cell_type": "code",
   "execution_count": null,
   "id": "6e187e80",
   "metadata": {},
   "outputs": [],
   "source": [
    "phil_groupedby_start = df_philadelphia_cleaned.groupby([ 'start_station_name', 'start_lat', 'start_lon']).size().reset_index(name='counts')\n",
    "\n",
    "phil_groupedby_start"
   ]
  },
  {
   "cell_type": "markdown",
   "id": "bacf31eb",
   "metadata": {},
   "source": [
    "We plot the number of trips per start station. For visualizing which stations stations have the most demand. For this we use circle markers to visualize each station. Bigger circle markers indicate more rented bikes for the corresponding station and clicking on a specific marker reveals additional information like the specific trip count and the station name."
   ]
  },
  {
   "cell_type": "code",
   "execution_count": null,
   "id": "7e0bb414",
   "metadata": {
    "scrolled": false
   },
   "outputs": [],
   "source": [
    "figure_start_station = Figure(width=950,height=900) \n",
    "map_start_station = folium.Map(dragging=True,zoom_control=True, control_scale=True, max_zoom=18, min_zoom=13,scrollWheelZoom=False,doubleClickZoom=False, width=900,height=800)\n",
    "for index, row in phil_groupedby_start.iterrows():\n",
    "    iframe = folium.IFrame(f\"Station name: {row['start_station_name']} <br> Trips per station :  {row['counts']}\", width=250, height=70)\n",
    "    popup = folium.Popup(iframe)\n",
    "    folium.Circle([row['start_lat'], row['start_lon']], radius=math.sqrt(row['counts']), color='red', fill_color='orange', fill_opacity=0.3, popup=popup).add_to(map_start_station)\n",
    "south_west_b = phil_groupedby_start[['start_lat', 'start_lon']].min().values.tolist()\n",
    "north_east_b = phil_groupedby_start[['start_lat', 'start_lon']].max().values.tolist()\n",
    "map_start_station.fit_bounds([south_west_b, north_east_b])\n",
    "figure_start_station.add_child(map_start_station)\n",
    "title = '''<h3 align=\"center\" style=\"font-size:16px\"><b>{}</b></h3>\n",
    "             '''.format(\"Number of trips per start station\")   \n",
    "map_start_station.get_root().html.add_child(folium.Element(title))\n",
    "figure_start_station"
   ]
  },
  {
   "cell_type": "markdown",
   "id": "a042e319",
   "metadata": {},
   "source": [
    "As we can see most bikes are rented in stations near the center of philadelphia like \"18th & JFK\", \"Rittenhouse Square\" and \"15th & Market\" but also near main roads like the stations \"15th & Spruce\", \"Rodin Museum\" and \"23rd & South\". More possibilities why some stations could be more used are hotspots like Museums for example the \"Rodin Museum\" or the \"Philadelphia Museum of Art\"."
   ]
  },
  {
   "cell_type": "markdown",
   "id": "bc66e00d",
   "metadata": {},
   "source": [
    "Now we do the same procedure for the end stations, first grouping them like in the previous steps."
   ]
  },
  {
   "cell_type": "code",
   "execution_count": null,
   "id": "04855d31",
   "metadata": {},
   "outputs": [],
   "source": [
    "phil_groupedby_end = df_philadelphia_cleaned.groupby([ 'end_station_name', 'end_lat', 'end_lon']).size().reset_index(name='counts')\n",
    "\n",
    "phil_groupedby_end"
   ]
  },
  {
   "cell_type": "code",
   "execution_count": null,
   "id": "78333cba",
   "metadata": {
    "scrolled": false
   },
   "outputs": [],
   "source": [
    "figure_end_station = Figure(width=950,height=900) \n",
    "map_end_station = folium.Map(dragging=True,zoom_control=True, control_scale=True, max_zoom=18, min_zoom=13,scrollWheelZoom=False,doubleClickZoom=False, width=900,height=800)\n",
    "for index, row in phil_groupedby_end.iterrows():\n",
    "    iframe = folium.IFrame(f\"Station name: {row['end_station_name']} <br> Trips per station :  {row['counts']}\", width=250, height=70)\n",
    "    popup = folium.Popup(iframe)\n",
    "    folium.Circle([row['end_lat'], row['end_lon']], radius=math.sqrt(row['counts']), color='red', fill_color='orange', fill_opacity=0.3, popup=popup).add_to(map_end_station)\n",
    "south_west_b = phil_groupedby_end[['end_lat', 'end_lon']].min().values.tolist()\n",
    "north_east_b = phil_groupedby_end[['end_lat', 'end_lon']].max().values.tolist()\n",
    "map_end_station.fit_bounds([south_west_b, north_east_b])\n",
    "figure_end_station.add_child(map_end_station)\n",
    "title = '''<h3 align=\"center\" style=\"font-size:16px\"><b>{}</b></h3>\n",
    "             '''.format(\"Trips per end station\")   \n",
    "map_end_station.get_root().html.add_child(folium.Element(title))\n",
    "figure_end_station"
   ]
  },
  {
   "cell_type": "markdown",
   "id": "432511b6",
   "metadata": {},
   "source": [
    "As we can see the overall pattern stays the same. In the center of the city are the more popular stations and going further away from the center are the least popular stations. The least popular stations could be combined with other stations near it to save maintainance costs spacing the stations out the farther they are away from the center of philadelphia."
   ]
  },
  {
   "cell_type": "markdown",
   "id": "3b9ad5fa",
   "metadata": {},
   "source": [
    "It is also interesting to see how much the stations cover the area of philadelphia. Therefore we loaded Geojson data of the philadelphia neighborhoods and their borders to visualize which parts of philadelphia are covered by the stations."
   ]
  },
  {
   "cell_type": "code",
   "execution_count": null,
   "id": "2836dc24",
   "metadata": {
    "scrolled": false
   },
   "outputs": [],
   "source": [
    "figure_end_station = Figure(width=950,height=900) \n",
    "map_with_geoJson = folium.Map(location=[39.96,-75.18],dragging=True,zoom_start=12,zoom_control=True, control_scale=True, max_zoom=18, min_zoom=12,scrollWheelZoom=False,doubleClickZoom=False, width=900,height=800)\n",
    "folium.GeoJson(data=\"data/Neighborhoods_Philadelphia.geojson\").add_to(map_with_geoJson)\n",
    "\n",
    "for index, row in phil_groupedby_end.iterrows():\n",
    "    iframe = folium.IFrame(f\"Station name: {row['end_station_name']} <br> Trips per station :  {row['counts']}\", width=250, height=70)\n",
    "    popup = folium.Popup(iframe)\n",
    "    folium.Circle([row['end_lat'], row['end_lon']], radius=math.sqrt(row['counts']), color='red', fill_color='orange', fill_opacity=0.3, popup=popup).add_to(map_with_geoJson)\n",
    "\n",
    "south_west_b = phil_groupedby_end[['end_lat', 'end_lon']].min().values.tolist()\n",
    "north_east_b = phil_groupedby_end[['end_lat', 'end_lon']].max().values.tolist()\n",
    "figure_end_station.add_child(map_with_geoJson)\n",
    "title = '''<h3 align=\"center\" style=\"font-size:16px\"><b>{}</b></h3>\n",
    "             '''.format(\"Trips per end station with philadelphia neighborhood\")   \n",
    "map_with_geoJson.get_root().html.add_child(folium.Element(title))\n",
    "figure_end_station"
   ]
  },
  {
   "cell_type": "markdown",
   "id": "2da75684",
   "metadata": {},
   "source": [
    "As we can see, mostly the center is covered by the stations and the part of south philadelphia nearest to the center. This makes sense because the center has the most demand but if the demand rises with each year it could be worth adding stations near other hotspots and farther from the center."
   ]
  },
  {
   "cell_type": "markdown",
   "id": "da6030f0",
   "metadata": {},
   "source": [
    "Furthermore we can plot the demand per hour for the start station and end stations."
   ]
  },
  {
   "cell_type": "code",
   "execution_count": null,
   "id": "6c32ba5c",
   "metadata": {
    "scrolled": false
   },
   "outputs": [],
   "source": [
    "grouped_by_start_station_hour = df_philadelphia_cleaned.groupby(['start_station_name', 'start_lat', 'start_lon', 'hour']).size().reset_index(name='counts')\n",
    "fig = px.scatter_mapbox(grouped_by_start_station_hour, lat=\"start_lat\", lon=\"start_lon\", animation_frame=\"hour\", \n",
    "                        size= \"counts\",size_max= 28,opacity=0.8, animation_group='start_station_name',\n",
    "                        zoom=12.3, height=1000, width=900, hover_name=\"start_station_name\",\n",
    "                        hover_data=[\"start_lat\", \"start_lon\"], title='Trips per start station for each hour')\n",
    "fig.update_geos(center=dict(lon=-75.14, lat=39.96))\n",
    "fig.update_layout(mapbox_style=\"carto-positron\")\n",
    "fig.update_layout(\n",
    "    title={\n",
    "        'y':0.95,\n",
    "        'x':0.5,\n",
    "        'xanchor': 'center',\n",
    "        'yanchor': 'top'},\n",
    "    font=dict(\n",
    "            size=18\n",
    "        ))\n",
    "fig"
   ]
  },
  {
   "cell_type": "markdown",
   "id": "2dc8cb06",
   "metadata": {},
   "source": [
    "As we can see between 8:00 AM and 9:00 AM the majority of trips start outside of the center. One reason could be that the majority rents a bike to go to work or that most people live outside of the center. It is also interesting to mention that at 17:00 PM the majority of the trips start in the center or near the center. This also supports the assumption that many people use the bikes for going to work and back home from work because 17:00 PM is around the time where work ends for most people. Further research in comparing work hours and the geographical patterns could lead to more insights."
   ]
  },
  {
   "cell_type": "code",
   "execution_count": null,
   "id": "9d3d1b5b",
   "metadata": {
    "scrolled": false
   },
   "outputs": [],
   "source": [
    "grouped_by_end_station_hour = df_philadelphia_cleaned.groupby(['end_station_name', 'end_lat', 'end_lon', 'hour']).size().reset_index(name='counts')\n",
    "fig = px.scatter_mapbox(grouped_by_end_station_hour, lat=\"end_lat\", lon=\"end_lon\", animation_frame=\"hour\", \n",
    "                        size= \"counts\",size_max= 27,opacity=0.8, animation_group='end_station_name',\n",
    "                        zoom=12.3, height=1000, width=900, hover_name=\"end_station_name\",\n",
    "                        hover_data=[\"end_lat\", \"end_lon\"], title='Trips per end station for each hour')\n",
    "fig.update_geos(center=dict(lon=-75.14, lat=39.96))\n",
    "fig.update_layout(mapbox_style=\"carto-positron\")\n",
    "fig.update_layout(\n",
    "    title={\n",
    "        'y':0.95,\n",
    "        'x':0.5,\n",
    "        'xanchor': 'center',\n",
    "        'yanchor': 'top'},\n",
    "    font=dict(\n",
    "            size=18\n",
    "        ))\n",
    "fig"
   ]
  },
  {
   "cell_type": "markdown",
   "id": "32223768",
   "metadata": {},
   "source": [
    "Look at the hourly trips per end station we can see this time that between 8:00 AM and 9:00 AM most trips end near the center instead of outside like for the start stations. Like wise for 17:00 PM less trips end in the center and more trips end outside of it."
   ]
  },
  {
   "cell_type": "markdown",
   "id": "59cbbd31",
   "metadata": {},
   "source": [
    "In the following we also plotted the trips per start station and end station for each month. This could be useful for observing if new stations are used sufficiently."
   ]
  },
  {
   "cell_type": "code",
   "execution_count": null,
   "id": "6d64b564",
   "metadata": {
    "scrolled": false
   },
   "outputs": [],
   "source": [
    "grouped_by_start_station_month = df_philadelphia_cleaned.groupby(['start_station_name', 'start_lat', 'start_lon', 'month']).size().reset_index(name='counts')\n",
    "fig = px.scatter_mapbox(grouped_by_start_station_month, lat=\"start_lat\", lon=\"start_lon\", animation_frame=\"month\", \n",
    "                        size= \"counts\",size_max= 25,opacity=0.8, animation_group='start_station_name',\n",
    "                        zoom=12.3, height=1000, width=900, hover_name=\"start_station_name\",\n",
    "                        hover_data=[\"start_lat\", \"start_lon\"], title='Trips per start station for each month')\n",
    "fig.update_geos(center=dict(lon=-75.14, lat=39.96))\n",
    "fig.update_layout(mapbox_style=\"carto-positron\")\n",
    "fig.update_layout(\n",
    "    title={\n",
    "        'y':0.95,\n",
    "        'x':0.5,\n",
    "        'xanchor': 'center',\n",
    "        'yanchor': 'top'},\n",
    "    font=dict(\n",
    "            size=18\n",
    "        ))\n",
    "fig"
   ]
  },
  {
   "cell_type": "code",
   "execution_count": null,
   "id": "45faa4d1",
   "metadata": {},
   "outputs": [],
   "source": [
    "grouped_by_end_station_month = df_philadelphia_cleaned.groupby(['end_station_name', 'end_lat', 'end_lon', 'month']).size().reset_index(name='counts')\n",
    "fig = px.scatter_mapbox(grouped_by_end_station_month, lat=\"end_lat\", lon=\"end_lon\", animation_frame=\"month\", \n",
    "                        size= \"counts\",size_max= 25,opacity=0.8, animation_group='end_station_name',\n",
    "                        zoom=12.3, height=1000, width=900, hover_name=\"end_station_name\",\n",
    "                        hover_data=[\"end_lat\", \"end_lon\"], title='Trips per end station for each month')\n",
    "fig.update_geos(center=dict(lon=-75.14, lat=39.96))\n",
    "fig.update_layout(mapbox_style=\"carto-positron\")\n",
    "fig.update_layout(\n",
    "    title={\n",
    "        'y':0.95,\n",
    "        'x':0.5,\n",
    "        'xanchor': 'center',\n",
    "        'yanchor': 'top'},\n",
    "    font=dict(\n",
    "            size=18\n",
    "        ))\n",
    "fig"
   ]
  },
  {
   "cell_type": "markdown",
   "id": "a555e617",
   "metadata": {},
   "source": [
    "We could problably get further insights on the utilizations and the coverage for each station like which stations are overloaded with bikes or which stations have no bikes available if the station data existed in hourly steps for 2017. With the live data on the [indego website](https://www.rideindego.com/about/data/) which contains all of these informations this could be possible if it existed for previous years."
   ]
  },
  {
   "cell_type": "markdown",
   "id": "a145c841",
   "metadata": {},
   "source": [
    "#### Rental Durations"
   ]
  },
  {
   "cell_type": "markdown",
   "id": "781e81a9",
   "metadata": {},
   "source": [
    "Rental durations are closely tied to revenue because the revenue model of the bike sharing company is based on the rental time/ duration thus its relevant to observe the rental duration to get information on the company's performance."
   ]
  },
  {
   "cell_type": "code",
   "execution_count": null,
   "id": "4e232bc9",
   "metadata": {
    "scrolled": true
   },
   "outputs": [],
   "source": [
    "#Calculate the sum of rental durations for each month\n",
    "#Calculate the average rental duration per rental for each month\n",
    "df = df_philadelphia_cleaned\n",
    "df_duration_monthly = df.groupby(\"month\")[\"trip_duration\"].sum().reset_index(name=\"sum_duration_bike_rentals\")\n",
    "df_duration_monthly[\"duration_in_hours\"] = df_duration_monthly[\"sum_duration_bike_rentals\"].dt.total_seconds().divide(60*60)\n",
    "df_duration_monthly[\"duration_in_minutes\"] = df_duration_monthly[\"sum_duration_bike_rentals\"].dt.total_seconds().divide(60)\n",
    "df_duration_monthly[\"number_of_rentals\"] = df.groupby(\"month\")[\"month\"].count().reset_index(drop=True)\n",
    "df_duration_monthly[\"avg_duration_per_rental_in_min\"] = df_duration_monthly[\"duration_in_minutes\"] / df_duration_monthly[\"number_of_rentals\"]\n",
    "df_duration_monthly"
   ]
  },
  {
   "cell_type": "code",
   "execution_count": null,
   "id": "f4cb4b5d",
   "metadata": {},
   "outputs": [],
   "source": [
    "#Vizualize development of summed durations\n",
    "plt.bar(df_duration_monthly[\"month\"],\n",
    "       df_duration_monthly[\"duration_in_hours\"],\n",
    "       color=\"green\")\n",
    "plt.grid(True)\n",
    "plt.xticks(range(1,13,1))\n",
    "plt.xlabel(\"Months\")\n",
    "plt.ylabel(\"Sum of Rental Durations\")\n",
    "plt.title(\"Development of the Summed Rental Durations\")\n",
    "plt.show()"
   ]
  },
  {
   "cell_type": "code",
   "execution_count": null,
   "id": "934151ed",
   "metadata": {},
   "outputs": [],
   "source": [
    "#Vizualize development of average durations for each month\n",
    "plt.bar(df_duration_monthly[\"month\"],\n",
    "       df_duration_monthly[\"avg_duration_per_rental_in_min\"],\n",
    "       color=\"green\")\n",
    "plt.grid(True)\n",
    "plt.xticks(range(1,13,1))\n",
    "plt.xlabel(\"Months\")\n",
    "plt.ylabel(\"Avg Duration per Rental in min\")\n",
    "plt.title(\"Development of Average Rental Duration\")\n",
    "plt.show()"
   ]
  },
  {
   "cell_type": "code",
   "execution_count": null,
   "id": "265f1f8e",
   "metadata": {},
   "outputs": [],
   "source": [
    "#Calculate the sum of rental durations for each week\n",
    "#Calculate the average rental duration per rental for each week\n",
    "df_duration_weekly = df.groupby(\"week\")[\"trip_duration\"].sum().reset_index(name=\"sum_duration_bike_rentals\")\n",
    "df_duration_weekly[\"duration_in_hours\"] = df_duration_weekly[\"sum_duration_bike_rentals\"].dt.total_seconds().divide(60*60)\n",
    "df_duration_weekly[\"duration_in_minutes\"] = df_duration_weekly[\"sum_duration_bike_rentals\"].dt.total_seconds().divide(60)\n",
    "df_duration_weekly[\"number_of_rentals\"] = df.groupby(\"week\")[\"week\"].count().reset_index(drop=True)\n",
    "df_duration_weekly[\"avg_duration_per_rental_in_min\"] = df_duration_weekly[\"duration_in_minutes\"] / df_duration_weekly[\"number_of_rentals\"]\n",
    "df_duration_weekly.head()"
   ]
  },
  {
   "cell_type": "code",
   "execution_count": null,
   "id": "7b5b8179",
   "metadata": {},
   "outputs": [],
   "source": [
    "#Vizualize development of summed durations\n",
    "plt.rcParams[\"figure.figsize\"] = (20,8)\n",
    "plt.plot(df_duration_weekly[\"week\"],\n",
    "       df_duration_weekly[\"duration_in_hours\"],\n",
    "       color=\"green\")\n",
    "plt.grid(True)\n",
    "plt.xticks(range(1,53,1))\n",
    "plt.xlabel(\"Weeks\")\n",
    "plt.ylabel(\"Sum of Rental Durations\")\n",
    "plt.title(\"Development of the Summed Rental Durations\")\n",
    "plt.show()"
   ]
  },
  {
   "cell_type": "code",
   "execution_count": null,
   "id": "154e840c",
   "metadata": {
    "scrolled": false
   },
   "outputs": [],
   "source": [
    "#Vizualize development of average durations for each week\n",
    "plt.plot(df_duration_weekly[\"week\"],\n",
    "       df_duration_weekly[\"avg_duration_per_rental_in_min\"],\n",
    "       color=\"green\")\n",
    "plt.grid(True)\n",
    "plt.xticks(range(1,53,1))\n",
    "plt.xlabel(\"Weeks\")\n",
    "plt.ylabel(\"Average of Rental Durations\")\n",
    "plt.title(\"Development of the Average Rental Durations\")\n",
    "plt.show()"
   ]
  },
  {
   "cell_type": "markdown",
   "id": "257b8957",
   "metadata": {},
   "source": [
    "##### Interpretation of the Results\n",
    "\n",
    "- The summed rental durations have a similar development as the summed number of rentals \n",
    "- Our bikes are more used in the summer months especially from June to October\n",
    "- This can be seen in the monthly as well as the weekly aggregation \n",
    "- The average rental duration per ride lies between 15 and 22 minutes with the average rental duration being especially high from April to July"
   ]
  },
  {
   "cell_type": "markdown",
   "id": "c484366f",
   "metadata": {},
   "source": [
    "##### Rental Duration Dependant on Weather"
   ]
  },
  {
   "cell_type": "code",
   "execution_count": null,
   "id": "d256dee0",
   "metadata": {},
   "outputs": [],
   "source": [
    "df_weather = df_weather_2017\n",
    "df_weather[\"date\"] = df_weather[\"date_time\"].dt.date\n",
    "df_weather[\"hour\"] = df_weather[\"date_time\"].dt.hour\n",
    "\n",
    "#Join weather data with rental data and calculate average temperatures\n",
    "df_merge = pd.merge(df, df_weather, how=\"left\", left_on=[\"date\", \"hour\"], right_on=[\"date\", \"hour\"])\n",
    "df_merge[\"avg_temp\"] = df_merge[[\"max_temp\", \"min_temp\"]].mean(axis=\"columns\")"
   ]
  },
  {
   "cell_type": "code",
   "execution_count": null,
   "id": "bb0343e6",
   "metadata": {
    "scrolled": true
   },
   "outputs": [],
   "source": [
    "df_duration_daily = df_merge.groupby(\"date\").agg({\"trip_duration\": lambda x: x.sum(), \n",
    "                                                  \"precip\": lambda x: x.sum(), \n",
    "                                                  \"avg_temp\": lambda x: x.mean()})\n",
    "df_duration_daily[\"duration_in_hours\"] = df_duration_daily[\"trip_duration\"].dt.total_seconds().divide(60*60)\n",
    "df_duration_daily[\"duration_in_minutes\"] = df_duration_daily[\"trip_duration\"].dt.total_seconds().divide(60)\n",
    "df_duration_daily[\"number_of_rentals\"] = df.groupby(\"date\")[\"date\"].count()\n",
    "df_duration_daily[\"avg_duration_per_rental_in_min\"] = df_duration_daily[\"duration_in_minutes\"] / df_duration_daily[\"number_of_rentals\"]\n",
    "df_duration_daily_precip = df_duration_daily[df_duration_daily[\"precip\"] > 0]\n",
    "df_duration_daily_no_precip = df_duration_daily[df_duration_daily[\"precip\"] == 0]\n",
    "df_duration_daily"
   ]
  },
  {
   "cell_type": "code",
   "execution_count": null,
   "id": "445bdf3a",
   "metadata": {},
   "outputs": [],
   "source": [
    "#Calculate average summed rental duration per day\n",
    "avg_summed_duration_precip = df_duration_daily_precip[\"duration_in_hours\"].mean()\n",
    "avg_summed_duration_no_precip = df_duration_daily_no_precip[\"duration_in_hours\"].mean()\n",
    "print(f\"{avg_summed_duration_precip= }\\n{avg_summed_duration_no_precip= }\")"
   ]
  },
  {
   "cell_type": "code",
   "execution_count": null,
   "id": "7fe23852",
   "metadata": {
    "scrolled": true
   },
   "outputs": [],
   "source": [
    "#Calculate average rental duration per rental\n",
    "avg_duration_per_rental_precip = df_duration_daily_precip[\"avg_duration_per_rental_in_min\"].mean()\n",
    "avg_duration_per_rental_no_precip = df_duration_daily_no_precip[\"avg_duration_per_rental_in_min\"].mean()\n",
    "print(f\"{avg_duration_per_rental_precip= }\\n{avg_duration_per_rental_no_precip= }\")"
   ]
  },
  {
   "cell_type": "code",
   "execution_count": null,
   "id": "13c4abda",
   "metadata": {},
   "outputs": [],
   "source": [
    "#Calculate average rental duration and average summed rental duration per day dependen on temperature\n",
    "df_duration_daily[\"temp_bin\"] = pd.cut(df_duration_daily.avg_temp, 10)\n",
    "df_temp_bins = df_duration_daily.groupby(\"temp_bin\").agg({\"duration_in_hours\": lambda x: x.mean(), \n",
    "                                          \"avg_duration_per_rental_in_min\": lambda x: x.mean()}).reset_index()\n",
    "df_temp_bins[\"temp_bin\"] = df_temp_bins[\"temp_bin\"].astype(str)\n",
    "df_temp_bins"
   ]
  },
  {
   "cell_type": "code",
   "execution_count": null,
   "id": "8e4016ff",
   "metadata": {},
   "outputs": [],
   "source": [
    "plt.rcParams[\"figure.figsize\"] = (20,8)\n",
    "plt.bar(df_temp_bins[\"temp_bin\"], df_temp_bins[\"duration_in_hours\"], color=\"green\")\n",
    "plt.xlabel(\"Temperature\")\n",
    "plt.ylabel(\"Average Summed Trip Durations per Day in Hours\")\n",
    "plt.title(\"Development of Average Summed Trip Durations per Day Dependent on Temperature\")\n",
    "plt.grid(True)\n",
    "plt.show()"
   ]
  },
  {
   "cell_type": "code",
   "execution_count": null,
   "id": "c163e2df",
   "metadata": {},
   "outputs": [],
   "source": [
    "plt.bar(df_temp_bins[\"temp_bin\"], df_temp_bins[\"avg_duration_per_rental_in_min\"], color=\"green\")\n",
    "plt.xlabel(\"Temperature\")\n",
    "plt.ylabel(\"Average Trip Duration in Minutes\")\n",
    "plt.title(\"Development of Average Trip Durations Dependent on Temperature\")\n",
    "plt.grid(True)\n",
    "plt.rcParams[\"figure.figsize\"] = plt.rcParamsDefault[\"figure.figsize\"]\n",
    "plt.show()"
   ]
  },
  {
   "cell_type": "markdown",
   "id": "b52afb31",
   "metadata": {},
   "source": [
    "##### Interpretation of the Results\n",
    "\n",
    "- When additionally taking weather data into account, we can observe that the average summed rental durations per day are lower on days with precipitation. This is also the case for the average rental duration per day\n",
    "- Besides that, the average summed rental durations per day also increase with the increase of the temperature\n",
    "- With the average rental duration per trip we only slightly see this effect (there is not a continuous increase and not a very extreme one as with summed rental durations)"
   ]
  },
  {
   "cell_type": "markdown",
   "id": "c1070cfd",
   "metadata": {},
   "source": [
    "#### Bike Utilization"
   ]
  },
  {
   "cell_type": "markdown",
   "id": "4cbcbdbb",
   "metadata": {},
   "source": [
    "Bike utilization gives us information on how much the different bikes are used.\n",
    "This information is relevant to get information about possible unutilized /unused bikes which are maybe actually not needed (unused ressources/capacitiy).\n",
    "Moreover we analyse how many unique bikes at which time and at which weather condition."
   ]
  },
  {
   "cell_type": "code",
   "execution_count": null,
   "id": "32e485a2",
   "metadata": {},
   "outputs": [],
   "source": [
    "#approximate how many individual bikes there are (we have no information about total number of bikes)\n",
    "number_of_bikes = len(df[\"bike_id\"].unique())\n",
    "total_number_of_rentals = len(df) # each row is a rental\n",
    "print(f\"{number_of_bikes=}, {total_number_of_rentals=}\")"
   ]
  },
  {
   "cell_type": "code",
   "execution_count": null,
   "id": "2b71a916",
   "metadata": {},
   "outputs": [],
   "source": [
    "#Calculate total number of rides for each bike over the whole year\n",
    "df_bike_ride_count = df.groupby(\"bike_id\")[\"start_time\"].count().reset_index(name=\"total_number_of_rides\").sort_values(by=\"total_number_of_rides\", ascending=False).reset_index(drop=True)\n",
    "df_bike_ride_count[\"cumulative_ride_count\"] = df_bike_ride_count[\"total_number_of_rides\"].cumsum()\n",
    "df_bike_ride_count[\"percentage_number_of_bikes\"] = df_bike_ride_count.index.to_series().add(1).divide(number_of_bikes)\n",
    "df_bike_ride_count[\"percentage_ride_count\"] = df_bike_ride_count[\"cumulative_ride_count\"].divide(total_number_of_rentals)\n",
    "df_bike_ride_count"
   ]
  },
  {
   "cell_type": "code",
   "execution_count": null,
   "id": "927a0078",
   "metadata": {},
   "outputs": [],
   "source": [
    "plt.rcParams[\"figure.figsize\"] = (10,5)\n",
    "plt.plot(df_bike_ride_count.index.to_series(), df_bike_ride_count[\"total_number_of_rides\"], color=\"green\")\n",
    "plt.grid(True)\n",
    "plt.ylabel(\"Total Number of Rides\")\n",
    "plt.xlabel(\"Bike Count\")\n",
    "plt.title(\"Total Number of Rides per Bike\")\n",
    "plt.show()"
   ]
  },
  {
   "cell_type": "code",
   "execution_count": null,
   "id": "42d4bfa2",
   "metadata": {},
   "outputs": [],
   "source": [
    "plt.plot(df_bike_ride_count.index.to_series(), df_bike_ride_count[\"cumulative_ride_count\"], color=\"green\")\n",
    "plt.grid(True)\n",
    "plt.xlabel(\"Bike Count\")\n",
    "plt.ylabel(\"Number of Rentals\")\n",
    "plt.title(\"Cumulative Number of Rentals\")\n",
    "plt.show()"
   ]
  },
  {
   "cell_type": "code",
   "execution_count": null,
   "id": "2e03c6c1",
   "metadata": {},
   "outputs": [],
   "source": [
    "plt.plot(df_bike_ride_count[\"percentage_number_of_bikes\"], df_bike_ride_count[\"percentage_ride_count\"], \n",
    "         color=\"green\")\n",
    "plt.grid(True)\n",
    "plt.xlabel(\"Number of Bikes in Percent\")\n",
    "plt.ylabel(\"Number of Rentals in Percent\")\n",
    "plt.title(\"Number of Bikes and Rentals in Percent\")\n",
    "plt.show()"
   ]
  },
  {
   "cell_type": "code",
   "execution_count": null,
   "id": "35cc9d2a",
   "metadata": {},
   "outputs": [],
   "source": [
    "#Utilization by month\n",
    "df_util_month = df.groupby(\"month\")[\"bike_id\"].nunique().reset_index(name=\"number_of_bikes_used\")\n",
    "df_util_month[\"utilization\"] = df_util_month[\"number_of_bikes_used\"].divide(number_of_bikes)\n",
    "df_util_month"
   ]
  },
  {
   "cell_type": "code",
   "execution_count": null,
   "id": "d245cea9",
   "metadata": {},
   "outputs": [],
   "source": [
    "plt.bar(df_util_month[\"month\"], df_util_month[\"number_of_bikes_used\"], color=\"green\")\n",
    "plt.xlabel(\"Months\")\n",
    "plt.ylabel(\"Number of Used Bikes\")\n",
    "plt.title(\"Utilization of Bikes per Month\")\n",
    "plt.grid(True)\n",
    "plt.show()"
   ]
  },
  {
   "cell_type": "code",
   "execution_count": null,
   "id": "b2dddde2",
   "metadata": {},
   "outputs": [],
   "source": [
    "plt.bar(df_util_month[\"month\"], df_util_month[\"utilization\"], color=\"green\")\n",
    "plt.xlabel(\"Months\")\n",
    "plt.ylabel(\"Utilization in Percent\")\n",
    "plt.title(\"Utilization of Bikes per Month\")\n",
    "plt.grid(True)\n",
    "plt.show()"
   ]
  },
  {
   "cell_type": "markdown",
   "id": "106ce7aa",
   "metadata": {},
   "source": [
    "It seems that our initial assumption of the total number of bikes could be untrue for the different months.\n",
    "It could be possible that bikes are added in some months. For example in Mai there is an sudden increase of the bike utilization. \n",
    "We will check it in the following steps."
   ]
  },
  {
   "cell_type": "code",
   "execution_count": null,
   "id": "be4d772a",
   "metadata": {},
   "outputs": [],
   "source": [
    "set(df[df[\"month\"]==5][\"bike_id\"].unique()) - set(df[df[\"month\"]==4][\"bike_id\"].unique())"
   ]
  },
  {
   "cell_type": "markdown",
   "id": "6b45c10a",
   "metadata": {},
   "source": [
    " It seems that bikes above 11700 are added in Mai."
   ]
  },
  {
   "cell_type": "code",
   "execution_count": null,
   "id": "26e23184",
   "metadata": {},
   "outputs": [],
   "source": [
    "#Check for bikes with BikeID above 11700 for months 1 to 4\n",
    "for i in range(1,5):\n",
    "    print((df[df[\"month\"]==i][\"bike_id\"] > 11700).any())"
   ]
  },
  {
   "cell_type": "code",
   "execution_count": null,
   "id": "b5972496",
   "metadata": {},
   "outputs": [],
   "source": [
    "#Get the highest BikeID for each month\n",
    "df.groupby(\"month\")[\"bike_id\"].max()"
   ]
  },
  {
   "cell_type": "code",
   "execution_count": null,
   "id": "309699d8",
   "metadata": {},
   "outputs": [],
   "source": [
    "#Weekly values\n",
    "df_bike_count_weekly = df.groupby(\"week\")[\"bike_id\"].nunique().reset_index(name=\"number_of_bikes\")"
   ]
  },
  {
   "cell_type": "code",
   "execution_count": null,
   "id": "a25d8a1d",
   "metadata": {},
   "outputs": [],
   "source": [
    "plt.plot(df_bike_count_weekly[\"week\"], df_bike_count_weekly[\"number_of_bikes\"], color=\"green\")\n",
    "plt.xlabel(\"Week\")\n",
    "plt.ylabel(\"Number of Used Bikes\")\n",
    "plt.title(\"Number of Used Bikes per Week\")\n",
    "plt.xticks(range(0,53,2))\n",
    "plt.grid(True)\n",
    "plt.show()"
   ]
  },
  {
   "cell_type": "code",
   "execution_count": null,
   "id": "499c83d9",
   "metadata": {},
   "outputs": [],
   "source": [
    "#Daily values\n",
    "df_bike_count_daily = df.groupby([\"date\"])[\"bike_id\"].nunique().reset_index(name=\"number_of_bikes\")\n",
    "df_bike_count_daily"
   ]
  },
  {
   "cell_type": "code",
   "execution_count": null,
   "id": "02a8abdb",
   "metadata": {},
   "outputs": [],
   "source": [
    "plt.rcParams[\"figure.figsize\"] = (16,8)\n",
    "plt.plot(df_bike_count_daily[\"date\"], df_bike_count_daily[\"number_of_bikes\"], color=\"green\")\n",
    "plt.grid(True)\n",
    "plt.yticks(range(0,1000,100))\n",
    "plt.xlabel(\"Day\")\n",
    "plt.ylabel(\"Number of Bikes\")\n",
    "plt.title(\"Number of Bikes Used per Day\")\n",
    "plt.rcParams[\"figure.figsize\"] = plt.rcParamsDefault[\"figure.figsize\"]\n",
    "plt.show()"
   ]
  },
  {
   "cell_type": "code",
   "execution_count": null,
   "id": "488c8cee",
   "metadata": {},
   "outputs": [],
   "source": [
    "#Average bike utilization by weekday\n",
    "df_bike_count_daily[\"date\"] = pd.to_datetime(df_bike_count_daily[\"date\"])\n",
    "df_bike_count_daily[\"weekday\"] = df_bike_count_daily[\"date\"].dt.weekday\n",
    "df_weekday = df_bike_count_daily.groupby(\"weekday\")[\"number_of_bikes\"].mean().reset_index(name=\"avg_n_bikes\")\n",
    "df_weekday"
   ]
  },
  {
   "cell_type": "code",
   "execution_count": null,
   "id": "289c872a",
   "metadata": {},
   "outputs": [],
   "source": [
    "plt.bar(df_weekday[\"weekday\"], df_weekday[\"avg_n_bikes\"], color=\"green\")\n",
    "plt.xlabel(\"Weekday\")\n",
    "plt.ylabel(\"Number of Bikes\")\n",
    "plt.title(\"Average Number of Bikes per Weekday\")\n",
    "plt.grid(True)\n",
    "plt.show()"
   ]
  },
  {
   "cell_type": "code",
   "execution_count": null,
   "id": "c51a9b79",
   "metadata": {},
   "outputs": [],
   "source": [
    "#Average bike utilization by hour of day\n",
    "df_bike_count_hourly = df.groupby([\"date\", \"hour\"])[\"bike_id\"].nunique().reset_index(name=\"number_of_bikes\")\n",
    "df_hour_of_day = df_bike_count_hourly.groupby(\"hour\")[\"number_of_bikes\"].mean().reset_index(name=\"avg_n_bikes\")\n",
    "df_hour_of_day"
   ]
  },
  {
   "cell_type": "code",
   "execution_count": null,
   "id": "43e0809e",
   "metadata": {},
   "outputs": [],
   "source": [
    "plt.bar(df_hour_of_day[\"hour\"], df_hour_of_day[\"avg_n_bikes\"], color=\"green\")\n",
    "plt.xlabel(\"Hour\")\n",
    "plt.ylabel(\"Number of Bikes\")\n",
    "plt.title(\"Average Number of Used Bikes per Hour\")\n",
    "plt.xticks(range(0,24,1))\n",
    "plt.grid(True)\n",
    "plt.show()"
   ]
  },
  {
   "cell_type": "markdown",
   "id": "ce988d6e",
   "metadata": {},
   "source": [
    "##### Interpretation of the Results\n",
    "\n",
    "- We approximated which number of total bikes there could be in the fleet \n",
    "- We  found a total of 1249 individual bikes in the data set \n",
    "- However, there are likely bikes added over time, since some bikeID's (especially higher ones) only occur starting at a certain month in the year\n",
    "- This fact has to be considered when analyzing the results\n",
    "\n",
    "- When analyzing the utilization of the individual bikes we can observe that only a few bikes (about five) are used significantly more than the others. And about two hundred bikes are used less than most bikes. But for most bikes, as seen in the graph the utilization does not vary too much. Besides that, because some bikes are likely to be added over time, it makes sense that these bikes were not used as much as the rest of the bikes.\n",
    "\n",
    "- The bike utilization per month (considering a total number of bikes of 1249) shows that it was likely that bikes were added for example in Mai. Since we can see a sudden increase in the utilization (in the months before the utilization was quite the same)\n",
    "\n",
    "- When analyzing the average number of bikes used per weekday it becomes clear that there are on average more bikes used during the week than during the weekends. Similar to the development of the number of rides.\n",
    "- The development during the day also shows similar results to the development of the number of rides. We have clear peaks at 8 am and 5 pm."
   ]
  },
  {
   "cell_type": "markdown",
   "id": "efe0708c",
   "metadata": {},
   "source": [
    "##### Bike Utilization Dependent on Weather"
   ]
  },
  {
   "cell_type": "code",
   "execution_count": null,
   "id": "d1137467",
   "metadata": {},
   "outputs": [],
   "source": [
    "#Calculate average number of bikes used on hour with precipitation vs. one with none\n",
    "df_hourly = df_merge.groupby([\"date\", \"hour\"]).agg({\"bike_id\": lambda x: x.nunique(), \n",
    "                                                    \"precip\": lambda x: x.sum(),\n",
    "                                                   \"avg_temp\": lambda x: x.mean()})\n",
    "df_hourly = df_hourly.rename(columns={\"bike_id\": \"n_bikes_used\"})\n",
    "df_no_precip_hourly = df_hourly[df_hourly[\"precip\"] == 0]\n",
    "df_precip_hourly = df_hourly[df_hourly[\"precip\"] > 0]\n",
    "print(f\"with precip: {df_precip_hourly['n_bikes_used'].mean()} avg bikes used per hour\\nwithout: {df_no_precip_hourly['n_bikes_used'].mean()} avg bikes used per hour\")"
   ]
  },
  {
   "cell_type": "code",
   "execution_count": null,
   "id": "ca39ff3c",
   "metadata": {},
   "outputs": [],
   "source": [
    "#Calculate average number of bikes used on hour dependent on temperature\n",
    "df_hourly[\"temp_bin\"] = pd.cut(df_hourly[\"avg_temp\"], 10)\n",
    "df_temp_bins_hourly = df_hourly.groupby(\"temp_bin\")[\"n_bikes_used\"].mean().reset_index(name=\"avg_n_bikes_per_hour\")\n",
    "df_temp_bins_hourly[\"temp_bin\"] = df_temp_bins_hourly[\"temp_bin\"].astype(str)\n",
    "df_temp_bins_hourly"
   ]
  },
  {
   "cell_type": "code",
   "execution_count": null,
   "id": "3aaa6f69",
   "metadata": {},
   "outputs": [],
   "source": [
    "plt.rcParams[\"figure.figsize\"] = (20,8)\n",
    "plt.bar(df_temp_bins_hourly[\"temp_bin\"], df_temp_bins_hourly[\"avg_n_bikes_per_hour\"], color=\"green\")\n",
    "plt.xlabel(\"Temperature\")\n",
    "plt.ylabel(\"Average Number of Bikes Used per Hour\")\n",
    "plt.title(\"Average Number of Bikes Used per Hour Dependant on Temperature\")\n",
    "plt.grid(True)\n",
    "plt.show()"
   ]
  },
  {
   "cell_type": "code",
   "execution_count": null,
   "id": "5cddbb4a",
   "metadata": {},
   "outputs": [],
   "source": [
    "#Calculate average number of bikes used on day with precipitation vs. one with none\n",
    "df_daily = df_merge.groupby(\"date\").agg({\"bike_id\": lambda x: x.nunique(), \n",
    "                                         \"precip\": lambda x: x.sum(),\n",
    "                                         \"avg_temp\": lambda x: x.mean()})\n",
    "df_daily = df_daily.rename(columns={\"bike_id\": \"n_bikes_used\"})\n",
    "df_no_precip_daily = df_daily[df_daily[\"precip\"] == 0]\n",
    "df_precip_daily = df_daily[df_daily[\"precip\"] > 0]\n",
    "print(f\"with precip: {df_precip_daily['n_bikes_used'].mean()} avg bikes used per day\\nwithout: {df_no_precip_daily['n_bikes_used'].mean()} avg bikes used per day\")"
   ]
  },
  {
   "cell_type": "code",
   "execution_count": null,
   "id": "f20c58ee",
   "metadata": {},
   "outputs": [],
   "source": [
    "#Calculate average number of bikes used on day dependent on temperature\n",
    "df_daily[\"temp_bin\"] = pd.cut(df_daily[\"avg_temp\"], 10)\n",
    "df_daily"
   ]
  },
  {
   "cell_type": "code",
   "execution_count": null,
   "id": "882fb48c",
   "metadata": {},
   "outputs": [],
   "source": [
    "df_temp_bins = df_daily.groupby(\"temp_bin\")[\"n_bikes_used\"].mean().reset_index(name=\"avg_n_bikes_per_day\")\n",
    "df_temp_bins[\"temp_bin\"] = df_temp_bins[\"temp_bin\"].astype(str)\n",
    "df_temp_bins"
   ]
  },
  {
   "cell_type": "code",
   "execution_count": null,
   "id": "b996407f",
   "metadata": {},
   "outputs": [],
   "source": [
    "plt.bar(df_temp_bins[\"temp_bin\"], df_temp_bins[\"avg_n_bikes_per_day\"], color=\"green\")\n",
    "plt.xlabel(\"Temperature\")\n",
    "plt.ylabel(\"Average Number of Bikes Used per Day\")\n",
    "plt.title(\"Average Number of Bikes Used per Day Dependant on Temperature\")\n",
    "plt.grid(True)\n",
    "plt.show()"
   ]
  },
  {
   "cell_type": "markdown",
   "id": "509ddb02",
   "metadata": {},
   "source": [
    "##### Interpretation of the Results\n",
    "\n",
    "The average number of bikes used per hour is lower when precipitationis recorded. Besides that, we see a steady increase in the average number of bikes used per hour with the increase in the temperature. This is also the case for the average number of bikes used per day."
   ]
  },
  {
   "cell_type": "markdown",
   "id": "2302cc34",
   "metadata": {},
   "source": [
    "#### Revenue\n",
    "\n",
    "For this KPI we will calculate the revenue for every trip based on the given user_type. We can not calculate the revenue per user,\n",
    "since we do not have any information about specific users in our dataset. Beforehand an analysis on the user_type`s themselves was \n",
    "done, to gain a deeper understanding of those."
   ]
  },
  {
   "cell_type": "markdown",
   "id": "afacfe97",
   "metadata": {},
   "source": [
    "First we look into the total distribution of rides by user types visualized by a pie chart."
   ]
  },
  {
   "cell_type": "code",
   "execution_count": null,
   "id": "c0f37433",
   "metadata": {},
   "outputs": [],
   "source": [
    "# Count all rides per user type and sort descending\n",
    "df_philadelphia_cleaned.groupby([\"user_type\"])[\"user_type\"].count().reset_index(name = \"n_rides\").sort_values(by=['n_rides'], ascending=False)"
   ]
  },
  {
   "cell_type": "code",
   "execution_count": null,
   "id": "2de91fec",
   "metadata": {},
   "outputs": [],
   "source": [
    "# Put data into Series to visualize as Pie Chart\n",
    "slices = [662593, 99043, 6787, 6236, 5972, 1594]\n",
    "user_types = ['Indego30','Walk-up', 'Indego365', 'OneDayPass', 'IndegoFlex', 'TwoDayPass']\n",
    "cols = ['b','r','c','g', 'orange', 'magenta']"
   ]
  },
  {
   "cell_type": "code",
   "execution_count": null,
   "id": "76468a49",
   "metadata": {},
   "outputs": [],
   "source": [
    "# Create pie chart\n",
    "fig = plt.figure(figsize=(15,15))\n",
    "plt.pie(slices,\n",
    "labels = user_types,\n",
    "labeldistance = 1,\n",
    "pctdistance = 0.9,\n",
    "colors = cols,\n",
    "startangle = 0,\n",
    "shadow = True,\n",
    "explode =(0.1,0,0,0,0,0),\n",
    "autopct ='%1.1f%%',\n",
    "textprops={'fontsize': 16})\n",
    "plt.title('Total Number of Rides by User Type', fontsize=20)\n",
    "plt.legend(fontsize=12)\n",
    "\n",
    "# Print the chart\n",
    "plt.show()"
   ]
  },
  {
   "cell_type": "markdown",
   "id": "20d4e2ae",
   "metadata": {},
   "source": [
    "Now we will look at the trip duration for every user type."
   ]
  },
  {
   "cell_type": "code",
   "execution_count": null,
   "id": "cee620d2",
   "metadata": {},
   "outputs": [],
   "source": [
    "# Preparing new dataframe with only trip_duration (converted to minutes) and the user_type\n",
    "df_phil_rentDuration = df_philadelphia_cleaned[['trip_duration', 'user_type']].copy(deep=True)\n",
    "df_phil_rentDuration.loc[:, 'trip_duration'] = df_phil_rentDuration['trip_duration'].dt.seconds / 60\n",
    "df_phil_rentDuration.rename(columns={'trip_duration': 'trip_duration in minutes'}, inplace=True)\n",
    "df_phil_rentDuration['trip_duration in minutes'] = df_phil_rentDuration['trip_duration in minutes'].astype(int)\n",
    "# The dataset from above needs to be resetted, so it doesnt need to be done here!!!!!!!!!!!!!!!!!!!!!!!!!!!!!!!!!!!!!!!!!\n",
    "df_phil_rentDuration.reset_index(drop = True, inplace = True)\n",
    "\n",
    "# Final dataframe\n",
    "df_phil_rentDuration"
   ]
  },
  {
   "cell_type": "code",
   "execution_count": null,
   "id": "4b05534b",
   "metadata": {},
   "outputs": [],
   "source": [
    "# Group by on the user_type to find out the trip_duration for every user_type\n",
    "df_phil_rentDuration = df_phil_rentDuration.groupby(['user_type']).sum().reset_index()\n",
    "\n",
    "# Every user_type devided by the total amount of trip_duration\n",
    "df_phil_rentDuration['percentage of trip_duration in minutes'] = df_phil_rentDuration['trip_duration in minutes'] / df_phil_rentDuration['trip_duration in minutes'].sum()\n",
    "df_phil_rentDuration"
   ]
  },
  {
   "cell_type": "code",
   "execution_count": null,
   "id": "b5c76ab6",
   "metadata": {},
   "outputs": [],
   "source": [
    "# Plotting\n",
    "fig = plt.figure(figsize=(12,7))\n",
    "plt.bar(df_phil_rentDuration['user_type'], df_phil_rentDuration['percentage of trip_duration in minutes'])\n",
    "\n",
    "# Styling the plot\n",
    "plt.rc('xtick', labelsize = 10)\n",
    "plt.rc('ytick', labelsize = 10)\n",
    "plt.xlabel('Specific user types', size = 'medium')\n",
    "plt.ylabel('Trip duration in minutes', size = 'medium')\n",
    "plt.title('Trip duration of specific user types', size = 'x-large')\n",
    "plt.show()"
   ]
  },
  {
   "cell_type": "markdown",
   "id": "f40dcf44",
   "metadata": {},
   "source": [
    "Next we take a look at monthly development of rides by user types to look for any seasonal patterns:"
   ]
  },
  {
   "cell_type": "code",
   "execution_count": null,
   "id": "6bf3df58",
   "metadata": {},
   "outputs": [],
   "source": [
    "# Create Dataframe grouped by User types and months\n",
    "df_months_usertype = df_philadelphia_cleaned.groupby(['month','user_type'])[\"user_type\"].count().reset_index(name = \"n_rides\").sort_values(by=['month'], ascending=True)\n",
    "\n",
    "# Split Dataframe into multiple Dataframes for each usertype\n",
    "df_months_indego30 = df_months_usertype[df_months_usertype['user_type'] == \"Indego30\"]\n",
    "df_months_indego365 = df_months_usertype[df_months_usertype['user_type'] == \"Indego365\"]\n",
    "df_months_indegoflex = df_months_usertype[df_months_usertype['user_type'] == \"IndegoFlex\"]\n",
    "df_months_walkup = df_months_usertype[df_months_usertype['user_type'] == \"Walk-up\"]\n",
    "df_months_onedaypass = df_months_usertype[df_months_usertype['user_type'] == \"One Day Pass\"]\n",
    "df_months_twodaypass = df_months_usertype[df_months_usertype['user_type'] == \"Two Day Pass\"]"
   ]
  },
  {
   "cell_type": "code",
   "execution_count": null,
   "id": "50b341b7",
   "metadata": {},
   "outputs": [],
   "source": [
    "# Create Bar Chart for monthly rides with Indego30\n",
    "fig = plt.figure(figsize=(9,4))\n",
    "plt.bar(df_months_indego30[\"month\"], df_months_indego30[\"n_rides\"], color = 'blue')\n",
    "plt.xticks(range(1,13))\n",
    "plt.rc('ytick', labelsize = 10)\n",
    "plt.xlabel(\"month\", size = 'medium')\n",
    "plt.ylabel(\"number of rentals\", size = 'medium')\n",
    "plt.title(\"Indego 30 rentals per month\", size = 'x-large')\n",
    "plt.show()"
   ]
  },
  {
   "cell_type": "code",
   "execution_count": null,
   "id": "49c15b19",
   "metadata": {},
   "outputs": [],
   "source": [
    "# Create Bar Chart for monthly rides with Walk-Up\n",
    "fig = plt.figure(figsize=(9,4))\n",
    "plt.bar(df_months_walkup[\"month\"], df_months_walkup[\"n_rides\"], color = 'red')\n",
    "plt.xticks(range(1,13))\n",
    "plt.rc('ytick', labelsize = 10)\n",
    "plt.xlabel(\"month\", size = 'medium')\n",
    "plt.ylabel(\"number of rentals\", size = 'medium')\n",
    "plt.title(\"Walk-up rentals per month\", size = 'x-large')\n",
    "plt.show()"
   ]
  },
  {
   "cell_type": "code",
   "execution_count": null,
   "id": "11c7d562",
   "metadata": {},
   "outputs": [],
   "source": [
    "# Create Bar Chart for monthly rides with Indego 365\n",
    "fig = plt.figure(figsize=(9,4))\n",
    "plt.bar(df_months_indego365[\"month\"], df_months_indego365[\"n_rides\"], color = 'c')\n",
    "plt.xticks(range(1,13))\n",
    "plt.rc('ytick', labelsize = 10)\n",
    "plt.xlabel(\"month\", size = 'medium')\n",
    "plt.ylabel(\"number of rentals\", size = 'medium')\n",
    "plt.title(\"Indego 365 rentals per month\", size = 'x-large')\n",
    "plt.show()"
   ]
  },
  {
   "cell_type": "code",
   "execution_count": null,
   "id": "eccd0f26",
   "metadata": {},
   "outputs": [],
   "source": [
    "# Create Bar Chart for monthly rides with One Day Pass\n",
    "fig = plt.figure(figsize=(9,4))\n",
    "plt.bar(df_months_onedaypass[\"month\"], df_months_onedaypass[\"n_rides\"], color = 'g')\n",
    "plt.xticks(range(1,13))\n",
    "plt.rc('ytick', labelsize = 10)\n",
    "plt.xlabel(\"month\", size = 'medium')\n",
    "plt.ylabel(\"number of rentals\", size = 'medium')\n",
    "plt.title(\"One Day Pass rentals per month\", size = 'x-large')\n",
    "plt.show()"
   ]
  },
  {
   "cell_type": "code",
   "execution_count": null,
   "id": "a559c344",
   "metadata": {},
   "outputs": [],
   "source": [
    "# Create Bar Chart for monthly rides with Two Day Pass\n",
    "fig = plt.figure(figsize=(9,4))\n",
    "plt.bar(df_months_twodaypass[\"month\"], df_months_twodaypass[\"n_rides\"], color = 'black')\n",
    "plt.xticks(range(1,13))\n",
    "plt.rc('ytick', labelsize = 10)\n",
    "plt.xlabel(\"month\", size = 'medium')\n",
    "plt.ylabel(\"number of rentals\", size = 'medium')\n",
    "plt.title(\"Two Day Pass rentals per month\", size = 'x-large')\n",
    "plt.show()"
   ]
  },
  {
   "cell_type": "code",
   "execution_count": null,
   "id": "288d2271",
   "metadata": {},
   "outputs": [],
   "source": [
    "# Create Bar Chart for monthly rides with Indego Flex\n",
    "fig = plt.figure(figsize=(9,4))\n",
    "plt.bar(df_months_indegoflex[\"month\"], df_months_indegoflex[\"n_rides\"], color = 'orange')\n",
    "plt.xticks(range(1,13))\n",
    "plt.rc('ytick', labelsize = 10)\n",
    "plt.xlabel(\"month\", size = 'medium')\n",
    "plt.ylabel(\"number of rentals\", size = 'medium')\n",
    "plt.title(\"Indego Flex rentals per month\", size = 'x-large')\n",
    "plt.show()"
   ]
  },
  {
   "cell_type": "markdown",
   "id": "7c32f63a",
   "metadata": {},
   "source": [
    "#### Analysis and Interpretation of the User Type Analysis:\n",
    "The plots above all show that we the vast majority of rides (roughly 85%) are made using the Indego30 option, which is a monthly subscription. This target audience should therefore be always be a special focus. The second largest portion is attributed to spontaneous Walk-up rides which make up around 12,5%. The other are very minor compared to the monthly subscription services making up only around 2,5% of the total rides.\n",
    "<br><br>Another result to note is that, the seasonality has a effect on the usage of the different payment models. Especially the One Day Pass is comparetively to other months  popular during the summer. It can be assumed that this can be accounted to the increase in tourism during those months.\n",
    "<br><br>The Two Day Pass is a special case as it was seemingly only offered in the month of August in 2017. The significant lower number of rides with the One Day Pass can also be explained with the popularity of the Two Day Pass in this month. \n",
    "<br><br>The annual subscription model Indigo 365 was seeminlgy only introduced in October, but is already a popular choice even rivaling the monthly subscription model Indigo30 for the number of rides in December.\n",
    "<br><br>Overall, we see a similiar monthly development for the options Indigo30, IndegoFlex and Walk-up, which were available throughout the year. Based on these results you could increase the marketing of some of the offers to either improve the usage or possibly stop some offers with low customer acceptance, like IndegoFlex."
   ]
  },
  {
   "cell_type": "markdown",
   "id": "777eb2aa",
   "metadata": {},
   "source": [
    "#### Now the actual revenue analysis starts!"
   ]
  },
  {
   "cell_type": "code",
   "execution_count": null,
   "id": "6861b653",
   "metadata": {},
   "outputs": [],
   "source": [
    "# Prepare new dataframe for calculating the revenue\n",
    "df_phil_revenue = df_philadelphia_cleaned[['end_time', 'trip_duration', 'user_type', 'weekday']].copy(deep=True)\n",
    "df_phil_revenue.loc[:, 'trip_duration'] = df_phil_revenue['trip_duration'].dt.seconds / 60\n",
    "df_phil_revenue.rename(columns={'trip_duration': 'trip_duration_in_minutes'}, inplace=True)\n",
    "# Since we have full minutes without any remainder we can convert the trip_duration in minutes to int\n",
    "df_phil_revenue['trip_duration_in_minutes'] = df_phil_revenue['trip_duration_in_minutes'].astype(int)\n",
    "# The dataset from above needs to be resetted, so it doesnt need to be done here!!!!!!!!!!!!!!!!!!!!!!!!!!!!!!!!!!!!!!!!!\n",
    "df_phil_revenue.reset_index(drop = True, inplace =True)\n",
    "df_phil_revenue"
   ]
  },
  {
   "cell_type": "markdown",
   "id": "5bef0594",
   "metadata": {},
   "source": [
    "Prices for the specific \"user_type\" in our dataframe were found through the help of the Wayback Machine in 2017:\n",
    "- Walk-up: $4 per 30 minutes\n",
    "- IndegoFlex: $4 per hour\n",
    "- One Day Pass: Unlimited 30 minute trips + $2 per 30 minutes for trips over 30 minutes\n",
    "- Two Day Pass: Unlimited 30 minute trips + $2 per 30 minutes for trips over 30 minutes\n",
    "- Indego365: Unlimited 1 hour trips + $4 per hour for trips over 1 hour\n",
    "- Indego30: Unlimited 1 hour trips + $4 per hour for trips over 1 hour\n",
    "\n",
    "Since we were not able to find any information regarding the \"Two Day Pass\", we assumed that the same pricing conditions apply from the \"One Day Pass\" to the \"Two Day Pass\"."
   ]
  },
  {
   "cell_type": "code",
   "execution_count": null,
   "id": "146b749a",
   "metadata": {},
   "outputs": [],
   "source": [
    "# Calculation of every user_type pricing condition and saving it in a new column called \"revenue_in_$\"\n",
    "for i in range(0, len(df_phil_revenue)):\n",
    "    # We need the duration and the user_type beforehand to determine the different pricing conditions \n",
    "    duration = df_phil_revenue.at[i, 'trip_duration_in_minutes']\n",
    "    price_type = df_phil_revenue.at[i, 'user_type']\n",
    "    if(price_type == 'Walk-up'):\n",
    "        df_phil_revenue.at[i, 'revenue_in_$'] = 4*(np.ceil((df_phil_revenue.at[i, 'trip_duration_in_minutes'])/30))\n",
    "    elif(price_type == 'IndegoFlex'):\n",
    "        df_phil_revenue.at[i, 'revenue_in_$'] = 4*(np.ceil((df_phil_revenue.at[i, 'trip_duration_in_minutes'])/60))\n",
    "    elif(price_type == 'One Day Pass' or price_type == 'Two Day Pass'):\n",
    "        # Since there are unlimited 30 minute trips, we can just give them 0$ revenue as a result\n",
    "        if(duration <= 30):\n",
    "            df_phil_revenue.at[i, 'revenue_in_$'] = 0\n",
    "        else:\n",
    "            # - 30 needs to be added to the calculation, so the first half an hour doesnt count in\n",
    "            df_phil_revenue.at[i, 'revenue_in_$'] = 2*(np.ceil((df_phil_revenue.at[i, 'trip_duration_in_minutes'] - 30)/30))\n",
    "    elif(price_type == 'Indego365' or price_type == 'Indego30'):\n",
    "        # Since there are unlimited 60 minute trips, we can just give them 0$ revenue as a result\n",
    "        if(duration <= 60):\n",
    "            df_phil_revenue.at[i, 'revenue_in_$'] = 0\n",
    "        else:\n",
    "            # - 60 needs to be added to the calculation, so the first hour doesnt count in\n",
    "            df_phil_revenue.at[i, 'revenue_in_$'] = 4*(np.ceil((df_phil_revenue.at[i, 'trip_duration_in_minutes'] - 60)/60))\n",
    "\n",
    "# Since we dont have any values with remainder, we can also convert the revenue into an int for convenience, and drop the trip duration\n",
    "df_phil_revenue['revenue_in_$'] = df_phil_revenue['revenue_in_$'].astype(int)\n",
    "df_phil_revenue.drop('trip_duration_in_minutes', axis = 1, inplace = True)"
   ]
  },
  {
   "cell_type": "code",
   "execution_count": null,
   "id": "9ef33cd8",
   "metadata": {},
   "outputs": [],
   "source": [
    "# Finished dataframe with all revenue calculations done\n",
    "df_phil_revenue"
   ]
  },
  {
   "cell_type": "code",
   "execution_count": null,
   "id": "f5010ef5",
   "metadata": {},
   "outputs": [],
   "source": [
    "# Creating a new dataframe for easier usage later on for the plots\n",
    "df_phil_revenue_plt = df_phil_revenue.copy()\n",
    "\n",
    "# Setting the end_time as our new index to resample \n",
    "df_phil_revenue_plt.sort_values(['end_time'], inplace = True)\n",
    "df_phil_revenue_plt.set_index('end_time', inplace = True)\n",
    "\n",
    "#Finished dataframe for plotting purposes\n",
    "df_phil_revenue_plt"
   ]
  },
  {
   "cell_type": "code",
   "execution_count": null,
   "id": "0f8d69c2",
   "metadata": {},
   "outputs": [],
   "source": [
    "# Plotting revenue per trip based on user type\n",
    "df_phil_revenue_type = df_phil_revenue_plt.copy()\n",
    "\n",
    "# Resample based on user_type and calculate the sum of each user_type\n",
    "df_phil_revenue_type = df_phil_revenue_type.groupby(['user_type']).sum().reset_index()\n",
    "\n",
    "# Plotting\n",
    "fig = plt.figure(figsize=(12,7))\n",
    "plt.bar(df_phil_revenue_type['user_type'], df_phil_revenue_type['revenue_in_$'])\n",
    "\n",
    "# Styling the plot\n",
    "plt.rc('xtick', labelsize = 10)\n",
    "plt.rc('ytick', labelsize = 10)\n",
    "plt.xlabel('Specific user types', size = 'medium')\n",
    "plt.ylabel('Revenue in $', size = 'medium')\n",
    "plt.title('Revenue per trip of specific user types', size = 'x-large')\n",
    "plt.show()"
   ]
  },
  {
   "cell_type": "markdown",
   "id": "0c99608d",
   "metadata": {},
   "source": [
    "The most income as seen in the plot above is created by the user_type \"Walk-up\", since this user_type also doesnt have any kind of free one hour or half an hour usage, like \"Indego30\" or \"Indego365\". The \"Two Day Pass\" was only availabe in the month of August, \"Indego365\" since the month of October and the \"One Day Pass\" since the month of June, hence why these three user_types have a relatively low revenue."
   ]
  },
  {
   "cell_type": "code",
   "execution_count": null,
   "id": "ab359770",
   "metadata": {},
   "outputs": [],
   "source": [
    "# Plotting the revenue for every month\n",
    "sns.set(style='whitegrid', palette='colorblind', rc={'lines.linewidth': 2})\n",
    "\n",
    "# Resampling the data to a monthly format\n",
    "df_phil_revenue_plt_monthly = df_phil_revenue_plt.resample('M').sum()\n",
    "df_phil_revenue_plt_monthly.index.rename('months', inplace=True)\n",
    "\n",
    "#Plotting \n",
    "fig, ax = plt.subplots(figsize = (12,7))\n",
    "plot_monthly = sns.lineplot(x = df_phil_revenue_plt_monthly.index, y = 'revenue_in_$', data = df_phil_revenue_plt_monthly)\n",
    "plt.title('Revenue per trip for every month')\n",
    "plt.show()"
   ]
  },
  {
   "cell_type": "code",
   "execution_count": null,
   "id": "db76b9a0",
   "metadata": {},
   "outputs": [],
   "source": [
    "# Plotting the revenue for every week\n",
    "sns.set(style='whitegrid', palette='colorblind', rc={'lines.linewidth': 2})\n",
    "\n",
    "# Resampling the data to a weekly format\n",
    "df_phil_revenue_plt_weekly = df_phil_revenue_plt.resample('W').sum()\n",
    "df_phil_revenue_plt_weekly.index.rename('weeks', inplace = True)\n",
    "\n",
    "#Plotting \n",
    "fig, ax = plt.subplots(figsize = (12,7))\n",
    "plot_monthly = sns.lineplot(x = df_phil_revenue_plt_weekly.index, y = 'revenue_in_$', data = df_phil_revenue_plt_weekly)\n",
    "plt.title('Revenue per trip for every week')\n",
    "plt.show()"
   ]
  },
  {
   "cell_type": "code",
   "execution_count": null,
   "id": "19b641a9",
   "metadata": {},
   "outputs": [],
   "source": [
    "# Plotting the normalized revenue for every week in comparisent to the temperature\n",
    "sns.set(style='whitegrid', palette='colorblind', rc={'lines.linewidth': 2})\n",
    "\n",
    "# Preparing weather data\n",
    "df_phil_revenue_weather = df_weather_2017.copy()\n",
    "df_phil_revenue_weather.drop('max_temp', axis = 1, inplace = True)\n",
    "df_phil_revenue_weather.drop('precip', axis = 1, inplace = True)\n",
    "df_phil_revenue_weather.set_index('date_time', inplace = True)\n",
    "df_phil_revenue_weather = df_phil_revenue_weather.resample('W').mean()\n",
    "\n",
    "# Normalizing data\n",
    "df_phil_revenue_plt_weekly['normalized_revenue_in_$'] = (df_phil_revenue_plt_weekly[['revenue_in_$']] - df_phil_revenue_plt_weekly[['revenue_in_$']].min(axis=0)) / (df_phil_revenue_plt_weekly[['revenue_in_$']].max(axis=0) - df_phil_revenue_plt_weekly[['revenue_in_$']].min(axis=0))\n",
    "df_phil_revenue_weather['normalized_min_temp'] = (df_phil_revenue_weather[['min_temp']] - df_phil_revenue_weather[['min_temp']].min(axis=0)) / (df_phil_revenue_weather[['min_temp']].max(axis=0) - df_phil_revenue_weather[['min_temp']].min(axis=0))\n",
    "\n",
    "#Plotting \n",
    "fig, ax = plt.subplots(figsize = (12,7))\n",
    "plot_monthly = sns.lineplot(x = df_phil_revenue_plt_weekly.index, y = 'normalized_revenue_in_$', data = df_phil_revenue_plt_weekly)\n",
    "plot_temp = sns.lineplot(x = df_phil_revenue_weather.index, y = 'normalized_min_temp', data = df_phil_revenue_weather)\n",
    "ax.legend(['Revenue', 'Temperature'])\n",
    "plt.title('Normalized revenue per trip for every week compared to normalized temperature')\n",
    "plt.show()"
   ]
  },
  {
   "cell_type": "code",
   "execution_count": null,
   "id": "ba2c948f",
   "metadata": {},
   "outputs": [],
   "source": [
    "# Plotting the revenue for every day\n",
    "sns.set(style='whitegrid', palette='colorblind', rc={'lines.linewidth': 2})\n",
    "\n",
    "# Resampling the data to daily format\n",
    "df_phil_revenue_plt_daily = df_phil_revenue_plt.resample('D').sum()\n",
    "df_phil_revenue_plt_daily.index.rename('days', inplace = True)\n",
    "\n",
    "#Plotting \n",
    "fig, ax = plt.subplots(figsize = (12,7))\n",
    "plot_monthly = sns.lineplot(x = df_phil_revenue_plt_daily.index, y = 'revenue_in_$', data = df_phil_revenue_plt_daily)\n",
    "plt.title('Revenue per trip for every day')\n",
    "plt.show()"
   ]
  },
  {
   "cell_type": "markdown",
   "id": "77b33761",
   "metadata": {},
   "source": [
    "With the seasons changing and therefore rising temperature towards summer and decreasing temperature afterwards, we see a trend of the revenue first rising until August and then starting to drastically decrease. The number of tourists could also have an impact on the rise of the revenue curve in quarter 2 and the decline after quarter 3, since quarter 2 and quarter 3 show the highest numbers of tourists (as seen in the development of bike rental demand)."
   ]
  },
  {
   "cell_type": "code",
   "execution_count": null,
   "id": "80430c9d",
   "metadata": {},
   "outputs": [],
   "source": [
    "# Plotting revenue based on weekday\n",
    "df_phil_revenue_plt_weekday = df_phil_revenue_plt.copy()\n",
    "\n",
    "# Data needs to be grouped by weekday and replaced with their corresponding weekday name\n",
    "df_phil_revenue_plt_weekday = df_phil_revenue_plt_weekday.groupby(['weekday']).sum(numeric_only=True).reset_index()\n",
    "df_phil_revenue_plt_weekday['weekday'].replace([0,1,2,3,4,5,6], ['Monday', 'Tuesday', 'Wednesday', 'Thursday', 'Friday', 'Saturday', 'Sunday'], inplace=True)\n",
    "\n",
    "# Plotting\n",
    "fig = plt.figure(figsize=(12,7))\n",
    "plt.bar(df_phil_revenue_plt_weekday['weekday'], df_phil_revenue_plt_weekday['revenue_in_$'])\n",
    "\n",
    "# Styling the plot\n",
    "plt.rc('xtick', labelsize = 10)\n",
    "plt.rc('ytick', labelsize = 10)\n",
    "plt.xlabel('weekdays', size = 'medium')\n",
    "plt.ylabel('revenue in $', size = 'medium')\n",
    "plt.title('Distribution of revenue per trip over the specific weekdays', size = 'x-large')\n",
    "plt.show()"
   ]
  },
  {
   "cell_type": "markdown",
   "id": "651fc8cb",
   "metadata": {},
   "source": [
    "The weekend seems to be the time where the biggest amount of revenue is produced. Most of these people probably do not use the service very often, so they do not have any subscription model and most likely use the \"Walk-up\", which could explain the big jump from friday to saturday in revenue. The highest peak is at sunday. However the number of rides/rentals are higher from Monday to Friday (during the week). This leads us to the assumption, that most people who have a subscription are people who use the bike rental to get to work/university/school. "
   ]
  }
 ],
 "metadata": {
  "kernelspec": {
   "display_name": "Python 3",
   "language": "python",
   "name": "python3"
  },
  "language_info": {
   "codemirror_mode": {
    "name": "ipython",
    "version": 3
   },
   "file_extension": ".py",
   "mimetype": "text/x-python",
   "name": "python",
   "nbconvert_exporter": "python",
   "pygments_lexer": "ipython3",
   "version": "3.8.5"
  },
  "nbdime-conflicts": {
   "local_diff": [
    {
     "diff": [
      {
       "diff": [
        {
         "key": 0,
         "op": "addrange",
         "valuelist": [
          "3.8.5"
         ]
        },
        {
         "key": 0,
         "length": 1,
         "op": "removerange"
        }
       ],
       "key": "version",
       "op": "patch"
      }
     ],
     "key": "language_info",
     "op": "patch"
    }
   ],
   "remote_diff": [
    {
     "diff": [
      {
       "diff": [
        {
         "key": 0,
         "op": "addrange",
         "valuelist": [
          "3.9.4 (tags/v3.9.4:1f2e308, Apr  4 2021, 13:27:16) [MSC v.1928 64 bit (AMD64)]"
         ]
        },
        {
         "key": 0,
         "length": 1,
         "op": "removerange"
        }
       ],
       "key": "version",
       "op": "patch"
      }
     ],
     "key": "language_info",
     "op": "patch"
    }
   ]
  },
  "vscode": {
   "interpreter": {
    "hash": "81794d4967e6c3204c66dcd87b604927b115b27c00565d3d43f05ba2f3a2cb0d"
   }
  }
 },
 "nbformat": 4,
 "nbformat_minor": 5
}
