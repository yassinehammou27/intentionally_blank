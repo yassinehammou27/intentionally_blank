{
 "cells": [
  {
   "cell_type": "markdown",
   "id": "18f8b5b5",
   "metadata": {},
   "source": [
    "# Team Assignment - Intentionally Blank"
   ]
  },
  {
   "attachments": {},
   "cell_type": "markdown",
   "id": "44bd10e4",
   "metadata": {},
   "source": [
    "The following libraries should be installed before proceeding further:\n",
    "- pandas\n",
    "- numpy"
   ]
  },
  {
   "cell_type": "code",
   "execution_count": 1,
   "id": "8ae33228",
   "metadata": {},
   "outputs": [],
   "source": [
    "#Import all necessary libraries\n",
    "\n",
    "import pandas as pd\n",
    "import numpy as np\n",
    "import matplotlib.pyplot as plt\n",
    "import seaborn as sns\n",
    "import haversine as hs\n",
    "from datetime import datetime\n",
    "from sklearn.cluster import KMeans\n",
    "from sklearn.preprocessing import StandardScaler\n",
    "import plotly.express as px\n",
    "import folium\n",
    "from folium import plugins\n",
    "from folium.plugins import HeatMap\n",
    "from branca.element import Figure"
   ]
  },
  {
   "attachments": {},
   "cell_type": "markdown",
   "id": "6e8001a5",
   "metadata": {},
   "source": [
    "In addition to the available datasets from the team assignment the original dataset is read for additional information about each ride. The additional information contains the geographical coordinates for the start position and the end position of each ride."
   ]
  },
  {
   "cell_type": "code",
   "execution_count": 2,
   "id": "fe29f9c6",
   "metadata": {},
   "outputs": [],
   "source": [
    "# Reading in weather and philadelphia_2017 data\n",
    "df_weather = pd.read_csv(\"data/weather_hourly_philadelphia.csv\")\n",
    "df_philadelphia_2017 = pd.read_csv(\"data/philadelphia_2017.csv\")\n",
    "\n",
    "# Additionally read the philadelphia data from the official website\n",
    "data_philadelphia_2017_Q1 = pd.read_csv(\"data/indego_Q1_2017.csv\")\n",
    "data_philadelphia_2017_Q2 = pd.read_csv(\"data/indego_Q2_2017.csv\")\n",
    "data_philadelphia_2017_Q3 = pd.read_csv(\"data/indego_Q3_2017.csv\")\n",
    "data_philadelphia_2017_Q4 = pd.read_csv(\"data/indego_Q4_2017.csv\")"
   ]
  },
  {
   "attachments": {},
   "cell_type": "markdown",
   "id": "3fbb996d",
   "metadata": {},
   "source": [
    "## Preparing and cleaning data"
   ]
  },
  {
   "attachments": {},
   "cell_type": "markdown",
   "id": "c35f3a2f",
   "metadata": {},
   "source": [
    "### Preparing and cleaning the philadelphia datasets"
   ]
  },
  {
   "cell_type": "code",
   "execution_count": 3,
   "id": "82bd8929",
   "metadata": {},
   "outputs": [],
   "source": [
    "# Concatenate all quarters of philadelphia data and convert them to a dataframe\n",
    "df_philadelphia_website = pd.concat([data_philadelphia_2017_Q1, data_philadelphia_2017_Q2, data_philadelphia_2017_Q3, data_philadelphia_2017_Q4], ignore_index=True)"
   ]
  },
  {
   "cell_type": "code",
   "execution_count": 4,
   "id": "d5fe9546",
   "metadata": {},
   "outputs": [
    {
     "name": "stderr",
     "output_type": "stream",
     "text": [
      "C:\\Users\\Paulo\\AppData\\Local\\Temp\\ipykernel_9268\\495290899.py:6: FutureWarning: In a future version, `df.iloc[:, i] = newvals` will attempt to set the values inplace instead of always setting a new array. To retain the old behavior, use either `df[df.columns[i]] = newvals` or, if columns are non-unique, `df.isetitem(i, newvals)`\n",
      "  df_philadelphia_website.loc[:,'start_time'] = pd.to_datetime(df_philadelphia_website['start_time'])\n",
      "C:\\Users\\Paulo\\AppData\\Local\\Temp\\ipykernel_9268\\495290899.py:7: FutureWarning: In a future version, `df.iloc[:, i] = newvals` will attempt to set the values inplace instead of always setting a new array. To retain the old behavior, use either `df[df.columns[i]] = newvals` or, if columns are non-unique, `df.isetitem(i, newvals)`\n",
      "  df_philadelphia_website.loc[:,'end_time'] = pd.to_datetime(df_philadelphia_website['end_time'])\n",
      "C:\\Users\\Paulo\\AppData\\Local\\Temp\\ipykernel_9268\\495290899.py:9: FutureWarning: In a future version, `df.iloc[:, i] = newvals` will attempt to set the values inplace instead of always setting a new array. To retain the old behavior, use either `df[df.columns[i]] = newvals` or, if columns are non-unique, `df.isetitem(i, newvals)`\n",
      "  df_philadelphia_2017.loc[:,'start_time'] = pd.to_datetime(df_philadelphia_2017['start_time'])\n",
      "C:\\Users\\Paulo\\AppData\\Local\\Temp\\ipykernel_9268\\495290899.py:10: FutureWarning: In a future version, `df.iloc[:, i] = newvals` will attempt to set the values inplace instead of always setting a new array. To retain the old behavior, use either `df[df.columns[i]] = newvals` or, if columns are non-unique, `df.isetitem(i, newvals)`\n",
      "  df_philadelphia_2017.loc[:,\"end_time\"] = pd.to_datetime(df_philadelphia_2017[\"end_time\"])\n"
     ]
    }
   ],
   "source": [
    "# Dropping the columns duration, start_station_id, end_station_id, plan_duration, trip_route_category, passholder_type, start_station, end_station\n",
    "df_philadelphia_website.drop(['duration', 'start_station_id', 'end_station_id', 'plan_duration', 'trip_route_category', 'passholder_type', 'start_station', 'end_station', 'trip_id'], axis=1, inplace=True)\n",
    "df_philadelphia_website\n",
    "\n",
    "#Changing the type of start_time, end_time (df_philadelphia_2017 and df_philadelphia_website) and date_time (df_weather) to datetime type from pandas\n",
    "df_philadelphia_website.loc[:,'start_time'] = pd.to_datetime(df_philadelphia_website['start_time'])\n",
    "df_philadelphia_website.loc[:,'end_time'] = pd.to_datetime(df_philadelphia_website['end_time'])\n",
    "\n",
    "df_philadelphia_2017.loc[:,'start_time'] = pd.to_datetime(df_philadelphia_2017['start_time'])\n",
    "df_philadelphia_2017.loc[:,\"end_time\"] = pd.to_datetime(df_philadelphia_2017[\"end_time\"])\n",
    "\n",
    "#Sort dataframes by their corresponding time column\n",
    "df_philadelphia_website.sort_values([\"start_time\"], inplace = True)\n",
    "df_philadelphia_2017.sort_values([\"start_time\"], inplace = True)\n",
    "\n",
    "\n",
    "#Resetting the indexes\n",
    "df_philadelphia_website.reset_index(drop = True, inplace = True)\n",
    "df_philadelphia_2017.reset_index(drop = True, inplace = True)"
   ]
  },
  {
   "attachments": {},
   "cell_type": "markdown",
   "id": "206e24c4",
   "metadata": {},
   "source": [
    "Before we further clean the dataset for philadelphia its important to mention that we first deleted the irrelevant stations because some duplicate rows happen to have the same start time, end time and bike ids but different start and end stations like the \"Virtual Station\". Therefore we deleted those stations first to avoid deleting useful records. In the following example you can see that deleting the duplicates first could lead to deleting useful records and keeping irrelevant records which are deleted either way later."
   ]
  },
  {
   "cell_type": "code",
   "execution_count": 5,
   "id": "492c9382",
   "metadata": {},
   "outputs": [
    {
     "data": {
      "text/html": [
       "<div>\n",
       "<style scoped>\n",
       "    .dataframe tbody tr th:only-of-type {\n",
       "        vertical-align: middle;\n",
       "    }\n",
       "\n",
       "    .dataframe tbody tr th {\n",
       "        vertical-align: top;\n",
       "    }\n",
       "\n",
       "    .dataframe thead th {\n",
       "        text-align: right;\n",
       "    }\n",
       "</style>\n",
       "<table border=\"1\" class=\"dataframe\">\n",
       "  <thead>\n",
       "    <tr style=\"text-align: right;\">\n",
       "      <th></th>\n",
       "      <th>start_time</th>\n",
       "      <th>end_time</th>\n",
       "      <th>start_station_id</th>\n",
       "      <th>end_station_id</th>\n",
       "      <th>bike_id</th>\n",
       "      <th>user_type</th>\n",
       "      <th>start_station_name</th>\n",
       "      <th>end_station_name</th>\n",
       "    </tr>\n",
       "  </thead>\n",
       "  <tbody>\n",
       "    <tr>\n",
       "      <th>255753</th>\n",
       "      <td>2017-06-05 15:26:00</td>\n",
       "      <td>2017-06-05 15:27:00</td>\n",
       "      <td>3152</td>\n",
       "      <td>3152</td>\n",
       "      <td>11907</td>\n",
       "      <td>Indego30</td>\n",
       "      <td>40th &amp; Baltimore, Trolley Portal</td>\n",
       "      <td>40th &amp; Baltimore, Trolley Portal</td>\n",
       "    </tr>\n",
       "    <tr>\n",
       "      <th>255755</th>\n",
       "      <td>2017-06-05 15:26:00</td>\n",
       "      <td>2017-06-05 15:27:00</td>\n",
       "      <td>3000</td>\n",
       "      <td>3000</td>\n",
       "      <td>11907</td>\n",
       "      <td>Indego30</td>\n",
       "      <td>Virtual Station</td>\n",
       "      <td>Virtual Station</td>\n",
       "    </tr>\n",
       "    <tr>\n",
       "      <th>256143</th>\n",
       "      <td>2017-06-05 17:26:00</td>\n",
       "      <td>2017-06-05 17:31:00</td>\n",
       "      <td>3152</td>\n",
       "      <td>3024</td>\n",
       "      <td>11907</td>\n",
       "      <td>Walk-up</td>\n",
       "      <td>40th &amp; Baltimore, Trolley Portal</td>\n",
       "      <td>43rd &amp; Chester, Clark Park</td>\n",
       "    </tr>\n",
       "    <tr>\n",
       "      <th>256148</th>\n",
       "      <td>2017-06-05 17:26:00</td>\n",
       "      <td>2017-06-05 17:31:00</td>\n",
       "      <td>3000</td>\n",
       "      <td>3024</td>\n",
       "      <td>11907</td>\n",
       "      <td>Walk-up</td>\n",
       "      <td>Virtual Station</td>\n",
       "      <td>43rd &amp; Chester, Clark Park</td>\n",
       "    </tr>\n",
       "    <tr>\n",
       "      <th>258113</th>\n",
       "      <td>2017-06-06 16:02:00</td>\n",
       "      <td>2017-06-06 16:33:00</td>\n",
       "      <td>3004</td>\n",
       "      <td>3000</td>\n",
       "      <td>5314</td>\n",
       "      <td>Indego30</td>\n",
       "      <td>Municipal Services Building Plaza</td>\n",
       "      <td>Virtual Station</td>\n",
       "    </tr>\n",
       "    <tr>\n",
       "      <th>258115</th>\n",
       "      <td>2017-06-06 16:02:00</td>\n",
       "      <td>2017-06-06 16:33:00</td>\n",
       "      <td>3004</td>\n",
       "      <td>3161</td>\n",
       "      <td>5314</td>\n",
       "      <td>Indego30</td>\n",
       "      <td>Municipal Services Building Plaza</td>\n",
       "      <td>30th Street Station East</td>\n",
       "    </tr>\n",
       "  </tbody>\n",
       "</table>\n",
       "</div>"
      ],
      "text/plain": [
       "                start_time            end_time  start_station_id  \\\n",
       "255753 2017-06-05 15:26:00 2017-06-05 15:27:00              3152   \n",
       "255755 2017-06-05 15:26:00 2017-06-05 15:27:00              3000   \n",
       "256143 2017-06-05 17:26:00 2017-06-05 17:31:00              3152   \n",
       "256148 2017-06-05 17:26:00 2017-06-05 17:31:00              3000   \n",
       "258113 2017-06-06 16:02:00 2017-06-06 16:33:00              3004   \n",
       "258115 2017-06-06 16:02:00 2017-06-06 16:33:00              3004   \n",
       "\n",
       "        end_station_id  bike_id user_type                 start_station_name  \\\n",
       "255753            3152    11907  Indego30   40th & Baltimore, Trolley Portal   \n",
       "255755            3000    11907  Indego30                    Virtual Station   \n",
       "256143            3024    11907   Walk-up   40th & Baltimore, Trolley Portal   \n",
       "256148            3024    11907   Walk-up                    Virtual Station   \n",
       "258113            3000     5314  Indego30  Municipal Services Building Plaza   \n",
       "258115            3161     5314  Indego30  Municipal Services Building Plaza   \n",
       "\n",
       "                        end_station_name  \n",
       "255753  40th & Baltimore, Trolley Portal  \n",
       "255755                   Virtual Station  \n",
       "256143        43rd & Chester, Clark Park  \n",
       "256148        43rd & Chester, Clark Park  \n",
       "258113                   Virtual Station  \n",
       "258115          30th Street Station East  "
      ]
     },
     "execution_count": 5,
     "metadata": {},
     "output_type": "execute_result"
    }
   ],
   "source": [
    "df_philadelphia_2017[df_philadelphia_2017.duplicated(subset=['start_time', 'end_time', 'bike_id'], keep=False)].head(6)"
   ]
  },
  {
   "attachments": {},
   "cell_type": "markdown",
   "id": "9af52b4e",
   "metadata": {},
   "source": [
    "The \"3083\" station does not exist as a real station. Furthermore the \"Virtual Station\" is used by staff to check in or check out a bike remotely for an event or when the bike was not properly checked in or out. Therefore we check the number of rows where one of those stations occur and delete those rows afterwards.\n",
    "\n",
    "For further information please check the official site about the data and the station table [here](https://www.rideindego.com/about/data/)."
   ]
  },
  {
   "cell_type": "code",
   "execution_count": 6,
   "id": "03f26591",
   "metadata": {},
   "outputs": [
    {
     "name": "stdout",
     "output_type": "stream",
     "text": [
      "Number of rows in df_philadelphia_2017 with \"Virtual Station\" and \"3083\" in the start station or end station:  6512\n"
     ]
    }
   ],
   "source": [
    "print(r'Number of rows in df_philadelphia_2017 with \"Virtual Station\" and \"3083\" in the start station or end station: ',\n",
    " df_philadelphia_2017[(df_philadelphia_2017[\"start_station_name\"] == \"Virtual Station\") | (df_philadelphia_2017[\"end_station_name\"] == \"Virtual Station\") |\n",
    "  (df_philadelphia_2017[\"start_station_name\"] == \"3083\") | (df_philadelphia_2017[\"end_station_name\"] == \"3083\")\n",
    "  ].shape[0])"
   ]
  },
  {
   "cell_type": "code",
   "execution_count": 7,
   "id": "bfc06a92",
   "metadata": {},
   "outputs": [
    {
     "data": {
      "text/html": [
       "<div>\n",
       "<style scoped>\n",
       "    .dataframe tbody tr th:only-of-type {\n",
       "        vertical-align: middle;\n",
       "    }\n",
       "\n",
       "    .dataframe tbody tr th {\n",
       "        vertical-align: top;\n",
       "    }\n",
       "\n",
       "    .dataframe thead th {\n",
       "        text-align: right;\n",
       "    }\n",
       "</style>\n",
       "<table border=\"1\" class=\"dataframe\">\n",
       "  <thead>\n",
       "    <tr style=\"text-align: right;\">\n",
       "      <th></th>\n",
       "      <th>start_time</th>\n",
       "      <th>end_time</th>\n",
       "      <th>start_station_id</th>\n",
       "      <th>end_station_id</th>\n",
       "      <th>bike_id</th>\n",
       "      <th>user_type</th>\n",
       "      <th>start_station_name</th>\n",
       "      <th>end_station_name</th>\n",
       "    </tr>\n",
       "  </thead>\n",
       "  <tbody>\n",
       "  </tbody>\n",
       "</table>\n",
       "</div>"
      ],
      "text/plain": [
       "Empty DataFrame\n",
       "Columns: [start_time, end_time, start_station_id, end_station_id, bike_id, user_type, start_station_name, end_station_name]\n",
       "Index: []"
      ]
     },
     "metadata": {},
     "output_type": "display_data"
    }
   ],
   "source": [
    "# Deleting \"Virtual Station\" and \"3083\" from the start_station_name and end_station_name columns\n",
    "df_philadelphia_2017 = df_philadelphia_2017[(df_philadelphia_2017[\"start_station_name\"] != \"3083\") & (df_philadelphia_2017[\"end_station_name\"] != \"3083\") ]\n",
    "df_philadelphia_2017 = df_philadelphia_2017[(df_philadelphia_2017[\"start_station_name\"] != \"Virtual Station\") & (df_philadelphia_2017[\"end_station_name\"] != \"Virtual Station\") ]\n",
    "\n",
    "display(df_philadelphia_2017[(df_philadelphia_2017[\"start_station_name\"] == \"Virtual Station\") | (df_philadelphia_2017[\"end_station_name\"] == \"Virtual Station\") | (df_philadelphia_2017[\"start_station_name\"] == \"3083\") | (df_philadelphia_2017[\"end_station_name\"] == \"3083\")])"
   ]
  },
  {
   "attachments": {},
   "cell_type": "markdown",
   "id": "b3bc3b06",
   "metadata": {},
   "source": [
    "The \"bike_id\" should be unique to one bike. No trip with the same bike_id should start and end on the same time interval. "
   ]
  },
  {
   "cell_type": "code",
   "execution_count": 8,
   "id": "b36df4ae",
   "metadata": {},
   "outputs": [
    {
     "name": "stdout",
     "output_type": "stream",
     "text": [
      "Number of duplicates in df_philadelphia_2017:  55\n",
      "Number of duplicates in df_philadelphia_website:  68\n"
     ]
    }
   ],
   "source": [
    "#Checking for any duplicates in philadelphia data\n",
    "print(\"Number of duplicates in df_philadelphia_2017: \", df_philadelphia_2017.duplicated(subset=['start_time', 'end_time', 'bike_id']).sum())\n",
    "print(\"Number of duplicates in df_philadelphia_website: \", df_philadelphia_website.duplicated(subset=['start_time', 'end_time', 'bike_id']).sum())"
   ]
  },
  {
   "cell_type": "code",
   "execution_count": 9,
   "id": "bc40199e",
   "metadata": {},
   "outputs": [
    {
     "data": {
      "text/html": [
       "<div>\n",
       "<style scoped>\n",
       "    .dataframe tbody tr th:only-of-type {\n",
       "        vertical-align: middle;\n",
       "    }\n",
       "\n",
       "    .dataframe tbody tr th {\n",
       "        vertical-align: top;\n",
       "    }\n",
       "\n",
       "    .dataframe thead th {\n",
       "        text-align: right;\n",
       "    }\n",
       "</style>\n",
       "<table border=\"1\" class=\"dataframe\">\n",
       "  <thead>\n",
       "    <tr style=\"text-align: right;\">\n",
       "      <th></th>\n",
       "      <th>start_time</th>\n",
       "      <th>end_time</th>\n",
       "      <th>start_station_id</th>\n",
       "      <th>end_station_id</th>\n",
       "      <th>bike_id</th>\n",
       "      <th>user_type</th>\n",
       "      <th>start_station_name</th>\n",
       "      <th>end_station_name</th>\n",
       "    </tr>\n",
       "  </thead>\n",
       "  <tbody>\n",
       "  </tbody>\n",
       "</table>\n",
       "</div>"
      ],
      "text/plain": [
       "Empty DataFrame\n",
       "Columns: [start_time, end_time, start_station_id, end_station_id, bike_id, user_type, start_station_name, end_station_name]\n",
       "Index: []"
      ]
     },
     "metadata": {},
     "output_type": "display_data"
    },
    {
     "data": {
      "text/html": [
       "<div>\n",
       "<style scoped>\n",
       "    .dataframe tbody tr th:only-of-type {\n",
       "        vertical-align: middle;\n",
       "    }\n",
       "\n",
       "    .dataframe tbody tr th {\n",
       "        vertical-align: top;\n",
       "    }\n",
       "\n",
       "    .dataframe thead th {\n",
       "        text-align: right;\n",
       "    }\n",
       "</style>\n",
       "<table border=\"1\" class=\"dataframe\">\n",
       "  <thead>\n",
       "    <tr style=\"text-align: right;\">\n",
       "      <th></th>\n",
       "      <th>start_time</th>\n",
       "      <th>end_time</th>\n",
       "      <th>start_lat</th>\n",
       "      <th>start_lon</th>\n",
       "      <th>end_lat</th>\n",
       "      <th>end_lon</th>\n",
       "      <th>bike_id</th>\n",
       "    </tr>\n",
       "  </thead>\n",
       "  <tbody>\n",
       "  </tbody>\n",
       "</table>\n",
       "</div>"
      ],
      "text/plain": [
       "Empty DataFrame\n",
       "Columns: [start_time, end_time, start_lat, start_lon, end_lat, end_lon, bike_id]\n",
       "Index: []"
      ]
     },
     "metadata": {},
     "output_type": "display_data"
    }
   ],
   "source": [
    "#Dropping all duplicates for the philadelphia data depending on the start_time, end_time and bike_id\n",
    "df_philadelphia_2017.drop_duplicates(subset=[\"start_time\", \"end_time\", \"bike_id\"], keep=\"first\", inplace=True)\n",
    "df_philadelphia_website.drop_duplicates(subset=[\"start_time\", \"end_time\", \"bike_id\"], keep=\"first\", inplace=True)\n",
    "\n",
    "display(df_philadelphia_2017[df_philadelphia_2017.duplicated(subset=['start_time', 'end_time', 'bike_id'])].head(10))\n",
    "display(df_philadelphia_website[df_philadelphia_website.duplicated(subset=['start_time', 'end_time', 'bike_id'])].head(10))"
   ]
  },
  {
   "cell_type": "code",
   "execution_count": 10,
   "id": "5aea409a",
   "metadata": {},
   "outputs": [
    {
     "data": {
      "text/html": [
       "<div>\n",
       "<style scoped>\n",
       "    .dataframe tbody tr th:only-of-type {\n",
       "        vertical-align: middle;\n",
       "    }\n",
       "\n",
       "    .dataframe tbody tr th {\n",
       "        vertical-align: top;\n",
       "    }\n",
       "\n",
       "    .dataframe thead th {\n",
       "        text-align: right;\n",
       "    }\n",
       "</style>\n",
       "<table border=\"1\" class=\"dataframe\">\n",
       "  <thead>\n",
       "    <tr style=\"text-align: right;\">\n",
       "      <th></th>\n",
       "      <th>start_time</th>\n",
       "      <th>end_time</th>\n",
       "      <th>start_station_id</th>\n",
       "      <th>end_station_id</th>\n",
       "      <th>bike_id</th>\n",
       "      <th>user_type</th>\n",
       "      <th>start_station_name</th>\n",
       "      <th>end_station_name</th>\n",
       "      <th>start_lat</th>\n",
       "      <th>start_lon</th>\n",
       "      <th>end_lat</th>\n",
       "      <th>end_lon</th>\n",
       "    </tr>\n",
       "  </thead>\n",
       "  <tbody>\n",
       "    <tr>\n",
       "      <th>0</th>\n",
       "      <td>2017-01-01 00:05:00</td>\n",
       "      <td>2017-01-01 00:16:00</td>\n",
       "      <td>3046</td>\n",
       "      <td>3041</td>\n",
       "      <td>5347</td>\n",
       "      <td>Indego30</td>\n",
       "      <td>2nd &amp; Market</td>\n",
       "      <td>Girard Station, MFL</td>\n",
       "      <td>39.950119</td>\n",
       "      <td>-75.144722</td>\n",
       "      <td>39.968491</td>\n",
       "      <td>-75.135460</td>\n",
       "    </tr>\n",
       "    <tr>\n",
       "      <th>1</th>\n",
       "      <td>2017-01-01 00:21:00</td>\n",
       "      <td>2017-01-01 00:57:00</td>\n",
       "      <td>3110</td>\n",
       "      <td>3054</td>\n",
       "      <td>3364</td>\n",
       "      <td>Walk-up</td>\n",
       "      <td>Del. River Trail &amp; Penn St.</td>\n",
       "      <td>Rodin Museum</td>\n",
       "      <td>39.961750</td>\n",
       "      <td>-75.136414</td>\n",
       "      <td>39.962502</td>\n",
       "      <td>-75.174202</td>\n",
       "    </tr>\n",
       "    <tr>\n",
       "      <th>2</th>\n",
       "      <td>2017-01-01 00:22:00</td>\n",
       "      <td>2017-01-01 00:57:00</td>\n",
       "      <td>3110</td>\n",
       "      <td>3054</td>\n",
       "      <td>2536</td>\n",
       "      <td>Walk-up</td>\n",
       "      <td>Del. River Trail &amp; Penn St.</td>\n",
       "      <td>Rodin Museum</td>\n",
       "      <td>39.961750</td>\n",
       "      <td>-75.136414</td>\n",
       "      <td>39.962502</td>\n",
       "      <td>-75.174202</td>\n",
       "    </tr>\n",
       "    <tr>\n",
       "      <th>3</th>\n",
       "      <td>2017-01-01 00:27:00</td>\n",
       "      <td>2017-01-01 00:39:00</td>\n",
       "      <td>3041</td>\n",
       "      <td>3005</td>\n",
       "      <td>5176</td>\n",
       "      <td>Indego30</td>\n",
       "      <td>Girard Station, MFL</td>\n",
       "      <td>Welcome Park, NPS</td>\n",
       "      <td>39.968491</td>\n",
       "      <td>-75.135460</td>\n",
       "      <td>39.947330</td>\n",
       "      <td>-75.144028</td>\n",
       "    </tr>\n",
       "    <tr>\n",
       "      <th>4</th>\n",
       "      <td>2017-01-01 00:28:00</td>\n",
       "      <td>2017-01-01 00:36:00</td>\n",
       "      <td>3047</td>\n",
       "      <td>3124</td>\n",
       "      <td>5370</td>\n",
       "      <td>Walk-up</td>\n",
       "      <td>Independence Mall, NPS</td>\n",
       "      <td>Race Street Pier</td>\n",
       "      <td>39.950710</td>\n",
       "      <td>-75.149208</td>\n",
       "      <td>39.952950</td>\n",
       "      <td>-75.139793</td>\n",
       "    </tr>\n",
       "    <tr>\n",
       "      <th>...</th>\n",
       "      <td>...</td>\n",
       "      <td>...</td>\n",
       "      <td>...</td>\n",
       "      <td>...</td>\n",
       "      <td>...</td>\n",
       "      <td>...</td>\n",
       "      <td>...</td>\n",
       "      <td>...</td>\n",
       "      <td>...</td>\n",
       "      <td>...</td>\n",
       "      <td>...</td>\n",
       "      <td>...</td>\n",
       "    </tr>\n",
       "    <tr>\n",
       "      <th>782335</th>\n",
       "      <td>2017-12-31 23:05:00</td>\n",
       "      <td>2017-12-31 23:33:00</td>\n",
       "      <td>3070</td>\n",
       "      <td>3124</td>\n",
       "      <td>3708</td>\n",
       "      <td>Indego30</td>\n",
       "      <td>Spring Garden Station, MFL</td>\n",
       "      <td>Race Street Pier</td>\n",
       "      <td>39.960621</td>\n",
       "      <td>-75.139832</td>\n",
       "      <td>39.952950</td>\n",
       "      <td>-75.139793</td>\n",
       "    </tr>\n",
       "    <tr>\n",
       "      <th>782336</th>\n",
       "      <td>2017-12-31 23:11:00</td>\n",
       "      <td>2018-01-01 11:03:00</td>\n",
       "      <td>3107</td>\n",
       "      <td>3165</td>\n",
       "      <td>5117</td>\n",
       "      <td>Indego30</td>\n",
       "      <td>33rd &amp; Reservoir</td>\n",
       "      <td>24th &amp; Race SRT</td>\n",
       "      <td>39.982029</td>\n",
       "      <td>-75.188660</td>\n",
       "      <td>39.958191</td>\n",
       "      <td>-75.178200</td>\n",
       "    </tr>\n",
       "    <tr>\n",
       "      <th>782337</th>\n",
       "      <td>2017-12-31 23:18:00</td>\n",
       "      <td>2017-12-31 23:25:00</td>\n",
       "      <td>3033</td>\n",
       "      <td>3046</td>\n",
       "      <td>11933</td>\n",
       "      <td>Indego30</td>\n",
       "      <td>10th &amp; Chestnut</td>\n",
       "      <td>2nd &amp; Market</td>\n",
       "      <td>39.950050</td>\n",
       "      <td>-75.156723</td>\n",
       "      <td>39.950119</td>\n",
       "      <td>-75.144722</td>\n",
       "    </tr>\n",
       "    <tr>\n",
       "      <th>782338</th>\n",
       "      <td>2017-12-31 23:39:00</td>\n",
       "      <td>2017-12-31 23:40:00</td>\n",
       "      <td>3163</td>\n",
       "      <td>3163</td>\n",
       "      <td>6725</td>\n",
       "      <td>Indego30</td>\n",
       "      <td>25th &amp; Locust</td>\n",
       "      <td>25th &amp; Locust</td>\n",
       "      <td>39.949741</td>\n",
       "      <td>-75.180969</td>\n",
       "      <td>39.949741</td>\n",
       "      <td>-75.180969</td>\n",
       "    </tr>\n",
       "    <tr>\n",
       "      <th>782339</th>\n",
       "      <td>2017-12-31 23:41:00</td>\n",
       "      <td>2017-12-31 23:55:00</td>\n",
       "      <td>3163</td>\n",
       "      <td>3057</td>\n",
       "      <td>11864</td>\n",
       "      <td>Indego30</td>\n",
       "      <td>25th &amp; Locust</td>\n",
       "      <td>Philadelphia Museum of Art</td>\n",
       "      <td>39.949741</td>\n",
       "      <td>-75.180969</td>\n",
       "      <td>39.964581</td>\n",
       "      <td>-75.180031</td>\n",
       "    </tr>\n",
       "  </tbody>\n",
       "</table>\n",
       "<p>782340 rows × 12 columns</p>\n",
       "</div>"
      ],
      "text/plain": [
       "                start_time            end_time  start_station_id  \\\n",
       "0      2017-01-01 00:05:00 2017-01-01 00:16:00              3046   \n",
       "1      2017-01-01 00:21:00 2017-01-01 00:57:00              3110   \n",
       "2      2017-01-01 00:22:00 2017-01-01 00:57:00              3110   \n",
       "3      2017-01-01 00:27:00 2017-01-01 00:39:00              3041   \n",
       "4      2017-01-01 00:28:00 2017-01-01 00:36:00              3047   \n",
       "...                    ...                 ...               ...   \n",
       "782335 2017-12-31 23:05:00 2017-12-31 23:33:00              3070   \n",
       "782336 2017-12-31 23:11:00 2018-01-01 11:03:00              3107   \n",
       "782337 2017-12-31 23:18:00 2017-12-31 23:25:00              3033   \n",
       "782338 2017-12-31 23:39:00 2017-12-31 23:40:00              3163   \n",
       "782339 2017-12-31 23:41:00 2017-12-31 23:55:00              3163   \n",
       "\n",
       "        end_station_id  bike_id user_type           start_station_name  \\\n",
       "0                 3041     5347  Indego30                 2nd & Market   \n",
       "1                 3054     3364   Walk-up  Del. River Trail & Penn St.   \n",
       "2                 3054     2536   Walk-up  Del. River Trail & Penn St.   \n",
       "3                 3005     5176  Indego30          Girard Station, MFL   \n",
       "4                 3124     5370   Walk-up       Independence Mall, NPS   \n",
       "...                ...      ...       ...                          ...   \n",
       "782335            3124     3708  Indego30   Spring Garden Station, MFL   \n",
       "782336            3165     5117  Indego30             33rd & Reservoir   \n",
       "782337            3046    11933  Indego30              10th & Chestnut   \n",
       "782338            3163     6725  Indego30                25th & Locust   \n",
       "782339            3057    11864  Indego30                25th & Locust   \n",
       "\n",
       "                  end_station_name  start_lat  start_lon    end_lat    end_lon  \n",
       "0              Girard Station, MFL  39.950119 -75.144722  39.968491 -75.135460  \n",
       "1                     Rodin Museum  39.961750 -75.136414  39.962502 -75.174202  \n",
       "2                     Rodin Museum  39.961750 -75.136414  39.962502 -75.174202  \n",
       "3                Welcome Park, NPS  39.968491 -75.135460  39.947330 -75.144028  \n",
       "4                 Race Street Pier  39.950710 -75.149208  39.952950 -75.139793  \n",
       "...                            ...        ...        ...        ...        ...  \n",
       "782335            Race Street Pier  39.960621 -75.139832  39.952950 -75.139793  \n",
       "782336             24th & Race SRT  39.982029 -75.188660  39.958191 -75.178200  \n",
       "782337                2nd & Market  39.950050 -75.156723  39.950119 -75.144722  \n",
       "782338               25th & Locust  39.949741 -75.180969  39.949741 -75.180969  \n",
       "782339  Philadelphia Museum of Art  39.949741 -75.180969  39.964581 -75.180031  \n",
       "\n",
       "[782340 rows x 12 columns]"
      ]
     },
     "execution_count": 10,
     "metadata": {},
     "output_type": "execute_result"
    }
   ],
   "source": [
    "# Joining df_philadelphia_2017 with df_philadelphia_full on start_time, end_time, bike_id and dropping duplicate columns\n",
    "df_philadelphia_2017_joined = df_philadelphia_2017.merge(df_philadelphia_website, on=[\"start_time\", \"end_time\", \"bike_id\"], how=\"left\")\n",
    "\n",
    "df_philadelphia_2017_joined"
   ]
  },
  {
   "cell_type": "code",
   "execution_count": 11,
   "id": "891c6886",
   "metadata": {},
   "outputs": [
    {
     "data": {
      "text/html": [
       "<div>\n",
       "<style scoped>\n",
       "    .dataframe tbody tr th:only-of-type {\n",
       "        vertical-align: middle;\n",
       "    }\n",
       "\n",
       "    .dataframe tbody tr th {\n",
       "        vertical-align: top;\n",
       "    }\n",
       "\n",
       "    .dataframe thead th {\n",
       "        text-align: right;\n",
       "    }\n",
       "</style>\n",
       "<table border=\"1\" class=\"dataframe\">\n",
       "  <thead>\n",
       "    <tr style=\"text-align: right;\">\n",
       "      <th></th>\n",
       "      <th>start_time</th>\n",
       "      <th>end_time</th>\n",
       "      <th>start_station_id</th>\n",
       "      <th>end_station_id</th>\n",
       "      <th>bike_id</th>\n",
       "      <th>user_type</th>\n",
       "      <th>start_station_name</th>\n",
       "      <th>end_station_name</th>\n",
       "      <th>start_lat</th>\n",
       "      <th>start_lon</th>\n",
       "      <th>end_lat</th>\n",
       "      <th>end_lon</th>\n",
       "    </tr>\n",
       "  </thead>\n",
       "  <tbody>\n",
       "    <tr>\n",
       "      <th>255784</th>\n",
       "      <td>2017-06-06 16:02:00</td>\n",
       "      <td>2017-06-06 16:33:00</td>\n",
       "      <td>3004</td>\n",
       "      <td>3161</td>\n",
       "      <td>5314</td>\n",
       "      <td>Indego30</td>\n",
       "      <td>Municipal Services Building Plaza</td>\n",
       "      <td>30th Street Station East</td>\n",
       "      <td>39.953781</td>\n",
       "      <td>-75.163742</td>\n",
       "      <td>NaN</td>\n",
       "      <td>NaN</td>\n",
       "    </tr>\n",
       "    <tr>\n",
       "      <th>613438</th>\n",
       "      <td>2017-10-05 08:35:00</td>\n",
       "      <td>2017-10-05 08:47:00</td>\n",
       "      <td>3111</td>\n",
       "      <td>3107</td>\n",
       "      <td>5306</td>\n",
       "      <td>Indego30</td>\n",
       "      <td>Parkside &amp; Belmont, Case Building</td>\n",
       "      <td>33rd &amp; Reservoir</td>\n",
       "      <td>NaN</td>\n",
       "      <td>NaN</td>\n",
       "      <td>39.982029</td>\n",
       "      <td>-75.18866</td>\n",
       "    </tr>\n",
       "    <tr>\n",
       "      <th>613848</th>\n",
       "      <td>2017-10-05 10:31:00</td>\n",
       "      <td>2017-10-05 10:53:00</td>\n",
       "      <td>3095</td>\n",
       "      <td>3111</td>\n",
       "      <td>5329</td>\n",
       "      <td>Indego30</td>\n",
       "      <td>29th &amp; Diamond</td>\n",
       "      <td>Parkside &amp; Belmont, Case Building</td>\n",
       "      <td>39.987709</td>\n",
       "      <td>-75.180519</td>\n",
       "      <td>NaN</td>\n",
       "      <td>NaN</td>\n",
       "    </tr>\n",
       "  </tbody>\n",
       "</table>\n",
       "</div>"
      ],
      "text/plain": [
       "                start_time            end_time  start_station_id  \\\n",
       "255784 2017-06-06 16:02:00 2017-06-06 16:33:00              3004   \n",
       "613438 2017-10-05 08:35:00 2017-10-05 08:47:00              3111   \n",
       "613848 2017-10-05 10:31:00 2017-10-05 10:53:00              3095   \n",
       "\n",
       "        end_station_id  bike_id user_type                 start_station_name  \\\n",
       "255784            3161     5314  Indego30  Municipal Services Building Plaza   \n",
       "613438            3107     5306  Indego30  Parkside & Belmont, Case Building   \n",
       "613848            3111     5329  Indego30                     29th & Diamond   \n",
       "\n",
       "                         end_station_name  start_lat  start_lon    end_lat  \\\n",
       "255784           30th Street Station East  39.953781 -75.163742        NaN   \n",
       "613438                   33rd & Reservoir        NaN        NaN  39.982029   \n",
       "613848  Parkside & Belmont, Case Building  39.987709 -75.180519        NaN   \n",
       "\n",
       "         end_lon  \n",
       "255784       NaN  \n",
       "613438 -75.18866  \n",
       "613848       NaN  "
      ]
     },
     "metadata": {},
     "output_type": "display_data"
    }
   ],
   "source": [
    "#Checking for missing values in philadelphia data\n",
    "display(df_philadelphia_2017_joined[df_philadelphia_2017_joined.isnull().any(axis = 1)])"
   ]
  },
  {
   "cell_type": "code",
   "execution_count": 12,
   "id": "5939aefe",
   "metadata": {},
   "outputs": [],
   "source": [
    "df_philadelphia_2017_joined.dropna(inplace = True)\t"
   ]
  },
  {
   "cell_type": "code",
   "execution_count": 13,
   "id": "13c67255",
   "metadata": {},
   "outputs": [
    {
     "data": {
      "text/html": [
       "<div>\n",
       "<style scoped>\n",
       "    .dataframe tbody tr th:only-of-type {\n",
       "        vertical-align: middle;\n",
       "    }\n",
       "\n",
       "    .dataframe tbody tr th {\n",
       "        vertical-align: top;\n",
       "    }\n",
       "\n",
       "    .dataframe thead th {\n",
       "        text-align: right;\n",
       "    }\n",
       "</style>\n",
       "<table border=\"1\" class=\"dataframe\">\n",
       "  <thead>\n",
       "    <tr style=\"text-align: right;\">\n",
       "      <th></th>\n",
       "      <th>start_time</th>\n",
       "      <th>end_time</th>\n",
       "      <th>start_station_id</th>\n",
       "      <th>end_station_id</th>\n",
       "      <th>bike_id</th>\n",
       "      <th>user_type</th>\n",
       "      <th>start_station_name</th>\n",
       "      <th>end_station_name</th>\n",
       "      <th>start_lat</th>\n",
       "      <th>start_lon</th>\n",
       "      <th>end_lat</th>\n",
       "      <th>end_lon</th>\n",
       "      <th>trip_duration</th>\n",
       "      <th>month</th>\n",
       "      <th>week</th>\n",
       "      <th>weekday</th>\n",
       "      <th>day</th>\n",
       "      <th>hour</th>\n",
       "    </tr>\n",
       "  </thead>\n",
       "  <tbody>\n",
       "    <tr>\n",
       "      <th>0</th>\n",
       "      <td>2017-01-01 00:05:00</td>\n",
       "      <td>2017-01-01 00:16:00</td>\n",
       "      <td>3046</td>\n",
       "      <td>3041</td>\n",
       "      <td>5347</td>\n",
       "      <td>Indego30</td>\n",
       "      <td>2nd &amp; Market</td>\n",
       "      <td>Girard Station, MFL</td>\n",
       "      <td>39.950119</td>\n",
       "      <td>-75.144722</td>\n",
       "      <td>39.968491</td>\n",
       "      <td>-75.135460</td>\n",
       "      <td>0 days 00:11:00</td>\n",
       "      <td>1</td>\n",
       "      <td>52</td>\n",
       "      <td>6</td>\n",
       "      <td>1</td>\n",
       "      <td>0</td>\n",
       "    </tr>\n",
       "    <tr>\n",
       "      <th>1</th>\n",
       "      <td>2017-01-01 00:21:00</td>\n",
       "      <td>2017-01-01 00:57:00</td>\n",
       "      <td>3110</td>\n",
       "      <td>3054</td>\n",
       "      <td>3364</td>\n",
       "      <td>Walk-up</td>\n",
       "      <td>Del. River Trail &amp; Penn St.</td>\n",
       "      <td>Rodin Museum</td>\n",
       "      <td>39.961750</td>\n",
       "      <td>-75.136414</td>\n",
       "      <td>39.962502</td>\n",
       "      <td>-75.174202</td>\n",
       "      <td>0 days 00:36:00</td>\n",
       "      <td>1</td>\n",
       "      <td>52</td>\n",
       "      <td>6</td>\n",
       "      <td>1</td>\n",
       "      <td>0</td>\n",
       "    </tr>\n",
       "    <tr>\n",
       "      <th>2</th>\n",
       "      <td>2017-01-01 00:22:00</td>\n",
       "      <td>2017-01-01 00:57:00</td>\n",
       "      <td>3110</td>\n",
       "      <td>3054</td>\n",
       "      <td>2536</td>\n",
       "      <td>Walk-up</td>\n",
       "      <td>Del. River Trail &amp; Penn St.</td>\n",
       "      <td>Rodin Museum</td>\n",
       "      <td>39.961750</td>\n",
       "      <td>-75.136414</td>\n",
       "      <td>39.962502</td>\n",
       "      <td>-75.174202</td>\n",
       "      <td>0 days 00:35:00</td>\n",
       "      <td>1</td>\n",
       "      <td>52</td>\n",
       "      <td>6</td>\n",
       "      <td>1</td>\n",
       "      <td>0</td>\n",
       "    </tr>\n",
       "    <tr>\n",
       "      <th>3</th>\n",
       "      <td>2017-01-01 00:27:00</td>\n",
       "      <td>2017-01-01 00:39:00</td>\n",
       "      <td>3041</td>\n",
       "      <td>3005</td>\n",
       "      <td>5176</td>\n",
       "      <td>Indego30</td>\n",
       "      <td>Girard Station, MFL</td>\n",
       "      <td>Welcome Park, NPS</td>\n",
       "      <td>39.968491</td>\n",
       "      <td>-75.135460</td>\n",
       "      <td>39.947330</td>\n",
       "      <td>-75.144028</td>\n",
       "      <td>0 days 00:12:00</td>\n",
       "      <td>1</td>\n",
       "      <td>52</td>\n",
       "      <td>6</td>\n",
       "      <td>1</td>\n",
       "      <td>0</td>\n",
       "    </tr>\n",
       "    <tr>\n",
       "      <th>4</th>\n",
       "      <td>2017-01-01 00:28:00</td>\n",
       "      <td>2017-01-01 00:36:00</td>\n",
       "      <td>3047</td>\n",
       "      <td>3124</td>\n",
       "      <td>5370</td>\n",
       "      <td>Walk-up</td>\n",
       "      <td>Independence Mall, NPS</td>\n",
       "      <td>Race Street Pier</td>\n",
       "      <td>39.950710</td>\n",
       "      <td>-75.149208</td>\n",
       "      <td>39.952950</td>\n",
       "      <td>-75.139793</td>\n",
       "      <td>0 days 00:08:00</td>\n",
       "      <td>1</td>\n",
       "      <td>52</td>\n",
       "      <td>6</td>\n",
       "      <td>1</td>\n",
       "      <td>0</td>\n",
       "    </tr>\n",
       "    <tr>\n",
       "      <th>...</th>\n",
       "      <td>...</td>\n",
       "      <td>...</td>\n",
       "      <td>...</td>\n",
       "      <td>...</td>\n",
       "      <td>...</td>\n",
       "      <td>...</td>\n",
       "      <td>...</td>\n",
       "      <td>...</td>\n",
       "      <td>...</td>\n",
       "      <td>...</td>\n",
       "      <td>...</td>\n",
       "      <td>...</td>\n",
       "      <td>...</td>\n",
       "      <td>...</td>\n",
       "      <td>...</td>\n",
       "      <td>...</td>\n",
       "      <td>...</td>\n",
       "      <td>...</td>\n",
       "    </tr>\n",
       "    <tr>\n",
       "      <th>782335</th>\n",
       "      <td>2017-12-31 23:05:00</td>\n",
       "      <td>2017-12-31 23:33:00</td>\n",
       "      <td>3070</td>\n",
       "      <td>3124</td>\n",
       "      <td>3708</td>\n",
       "      <td>Indego30</td>\n",
       "      <td>Spring Garden Station, MFL</td>\n",
       "      <td>Race Street Pier</td>\n",
       "      <td>39.960621</td>\n",
       "      <td>-75.139832</td>\n",
       "      <td>39.952950</td>\n",
       "      <td>-75.139793</td>\n",
       "      <td>0 days 00:28:00</td>\n",
       "      <td>12</td>\n",
       "      <td>52</td>\n",
       "      <td>6</td>\n",
       "      <td>31</td>\n",
       "      <td>23</td>\n",
       "    </tr>\n",
       "    <tr>\n",
       "      <th>782336</th>\n",
       "      <td>2017-12-31 23:11:00</td>\n",
       "      <td>2018-01-01 11:03:00</td>\n",
       "      <td>3107</td>\n",
       "      <td>3165</td>\n",
       "      <td>5117</td>\n",
       "      <td>Indego30</td>\n",
       "      <td>33rd &amp; Reservoir</td>\n",
       "      <td>24th &amp; Race SRT</td>\n",
       "      <td>39.982029</td>\n",
       "      <td>-75.188660</td>\n",
       "      <td>39.958191</td>\n",
       "      <td>-75.178200</td>\n",
       "      <td>0 days 11:52:00</td>\n",
       "      <td>12</td>\n",
       "      <td>52</td>\n",
       "      <td>6</td>\n",
       "      <td>31</td>\n",
       "      <td>23</td>\n",
       "    </tr>\n",
       "    <tr>\n",
       "      <th>782337</th>\n",
       "      <td>2017-12-31 23:18:00</td>\n",
       "      <td>2017-12-31 23:25:00</td>\n",
       "      <td>3033</td>\n",
       "      <td>3046</td>\n",
       "      <td>11933</td>\n",
       "      <td>Indego30</td>\n",
       "      <td>10th &amp; Chestnut</td>\n",
       "      <td>2nd &amp; Market</td>\n",
       "      <td>39.950050</td>\n",
       "      <td>-75.156723</td>\n",
       "      <td>39.950119</td>\n",
       "      <td>-75.144722</td>\n",
       "      <td>0 days 00:07:00</td>\n",
       "      <td>12</td>\n",
       "      <td>52</td>\n",
       "      <td>6</td>\n",
       "      <td>31</td>\n",
       "      <td>23</td>\n",
       "    </tr>\n",
       "    <tr>\n",
       "      <th>782338</th>\n",
       "      <td>2017-12-31 23:39:00</td>\n",
       "      <td>2017-12-31 23:40:00</td>\n",
       "      <td>3163</td>\n",
       "      <td>3163</td>\n",
       "      <td>6725</td>\n",
       "      <td>Indego30</td>\n",
       "      <td>25th &amp; Locust</td>\n",
       "      <td>25th &amp; Locust</td>\n",
       "      <td>39.949741</td>\n",
       "      <td>-75.180969</td>\n",
       "      <td>39.949741</td>\n",
       "      <td>-75.180969</td>\n",
       "      <td>0 days 00:01:00</td>\n",
       "      <td>12</td>\n",
       "      <td>52</td>\n",
       "      <td>6</td>\n",
       "      <td>31</td>\n",
       "      <td>23</td>\n",
       "    </tr>\n",
       "    <tr>\n",
       "      <th>782339</th>\n",
       "      <td>2017-12-31 23:41:00</td>\n",
       "      <td>2017-12-31 23:55:00</td>\n",
       "      <td>3163</td>\n",
       "      <td>3057</td>\n",
       "      <td>11864</td>\n",
       "      <td>Indego30</td>\n",
       "      <td>25th &amp; Locust</td>\n",
       "      <td>Philadelphia Museum of Art</td>\n",
       "      <td>39.949741</td>\n",
       "      <td>-75.180969</td>\n",
       "      <td>39.964581</td>\n",
       "      <td>-75.180031</td>\n",
       "      <td>0 days 00:14:00</td>\n",
       "      <td>12</td>\n",
       "      <td>52</td>\n",
       "      <td>6</td>\n",
       "      <td>31</td>\n",
       "      <td>23</td>\n",
       "    </tr>\n",
       "  </tbody>\n",
       "</table>\n",
       "<p>782337 rows × 18 columns</p>\n",
       "</div>"
      ],
      "text/plain": [
       "                start_time            end_time  start_station_id  \\\n",
       "0      2017-01-01 00:05:00 2017-01-01 00:16:00              3046   \n",
       "1      2017-01-01 00:21:00 2017-01-01 00:57:00              3110   \n",
       "2      2017-01-01 00:22:00 2017-01-01 00:57:00              3110   \n",
       "3      2017-01-01 00:27:00 2017-01-01 00:39:00              3041   \n",
       "4      2017-01-01 00:28:00 2017-01-01 00:36:00              3047   \n",
       "...                    ...                 ...               ...   \n",
       "782335 2017-12-31 23:05:00 2017-12-31 23:33:00              3070   \n",
       "782336 2017-12-31 23:11:00 2018-01-01 11:03:00              3107   \n",
       "782337 2017-12-31 23:18:00 2017-12-31 23:25:00              3033   \n",
       "782338 2017-12-31 23:39:00 2017-12-31 23:40:00              3163   \n",
       "782339 2017-12-31 23:41:00 2017-12-31 23:55:00              3163   \n",
       "\n",
       "        end_station_id  bike_id user_type           start_station_name  \\\n",
       "0                 3041     5347  Indego30                 2nd & Market   \n",
       "1                 3054     3364   Walk-up  Del. River Trail & Penn St.   \n",
       "2                 3054     2536   Walk-up  Del. River Trail & Penn St.   \n",
       "3                 3005     5176  Indego30          Girard Station, MFL   \n",
       "4                 3124     5370   Walk-up       Independence Mall, NPS   \n",
       "...                ...      ...       ...                          ...   \n",
       "782335            3124     3708  Indego30   Spring Garden Station, MFL   \n",
       "782336            3165     5117  Indego30             33rd & Reservoir   \n",
       "782337            3046    11933  Indego30              10th & Chestnut   \n",
       "782338            3163     6725  Indego30                25th & Locust   \n",
       "782339            3057    11864  Indego30                25th & Locust   \n",
       "\n",
       "                  end_station_name  start_lat  start_lon    end_lat  \\\n",
       "0              Girard Station, MFL  39.950119 -75.144722  39.968491   \n",
       "1                     Rodin Museum  39.961750 -75.136414  39.962502   \n",
       "2                     Rodin Museum  39.961750 -75.136414  39.962502   \n",
       "3                Welcome Park, NPS  39.968491 -75.135460  39.947330   \n",
       "4                 Race Street Pier  39.950710 -75.149208  39.952950   \n",
       "...                            ...        ...        ...        ...   \n",
       "782335            Race Street Pier  39.960621 -75.139832  39.952950   \n",
       "782336             24th & Race SRT  39.982029 -75.188660  39.958191   \n",
       "782337                2nd & Market  39.950050 -75.156723  39.950119   \n",
       "782338               25th & Locust  39.949741 -75.180969  39.949741   \n",
       "782339  Philadelphia Museum of Art  39.949741 -75.180969  39.964581   \n",
       "\n",
       "          end_lon   trip_duration  month  week  weekday  day  hour  \n",
       "0      -75.135460 0 days 00:11:00      1    52        6    1     0  \n",
       "1      -75.174202 0 days 00:36:00      1    52        6    1     0  \n",
       "2      -75.174202 0 days 00:35:00      1    52        6    1     0  \n",
       "3      -75.144028 0 days 00:12:00      1    52        6    1     0  \n",
       "4      -75.139793 0 days 00:08:00      1    52        6    1     0  \n",
       "...           ...             ...    ...   ...      ...  ...   ...  \n",
       "782335 -75.139793 0 days 00:28:00     12    52        6   31    23  \n",
       "782336 -75.178200 0 days 11:52:00     12    52        6   31    23  \n",
       "782337 -75.144722 0 days 00:07:00     12    52        6   31    23  \n",
       "782338 -75.180969 0 days 00:01:00     12    52        6   31    23  \n",
       "782339 -75.180031 0 days 00:14:00     12    52        6   31    23  \n",
       "\n",
       "[782337 rows x 18 columns]"
      ]
     },
     "execution_count": 13,
     "metadata": {},
     "output_type": "execute_result"
    }
   ],
   "source": [
    "#Adding hour, month, weekday and trip duration(based on start and end time) to the table\n",
    "df_philadelphia_2017_joined.loc[:,\"trip_duration\"] = df_philadelphia_2017_joined[\"end_time\"] - df_philadelphia_2017_joined[\"start_time\"] \n",
    "df_philadelphia_2017_joined.loc[:,\"month\"] = df_philadelphia_2017_joined[\"start_time\"].dt.month\n",
    "df_philadelphia_2017_joined.loc[:,\"week\"] = df_philadelphia_2017_joined[\"start_time\"].dt.isocalendar().week\n",
    "df_philadelphia_2017_joined.loc[:,\"weekday\"] = df_philadelphia_2017_joined[\"start_time\"].dt.weekday\n",
    "df_philadelphia_2017_joined.loc[:,\"day\"] = df_philadelphia_2017_joined[\"start_time\"].dt.day\n",
    "df_philadelphia_2017_joined.loc[:,\"hour\"] = df_philadelphia_2017_joined[\"start_time\"].dt.hour\n",
    "df_philadelphia_2017_joined"
   ]
  },
  {
   "attachments": {},
   "cell_type": "markdown",
   "id": "749dddd8",
   "metadata": {},
   "source": [
    "We also remove trips which are shorter than one minute and longer than one day because the bike sharing service does not allow those trips normally."
   ]
  },
  {
   "cell_type": "code",
   "execution_count": 14,
   "id": "2b910fcf",
   "metadata": {
    "scrolled": true
   },
   "outputs": [
    {
     "data": {
      "text/html": [
       "<div>\n",
       "<style scoped>\n",
       "    .dataframe tbody tr th:only-of-type {\n",
       "        vertical-align: middle;\n",
       "    }\n",
       "\n",
       "    .dataframe tbody tr th {\n",
       "        vertical-align: top;\n",
       "    }\n",
       "\n",
       "    .dataframe thead th {\n",
       "        text-align: right;\n",
       "    }\n",
       "</style>\n",
       "<table border=\"1\" class=\"dataframe\">\n",
       "  <thead>\n",
       "    <tr style=\"text-align: right;\">\n",
       "      <th></th>\n",
       "      <th>start_time</th>\n",
       "      <th>end_time</th>\n",
       "      <th>start_station_id</th>\n",
       "      <th>end_station_id</th>\n",
       "      <th>bike_id</th>\n",
       "      <th>user_type</th>\n",
       "      <th>start_station_name</th>\n",
       "      <th>end_station_name</th>\n",
       "      <th>start_lat</th>\n",
       "      <th>start_lon</th>\n",
       "      <th>end_lat</th>\n",
       "      <th>end_lon</th>\n",
       "      <th>trip_duration</th>\n",
       "      <th>month</th>\n",
       "      <th>week</th>\n",
       "      <th>weekday</th>\n",
       "      <th>day</th>\n",
       "      <th>hour</th>\n",
       "    </tr>\n",
       "  </thead>\n",
       "  <tbody>\n",
       "    <tr>\n",
       "      <th>699155</th>\n",
       "      <td>2017-11-05 01:35:00</td>\n",
       "      <td>2017-11-05 01:03:00</td>\n",
       "      <td>3118</td>\n",
       "      <td>3111</td>\n",
       "      <td>6694</td>\n",
       "      <td>Indego30</td>\n",
       "      <td>46th Street Station, MFL</td>\n",
       "      <td>Parkside &amp; Belmont, Case Building</td>\n",
       "      <td>39.958660</td>\n",
       "      <td>-75.213226</td>\n",
       "      <td>39.977791</td>\n",
       "      <td>-75.213226</td>\n",
       "      <td>-1 days +23:28:00</td>\n",
       "      <td>11</td>\n",
       "      <td>44</td>\n",
       "      <td>6</td>\n",
       "      <td>5</td>\n",
       "      <td>1</td>\n",
       "    </tr>\n",
       "    <tr>\n",
       "      <th>699158</th>\n",
       "      <td>2017-11-05 01:39:00</td>\n",
       "      <td>2017-11-05 01:35:00</td>\n",
       "      <td>3066</td>\n",
       "      <td>3066</td>\n",
       "      <td>2551</td>\n",
       "      <td>Indego30</td>\n",
       "      <td>19th &amp; Lombard</td>\n",
       "      <td>19th &amp; Lombard</td>\n",
       "      <td>39.945610</td>\n",
       "      <td>-75.173477</td>\n",
       "      <td>39.945610</td>\n",
       "      <td>-75.173477</td>\n",
       "      <td>-1 days +23:56:00</td>\n",
       "      <td>11</td>\n",
       "      <td>44</td>\n",
       "      <td>6</td>\n",
       "      <td>5</td>\n",
       "      <td>1</td>\n",
       "    </tr>\n",
       "    <tr>\n",
       "      <th>699163</th>\n",
       "      <td>2017-11-05 01:51:00</td>\n",
       "      <td>2017-11-05 01:20:00</td>\n",
       "      <td>3157</td>\n",
       "      <td>3041</td>\n",
       "      <td>11750</td>\n",
       "      <td>Indego30</td>\n",
       "      <td>8th &amp; Mifflin, Bok Building</td>\n",
       "      <td>Girard Station, MFL</td>\n",
       "      <td>39.925449</td>\n",
       "      <td>-75.159538</td>\n",
       "      <td>39.968491</td>\n",
       "      <td>-75.135460</td>\n",
       "      <td>-1 days +23:29:00</td>\n",
       "      <td>11</td>\n",
       "      <td>44</td>\n",
       "      <td>6</td>\n",
       "      <td>5</td>\n",
       "      <td>1</td>\n",
       "    </tr>\n",
       "  </tbody>\n",
       "</table>\n",
       "</div>"
      ],
      "text/plain": [
       "                start_time            end_time  start_station_id  \\\n",
       "699155 2017-11-05 01:35:00 2017-11-05 01:03:00              3118   \n",
       "699158 2017-11-05 01:39:00 2017-11-05 01:35:00              3066   \n",
       "699163 2017-11-05 01:51:00 2017-11-05 01:20:00              3157   \n",
       "\n",
       "        end_station_id  bike_id user_type           start_station_name  \\\n",
       "699155            3111     6694  Indego30     46th Street Station, MFL   \n",
       "699158            3066     2551  Indego30               19th & Lombard   \n",
       "699163            3041    11750  Indego30  8th & Mifflin, Bok Building   \n",
       "\n",
       "                         end_station_name  start_lat  start_lon    end_lat  \\\n",
       "699155  Parkside & Belmont, Case Building  39.958660 -75.213226  39.977791   \n",
       "699158                     19th & Lombard  39.945610 -75.173477  39.945610   \n",
       "699163                Girard Station, MFL  39.925449 -75.159538  39.968491   \n",
       "\n",
       "          end_lon     trip_duration  month  week  weekday  day  hour  \n",
       "699155 -75.213226 -1 days +23:28:00     11    44        6    5     1  \n",
       "699158 -75.173477 -1 days +23:56:00     11    44        6    5     1  \n",
       "699163 -75.135460 -1 days +23:29:00     11    44        6    5     1  "
      ]
     },
     "execution_count": 14,
     "metadata": {},
     "output_type": "execute_result"
    }
   ],
   "source": [
    "df_philadelphia_2017_joined[df_philadelphia_2017_joined[\"trip_duration\"] < \"0 days 00:01:00\"]"
   ]
  },
  {
   "cell_type": "code",
   "execution_count": 15,
   "id": "8eeee351",
   "metadata": {},
   "outputs": [
    {
     "data": {
      "text/html": [
       "<div>\n",
       "<style scoped>\n",
       "    .dataframe tbody tr th:only-of-type {\n",
       "        vertical-align: middle;\n",
       "    }\n",
       "\n",
       "    .dataframe tbody tr th {\n",
       "        vertical-align: top;\n",
       "    }\n",
       "\n",
       "    .dataframe thead th {\n",
       "        text-align: right;\n",
       "    }\n",
       "</style>\n",
       "<table border=\"1\" class=\"dataframe\">\n",
       "  <thead>\n",
       "    <tr style=\"text-align: right;\">\n",
       "      <th></th>\n",
       "      <th>start_time</th>\n",
       "      <th>end_time</th>\n",
       "      <th>start_station_id</th>\n",
       "      <th>end_station_id</th>\n",
       "      <th>bike_id</th>\n",
       "      <th>user_type</th>\n",
       "      <th>start_station_name</th>\n",
       "      <th>end_station_name</th>\n",
       "      <th>start_lat</th>\n",
       "      <th>start_lon</th>\n",
       "      <th>end_lat</th>\n",
       "      <th>end_lon</th>\n",
       "      <th>trip_duration</th>\n",
       "      <th>month</th>\n",
       "      <th>week</th>\n",
       "      <th>weekday</th>\n",
       "      <th>day</th>\n",
       "      <th>hour</th>\n",
       "    </tr>\n",
       "  </thead>\n",
       "  <tbody>\n",
       "  </tbody>\n",
       "</table>\n",
       "</div>"
      ],
      "text/plain": [
       "Empty DataFrame\n",
       "Columns: [start_time, end_time, start_station_id, end_station_id, bike_id, user_type, start_station_name, end_station_name, start_lat, start_lon, end_lat, end_lon, trip_duration, month, week, weekday, day, hour]\n",
       "Index: []"
      ]
     },
     "execution_count": 15,
     "metadata": {},
     "output_type": "execute_result"
    }
   ],
   "source": [
    "df_philadelphia_2017_joined = df_philadelphia_2017_joined[df_philadelphia_2017_joined[\"trip_duration\"] >= \"0 days 00:01:00\"]\n",
    "df_philadelphia_2017_joined[df_philadelphia_2017_joined[\"trip_duration\"] < \"0 days 00:01:00\"]"
   ]
  },
  {
   "cell_type": "code",
   "execution_count": 16,
   "id": "469c3e8d",
   "metadata": {
    "scrolled": true
   },
   "outputs": [
    {
     "data": {
      "text/html": [
       "<div>\n",
       "<style scoped>\n",
       "    .dataframe tbody tr th:only-of-type {\n",
       "        vertical-align: middle;\n",
       "    }\n",
       "\n",
       "    .dataframe tbody tr th {\n",
       "        vertical-align: top;\n",
       "    }\n",
       "\n",
       "    .dataframe thead th {\n",
       "        text-align: right;\n",
       "    }\n",
       "</style>\n",
       "<table border=\"1\" class=\"dataframe\">\n",
       "  <thead>\n",
       "    <tr style=\"text-align: right;\">\n",
       "      <th></th>\n",
       "      <th>start_time</th>\n",
       "      <th>end_time</th>\n",
       "      <th>start_station_id</th>\n",
       "      <th>end_station_id</th>\n",
       "      <th>bike_id</th>\n",
       "      <th>user_type</th>\n",
       "      <th>start_station_name</th>\n",
       "      <th>end_station_name</th>\n",
       "      <th>start_lat</th>\n",
       "      <th>start_lon</th>\n",
       "      <th>end_lat</th>\n",
       "      <th>end_lon</th>\n",
       "      <th>trip_duration</th>\n",
       "      <th>month</th>\n",
       "      <th>week</th>\n",
       "      <th>weekday</th>\n",
       "      <th>day</th>\n",
       "      <th>hour</th>\n",
       "    </tr>\n",
       "  </thead>\n",
       "  <tbody>\n",
       "    <tr>\n",
       "      <th>682</th>\n",
       "      <td>2017-01-01 18:19:00</td>\n",
       "      <td>2017-01-03 08:04:00</td>\n",
       "      <td>3072</td>\n",
       "      <td>3125</td>\n",
       "      <td>5354</td>\n",
       "      <td>Walk-up</td>\n",
       "      <td>Front &amp; Carpenter</td>\n",
       "      <td>15th &amp; South</td>\n",
       "      <td>39.934448</td>\n",
       "      <td>-75.145409</td>\n",
       "      <td>39.943909</td>\n",
       "      <td>-75.167351</td>\n",
       "      <td>1 days 13:45:00</td>\n",
       "      <td>1</td>\n",
       "      <td>52</td>\n",
       "      <td>6</td>\n",
       "      <td>1</td>\n",
       "      <td>18</td>\n",
       "    </tr>\n",
       "    <tr>\n",
       "      <th>20987</th>\n",
       "      <td>2017-01-23 15:19:00</td>\n",
       "      <td>2017-01-24 16:14:00</td>\n",
       "      <td>3038</td>\n",
       "      <td>3028</td>\n",
       "      <td>2492</td>\n",
       "      <td>Indego30</td>\n",
       "      <td>The Children's Hospital of Philadelphia (CHOP)</td>\n",
       "      <td>4th &amp; Bainbridge</td>\n",
       "      <td>39.947811</td>\n",
       "      <td>-75.194092</td>\n",
       "      <td>39.940609</td>\n",
       "      <td>-75.149582</td>\n",
       "      <td>1 days 00:55:00</td>\n",
       "      <td>1</td>\n",
       "      <td>4</td>\n",
       "      <td>0</td>\n",
       "      <td>23</td>\n",
       "      <td>15</td>\n",
       "    </tr>\n",
       "    <tr>\n",
       "      <th>24873</th>\n",
       "      <td>2017-01-26 17:31:00</td>\n",
       "      <td>2017-01-28 10:00:00</td>\n",
       "      <td>3021</td>\n",
       "      <td>3109</td>\n",
       "      <td>5185</td>\n",
       "      <td>Indego30</td>\n",
       "      <td>18th &amp; JFK</td>\n",
       "      <td>Parkside &amp; Girard</td>\n",
       "      <td>39.953899</td>\n",
       "      <td>-75.169022</td>\n",
       "      <td>39.974861</td>\n",
       "      <td>-75.205238</td>\n",
       "      <td>1 days 16:29:00</td>\n",
       "      <td>1</td>\n",
       "      <td>4</td>\n",
       "      <td>3</td>\n",
       "      <td>26</td>\n",
       "      <td>17</td>\n",
       "    </tr>\n",
       "    <tr>\n",
       "      <th>27216</th>\n",
       "      <td>2017-01-28 15:46:00</td>\n",
       "      <td>2017-01-30 08:01:00</td>\n",
       "      <td>3012</td>\n",
       "      <td>3034</td>\n",
       "      <td>5255</td>\n",
       "      <td>Walk-up</td>\n",
       "      <td>21st &amp; Catharine</td>\n",
       "      <td>11th &amp; Reed</td>\n",
       "      <td>39.942181</td>\n",
       "      <td>-75.177467</td>\n",
       "      <td>39.933151</td>\n",
       "      <td>-75.162483</td>\n",
       "      <td>1 days 16:15:00</td>\n",
       "      <td>1</td>\n",
       "      <td>4</td>\n",
       "      <td>5</td>\n",
       "      <td>28</td>\n",
       "      <td>15</td>\n",
       "    </tr>\n",
       "    <tr>\n",
       "      <th>32762</th>\n",
       "      <td>2017-02-02 09:45:00</td>\n",
       "      <td>2017-02-03 17:59:00</td>\n",
       "      <td>3054</td>\n",
       "      <td>3021</td>\n",
       "      <td>5125</td>\n",
       "      <td>Indego30</td>\n",
       "      <td>Rodin Museum</td>\n",
       "      <td>18th &amp; JFK</td>\n",
       "      <td>39.962502</td>\n",
       "      <td>-75.174202</td>\n",
       "      <td>39.953899</td>\n",
       "      <td>-75.169022</td>\n",
       "      <td>1 days 08:14:00</td>\n",
       "      <td>2</td>\n",
       "      <td>5</td>\n",
       "      <td>3</td>\n",
       "      <td>2</td>\n",
       "      <td>9</td>\n",
       "    </tr>\n",
       "    <tr>\n",
       "      <th>...</th>\n",
       "      <td>...</td>\n",
       "      <td>...</td>\n",
       "      <td>...</td>\n",
       "      <td>...</td>\n",
       "      <td>...</td>\n",
       "      <td>...</td>\n",
       "      <td>...</td>\n",
       "      <td>...</td>\n",
       "      <td>...</td>\n",
       "      <td>...</td>\n",
       "      <td>...</td>\n",
       "      <td>...</td>\n",
       "      <td>...</td>\n",
       "      <td>...</td>\n",
       "      <td>...</td>\n",
       "      <td>...</td>\n",
       "      <td>...</td>\n",
       "      <td>...</td>\n",
       "    </tr>\n",
       "    <tr>\n",
       "      <th>735895</th>\n",
       "      <td>2017-11-25 12:12:00</td>\n",
       "      <td>2017-11-27 07:31:00</td>\n",
       "      <td>3112</td>\n",
       "      <td>3020</td>\n",
       "      <td>11894</td>\n",
       "      <td>Indego30</td>\n",
       "      <td>48th &amp; Spruce</td>\n",
       "      <td>University City Station</td>\n",
       "      <td>39.953732</td>\n",
       "      <td>-75.218246</td>\n",
       "      <td>39.949219</td>\n",
       "      <td>-75.190361</td>\n",
       "      <td>1 days 19:19:00</td>\n",
       "      <td>11</td>\n",
       "      <td>47</td>\n",
       "      <td>5</td>\n",
       "      <td>25</td>\n",
       "      <td>12</td>\n",
       "    </tr>\n",
       "    <tr>\n",
       "      <th>749711</th>\n",
       "      <td>2017-12-02 13:00:00</td>\n",
       "      <td>2017-12-03 14:12:00</td>\n",
       "      <td>3040</td>\n",
       "      <td>3073</td>\n",
       "      <td>11928</td>\n",
       "      <td>Walk-up</td>\n",
       "      <td>17th &amp; Spring Garden</td>\n",
       "      <td>9th &amp; Spring Garden</td>\n",
       "      <td>39.962891</td>\n",
       "      <td>-75.166061</td>\n",
       "      <td>39.961430</td>\n",
       "      <td>-75.152420</td>\n",
       "      <td>1 days 01:12:00</td>\n",
       "      <td>12</td>\n",
       "      <td>48</td>\n",
       "      <td>5</td>\n",
       "      <td>2</td>\n",
       "      <td>13</td>\n",
       "    </tr>\n",
       "    <tr>\n",
       "      <th>763091</th>\n",
       "      <td>2017-12-11 11:46:00</td>\n",
       "      <td>2017-12-12 13:15:00</td>\n",
       "      <td>3018</td>\n",
       "      <td>3037</td>\n",
       "      <td>3367</td>\n",
       "      <td>Indego30</td>\n",
       "      <td>12th &amp; Filbert</td>\n",
       "      <td>Pennsylvania Convention Center</td>\n",
       "      <td>39.952728</td>\n",
       "      <td>-75.159790</td>\n",
       "      <td>39.954239</td>\n",
       "      <td>-75.161377</td>\n",
       "      <td>1 days 01:29:00</td>\n",
       "      <td>12</td>\n",
       "      <td>50</td>\n",
       "      <td>0</td>\n",
       "      <td>11</td>\n",
       "      <td>11</td>\n",
       "    </tr>\n",
       "    <tr>\n",
       "      <th>768955</th>\n",
       "      <td>2017-12-15 19:27:00</td>\n",
       "      <td>2017-12-17 16:32:00</td>\n",
       "      <td>3026</td>\n",
       "      <td>3072</td>\n",
       "      <td>11932</td>\n",
       "      <td>Indego30</td>\n",
       "      <td>2nd &amp; South</td>\n",
       "      <td>Front &amp; Carpenter</td>\n",
       "      <td>39.941380</td>\n",
       "      <td>-75.145638</td>\n",
       "      <td>39.934448</td>\n",
       "      <td>-75.145409</td>\n",
       "      <td>1 days 21:05:00</td>\n",
       "      <td>12</td>\n",
       "      <td>50</td>\n",
       "      <td>4</td>\n",
       "      <td>15</td>\n",
       "      <td>19</td>\n",
       "    </tr>\n",
       "    <tr>\n",
       "      <th>769501</th>\n",
       "      <td>2017-12-17 00:31:00</td>\n",
       "      <td>2017-12-18 13:17:00</td>\n",
       "      <td>3088</td>\n",
       "      <td>3070</td>\n",
       "      <td>11727</td>\n",
       "      <td>Walk-up</td>\n",
       "      <td>3rd &amp; Girard</td>\n",
       "      <td>Spring Garden Station, MFL</td>\n",
       "      <td>39.969841</td>\n",
       "      <td>-75.141800</td>\n",
       "      <td>39.960621</td>\n",
       "      <td>-75.139832</td>\n",
       "      <td>1 days 12:46:00</td>\n",
       "      <td>12</td>\n",
       "      <td>50</td>\n",
       "      <td>6</td>\n",
       "      <td>17</td>\n",
       "      <td>0</td>\n",
       "    </tr>\n",
       "  </tbody>\n",
       "</table>\n",
       "<p>109 rows × 18 columns</p>\n",
       "</div>"
      ],
      "text/plain": [
       "                start_time            end_time  start_station_id  \\\n",
       "682    2017-01-01 18:19:00 2017-01-03 08:04:00              3072   \n",
       "20987  2017-01-23 15:19:00 2017-01-24 16:14:00              3038   \n",
       "24873  2017-01-26 17:31:00 2017-01-28 10:00:00              3021   \n",
       "27216  2017-01-28 15:46:00 2017-01-30 08:01:00              3012   \n",
       "32762  2017-02-02 09:45:00 2017-02-03 17:59:00              3054   \n",
       "...                    ...                 ...               ...   \n",
       "735895 2017-11-25 12:12:00 2017-11-27 07:31:00              3112   \n",
       "749711 2017-12-02 13:00:00 2017-12-03 14:12:00              3040   \n",
       "763091 2017-12-11 11:46:00 2017-12-12 13:15:00              3018   \n",
       "768955 2017-12-15 19:27:00 2017-12-17 16:32:00              3026   \n",
       "769501 2017-12-17 00:31:00 2017-12-18 13:17:00              3088   \n",
       "\n",
       "        end_station_id  bike_id user_type  \\\n",
       "682               3125     5354   Walk-up   \n",
       "20987             3028     2492  Indego30   \n",
       "24873             3109     5185  Indego30   \n",
       "27216             3034     5255   Walk-up   \n",
       "32762             3021     5125  Indego30   \n",
       "...                ...      ...       ...   \n",
       "735895            3020    11894  Indego30   \n",
       "749711            3073    11928   Walk-up   \n",
       "763091            3037     3367  Indego30   \n",
       "768955            3072    11932  Indego30   \n",
       "769501            3070    11727   Walk-up   \n",
       "\n",
       "                                    start_station_name  \\\n",
       "682                                  Front & Carpenter   \n",
       "20987   The Children's Hospital of Philadelphia (CHOP)   \n",
       "24873                                       18th & JFK   \n",
       "27216                                 21st & Catharine   \n",
       "32762                                     Rodin Museum   \n",
       "...                                                ...   \n",
       "735895                                   48th & Spruce   \n",
       "749711                            17th & Spring Garden   \n",
       "763091                                  12th & Filbert   \n",
       "768955                                     2nd & South   \n",
       "769501                                    3rd & Girard   \n",
       "\n",
       "                      end_station_name  start_lat  start_lon    end_lat  \\\n",
       "682                       15th & South  39.934448 -75.145409  39.943909   \n",
       "20987                 4th & Bainbridge  39.947811 -75.194092  39.940609   \n",
       "24873                Parkside & Girard  39.953899 -75.169022  39.974861   \n",
       "27216                      11th & Reed  39.942181 -75.177467  39.933151   \n",
       "32762                       18th & JFK  39.962502 -75.174202  39.953899   \n",
       "...                                ...        ...        ...        ...   \n",
       "735895         University City Station  39.953732 -75.218246  39.949219   \n",
       "749711             9th & Spring Garden  39.962891 -75.166061  39.961430   \n",
       "763091  Pennsylvania Convention Center  39.952728 -75.159790  39.954239   \n",
       "768955               Front & Carpenter  39.941380 -75.145638  39.934448   \n",
       "769501      Spring Garden Station, MFL  39.969841 -75.141800  39.960621   \n",
       "\n",
       "          end_lon   trip_duration  month  week  weekday  day  hour  \n",
       "682    -75.167351 1 days 13:45:00      1    52        6    1    18  \n",
       "20987  -75.149582 1 days 00:55:00      1     4        0   23    15  \n",
       "24873  -75.205238 1 days 16:29:00      1     4        3   26    17  \n",
       "27216  -75.162483 1 days 16:15:00      1     4        5   28    15  \n",
       "32762  -75.169022 1 days 08:14:00      2     5        3    2     9  \n",
       "...           ...             ...    ...   ...      ...  ...   ...  \n",
       "735895 -75.190361 1 days 19:19:00     11    47        5   25    12  \n",
       "749711 -75.152420 1 days 01:12:00     12    48        5    2    13  \n",
       "763091 -75.161377 1 days 01:29:00     12    50        0   11    11  \n",
       "768955 -75.145409 1 days 21:05:00     12    50        4   15    19  \n",
       "769501 -75.139832 1 days 12:46:00     12    50        6   17     0  \n",
       "\n",
       "[109 rows x 18 columns]"
      ]
     },
     "execution_count": 16,
     "metadata": {},
     "output_type": "execute_result"
    }
   ],
   "source": [
    "df_philadelphia_2017_joined[df_philadelphia_2017_joined[\"trip_duration\"] > \"1 days\"]"
   ]
  },
  {
   "cell_type": "code",
   "execution_count": 17,
   "id": "5ac25b06",
   "metadata": {},
   "outputs": [
    {
     "data": {
      "text/html": [
       "<div>\n",
       "<style scoped>\n",
       "    .dataframe tbody tr th:only-of-type {\n",
       "        vertical-align: middle;\n",
       "    }\n",
       "\n",
       "    .dataframe tbody tr th {\n",
       "        vertical-align: top;\n",
       "    }\n",
       "\n",
       "    .dataframe thead th {\n",
       "        text-align: right;\n",
       "    }\n",
       "</style>\n",
       "<table border=\"1\" class=\"dataframe\">\n",
       "  <thead>\n",
       "    <tr style=\"text-align: right;\">\n",
       "      <th></th>\n",
       "      <th>start_time</th>\n",
       "      <th>end_time</th>\n",
       "      <th>start_station_id</th>\n",
       "      <th>end_station_id</th>\n",
       "      <th>bike_id</th>\n",
       "      <th>user_type</th>\n",
       "      <th>start_station_name</th>\n",
       "      <th>end_station_name</th>\n",
       "      <th>start_lat</th>\n",
       "      <th>start_lon</th>\n",
       "      <th>end_lat</th>\n",
       "      <th>end_lon</th>\n",
       "      <th>trip_duration</th>\n",
       "      <th>month</th>\n",
       "      <th>week</th>\n",
       "      <th>weekday</th>\n",
       "      <th>day</th>\n",
       "      <th>hour</th>\n",
       "    </tr>\n",
       "  </thead>\n",
       "  <tbody>\n",
       "  </tbody>\n",
       "</table>\n",
       "</div>"
      ],
      "text/plain": [
       "Empty DataFrame\n",
       "Columns: [start_time, end_time, start_station_id, end_station_id, bike_id, user_type, start_station_name, end_station_name, start_lat, start_lon, end_lat, end_lon, trip_duration, month, week, weekday, day, hour]\n",
       "Index: []"
      ]
     },
     "execution_count": 17,
     "metadata": {},
     "output_type": "execute_result"
    }
   ],
   "source": [
    "df_philadelphia_2017_joined = df_philadelphia_2017_joined[df_philadelphia_2017_joined[\"trip_duration\"] <= \"1 days\"]\n",
    "df_philadelphia_2017_joined[df_philadelphia_2017_joined[\"trip_duration\"] > \"1 days\"]"
   ]
  },
  {
   "cell_type": "code",
   "execution_count": 18,
   "id": "b3d361ba",
   "metadata": {},
   "outputs": [
    {
     "data": {
      "text/html": [
       "<div>\n",
       "<style scoped>\n",
       "    .dataframe tbody tr th:only-of-type {\n",
       "        vertical-align: middle;\n",
       "    }\n",
       "\n",
       "    .dataframe tbody tr th {\n",
       "        vertical-align: top;\n",
       "    }\n",
       "\n",
       "    .dataframe thead th {\n",
       "        text-align: right;\n",
       "    }\n",
       "</style>\n",
       "<table border=\"1\" class=\"dataframe\">\n",
       "  <thead>\n",
       "    <tr style=\"text-align: right;\">\n",
       "      <th></th>\n",
       "      <th>start_time</th>\n",
       "      <th>end_time</th>\n",
       "      <th>start_station_id</th>\n",
       "      <th>end_station_id</th>\n",
       "      <th>bike_id</th>\n",
       "      <th>user_type</th>\n",
       "      <th>start_station_name</th>\n",
       "      <th>end_station_name</th>\n",
       "      <th>start_lat</th>\n",
       "      <th>start_lon</th>\n",
       "      <th>end_lat</th>\n",
       "      <th>end_lon</th>\n",
       "      <th>trip_duration</th>\n",
       "      <th>month</th>\n",
       "      <th>week</th>\n",
       "      <th>weekday</th>\n",
       "      <th>day</th>\n",
       "      <th>hour</th>\n",
       "    </tr>\n",
       "  </thead>\n",
       "  <tbody>\n",
       "    <tr>\n",
       "      <th>0</th>\n",
       "      <td>2017-01-01 00:05:00</td>\n",
       "      <td>2017-01-01 00:16:00</td>\n",
       "      <td>3046</td>\n",
       "      <td>3041</td>\n",
       "      <td>5347</td>\n",
       "      <td>Indego30</td>\n",
       "      <td>2nd &amp; Market</td>\n",
       "      <td>Girard Station, MFL</td>\n",
       "      <td>39.950119</td>\n",
       "      <td>-75.144722</td>\n",
       "      <td>39.968491</td>\n",
       "      <td>-75.135460</td>\n",
       "      <td>0 days 00:11:00</td>\n",
       "      <td>1</td>\n",
       "      <td>52</td>\n",
       "      <td>6</td>\n",
       "      <td>1</td>\n",
       "      <td>0</td>\n",
       "    </tr>\n",
       "    <tr>\n",
       "      <th>1</th>\n",
       "      <td>2017-01-01 00:21:00</td>\n",
       "      <td>2017-01-01 00:57:00</td>\n",
       "      <td>3110</td>\n",
       "      <td>3054</td>\n",
       "      <td>3364</td>\n",
       "      <td>Walk-up</td>\n",
       "      <td>Del. River Trail &amp; Penn St.</td>\n",
       "      <td>Rodin Museum</td>\n",
       "      <td>39.961750</td>\n",
       "      <td>-75.136414</td>\n",
       "      <td>39.962502</td>\n",
       "      <td>-75.174202</td>\n",
       "      <td>0 days 00:36:00</td>\n",
       "      <td>1</td>\n",
       "      <td>52</td>\n",
       "      <td>6</td>\n",
       "      <td>1</td>\n",
       "      <td>0</td>\n",
       "    </tr>\n",
       "    <tr>\n",
       "      <th>2</th>\n",
       "      <td>2017-01-01 00:22:00</td>\n",
       "      <td>2017-01-01 00:57:00</td>\n",
       "      <td>3110</td>\n",
       "      <td>3054</td>\n",
       "      <td>2536</td>\n",
       "      <td>Walk-up</td>\n",
       "      <td>Del. River Trail &amp; Penn St.</td>\n",
       "      <td>Rodin Museum</td>\n",
       "      <td>39.961750</td>\n",
       "      <td>-75.136414</td>\n",
       "      <td>39.962502</td>\n",
       "      <td>-75.174202</td>\n",
       "      <td>0 days 00:35:00</td>\n",
       "      <td>1</td>\n",
       "      <td>52</td>\n",
       "      <td>6</td>\n",
       "      <td>1</td>\n",
       "      <td>0</td>\n",
       "    </tr>\n",
       "    <tr>\n",
       "      <th>3</th>\n",
       "      <td>2017-01-01 00:27:00</td>\n",
       "      <td>2017-01-01 00:39:00</td>\n",
       "      <td>3041</td>\n",
       "      <td>3005</td>\n",
       "      <td>5176</td>\n",
       "      <td>Indego30</td>\n",
       "      <td>Girard Station, MFL</td>\n",
       "      <td>Welcome Park, NPS</td>\n",
       "      <td>39.968491</td>\n",
       "      <td>-75.135460</td>\n",
       "      <td>39.947330</td>\n",
       "      <td>-75.144028</td>\n",
       "      <td>0 days 00:12:00</td>\n",
       "      <td>1</td>\n",
       "      <td>52</td>\n",
       "      <td>6</td>\n",
       "      <td>1</td>\n",
       "      <td>0</td>\n",
       "    </tr>\n",
       "    <tr>\n",
       "      <th>4</th>\n",
       "      <td>2017-01-01 00:28:00</td>\n",
       "      <td>2017-01-01 00:36:00</td>\n",
       "      <td>3047</td>\n",
       "      <td>3124</td>\n",
       "      <td>5370</td>\n",
       "      <td>Walk-up</td>\n",
       "      <td>Independence Mall, NPS</td>\n",
       "      <td>Race Street Pier</td>\n",
       "      <td>39.950710</td>\n",
       "      <td>-75.149208</td>\n",
       "      <td>39.952950</td>\n",
       "      <td>-75.139793</td>\n",
       "      <td>0 days 00:08:00</td>\n",
       "      <td>1</td>\n",
       "      <td>52</td>\n",
       "      <td>6</td>\n",
       "      <td>1</td>\n",
       "      <td>0</td>\n",
       "    </tr>\n",
       "    <tr>\n",
       "      <th>...</th>\n",
       "      <td>...</td>\n",
       "      <td>...</td>\n",
       "      <td>...</td>\n",
       "      <td>...</td>\n",
       "      <td>...</td>\n",
       "      <td>...</td>\n",
       "      <td>...</td>\n",
       "      <td>...</td>\n",
       "      <td>...</td>\n",
       "      <td>...</td>\n",
       "      <td>...</td>\n",
       "      <td>...</td>\n",
       "      <td>...</td>\n",
       "      <td>...</td>\n",
       "      <td>...</td>\n",
       "      <td>...</td>\n",
       "      <td>...</td>\n",
       "      <td>...</td>\n",
       "    </tr>\n",
       "    <tr>\n",
       "      <th>782335</th>\n",
       "      <td>2017-12-31 23:05:00</td>\n",
       "      <td>2017-12-31 23:33:00</td>\n",
       "      <td>3070</td>\n",
       "      <td>3124</td>\n",
       "      <td>3708</td>\n",
       "      <td>Indego30</td>\n",
       "      <td>Spring Garden Station, MFL</td>\n",
       "      <td>Race Street Pier</td>\n",
       "      <td>39.960621</td>\n",
       "      <td>-75.139832</td>\n",
       "      <td>39.952950</td>\n",
       "      <td>-75.139793</td>\n",
       "      <td>0 days 00:28:00</td>\n",
       "      <td>12</td>\n",
       "      <td>52</td>\n",
       "      <td>6</td>\n",
       "      <td>31</td>\n",
       "      <td>23</td>\n",
       "    </tr>\n",
       "    <tr>\n",
       "      <th>782336</th>\n",
       "      <td>2017-12-31 23:11:00</td>\n",
       "      <td>2018-01-01 11:03:00</td>\n",
       "      <td>3107</td>\n",
       "      <td>3165</td>\n",
       "      <td>5117</td>\n",
       "      <td>Indego30</td>\n",
       "      <td>33rd &amp; Reservoir</td>\n",
       "      <td>24th &amp; Race SRT</td>\n",
       "      <td>39.982029</td>\n",
       "      <td>-75.188660</td>\n",
       "      <td>39.958191</td>\n",
       "      <td>-75.178200</td>\n",
       "      <td>0 days 11:52:00</td>\n",
       "      <td>12</td>\n",
       "      <td>52</td>\n",
       "      <td>6</td>\n",
       "      <td>31</td>\n",
       "      <td>23</td>\n",
       "    </tr>\n",
       "    <tr>\n",
       "      <th>782337</th>\n",
       "      <td>2017-12-31 23:18:00</td>\n",
       "      <td>2017-12-31 23:25:00</td>\n",
       "      <td>3033</td>\n",
       "      <td>3046</td>\n",
       "      <td>11933</td>\n",
       "      <td>Indego30</td>\n",
       "      <td>10th &amp; Chestnut</td>\n",
       "      <td>2nd &amp; Market</td>\n",
       "      <td>39.950050</td>\n",
       "      <td>-75.156723</td>\n",
       "      <td>39.950119</td>\n",
       "      <td>-75.144722</td>\n",
       "      <td>0 days 00:07:00</td>\n",
       "      <td>12</td>\n",
       "      <td>52</td>\n",
       "      <td>6</td>\n",
       "      <td>31</td>\n",
       "      <td>23</td>\n",
       "    </tr>\n",
       "    <tr>\n",
       "      <th>782338</th>\n",
       "      <td>2017-12-31 23:39:00</td>\n",
       "      <td>2017-12-31 23:40:00</td>\n",
       "      <td>3163</td>\n",
       "      <td>3163</td>\n",
       "      <td>6725</td>\n",
       "      <td>Indego30</td>\n",
       "      <td>25th &amp; Locust</td>\n",
       "      <td>25th &amp; Locust</td>\n",
       "      <td>39.949741</td>\n",
       "      <td>-75.180969</td>\n",
       "      <td>39.949741</td>\n",
       "      <td>-75.180969</td>\n",
       "      <td>0 days 00:01:00</td>\n",
       "      <td>12</td>\n",
       "      <td>52</td>\n",
       "      <td>6</td>\n",
       "      <td>31</td>\n",
       "      <td>23</td>\n",
       "    </tr>\n",
       "    <tr>\n",
       "      <th>782339</th>\n",
       "      <td>2017-12-31 23:41:00</td>\n",
       "      <td>2017-12-31 23:55:00</td>\n",
       "      <td>3163</td>\n",
       "      <td>3057</td>\n",
       "      <td>11864</td>\n",
       "      <td>Indego30</td>\n",
       "      <td>25th &amp; Locust</td>\n",
       "      <td>Philadelphia Museum of Art</td>\n",
       "      <td>39.949741</td>\n",
       "      <td>-75.180969</td>\n",
       "      <td>39.964581</td>\n",
       "      <td>-75.180031</td>\n",
       "      <td>0 days 00:14:00</td>\n",
       "      <td>12</td>\n",
       "      <td>52</td>\n",
       "      <td>6</td>\n",
       "      <td>31</td>\n",
       "      <td>23</td>\n",
       "    </tr>\n",
       "  </tbody>\n",
       "</table>\n",
       "<p>782225 rows × 18 columns</p>\n",
       "</div>"
      ],
      "text/plain": [
       "                start_time            end_time  start_station_id  \\\n",
       "0      2017-01-01 00:05:00 2017-01-01 00:16:00              3046   \n",
       "1      2017-01-01 00:21:00 2017-01-01 00:57:00              3110   \n",
       "2      2017-01-01 00:22:00 2017-01-01 00:57:00              3110   \n",
       "3      2017-01-01 00:27:00 2017-01-01 00:39:00              3041   \n",
       "4      2017-01-01 00:28:00 2017-01-01 00:36:00              3047   \n",
       "...                    ...                 ...               ...   \n",
       "782335 2017-12-31 23:05:00 2017-12-31 23:33:00              3070   \n",
       "782336 2017-12-31 23:11:00 2018-01-01 11:03:00              3107   \n",
       "782337 2017-12-31 23:18:00 2017-12-31 23:25:00              3033   \n",
       "782338 2017-12-31 23:39:00 2017-12-31 23:40:00              3163   \n",
       "782339 2017-12-31 23:41:00 2017-12-31 23:55:00              3163   \n",
       "\n",
       "        end_station_id  bike_id user_type           start_station_name  \\\n",
       "0                 3041     5347  Indego30                 2nd & Market   \n",
       "1                 3054     3364   Walk-up  Del. River Trail & Penn St.   \n",
       "2                 3054     2536   Walk-up  Del. River Trail & Penn St.   \n",
       "3                 3005     5176  Indego30          Girard Station, MFL   \n",
       "4                 3124     5370   Walk-up       Independence Mall, NPS   \n",
       "...                ...      ...       ...                          ...   \n",
       "782335            3124     3708  Indego30   Spring Garden Station, MFL   \n",
       "782336            3165     5117  Indego30             33rd & Reservoir   \n",
       "782337            3046    11933  Indego30              10th & Chestnut   \n",
       "782338            3163     6725  Indego30                25th & Locust   \n",
       "782339            3057    11864  Indego30                25th & Locust   \n",
       "\n",
       "                  end_station_name  start_lat  start_lon    end_lat  \\\n",
       "0              Girard Station, MFL  39.950119 -75.144722  39.968491   \n",
       "1                     Rodin Museum  39.961750 -75.136414  39.962502   \n",
       "2                     Rodin Museum  39.961750 -75.136414  39.962502   \n",
       "3                Welcome Park, NPS  39.968491 -75.135460  39.947330   \n",
       "4                 Race Street Pier  39.950710 -75.149208  39.952950   \n",
       "...                            ...        ...        ...        ...   \n",
       "782335            Race Street Pier  39.960621 -75.139832  39.952950   \n",
       "782336             24th & Race SRT  39.982029 -75.188660  39.958191   \n",
       "782337                2nd & Market  39.950050 -75.156723  39.950119   \n",
       "782338               25th & Locust  39.949741 -75.180969  39.949741   \n",
       "782339  Philadelphia Museum of Art  39.949741 -75.180969  39.964581   \n",
       "\n",
       "          end_lon   trip_duration  month  week  weekday  day  hour  \n",
       "0      -75.135460 0 days 00:11:00      1    52        6    1     0  \n",
       "1      -75.174202 0 days 00:36:00      1    52        6    1     0  \n",
       "2      -75.174202 0 days 00:35:00      1    52        6    1     0  \n",
       "3      -75.144028 0 days 00:12:00      1    52        6    1     0  \n",
       "4      -75.139793 0 days 00:08:00      1    52        6    1     0  \n",
       "...           ...             ...    ...   ...      ...  ...   ...  \n",
       "782335 -75.139793 0 days 00:28:00     12    52        6   31    23  \n",
       "782336 -75.178200 0 days 11:52:00     12    52        6   31    23  \n",
       "782337 -75.144722 0 days 00:07:00     12    52        6   31    23  \n",
       "782338 -75.180969 0 days 00:01:00     12    52        6   31    23  \n",
       "782339 -75.180031 0 days 00:14:00     12    52        6   31    23  \n",
       "\n",
       "[782225 rows x 18 columns]"
      ]
     },
     "execution_count": 18,
     "metadata": {},
     "output_type": "execute_result"
    }
   ],
   "source": [
    "df_philadelphia_cleaned = df_philadelphia_2017_joined.copy()\n",
    "df_philadelphia_cleaned"
   ]
  },
  {
   "attachments": {},
   "cell_type": "markdown",
   "id": "59507f32",
   "metadata": {},
   "source": [
    "### Preparing and cleaning the weather dataset"
   ]
  },
  {
   "attachments": {},
   "cell_type": "markdown",
   "id": "f1aab1f8",
   "metadata": {},
   "source": [
    "After preparing and cleaning the philadelphia dataset we need to do most of the procedure on the weather dataset."
   ]
  },
  {
   "cell_type": "code",
   "execution_count": 19,
   "id": "8c22f1e5",
   "metadata": {},
   "outputs": [
    {
     "name": "stderr",
     "output_type": "stream",
     "text": [
      "C:\\Users\\Paulo\\AppData\\Local\\Temp\\ipykernel_9268\\1772864593.py:2: FutureWarning: In a future version, `df.iloc[:, i] = newvals` will attempt to set the values inplace instead of always setting a new array. To retain the old behavior, use either `df[df.columns[i]] = newvals` or, if columns are non-unique, `df.isetitem(i, newvals)`\n",
      "  df_weather.loc[:, \"date_time\"] = pd.to_datetime(df_weather[\"date_time\"])\n"
     ]
    }
   ],
   "source": [
    "#Changing the type of date_time (df_weather) to datetime type from pandas\n",
    "df_weather.loc[:, \"date_time\"] = pd.to_datetime(df_weather[\"date_time\"])\n",
    "\n",
    "#Sort the dataframe by their corresponding time column\n",
    "df_weather.sort_values([\"date_time\"], inplace = True)\n",
    "\n",
    "#Reset the index\n",
    "df_weather.reset_index(drop = True, inplace =True)"
   ]
  },
  {
   "attachments": {},
   "cell_type": "markdown",
   "id": "f7c3ef86",
   "metadata": {},
   "source": [
    "First of all we check for duplicate rows in the weather data and delete them if they occur because we do not need multiple rows multiple times."
   ]
  },
  {
   "cell_type": "code",
   "execution_count": 20,
   "id": "7663df90",
   "metadata": {},
   "outputs": [
    {
     "name": "stdout",
     "output_type": "stream",
     "text": [
      "Number of duplicates in df_weather:  630\n"
     ]
    }
   ],
   "source": [
    "#Checking for any duplicates in weather data\n",
    "print(\"Number of duplicates in df_weather: \", df_weather.duplicated().sum())"
   ]
  },
  {
   "cell_type": "code",
   "execution_count": 21,
   "id": "039ded9c",
   "metadata": {},
   "outputs": [
    {
     "data": {
      "text/html": [
       "<div>\n",
       "<style scoped>\n",
       "    .dataframe tbody tr th:only-of-type {\n",
       "        vertical-align: middle;\n",
       "    }\n",
       "\n",
       "    .dataframe tbody tr th {\n",
       "        vertical-align: top;\n",
       "    }\n",
       "\n",
       "    .dataframe thead th {\n",
       "        text-align: right;\n",
       "    }\n",
       "</style>\n",
       "<table border=\"1\" class=\"dataframe\">\n",
       "  <thead>\n",
       "    <tr style=\"text-align: right;\">\n",
       "      <th></th>\n",
       "      <th>date_time</th>\n",
       "      <th>max_temp</th>\n",
       "      <th>min_temp</th>\n",
       "      <th>precip</th>\n",
       "    </tr>\n",
       "  </thead>\n",
       "  <tbody>\n",
       "  </tbody>\n",
       "</table>\n",
       "</div>"
      ],
      "text/plain": [
       "Empty DataFrame\n",
       "Columns: [date_time, max_temp, min_temp, precip]\n",
       "Index: []"
      ]
     },
     "metadata": {},
     "output_type": "display_data"
    }
   ],
   "source": [
    "#Dropping all duplicates for the weather data\n",
    "df_weather.drop_duplicates(subset= [\"date_time\"],inplace = True)\n",
    "\n",
    "display(df_weather[df_weather.duplicated()])"
   ]
  },
  {
   "attachments": {},
   "cell_type": "markdown",
   "id": "c7a4e839",
   "metadata": {},
   "source": [
    "We also check for null values in the weather data and delete them. It is important to note that we later add additional rows with null values but with the missing time intervals because we can interpolate them with the interpolate function in pandas."
   ]
  },
  {
   "cell_type": "code",
   "execution_count": 22,
   "id": "492287f5",
   "metadata": {},
   "outputs": [
    {
     "data": {
      "text/html": [
       "<div>\n",
       "<style scoped>\n",
       "    .dataframe tbody tr th:only-of-type {\n",
       "        vertical-align: middle;\n",
       "    }\n",
       "\n",
       "    .dataframe tbody tr th {\n",
       "        vertical-align: top;\n",
       "    }\n",
       "\n",
       "    .dataframe thead th {\n",
       "        text-align: right;\n",
       "    }\n",
       "</style>\n",
       "<table border=\"1\" class=\"dataframe\">\n",
       "  <thead>\n",
       "    <tr style=\"text-align: right;\">\n",
       "      <th></th>\n",
       "      <th>date_time</th>\n",
       "      <th>max_temp</th>\n",
       "      <th>min_temp</th>\n",
       "      <th>precip</th>\n",
       "    </tr>\n",
       "  </thead>\n",
       "  <tbody>\n",
       "    <tr>\n",
       "      <th>43785</th>\n",
       "      <td>NaT</td>\n",
       "      <td>NaN</td>\n",
       "      <td>NaN</td>\n",
       "      <td>NaN</td>\n",
       "    </tr>\n",
       "  </tbody>\n",
       "</table>\n",
       "</div>"
      ],
      "text/plain": [
       "      date_time  max_temp  min_temp  precip\n",
       "43785       NaT       NaN       NaN     NaN"
      ]
     },
     "metadata": {},
     "output_type": "display_data"
    }
   ],
   "source": [
    "#Checking for missing values in weather data\n",
    "display(df_weather[df_weather.isnull().any(axis = 1)])"
   ]
  },
  {
   "cell_type": "code",
   "execution_count": 23,
   "id": "c9d92af5",
   "metadata": {},
   "outputs": [],
   "source": [
    "df_weather.dropna(inplace = True)"
   ]
  },
  {
   "cell_type": "markdown",
   "id": "b01f8ae2",
   "metadata": {},
   "source": [
    "Since the weather data consists of data from the beginning of 2015 until the end of 2019, we want to have as well only the weather data for 2017."
   ]
  },
  {
   "cell_type": "code",
   "execution_count": 24,
   "id": "4dea3883",
   "metadata": {},
   "outputs": [],
   "source": [
    "#Selecting data from the beginning of 2017 till the end of 2017\n",
    "df_weather_2017 = df_weather[(df_weather[\"date_time\"]>= \"2017-01-01 00:00:00\") & (df_weather[\"date_time\"]< \"2018-01-01 00:00:00\" )]"
   ]
  },
  {
   "cell_type": "code",
   "execution_count": 25,
   "id": "018da9e6",
   "metadata": {},
   "outputs": [],
   "source": [
    "#Add missing intervals in the weather data\n",
    "df_weather_2017.set_index(\"date_time\", inplace = True)\n",
    "df_weather_2017 = df_weather_2017.resample(\"H\").asfreq()"
   ]
  },
  {
   "attachments": {},
   "cell_type": "markdown",
   "id": "cdd5af35",
   "metadata": {},
   "source": [
    "The minimum temperature and maximum temperature will be interpolated linearly. The precipitation value is interpolated by taking one of the nearest existing values."
   ]
  },
  {
   "cell_type": "code",
   "execution_count": 26,
   "id": "e2fce930",
   "metadata": {},
   "outputs": [
    {
     "data": {
      "text/html": [
       "<div>\n",
       "<style scoped>\n",
       "    .dataframe tbody tr th:only-of-type {\n",
       "        vertical-align: middle;\n",
       "    }\n",
       "\n",
       "    .dataframe tbody tr th {\n",
       "        vertical-align: top;\n",
       "    }\n",
       "\n",
       "    .dataframe thead th {\n",
       "        text-align: right;\n",
       "    }\n",
       "</style>\n",
       "<table border=\"1\" class=\"dataframe\">\n",
       "  <thead>\n",
       "    <tr style=\"text-align: right;\">\n",
       "      <th></th>\n",
       "      <th>date_time</th>\n",
       "      <th>max_temp</th>\n",
       "      <th>min_temp</th>\n",
       "      <th>precip</th>\n",
       "    </tr>\n",
       "  </thead>\n",
       "  <tbody>\n",
       "  </tbody>\n",
       "</table>\n",
       "</div>"
      ],
      "text/plain": [
       "Empty DataFrame\n",
       "Columns: [date_time, max_temp, min_temp, precip]\n",
       "Index: []"
      ]
     },
     "metadata": {},
     "output_type": "display_data"
    },
    {
     "data": {
      "text/html": [
       "<div>\n",
       "<style scoped>\n",
       "    .dataframe tbody tr th:only-of-type {\n",
       "        vertical-align: middle;\n",
       "    }\n",
       "\n",
       "    .dataframe tbody tr th {\n",
       "        vertical-align: top;\n",
       "    }\n",
       "\n",
       "    .dataframe thead th {\n",
       "        text-align: right;\n",
       "    }\n",
       "</style>\n",
       "<table border=\"1\" class=\"dataframe\">\n",
       "  <thead>\n",
       "    <tr style=\"text-align: right;\">\n",
       "      <th></th>\n",
       "      <th>date_time</th>\n",
       "      <th>max_temp</th>\n",
       "      <th>min_temp</th>\n",
       "      <th>precip</th>\n",
       "    </tr>\n",
       "  </thead>\n",
       "  <tbody>\n",
       "    <tr>\n",
       "      <th>0</th>\n",
       "      <td>2017-01-01 00:00:00</td>\n",
       "      <td>6.1</td>\n",
       "      <td>6.1</td>\n",
       "      <td>0.0</td>\n",
       "    </tr>\n",
       "    <tr>\n",
       "      <th>1</th>\n",
       "      <td>2017-01-01 01:00:00</td>\n",
       "      <td>6.1</td>\n",
       "      <td>6.1</td>\n",
       "      <td>0.0</td>\n",
       "    </tr>\n",
       "    <tr>\n",
       "      <th>2</th>\n",
       "      <td>2017-01-01 02:00:00</td>\n",
       "      <td>6.7</td>\n",
       "      <td>6.7</td>\n",
       "      <td>0.0</td>\n",
       "    </tr>\n",
       "    <tr>\n",
       "      <th>3</th>\n",
       "      <td>2017-01-01 03:00:00</td>\n",
       "      <td>7.2</td>\n",
       "      <td>7.2</td>\n",
       "      <td>0.0</td>\n",
       "    </tr>\n",
       "    <tr>\n",
       "      <th>4</th>\n",
       "      <td>2017-01-01 04:00:00</td>\n",
       "      <td>7.8</td>\n",
       "      <td>7.8</td>\n",
       "      <td>0.0</td>\n",
       "    </tr>\n",
       "    <tr>\n",
       "      <th>...</th>\n",
       "      <td>...</td>\n",
       "      <td>...</td>\n",
       "      <td>...</td>\n",
       "      <td>...</td>\n",
       "    </tr>\n",
       "    <tr>\n",
       "      <th>8755</th>\n",
       "      <td>2017-12-31 19:00:00</td>\n",
       "      <td>-8.9</td>\n",
       "      <td>-8.9</td>\n",
       "      <td>0.0</td>\n",
       "    </tr>\n",
       "    <tr>\n",
       "      <th>8756</th>\n",
       "      <td>2017-12-31 20:00:00</td>\n",
       "      <td>-8.9</td>\n",
       "      <td>-8.9</td>\n",
       "      <td>0.0</td>\n",
       "    </tr>\n",
       "    <tr>\n",
       "      <th>8757</th>\n",
       "      <td>2017-12-31 21:00:00</td>\n",
       "      <td>-9.4</td>\n",
       "      <td>-9.4</td>\n",
       "      <td>0.0</td>\n",
       "    </tr>\n",
       "    <tr>\n",
       "      <th>8758</th>\n",
       "      <td>2017-12-31 22:00:00</td>\n",
       "      <td>-10.0</td>\n",
       "      <td>-10.0</td>\n",
       "      <td>0.0</td>\n",
       "    </tr>\n",
       "    <tr>\n",
       "      <th>8759</th>\n",
       "      <td>2017-12-31 23:00:00</td>\n",
       "      <td>-10.0</td>\n",
       "      <td>-10.0</td>\n",
       "      <td>0.0</td>\n",
       "    </tr>\n",
       "  </tbody>\n",
       "</table>\n",
       "<p>8760 rows × 4 columns</p>\n",
       "</div>"
      ],
      "text/plain": [
       "               date_time  max_temp  min_temp  precip\n",
       "0    2017-01-01 00:00:00       6.1       6.1     0.0\n",
       "1    2017-01-01 01:00:00       6.1       6.1     0.0\n",
       "2    2017-01-01 02:00:00       6.7       6.7     0.0\n",
       "3    2017-01-01 03:00:00       7.2       7.2     0.0\n",
       "4    2017-01-01 04:00:00       7.8       7.8     0.0\n",
       "...                  ...       ...       ...     ...\n",
       "8755 2017-12-31 19:00:00      -8.9      -8.9     0.0\n",
       "8756 2017-12-31 20:00:00      -8.9      -8.9     0.0\n",
       "8757 2017-12-31 21:00:00      -9.4      -9.4     0.0\n",
       "8758 2017-12-31 22:00:00     -10.0     -10.0     0.0\n",
       "8759 2017-12-31 23:00:00     -10.0     -10.0     0.0\n",
       "\n",
       "[8760 rows x 4 columns]"
      ]
     },
     "metadata": {},
     "output_type": "display_data"
    }
   ],
   "source": [
    "# Interpolate missing values in the weather data\n",
    "df_weather_2017[\"min_temp\"].interpolate(method = \"linear\", inplace = True)\n",
    "df_weather_2017[\"max_temp\"].interpolate(method = \"linear\", inplace = True)\n",
    "df_weather_2017[\"precip\"].interpolate(method = \"pad\", inplace = True)\n",
    "df_weather_2017.reset_index(drop=False, inplace = True)\n",
    "\n",
    "# Check if null values in the weather data still exist\n",
    "display(df_weather_2017[df_weather_2017.isnull().any(axis = 1)])\n",
    "display(df_weather_2017)"
   ]
  },
  {
   "attachments": {},
   "cell_type": "markdown",
   "id": "5d0b0e15",
   "metadata": {},
   "source": [
    "All dataframes for reference:\n",
    "* **Philadelphia data**\n",
    "   * *df_philadelphia_cleaned*\n",
    "* **Weather data**\n",
    "   * *df_weather_2017*"
   ]
  },
  {
   "attachments": {},
   "cell_type": "markdown",
   "id": "11589c83",
   "metadata": {},
   "source": [
    "## Clustering"
   ]
  },
  {
   "attachments": {},
   "cell_type": "markdown",
   "id": "a467d9e9",
   "metadata": {},
   "source": [
    "### General Data Prep\n",
    "\n",
    "Before we can start with the clustering, we thought about a new feature for our clustering process. <br>\n",
    "This feature will be the distance between start and end stations of every trip, which can be calculated <br>\n",
    "with the Haversine library."
   ]
  },
  {
   "cell_type": "code",
   "execution_count": 27,
   "id": "ebfa79b5",
   "metadata": {},
   "outputs": [],
   "source": [
    "df_phil_clustering = df_philadelphia_cleaned.copy()\n",
    "\n",
    "# Only done because its not done in the original data cleaning part, remove once happened\n",
    "df_phil_clustering.reset_index(inplace=True, drop=True)\n",
    "\n",
    "# Changing trip_duration from datetime type to an int -> probably should also be done in the original data cleaning part!\n",
    "df_phil_clustering.loc[:, 'trip_duration'] = df_phil_clustering['trip_duration'].dt.seconds / 60\n",
    "df_phil_clustering.rename(columns={'trip_duration': 'trip_duration in minutes'}, inplace=True)\n",
    "df_phil_clustering['trip_duration in minutes'] = df_phil_clustering['trip_duration in minutes'].astype(int)\n",
    "\n",
    "# Calculating the distance between start and end coordinates of stations as one of our features for Clustering\n",
    "for i in range(0, len(df_phil_clustering)):\n",
    "    combined_start_coordinates = (df_phil_clustering.at[i, 'start_lat'], df_phil_clustering.at[i, 'start_lon'])\n",
    "    combined_end_coordinates = (df_phil_clustering.at[i, 'end_lat'], df_phil_clustering.at[i, 'end_lon'])\n",
    "\n",
    "    # By default haversine uses km, so no need to set extra units\n",
    "    df_phil_clustering.at[i, 'distance_in_km'] = hs.haversine(combined_start_coordinates, combined_end_coordinates)"
   ]
  },
  {
   "cell_type": "code",
   "execution_count": 28,
   "id": "67e9da6a",
   "metadata": {},
   "outputs": [
    {
     "data": {
      "text/html": [
       "<div>\n",
       "<style scoped>\n",
       "    .dataframe tbody tr th:only-of-type {\n",
       "        vertical-align: middle;\n",
       "    }\n",
       "\n",
       "    .dataframe tbody tr th {\n",
       "        vertical-align: top;\n",
       "    }\n",
       "\n",
       "    .dataframe thead th {\n",
       "        text-align: right;\n",
       "    }\n",
       "</style>\n",
       "<table border=\"1\" class=\"dataframe\">\n",
       "  <thead>\n",
       "    <tr style=\"text-align: right;\">\n",
       "      <th></th>\n",
       "      <th>start_time</th>\n",
       "      <th>end_time</th>\n",
       "      <th>start_station_id</th>\n",
       "      <th>end_station_id</th>\n",
       "      <th>bike_id</th>\n",
       "      <th>user_type</th>\n",
       "      <th>start_station_name</th>\n",
       "      <th>end_station_name</th>\n",
       "      <th>start_lat</th>\n",
       "      <th>start_lon</th>\n",
       "      <th>end_lat</th>\n",
       "      <th>end_lon</th>\n",
       "      <th>trip_duration in minutes</th>\n",
       "      <th>month</th>\n",
       "      <th>week</th>\n",
       "      <th>weekday</th>\n",
       "      <th>day</th>\n",
       "      <th>hour</th>\n",
       "      <th>distance_in_km</th>\n",
       "    </tr>\n",
       "  </thead>\n",
       "  <tbody>\n",
       "    <tr>\n",
       "      <th>0</th>\n",
       "      <td>2017-01-01 00:05:00</td>\n",
       "      <td>2017-01-01 00:16:00</td>\n",
       "      <td>3046</td>\n",
       "      <td>3041</td>\n",
       "      <td>5347</td>\n",
       "      <td>Indego30</td>\n",
       "      <td>2nd &amp; Market</td>\n",
       "      <td>Girard Station, MFL</td>\n",
       "      <td>39.950119</td>\n",
       "      <td>-75.144722</td>\n",
       "      <td>39.968491</td>\n",
       "      <td>-75.135460</td>\n",
       "      <td>11</td>\n",
       "      <td>1</td>\n",
       "      <td>52</td>\n",
       "      <td>6</td>\n",
       "      <td>1</td>\n",
       "      <td>0</td>\n",
       "      <td>2.190094</td>\n",
       "    </tr>\n",
       "    <tr>\n",
       "      <th>1</th>\n",
       "      <td>2017-01-01 00:21:00</td>\n",
       "      <td>2017-01-01 00:57:00</td>\n",
       "      <td>3110</td>\n",
       "      <td>3054</td>\n",
       "      <td>3364</td>\n",
       "      <td>Walk-up</td>\n",
       "      <td>Del. River Trail &amp; Penn St.</td>\n",
       "      <td>Rodin Museum</td>\n",
       "      <td>39.961750</td>\n",
       "      <td>-75.136414</td>\n",
       "      <td>39.962502</td>\n",
       "      <td>-75.174202</td>\n",
       "      <td>36</td>\n",
       "      <td>1</td>\n",
       "      <td>52</td>\n",
       "      <td>6</td>\n",
       "      <td>1</td>\n",
       "      <td>0</td>\n",
       "      <td>3.221666</td>\n",
       "    </tr>\n",
       "    <tr>\n",
       "      <th>2</th>\n",
       "      <td>2017-01-01 00:22:00</td>\n",
       "      <td>2017-01-01 00:57:00</td>\n",
       "      <td>3110</td>\n",
       "      <td>3054</td>\n",
       "      <td>2536</td>\n",
       "      <td>Walk-up</td>\n",
       "      <td>Del. River Trail &amp; Penn St.</td>\n",
       "      <td>Rodin Museum</td>\n",
       "      <td>39.961750</td>\n",
       "      <td>-75.136414</td>\n",
       "      <td>39.962502</td>\n",
       "      <td>-75.174202</td>\n",
       "      <td>35</td>\n",
       "      <td>1</td>\n",
       "      <td>52</td>\n",
       "      <td>6</td>\n",
       "      <td>1</td>\n",
       "      <td>0</td>\n",
       "      <td>3.221666</td>\n",
       "    </tr>\n",
       "    <tr>\n",
       "      <th>3</th>\n",
       "      <td>2017-01-01 00:27:00</td>\n",
       "      <td>2017-01-01 00:39:00</td>\n",
       "      <td>3041</td>\n",
       "      <td>3005</td>\n",
       "      <td>5176</td>\n",
       "      <td>Indego30</td>\n",
       "      <td>Girard Station, MFL</td>\n",
       "      <td>Welcome Park, NPS</td>\n",
       "      <td>39.968491</td>\n",
       "      <td>-75.135460</td>\n",
       "      <td>39.947330</td>\n",
       "      <td>-75.144028</td>\n",
       "      <td>12</td>\n",
       "      <td>1</td>\n",
       "      <td>52</td>\n",
       "      <td>6</td>\n",
       "      <td>1</td>\n",
       "      <td>0</td>\n",
       "      <td>2.463718</td>\n",
       "    </tr>\n",
       "    <tr>\n",
       "      <th>4</th>\n",
       "      <td>2017-01-01 00:28:00</td>\n",
       "      <td>2017-01-01 00:36:00</td>\n",
       "      <td>3047</td>\n",
       "      <td>3124</td>\n",
       "      <td>5370</td>\n",
       "      <td>Walk-up</td>\n",
       "      <td>Independence Mall, NPS</td>\n",
       "      <td>Race Street Pier</td>\n",
       "      <td>39.950710</td>\n",
       "      <td>-75.149208</td>\n",
       "      <td>39.952950</td>\n",
       "      <td>-75.139793</td>\n",
       "      <td>8</td>\n",
       "      <td>1</td>\n",
       "      <td>52</td>\n",
       "      <td>6</td>\n",
       "      <td>1</td>\n",
       "      <td>0</td>\n",
       "      <td>0.840302</td>\n",
       "    </tr>\n",
       "    <tr>\n",
       "      <th>...</th>\n",
       "      <td>...</td>\n",
       "      <td>...</td>\n",
       "      <td>...</td>\n",
       "      <td>...</td>\n",
       "      <td>...</td>\n",
       "      <td>...</td>\n",
       "      <td>...</td>\n",
       "      <td>...</td>\n",
       "      <td>...</td>\n",
       "      <td>...</td>\n",
       "      <td>...</td>\n",
       "      <td>...</td>\n",
       "      <td>...</td>\n",
       "      <td>...</td>\n",
       "      <td>...</td>\n",
       "      <td>...</td>\n",
       "      <td>...</td>\n",
       "      <td>...</td>\n",
       "      <td>...</td>\n",
       "    </tr>\n",
       "    <tr>\n",
       "      <th>782220</th>\n",
       "      <td>2017-12-31 23:05:00</td>\n",
       "      <td>2017-12-31 23:33:00</td>\n",
       "      <td>3070</td>\n",
       "      <td>3124</td>\n",
       "      <td>3708</td>\n",
       "      <td>Indego30</td>\n",
       "      <td>Spring Garden Station, MFL</td>\n",
       "      <td>Race Street Pier</td>\n",
       "      <td>39.960621</td>\n",
       "      <td>-75.139832</td>\n",
       "      <td>39.952950</td>\n",
       "      <td>-75.139793</td>\n",
       "      <td>28</td>\n",
       "      <td>12</td>\n",
       "      <td>52</td>\n",
       "      <td>6</td>\n",
       "      <td>31</td>\n",
       "      <td>23</td>\n",
       "      <td>0.852984</td>\n",
       "    </tr>\n",
       "    <tr>\n",
       "      <th>782221</th>\n",
       "      <td>2017-12-31 23:11:00</td>\n",
       "      <td>2018-01-01 11:03:00</td>\n",
       "      <td>3107</td>\n",
       "      <td>3165</td>\n",
       "      <td>5117</td>\n",
       "      <td>Indego30</td>\n",
       "      <td>33rd &amp; Reservoir</td>\n",
       "      <td>24th &amp; Race SRT</td>\n",
       "      <td>39.982029</td>\n",
       "      <td>-75.188660</td>\n",
       "      <td>39.958191</td>\n",
       "      <td>-75.178200</td>\n",
       "      <td>712</td>\n",
       "      <td>12</td>\n",
       "      <td>52</td>\n",
       "      <td>6</td>\n",
       "      <td>31</td>\n",
       "      <td>23</td>\n",
       "      <td>2.796533</td>\n",
       "    </tr>\n",
       "    <tr>\n",
       "      <th>782222</th>\n",
       "      <td>2017-12-31 23:18:00</td>\n",
       "      <td>2017-12-31 23:25:00</td>\n",
       "      <td>3033</td>\n",
       "      <td>3046</td>\n",
       "      <td>11933</td>\n",
       "      <td>Indego30</td>\n",
       "      <td>10th &amp; Chestnut</td>\n",
       "      <td>2nd &amp; Market</td>\n",
       "      <td>39.950050</td>\n",
       "      <td>-75.156723</td>\n",
       "      <td>39.950119</td>\n",
       "      <td>-75.144722</td>\n",
       "      <td>7</td>\n",
       "      <td>12</td>\n",
       "      <td>52</td>\n",
       "      <td>6</td>\n",
       "      <td>31</td>\n",
       "      <td>23</td>\n",
       "      <td>1.023025</td>\n",
       "    </tr>\n",
       "    <tr>\n",
       "      <th>782223</th>\n",
       "      <td>2017-12-31 23:39:00</td>\n",
       "      <td>2017-12-31 23:40:00</td>\n",
       "      <td>3163</td>\n",
       "      <td>3163</td>\n",
       "      <td>6725</td>\n",
       "      <td>Indego30</td>\n",
       "      <td>25th &amp; Locust</td>\n",
       "      <td>25th &amp; Locust</td>\n",
       "      <td>39.949741</td>\n",
       "      <td>-75.180969</td>\n",
       "      <td>39.949741</td>\n",
       "      <td>-75.180969</td>\n",
       "      <td>1</td>\n",
       "      <td>12</td>\n",
       "      <td>52</td>\n",
       "      <td>6</td>\n",
       "      <td>31</td>\n",
       "      <td>23</td>\n",
       "      <td>0.000000</td>\n",
       "    </tr>\n",
       "    <tr>\n",
       "      <th>782224</th>\n",
       "      <td>2017-12-31 23:41:00</td>\n",
       "      <td>2017-12-31 23:55:00</td>\n",
       "      <td>3163</td>\n",
       "      <td>3057</td>\n",
       "      <td>11864</td>\n",
       "      <td>Indego30</td>\n",
       "      <td>25th &amp; Locust</td>\n",
       "      <td>Philadelphia Museum of Art</td>\n",
       "      <td>39.949741</td>\n",
       "      <td>-75.180969</td>\n",
       "      <td>39.964581</td>\n",
       "      <td>-75.180031</td>\n",
       "      <td>14</td>\n",
       "      <td>12</td>\n",
       "      <td>52</td>\n",
       "      <td>6</td>\n",
       "      <td>31</td>\n",
       "      <td>23</td>\n",
       "      <td>1.652071</td>\n",
       "    </tr>\n",
       "  </tbody>\n",
       "</table>\n",
       "<p>782225 rows × 19 columns</p>\n",
       "</div>"
      ],
      "text/plain": [
       "                start_time            end_time  start_station_id  \\\n",
       "0      2017-01-01 00:05:00 2017-01-01 00:16:00              3046   \n",
       "1      2017-01-01 00:21:00 2017-01-01 00:57:00              3110   \n",
       "2      2017-01-01 00:22:00 2017-01-01 00:57:00              3110   \n",
       "3      2017-01-01 00:27:00 2017-01-01 00:39:00              3041   \n",
       "4      2017-01-01 00:28:00 2017-01-01 00:36:00              3047   \n",
       "...                    ...                 ...               ...   \n",
       "782220 2017-12-31 23:05:00 2017-12-31 23:33:00              3070   \n",
       "782221 2017-12-31 23:11:00 2018-01-01 11:03:00              3107   \n",
       "782222 2017-12-31 23:18:00 2017-12-31 23:25:00              3033   \n",
       "782223 2017-12-31 23:39:00 2017-12-31 23:40:00              3163   \n",
       "782224 2017-12-31 23:41:00 2017-12-31 23:55:00              3163   \n",
       "\n",
       "        end_station_id  bike_id user_type           start_station_name  \\\n",
       "0                 3041     5347  Indego30                 2nd & Market   \n",
       "1                 3054     3364   Walk-up  Del. River Trail & Penn St.   \n",
       "2                 3054     2536   Walk-up  Del. River Trail & Penn St.   \n",
       "3                 3005     5176  Indego30          Girard Station, MFL   \n",
       "4                 3124     5370   Walk-up       Independence Mall, NPS   \n",
       "...                ...      ...       ...                          ...   \n",
       "782220            3124     3708  Indego30   Spring Garden Station, MFL   \n",
       "782221            3165     5117  Indego30             33rd & Reservoir   \n",
       "782222            3046    11933  Indego30              10th & Chestnut   \n",
       "782223            3163     6725  Indego30                25th & Locust   \n",
       "782224            3057    11864  Indego30                25th & Locust   \n",
       "\n",
       "                  end_station_name  start_lat  start_lon    end_lat  \\\n",
       "0              Girard Station, MFL  39.950119 -75.144722  39.968491   \n",
       "1                     Rodin Museum  39.961750 -75.136414  39.962502   \n",
       "2                     Rodin Museum  39.961750 -75.136414  39.962502   \n",
       "3                Welcome Park, NPS  39.968491 -75.135460  39.947330   \n",
       "4                 Race Street Pier  39.950710 -75.149208  39.952950   \n",
       "...                            ...        ...        ...        ...   \n",
       "782220            Race Street Pier  39.960621 -75.139832  39.952950   \n",
       "782221             24th & Race SRT  39.982029 -75.188660  39.958191   \n",
       "782222                2nd & Market  39.950050 -75.156723  39.950119   \n",
       "782223               25th & Locust  39.949741 -75.180969  39.949741   \n",
       "782224  Philadelphia Museum of Art  39.949741 -75.180969  39.964581   \n",
       "\n",
       "          end_lon  trip_duration in minutes  month  week  weekday  day  hour  \\\n",
       "0      -75.135460                        11      1    52        6    1     0   \n",
       "1      -75.174202                        36      1    52        6    1     0   \n",
       "2      -75.174202                        35      1    52        6    1     0   \n",
       "3      -75.144028                        12      1    52        6    1     0   \n",
       "4      -75.139793                         8      1    52        6    1     0   \n",
       "...           ...                       ...    ...   ...      ...  ...   ...   \n",
       "782220 -75.139793                        28     12    52        6   31    23   \n",
       "782221 -75.178200                       712     12    52        6   31    23   \n",
       "782222 -75.144722                         7     12    52        6   31    23   \n",
       "782223 -75.180969                         1     12    52        6   31    23   \n",
       "782224 -75.180031                        14     12    52        6   31    23   \n",
       "\n",
       "        distance_in_km  \n",
       "0             2.190094  \n",
       "1             3.221666  \n",
       "2             3.221666  \n",
       "3             2.463718  \n",
       "4             0.840302  \n",
       "...                ...  \n",
       "782220        0.852984  \n",
       "782221        2.796533  \n",
       "782222        1.023025  \n",
       "782223        0.000000  \n",
       "782224        1.652071  \n",
       "\n",
       "[782225 rows x 19 columns]"
      ]
     },
     "execution_count": 28,
     "metadata": {},
     "output_type": "execute_result"
    }
   ],
   "source": [
    "# Finished dataframe\n",
    "df_phil_clustering"
   ]
  },
  {
   "attachments": {},
   "cell_type": "markdown",
   "id": "295522ff",
   "metadata": {},
   "source": [
    "### Functions to use for Clustering"
   ]
  },
  {
   "cell_type": "code",
   "execution_count": 29,
   "id": "25658140",
   "metadata": {},
   "outputs": [],
   "source": [
    "# This function is used to standardize features\n",
    "def scalingData(dataframe):\n",
    "    newDataframe = dataframe.copy()\n",
    "    scaler = StandardScaler()\n",
    "    newDataframe[newDataframe.columns] = pd.DataFrame(scaler.fit_transform(newDataframe[newDataframe.columns]))\n",
    "    return newDataframe"
   ]
  },
  {
   "cell_type": "code",
   "execution_count": 30,
   "id": "57339bba",
   "metadata": {},
   "outputs": [],
   "source": [
    "# This function calculates the Loss per cluster amount and plots the result of it in the range of 0-10 on the x-axis\n",
    "def calcAndPlotLoss(clusterAmount, dataframe):\n",
    "    k_max = clusterAmount\n",
    "\n",
    "    clusters = []\n",
    "    losses = []\n",
    "\n",
    "    for k in range(k_max):\n",
    "        model = KMeans(n_clusters=k+1, n_init=10)\n",
    "        model.fit(dataframe)\n",
    "        clusters.append(k+1)\n",
    "        losses.append(model.inertia_)\n",
    "\n",
    "    fig = plt.subplots(figsize=(12,7))\n",
    "    plt.plot(clusters, losses)\n",
    "    plt.ylabel(\"Loss\")\n",
    "    plt.xlabel(\"Number of clusters\")\n",
    "    plt.xlim([0,10])\n",
    "    plt.grid(True)\n",
    "    plt.show()"
   ]
  },
  {
   "cell_type": "code",
   "execution_count": 31,
   "id": "3001bb1d",
   "metadata": {},
   "outputs": [],
   "source": [
    "# This function calculates for a the defined amount of clusters KMeans on the given dataframe\n",
    "def calcKMeans(numClusters, dataframe):\n",
    "    result = KMeans(n_clusters=numClusters, n_init=10)\n",
    "    result.fit(dataframe)\n",
    "\n",
    "    dataframe['KMeans'] = result.predict(dataframe)"
   ]
  },
  {
   "cell_type": "code",
   "execution_count": 32,
   "id": "d751b164",
   "metadata": {},
   "outputs": [],
   "source": [
    "# This function describes every KMeans cluster with the describe() function for the original dataframe\n",
    "def describeData(originalDataframe, scaledDataframe, numClusters):   \n",
    "    for i in range(0, numClusters):\n",
    "        display(originalDataframe[scaledDataframe['KMeans'] == i].describe())"
   ]
  },
  {
   "attachments": {},
   "cell_type": "markdown",
   "id": "9b001957",
   "metadata": {},
   "source": [
    "### Clustering locations based demand patterns\n",
    "\n",
    "For this we will use:\n",
    "- Total trips of every start and end station\n",
    "- Trip Duration of every start and end station\n",
    "- Distance in kilometers between every start and end station"
   ]
  },
  {
   "attachments": {},
   "cell_type": "markdown",
   "id": "2241bcc8",
   "metadata": {},
   "source": [
    "#### Start Stations"
   ]
  },
  {
   "cell_type": "code",
   "execution_count": 41,
   "id": "dca1a264",
   "metadata": {},
   "outputs": [
    {
     "data": {
      "text/html": [
       "<div>\n",
       "<style scoped>\n",
       "    .dataframe tbody tr th:only-of-type {\n",
       "        vertical-align: middle;\n",
       "    }\n",
       "\n",
       "    .dataframe tbody tr th {\n",
       "        vertical-align: top;\n",
       "    }\n",
       "\n",
       "    .dataframe thead th {\n",
       "        text-align: right;\n",
       "    }\n",
       "</style>\n",
       "<table border=\"1\" class=\"dataframe\">\n",
       "  <thead>\n",
       "    <tr style=\"text-align: right;\">\n",
       "      <th></th>\n",
       "      <th>start_station_name</th>\n",
       "      <th>start_lat</th>\n",
       "      <th>start_lon</th>\n",
       "      <th>total_started_trips</th>\n",
       "      <th>trip_duration in minutes</th>\n",
       "      <th>distance_in_km</th>\n",
       "    </tr>\n",
       "  </thead>\n",
       "  <tbody>\n",
       "    <tr>\n",
       "      <th>64</th>\n",
       "      <td>40th Street Station, MFL</td>\n",
       "      <td>39.956940</td>\n",
       "      <td>-75.200691</td>\n",
       "      <td>2364</td>\n",
       "      <td>45014</td>\n",
       "      <td>4477.262612</td>\n",
       "    </tr>\n",
       "    <tr>\n",
       "      <th>65</th>\n",
       "      <td>40th Street Station, MFL</td>\n",
       "      <td>39.957081</td>\n",
       "      <td>-75.201767</td>\n",
       "      <td>2184</td>\n",
       "      <td>35858</td>\n",
       "      <td>4310.390978</td>\n",
       "    </tr>\n",
       "    <tr>\n",
       "      <th>106</th>\n",
       "      <td>Parkside &amp; Belmont, Case Building</td>\n",
       "      <td>39.977791</td>\n",
       "      <td>-75.213226</td>\n",
       "      <td>321</td>\n",
       "      <td>8331</td>\n",
       "      <td>833.393816</td>\n",
       "    </tr>\n",
       "    <tr>\n",
       "      <th>107</th>\n",
       "      <td>Parkside &amp; Belmont, Case Building</td>\n",
       "      <td>39.978039</td>\n",
       "      <td>-75.212196</td>\n",
       "      <td>1325</td>\n",
       "      <td>43628</td>\n",
       "      <td>3519.146853</td>\n",
       "    </tr>\n",
       "    <tr>\n",
       "      <th>112</th>\n",
       "      <td>Philadelphia Museum of Art</td>\n",
       "      <td>39.963711</td>\n",
       "      <td>-75.181602</td>\n",
       "      <td>1550</td>\n",
       "      <td>64130</td>\n",
       "      <td>2416.999371</td>\n",
       "    </tr>\n",
       "    <tr>\n",
       "      <th>113</th>\n",
       "      <td>Philadelphia Museum of Art</td>\n",
       "      <td>39.964432</td>\n",
       "      <td>-75.179977</td>\n",
       "      <td>4211</td>\n",
       "      <td>175782</td>\n",
       "      <td>6120.682723</td>\n",
       "    </tr>\n",
       "    <tr>\n",
       "      <th>114</th>\n",
       "      <td>Philadelphia Museum of Art</td>\n",
       "      <td>39.964581</td>\n",
       "      <td>-75.180031</td>\n",
       "      <td>8265</td>\n",
       "      <td>322864</td>\n",
       "      <td>12247.614031</td>\n",
       "    </tr>\n",
       "    <tr>\n",
       "      <th>115</th>\n",
       "      <td>Philadelphia Zoo</td>\n",
       "      <td>39.974689</td>\n",
       "      <td>-75.195618</td>\n",
       "      <td>150</td>\n",
       "      <td>2625</td>\n",
       "      <td>331.270120</td>\n",
       "    </tr>\n",
       "    <tr>\n",
       "      <th>116</th>\n",
       "      <td>Philadelphia Zoo</td>\n",
       "      <td>39.974720</td>\n",
       "      <td>-75.197807</td>\n",
       "      <td>703</td>\n",
       "      <td>20245</td>\n",
       "      <td>1539.227147</td>\n",
       "    </tr>\n",
       "    <tr>\n",
       "      <th>127</th>\n",
       "      <td>University City Station</td>\n",
       "      <td>39.948872</td>\n",
       "      <td>-75.189857</td>\n",
       "      <td>6919</td>\n",
       "      <td>101403</td>\n",
       "      <td>12975.667610</td>\n",
       "    </tr>\n",
       "    <tr>\n",
       "      <th>128</th>\n",
       "      <td>University City Station</td>\n",
       "      <td>39.949219</td>\n",
       "      <td>-75.190361</td>\n",
       "      <td>9020</td>\n",
       "      <td>120389</td>\n",
       "      <td>15419.123591</td>\n",
       "    </tr>\n",
       "  </tbody>\n",
       "</table>\n",
       "</div>"
      ],
      "text/plain": [
       "                    start_station_name  start_lat  start_lon  \\\n",
       "64            40th Street Station, MFL  39.956940 -75.200691   \n",
       "65            40th Street Station, MFL  39.957081 -75.201767   \n",
       "106  Parkside & Belmont, Case Building  39.977791 -75.213226   \n",
       "107  Parkside & Belmont, Case Building  39.978039 -75.212196   \n",
       "112         Philadelphia Museum of Art  39.963711 -75.181602   \n",
       "113         Philadelphia Museum of Art  39.964432 -75.179977   \n",
       "114         Philadelphia Museum of Art  39.964581 -75.180031   \n",
       "115                   Philadelphia Zoo  39.974689 -75.195618   \n",
       "116                   Philadelphia Zoo  39.974720 -75.197807   \n",
       "127            University City Station  39.948872 -75.189857   \n",
       "128            University City Station  39.949219 -75.190361   \n",
       "\n",
       "     total_started_trips  trip_duration in minutes  distance_in_km  \n",
       "64                  2364                     45014     4477.262612  \n",
       "65                  2184                     35858     4310.390978  \n",
       "106                  321                      8331      833.393816  \n",
       "107                 1325                     43628     3519.146853  \n",
       "112                 1550                     64130     2416.999371  \n",
       "113                 4211                    175782     6120.682723  \n",
       "114                 8265                    322864    12247.614031  \n",
       "115                  150                      2625      331.270120  \n",
       "116                  703                     20245     1539.227147  \n",
       "127                 6919                    101403    12975.667610  \n",
       "128                 9020                    120389    15419.123591  "
      ]
     },
     "metadata": {},
     "output_type": "display_data"
    },
    {
     "data": {
      "text/html": [
       "<div>\n",
       "<style scoped>\n",
       "    .dataframe tbody tr th:only-of-type {\n",
       "        vertical-align: middle;\n",
       "    }\n",
       "\n",
       "    .dataframe tbody tr th {\n",
       "        vertical-align: top;\n",
       "    }\n",
       "\n",
       "    .dataframe thead th {\n",
       "        text-align: right;\n",
       "    }\n",
       "</style>\n",
       "<table border=\"1\" class=\"dataframe\">\n",
       "  <thead>\n",
       "    <tr style=\"text-align: right;\">\n",
       "      <th></th>\n",
       "      <th>start_station_name</th>\n",
       "      <th>start_lat</th>\n",
       "      <th>start_lon</th>\n",
       "      <th>total_started_trips</th>\n",
       "      <th>trip_duration in minutes</th>\n",
       "      <th>distance_in_km</th>\n",
       "    </tr>\n",
       "  </thead>\n",
       "  <tbody>\n",
       "    <tr>\n",
       "      <th>64</th>\n",
       "      <td>40th Street Station, MFL</td>\n",
       "      <td>39.956940</td>\n",
       "      <td>-75.200691</td>\n",
       "      <td>2364</td>\n",
       "      <td>45014</td>\n",
       "      <td>4477.262612</td>\n",
       "    </tr>\n",
       "    <tr>\n",
       "      <th>65</th>\n",
       "      <td>40th Street Station, MFL</td>\n",
       "      <td>39.957081</td>\n",
       "      <td>-75.201767</td>\n",
       "      <td>2184</td>\n",
       "      <td>35858</td>\n",
       "      <td>4310.390978</td>\n",
       "    </tr>\n",
       "  </tbody>\n",
       "</table>\n",
       "</div>"
      ],
      "text/plain": [
       "          start_station_name  start_lat  start_lon  total_started_trips  \\\n",
       "64  40th Street Station, MFL  39.956940 -75.200691                 2364   \n",
       "65  40th Street Station, MFL  39.957081 -75.201767                 2184   \n",
       "\n",
       "    trip_duration in minutes  distance_in_km  \n",
       "64                     45014     4477.262612  \n",
       "65                     35858     4310.390978  "
      ]
     },
     "metadata": {},
     "output_type": "display_data"
    },
    {
     "data": {
      "text/html": [
       "<div>\n",
       "<style scoped>\n",
       "    .dataframe tbody tr th:only-of-type {\n",
       "        vertical-align: middle;\n",
       "    }\n",
       "\n",
       "    .dataframe tbody tr th {\n",
       "        vertical-align: top;\n",
       "    }\n",
       "\n",
       "    .dataframe thead th {\n",
       "        text-align: right;\n",
       "    }\n",
       "</style>\n",
       "<table border=\"1\" class=\"dataframe\">\n",
       "  <thead>\n",
       "    <tr style=\"text-align: right;\">\n",
       "      <th></th>\n",
       "      <th>start_station_name</th>\n",
       "      <th>start_lat</th>\n",
       "      <th>start_lon</th>\n",
       "      <th>total_started_trips</th>\n",
       "      <th>trip_duration in minutes</th>\n",
       "      <th>distance_in_km</th>\n",
       "    </tr>\n",
       "  </thead>\n",
       "  <tbody>\n",
       "  </tbody>\n",
       "</table>\n",
       "</div>"
      ],
      "text/plain": [
       "Empty DataFrame\n",
       "Columns: [start_station_name, start_lat, start_lon, total_started_trips, trip_duration in minutes, distance_in_km]\n",
       "Index: []"
      ]
     },
     "metadata": {},
     "output_type": "display_data"
    },
    {
     "data": {
      "text/html": [
       "<div>\n",
       "<style scoped>\n",
       "    .dataframe tbody tr th:only-of-type {\n",
       "        vertical-align: middle;\n",
       "    }\n",
       "\n",
       "    .dataframe tbody tr th {\n",
       "        vertical-align: top;\n",
       "    }\n",
       "\n",
       "    .dataframe thead th {\n",
       "        text-align: right;\n",
       "    }\n",
       "</style>\n",
       "<table border=\"1\" class=\"dataframe\">\n",
       "  <thead>\n",
       "    <tr style=\"text-align: right;\">\n",
       "      <th></th>\n",
       "      <th>start_station_name</th>\n",
       "      <th>start_lat</th>\n",
       "      <th>start_lon</th>\n",
       "      <th>total_started_trips</th>\n",
       "      <th>trip_duration in minutes</th>\n",
       "      <th>distance_in_km</th>\n",
       "    </tr>\n",
       "  </thead>\n",
       "  <tbody>\n",
       "    <tr>\n",
       "      <th>64</th>\n",
       "      <td>40th Street Station, MFL</td>\n",
       "      <td>39.957011</td>\n",
       "      <td>-75.201229</td>\n",
       "      <td>4548</td>\n",
       "      <td>80872</td>\n",
       "      <td>8787.65359</td>\n",
       "    </tr>\n",
       "  </tbody>\n",
       "</table>\n",
       "</div>"
      ],
      "text/plain": [
       "          start_station_name  start_lat  start_lon  total_started_trips  \\\n",
       "64  40th Street Station, MFL  39.957011 -75.201229                 4548   \n",
       "\n",
       "    trip_duration in minutes  distance_in_km  \n",
       "64                     80872      8787.65359  "
      ]
     },
     "metadata": {},
     "output_type": "display_data"
    },
    {
     "data": {
      "text/html": [
       "<div>\n",
       "<style scoped>\n",
       "    .dataframe tbody tr th:only-of-type {\n",
       "        vertical-align: middle;\n",
       "    }\n",
       "\n",
       "    .dataframe tbody tr th {\n",
       "        vertical-align: top;\n",
       "    }\n",
       "\n",
       "    .dataframe thead th {\n",
       "        text-align: right;\n",
       "    }\n",
       "</style>\n",
       "<table border=\"1\" class=\"dataframe\">\n",
       "  <thead>\n",
       "    <tr style=\"text-align: right;\">\n",
       "      <th></th>\n",
       "      <th>total_started_trips</th>\n",
       "      <th>avg_trip_duration in minutes</th>\n",
       "      <th>avg_distance_in_km</th>\n",
       "    </tr>\n",
       "  </thead>\n",
       "  <tbody>\n",
       "    <tr>\n",
       "      <th>0</th>\n",
       "      <td>8441</td>\n",
       "      <td>16.443075</td>\n",
       "      <td>1.542630</td>\n",
       "    </tr>\n",
       "    <tr>\n",
       "      <th>1</th>\n",
       "      <td>4664</td>\n",
       "      <td>16.487350</td>\n",
       "      <td>1.835612</td>\n",
       "    </tr>\n",
       "    <tr>\n",
       "      <th>2</th>\n",
       "      <td>12025</td>\n",
       "      <td>15.063285</td>\n",
       "      <td>1.343170</td>\n",
       "    </tr>\n",
       "    <tr>\n",
       "      <th>3</th>\n",
       "      <td>743</td>\n",
       "      <td>20.162853</td>\n",
       "      <td>1.332682</td>\n",
       "    </tr>\n",
       "    <tr>\n",
       "      <th>4</th>\n",
       "      <td>7777</td>\n",
       "      <td>15.697827</td>\n",
       "      <td>1.829944</td>\n",
       "    </tr>\n",
       "    <tr>\n",
       "      <th>...</th>\n",
       "      <td>...</td>\n",
       "      <td>...</td>\n",
       "      <td>...</td>\n",
       "    </tr>\n",
       "    <tr>\n",
       "      <th>119</th>\n",
       "      <td>9935</td>\n",
       "      <td>14.731454</td>\n",
       "      <td>1.928227</td>\n",
       "    </tr>\n",
       "    <tr>\n",
       "      <th>120</th>\n",
       "      <td>4032</td>\n",
       "      <td>13.969742</td>\n",
       "      <td>1.975722</td>\n",
       "    </tr>\n",
       "    <tr>\n",
       "      <th>121</th>\n",
       "      <td>1472</td>\n",
       "      <td>22.866168</td>\n",
       "      <td>2.726837</td>\n",
       "    </tr>\n",
       "    <tr>\n",
       "      <th>122</th>\n",
       "      <td>15939</td>\n",
       "      <td>13.915051</td>\n",
       "      <td>1.781466</td>\n",
       "    </tr>\n",
       "    <tr>\n",
       "      <th>123</th>\n",
       "      <td>4653</td>\n",
       "      <td>23.132173</td>\n",
       "      <td>1.806341</td>\n",
       "    </tr>\n",
       "  </tbody>\n",
       "</table>\n",
       "<p>124 rows × 3 columns</p>\n",
       "</div>"
      ],
      "text/plain": [
       "     total_started_trips  avg_trip_duration in minutes  avg_distance_in_km\n",
       "0                   8441                     16.443075            1.542630\n",
       "1                   4664                     16.487350            1.835612\n",
       "2                  12025                     15.063285            1.343170\n",
       "3                    743                     20.162853            1.332682\n",
       "4                   7777                     15.697827            1.829944\n",
       "..                   ...                           ...                 ...\n",
       "119                 9935                     14.731454            1.928227\n",
       "120                 4032                     13.969742            1.975722\n",
       "121                 1472                     22.866168            2.726837\n",
       "122                15939                     13.915051            1.781466\n",
       "123                 4653                     23.132173            1.806341\n",
       "\n",
       "[124 rows x 3 columns]"
      ]
     },
     "execution_count": 41,
     "metadata": {},
     "output_type": "execute_result"
    }
   ],
   "source": [
    "# Aggregation function to combine stations that have multiple stations in itself\n",
    "agg_functions = {'start_station_name': 'first', 'start_lat': 'mean', 'start_lon': 'mean', 'total_started_trips': 'sum', 'trip_duration in minutes': 'sum', 'distance_in_km': 'sum'}\n",
    "\n",
    "# Dataframe for the sum of trip duration and distance per station\n",
    "descriptiveTripFeatures = df_phil_clustering.groupby(['start_station_name', 'start_lat', 'start_lon']).aggregate({'trip_duration in minutes': 'sum', 'distance_in_km': 'sum'}).reset_index()\n",
    "\n",
    "# Dataframe for the amount of total trips per station\n",
    "totalTripCount = df_phil_clustering.groupby(['start_station_name', 'start_lat', 'start_lon'])['start_station_name'].count().reset_index(name='total_started_trips')\n",
    "\n",
    "# Merging both dataframes into one\n",
    "df_phil_start_stations = pd.merge(totalTripCount, descriptiveTripFeatures, on=['start_station_name', 'start_lat', 'start_lon'])\n",
    "\n",
    "# Show duplicates before aggregating them and one example\n",
    "display(df_phil_start_stations[df_phil_start_stations.duplicated(subset=['start_station_name'], keep=False)])\n",
    "display(df_phil_start_stations[df_phil_start_stations['start_station_name'] == '40th Street Station, MFL'])\n",
    "\n",
    "# Aggregation\n",
    "df_phil_start_stations = df_phil_start_stations.groupby(df_phil_start_stations['start_station_name']).aggregate(agg_functions).reset_index(drop=True)\n",
    "\n",
    "# Show duplicates after aggregating to see if they are gone\n",
    "display(df_phil_start_stations[df_phil_start_stations.duplicated(subset=['start_station_name'], keep=False)])\n",
    "display(df_phil_start_stations[df_phil_start_stations['start_station_name'] == '40th Street Station, MFL'])\n",
    "\n",
    "# Copying the original dataframe for visualization and dropping every unnecessary column for KMeans\n",
    "df_phil_start_stations_original = df_phil_start_stations.copy()\n",
    "df_phil_start_stations.drop(['start_station_name', 'start_lat', 'start_lon'], axis=1, inplace=True)\n",
    "\n",
    "# Calculating avg values for both trip duration and the distance\n",
    "df_phil_start_stations['avg_trip_duration in minutes'] = df_phil_start_stations['trip_duration in minutes'] / df_phil_start_stations['total_started_trips']\n",
    "df_phil_start_stations['avg_distance_in_km'] = df_phil_start_stations['distance_in_km'] / df_phil_start_stations['total_started_trips']\n",
    "\n",
    "df_phil_start_stations.drop(['trip_duration in minutes', 'distance_in_km'], axis=1, inplace=True)\n",
    "\n",
    "df_phil_start_stations"
   ]
  },
  {
   "cell_type": "code",
   "execution_count": 42,
   "id": "674b0554",
   "metadata": {},
   "outputs": [
    {
     "data": {
      "image/png": "[encoded data removed]",
      "text/plain": [
       "<Figure size 1200x700 with 1 Axes>"
      ]
     },
     "metadata": {},
     "output_type": "display_data"
    }
   ],
   "source": [
    "# Scaling data and calculating the loss for 10 clusters\n",
    "df_phil_start_stations_scaled = scalingData(df_phil_start_stations)\n",
    "calcAndPlotLoss(10, df_phil_start_stations_scaled)"
   ]
  },
  {
   "attachments": {},
   "cell_type": "markdown",
   "id": "ece6e503",
   "metadata": {},
   "source": [
    "Looking at the loss function, the amount of clusters should be between 2-4. As found out with testing the amount of clusters, \n",
    "<br> having 2 clusters is already enough to find to similiar groups for both start and end stations."
   ]
  },
  {
   "cell_type": "code",
   "execution_count": 43,
   "id": "cf01cc38",
   "metadata": {},
   "outputs": [],
   "source": [
    "# Define the cluster amount here\n",
    "cluster = 2\n",
    "\n",
    "# Calculating KMeans\n",
    "calcKMeans(cluster, df_phil_start_stations_scaled)\n",
    "\n",
    "# Adding the clusters from KMeans into the original dataframe \n",
    "df_phil_start_stations_original.loc[:, 'Cluster'] = df_phil_start_stations_scaled['KMeans']\n",
    "\n",
    "# Sorting cluster values for the map slider\n",
    "df_phil_start_stations_original.sort_values(by='Cluster', ascending=True, inplace=True)\n",
    "df_phil_start_stations_original.reset_index(drop=True, inplace=True)"
   ]
  },
  {
   "attachments": {},
   "cell_type": "markdown",
   "id": "845d4848",
   "metadata": {},
   "source": [
    "Code for calculating KMeans and plotting is seperated, so that KMeans clusters are not recalculated everytime!"
   ]
  },
  {
   "cell_type": "code",
   "execution_count": 44,
   "id": "ec5cafe4",
   "metadata": {},
   "outputs": [
    {
     "data": {
      "application/vnd.plotly.v1+json": {
       "config": {
        "plotlyServerURL": "https://plot.ly"
       },
       "data": [
        {
         "customdata": [
          [
           39.95005,
           -75.156723
          ],
          [
           39.9570105,
           -75.20122900000001
          ],
          [
           39.952202,
           -75.20311
          ],
          [
           39.9490455,
           -75.190109
          ],
          [
           39.95121,
           -75.199623
          ],
          [
           39.960461,
           -75.197006
          ],
          [
           39.9538,
           -75.194794
          ],
          [
           39.968182,
           -75.180344
          ],
          [
           39.953781,
           -75.163742
          ],
          [
           39.955761,
           -75.189819
          ],
          [
           39.961731,
           -75.187881
          ],
          [
           39.954861,
           -75.180908
          ],
          [
           39.94138,
           -75.145638
          ],
          [
           39.953819,
           -75.142632
          ],
          [
           39.962711,
           -75.194191
          ],
          [
           39.932308,
           -75.181541
          ],
          [
           39.950481,
           -75.172859
          ],
          [
           39.954239,
           -75.161377
          ],
          [
           39.95071,
           -75.149208
          ],
          [
           39.94426,
           -75.181343
          ],
          [
           39.940609,
           -75.149582
          ],
          [
           39.967178,
           -75.161247
          ],
          [
           39.97121,
           -75.159698
          ],
          [
           39.93549,
           -75.167107
          ],
          [
           39.940189,
           -75.166908
          ],
          [
           39.96006,
           -75.171982
          ],
          [
           39.95472,
           -75.183228
          ],
          [
           39.96143,
           -75.15242
          ],
          [
           39.947319,
           -75.156952
          ],
          [
           39.953388,
           -75.154259
          ],
          [
           39.959229,
           -75.170357
          ],
          [
           39.951118,
           -75.154572
          ],
          [
           39.940182,
           -75.154419
          ],
          [
           39.954029,
           -75.149834
          ],
          [
           39.963169,
           -75.147919
          ],
          [
           39.934448,
           -75.145409
          ],
          [
           39.94735,
           -75.148857
          ],
          [
           39.937038,
           -75.150383
          ],
          [
           39.94595,
           -75.184753
          ],
          [
           39.962502,
           -75.174202
          ],
          [
           39.950119,
           -75.144722
          ],
          [
           39.949741,
           -75.180969
          ],
          [
           39.96265,
           -75.161743
          ],
          [
           39.953899,
           -75.169022
          ],
          [
           39.93082,
           -75.174744
          ],
          [
           39.962891,
           -75.166061
          ],
          [
           39.946331,
           -75.1698
          ],
          [
           39.972069,
           -75.163513
          ],
          [
           39.947109,
           -75.166183
          ],
          [
           39.943909,
           -75.167351
          ],
          [
           39.953159,
           -75.165512
          ],
          [
           39.9384,
           -75.173271
          ],
          [
           39.947811,
           -75.194092
          ],
          [
           39.947922,
           -75.162369
          ],
          [
           39.952728,
           -75.15979
          ],
          [
           39.95924,
           -75.158211
          ],
          [
           39.937241,
           -75.161201
          ],
          [
           39.942951,
           -75.159554
          ],
          [
           39.933151,
           -75.162483
          ],
          [
           39.968922,
           -75.154701
          ],
          [
           39.945171,
           -75.159927
          ],
          [
           39.934311,
           -75.160423
          ],
          [
           39.946812,
           -75.193108
          ],
          [
           39.97263,
           -75.167572
          ],
          [
           39.93935,
           -75.157158
          ],
          [
           39.967442,
           -75.175072
          ],
          [
           39.953548,
           -75.171921
          ],
          [
           39.951969,
           -75.179428
          ],
          [
           39.967159,
           -75.170013
          ],
          [
           39.937752,
           -75.180122
          ],
          [
           39.953812,
           -75.174072
          ],
          [
           39.958191,
           -75.1782
          ],
          [
           39.95121,
           -75.173698
          ],
          [
           39.95425,
           -75.177612
          ],
          [
           39.94561,
           -75.173477
          ],
          [
           39.942181,
           -75.177467
          ],
          [
           39.958858,
           -75.173691
          ],
          [
           39.945271,
           -75.17971
          ]
         ],
         "hovertemplate": "<b>%{hovertext}</b><br><br>Cluster=0<br>start_lat=%{customdata[0]}<br>start_lon=%{customdata[1]}<extra></extra>",
         "hovertext": [
          "10th & Chestnut",
          "40th Street Station, MFL",
          "40th & Spruce",
          "University City Station",
          "38th & Spruce",
          "38th & Powelton",
          "36th & Sansom",
          "Pennsylvania & Fairmount Perelman Building",
          "Municipal Services Building Plaza",
          "33rd & Market",
          "32nd & Baring, Drexel Park",
          "30th Street Station East",
          "2nd & South",
          "2nd & Race",
          "Dornsife Center",
          "Point Breeze & Tasker",
          "Rittenhouse Square",
          "Pennsylvania Convention Center",
          "Independence Mall, NPS",
          "Grays Ferry & Pemberton",
          "4th & Bainbridge",
          "Fairmount & Ridge",
          "Broad & Girard",
          "Broad & Federal",
          "Broad & Christian",
          "Barnes Foundation",
          "Amtrak 30th Street Station",
          "9th & Spring Garden",
          "9th & Locust",
          "9th & Arch",
          "Free Library of Philadelphia - Central Library",
          "8th & Market",
          "7th & Fitzwater",
          "6th & Race",
          "6th & Fairmount",
          "Front & Carpenter",
          "4th & Walnut, NPS",
          "4th & Christian",
          "27th & South",
          "Rodin Museum",
          "2nd & Market",
          "25th & Locust",
          "Spring Garden Station, BSL",
          "18th & JFK",
          "18th & Fernon, Aquinas Center",
          "17th & Spring Garden",
          "17th & Pine",
          "17th & Girard",
          "15th & Spruce",
          "15th & South",
          "15th & Market",
          "18th & Washington, Chew Playground",
          "The Children's Hospital of Philadelphia (CHOP)",
          "13th & Locust",
          "12th & Filbert",
          "12th & Callowhill",
          "11th & Washington",
          "11th & South",
          "11th & Reed",
          "11th & Poplar, John F. Street Community Center",
          "11th & Pine, Kahn Park",
          "10th & Federal",
          "The Children's Hospital of Philadelphia, Osler Circle",
          "19th & Girard, PTTI",
          "Darien & Catharine",
          "23rd & Fairmount",
          "19th & Market",
          "24th & Sansom",
          "20th & Fairmount",
          "22nd & Federal",
          "20th & Market",
          "24th & Race SRT",
          "20th & Sansom",
          "23rd & Market",
          "19th & Lombard",
          "21st & Catharine",
          "21st & Winter, Franklin Institute",
          "23rd & South"
         ],
         "ids": [
          "10th & Chestnut",
          "40th Street Station, MFL",
          "40th & Spruce",
          "University City Station",
          "38th & Spruce",
          "38th & Powelton",
          "36th & Sansom",
          "Pennsylvania & Fairmount Perelman Building",
          "Municipal Services Building Plaza",
          "33rd & Market",
          "32nd & Baring, Drexel Park",
          "30th Street Station East",
          "2nd & South",
          "2nd & Race",
          "Dornsife Center",
          "Point Breeze & Tasker",
          "Rittenhouse Square",
          "Pennsylvania Convention Center",
          "Independence Mall, NPS",
          "Grays Ferry & Pemberton",
          "4th & Bainbridge",
          "Fairmount & Ridge",
          "Broad & Girard",
          "Broad & Federal",
          "Broad & Christian",
          "Barnes Foundation",
          "Amtrak 30th Street Station",
          "9th & Spring Garden",
          "9th & Locust",
          "9th & Arch",
          "Free Library of Philadelphia - Central Library",
          "8th & Market",
          "7th & Fitzwater",
          "6th & Race",
          "6th & Fairmount",
          "Front & Carpenter",
          "4th & Walnut, NPS",
          "4th & Christian",
          "27th & South",
          "Rodin Museum",
          "2nd & Market",
          "25th & Locust",
          "Spring Garden Station, BSL",
          "18th & JFK",
          "18th & Fernon, Aquinas Center",
          "17th & Spring Garden",
          "17th & Pine",
          "17th & Girard",
          "15th & Spruce",
          "15th & South",
          "15th & Market",
          "18th & Washington, Chew Playground",
          "The Children's Hospital of Philadelphia (CHOP)",
          "13th & Locust",
          "12th & Filbert",
          "12th & Callowhill",
          "11th & Washington",
          "11th & South",
          "11th & Reed",
          "11th & Poplar, John F. Street Community Center",
          "11th & Pine, Kahn Park",
          "10th & Federal",
          "The Children's Hospital of Philadelphia, Osler Circle",
          "19th & Girard, PTTI",
          "Darien & Catharine",
          "23rd & Fairmount",
          "19th & Market",
          "24th & Sansom",
          "20th & Fairmount",
          "22nd & Federal",
          "20th & Market",
          "24th & Race SRT",
          "20th & Sansom",
          "23rd & Market",
          "19th & Lombard",
          "21st & Catharine",
          "21st & Winter, Franklin Institute",
          "23rd & South"
         ],
         "lat": [
          39.95005,
          39.9570105,
          39.952202,
          39.9490455,
          39.95121,
          39.960461,
          39.9538,
          39.968182,
          39.953781,
          39.955761,
          39.961731,
          39.954861,
          39.94138,
          39.953819,
          39.962711,
          39.932308,
          39.950481,
          39.954239,
          39.95071,
          39.94426,
          39.940609,
          39.967178,
          39.97121,
          39.93549,
          39.940189,
          39.96006,
          39.95472,
          39.96143,
          39.947319,
          39.953388,
          39.959229,
          39.951118,
          39.940182,
          39.954029,
          39.963169,
          39.934448,
          39.94735,
          39.937038,
          39.94595,
          39.962502,
          39.950119,
          39.949741,
          39.96265,
          39.953899,
          39.93082,
          39.962891,
          39.946331,
          39.972069,
          39.947109,
          39.943909,
          39.953159,
          39.9384,
          39.947811,
          39.947922,
          39.952728,
          39.95924,
          39.937241,
          39.942951,
          39.933151,
          39.968922,
          39.945171,
          39.934311,
          39.946812,
          39.97263,
          39.93935,
          39.967442,
          39.953548,
          39.951969,
          39.967159,
          39.937752,
          39.953812,
          39.958191,
          39.95121,
          39.95425,
          39.94561,
          39.942181,
          39.958858,
          39.945271
         ],
         "legendgroup": "",
         "lon": [
          -75.156723,
          -75.20122900000001,
          -75.20311,
          -75.190109,
          -75.199623,
          -75.197006,
          -75.194794,
          -75.180344,
          -75.163742,
          -75.189819,
          -75.187881,
          -75.180908,
          -75.145638,
          -75.142632,
          -75.194191,
          -75.181541,
          -75.172859,
          -75.161377,
          -75.149208,
          -75.181343,
          -75.149582,
          -75.161247,
          -75.159698,
          -75.167107,
          -75.166908,
          -75.171982,
          -75.183228,
          -75.15242,
          -75.156952,
          -75.154259,
          -75.170357,
          -75.154572,
          -75.154419,
          -75.149834,
          -75.147919,
          -75.145409,
          -75.148857,
          -75.150383,
          -75.184753,
          -75.174202,
          -75.144722,
          -75.180969,
          -75.161743,
          -75.169022,
          -75.174744,
          -75.166061,
          -75.1698,
          -75.163513,
          -75.166183,
          -75.167351,
          -75.165512,
          -75.173271,
          -75.194092,
          -75.162369,
          -75.15979,
          -75.158211,
          -75.161201,
          -75.159554,
          -75.162483,
          -75.154701,
          -75.159927,
          -75.160423,
          -75.193108,
          -75.167572,
          -75.157158,
          -75.175072,
          -75.171921,
          -75.179428,
          -75.170013,
          -75.180122,
          -75.174072,
          -75.1782,
          -75.173698,
          -75.177612,
          -75.173477,
          -75.177467,
          -75.173691,
          -75.17971
         ],
         "marker": {
          "color": "#636efa",
          "opacity": 1
         },
         "mode": "markers",
         "name": "",
         "showlegend": false,
         "subplot": "mapbox",
         "type": "scattermapbox"
        }
       ],
       "frames": [
        {
         "data": [
          {
           "customdata": [
            [
             39.95005,
             -75.156723
            ],
            [
             39.9570105,
             -75.20122900000001
            ],
            [
             39.952202,
             -75.20311
            ],
            [
             39.9490455,
             -75.190109
            ],
            [
             39.95121,
             -75.199623
            ],
            [
             39.960461,
             -75.197006
            ],
            [
             39.9538,
             -75.194794
            ],
            [
             39.968182,
             -75.180344
            ],
            [
             39.953781,
             -75.163742
            ],
            [
             39.955761,
             -75.189819
            ],
            [
             39.961731,
             -75.187881
            ],
            [
             39.954861,
             -75.180908
            ],
            [
             39.94138,
             -75.145638
            ],
            [
             39.953819,
             -75.142632
            ],
            [
             39.962711,
             -75.194191
            ],
            [
             39.932308,
             -75.181541
            ],
            [
             39.950481,
             -75.172859
            ],
            [
             39.954239,
             -75.161377
            ],
            [
             39.95071,
             -75.149208
            ],
            [
             39.94426,
             -75.181343
            ],
            [
             39.940609,
             -75.149582
            ],
            [
             39.967178,
             -75.161247
            ],
            [
             39.97121,
             -75.159698
            ],
            [
             39.93549,
             -75.167107
            ],
            [
             39.940189,
             -75.166908
            ],
            [
             39.96006,
             -75.171982
            ],
            [
             39.95472,
             -75.183228
            ],
            [
             39.96143,
             -75.15242
            ],
            [
             39.947319,
             -75.156952
            ],
            [
             39.953388,
             -75.154259
            ],
            [
             39.959229,
             -75.170357
            ],
            [
             39.951118,
             -75.154572
            ],
            [
             39.940182,
             -75.154419
            ],
            [
             39.954029,
             -75.149834
            ],
            [
             39.963169,
             -75.147919
            ],
            [
             39.934448,
             -75.145409
            ],
            [
             39.94735,
             -75.148857
            ],
            [
             39.937038,
             -75.150383
            ],
            [
             39.94595,
             -75.184753
            ],
            [
             39.962502,
             -75.174202
            ],
            [
             39.950119,
             -75.144722
            ],
            [
             39.949741,
             -75.180969
            ],
            [
             39.96265,
             -75.161743
            ],
            [
             39.953899,
             -75.169022
            ],
            [
             39.93082,
             -75.174744
            ],
            [
             39.962891,
             -75.166061
            ],
            [
             39.946331,
             -75.1698
            ],
            [
             39.972069,
             -75.163513
            ],
            [
             39.947109,
             -75.166183
            ],
            [
             39.943909,
             -75.167351
            ],
            [
             39.953159,
             -75.165512
            ],
            [
             39.9384,
             -75.173271
            ],
            [
             39.947811,
             -75.194092
            ],
            [
             39.947922,
             -75.162369
            ],
            [
             39.952728,
             -75.15979
            ],
            [
             39.95924,
             -75.158211
            ],
            [
             39.937241,
             -75.161201
            ],
            [
             39.942951,
             -75.159554
            ],
            [
             39.933151,
             -75.162483
            ],
            [
             39.968922,
             -75.154701
            ],
            [
             39.945171,
             -75.159927
            ],
            [
             39.934311,
             -75.160423
            ],
            [
             39.946812,
             -75.193108
            ],
            [
             39.97263,
             -75.167572
            ],
            [
             39.93935,
             -75.157158
            ],
            [
             39.967442,
             -75.175072
            ],
            [
             39.953548,
             -75.171921
            ],
            [
             39.951969,
             -75.179428
            ],
            [
             39.967159,
             -75.170013
            ],
            [
             39.937752,
             -75.180122
            ],
            [
             39.953812,
             -75.174072
            ],
            [
             39.958191,
             -75.1782
            ],
            [
             39.95121,
             -75.173698
            ],
            [
             39.95425,
             -75.177612
            ],
            [
             39.94561,
             -75.173477
            ],
            [
             39.942181,
             -75.177467
            ],
            [
             39.958858,
             -75.173691
            ],
            [
             39.945271,
             -75.17971
            ]
           ],
           "hovertemplate": "<b>%{hovertext}</b><br><br>Cluster=0<br>start_lat=%{customdata[0]}<br>start_lon=%{customdata[1]}<extra></extra>",
           "hovertext": [
            "10th & Chestnut",
            "40th Street Station, MFL",
            "40th & Spruce",
            "University City Station",
            "38th & Spruce",
            "38th & Powelton",
            "36th & Sansom",
            "Pennsylvania & Fairmount Perelman Building",
            "Municipal Services Building Plaza",
            "33rd & Market",
            "32nd & Baring, Drexel Park",
            "30th Street Station East",
            "2nd & South",
            "2nd & Race",
            "Dornsife Center",
            "Point Breeze & Tasker",
            "Rittenhouse Square",
            "Pennsylvania Convention Center",
            "Independence Mall, NPS",
            "Grays Ferry & Pemberton",
            "4th & Bainbridge",
            "Fairmount & Ridge",
            "Broad & Girard",
            "Broad & Federal",
            "Broad & Christian",
            "Barnes Foundation",
            "Amtrak 30th Street Station",
            "9th & Spring Garden",
            "9th & Locust",
            "9th & Arch",
            "Free Library of Philadelphia - Central Library",
            "8th & Market",
            "7th & Fitzwater",
            "6th & Race",
            "6th & Fairmount",
            "Front & Carpenter",
            "4th & Walnut, NPS",
            "4th & Christian",
            "27th & South",
            "Rodin Museum",
            "2nd & Market",
            "25th & Locust",
            "Spring Garden Station, BSL",
            "18th & JFK",
            "18th & Fernon, Aquinas Center",
            "17th & Spring Garden",
            "17th & Pine",
            "17th & Girard",
            "15th & Spruce",
            "15th & South",
            "15th & Market",
            "18th & Washington, Chew Playground",
            "The Children's Hospital of Philadelphia (CHOP)",
            "13th & Locust",
            "12th & Filbert",
            "12th & Callowhill",
            "11th & Washington",
            "11th & South",
            "11th & Reed",
            "11th & Poplar, John F. Street Community Center",
            "11th & Pine, Kahn Park",
            "10th & Federal",
            "The Children's Hospital of Philadelphia, Osler Circle",
            "19th & Girard, PTTI",
            "Darien & Catharine",
            "23rd & Fairmount",
            "19th & Market",
            "24th & Sansom",
            "20th & Fairmount",
            "22nd & Federal",
            "20th & Market",
            "24th & Race SRT",
            "20th & Sansom",
            "23rd & Market",
            "19th & Lombard",
            "21st & Catharine",
            "21st & Winter, Franklin Institute",
            "23rd & South"
           ],
           "ids": [
            "10th & Chestnut",
            "40th Street Station, MFL",
            "40th & Spruce",
            "University City Station",
            "38th & Spruce",
            "38th & Powelton",
            "36th & Sansom",
            "Pennsylvania & Fairmount Perelman Building",
            "Municipal Services Building Plaza",
            "33rd & Market",
            "32nd & Baring, Drexel Park",
            "30th Street Station East",
            "2nd & South",
            "2nd & Race",
            "Dornsife Center",
            "Point Breeze & Tasker",
            "Rittenhouse Square",
            "Pennsylvania Convention Center",
            "Independence Mall, NPS",
            "Grays Ferry & Pemberton",
            "4th & Bainbridge",
            "Fairmount & Ridge",
            "Broad & Girard",
            "Broad & Federal",
            "Broad & Christian",
            "Barnes Foundation",
            "Amtrak 30th Street Station",
            "9th & Spring Garden",
            "9th & Locust",
            "9th & Arch",
            "Free Library of Philadelphia - Central Library",
            "8th & Market",
            "7th & Fitzwater",
            "6th & Race",
            "6th & Fairmount",
            "Front & Carpenter",
            "4th & Walnut, NPS",
            "4th & Christian",
            "27th & South",
            "Rodin Museum",
            "2nd & Market",
            "25th & Locust",
            "Spring Garden Station, BSL",
            "18th & JFK",
            "18th & Fernon, Aquinas Center",
            "17th & Spring Garden",
            "17th & Pine",
            "17th & Girard",
            "15th & Spruce",
            "15th & South",
            "15th & Market",
            "18th & Washington, Chew Playground",
            "The Children's Hospital of Philadelphia (CHOP)",
            "13th & Locust",
            "12th & Filbert",
            "12th & Callowhill",
            "11th & Washington",
            "11th & South",
            "11th & Reed",
            "11th & Poplar, John F. Street Community Center",
            "11th & Pine, Kahn Park",
            "10th & Federal",
            "The Children's Hospital of Philadelphia, Osler Circle",
            "19th & Girard, PTTI",
            "Darien & Catharine",
            "23rd & Fairmount",
            "19th & Market",
            "24th & Sansom",
            "20th & Fairmount",
            "22nd & Federal",
            "20th & Market",
            "24th & Race SRT",
            "20th & Sansom",
            "23rd & Market",
            "19th & Lombard",
            "21st & Catharine",
            "21st & Winter, Franklin Institute",
            "23rd & South"
           ],
           "lat": [
            39.95005,
            39.9570105,
            39.952202,
            39.9490455,
            39.95121,
            39.960461,
            39.9538,
            39.968182,
            39.953781,
            39.955761,
            39.961731,
            39.954861,
            39.94138,
            39.953819,
            39.962711,
            39.932308,
            39.950481,
            39.954239,
            39.95071,
            39.94426,
            39.940609,
            39.967178,
            39.97121,
            39.93549,
            39.940189,
            39.96006,
            39.95472,
            39.96143,
            39.947319,
            39.953388,
            39.959229,
            39.951118,
            39.940182,
            39.954029,
            39.963169,
            39.934448,
            39.94735,
            39.937038,
            39.94595,
            39.962502,
            39.950119,
            39.949741,
            39.96265,
            39.953899,
            39.93082,
            39.962891,
            39.946331,
            39.972069,
            39.947109,
            39.943909,
            39.953159,
            39.9384,
            39.947811,
            39.947922,
            39.952728,
            39.95924,
            39.937241,
            39.942951,
            39.933151,
            39.968922,
            39.945171,
            39.934311,
            39.946812,
            39.97263,
            39.93935,
            39.967442,
            39.953548,
            39.951969,
            39.967159,
            39.937752,
            39.953812,
            39.958191,
            39.95121,
            39.95425,
            39.94561,
            39.942181,
            39.958858,
            39.945271
           ],
           "legendgroup": "",
           "lon": [
            -75.156723,
            -75.20122900000001,
            -75.20311,
            -75.190109,
            -75.199623,
            -75.197006,
            -75.194794,
            -75.180344,
            -75.163742,
            -75.189819,
            -75.187881,
            -75.180908,
            -75.145638,
            -75.142632,
            -75.194191,
            -75.181541,
            -75.172859,
            -75.161377,
            -75.149208,
            -75.181343,
            -75.149582,
            -75.161247,
            -75.159698,
            -75.167107,
            -75.166908,
            -75.171982,
            -75.183228,
            -75.15242,
            -75.156952,
            -75.154259,
            -75.170357,
            -75.154572,
            -75.154419,
            -75.149834,
            -75.147919,
            -75.145409,
            -75.148857,
            -75.150383,
            -75.184753,
            -75.174202,
            -75.144722,
            -75.180969,
            -75.161743,
            -75.169022,
            -75.174744,
            -75.166061,
            -75.1698,
            -75.163513,
            -75.166183,
            -75.167351,
            -75.165512,
            -75.173271,
            -75.194092,
            -75.162369,
            -75.15979,
            -75.158211,
            -75.161201,
            -75.159554,
            -75.162483,
            -75.154701,
            -75.159927,
            -75.160423,
            -75.193108,
            -75.167572,
            -75.157158,
            -75.175072,
            -75.171921,
            -75.179428,
            -75.170013,
            -75.180122,
            -75.174072,
            -75.1782,
            -75.173698,
            -75.177612,
            -75.173477,
            -75.177467,
            -75.173691,
            -75.17971
           ],
           "marker": {
            "color": "#636efa",
            "opacity": 1
           },
           "mode": "markers",
           "name": "",
           "showlegend": false,
           "subplot": "mapbox",
           "type": "scattermapbox"
          }
         ],
         "name": "0"
        },
        {
         "data": [
          {
           "customdata": [
            [
             39.978409,
             -75.223991
            ],
            [
             39.95295,
             -75.139793
            ],
            [
             39.945091,
             -75.142502
            ],
            [
             39.960621,
             -75.139832
            ],
            [
             39.96424133333334,
             -75.18053666666667
            ],
            [
             39.97216,
             -75.129936
            ],
            [
             39.980782,
             -75.150551
            ],
            [
             39.966518,
             -75.129959
            ],
            [
             39.970699,
             -75.151711
            ],
            [
             39.974861,
             -75.205238
            ],
            [
             39.968491,
             -75.13546
            ],
            [
             39.977915,
             -75.21271100000001
            ],
            [
             39.9747045,
             -75.19671249999999
            ],
            [
             39.927769,
             -75.151031
            ],
            [
             39.969841,
             -75.1418
            ],
            [
             39.925522,
             -75.169037
            ],
            [
             39.928139,
             -75.165154
            ],
            [
             39.980049,
             -75.15522
            ],
            [
             39.928841,
             -75.170212
            ],
            [
             39.980042,
             -75.170883
            ],
            [
             39.980621,
             -75.1735
            ],
            [
             39.97274,
             -75.17939
            ],
            [
             39.977139,
             -75.179398
            ],
            [
             39.991192,
             -75.179749
            ],
            [
             39.987709,
             -75.180519
            ],
            [
             39.968441,
             -75.140007
            ],
            [
             39.97522,
             -75.186691
            ],
            [
             39.991791,
             -75.186371
            ],
            [
             39.988369,
             -75.187012
            ],
            [
             39.96175,
             -75.136414
            ],
            [
             39.982029,
             -75.18866
            ],
            [
             39.956619,
             -75.198624
            ],
            [
             39.964111,
             -75.19973
            ],
            [
             39.94952,
             -75.20256
            ],
            [
             39.96674,
             -75.207993
            ],
            [
             39.948219,
             -75.209084
            ],
            [
             39.955109,
             -75.209869
            ],
            [
             39.95866,
             -75.213226
            ],
            [
             39.953732,
             -75.218246
            ],
            [
             39.93401,
             -75.15094
            ],
            [
             39.98003,
             -75.143707
            ],
            [
             39.925449,
             -75.159538
            ],
            [
             39.978882,
             -75.133392
            ],
            [
             39.976688,
             -75.158127
            ],
            [
             39.96664,
             -75.192093
            ],
            [
             39.94733,
             -75.144028
            ]
           ],
           "hovertemplate": "<b>%{hovertext}</b><br><br>Cluster=1<br>start_lat=%{customdata[0]}<br>start_lon=%{customdata[1]}<extra></extra>",
           "hovertext": [
            "ParkWest Town Center",
            "Race Street Pier",
            "Foglietta Plaza",
            "Spring Garden Station, MFL",
            "Philadelphia Museum of Art",
            "Thompson & Palmer, Adaire School",
            "Temple University Station",
            "Penn Treaty Park",
            "Girard & Hutchinson",
            "Parkside & Girard",
            "Girard Station, MFL",
            "Parkside & Belmont, Case Building",
            "Philadelphia Zoo",
            "Moyamensing & Tasker",
            "3rd & Girard",
            "Broad & Passyunk",
            "12th & Passyunk",
            "13th & Montgomery",
            "15th & Castle, DiSilvestro Playground",
            "22nd & Cecil B. Moore",
            "24th & Cecil B. Moore, Cecil B. Moore Library",
            "27th & Girard",
            "27th & Master, Athletic Recreation Center",
            "29th & Dauphin",
            "29th & Diamond",
            "2nd & Germantown",
            "31st & Girard",
            "33rd & Dauphin",
            "33rd & Diamond",
            "Del. River Trail & Penn St.",
            "33rd & Reservoir",
            "38th & Market",
            "39th & Mt. Vernon, Mantua Haverford Community Center",
            "40th & Baltimore, Trolley Portal",
            "42nd & Lancaster",
            "43rd & Chester, Clark Park",
            "44th & Walnut",
            "46th Street Station, MFL",
            "48th & Spruce",
            "4th & Washington",
            "6th & Berks",
            "8th & Mifflin, Bok Building",
            "Berks Station, MFL",
            "Broad & Oxford",
            "34th & Mantua",
            "Welcome Park, NPS"
           ],
           "ids": [
            "ParkWest Town Center",
            "Race Street Pier",
            "Foglietta Plaza",
            "Spring Garden Station, MFL",
            "Philadelphia Museum of Art",
            "Thompson & Palmer, Adaire School",
            "Temple University Station",
            "Penn Treaty Park",
            "Girard & Hutchinson",
            "Parkside & Girard",
            "Girard Station, MFL",
            "Parkside & Belmont, Case Building",
            "Philadelphia Zoo",
            "Moyamensing & Tasker",
            "3rd & Girard",
            "Broad & Passyunk",
            "12th & Passyunk",
            "13th & Montgomery",
            "15th & Castle, DiSilvestro Playground",
            "22nd & Cecil B. Moore",
            "24th & Cecil B. Moore, Cecil B. Moore Library",
            "27th & Girard",
            "27th & Master, Athletic Recreation Center",
            "29th & Dauphin",
            "29th & Diamond",
            "2nd & Germantown",
            "31st & Girard",
            "33rd & Dauphin",
            "33rd & Diamond",
            "Del. River Trail & Penn St.",
            "33rd & Reservoir",
            "38th & Market",
            "39th & Mt. Vernon, Mantua Haverford Community Center",
            "40th & Baltimore, Trolley Portal",
            "42nd & Lancaster",
            "43rd & Chester, Clark Park",
            "44th & Walnut",
            "46th Street Station, MFL",
            "48th & Spruce",
            "4th & Washington",
            "6th & Berks",
            "8th & Mifflin, Bok Building",
            "Berks Station, MFL",
            "Broad & Oxford",
            "34th & Mantua",
            "Welcome Park, NPS"
           ],
           "lat": [
            39.978409,
            39.95295,
            39.945091,
            39.960621,
            39.96424133333334,
            39.97216,
            39.980782,
            39.966518,
            39.970699,
            39.974861,
            39.968491,
            39.977915,
            39.9747045,
            39.927769,
            39.969841,
            39.925522,
            39.928139,
            39.980049,
            39.928841,
            39.980042,
            39.980621,
            39.97274,
            39.977139,
            39.991192,
            39.987709,
            39.968441,
            39.97522,
            39.991791,
            39.988369,
            39.96175,
            39.982029,
            39.956619,
            39.964111,
            39.94952,
            39.96674,
            39.948219,
            39.955109,
            39.95866,
            39.953732,
            39.93401,
            39.98003,
            39.925449,
            39.978882,
            39.976688,
            39.96664,
            39.94733
           ],
           "legendgroup": "",
           "lon": [
            -75.223991,
            -75.139793,
            -75.142502,
            -75.139832,
            -75.18053666666667,
            -75.129936,
            -75.150551,
            -75.129959,
            -75.151711,
            -75.205238,
            -75.13546,
            -75.21271100000001,
            -75.19671249999999,
            -75.151031,
            -75.1418,
            -75.169037,
            -75.165154,
            -75.15522,
            -75.170212,
            -75.170883,
            -75.1735,
            -75.17939,
            -75.179398,
            -75.179749,
            -75.180519,
            -75.140007,
            -75.186691,
            -75.186371,
            -75.187012,
            -75.136414,
            -75.18866,
            -75.198624,
            -75.19973,
            -75.20256,
            -75.207993,
            -75.209084,
            -75.209869,
            -75.213226,
            -75.218246,
            -75.15094,
            -75.143707,
            -75.159538,
            -75.133392,
            -75.158127,
            -75.192093,
            -75.144028
           ],
           "marker": {
            "color": "#636efa",
            "opacity": 1
           },
           "mode": "markers",
           "name": "",
           "showlegend": false,
           "subplot": "mapbox",
           "type": "scattermapbox"
          }
         ],
         "name": "1"
        }
       ],
       "layout": {
        "font": {
         "size": 18
        },
        "geo": {
         "center": {
          "lat": 39.96,
          "lon": -75.14
         }
        },
        "height": 1000,
        "legend": {
         "tracegroupgap": 0
        },
        "mapbox": {
         "center": {
          "lat": 39.95627086155914,
          "lon": -75.17046182392473
         },
         "domain": {
          "x": [
           0,
           1
          ],
          "y": [
           0,
           1
          ]
         },
         "style": "carto-positron",
         "zoom": 12
        },
        "sliders": [
         {
          "active": 0,
          "currentvalue": {
           "prefix": "Cluster="
          },
          "len": 0.9,
          "pad": {
           "b": 10,
           "t": 60
          },
          "steps": [
           {
            "args": [
             [
              "0"
             ],
             {
              "frame": {
               "duration": 0,
               "redraw": true
              },
              "fromcurrent": true,
              "mode": "immediate",
              "transition": {
               "duration": 0,
               "easing": "linear"
              }
             }
            ],
            "label": "0",
            "method": "animate"
           },
           {
            "args": [
             [
              "1"
             ],
             {
              "frame": {
               "duration": 0,
               "redraw": true
              },
              "fromcurrent": true,
              "mode": "immediate",
              "transition": {
               "duration": 0,
               "easing": "linear"
              }
             }
            ],
            "label": "1",
            "method": "animate"
           }
          ],
          "x": 0.1,
          "xanchor": "left",
          "y": 0,
          "yanchor": "top"
         }
        ],
        "template": {
         "data": {
          "bar": [
           {
            "error_x": {
             "color": "#2a3f5f"
            },
            "error_y": {
             "color": "#2a3f5f"
            },
            "marker": {
             "line": {
              "color": "#E5ECF6",
              "width": 0.5
             },
             "pattern": {
              "fillmode": "overlay",
              "size": 10,
              "solidity": 0.2
             }
            },
            "type": "bar"
           }
          ],
          "barpolar": [
           {
            "marker": {
             "line": {
              "color": "#E5ECF6",
              "width": 0.5
             },
             "pattern": {
              "fillmode": "overlay",
              "size": 10,
              "solidity": 0.2
             }
            },
            "type": "barpolar"
           }
          ],
          "carpet": [
           {
            "aaxis": {
             "endlinecolor": "#2a3f5f",
             "gridcolor": "white",
             "linecolor": "white",
             "minorgridcolor": "white",
             "startlinecolor": "#2a3f5f"
            },
            "baxis": {
             "endlinecolor": "#2a3f5f",
             "gridcolor": "white",
             "linecolor": "white",
             "minorgridcolor": "white",
             "startlinecolor": "#2a3f5f"
            },
            "type": "carpet"
           }
          ],
          "choropleth": [
           {
            "colorbar": {
             "outlinewidth": 0,
             "ticks": ""
            },
            "type": "choropleth"
           }
          ],
          "contour": [
           {
            "colorbar": {
             "outlinewidth": 0,
             "ticks": ""
            },
            "colorscale": [
             [
              0,
              "#0d0887"
             ],
             [
              0.1111111111111111,
              "#46039f"
             ],
             [
              0.2222222222222222,
              "#7201a8"
             ],
             [
              0.3333333333333333,
              "#9c179e"
             ],
             [
              0.4444444444444444,
              "#bd3786"
             ],
             [
              0.5555555555555556,
              "#d8576b"
             ],
             [
              0.6666666666666666,
              "#ed7953"
             ],
             [
              0.7777777777777778,
              "#fb9f3a"
             ],
             [
              0.8888888888888888,
              "#fdca26"
             ],
             [
              1,
              "#f0f921"
             ]
            ],
            "type": "contour"
           }
          ],
          "contourcarpet": [
           {
            "colorbar": {
             "outlinewidth": 0,
             "ticks": ""
            },
            "type": "contourcarpet"
           }
          ],
          "heatmap": [
           {
            "colorbar": {
             "outlinewidth": 0,
             "ticks": ""
            },
            "colorscale": [
             [
              0,
              "#0d0887"
             ],
             [
              0.1111111111111111,
              "#46039f"
             ],
             [
              0.2222222222222222,
              "#7201a8"
             ],
             [
              0.3333333333333333,
              "#9c179e"
             ],
             [
              0.4444444444444444,
              "#bd3786"
             ],
             [
              0.5555555555555556,
              "#d8576b"
             ],
             [
              0.6666666666666666,
              "#ed7953"
             ],
             [
              0.7777777777777778,
              "#fb9f3a"
             ],
             [
              0.8888888888888888,
              "#fdca26"
             ],
             [
              1,
              "#f0f921"
             ]
            ],
            "type": "heatmap"
           }
          ],
          "heatmapgl": [
           {
            "colorbar": {
             "outlinewidth": 0,
             "ticks": ""
            },
            "colorscale": [
             [
              0,
              "#0d0887"
             ],
             [
              0.1111111111111111,
              "#46039f"
             ],
             [
              0.2222222222222222,
              "#7201a8"
             ],
             [
              0.3333333333333333,
              "#9c179e"
             ],
             [
              0.4444444444444444,
              "#bd3786"
             ],
             [
              0.5555555555555556,
              "#d8576b"
             ],
             [
              0.6666666666666666,
              "#ed7953"
             ],
             [
              0.7777777777777778,
              "#fb9f3a"
             ],
             [
              0.8888888888888888,
              "#fdca26"
             ],
             [
              1,
              "#f0f921"
             ]
            ],
            "type": "heatmapgl"
           }
          ],
          "histogram": [
           {
            "marker": {
             "pattern": {
              "fillmode": "overlay",
              "size": 10,
              "solidity": 0.2
             }
            },
            "type": "histogram"
           }
          ],
          "histogram2d": [
           {
            "colorbar": {
             "outlinewidth": 0,
             "ticks": ""
            },
            "colorscale": [
             [
              0,
              "#0d0887"
             ],
             [
              0.1111111111111111,
              "#46039f"
             ],
             [
              0.2222222222222222,
              "#7201a8"
             ],
             [
              0.3333333333333333,
              "#9c179e"
             ],
             [
              0.4444444444444444,
              "#bd3786"
             ],
             [
              0.5555555555555556,
              "#d8576b"
             ],
             [
              0.6666666666666666,
              "#ed7953"
             ],
             [
              0.7777777777777778,
              "#fb9f3a"
             ],
             [
              0.8888888888888888,
              "#fdca26"
             ],
             [
              1,
              "#f0f921"
             ]
            ],
            "type": "histogram2d"
           }
          ],
          "histogram2dcontour": [
           {
            "colorbar": {
             "outlinewidth": 0,
             "ticks": ""
            },
            "colorscale": [
             [
              0,
              "#0d0887"
             ],
             [
              0.1111111111111111,
              "#46039f"
             ],
             [
              0.2222222222222222,
              "#7201a8"
             ],
             [
              0.3333333333333333,
              "#9c179e"
             ],
             [
              0.4444444444444444,
              "#bd3786"
             ],
             [
              0.5555555555555556,
              "#d8576b"
             ],
             [
              0.6666666666666666,
              "#ed7953"
             ],
             [
              0.7777777777777778,
              "#fb9f3a"
             ],
             [
              0.8888888888888888,
              "#fdca26"
             ],
             [
              1,
              "#f0f921"
             ]
            ],
            "type": "histogram2dcontour"
           }
          ],
          "mesh3d": [
           {
            "colorbar": {
             "outlinewidth": 0,
             "ticks": ""
            },
            "type": "mesh3d"
           }
          ],
          "parcoords": [
           {
            "line": {
             "colorbar": {
              "outlinewidth": 0,
              "ticks": ""
             }
            },
            "type": "parcoords"
           }
          ],
          "pie": [
           {
            "automargin": true,
            "type": "pie"
           }
          ],
          "scatter": [
           {
            "fillpattern": {
             "fillmode": "overlay",
             "size": 10,
             "solidity": 0.2
            },
            "type": "scatter"
           }
          ],
          "scatter3d": [
           {
            "line": {
             "colorbar": {
              "outlinewidth": 0,
              "ticks": ""
             }
            },
            "marker": {
             "colorbar": {
              "outlinewidth": 0,
              "ticks": ""
             }
            },
            "type": "scatter3d"
           }
          ],
          "scattercarpet": [
           {
            "marker": {
             "colorbar": {
              "outlinewidth": 0,
              "ticks": ""
             }
            },
            "type": "scattercarpet"
           }
          ],
          "scattergeo": [
           {
            "marker": {
             "colorbar": {
              "outlinewidth": 0,
              "ticks": ""
             }
            },
            "type": "scattergeo"
           }
          ],
          "scattergl": [
           {
            "marker": {
             "colorbar": {
              "outlinewidth": 0,
              "ticks": ""
             }
            },
            "type": "scattergl"
           }
          ],
          "scattermapbox": [
           {
            "marker": {
             "colorbar": {
              "outlinewidth": 0,
              "ticks": ""
             }
            },
            "type": "scattermapbox"
           }
          ],
          "scatterpolar": [
           {
            "marker": {
             "colorbar": {
              "outlinewidth": 0,
              "ticks": ""
             }
            },
            "type": "scatterpolar"
           }
          ],
          "scatterpolargl": [
           {
            "marker": {
             "colorbar": {
              "outlinewidth": 0,
              "ticks": ""
             }
            },
            "type": "scatterpolargl"
           }
          ],
          "scatterternary": [
           {
            "marker": {
             "colorbar": {
              "outlinewidth": 0,
              "ticks": ""
             }
            },
            "type": "scatterternary"
           }
          ],
          "surface": [
           {
            "colorbar": {
             "outlinewidth": 0,
             "ticks": ""
            },
            "colorscale": [
             [
              0,
              "#0d0887"
             ],
             [
              0.1111111111111111,
              "#46039f"
             ],
             [
              0.2222222222222222,
              "#7201a8"
             ],
             [
              0.3333333333333333,
              "#9c179e"
             ],
             [
              0.4444444444444444,
              "#bd3786"
             ],
             [
              0.5555555555555556,
              "#d8576b"
             ],
             [
              0.6666666666666666,
              "#ed7953"
             ],
             [
              0.7777777777777778,
              "#fb9f3a"
             ],
             [
              0.8888888888888888,
              "#fdca26"
             ],
             [
              1,
              "#f0f921"
             ]
            ],
            "type": "surface"
           }
          ],
          "table": [
           {
            "cells": {
             "fill": {
              "color": "#EBF0F8"
             },
             "line": {
              "color": "white"
             }
            },
            "header": {
             "fill": {
              "color": "#C8D4E3"
             },
             "line": {
              "color": "white"
             }
            },
            "type": "table"
           }
          ]
         },
         "layout": {
          "annotationdefaults": {
           "arrowcolor": "#2a3f5f",
           "arrowhead": 0,
           "arrowwidth": 1
          },
          "autotypenumbers": "strict",
          "coloraxis": {
           "colorbar": {
            "outlinewidth": 0,
            "ticks": ""
           }
          },
          "colorscale": {
           "diverging": [
            [
             0,
             "#8e0152"
            ],
            [
             0.1,
             "#c51b7d"
            ],
            [
             0.2,
             "#de77ae"
            ],
            [
             0.3,
             "#f1b6da"
            ],
            [
             0.4,
             "#fde0ef"
            ],
            [
             0.5,
             "#f7f7f7"
            ],
            [
             0.6,
             "#e6f5d0"
            ],
            [
             0.7,
             "#b8e186"
            ],
            [
             0.8,
             "#7fbc41"
            ],
            [
             0.9,
             "#4d9221"
            ],
            [
             1,
             "#276419"
            ]
           ],
           "sequential": [
            [
             0,
             "#0d0887"
            ],
            [
             0.1111111111111111,
             "#46039f"
            ],
            [
             0.2222222222222222,
             "#7201a8"
            ],
            [
             0.3333333333333333,
             "#9c179e"
            ],
            [
             0.4444444444444444,
             "#bd3786"
            ],
            [
             0.5555555555555556,
             "#d8576b"
            ],
            [
             0.6666666666666666,
             "#ed7953"
            ],
            [
             0.7777777777777778,
             "#fb9f3a"
            ],
            [
             0.8888888888888888,
             "#fdca26"
            ],
            [
             1,
             "#f0f921"
            ]
           ],
           "sequentialminus": [
            [
             0,
             "#0d0887"
            ],
            [
             0.1111111111111111,
             "#46039f"
            ],
            [
             0.2222222222222222,
             "#7201a8"
            ],
            [
             0.3333333333333333,
             "#9c179e"
            ],
            [
             0.4444444444444444,
             "#bd3786"
            ],
            [
             0.5555555555555556,
             "#d8576b"
            ],
            [
             0.6666666666666666,
             "#ed7953"
            ],
            [
             0.7777777777777778,
             "#fb9f3a"
            ],
            [
             0.8888888888888888,
             "#fdca26"
            ],
            [
             1,
             "#f0f921"
            ]
           ]
          },
          "colorway": [
           "#636efa",
           "#EF553B",
           "#00cc96",
           "#ab63fa",
           "#FFA15A",
           "#19d3f3",
           "#FF6692",
           "#B6E880",
           "#FF97FF",
           "#FECB52"
          ],
          "font": {
           "color": "#2a3f5f"
          },
          "geo": {
           "bgcolor": "white",
           "lakecolor": "white",
           "landcolor": "#E5ECF6",
           "showlakes": true,
           "showland": true,
           "subunitcolor": "white"
          },
          "hoverlabel": {
           "align": "left"
          },
          "hovermode": "closest",
          "mapbox": {
           "style": "light"
          },
          "paper_bgcolor": "white",
          "plot_bgcolor": "#E5ECF6",
          "polar": {
           "angularaxis": {
            "gridcolor": "white",
            "linecolor": "white",
            "ticks": ""
           },
           "bgcolor": "#E5ECF6",
           "radialaxis": {
            "gridcolor": "white",
            "linecolor": "white",
            "ticks": ""
           }
          },
          "scene": {
           "xaxis": {
            "backgroundcolor": "#E5ECF6",
            "gridcolor": "white",
            "gridwidth": 2,
            "linecolor": "white",
            "showbackground": true,
            "ticks": "",
            "zerolinecolor": "white"
           },
           "yaxis": {
            "backgroundcolor": "#E5ECF6",
            "gridcolor": "white",
            "gridwidth": 2,
            "linecolor": "white",
            "showbackground": true,
            "ticks": "",
            "zerolinecolor": "white"
           },
           "zaxis": {
            "backgroundcolor": "#E5ECF6",
            "gridcolor": "white",
            "gridwidth": 2,
            "linecolor": "white",
            "showbackground": true,
            "ticks": "",
            "zerolinecolor": "white"
           }
          },
          "shapedefaults": {
           "line": {
            "color": "#2a3f5f"
           }
          },
          "ternary": {
           "aaxis": {
            "gridcolor": "white",
            "linecolor": "white",
            "ticks": ""
           },
           "baxis": {
            "gridcolor": "white",
            "linecolor": "white",
            "ticks": ""
           },
           "bgcolor": "#E5ECF6",
           "caxis": {
            "gridcolor": "white",
            "linecolor": "white",
            "ticks": ""
           }
          },
          "title": {
           "x": 0.05
          },
          "xaxis": {
           "automargin": true,
           "gridcolor": "white",
           "linecolor": "white",
           "ticks": "",
           "title": {
            "standoff": 15
           },
           "zerolinecolor": "white",
           "zerolinewidth": 2
          },
          "yaxis": {
           "automargin": true,
           "gridcolor": "white",
           "linecolor": "white",
           "ticks": "",
           "title": {
            "standoff": 15
           },
           "zerolinecolor": "white",
           "zerolinewidth": 2
          }
         }
        },
        "title": {
         "text": "Locational Clusters based on the start stations",
         "x": 0.5,
         "xanchor": "center",
         "y": 0.95,
         "yanchor": "top"
        },
        "updatemenus": [
         {
          "buttons": [
           {
            "args": [
             null,
             {
              "frame": {
               "duration": 500,
               "redraw": true
              },
              "fromcurrent": true,
              "mode": "immediate",
              "transition": {
               "duration": 500,
               "easing": "linear"
              }
             }
            ],
            "label": "&#9654;",
            "method": "animate"
           },
           {
            "args": [
             [
              null
             ],
             {
              "frame": {
               "duration": 0,
               "redraw": true
              },
              "fromcurrent": true,
              "mode": "immediate",
              "transition": {
               "duration": 0,
               "easing": "linear"
              }
             }
            ],
            "label": "&#9724;",
            "method": "animate"
           }
          ],
          "direction": "left",
          "pad": {
           "r": 10,
           "t": 70
          },
          "showactive": false,
          "type": "buttons",
          "x": 0.1,
          "xanchor": "right",
          "y": 0,
          "yanchor": "top"
         }
        ],
        "width": 900
       }
      }
     },
     "metadata": {},
     "output_type": "display_data"
    },
    {
     "data": {
      "text/html": [
       "<div>\n",
       "<style scoped>\n",
       "    .dataframe tbody tr th:only-of-type {\n",
       "        vertical-align: middle;\n",
       "    }\n",
       "\n",
       "    .dataframe tbody tr th {\n",
       "        vertical-align: top;\n",
       "    }\n",
       "\n",
       "    .dataframe thead th {\n",
       "        text-align: right;\n",
       "    }\n",
       "</style>\n",
       "<table border=\"1\" class=\"dataframe\">\n",
       "  <thead>\n",
       "    <tr style=\"text-align: right;\">\n",
       "      <th></th>\n",
       "      <th>total_started_trips</th>\n",
       "      <th>avg_trip_duration in minutes</th>\n",
       "      <th>avg_distance_in_km</th>\n",
       "    </tr>\n",
       "  </thead>\n",
       "  <tbody>\n",
       "    <tr>\n",
       "      <th>count</th>\n",
       "      <td>78.000000</td>\n",
       "      <td>78.000000</td>\n",
       "      <td>78.000000</td>\n",
       "    </tr>\n",
       "    <tr>\n",
       "      <th>mean</th>\n",
       "      <td>8202.448718</td>\n",
       "      <td>17.432102</td>\n",
       "      <td>1.575329</td>\n",
       "    </tr>\n",
       "    <tr>\n",
       "      <th>std</th>\n",
       "      <td>5063.403182</td>\n",
       "      <td>2.824437</td>\n",
       "      <td>0.173340</td>\n",
       "    </tr>\n",
       "    <tr>\n",
       "      <th>min</th>\n",
       "      <td>48.000000</td>\n",
       "      <td>12.208333</td>\n",
       "      <td>1.225293</td>\n",
       "    </tr>\n",
       "    <tr>\n",
       "      <th>25%</th>\n",
       "      <td>4644.500000</td>\n",
       "      <td>15.262186</td>\n",
       "      <td>1.446492</td>\n",
       "    </tr>\n",
       "    <tr>\n",
       "      <th>50%</th>\n",
       "      <td>7726.000000</td>\n",
       "      <td>16.881127</td>\n",
       "      <td>1.541565</td>\n",
       "    </tr>\n",
       "    <tr>\n",
       "      <th>75%</th>\n",
       "      <td>10854.750000</td>\n",
       "      <td>19.361124</td>\n",
       "      <td>1.678160</td>\n",
       "    </tr>\n",
       "    <tr>\n",
       "      <th>max</th>\n",
       "      <td>24644.000000</td>\n",
       "      <td>26.763823</td>\n",
       "      <td>1.975722</td>\n",
       "    </tr>\n",
       "  </tbody>\n",
       "</table>\n",
       "</div>"
      ],
      "text/plain": [
       "       total_started_trips  avg_trip_duration in minutes  avg_distance_in_km\n",
       "count            78.000000                     78.000000           78.000000\n",
       "mean           8202.448718                     17.432102            1.575329\n",
       "std            5063.403182                      2.824437            0.173340\n",
       "min              48.000000                     12.208333            1.225293\n",
       "25%            4644.500000                     15.262186            1.446492\n",
       "50%            7726.000000                     16.881127            1.541565\n",
       "75%           10854.750000                     19.361124            1.678160\n",
       "max           24644.000000                     26.763823            1.975722"
      ]
     },
     "metadata": {},
     "output_type": "display_data"
    },
    {
     "data": {
      "text/html": [
       "<div>\n",
       "<style scoped>\n",
       "    .dataframe tbody tr th:only-of-type {\n",
       "        vertical-align: middle;\n",
       "    }\n",
       "\n",
       "    .dataframe tbody tr th {\n",
       "        vertical-align: top;\n",
       "    }\n",
       "\n",
       "    .dataframe thead th {\n",
       "        text-align: right;\n",
       "    }\n",
       "</style>\n",
       "<table border=\"1\" class=\"dataframe\">\n",
       "  <thead>\n",
       "    <tr style=\"text-align: right;\">\n",
       "      <th></th>\n",
       "      <th>total_started_trips</th>\n",
       "      <th>avg_trip_duration in minutes</th>\n",
       "      <th>avg_distance_in_km</th>\n",
       "    </tr>\n",
       "  </thead>\n",
       "  <tbody>\n",
       "    <tr>\n",
       "      <th>count</th>\n",
       "      <td>46.000000</td>\n",
       "      <td>46.000000</td>\n",
       "      <td>46.000000</td>\n",
       "    </tr>\n",
       "    <tr>\n",
       "      <th>mean</th>\n",
       "      <td>3096.391304</td>\n",
       "      <td>25.803404</td>\n",
       "      <td>2.065695</td>\n",
       "    </tr>\n",
       "    <tr>\n",
       "      <th>std</th>\n",
       "      <td>2578.450236</td>\n",
       "      <td>6.745912</td>\n",
       "      <td>0.367143</td>\n",
       "    </tr>\n",
       "    <tr>\n",
       "      <th>min</th>\n",
       "      <td>581.000000</td>\n",
       "      <td>17.189680</td>\n",
       "      <td>1.139319</td>\n",
       "    </tr>\n",
       "    <tr>\n",
       "      <th>25%</th>\n",
       "      <td>1329.000000</td>\n",
       "      <td>21.116777</td>\n",
       "      <td>1.808131</td>\n",
       "    </tr>\n",
       "    <tr>\n",
       "      <th>50%</th>\n",
       "      <td>2339.500000</td>\n",
       "      <td>23.355512</td>\n",
       "      <td>2.079705</td>\n",
       "    </tr>\n",
       "    <tr>\n",
       "      <th>75%</th>\n",
       "      <td>4747.500000</td>\n",
       "      <td>29.016456</td>\n",
       "      <td>2.316596</td>\n",
       "    </tr>\n",
       "    <tr>\n",
       "      <th>max</th>\n",
       "      <td>14026.000000</td>\n",
       "      <td>45.941848</td>\n",
       "      <td>2.726837</td>\n",
       "    </tr>\n",
       "  </tbody>\n",
       "</table>\n",
       "</div>"
      ],
      "text/plain": [
       "       total_started_trips  avg_trip_duration in minutes  avg_distance_in_km\n",
       "count            46.000000                     46.000000           46.000000\n",
       "mean           3096.391304                     25.803404            2.065695\n",
       "std            2578.450236                      6.745912            0.367143\n",
       "min             581.000000                     17.189680            1.139319\n",
       "25%            1329.000000                     21.116777            1.808131\n",
       "50%            2339.500000                     23.355512            2.079705\n",
       "75%            4747.500000                     29.016456            2.316596\n",
       "max           14026.000000                     45.941848            2.726837"
      ]
     },
     "metadata": {},
     "output_type": "display_data"
    }
   ],
   "source": [
    "# Scatter Mapbox to display the clusters in a map\n",
    "fig = px.scatter_mapbox(df_phil_start_stations_original, lat=\"start_lat\", lon=\"start_lon\", animation_frame=\"Cluster\", \n",
    "                        opacity=1, animation_group='start_station_name', zoom=12, height=1000, width=900, \n",
    "                        hover_name=\"start_station_name\", hover_data=[\"start_lat\", \"start_lon\"],\n",
    "                        title='Locational Clusters based on the start stations')\n",
    "fig.update_geos(center=dict(lon=-75.14, lat=39.96))\n",
    "fig.update_layout(mapbox_style=\"carto-positron\")\n",
    "fig.update_layout(\n",
    "    title={\n",
    "        'y':0.95,\n",
    "        'x':0.5,\n",
    "        'xanchor': 'center',\n",
    "        'yanchor': 'top'},\n",
    "    font=dict(\n",
    "            size=18\n",
    "        ))\n",
    "display(fig)\n",
    "\n",
    "describeData(df_phil_start_stations, df_phil_start_stations_scaled, cluster)"
   ]
  },
  {
   "attachments": {},
   "cell_type": "markdown",
   "id": "1f7d8d08",
   "metadata": {},
   "source": [
    "Cluster results from the start stations:\n",
    "- First cluster <br>\n",
    "78 stations in the cluster with lowest avg trip duration and lowest avg distance between stations <br>\n",
    "Stations are generally located around the center of the city. They most likely stay in the center and <br> therefore\n",
    "do not drive very long and far away.\n",
    "\n",
    "- Second cluster <br>\n",
    "46 stations in the cluster with highest avg trip duration and highest avg distance between stations <br>\n",
    "Stations are generally located further away from the center, so they need to drive longer and further <br> to \n",
    "get to their destination. Most likely people that are driving to work or shopping."
   ]
  },
  {
   "attachments": {},
   "cell_type": "markdown",
   "id": "ef2038c5",
   "metadata": {},
   "source": [
    "#### End Stations"
   ]
  },
  {
   "cell_type": "code",
   "execution_count": 45,
   "id": "da9ef5b7",
   "metadata": {},
   "outputs": [
    {
     "data": {
      "text/html": [
       "<div>\n",
       "<style scoped>\n",
       "    .dataframe tbody tr th:only-of-type {\n",
       "        vertical-align: middle;\n",
       "    }\n",
       "\n",
       "    .dataframe tbody tr th {\n",
       "        vertical-align: top;\n",
       "    }\n",
       "\n",
       "    .dataframe thead th {\n",
       "        text-align: right;\n",
       "    }\n",
       "</style>\n",
       "<table border=\"1\" class=\"dataframe\">\n",
       "  <thead>\n",
       "    <tr style=\"text-align: right;\">\n",
       "      <th></th>\n",
       "      <th>end_station_name</th>\n",
       "      <th>end_lat</th>\n",
       "      <th>end_lon</th>\n",
       "      <th>total_ended_trips</th>\n",
       "      <th>trip_duration in minutes</th>\n",
       "      <th>distance_in_km</th>\n",
       "    </tr>\n",
       "  </thead>\n",
       "  <tbody>\n",
       "    <tr>\n",
       "      <th>64</th>\n",
       "      <td>40th Street Station, MFL</td>\n",
       "      <td>39.956940</td>\n",
       "      <td>-75.200691</td>\n",
       "      <td>1895</td>\n",
       "      <td>40518</td>\n",
       "      <td>3438.095967</td>\n",
       "    </tr>\n",
       "    <tr>\n",
       "      <th>65</th>\n",
       "      <td>40th Street Station, MFL</td>\n",
       "      <td>39.957081</td>\n",
       "      <td>-75.201767</td>\n",
       "      <td>1695</td>\n",
       "      <td>31958</td>\n",
       "      <td>3351.116083</td>\n",
       "    </tr>\n",
       "    <tr>\n",
       "      <th>106</th>\n",
       "      <td>Parkside &amp; Belmont, Case Building</td>\n",
       "      <td>39.977791</td>\n",
       "      <td>-75.213226</td>\n",
       "      <td>308</td>\n",
       "      <td>10398</td>\n",
       "      <td>777.939658</td>\n",
       "    </tr>\n",
       "    <tr>\n",
       "      <th>107</th>\n",
       "      <td>Parkside &amp; Belmont, Case Building</td>\n",
       "      <td>39.978039</td>\n",
       "      <td>-75.212196</td>\n",
       "      <td>1299</td>\n",
       "      <td>42219</td>\n",
       "      <td>3279.611954</td>\n",
       "    </tr>\n",
       "    <tr>\n",
       "      <th>112</th>\n",
       "      <td>Philadelphia Museum of Art</td>\n",
       "      <td>39.963711</td>\n",
       "      <td>-75.181602</td>\n",
       "      <td>1545</td>\n",
       "      <td>62814</td>\n",
       "      <td>2391.176417</td>\n",
       "    </tr>\n",
       "    <tr>\n",
       "      <th>113</th>\n",
       "      <td>Philadelphia Museum of Art</td>\n",
       "      <td>39.964432</td>\n",
       "      <td>-75.179977</td>\n",
       "      <td>4291</td>\n",
       "      <td>194389</td>\n",
       "      <td>6050.049510</td>\n",
       "    </tr>\n",
       "    <tr>\n",
       "      <th>114</th>\n",
       "      <td>Philadelphia Museum of Art</td>\n",
       "      <td>39.964581</td>\n",
       "      <td>-75.180031</td>\n",
       "      <td>8451</td>\n",
       "      <td>362796</td>\n",
       "      <td>12448.271253</td>\n",
       "    </tr>\n",
       "    <tr>\n",
       "      <th>115</th>\n",
       "      <td>Philadelphia Zoo</td>\n",
       "      <td>39.974689</td>\n",
       "      <td>-75.195618</td>\n",
       "      <td>82</td>\n",
       "      <td>3554</td>\n",
       "      <td>176.020379</td>\n",
       "    </tr>\n",
       "    <tr>\n",
       "      <th>116</th>\n",
       "      <td>Philadelphia Zoo</td>\n",
       "      <td>39.974720</td>\n",
       "      <td>-75.197807</td>\n",
       "      <td>715</td>\n",
       "      <td>22567</td>\n",
       "      <td>1593.360342</td>\n",
       "    </tr>\n",
       "    <tr>\n",
       "      <th>127</th>\n",
       "      <td>University City Station</td>\n",
       "      <td>39.948872</td>\n",
       "      <td>-75.189857</td>\n",
       "      <td>6106</td>\n",
       "      <td>94293</td>\n",
       "      <td>11062.630490</td>\n",
       "    </tr>\n",
       "    <tr>\n",
       "      <th>128</th>\n",
       "      <td>University City Station</td>\n",
       "      <td>39.949219</td>\n",
       "      <td>-75.190361</td>\n",
       "      <td>8558</td>\n",
       "      <td>114624</td>\n",
       "      <td>13632.628073</td>\n",
       "    </tr>\n",
       "  </tbody>\n",
       "</table>\n",
       "</div>"
      ],
      "text/plain": [
       "                      end_station_name    end_lat    end_lon  \\\n",
       "64            40th Street Station, MFL  39.956940 -75.200691   \n",
       "65            40th Street Station, MFL  39.957081 -75.201767   \n",
       "106  Parkside & Belmont, Case Building  39.977791 -75.213226   \n",
       "107  Parkside & Belmont, Case Building  39.978039 -75.212196   \n",
       "112         Philadelphia Museum of Art  39.963711 -75.181602   \n",
       "113         Philadelphia Museum of Art  39.964432 -75.179977   \n",
       "114         Philadelphia Museum of Art  39.964581 -75.180031   \n",
       "115                   Philadelphia Zoo  39.974689 -75.195618   \n",
       "116                   Philadelphia Zoo  39.974720 -75.197807   \n",
       "127            University City Station  39.948872 -75.189857   \n",
       "128            University City Station  39.949219 -75.190361   \n",
       "\n",
       "     total_ended_trips  trip_duration in minutes  distance_in_km  \n",
       "64                1895                     40518     3438.095967  \n",
       "65                1695                     31958     3351.116083  \n",
       "106                308                     10398      777.939658  \n",
       "107               1299                     42219     3279.611954  \n",
       "112               1545                     62814     2391.176417  \n",
       "113               4291                    194389     6050.049510  \n",
       "114               8451                    362796    12448.271253  \n",
       "115                 82                      3554      176.020379  \n",
       "116                715                     22567     1593.360342  \n",
       "127               6106                     94293    11062.630490  \n",
       "128               8558                    114624    13632.628073  "
      ]
     },
     "metadata": {},
     "output_type": "display_data"
    },
    {
     "data": {
      "text/html": [
       "<div>\n",
       "<style scoped>\n",
       "    .dataframe tbody tr th:only-of-type {\n",
       "        vertical-align: middle;\n",
       "    }\n",
       "\n",
       "    .dataframe tbody tr th {\n",
       "        vertical-align: top;\n",
       "    }\n",
       "\n",
       "    .dataframe thead th {\n",
       "        text-align: right;\n",
       "    }\n",
       "</style>\n",
       "<table border=\"1\" class=\"dataframe\">\n",
       "  <thead>\n",
       "    <tr style=\"text-align: right;\">\n",
       "      <th></th>\n",
       "      <th>end_station_name</th>\n",
       "      <th>end_lat</th>\n",
       "      <th>end_lon</th>\n",
       "      <th>total_ended_trips</th>\n",
       "      <th>trip_duration in minutes</th>\n",
       "      <th>distance_in_km</th>\n",
       "    </tr>\n",
       "  </thead>\n",
       "  <tbody>\n",
       "    <tr>\n",
       "      <th>64</th>\n",
       "      <td>40th Street Station, MFL</td>\n",
       "      <td>39.956940</td>\n",
       "      <td>-75.200691</td>\n",
       "      <td>1895</td>\n",
       "      <td>40518</td>\n",
       "      <td>3438.095967</td>\n",
       "    </tr>\n",
       "    <tr>\n",
       "      <th>65</th>\n",
       "      <td>40th Street Station, MFL</td>\n",
       "      <td>39.957081</td>\n",
       "      <td>-75.201767</td>\n",
       "      <td>1695</td>\n",
       "      <td>31958</td>\n",
       "      <td>3351.116083</td>\n",
       "    </tr>\n",
       "  </tbody>\n",
       "</table>\n",
       "</div>"
      ],
      "text/plain": [
       "            end_station_name    end_lat    end_lon  total_ended_trips  \\\n",
       "64  40th Street Station, MFL  39.956940 -75.200691               1895   \n",
       "65  40th Street Station, MFL  39.957081 -75.201767               1695   \n",
       "\n",
       "    trip_duration in minutes  distance_in_km  \n",
       "64                     40518     3438.095967  \n",
       "65                     31958     3351.116083  "
      ]
     },
     "metadata": {},
     "output_type": "display_data"
    },
    {
     "data": {
      "text/html": [
       "<div>\n",
       "<style scoped>\n",
       "    .dataframe tbody tr th:only-of-type {\n",
       "        vertical-align: middle;\n",
       "    }\n",
       "\n",
       "    .dataframe tbody tr th {\n",
       "        vertical-align: top;\n",
       "    }\n",
       "\n",
       "    .dataframe thead th {\n",
       "        text-align: right;\n",
       "    }\n",
       "</style>\n",
       "<table border=\"1\" class=\"dataframe\">\n",
       "  <thead>\n",
       "    <tr style=\"text-align: right;\">\n",
       "      <th></th>\n",
       "      <th>end_station_name</th>\n",
       "      <th>end_lat</th>\n",
       "      <th>end_lon</th>\n",
       "      <th>total_ended_trips</th>\n",
       "      <th>trip_duration in minutes</th>\n",
       "      <th>distance_in_km</th>\n",
       "    </tr>\n",
       "  </thead>\n",
       "  <tbody>\n",
       "  </tbody>\n",
       "</table>\n",
       "</div>"
      ],
      "text/plain": [
       "Empty DataFrame\n",
       "Columns: [end_station_name, end_lat, end_lon, total_ended_trips, trip_duration in minutes, distance_in_km]\n",
       "Index: []"
      ]
     },
     "metadata": {},
     "output_type": "display_data"
    },
    {
     "data": {
      "text/html": [
       "<div>\n",
       "<style scoped>\n",
       "    .dataframe tbody tr th:only-of-type {\n",
       "        vertical-align: middle;\n",
       "    }\n",
       "\n",
       "    .dataframe tbody tr th {\n",
       "        vertical-align: top;\n",
       "    }\n",
       "\n",
       "    .dataframe thead th {\n",
       "        text-align: right;\n",
       "    }\n",
       "</style>\n",
       "<table border=\"1\" class=\"dataframe\">\n",
       "  <thead>\n",
       "    <tr style=\"text-align: right;\">\n",
       "      <th></th>\n",
       "      <th>end_station_name</th>\n",
       "      <th>end_lat</th>\n",
       "      <th>end_lon</th>\n",
       "      <th>total_ended_trips</th>\n",
       "      <th>trip_duration in minutes</th>\n",
       "      <th>distance_in_km</th>\n",
       "    </tr>\n",
       "  </thead>\n",
       "  <tbody>\n",
       "    <tr>\n",
       "      <th>64</th>\n",
       "      <td>40th Street Station, MFL</td>\n",
       "      <td>39.957011</td>\n",
       "      <td>-75.201229</td>\n",
       "      <td>3590</td>\n",
       "      <td>72476</td>\n",
       "      <td>6789.212051</td>\n",
       "    </tr>\n",
       "  </tbody>\n",
       "</table>\n",
       "</div>"
      ],
      "text/plain": [
       "            end_station_name    end_lat    end_lon  total_ended_trips  \\\n",
       "64  40th Street Station, MFL  39.957011 -75.201229               3590   \n",
       "\n",
       "    trip_duration in minutes  distance_in_km  \n",
       "64                     72476     6789.212051  "
      ]
     },
     "metadata": {},
     "output_type": "display_data"
    },
    {
     "data": {
      "text/html": [
       "<div>\n",
       "<style scoped>\n",
       "    .dataframe tbody tr th:only-of-type {\n",
       "        vertical-align: middle;\n",
       "    }\n",
       "\n",
       "    .dataframe tbody tr th {\n",
       "        vertical-align: top;\n",
       "    }\n",
       "\n",
       "    .dataframe thead th {\n",
       "        text-align: right;\n",
       "    }\n",
       "</style>\n",
       "<table border=\"1\" class=\"dataframe\">\n",
       "  <thead>\n",
       "    <tr style=\"text-align: right;\">\n",
       "      <th></th>\n",
       "      <th>total_ended_trips</th>\n",
       "      <th>avg_trip_duration in minutes</th>\n",
       "      <th>avg_distance_in_km</th>\n",
       "    </tr>\n",
       "  </thead>\n",
       "  <tbody>\n",
       "    <tr>\n",
       "      <th>0</th>\n",
       "      <td>8724</td>\n",
       "      <td>16.571756</td>\n",
       "      <td>1.716513</td>\n",
       "    </tr>\n",
       "    <tr>\n",
       "      <th>1</th>\n",
       "      <td>4938</td>\n",
       "      <td>16.980559</td>\n",
       "      <td>1.851371</td>\n",
       "    </tr>\n",
       "    <tr>\n",
       "      <th>2</th>\n",
       "      <td>12458</td>\n",
       "      <td>14.557072</td>\n",
       "      <td>1.450137</td>\n",
       "    </tr>\n",
       "    <tr>\n",
       "      <th>3</th>\n",
       "      <td>772</td>\n",
       "      <td>20.373057</td>\n",
       "      <td>1.347672</td>\n",
       "    </tr>\n",
       "    <tr>\n",
       "      <th>4</th>\n",
       "      <td>8265</td>\n",
       "      <td>17.234604</td>\n",
       "      <td>1.869070</td>\n",
       "    </tr>\n",
       "    <tr>\n",
       "      <th>...</th>\n",
       "      <td>...</td>\n",
       "      <td>...</td>\n",
       "      <td>...</td>\n",
       "    </tr>\n",
       "    <tr>\n",
       "      <th>119</th>\n",
       "      <td>9498</td>\n",
       "      <td>13.871025</td>\n",
       "      <td>1.865382</td>\n",
       "    </tr>\n",
       "    <tr>\n",
       "      <th>120</th>\n",
       "      <td>3815</td>\n",
       "      <td>15.374312</td>\n",
       "      <td>2.051107</td>\n",
       "    </tr>\n",
       "    <tr>\n",
       "      <th>121</th>\n",
       "      <td>1475</td>\n",
       "      <td>25.062373</td>\n",
       "      <td>2.898215</td>\n",
       "    </tr>\n",
       "    <tr>\n",
       "      <th>122</th>\n",
       "      <td>14664</td>\n",
       "      <td>14.246931</td>\n",
       "      <td>1.684074</td>\n",
       "    </tr>\n",
       "    <tr>\n",
       "      <th>123</th>\n",
       "      <td>5223</td>\n",
       "      <td>21.334482</td>\n",
       "      <td>1.838220</td>\n",
       "    </tr>\n",
       "  </tbody>\n",
       "</table>\n",
       "<p>124 rows × 3 columns</p>\n",
       "</div>"
      ],
      "text/plain": [
       "     total_ended_trips  avg_trip_duration in minutes  avg_distance_in_km\n",
       "0                 8724                     16.571756            1.716513\n",
       "1                 4938                     16.980559            1.851371\n",
       "2                12458                     14.557072            1.450137\n",
       "3                  772                     20.373057            1.347672\n",
       "4                 8265                     17.234604            1.869070\n",
       "..                 ...                           ...                 ...\n",
       "119               9498                     13.871025            1.865382\n",
       "120               3815                     15.374312            2.051107\n",
       "121               1475                     25.062373            2.898215\n",
       "122              14664                     14.246931            1.684074\n",
       "123               5223                     21.334482            1.838220\n",
       "\n",
       "[124 rows x 3 columns]"
      ]
     },
     "execution_count": 45,
     "metadata": {},
     "output_type": "execute_result"
    }
   ],
   "source": [
    "# Aggregation function to combine stations that have multiple stations in itself\n",
    "agg_functions = {'end_station_name': 'first', 'end_lat': 'mean', 'end_lon': 'mean', 'total_ended_trips': 'sum', 'trip_duration in minutes': 'sum', 'distance_in_km': 'sum'}\n",
    "\n",
    "# Dataframe for the sum of trip duration and distance per station\n",
    "descriptiveTripFeatures = df_phil_clustering.groupby(['end_station_name', 'end_lat', 'end_lon']).aggregate({'trip_duration in minutes': 'sum', 'distance_in_km': 'sum'}).reset_index()\n",
    "\n",
    "# Dataframe for the amount of total trips per station\n",
    "totalTripCount = df_phil_clustering.groupby(['end_station_name', 'end_lat', 'end_lon'])['end_station_name'].count().reset_index(name='total_ended_trips')\n",
    "\n",
    "# Merging both dataframes into one\n",
    "df_phil_end_stations = pd.merge(totalTripCount, descriptiveTripFeatures, on=['end_station_name', 'end_lat', 'end_lon'])\n",
    "\n",
    "# Show duplicates before aggregating them and one example\n",
    "display(df_phil_end_stations[df_phil_end_stations.duplicated(subset=['end_station_name'], keep=False)])\n",
    "display(df_phil_end_stations[df_phil_end_stations['end_station_name'] == '40th Street Station, MFL'])\n",
    "\n",
    "# Aggregation\n",
    "df_phil_end_stations = df_phil_end_stations.groupby(df_phil_end_stations['end_station_name']).aggregate(agg_functions).reset_index(drop=True)\n",
    "\n",
    "# Show duplicates after aggregating to see if they are gone\n",
    "display(df_phil_end_stations[df_phil_end_stations.duplicated(subset=['end_station_name'], keep=False)])\n",
    "display(df_phil_end_stations[df_phil_end_stations['end_station_name'] == '40th Street Station, MFL'])\n",
    "\n",
    "# Copying the original dataframe for visualization and dropping every unnecessary column for KMeans \n",
    "df_phil_end_stations_original = df_phil_end_stations.copy()\n",
    "df_phil_end_stations.drop(['end_station_name', 'end_lat', 'end_lon'], axis=1, inplace=True)\n",
    "\n",
    "# Calculating avg values for both trip duration and the distance\n",
    "df_phil_end_stations['avg_trip_duration in minutes'] = df_phil_end_stations['trip_duration in minutes'] / df_phil_end_stations['total_ended_trips']\n",
    "df_phil_end_stations['avg_distance_in_km'] = df_phil_end_stations['distance_in_km'] / df_phil_end_stations['total_ended_trips']\n",
    "\n",
    "df_phil_end_stations.drop(['trip_duration in minutes', 'distance_in_km'], axis=1, inplace=True)\n",
    "\n",
    "# Final dataframe to cluster the end stations\n",
    "df_phil_end_stations"
   ]
  },
  {
   "cell_type": "code",
   "execution_count": 46,
   "id": "f812f3cd",
   "metadata": {},
   "outputs": [
    {
     "data": {
      "image/png": "[encoded data removed]",
      "text/plain": [
       "<Figure size 1200x700 with 1 Axes>"
      ]
     },
     "metadata": {},
     "output_type": "display_data"
    }
   ],
   "source": [
    "df_phil_end_stations_scaled = scalingData(df_phil_end_stations)\n",
    "calcAndPlotLoss(10, df_phil_end_stations_scaled)"
   ]
  },
  {
   "attachments": {},
   "cell_type": "markdown",
   "id": "a91e4416",
   "metadata": {},
   "source": [
    "Looking at the loss function, the amount of clusters should be between 2-4. As found out with testing the amount of clusters, \n",
    "<br> having 2 clusters is already enough to find to similiar groups for both start and end stations."
   ]
  },
  {
   "cell_type": "code",
   "execution_count": 47,
   "id": "8e615d45",
   "metadata": {},
   "outputs": [],
   "source": [
    "# Define the cluster amount here\n",
    "cluster = 2\n",
    "\n",
    "# Calculating KMeans\n",
    "calcKMeans(cluster, df_phil_end_stations_scaled)\n",
    "\n",
    "# Adding the clusters from KMeans into the original dataframe \n",
    "df_phil_end_stations_original.loc[:, 'Cluster'] = df_phil_end_stations_scaled['KMeans']\n",
    "\n",
    "# Sorting cluster values for the map slider\n",
    "df_phil_end_stations_original.sort_values(by='Cluster', ascending=True, inplace=True)\n",
    "df_phil_end_stations_original.reset_index(drop=True, inplace=True)"
   ]
  },
  {
   "attachments": {},
   "cell_type": "markdown",
   "id": "a52a614c",
   "metadata": {},
   "source": [
    "Code of calculating KMeans and plotting is seperated, so that KMeans clusters are not recalculated everytime!"
   ]
  },
  {
   "cell_type": "code",
   "execution_count": 48,
   "id": "14c607d3",
   "metadata": {},
   "outputs": [
    {
     "data": {
      "application/vnd.plotly.v1+json": {
       "config": {
        "plotlyServerURL": "https://plot.ly"
       },
       "data": [
        {
         "customdata": [
          [
           39.95005,
           -75.156723
          ],
          [
           39.953781,
           -75.163742
          ],
          [
           39.960461,
           -75.197006
          ],
          [
           39.9538,
           -75.194794
          ],
          [
           39.955761,
           -75.189819
          ],
          [
           39.968182,
           -75.180344
          ],
          [
           39.954239,
           -75.161377
          ],
          [
           39.961731,
           -75.187881
          ],
          [
           39.954861,
           -75.180908
          ],
          [
           39.94138,
           -75.145638
          ],
          [
           39.950119,
           -75.144722
          ],
          [
           39.93549,
           -75.167107
          ],
          [
           39.950481,
           -75.172859
          ],
          [
           39.94595,
           -75.184753
          ],
          [
           39.962502,
           -75.174202
          ],
          [
           39.96265,
           -75.161743
          ],
          [
           39.9490455,
           -75.190109
          ],
          [
           39.949741,
           -75.180969
          ],
          [
           39.95071,
           -75.149208
          ],
          [
           39.959229,
           -75.170357
          ],
          [
           39.940189,
           -75.166908
          ],
          [
           39.96006,
           -75.171982
          ],
          [
           39.95472,
           -75.183228
          ],
          [
           39.96143,
           -75.15242
          ],
          [
           39.947319,
           -75.156952
          ],
          [
           39.953388,
           -75.154259
          ],
          [
           39.93935,
           -75.157158
          ],
          [
           39.951118,
           -75.154572
          ],
          [
           39.940182,
           -75.154419
          ],
          [
           39.963169,
           -75.147919
          ],
          [
           39.962711,
           -75.194191
          ],
          [
           39.967178,
           -75.161247
          ],
          [
           39.94735,
           -75.148857
          ],
          [
           39.937038,
           -75.150383
          ],
          [
           39.940609,
           -75.149582
          ],
          [
           39.94426,
           -75.181343
          ],
          [
           39.951969,
           -75.179428
          ],
          [
           39.97121,
           -75.159698
          ],
          [
           39.962891,
           -75.166061
          ],
          [
           39.943909,
           -75.167351
          ],
          [
           39.947109,
           -75.166183
          ],
          [
           39.972069,
           -75.163513
          ],
          [
           39.947922,
           -75.162369
          ],
          [
           39.946331,
           -75.1698
          ],
          [
           39.958191,
           -75.1782
          ],
          [
           39.952728,
           -75.15979
          ],
          [
           39.93082,
           -75.174744
          ],
          [
           39.953899,
           -75.169022
          ],
          [
           39.95924,
           -75.158211
          ],
          [
           39.9384,
           -75.173271
          ],
          [
           39.937241,
           -75.161201
          ],
          [
           39.97263,
           -75.167572
          ],
          [
           39.953159,
           -75.165512
          ],
          [
           39.933151,
           -75.162483
          ],
          [
           39.942951,
           -75.159554
          ],
          [
           39.953548,
           -75.171921
          ],
          [
           39.945271,
           -75.17971
          ],
          [
           39.95425,
           -75.177612
          ],
          [
           39.967442,
           -75.175072
          ],
          [
           39.937752,
           -75.180122
          ],
          [
           39.94561,
           -75.173477
          ],
          [
           39.958858,
           -75.173691
          ],
          [
           39.934311,
           -75.160423
          ],
          [
           39.942181,
           -75.177467
          ],
          [
           39.95121,
           -75.173698
          ],
          [
           39.968922,
           -75.154701
          ],
          [
           39.953812,
           -75.174072
          ],
          [
           39.967159,
           -75.170013
          ],
          [
           39.945171,
           -75.159927
          ],
          [
           39.947811,
           -75.194092
          ]
         ],
         "hovertemplate": "<b>%{hovertext}</b><br><br>Cluster=0<br>end_lat=%{customdata[0]}<br>end_lon=%{customdata[1]}<extra></extra>",
         "hovertext": [
          "10th & Chestnut",
          "Municipal Services Building Plaza",
          "38th & Powelton",
          "36th & Sansom",
          "33rd & Market",
          "Pennsylvania & Fairmount Perelman Building",
          "Pennsylvania Convention Center",
          "32nd & Baring, Drexel Park",
          "30th Street Station East",
          "2nd & South",
          "2nd & Market",
          "Broad & Federal",
          "Rittenhouse Square",
          "27th & South",
          "Rodin Museum",
          "Spring Garden Station, BSL",
          "University City Station",
          "25th & Locust",
          "Independence Mall, NPS",
          "Free Library of Philadelphia - Central Library",
          "Broad & Christian",
          "Barnes Foundation",
          "Amtrak 30th Street Station",
          "9th & Spring Garden",
          "9th & Locust",
          "9th & Arch",
          "Darien & Catharine",
          "8th & Market",
          "7th & Fitzwater",
          "6th & Fairmount",
          "Dornsife Center",
          "Fairmount & Ridge",
          "4th & Walnut, NPS",
          "4th & Christian",
          "4th & Bainbridge",
          "Grays Ferry & Pemberton",
          "24th & Sansom",
          "Broad & Girard",
          "17th & Spring Garden",
          "15th & South",
          "15th & Spruce",
          "17th & Girard",
          "13th & Locust",
          "17th & Pine",
          "24th & Race SRT",
          "12th & Filbert",
          "18th & Fernon, Aquinas Center",
          "18th & JFK",
          "12th & Callowhill",
          "18th & Washington, Chew Playground",
          "11th & Washington",
          "19th & Girard, PTTI",
          "15th & Market",
          "11th & Reed",
          "11th & South",
          "19th & Market",
          "23rd & South",
          "23rd & Market",
          "23rd & Fairmount",
          "22nd & Federal",
          "19th & Lombard",
          "21st & Winter, Franklin Institute",
          "10th & Federal",
          "21st & Catharine",
          "20th & Sansom",
          "11th & Poplar, John F. Street Community Center",
          "20th & Market",
          "20th & Fairmount",
          "11th & Pine, Kahn Park",
          "The Children's Hospital of Philadelphia (CHOP)"
         ],
         "ids": [
          "10th & Chestnut",
          "Municipal Services Building Plaza",
          "38th & Powelton",
          "36th & Sansom",
          "33rd & Market",
          "Pennsylvania & Fairmount Perelman Building",
          "Pennsylvania Convention Center",
          "32nd & Baring, Drexel Park",
          "30th Street Station East",
          "2nd & South",
          "2nd & Market",
          "Broad & Federal",
          "Rittenhouse Square",
          "27th & South",
          "Rodin Museum",
          "Spring Garden Station, BSL",
          "University City Station",
          "25th & Locust",
          "Independence Mall, NPS",
          "Free Library of Philadelphia - Central Library",
          "Broad & Christian",
          "Barnes Foundation",
          "Amtrak 30th Street Station",
          "9th & Spring Garden",
          "9th & Locust",
          "9th & Arch",
          "Darien & Catharine",
          "8th & Market",
          "7th & Fitzwater",
          "6th & Fairmount",
          "Dornsife Center",
          "Fairmount & Ridge",
          "4th & Walnut, NPS",
          "4th & Christian",
          "4th & Bainbridge",
          "Grays Ferry & Pemberton",
          "24th & Sansom",
          "Broad & Girard",
          "17th & Spring Garden",
          "15th & South",
          "15th & Spruce",
          "17th & Girard",
          "13th & Locust",
          "17th & Pine",
          "24th & Race SRT",
          "12th & Filbert",
          "18th & Fernon, Aquinas Center",
          "18th & JFK",
          "12th & Callowhill",
          "18th & Washington, Chew Playground",
          "11th & Washington",
          "19th & Girard, PTTI",
          "15th & Market",
          "11th & Reed",
          "11th & South",
          "19th & Market",
          "23rd & South",
          "23rd & Market",
          "23rd & Fairmount",
          "22nd & Federal",
          "19th & Lombard",
          "21st & Winter, Franklin Institute",
          "10th & Federal",
          "21st & Catharine",
          "20th & Sansom",
          "11th & Poplar, John F. Street Community Center",
          "20th & Market",
          "20th & Fairmount",
          "11th & Pine, Kahn Park",
          "The Children's Hospital of Philadelphia (CHOP)"
         ],
         "lat": [
          39.95005,
          39.953781,
          39.960461,
          39.9538,
          39.955761,
          39.968182,
          39.954239,
          39.961731,
          39.954861,
          39.94138,
          39.950119,
          39.93549,
          39.950481,
          39.94595,
          39.962502,
          39.96265,
          39.9490455,
          39.949741,
          39.95071,
          39.959229,
          39.940189,
          39.96006,
          39.95472,
          39.96143,
          39.947319,
          39.953388,
          39.93935,
          39.951118,
          39.940182,
          39.963169,
          39.962711,
          39.967178,
          39.94735,
          39.937038,
          39.940609,
          39.94426,
          39.951969,
          39.97121,
          39.962891,
          39.943909,
          39.947109,
          39.972069,
          39.947922,
          39.946331,
          39.958191,
          39.952728,
          39.93082,
          39.953899,
          39.95924,
          39.9384,
          39.937241,
          39.97263,
          39.953159,
          39.933151,
          39.942951,
          39.953548,
          39.945271,
          39.95425,
          39.967442,
          39.937752,
          39.94561,
          39.958858,
          39.934311,
          39.942181,
          39.95121,
          39.968922,
          39.953812,
          39.967159,
          39.945171,
          39.947811
         ],
         "legendgroup": "",
         "lon": [
          -75.156723,
          -75.163742,
          -75.197006,
          -75.194794,
          -75.189819,
          -75.180344,
          -75.161377,
          -75.187881,
          -75.180908,
          -75.145638,
          -75.144722,
          -75.167107,
          -75.172859,
          -75.184753,
          -75.174202,
          -75.161743,
          -75.190109,
          -75.180969,
          -75.149208,
          -75.170357,
          -75.166908,
          -75.171982,
          -75.183228,
          -75.15242,
          -75.156952,
          -75.154259,
          -75.157158,
          -75.154572,
          -75.154419,
          -75.147919,
          -75.194191,
          -75.161247,
          -75.148857,
          -75.150383,
          -75.149582,
          -75.181343,
          -75.179428,
          -75.159698,
          -75.166061,
          -75.167351,
          -75.166183,
          -75.163513,
          -75.162369,
          -75.1698,
          -75.1782,
          -75.15979,
          -75.174744,
          -75.169022,
          -75.158211,
          -75.173271,
          -75.161201,
          -75.167572,
          -75.165512,
          -75.162483,
          -75.159554,
          -75.171921,
          -75.17971,
          -75.177612,
          -75.175072,
          -75.180122,
          -75.173477,
          -75.173691,
          -75.160423,
          -75.177467,
          -75.173698,
          -75.154701,
          -75.174072,
          -75.170013,
          -75.159927,
          -75.194092
         ],
         "marker": {
          "color": "#636efa",
          "opacity": 1
         },
         "mode": "markers",
         "name": "",
         "showlegend": false,
         "subplot": "mapbox",
         "type": "scattermapbox"
        }
       ],
       "frames": [
        {
         "data": [
          {
           "customdata": [
            [
             39.95005,
             -75.156723
            ],
            [
             39.953781,
             -75.163742
            ],
            [
             39.960461,
             -75.197006
            ],
            [
             39.9538,
             -75.194794
            ],
            [
             39.955761,
             -75.189819
            ],
            [
             39.968182,
             -75.180344
            ],
            [
             39.954239,
             -75.161377
            ],
            [
             39.961731,
             -75.187881
            ],
            [
             39.954861,
             -75.180908
            ],
            [
             39.94138,
             -75.145638
            ],
            [
             39.950119,
             -75.144722
            ],
            [
             39.93549,
             -75.167107
            ],
            [
             39.950481,
             -75.172859
            ],
            [
             39.94595,
             -75.184753
            ],
            [
             39.962502,
             -75.174202
            ],
            [
             39.96265,
             -75.161743
            ],
            [
             39.9490455,
             -75.190109
            ],
            [
             39.949741,
             -75.180969
            ],
            [
             39.95071,
             -75.149208
            ],
            [
             39.959229,
             -75.170357
            ],
            [
             39.940189,
             -75.166908
            ],
            [
             39.96006,
             -75.171982
            ],
            [
             39.95472,
             -75.183228
            ],
            [
             39.96143,
             -75.15242
            ],
            [
             39.947319,
             -75.156952
            ],
            [
             39.953388,
             -75.154259
            ],
            [
             39.93935,
             -75.157158
            ],
            [
             39.951118,
             -75.154572
            ],
            [
             39.940182,
             -75.154419
            ],
            [
             39.963169,
             -75.147919
            ],
            [
             39.962711,
             -75.194191
            ],
            [
             39.967178,
             -75.161247
            ],
            [
             39.94735,
             -75.148857
            ],
            [
             39.937038,
             -75.150383
            ],
            [
             39.940609,
             -75.149582
            ],
            [
             39.94426,
             -75.181343
            ],
            [
             39.951969,
             -75.179428
            ],
            [
             39.97121,
             -75.159698
            ],
            [
             39.962891,
             -75.166061
            ],
            [
             39.943909,
             -75.167351
            ],
            [
             39.947109,
             -75.166183
            ],
            [
             39.972069,
             -75.163513
            ],
            [
             39.947922,
             -75.162369
            ],
            [
             39.946331,
             -75.1698
            ],
            [
             39.958191,
             -75.1782
            ],
            [
             39.952728,
             -75.15979
            ],
            [
             39.93082,
             -75.174744
            ],
            [
             39.953899,
             -75.169022
            ],
            [
             39.95924,
             -75.158211
            ],
            [
             39.9384,
             -75.173271
            ],
            [
             39.937241,
             -75.161201
            ],
            [
             39.97263,
             -75.167572
            ],
            [
             39.953159,
             -75.165512
            ],
            [
             39.933151,
             -75.162483
            ],
            [
             39.942951,
             -75.159554
            ],
            [
             39.953548,
             -75.171921
            ],
            [
             39.945271,
             -75.17971
            ],
            [
             39.95425,
             -75.177612
            ],
            [
             39.967442,
             -75.175072
            ],
            [
             39.937752,
             -75.180122
            ],
            [
             39.94561,
             -75.173477
            ],
            [
             39.958858,
             -75.173691
            ],
            [
             39.934311,
             -75.160423
            ],
            [
             39.942181,
             -75.177467
            ],
            [
             39.95121,
             -75.173698
            ],
            [
             39.968922,
             -75.154701
            ],
            [
             39.953812,
             -75.174072
            ],
            [
             39.967159,
             -75.170013
            ],
            [
             39.945171,
             -75.159927
            ],
            [
             39.947811,
             -75.194092
            ]
           ],
           "hovertemplate": "<b>%{hovertext}</b><br><br>Cluster=0<br>end_lat=%{customdata[0]}<br>end_lon=%{customdata[1]}<extra></extra>",
           "hovertext": [
            "10th & Chestnut",
            "Municipal Services Building Plaza",
            "38th & Powelton",
            "36th & Sansom",
            "33rd & Market",
            "Pennsylvania & Fairmount Perelman Building",
            "Pennsylvania Convention Center",
            "32nd & Baring, Drexel Park",
            "30th Street Station East",
            "2nd & South",
            "2nd & Market",
            "Broad & Federal",
            "Rittenhouse Square",
            "27th & South",
            "Rodin Museum",
            "Spring Garden Station, BSL",
            "University City Station",
            "25th & Locust",
            "Independence Mall, NPS",
            "Free Library of Philadelphia - Central Library",
            "Broad & Christian",
            "Barnes Foundation",
            "Amtrak 30th Street Station",
            "9th & Spring Garden",
            "9th & Locust",
            "9th & Arch",
            "Darien & Catharine",
            "8th & Market",
            "7th & Fitzwater",
            "6th & Fairmount",
            "Dornsife Center",
            "Fairmount & Ridge",
            "4th & Walnut, NPS",
            "4th & Christian",
            "4th & Bainbridge",
            "Grays Ferry & Pemberton",
            "24th & Sansom",
            "Broad & Girard",
            "17th & Spring Garden",
            "15th & South",
            "15th & Spruce",
            "17th & Girard",
            "13th & Locust",
            "17th & Pine",
            "24th & Race SRT",
            "12th & Filbert",
            "18th & Fernon, Aquinas Center",
            "18th & JFK",
            "12th & Callowhill",
            "18th & Washington, Chew Playground",
            "11th & Washington",
            "19th & Girard, PTTI",
            "15th & Market",
            "11th & Reed",
            "11th & South",
            "19th & Market",
            "23rd & South",
            "23rd & Market",
            "23rd & Fairmount",
            "22nd & Federal",
            "19th & Lombard",
            "21st & Winter, Franklin Institute",
            "10th & Federal",
            "21st & Catharine",
            "20th & Sansom",
            "11th & Poplar, John F. Street Community Center",
            "20th & Market",
            "20th & Fairmount",
            "11th & Pine, Kahn Park",
            "The Children's Hospital of Philadelphia (CHOP)"
           ],
           "ids": [
            "10th & Chestnut",
            "Municipal Services Building Plaza",
            "38th & Powelton",
            "36th & Sansom",
            "33rd & Market",
            "Pennsylvania & Fairmount Perelman Building",
            "Pennsylvania Convention Center",
            "32nd & Baring, Drexel Park",
            "30th Street Station East",
            "2nd & South",
            "2nd & Market",
            "Broad & Federal",
            "Rittenhouse Square",
            "27th & South",
            "Rodin Museum",
            "Spring Garden Station, BSL",
            "University City Station",
            "25th & Locust",
            "Independence Mall, NPS",
            "Free Library of Philadelphia - Central Library",
            "Broad & Christian",
            "Barnes Foundation",
            "Amtrak 30th Street Station",
            "9th & Spring Garden",
            "9th & Locust",
            "9th & Arch",
            "Darien & Catharine",
            "8th & Market",
            "7th & Fitzwater",
            "6th & Fairmount",
            "Dornsife Center",
            "Fairmount & Ridge",
            "4th & Walnut, NPS",
            "4th & Christian",
            "4th & Bainbridge",
            "Grays Ferry & Pemberton",
            "24th & Sansom",
            "Broad & Girard",
            "17th & Spring Garden",
            "15th & South",
            "15th & Spruce",
            "17th & Girard",
            "13th & Locust",
            "17th & Pine",
            "24th & Race SRT",
            "12th & Filbert",
            "18th & Fernon, Aquinas Center",
            "18th & JFK",
            "12th & Callowhill",
            "18th & Washington, Chew Playground",
            "11th & Washington",
            "19th & Girard, PTTI",
            "15th & Market",
            "11th & Reed",
            "11th & South",
            "19th & Market",
            "23rd & South",
            "23rd & Market",
            "23rd & Fairmount",
            "22nd & Federal",
            "19th & Lombard",
            "21st & Winter, Franklin Institute",
            "10th & Federal",
            "21st & Catharine",
            "20th & Sansom",
            "11th & Poplar, John F. Street Community Center",
            "20th & Market",
            "20th & Fairmount",
            "11th & Pine, Kahn Park",
            "The Children's Hospital of Philadelphia (CHOP)"
           ],
           "lat": [
            39.95005,
            39.953781,
            39.960461,
            39.9538,
            39.955761,
            39.968182,
            39.954239,
            39.961731,
            39.954861,
            39.94138,
            39.950119,
            39.93549,
            39.950481,
            39.94595,
            39.962502,
            39.96265,
            39.9490455,
            39.949741,
            39.95071,
            39.959229,
            39.940189,
            39.96006,
            39.95472,
            39.96143,
            39.947319,
            39.953388,
            39.93935,
            39.951118,
            39.940182,
            39.963169,
            39.962711,
            39.967178,
            39.94735,
            39.937038,
            39.940609,
            39.94426,
            39.951969,
            39.97121,
            39.962891,
            39.943909,
            39.947109,
            39.972069,
            39.947922,
            39.946331,
            39.958191,
            39.952728,
            39.93082,
            39.953899,
            39.95924,
            39.9384,
            39.937241,
            39.97263,
            39.953159,
            39.933151,
            39.942951,
            39.953548,
            39.945271,
            39.95425,
            39.967442,
            39.937752,
            39.94561,
            39.958858,
            39.934311,
            39.942181,
            39.95121,
            39.968922,
            39.953812,
            39.967159,
            39.945171,
            39.947811
           ],
           "legendgroup": "",
           "lon": [
            -75.156723,
            -75.163742,
            -75.197006,
            -75.194794,
            -75.189819,
            -75.180344,
            -75.161377,
            -75.187881,
            -75.180908,
            -75.145638,
            -75.144722,
            -75.167107,
            -75.172859,
            -75.184753,
            -75.174202,
            -75.161743,
            -75.190109,
            -75.180969,
            -75.149208,
            -75.170357,
            -75.166908,
            -75.171982,
            -75.183228,
            -75.15242,
            -75.156952,
            -75.154259,
            -75.157158,
            -75.154572,
            -75.154419,
            -75.147919,
            -75.194191,
            -75.161247,
            -75.148857,
            -75.150383,
            -75.149582,
            -75.181343,
            -75.179428,
            -75.159698,
            -75.166061,
            -75.167351,
            -75.166183,
            -75.163513,
            -75.162369,
            -75.1698,
            -75.1782,
            -75.15979,
            -75.174744,
            -75.169022,
            -75.158211,
            -75.173271,
            -75.161201,
            -75.167572,
            -75.165512,
            -75.162483,
            -75.159554,
            -75.171921,
            -75.17971,
            -75.177612,
            -75.175072,
            -75.180122,
            -75.173477,
            -75.173691,
            -75.160423,
            -75.177467,
            -75.173698,
            -75.154701,
            -75.174072,
            -75.170013,
            -75.159927,
            -75.194092
           ],
           "marker": {
            "color": "#636efa",
            "opacity": 1
           },
           "mode": "markers",
           "name": "",
           "showlegend": false,
           "subplot": "mapbox",
           "type": "scattermapbox"
          }
         ],
         "name": "0"
        },
        {
         "data": [
          {
           "customdata": [
            [
             39.925522,
             -75.169037
            ],
            [
             39.97216,
             -75.129936
            ],
            [
             39.96175,
             -75.136414
            ],
            [
             39.946812,
             -75.193108
            ],
            [
             39.960621,
             -75.139832
            ],
            [
             39.934448,
             -75.145409
            ],
            [
             39.970699,
             -75.151711
            ],
            [
             39.968491,
             -75.13546
            ],
            [
             39.927769,
             -75.151031
            ],
            [
             39.978409,
             -75.223991
            ],
            [
             39.977915,
             -75.21271100000001
            ],
            [
             39.974861,
             -75.205238
            ],
            [
             39.966518,
             -75.129959
            ],
            [
             39.96424133333334,
             -75.18053666666667
            ],
            [
             39.9747045,
             -75.19671249999999
            ],
            [
             39.980782,
             -75.150551
            ],
            [
             39.95295,
             -75.139793
            ],
            [
             39.945091,
             -75.142502
            ],
            [
             39.932308,
             -75.181541
            ],
            [
             39.969841,
             -75.1418
            ],
            [
             39.978882,
             -75.133392
            ],
            [
             39.928139,
             -75.165154
            ],
            [
             39.980049,
             -75.15522
            ],
            [
             39.928841,
             -75.170212
            ],
            [
             39.980042,
             -75.170883
            ],
            [
             39.980621,
             -75.1735
            ],
            [
             39.97274,
             -75.17939
            ],
            [
             39.977139,
             -75.179398
            ],
            [
             39.991192,
             -75.179749
            ],
            [
             39.987709,
             -75.180519
            ],
            [
             39.968441,
             -75.140007
            ],
            [
             39.953819,
             -75.142632
            ],
            [
             39.97522,
             -75.186691
            ],
            [
             39.991791,
             -75.186371
            ],
            [
             39.988369,
             -75.187012
            ],
            [
             39.982029,
             -75.18866
            ],
            [
             39.96664,
             -75.192093
            ],
            [
             39.956619,
             -75.198624
            ],
            [
             39.925449,
             -75.159538
            ],
            [
             39.954029,
             -75.149834
            ],
            [
             39.98003,
             -75.143707
            ],
            [
             39.93401,
             -75.15094
            ],
            [
             39.953732,
             -75.218246
            ],
            [
             39.95866,
             -75.213226
            ],
            [
             39.976688,
             -75.158127
            ],
            [
             39.955109,
             -75.209869
            ],
            [
             39.96674,
             -75.207993
            ],
            [
             39.9570105,
             -75.20122900000001
            ],
            [
             39.952202,
             -75.20311
            ],
            [
             39.94952,
             -75.20256
            ],
            [
             39.964111,
             -75.19973
            ],
            [
             39.95121,
             -75.199623
            ],
            [
             39.948219,
             -75.209084
            ],
            [
             39.94733,
             -75.144028
            ]
           ],
           "hovertemplate": "<b>%{hovertext}</b><br><br>Cluster=1<br>end_lat=%{customdata[0]}<br>end_lon=%{customdata[1]}<extra></extra>",
           "hovertext": [
            "Broad & Passyunk",
            "Thompson & Palmer, Adaire School",
            "Del. River Trail & Penn St.",
            "The Children's Hospital of Philadelphia, Osler Circle",
            "Spring Garden Station, MFL",
            "Front & Carpenter",
            "Girard & Hutchinson",
            "Girard Station, MFL",
            "Moyamensing & Tasker",
            "ParkWest Town Center",
            "Parkside & Belmont, Case Building",
            "Parkside & Girard",
            "Penn Treaty Park",
            "Philadelphia Museum of Art",
            "Philadelphia Zoo",
            "Temple University Station",
            "Race Street Pier",
            "Foglietta Plaza",
            "Point Breeze & Tasker",
            "3rd & Girard",
            "Berks Station, MFL",
            "12th & Passyunk",
            "13th & Montgomery",
            "15th & Castle, DiSilvestro Playground",
            "22nd & Cecil B. Moore",
            "24th & Cecil B. Moore, Cecil B. Moore Library",
            "27th & Girard",
            "27th & Master, Athletic Recreation Center",
            "29th & Dauphin",
            "29th & Diamond",
            "2nd & Germantown",
            "2nd & Race",
            "31st & Girard",
            "33rd & Dauphin",
            "33rd & Diamond",
            "33rd & Reservoir",
            "34th & Mantua",
            "38th & Market",
            "8th & Mifflin, Bok Building",
            "6th & Race",
            "6th & Berks",
            "4th & Washington",
            "48th & Spruce",
            "46th Street Station, MFL",
            "Broad & Oxford",
            "44th & Walnut",
            "42nd & Lancaster",
            "40th Street Station, MFL",
            "40th & Spruce",
            "40th & Baltimore, Trolley Portal",
            "39th & Mt. Vernon, Mantua Haverford Community Center",
            "38th & Spruce",
            "43rd & Chester, Clark Park",
            "Welcome Park, NPS"
           ],
           "ids": [
            "Broad & Passyunk",
            "Thompson & Palmer, Adaire School",
            "Del. River Trail & Penn St.",
            "The Children's Hospital of Philadelphia, Osler Circle",
            "Spring Garden Station, MFL",
            "Front & Carpenter",
            "Girard & Hutchinson",
            "Girard Station, MFL",
            "Moyamensing & Tasker",
            "ParkWest Town Center",
            "Parkside & Belmont, Case Building",
            "Parkside & Girard",
            "Penn Treaty Park",
            "Philadelphia Museum of Art",
            "Philadelphia Zoo",
            "Temple University Station",
            "Race Street Pier",
            "Foglietta Plaza",
            "Point Breeze & Tasker",
            "3rd & Girard",
            "Berks Station, MFL",
            "12th & Passyunk",
            "13th & Montgomery",
            "15th & Castle, DiSilvestro Playground",
            "22nd & Cecil B. Moore",
            "24th & Cecil B. Moore, Cecil B. Moore Library",
            "27th & Girard",
            "27th & Master, Athletic Recreation Center",
            "29th & Dauphin",
            "29th & Diamond",
            "2nd & Germantown",
            "2nd & Race",
            "31st & Girard",
            "33rd & Dauphin",
            "33rd & Diamond",
            "33rd & Reservoir",
            "34th & Mantua",
            "38th & Market",
            "8th & Mifflin, Bok Building",
            "6th & Race",
            "6th & Berks",
            "4th & Washington",
            "48th & Spruce",
            "46th Street Station, MFL",
            "Broad & Oxford",
            "44th & Walnut",
            "42nd & Lancaster",
            "40th Street Station, MFL",
            "40th & Spruce",
            "40th & Baltimore, Trolley Portal",
            "39th & Mt. Vernon, Mantua Haverford Community Center",
            "38th & Spruce",
            "43rd & Chester, Clark Park",
            "Welcome Park, NPS"
           ],
           "lat": [
            39.925522,
            39.97216,
            39.96175,
            39.946812,
            39.960621,
            39.934448,
            39.970699,
            39.968491,
            39.927769,
            39.978409,
            39.977915,
            39.974861,
            39.966518,
            39.96424133333334,
            39.9747045,
            39.980782,
            39.95295,
            39.945091,
            39.932308,
            39.969841,
            39.978882,
            39.928139,
            39.980049,
            39.928841,
            39.980042,
            39.980621,
            39.97274,
            39.977139,
            39.991192,
            39.987709,
            39.968441,
            39.953819,
            39.97522,
            39.991791,
            39.988369,
            39.982029,
            39.96664,
            39.956619,
            39.925449,
            39.954029,
            39.98003,
            39.93401,
            39.953732,
            39.95866,
            39.976688,
            39.955109,
            39.96674,
            39.9570105,
            39.952202,
            39.94952,
            39.964111,
            39.95121,
            39.948219,
            39.94733
           ],
           "legendgroup": "",
           "lon": [
            -75.169037,
            -75.129936,
            -75.136414,
            -75.193108,
            -75.139832,
            -75.145409,
            -75.151711,
            -75.13546,
            -75.151031,
            -75.223991,
            -75.21271100000001,
            -75.205238,
            -75.129959,
            -75.18053666666667,
            -75.19671249999999,
            -75.150551,
            -75.139793,
            -75.142502,
            -75.181541,
            -75.1418,
            -75.133392,
            -75.165154,
            -75.15522,
            -75.170212,
            -75.170883,
            -75.1735,
            -75.17939,
            -75.179398,
            -75.179749,
            -75.180519,
            -75.140007,
            -75.142632,
            -75.186691,
            -75.186371,
            -75.187012,
            -75.18866,
            -75.192093,
            -75.198624,
            -75.159538,
            -75.149834,
            -75.143707,
            -75.15094,
            -75.218246,
            -75.213226,
            -75.158127,
            -75.209869,
            -75.207993,
            -75.20122900000001,
            -75.20311,
            -75.20256,
            -75.19973,
            -75.199623,
            -75.209084,
            -75.144028
           ],
           "marker": {
            "color": "#636efa",
            "opacity": 1
           },
           "mode": "markers",
           "name": "",
           "showlegend": false,
           "subplot": "mapbox",
           "type": "scattermapbox"
          }
         ],
         "name": "1"
        }
       ],
       "layout": {
        "font": {
         "size": 18
        },
        "geo": {
         "center": {
          "lat": 39.96,
          "lon": -75.14
         }
        },
        "height": 1000,
        "legend": {
         "tracegroupgap": 0
        },
        "mapbox": {
         "center": {
          "lat": 39.95627086155915,
          "lon": -75.17046182392474
         },
         "domain": {
          "x": [
           0,
           1
          ],
          "y": [
           0,
           1
          ]
         },
         "style": "carto-positron",
         "zoom": 12
        },
        "sliders": [
         {
          "active": 0,
          "currentvalue": {
           "prefix": "Cluster="
          },
          "len": 0.9,
          "pad": {
           "b": 10,
           "t": 60
          },
          "steps": [
           {
            "args": [
             [
              "0"
             ],
             {
              "frame": {
               "duration": 0,
               "redraw": true
              },
              "fromcurrent": true,
              "mode": "immediate",
              "transition": {
               "duration": 0,
               "easing": "linear"
              }
             }
            ],
            "label": "0",
            "method": "animate"
           },
           {
            "args": [
             [
              "1"
             ],
             {
              "frame": {
               "duration": 0,
               "redraw": true
              },
              "fromcurrent": true,
              "mode": "immediate",
              "transition": {
               "duration": 0,
               "easing": "linear"
              }
             }
            ],
            "label": "1",
            "method": "animate"
           }
          ],
          "x": 0.1,
          "xanchor": "left",
          "y": 0,
          "yanchor": "top"
         }
        ],
        "template": {
         "data": {
          "bar": [
           {
            "error_x": {
             "color": "#2a3f5f"
            },
            "error_y": {
             "color": "#2a3f5f"
            },
            "marker": {
             "line": {
              "color": "#E5ECF6",
              "width": 0.5
             },
             "pattern": {
              "fillmode": "overlay",
              "size": 10,
              "solidity": 0.2
             }
            },
            "type": "bar"
           }
          ],
          "barpolar": [
           {
            "marker": {
             "line": {
              "color": "#E5ECF6",
              "width": 0.5
             },
             "pattern": {
              "fillmode": "overlay",
              "size": 10,
              "solidity": 0.2
             }
            },
            "type": "barpolar"
           }
          ],
          "carpet": [
           {
            "aaxis": {
             "endlinecolor": "#2a3f5f",
             "gridcolor": "white",
             "linecolor": "white",
             "minorgridcolor": "white",
             "startlinecolor": "#2a3f5f"
            },
            "baxis": {
             "endlinecolor": "#2a3f5f",
             "gridcolor": "white",
             "linecolor": "white",
             "minorgridcolor": "white",
             "startlinecolor": "#2a3f5f"
            },
            "type": "carpet"
           }
          ],
          "choropleth": [
           {
            "colorbar": {
             "outlinewidth": 0,
             "ticks": ""
            },
            "type": "choropleth"
           }
          ],
          "contour": [
           {
            "colorbar": {
             "outlinewidth": 0,
             "ticks": ""
            },
            "colorscale": [
             [
              0,
              "#0d0887"
             ],
             [
              0.1111111111111111,
              "#46039f"
             ],
             [
              0.2222222222222222,
              "#7201a8"
             ],
             [
              0.3333333333333333,
              "#9c179e"
             ],
             [
              0.4444444444444444,
              "#bd3786"
             ],
             [
              0.5555555555555556,
              "#d8576b"
             ],
             [
              0.6666666666666666,
              "#ed7953"
             ],
             [
              0.7777777777777778,
              "#fb9f3a"
             ],
             [
              0.8888888888888888,
              "#fdca26"
             ],
             [
              1,
              "#f0f921"
             ]
            ],
            "type": "contour"
           }
          ],
          "contourcarpet": [
           {
            "colorbar": {
             "outlinewidth": 0,
             "ticks": ""
            },
            "type": "contourcarpet"
           }
          ],
          "heatmap": [
           {
            "colorbar": {
             "outlinewidth": 0,
             "ticks": ""
            },
            "colorscale": [
             [
              0,
              "#0d0887"
             ],
             [
              0.1111111111111111,
              "#46039f"
             ],
             [
              0.2222222222222222,
              "#7201a8"
             ],
             [
              0.3333333333333333,
              "#9c179e"
             ],
             [
              0.4444444444444444,
              "#bd3786"
             ],
             [
              0.5555555555555556,
              "#d8576b"
             ],
             [
              0.6666666666666666,
              "#ed7953"
             ],
             [
              0.7777777777777778,
              "#fb9f3a"
             ],
             [
              0.8888888888888888,
              "#fdca26"
             ],
             [
              1,
              "#f0f921"
             ]
            ],
            "type": "heatmap"
           }
          ],
          "heatmapgl": [
           {
            "colorbar": {
             "outlinewidth": 0,
             "ticks": ""
            },
            "colorscale": [
             [
              0,
              "#0d0887"
             ],
             [
              0.1111111111111111,
              "#46039f"
             ],
             [
              0.2222222222222222,
              "#7201a8"
             ],
             [
              0.3333333333333333,
              "#9c179e"
             ],
             [
              0.4444444444444444,
              "#bd3786"
             ],
             [
              0.5555555555555556,
              "#d8576b"
             ],
             [
              0.6666666666666666,
              "#ed7953"
             ],
             [
              0.7777777777777778,
              "#fb9f3a"
             ],
             [
              0.8888888888888888,
              "#fdca26"
             ],
             [
              1,
              "#f0f921"
             ]
            ],
            "type": "heatmapgl"
           }
          ],
          "histogram": [
           {
            "marker": {
             "pattern": {
              "fillmode": "overlay",
              "size": 10,
              "solidity": 0.2
             }
            },
            "type": "histogram"
           }
          ],
          "histogram2d": [
           {
            "colorbar": {
             "outlinewidth": 0,
             "ticks": ""
            },
            "colorscale": [
             [
              0,
              "#0d0887"
             ],
             [
              0.1111111111111111,
              "#46039f"
             ],
             [
              0.2222222222222222,
              "#7201a8"
             ],
             [
              0.3333333333333333,
              "#9c179e"
             ],
             [
              0.4444444444444444,
              "#bd3786"
             ],
             [
              0.5555555555555556,
              "#d8576b"
             ],
             [
              0.6666666666666666,
              "#ed7953"
             ],
             [
              0.7777777777777778,
              "#fb9f3a"
             ],
             [
              0.8888888888888888,
              "#fdca26"
             ],
             [
              1,
              "#f0f921"
             ]
            ],
            "type": "histogram2d"
           }
          ],
          "histogram2dcontour": [
           {
            "colorbar": {
             "outlinewidth": 0,
             "ticks": ""
            },
            "colorscale": [
             [
              0,
              "#0d0887"
             ],
             [
              0.1111111111111111,
              "#46039f"
             ],
             [
              0.2222222222222222,
              "#7201a8"
             ],
             [
              0.3333333333333333,
              "#9c179e"
             ],
             [
              0.4444444444444444,
              "#bd3786"
             ],
             [
              0.5555555555555556,
              "#d8576b"
             ],
             [
              0.6666666666666666,
              "#ed7953"
             ],
             [
              0.7777777777777778,
              "#fb9f3a"
             ],
             [
              0.8888888888888888,
              "#fdca26"
             ],
             [
              1,
              "#f0f921"
             ]
            ],
            "type": "histogram2dcontour"
           }
          ],
          "mesh3d": [
           {
            "colorbar": {
             "outlinewidth": 0,
             "ticks": ""
            },
            "type": "mesh3d"
           }
          ],
          "parcoords": [
           {
            "line": {
             "colorbar": {
              "outlinewidth": 0,
              "ticks": ""
             }
            },
            "type": "parcoords"
           }
          ],
          "pie": [
           {
            "automargin": true,
            "type": "pie"
           }
          ],
          "scatter": [
           {
            "fillpattern": {
             "fillmode": "overlay",
             "size": 10,
             "solidity": 0.2
            },
            "type": "scatter"
           }
          ],
          "scatter3d": [
           {
            "line": {
             "colorbar": {
              "outlinewidth": 0,
              "ticks": ""
             }
            },
            "marker": {
             "colorbar": {
              "outlinewidth": 0,
              "ticks": ""
             }
            },
            "type": "scatter3d"
           }
          ],
          "scattercarpet": [
           {
            "marker": {
             "colorbar": {
              "outlinewidth": 0,
              "ticks": ""
             }
            },
            "type": "scattercarpet"
           }
          ],
          "scattergeo": [
           {
            "marker": {
             "colorbar": {
              "outlinewidth": 0,
              "ticks": ""
             }
            },
            "type": "scattergeo"
           }
          ],
          "scattergl": [
           {
            "marker": {
             "colorbar": {
              "outlinewidth": 0,
              "ticks": ""
             }
            },
            "type": "scattergl"
           }
          ],
          "scattermapbox": [
           {
            "marker": {
             "colorbar": {
              "outlinewidth": 0,
              "ticks": ""
             }
            },
            "type": "scattermapbox"
           }
          ],
          "scatterpolar": [
           {
            "marker": {
             "colorbar": {
              "outlinewidth": 0,
              "ticks": ""
             }
            },
            "type": "scatterpolar"
           }
          ],
          "scatterpolargl": [
           {
            "marker": {
             "colorbar": {
              "outlinewidth": 0,
              "ticks": ""
             }
            },
            "type": "scatterpolargl"
           }
          ],
          "scatterternary": [
           {
            "marker": {
             "colorbar": {
              "outlinewidth": 0,
              "ticks": ""
             }
            },
            "type": "scatterternary"
           }
          ],
          "surface": [
           {
            "colorbar": {
             "outlinewidth": 0,
             "ticks": ""
            },
            "colorscale": [
             [
              0,
              "#0d0887"
             ],
             [
              0.1111111111111111,
              "#46039f"
             ],
             [
              0.2222222222222222,
              "#7201a8"
             ],
             [
              0.3333333333333333,
              "#9c179e"
             ],
             [
              0.4444444444444444,
              "#bd3786"
             ],
             [
              0.5555555555555556,
              "#d8576b"
             ],
             [
              0.6666666666666666,
              "#ed7953"
             ],
             [
              0.7777777777777778,
              "#fb9f3a"
             ],
             [
              0.8888888888888888,
              "#fdca26"
             ],
             [
              1,
              "#f0f921"
             ]
            ],
            "type": "surface"
           }
          ],
          "table": [
           {
            "cells": {
             "fill": {
              "color": "#EBF0F8"
             },
             "line": {
              "color": "white"
             }
            },
            "header": {
             "fill": {
              "color": "#C8D4E3"
             },
             "line": {
              "color": "white"
             }
            },
            "type": "table"
           }
          ]
         },
         "layout": {
          "annotationdefaults": {
           "arrowcolor": "#2a3f5f",
           "arrowhead": 0,
           "arrowwidth": 1
          },
          "autotypenumbers": "strict",
          "coloraxis": {
           "colorbar": {
            "outlinewidth": 0,
            "ticks": ""
           }
          },
          "colorscale": {
           "diverging": [
            [
             0,
             "#8e0152"
            ],
            [
             0.1,
             "#c51b7d"
            ],
            [
             0.2,
             "#de77ae"
            ],
            [
             0.3,
             "#f1b6da"
            ],
            [
             0.4,
             "#fde0ef"
            ],
            [
             0.5,
             "#f7f7f7"
            ],
            [
             0.6,
             "#e6f5d0"
            ],
            [
             0.7,
             "#b8e186"
            ],
            [
             0.8,
             "#7fbc41"
            ],
            [
             0.9,
             "#4d9221"
            ],
            [
             1,
             "#276419"
            ]
           ],
           "sequential": [
            [
             0,
             "#0d0887"
            ],
            [
             0.1111111111111111,
             "#46039f"
            ],
            [
             0.2222222222222222,
             "#7201a8"
            ],
            [
             0.3333333333333333,
             "#9c179e"
            ],
            [
             0.4444444444444444,
             "#bd3786"
            ],
            [
             0.5555555555555556,
             "#d8576b"
            ],
            [
             0.6666666666666666,
             "#ed7953"
            ],
            [
             0.7777777777777778,
             "#fb9f3a"
            ],
            [
             0.8888888888888888,
             "#fdca26"
            ],
            [
             1,
             "#f0f921"
            ]
           ],
           "sequentialminus": [
            [
             0,
             "#0d0887"
            ],
            [
             0.1111111111111111,
             "#46039f"
            ],
            [
             0.2222222222222222,
             "#7201a8"
            ],
            [
             0.3333333333333333,
             "#9c179e"
            ],
            [
             0.4444444444444444,
             "#bd3786"
            ],
            [
             0.5555555555555556,
             "#d8576b"
            ],
            [
             0.6666666666666666,
             "#ed7953"
            ],
            [
             0.7777777777777778,
             "#fb9f3a"
            ],
            [
             0.8888888888888888,
             "#fdca26"
            ],
            [
             1,
             "#f0f921"
            ]
           ]
          },
          "colorway": [
           "#636efa",
           "#EF553B",
           "#00cc96",
           "#ab63fa",
           "#FFA15A",
           "#19d3f3",
           "#FF6692",
           "#B6E880",
           "#FF97FF",
           "#FECB52"
          ],
          "font": {
           "color": "#2a3f5f"
          },
          "geo": {
           "bgcolor": "white",
           "lakecolor": "white",
           "landcolor": "#E5ECF6",
           "showlakes": true,
           "showland": true,
           "subunitcolor": "white"
          },
          "hoverlabel": {
           "align": "left"
          },
          "hovermode": "closest",
          "mapbox": {
           "style": "light"
          },
          "paper_bgcolor": "white",
          "plot_bgcolor": "#E5ECF6",
          "polar": {
           "angularaxis": {
            "gridcolor": "white",
            "linecolor": "white",
            "ticks": ""
           },
           "bgcolor": "#E5ECF6",
           "radialaxis": {
            "gridcolor": "white",
            "linecolor": "white",
            "ticks": ""
           }
          },
          "scene": {
           "xaxis": {
            "backgroundcolor": "#E5ECF6",
            "gridcolor": "white",
            "gridwidth": 2,
            "linecolor": "white",
            "showbackground": true,
            "ticks": "",
            "zerolinecolor": "white"
           },
           "yaxis": {
            "backgroundcolor": "#E5ECF6",
            "gridcolor": "white",
            "gridwidth": 2,
            "linecolor": "white",
            "showbackground": true,
            "ticks": "",
            "zerolinecolor": "white"
           },
           "zaxis": {
            "backgroundcolor": "#E5ECF6",
            "gridcolor": "white",
            "gridwidth": 2,
            "linecolor": "white",
            "showbackground": true,
            "ticks": "",
            "zerolinecolor": "white"
           }
          },
          "shapedefaults": {
           "line": {
            "color": "#2a3f5f"
           }
          },
          "ternary": {
           "aaxis": {
            "gridcolor": "white",
            "linecolor": "white",
            "ticks": ""
           },
           "baxis": {
            "gridcolor": "white",
            "linecolor": "white",
            "ticks": ""
           },
           "bgcolor": "#E5ECF6",
           "caxis": {
            "gridcolor": "white",
            "linecolor": "white",
            "ticks": ""
           }
          },
          "title": {
           "x": 0.05
          },
          "xaxis": {
           "automargin": true,
           "gridcolor": "white",
           "linecolor": "white",
           "ticks": "",
           "title": {
            "standoff": 15
           },
           "zerolinecolor": "white",
           "zerolinewidth": 2
          },
          "yaxis": {
           "automargin": true,
           "gridcolor": "white",
           "linecolor": "white",
           "ticks": "",
           "title": {
            "standoff": 15
           },
           "zerolinecolor": "white",
           "zerolinewidth": 2
          }
         }
        },
        "title": {
         "text": "Locational Clusters based on the end stations",
         "x": 0.5,
         "xanchor": "center",
         "y": 0.95,
         "yanchor": "top"
        },
        "updatemenus": [
         {
          "buttons": [
           {
            "args": [
             null,
             {
              "frame": {
               "duration": 500,
               "redraw": true
              },
              "fromcurrent": true,
              "mode": "immediate",
              "transition": {
               "duration": 500,
               "easing": "linear"
              }
             }
            ],
            "label": "&#9654;",
            "method": "animate"
           },
           {
            "args": [
             [
              null
             ],
             {
              "frame": {
               "duration": 0,
               "redraw": true
              },
              "fromcurrent": true,
              "mode": "immediate",
              "transition": {
               "duration": 0,
               "easing": "linear"
              }
             }
            ],
            "label": "&#9724;",
            "method": "animate"
           }
          ],
          "direction": "left",
          "pad": {
           "r": 10,
           "t": 70
          },
          "showactive": false,
          "type": "buttons",
          "x": 0.1,
          "xanchor": "right",
          "y": 0,
          "yanchor": "top"
         }
        ],
        "width": 900
       }
      }
     },
     "metadata": {},
     "output_type": "display_data"
    },
    {
     "data": {
      "text/html": [
       "<div>\n",
       "<style scoped>\n",
       "    .dataframe tbody tr th:only-of-type {\n",
       "        vertical-align: middle;\n",
       "    }\n",
       "\n",
       "    .dataframe tbody tr th {\n",
       "        vertical-align: top;\n",
       "    }\n",
       "\n",
       "    .dataframe thead th {\n",
       "        text-align: right;\n",
       "    }\n",
       "</style>\n",
       "<table border=\"1\" class=\"dataframe\">\n",
       "  <thead>\n",
       "    <tr style=\"text-align: right;\">\n",
       "      <th></th>\n",
       "      <th>total_ended_trips</th>\n",
       "      <th>avg_trip_duration in minutes</th>\n",
       "      <th>avg_distance_in_km</th>\n",
       "    </tr>\n",
       "  </thead>\n",
       "  <tbody>\n",
       "    <tr>\n",
       "      <th>count</th>\n",
       "      <td>70.000000</td>\n",
       "      <td>70.000000</td>\n",
       "      <td>70.000000</td>\n",
       "    </tr>\n",
       "    <tr>\n",
       "      <th>mean</th>\n",
       "      <td>8610.328571</td>\n",
       "      <td>17.249553</td>\n",
       "      <td>1.538393</td>\n",
       "    </tr>\n",
       "    <tr>\n",
       "      <th>std</th>\n",
       "      <td>5488.821477</td>\n",
       "      <td>2.401803</td>\n",
       "      <td>0.152175</td>\n",
       "    </tr>\n",
       "    <tr>\n",
       "      <th>min</th>\n",
       "      <td>76.000000</td>\n",
       "      <td>12.912581</td>\n",
       "      <td>1.130996</td>\n",
       "    </tr>\n",
       "    <tr>\n",
       "      <th>25%</th>\n",
       "      <td>4727.250000</td>\n",
       "      <td>15.572680</td>\n",
       "      <td>1.430005</td>\n",
       "    </tr>\n",
       "    <tr>\n",
       "      <th>50%</th>\n",
       "      <td>7821.000000</td>\n",
       "      <td>16.947415</td>\n",
       "      <td>1.523651</td>\n",
       "    </tr>\n",
       "    <tr>\n",
       "      <th>75%</th>\n",
       "      <td>11626.000000</td>\n",
       "      <td>18.664216</td>\n",
       "      <td>1.639384</td>\n",
       "    </tr>\n",
       "    <tr>\n",
       "      <th>max</th>\n",
       "      <td>25444.000000</td>\n",
       "      <td>24.430393</td>\n",
       "      <td>1.869070</td>\n",
       "    </tr>\n",
       "  </tbody>\n",
       "</table>\n",
       "</div>"
      ],
      "text/plain": [
       "       total_ended_trips  avg_trip_duration in minutes  avg_distance_in_km\n",
       "count          70.000000                     70.000000           70.000000\n",
       "mean         8610.328571                     17.249553            1.538393\n",
       "std          5488.821477                      2.401803            0.152175\n",
       "min            76.000000                     12.912581            1.130996\n",
       "25%          4727.250000                     15.572680            1.430005\n",
       "50%          7821.000000                     16.947415            1.523651\n",
       "75%         11626.000000                     18.664216            1.639384\n",
       "max         25444.000000                     24.430393            1.869070"
      ]
     },
     "metadata": {},
     "output_type": "display_data"
    },
    {
     "data": {
      "text/html": [
       "<div>\n",
       "<style scoped>\n",
       "    .dataframe tbody tr th:only-of-type {\n",
       "        vertical-align: middle;\n",
       "    }\n",
       "\n",
       "    .dataframe tbody tr th {\n",
       "        vertical-align: top;\n",
       "    }\n",
       "\n",
       "    .dataframe thead th {\n",
       "        text-align: right;\n",
       "    }\n",
       "</style>\n",
       "<table border=\"1\" class=\"dataframe\">\n",
       "  <thead>\n",
       "    <tr style=\"text-align: right;\">\n",
       "      <th></th>\n",
       "      <th>total_ended_trips</th>\n",
       "      <th>avg_trip_duration in minutes</th>\n",
       "      <th>avg_distance_in_km</th>\n",
       "    </tr>\n",
       "  </thead>\n",
       "  <tbody>\n",
       "    <tr>\n",
       "      <th>count</th>\n",
       "      <td>54.000000</td>\n",
       "      <td>54.000000</td>\n",
       "      <td>54.000000</td>\n",
       "    </tr>\n",
       "    <tr>\n",
       "      <th>mean</th>\n",
       "      <td>3324.111111</td>\n",
       "      <td>25.528973</td>\n",
       "      <td>1.992380</td>\n",
       "    </tr>\n",
       "    <tr>\n",
       "      <th>std</th>\n",
       "      <td>2627.295659</td>\n",
       "      <td>7.803419</td>\n",
       "      <td>0.374054</td>\n",
       "    </tr>\n",
       "    <tr>\n",
       "      <th>min</th>\n",
       "      <td>548.000000</td>\n",
       "      <td>15.374312</td>\n",
       "      <td>1.126567</td>\n",
       "    </tr>\n",
       "    <tr>\n",
       "      <th>25%</th>\n",
       "      <td>1205.000000</td>\n",
       "      <td>20.342920</td>\n",
       "      <td>1.805491</td>\n",
       "    </tr>\n",
       "    <tr>\n",
       "      <th>50%</th>\n",
       "      <td>2841.500000</td>\n",
       "      <td>22.790117</td>\n",
       "      <td>2.034693</td>\n",
       "    </tr>\n",
       "    <tr>\n",
       "      <th>75%</th>\n",
       "      <td>5001.500000</td>\n",
       "      <td>28.623229</td>\n",
       "      <td>2.246385</td>\n",
       "    </tr>\n",
       "    <tr>\n",
       "      <th>max</th>\n",
       "      <td>14287.000000</td>\n",
       "      <td>48.018257</td>\n",
       "      <td>2.898215</td>\n",
       "    </tr>\n",
       "  </tbody>\n",
       "</table>\n",
       "</div>"
      ],
      "text/plain": [
       "       total_ended_trips  avg_trip_duration in minutes  avg_distance_in_km\n",
       "count          54.000000                     54.000000           54.000000\n",
       "mean         3324.111111                     25.528973            1.992380\n",
       "std          2627.295659                      7.803419            0.374054\n",
       "min           548.000000                     15.374312            1.126567\n",
       "25%          1205.000000                     20.342920            1.805491\n",
       "50%          2841.500000                     22.790117            2.034693\n",
       "75%          5001.500000                     28.623229            2.246385\n",
       "max         14287.000000                     48.018257            2.898215"
      ]
     },
     "metadata": {},
     "output_type": "display_data"
    }
   ],
   "source": [
    "# Scatter Mapbox to display the clusters in a map\n",
    "fig = px.scatter_mapbox(df_phil_end_stations_original, lat=\"end_lat\", lon=\"end_lon\", animation_frame=\"Cluster\", \n",
    "                        opacity=1, animation_group='end_station_name', zoom=12, height=1000, width=900, \n",
    "                        hover_name=\"end_station_name\", hover_data=[\"end_lat\", \"end_lon\"],\n",
    "                        title='Locational Clusters based on the end stations')\n",
    "fig.update_geos(center=dict(lon=-75.14, lat=39.96))\n",
    "fig.update_layout(mapbox_style=\"carto-positron\")\n",
    "fig.update_layout(\n",
    "    title={\n",
    "        'y':0.95,\n",
    "        'x':0.5,\n",
    "        'xanchor': 'center',\n",
    "        'yanchor': 'top'},\n",
    "    font=dict(\n",
    "            size=18\n",
    "        ))\n",
    "display(fig)\n",
    "\n",
    "describeData(df_phil_end_stations, df_phil_end_stations_scaled, cluster)"
   ]
  },
  {
   "attachments": {},
   "cell_type": "markdown",
   "id": "bebf724f",
   "metadata": {},
   "source": [
    "Cluster results from the end stations:\n",
    "- First cluster <br>\n",
    "70 stations in the cluster with lowest avg trip duration and lowest avg distance between stations <br>\n",
    "Stations are generally located around the center of the city. They dont need to drive long and far, <br>because\n",
    "they live in the center and have everything close to them.\n",
    "\n",
    "- Second cluster <br>\n",
    "58 stations in the cluster with highest avg trip duration and highest avg distance between stations <br>\n",
    "Stations are generally located further away from the center, so they need to drive longer and further <br> to \n",
    "get to their destination. Most likely people that are driving home from work or shopping."
   ]
  },
  {
   "attachments": {},
   "cell_type": "markdown",
   "id": "5924b4fb",
   "metadata": {},
   "source": [
    "Conclusion: <br>\n",
    "We can find two clusters based on the stations that are further away from the center and the ones that are close to the center of the city.\n",
    "<br> People from the outside drive into the city for example, for shopping or going to work, and also drive home again from the center to the <br> outside\n",
    "of the city. People from the inside tend to stay in the center, because there is no necessity for them to leave the center, since <br> everything\n",
    "they need is available there."
   ]
  }
 ],
 "metadata": {
  "kernelspec": {
   "display_name": "Python 3",
   "language": "python",
   "name": "python3"
  },
  "language_info": {
   "codemirror_mode": {
    "name": "ipython",
    "version": 3
   },
   "file_extension": ".py",
   "mimetype": "text/x-python",
   "name": "python",
   "nbconvert_exporter": "python",
   "pygments_lexer": "ipython3",
   "version": "3.9.4 (tags/v3.9.4:1f2e308, Apr  4 2021, 13:27:16) [MSC v.1928 64 bit (AMD64)]"
  },
  "vscode": {
   "interpreter": {
    "hash": "996f2b6e98019c29df53ccff772a8e3fe7cdecb0ba4b3f6ddb9be804d297dd3d"
   }
  }
 },
 "nbformat": 4,
 "nbformat_minor": 5
}
