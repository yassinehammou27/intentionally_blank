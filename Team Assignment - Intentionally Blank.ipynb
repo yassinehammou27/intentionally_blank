{
 "cells": [
  {
   "cell_type": "markdown",
   "id": "18f8b5b5",
   "metadata": {},
   "source": [
    "# Team Assignment - Intentionally Blank"
   ]
  },
  {
   "cell_type": "markdown",
   "id": "44bd10e4",
   "metadata": {},
   "source": [
    "The following libraries should be installed before proceeding further:\n",
    "- pandas\n",
    "- numpy"
   ]
  },
  {
   "cell_type": "code",
   "execution_count": 153,
   "id": "8ae33228",
   "metadata": {},
   "outputs": [],
   "source": [
    "#Import all necessary libraries\n",
    "\n",
    "import pandas as pd\n",
    "import numpy as np\n",
    "import matplotlib.pyplot as plt\n",
    "import seaborn as sns\n",
    "import haversine as hs\n",
    "from datetime import datetime\n",
    "from sklearn.cluster import KMeans\n",
    "from sklearn.preprocessing import StandardScaler\n",
    "import plotly.express as px\n",
    "import folium\n",
    "from folium import plugins\n",
    "from folium.plugins import HeatMap\n",
    "from branca.element import Figure"
   ]
  },
  {
   "cell_type": "markdown",
   "id": "6e8001a5",
   "metadata": {},
   "source": [
    "In addition to the available datasets from the team assignment the original dataset is read for additional information about each ride. The additional information contains the geographical coordinates for the start position and the end position of each ride."
   ]
  },
  {
   "cell_type": "code",
   "execution_count": 154,
   "id": "fe29f9c6",
   "metadata": {},
   "outputs": [],
   "source": [
    "# Reading in weather and philadelphia_2017 data\n",
    "df_weather = pd.read_csv(\"data/weather_hourly_philadelphia.csv\")\n",
    "df_philadelphia_2017 = pd.read_csv(\"data/philadelphia_2017.csv\")\n",
    "\n",
    "# Additionally read the philadelphia data from the official website\n",
    "data_philadelphia_2017_Q1 = pd.read_csv(\"data/indego_Q1_2017.csv\")\n",
    "data_philadelphia_2017_Q2 = pd.read_csv(\"data/indego_Q2_2017.csv\")\n",
    "data_philadelphia_2017_Q3 = pd.read_csv(\"data/indego_Q3_2017.csv\")\n",
    "data_philadelphia_2017_Q4 = pd.read_csv(\"data/indego_Q4_2017.csv\")"
   ]
  },
  {
   "cell_type": "markdown",
   "id": "3fbb996d",
   "metadata": {},
   "source": [
    "## Preparing and cleaning data"
   ]
  },
  {
   "cell_type": "markdown",
   "id": "c35f3a2f",
   "metadata": {},
   "source": [
    "### Preparing and cleaning the philadelphia datasets"
   ]
  },
  {
   "cell_type": "code",
   "execution_count": 155,
   "id": "82bd8929",
   "metadata": {},
   "outputs": [],
   "source": [
    "# Concatenate all quarters of philadelphia data and convert them to a dataframe\n",
    "df_philadelphia_website = pd.concat([data_philadelphia_2017_Q1, data_philadelphia_2017_Q2, data_philadelphia_2017_Q3, data_philadelphia_2017_Q4], ignore_index=True)"
   ]
  },
  {
   "cell_type": "code",
   "execution_count": 156,
   "id": "d5fe9546",
   "metadata": {},
   "outputs": [
    {
     "name": "stderr",
     "output_type": "stream",
     "text": [
      "C:\\Users\\Paulo\\AppData\\Local\\Temp\\ipykernel_7596\\495290899.py:6: FutureWarning:\n",
      "\n",
      "In a future version, `df.iloc[:, i] = newvals` will attempt to set the values inplace instead of always setting a new array. To retain the old behavior, use either `df[df.columns[i]] = newvals` or, if columns are non-unique, `df.isetitem(i, newvals)`\n",
      "\n",
      "C:\\Users\\Paulo\\AppData\\Local\\Temp\\ipykernel_7596\\495290899.py:7: FutureWarning:\n",
      "\n",
      "In a future version, `df.iloc[:, i] = newvals` will attempt to set the values inplace instead of always setting a new array. To retain the old behavior, use either `df[df.columns[i]] = newvals` or, if columns are non-unique, `df.isetitem(i, newvals)`\n",
      "\n",
      "C:\\Users\\Paulo\\AppData\\Local\\Temp\\ipykernel_7596\\495290899.py:9: FutureWarning:\n",
      "\n",
      "In a future version, `df.iloc[:, i] = newvals` will attempt to set the values inplace instead of always setting a new array. To retain the old behavior, use either `df[df.columns[i]] = newvals` or, if columns are non-unique, `df.isetitem(i, newvals)`\n",
      "\n",
      "C:\\Users\\Paulo\\AppData\\Local\\Temp\\ipykernel_7596\\495290899.py:10: FutureWarning:\n",
      "\n",
      "In a future version, `df.iloc[:, i] = newvals` will attempt to set the values inplace instead of always setting a new array. To retain the old behavior, use either `df[df.columns[i]] = newvals` or, if columns are non-unique, `df.isetitem(i, newvals)`\n",
      "\n"
     ]
    }
   ],
   "source": [
    "# Dropping the columns duration, start_station_id, end_station_id, plan_duration, trip_route_category, passholder_type, start_station, end_station\n",
    "df_philadelphia_website.drop(['duration', 'start_station_id', 'end_station_id', 'plan_duration', 'trip_route_category', 'passholder_type', 'start_station', 'end_station', 'trip_id'], axis=1, inplace=True)\n",
    "df_philadelphia_website\n",
    "\n",
    "#Changing the type of start_time, end_time (df_philadelphia_2017 and df_philadelphia_website) and date_time (df_weather) to datetime type from pandas\n",
    "df_philadelphia_website.loc[:,'start_time'] = pd.to_datetime(df_philadelphia_website['start_time'])\n",
    "df_philadelphia_website.loc[:,'end_time'] = pd.to_datetime(df_philadelphia_website['end_time'])\n",
    "\n",
    "df_philadelphia_2017.loc[:,'start_time'] = pd.to_datetime(df_philadelphia_2017['start_time'])\n",
    "df_philadelphia_2017.loc[:,\"end_time\"] = pd.to_datetime(df_philadelphia_2017[\"end_time\"])\n",
    "\n",
    "#Sort dataframes by their corresponding time column\n",
    "df_philadelphia_website.sort_values([\"start_time\"], inplace = True)\n",
    "df_philadelphia_2017.sort_values([\"start_time\"], inplace = True)\n",
    "\n",
    "\n",
    "#Resetting the indexes\n",
    "df_philadelphia_website.reset_index(drop = True, inplace = True)\n",
    "df_philadelphia_2017.reset_index(drop = True, inplace = True)"
   ]
  },
  {
   "cell_type": "markdown",
   "id": "206e24c4",
   "metadata": {},
   "source": [
    "Before we further clean the dataset for philadelphia its important to mention that we first deleted the irrelevant stations because some duplicate rows happen to have the same start time, end time and bike ids but different start and end stations like the \"Virtual Station\". Therefore we deleted those stations first to avoid deleting useful records. In the following example you can see that deleting the duplicates first could lead to deleting useful records and keeping irrelevant records which are deleted either way later."
   ]
  },
  {
   "cell_type": "code",
   "execution_count": 157,
   "id": "492c9382",
   "metadata": {},
   "outputs": [
    {
     "data": {
      "text/html": [
       "<div>\n",
       "<style scoped>\n",
       "    .dataframe tbody tr th:only-of-type {\n",
       "        vertical-align: middle;\n",
       "    }\n",
       "\n",
       "    .dataframe tbody tr th {\n",
       "        vertical-align: top;\n",
       "    }\n",
       "\n",
       "    .dataframe thead th {\n",
       "        text-align: right;\n",
       "    }\n",
       "</style>\n",
       "<table border=\"1\" class=\"dataframe\">\n",
       "  <thead>\n",
       "    <tr style=\"text-align: right;\">\n",
       "      <th></th>\n",
       "      <th>start_time</th>\n",
       "      <th>end_time</th>\n",
       "      <th>start_station_id</th>\n",
       "      <th>end_station_id</th>\n",
       "      <th>bike_id</th>\n",
       "      <th>user_type</th>\n",
       "      <th>start_station_name</th>\n",
       "      <th>end_station_name</th>\n",
       "    </tr>\n",
       "  </thead>\n",
       "  <tbody>\n",
       "    <tr>\n",
       "      <th>255753</th>\n",
       "      <td>2017-06-05 15:26:00</td>\n",
       "      <td>2017-06-05 15:27:00</td>\n",
       "      <td>3152</td>\n",
       "      <td>3152</td>\n",
       "      <td>11907</td>\n",
       "      <td>Indego30</td>\n",
       "      <td>40th &amp; Baltimore, Trolley Portal</td>\n",
       "      <td>40th &amp; Baltimore, Trolley Portal</td>\n",
       "    </tr>\n",
       "    <tr>\n",
       "      <th>255755</th>\n",
       "      <td>2017-06-05 15:26:00</td>\n",
       "      <td>2017-06-05 15:27:00</td>\n",
       "      <td>3000</td>\n",
       "      <td>3000</td>\n",
       "      <td>11907</td>\n",
       "      <td>Indego30</td>\n",
       "      <td>Virtual Station</td>\n",
       "      <td>Virtual Station</td>\n",
       "    </tr>\n",
       "    <tr>\n",
       "      <th>256143</th>\n",
       "      <td>2017-06-05 17:26:00</td>\n",
       "      <td>2017-06-05 17:31:00</td>\n",
       "      <td>3152</td>\n",
       "      <td>3024</td>\n",
       "      <td>11907</td>\n",
       "      <td>Walk-up</td>\n",
       "      <td>40th &amp; Baltimore, Trolley Portal</td>\n",
       "      <td>43rd &amp; Chester, Clark Park</td>\n",
       "    </tr>\n",
       "    <tr>\n",
       "      <th>256148</th>\n",
       "      <td>2017-06-05 17:26:00</td>\n",
       "      <td>2017-06-05 17:31:00</td>\n",
       "      <td>3000</td>\n",
       "      <td>3024</td>\n",
       "      <td>11907</td>\n",
       "      <td>Walk-up</td>\n",
       "      <td>Virtual Station</td>\n",
       "      <td>43rd &amp; Chester, Clark Park</td>\n",
       "    </tr>\n",
       "    <tr>\n",
       "      <th>258113</th>\n",
       "      <td>2017-06-06 16:02:00</td>\n",
       "      <td>2017-06-06 16:33:00</td>\n",
       "      <td>3004</td>\n",
       "      <td>3000</td>\n",
       "      <td>5314</td>\n",
       "      <td>Indego30</td>\n",
       "      <td>Municipal Services Building Plaza</td>\n",
       "      <td>Virtual Station</td>\n",
       "    </tr>\n",
       "    <tr>\n",
       "      <th>258115</th>\n",
       "      <td>2017-06-06 16:02:00</td>\n",
       "      <td>2017-06-06 16:33:00</td>\n",
       "      <td>3004</td>\n",
       "      <td>3161</td>\n",
       "      <td>5314</td>\n",
       "      <td>Indego30</td>\n",
       "      <td>Municipal Services Building Plaza</td>\n",
       "      <td>30th Street Station East</td>\n",
       "    </tr>\n",
       "  </tbody>\n",
       "</table>\n",
       "</div>"
      ],
      "text/plain": [
       "                start_time            end_time  start_station_id  \\\n",
       "255753 2017-06-05 15:26:00 2017-06-05 15:27:00              3152   \n",
       "255755 2017-06-05 15:26:00 2017-06-05 15:27:00              3000   \n",
       "256143 2017-06-05 17:26:00 2017-06-05 17:31:00              3152   \n",
       "256148 2017-06-05 17:26:00 2017-06-05 17:31:00              3000   \n",
       "258113 2017-06-06 16:02:00 2017-06-06 16:33:00              3004   \n",
       "258115 2017-06-06 16:02:00 2017-06-06 16:33:00              3004   \n",
       "\n",
       "        end_station_id  bike_id user_type                 start_station_name  \\\n",
       "255753            3152    11907  Indego30   40th & Baltimore, Trolley Portal   \n",
       "255755            3000    11907  Indego30                    Virtual Station   \n",
       "256143            3024    11907   Walk-up   40th & Baltimore, Trolley Portal   \n",
       "256148            3024    11907   Walk-up                    Virtual Station   \n",
       "258113            3000     5314  Indego30  Municipal Services Building Plaza   \n",
       "258115            3161     5314  Indego30  Municipal Services Building Plaza   \n",
       "\n",
       "                        end_station_name  \n",
       "255753  40th & Baltimore, Trolley Portal  \n",
       "255755                   Virtual Station  \n",
       "256143        43rd & Chester, Clark Park  \n",
       "256148        43rd & Chester, Clark Park  \n",
       "258113                   Virtual Station  \n",
       "258115          30th Street Station East  "
      ]
     },
     "execution_count": 157,
     "metadata": {},
     "output_type": "execute_result"
    }
   ],
   "source": [
    "df_philadelphia_2017[df_philadelphia_2017.duplicated(subset=['start_time', 'end_time', 'bike_id'], keep=False)].head(6)"
   ]
  },
  {
   "cell_type": "markdown",
   "id": "9af52b4e",
   "metadata": {},
   "source": [
    "The \"3083\" station does not exist as a real station. Furthermore the \"Virtual Station\" is used by staff to check in or check out a bike remotely for an event or when the bike was not properly checked in or out. Therefore we check the number of rows where one of those stations occur and delete those rows afterwards.\n",
    "\n",
    "For further information please check the official site about the data and the station table [here](https://www.rideindego.com/about/data/)."
   ]
  },
  {
   "cell_type": "code",
   "execution_count": 158,
   "id": "03f26591",
   "metadata": {},
   "outputs": [
    {
     "name": "stdout",
     "output_type": "stream",
     "text": [
      "Number of rows in df_philadelphia_2017 with \"Virtual Station\" and \"3083\" in the start station or end station:  6512\n"
     ]
    }
   ],
   "source": [
    "print(r'Number of rows in df_philadelphia_2017 with \"Virtual Station\" and \"3083\" in the start station or end station: ',\n",
    " df_philadelphia_2017[(df_philadelphia_2017[\"start_station_name\"] == \"Virtual Station\") | (df_philadelphia_2017[\"end_station_name\"] == \"Virtual Station\") |\n",
    "  (df_philadelphia_2017[\"start_station_name\"] == \"3083\") | (df_philadelphia_2017[\"end_station_name\"] == \"3083\")\n",
    "  ].shape[0])"
   ]
  },
  {
   "cell_type": "code",
   "execution_count": 159,
   "id": "bfc06a92",
   "metadata": {},
   "outputs": [
    {
     "data": {
      "text/html": [
       "<div>\n",
       "<style scoped>\n",
       "    .dataframe tbody tr th:only-of-type {\n",
       "        vertical-align: middle;\n",
       "    }\n",
       "\n",
       "    .dataframe tbody tr th {\n",
       "        vertical-align: top;\n",
       "    }\n",
       "\n",
       "    .dataframe thead th {\n",
       "        text-align: right;\n",
       "    }\n",
       "</style>\n",
       "<table border=\"1\" class=\"dataframe\">\n",
       "  <thead>\n",
       "    <tr style=\"text-align: right;\">\n",
       "      <th></th>\n",
       "      <th>start_time</th>\n",
       "      <th>end_time</th>\n",
       "      <th>start_station_id</th>\n",
       "      <th>end_station_id</th>\n",
       "      <th>bike_id</th>\n",
       "      <th>user_type</th>\n",
       "      <th>start_station_name</th>\n",
       "      <th>end_station_name</th>\n",
       "    </tr>\n",
       "  </thead>\n",
       "  <tbody>\n",
       "  </tbody>\n",
       "</table>\n",
       "</div>"
      ],
      "text/plain": [
       "Empty DataFrame\n",
       "Columns: [start_time, end_time, start_station_id, end_station_id, bike_id, user_type, start_station_name, end_station_name]\n",
       "Index: []"
      ]
     },
     "metadata": {},
     "output_type": "display_data"
    }
   ],
   "source": [
    "# Deleting \"Virtual Station\" and \"3083\" from the start_station_name and end_station_name columns\n",
    "df_philadelphia_2017 = df_philadelphia_2017[(df_philadelphia_2017[\"start_station_name\"] != \"3083\") & (df_philadelphia_2017[\"end_station_name\"] != \"3083\") ]\n",
    "df_philadelphia_2017 = df_philadelphia_2017[(df_philadelphia_2017[\"start_station_name\"] != \"Virtual Station\") & (df_philadelphia_2017[\"end_station_name\"] != \"Virtual Station\") ]\n",
    "\n",
    "display(df_philadelphia_2017[(df_philadelphia_2017[\"start_station_name\"] == \"Virtual Station\") | (df_philadelphia_2017[\"end_station_name\"] == \"Virtual Station\") | (df_philadelphia_2017[\"start_station_name\"] == \"3083\") | (df_philadelphia_2017[\"end_station_name\"] == \"3083\")])"
   ]
  },
  {
   "cell_type": "markdown",
   "id": "b3bc3b06",
   "metadata": {},
   "source": [
    "The \"bike_id\" should be unique to one bike. No trip with the same bike_id should start and end on the same time interval. "
   ]
  },
  {
   "cell_type": "code",
   "execution_count": 160,
   "id": "b36df4ae",
   "metadata": {},
   "outputs": [
    {
     "name": "stdout",
     "output_type": "stream",
     "text": [
      "Number of duplicates in df_philadelphia_2017:  55\n",
      "Number of duplicates in df_philadelphia_website:  68\n"
     ]
    }
   ],
   "source": [
    "#Checking for any duplicates in philadelphia data\n",
    "print(\"Number of duplicates in df_philadelphia_2017: \", df_philadelphia_2017.duplicated(subset=['start_time', 'end_time', 'bike_id']).sum())\n",
    "print(\"Number of duplicates in df_philadelphia_website: \", df_philadelphia_website.duplicated(subset=['start_time', 'end_time', 'bike_id']).sum())"
   ]
  },
  {
   "cell_type": "code",
   "execution_count": 161,
   "id": "bc40199e",
   "metadata": {},
   "outputs": [
    {
     "data": {
      "text/html": [
       "<div>\n",
       "<style scoped>\n",
       "    .dataframe tbody tr th:only-of-type {\n",
       "        vertical-align: middle;\n",
       "    }\n",
       "\n",
       "    .dataframe tbody tr th {\n",
       "        vertical-align: top;\n",
       "    }\n",
       "\n",
       "    .dataframe thead th {\n",
       "        text-align: right;\n",
       "    }\n",
       "</style>\n",
       "<table border=\"1\" class=\"dataframe\">\n",
       "  <thead>\n",
       "    <tr style=\"text-align: right;\">\n",
       "      <th></th>\n",
       "      <th>start_time</th>\n",
       "      <th>end_time</th>\n",
       "      <th>start_station_id</th>\n",
       "      <th>end_station_id</th>\n",
       "      <th>bike_id</th>\n",
       "      <th>user_type</th>\n",
       "      <th>start_station_name</th>\n",
       "      <th>end_station_name</th>\n",
       "    </tr>\n",
       "  </thead>\n",
       "  <tbody>\n",
       "  </tbody>\n",
       "</table>\n",
       "</div>"
      ],
      "text/plain": [
       "Empty DataFrame\n",
       "Columns: [start_time, end_time, start_station_id, end_station_id, bike_id, user_type, start_station_name, end_station_name]\n",
       "Index: []"
      ]
     },
     "metadata": {},
     "output_type": "display_data"
    },
    {
     "data": {
      "text/html": [
       "<div>\n",
       "<style scoped>\n",
       "    .dataframe tbody tr th:only-of-type {\n",
       "        vertical-align: middle;\n",
       "    }\n",
       "\n",
       "    .dataframe tbody tr th {\n",
       "        vertical-align: top;\n",
       "    }\n",
       "\n",
       "    .dataframe thead th {\n",
       "        text-align: right;\n",
       "    }\n",
       "</style>\n",
       "<table border=\"1\" class=\"dataframe\">\n",
       "  <thead>\n",
       "    <tr style=\"text-align: right;\">\n",
       "      <th></th>\n",
       "      <th>start_time</th>\n",
       "      <th>end_time</th>\n",
       "      <th>start_lat</th>\n",
       "      <th>start_lon</th>\n",
       "      <th>end_lat</th>\n",
       "      <th>end_lon</th>\n",
       "      <th>bike_id</th>\n",
       "    </tr>\n",
       "  </thead>\n",
       "  <tbody>\n",
       "  </tbody>\n",
       "</table>\n",
       "</div>"
      ],
      "text/plain": [
       "Empty DataFrame\n",
       "Columns: [start_time, end_time, start_lat, start_lon, end_lat, end_lon, bike_id]\n",
       "Index: []"
      ]
     },
     "metadata": {},
     "output_type": "display_data"
    }
   ],
   "source": [
    "#Dropping all duplicates for the philadelphia data depending on the start_time, end_time and bike_id\n",
    "df_philadelphia_2017.drop_duplicates(subset=[\"start_time\", \"end_time\", \"bike_id\"], keep=\"first\", inplace=True)\n",
    "df_philadelphia_website.drop_duplicates(subset=[\"start_time\", \"end_time\", \"bike_id\"], keep=\"first\", inplace=True)\n",
    "\n",
    "display(df_philadelphia_2017[df_philadelphia_2017.duplicated(subset=['start_time', 'end_time', 'bike_id'])].head(10))\n",
    "display(df_philadelphia_website[df_philadelphia_website.duplicated(subset=['start_time', 'end_time', 'bike_id'])].head(10))"
   ]
  },
  {
   "cell_type": "code",
   "execution_count": 162,
   "id": "5aea409a",
   "metadata": {},
   "outputs": [
    {
     "data": {
      "text/html": [
       "<div>\n",
       "<style scoped>\n",
       "    .dataframe tbody tr th:only-of-type {\n",
       "        vertical-align: middle;\n",
       "    }\n",
       "\n",
       "    .dataframe tbody tr th {\n",
       "        vertical-align: top;\n",
       "    }\n",
       "\n",
       "    .dataframe thead th {\n",
       "        text-align: right;\n",
       "    }\n",
       "</style>\n",
       "<table border=\"1\" class=\"dataframe\">\n",
       "  <thead>\n",
       "    <tr style=\"text-align: right;\">\n",
       "      <th></th>\n",
       "      <th>start_time</th>\n",
       "      <th>end_time</th>\n",
       "      <th>start_station_id</th>\n",
       "      <th>end_station_id</th>\n",
       "      <th>bike_id</th>\n",
       "      <th>user_type</th>\n",
       "      <th>start_station_name</th>\n",
       "      <th>end_station_name</th>\n",
       "      <th>start_lat</th>\n",
       "      <th>start_lon</th>\n",
       "      <th>end_lat</th>\n",
       "      <th>end_lon</th>\n",
       "    </tr>\n",
       "  </thead>\n",
       "  <tbody>\n",
       "    <tr>\n",
       "      <th>0</th>\n",
       "      <td>2017-01-01 00:05:00</td>\n",
       "      <td>2017-01-01 00:16:00</td>\n",
       "      <td>3046</td>\n",
       "      <td>3041</td>\n",
       "      <td>5347</td>\n",
       "      <td>Indego30</td>\n",
       "      <td>2nd &amp; Market</td>\n",
       "      <td>Girard Station, MFL</td>\n",
       "      <td>39.950119</td>\n",
       "      <td>-75.144722</td>\n",
       "      <td>39.968491</td>\n",
       "      <td>-75.135460</td>\n",
       "    </tr>\n",
       "    <tr>\n",
       "      <th>1</th>\n",
       "      <td>2017-01-01 00:21:00</td>\n",
       "      <td>2017-01-01 00:57:00</td>\n",
       "      <td>3110</td>\n",
       "      <td>3054</td>\n",
       "      <td>3364</td>\n",
       "      <td>Walk-up</td>\n",
       "      <td>Del. River Trail &amp; Penn St.</td>\n",
       "      <td>Rodin Museum</td>\n",
       "      <td>39.961750</td>\n",
       "      <td>-75.136414</td>\n",
       "      <td>39.962502</td>\n",
       "      <td>-75.174202</td>\n",
       "    </tr>\n",
       "    <tr>\n",
       "      <th>2</th>\n",
       "      <td>2017-01-01 00:22:00</td>\n",
       "      <td>2017-01-01 00:57:00</td>\n",
       "      <td>3110</td>\n",
       "      <td>3054</td>\n",
       "      <td>2536</td>\n",
       "      <td>Walk-up</td>\n",
       "      <td>Del. River Trail &amp; Penn St.</td>\n",
       "      <td>Rodin Museum</td>\n",
       "      <td>39.961750</td>\n",
       "      <td>-75.136414</td>\n",
       "      <td>39.962502</td>\n",
       "      <td>-75.174202</td>\n",
       "    </tr>\n",
       "    <tr>\n",
       "      <th>3</th>\n",
       "      <td>2017-01-01 00:27:00</td>\n",
       "      <td>2017-01-01 00:39:00</td>\n",
       "      <td>3041</td>\n",
       "      <td>3005</td>\n",
       "      <td>5176</td>\n",
       "      <td>Indego30</td>\n",
       "      <td>Girard Station, MFL</td>\n",
       "      <td>Welcome Park, NPS</td>\n",
       "      <td>39.968491</td>\n",
       "      <td>-75.135460</td>\n",
       "      <td>39.947330</td>\n",
       "      <td>-75.144028</td>\n",
       "    </tr>\n",
       "    <tr>\n",
       "      <th>4</th>\n",
       "      <td>2017-01-01 00:28:00</td>\n",
       "      <td>2017-01-01 00:36:00</td>\n",
       "      <td>3047</td>\n",
       "      <td>3124</td>\n",
       "      <td>5370</td>\n",
       "      <td>Walk-up</td>\n",
       "      <td>Independence Mall, NPS</td>\n",
       "      <td>Race Street Pier</td>\n",
       "      <td>39.950710</td>\n",
       "      <td>-75.149208</td>\n",
       "      <td>39.952950</td>\n",
       "      <td>-75.139793</td>\n",
       "    </tr>\n",
       "    <tr>\n",
       "      <th>...</th>\n",
       "      <td>...</td>\n",
       "      <td>...</td>\n",
       "      <td>...</td>\n",
       "      <td>...</td>\n",
       "      <td>...</td>\n",
       "      <td>...</td>\n",
       "      <td>...</td>\n",
       "      <td>...</td>\n",
       "      <td>...</td>\n",
       "      <td>...</td>\n",
       "      <td>...</td>\n",
       "      <td>...</td>\n",
       "    </tr>\n",
       "    <tr>\n",
       "      <th>782335</th>\n",
       "      <td>2017-12-31 23:05:00</td>\n",
       "      <td>2017-12-31 23:33:00</td>\n",
       "      <td>3070</td>\n",
       "      <td>3124</td>\n",
       "      <td>3708</td>\n",
       "      <td>Indego30</td>\n",
       "      <td>Spring Garden Station, MFL</td>\n",
       "      <td>Race Street Pier</td>\n",
       "      <td>39.960621</td>\n",
       "      <td>-75.139832</td>\n",
       "      <td>39.952950</td>\n",
       "      <td>-75.139793</td>\n",
       "    </tr>\n",
       "    <tr>\n",
       "      <th>782336</th>\n",
       "      <td>2017-12-31 23:11:00</td>\n",
       "      <td>2018-01-01 11:03:00</td>\n",
       "      <td>3107</td>\n",
       "      <td>3165</td>\n",
       "      <td>5117</td>\n",
       "      <td>Indego30</td>\n",
       "      <td>33rd &amp; Reservoir</td>\n",
       "      <td>24th &amp; Race SRT</td>\n",
       "      <td>39.982029</td>\n",
       "      <td>-75.188660</td>\n",
       "      <td>39.958191</td>\n",
       "      <td>-75.178200</td>\n",
       "    </tr>\n",
       "    <tr>\n",
       "      <th>782337</th>\n",
       "      <td>2017-12-31 23:18:00</td>\n",
       "      <td>2017-12-31 23:25:00</td>\n",
       "      <td>3033</td>\n",
       "      <td>3046</td>\n",
       "      <td>11933</td>\n",
       "      <td>Indego30</td>\n",
       "      <td>10th &amp; Chestnut</td>\n",
       "      <td>2nd &amp; Market</td>\n",
       "      <td>39.950050</td>\n",
       "      <td>-75.156723</td>\n",
       "      <td>39.950119</td>\n",
       "      <td>-75.144722</td>\n",
       "    </tr>\n",
       "    <tr>\n",
       "      <th>782338</th>\n",
       "      <td>2017-12-31 23:39:00</td>\n",
       "      <td>2017-12-31 23:40:00</td>\n",
       "      <td>3163</td>\n",
       "      <td>3163</td>\n",
       "      <td>6725</td>\n",
       "      <td>Indego30</td>\n",
       "      <td>25th &amp; Locust</td>\n",
       "      <td>25th &amp; Locust</td>\n",
       "      <td>39.949741</td>\n",
       "      <td>-75.180969</td>\n",
       "      <td>39.949741</td>\n",
       "      <td>-75.180969</td>\n",
       "    </tr>\n",
       "    <tr>\n",
       "      <th>782339</th>\n",
       "      <td>2017-12-31 23:41:00</td>\n",
       "      <td>2017-12-31 23:55:00</td>\n",
       "      <td>3163</td>\n",
       "      <td>3057</td>\n",
       "      <td>11864</td>\n",
       "      <td>Indego30</td>\n",
       "      <td>25th &amp; Locust</td>\n",
       "      <td>Philadelphia Museum of Art</td>\n",
       "      <td>39.949741</td>\n",
       "      <td>-75.180969</td>\n",
       "      <td>39.964581</td>\n",
       "      <td>-75.180031</td>\n",
       "    </tr>\n",
       "  </tbody>\n",
       "</table>\n",
       "<p>782340 rows × 12 columns</p>\n",
       "</div>"
      ],
      "text/plain": [
       "                start_time            end_time  start_station_id  \\\n",
       "0      2017-01-01 00:05:00 2017-01-01 00:16:00              3046   \n",
       "1      2017-01-01 00:21:00 2017-01-01 00:57:00              3110   \n",
       "2      2017-01-01 00:22:00 2017-01-01 00:57:00              3110   \n",
       "3      2017-01-01 00:27:00 2017-01-01 00:39:00              3041   \n",
       "4      2017-01-01 00:28:00 2017-01-01 00:36:00              3047   \n",
       "...                    ...                 ...               ...   \n",
       "782335 2017-12-31 23:05:00 2017-12-31 23:33:00              3070   \n",
       "782336 2017-12-31 23:11:00 2018-01-01 11:03:00              3107   \n",
       "782337 2017-12-31 23:18:00 2017-12-31 23:25:00              3033   \n",
       "782338 2017-12-31 23:39:00 2017-12-31 23:40:00              3163   \n",
       "782339 2017-12-31 23:41:00 2017-12-31 23:55:00              3163   \n",
       "\n",
       "        end_station_id  bike_id user_type           start_station_name  \\\n",
       "0                 3041     5347  Indego30                 2nd & Market   \n",
       "1                 3054     3364   Walk-up  Del. River Trail & Penn St.   \n",
       "2                 3054     2536   Walk-up  Del. River Trail & Penn St.   \n",
       "3                 3005     5176  Indego30          Girard Station, MFL   \n",
       "4                 3124     5370   Walk-up       Independence Mall, NPS   \n",
       "...                ...      ...       ...                          ...   \n",
       "782335            3124     3708  Indego30   Spring Garden Station, MFL   \n",
       "782336            3165     5117  Indego30             33rd & Reservoir   \n",
       "782337            3046    11933  Indego30              10th & Chestnut   \n",
       "782338            3163     6725  Indego30                25th & Locust   \n",
       "782339            3057    11864  Indego30                25th & Locust   \n",
       "\n",
       "                  end_station_name  start_lat  start_lon    end_lat    end_lon  \n",
       "0              Girard Station, MFL  39.950119 -75.144722  39.968491 -75.135460  \n",
       "1                     Rodin Museum  39.961750 -75.136414  39.962502 -75.174202  \n",
       "2                     Rodin Museum  39.961750 -75.136414  39.962502 -75.174202  \n",
       "3                Welcome Park, NPS  39.968491 -75.135460  39.947330 -75.144028  \n",
       "4                 Race Street Pier  39.950710 -75.149208  39.952950 -75.139793  \n",
       "...                            ...        ...        ...        ...        ...  \n",
       "782335            Race Street Pier  39.960621 -75.139832  39.952950 -75.139793  \n",
       "782336             24th & Race SRT  39.982029 -75.188660  39.958191 -75.178200  \n",
       "782337                2nd & Market  39.950050 -75.156723  39.950119 -75.144722  \n",
       "782338               25th & Locust  39.949741 -75.180969  39.949741 -75.180969  \n",
       "782339  Philadelphia Museum of Art  39.949741 -75.180969  39.964581 -75.180031  \n",
       "\n",
       "[782340 rows x 12 columns]"
      ]
     },
     "execution_count": 162,
     "metadata": {},
     "output_type": "execute_result"
    }
   ],
   "source": [
    "# Joining df_philadelphia_2017 with df_philadelphia_full on start_time, end_time, bike_id and dropping duplicate columns\n",
    "df_philadelphia_2017_joined = df_philadelphia_2017.merge(df_philadelphia_website, on=[\"start_time\", \"end_time\", \"bike_id\"], how=\"left\")\n",
    "\n",
    "df_philadelphia_2017_joined"
   ]
  },
  {
   "cell_type": "code",
   "execution_count": 163,
   "id": "891c6886",
   "metadata": {},
   "outputs": [
    {
     "data": {
      "text/html": [
       "<div>\n",
       "<style scoped>\n",
       "    .dataframe tbody tr th:only-of-type {\n",
       "        vertical-align: middle;\n",
       "    }\n",
       "\n",
       "    .dataframe tbody tr th {\n",
       "        vertical-align: top;\n",
       "    }\n",
       "\n",
       "    .dataframe thead th {\n",
       "        text-align: right;\n",
       "    }\n",
       "</style>\n",
       "<table border=\"1\" class=\"dataframe\">\n",
       "  <thead>\n",
       "    <tr style=\"text-align: right;\">\n",
       "      <th></th>\n",
       "      <th>start_time</th>\n",
       "      <th>end_time</th>\n",
       "      <th>start_station_id</th>\n",
       "      <th>end_station_id</th>\n",
       "      <th>bike_id</th>\n",
       "      <th>user_type</th>\n",
       "      <th>start_station_name</th>\n",
       "      <th>end_station_name</th>\n",
       "      <th>start_lat</th>\n",
       "      <th>start_lon</th>\n",
       "      <th>end_lat</th>\n",
       "      <th>end_lon</th>\n",
       "    </tr>\n",
       "  </thead>\n",
       "  <tbody>\n",
       "    <tr>\n",
       "      <th>255784</th>\n",
       "      <td>2017-06-06 16:02:00</td>\n",
       "      <td>2017-06-06 16:33:00</td>\n",
       "      <td>3004</td>\n",
       "      <td>3161</td>\n",
       "      <td>5314</td>\n",
       "      <td>Indego30</td>\n",
       "      <td>Municipal Services Building Plaza</td>\n",
       "      <td>30th Street Station East</td>\n",
       "      <td>39.953781</td>\n",
       "      <td>-75.163742</td>\n",
       "      <td>NaN</td>\n",
       "      <td>NaN</td>\n",
       "    </tr>\n",
       "    <tr>\n",
       "      <th>613438</th>\n",
       "      <td>2017-10-05 08:35:00</td>\n",
       "      <td>2017-10-05 08:47:00</td>\n",
       "      <td>3111</td>\n",
       "      <td>3107</td>\n",
       "      <td>5306</td>\n",
       "      <td>Indego30</td>\n",
       "      <td>Parkside &amp; Belmont, Case Building</td>\n",
       "      <td>33rd &amp; Reservoir</td>\n",
       "      <td>NaN</td>\n",
       "      <td>NaN</td>\n",
       "      <td>39.982029</td>\n",
       "      <td>-75.18866</td>\n",
       "    </tr>\n",
       "    <tr>\n",
       "      <th>613848</th>\n",
       "      <td>2017-10-05 10:31:00</td>\n",
       "      <td>2017-10-05 10:53:00</td>\n",
       "      <td>3095</td>\n",
       "      <td>3111</td>\n",
       "      <td>5329</td>\n",
       "      <td>Indego30</td>\n",
       "      <td>29th &amp; Diamond</td>\n",
       "      <td>Parkside &amp; Belmont, Case Building</td>\n",
       "      <td>39.987709</td>\n",
       "      <td>-75.180519</td>\n",
       "      <td>NaN</td>\n",
       "      <td>NaN</td>\n",
       "    </tr>\n",
       "  </tbody>\n",
       "</table>\n",
       "</div>"
      ],
      "text/plain": [
       "                start_time            end_time  start_station_id  \\\n",
       "255784 2017-06-06 16:02:00 2017-06-06 16:33:00              3004   \n",
       "613438 2017-10-05 08:35:00 2017-10-05 08:47:00              3111   \n",
       "613848 2017-10-05 10:31:00 2017-10-05 10:53:00              3095   \n",
       "\n",
       "        end_station_id  bike_id user_type                 start_station_name  \\\n",
       "255784            3161     5314  Indego30  Municipal Services Building Plaza   \n",
       "613438            3107     5306  Indego30  Parkside & Belmont, Case Building   \n",
       "613848            3111     5329  Indego30                     29th & Diamond   \n",
       "\n",
       "                         end_station_name  start_lat  start_lon    end_lat  \\\n",
       "255784           30th Street Station East  39.953781 -75.163742        NaN   \n",
       "613438                   33rd & Reservoir        NaN        NaN  39.982029   \n",
       "613848  Parkside & Belmont, Case Building  39.987709 -75.180519        NaN   \n",
       "\n",
       "         end_lon  \n",
       "255784       NaN  \n",
       "613438 -75.18866  \n",
       "613848       NaN  "
      ]
     },
     "metadata": {},
     "output_type": "display_data"
    }
   ],
   "source": [
    "#Checking for missing values in philadelphia data\n",
    "display(df_philadelphia_2017_joined[df_philadelphia_2017_joined.isnull().any(axis = 1)])"
   ]
  },
  {
   "cell_type": "code",
   "execution_count": 164,
   "id": "5939aefe",
   "metadata": {},
   "outputs": [],
   "source": [
    "df_philadelphia_2017_joined.dropna(inplace = True)\t"
   ]
  },
  {
   "cell_type": "code",
   "execution_count": 165,
   "id": "13c67255",
   "metadata": {},
   "outputs": [
    {
     "data": {
      "text/html": [
       "<div>\n",
       "<style scoped>\n",
       "    .dataframe tbody tr th:only-of-type {\n",
       "        vertical-align: middle;\n",
       "    }\n",
       "\n",
       "    .dataframe tbody tr th {\n",
       "        vertical-align: top;\n",
       "    }\n",
       "\n",
       "    .dataframe thead th {\n",
       "        text-align: right;\n",
       "    }\n",
       "</style>\n",
       "<table border=\"1\" class=\"dataframe\">\n",
       "  <thead>\n",
       "    <tr style=\"text-align: right;\">\n",
       "      <th></th>\n",
       "      <th>start_time</th>\n",
       "      <th>end_time</th>\n",
       "      <th>start_station_id</th>\n",
       "      <th>end_station_id</th>\n",
       "      <th>bike_id</th>\n",
       "      <th>user_type</th>\n",
       "      <th>start_station_name</th>\n",
       "      <th>end_station_name</th>\n",
       "      <th>start_lat</th>\n",
       "      <th>start_lon</th>\n",
       "      <th>end_lat</th>\n",
       "      <th>end_lon</th>\n",
       "      <th>trip_duration</th>\n",
       "      <th>month</th>\n",
       "      <th>week</th>\n",
       "      <th>weekday</th>\n",
       "      <th>day</th>\n",
       "      <th>hour</th>\n",
       "    </tr>\n",
       "  </thead>\n",
       "  <tbody>\n",
       "    <tr>\n",
       "      <th>0</th>\n",
       "      <td>2017-01-01 00:05:00</td>\n",
       "      <td>2017-01-01 00:16:00</td>\n",
       "      <td>3046</td>\n",
       "      <td>3041</td>\n",
       "      <td>5347</td>\n",
       "      <td>Indego30</td>\n",
       "      <td>2nd &amp; Market</td>\n",
       "      <td>Girard Station, MFL</td>\n",
       "      <td>39.950119</td>\n",
       "      <td>-75.144722</td>\n",
       "      <td>39.968491</td>\n",
       "      <td>-75.135460</td>\n",
       "      <td>0 days 00:11:00</td>\n",
       "      <td>1</td>\n",
       "      <td>52</td>\n",
       "      <td>6</td>\n",
       "      <td>1</td>\n",
       "      <td>0</td>\n",
       "    </tr>\n",
       "    <tr>\n",
       "      <th>1</th>\n",
       "      <td>2017-01-01 00:21:00</td>\n",
       "      <td>2017-01-01 00:57:00</td>\n",
       "      <td>3110</td>\n",
       "      <td>3054</td>\n",
       "      <td>3364</td>\n",
       "      <td>Walk-up</td>\n",
       "      <td>Del. River Trail &amp; Penn St.</td>\n",
       "      <td>Rodin Museum</td>\n",
       "      <td>39.961750</td>\n",
       "      <td>-75.136414</td>\n",
       "      <td>39.962502</td>\n",
       "      <td>-75.174202</td>\n",
       "      <td>0 days 00:36:00</td>\n",
       "      <td>1</td>\n",
       "      <td>52</td>\n",
       "      <td>6</td>\n",
       "      <td>1</td>\n",
       "      <td>0</td>\n",
       "    </tr>\n",
       "    <tr>\n",
       "      <th>2</th>\n",
       "      <td>2017-01-01 00:22:00</td>\n",
       "      <td>2017-01-01 00:57:00</td>\n",
       "      <td>3110</td>\n",
       "      <td>3054</td>\n",
       "      <td>2536</td>\n",
       "      <td>Walk-up</td>\n",
       "      <td>Del. River Trail &amp; Penn St.</td>\n",
       "      <td>Rodin Museum</td>\n",
       "      <td>39.961750</td>\n",
       "      <td>-75.136414</td>\n",
       "      <td>39.962502</td>\n",
       "      <td>-75.174202</td>\n",
       "      <td>0 days 00:35:00</td>\n",
       "      <td>1</td>\n",
       "      <td>52</td>\n",
       "      <td>6</td>\n",
       "      <td>1</td>\n",
       "      <td>0</td>\n",
       "    </tr>\n",
       "    <tr>\n",
       "      <th>3</th>\n",
       "      <td>2017-01-01 00:27:00</td>\n",
       "      <td>2017-01-01 00:39:00</td>\n",
       "      <td>3041</td>\n",
       "      <td>3005</td>\n",
       "      <td>5176</td>\n",
       "      <td>Indego30</td>\n",
       "      <td>Girard Station, MFL</td>\n",
       "      <td>Welcome Park, NPS</td>\n",
       "      <td>39.968491</td>\n",
       "      <td>-75.135460</td>\n",
       "      <td>39.947330</td>\n",
       "      <td>-75.144028</td>\n",
       "      <td>0 days 00:12:00</td>\n",
       "      <td>1</td>\n",
       "      <td>52</td>\n",
       "      <td>6</td>\n",
       "      <td>1</td>\n",
       "      <td>0</td>\n",
       "    </tr>\n",
       "    <tr>\n",
       "      <th>4</th>\n",
       "      <td>2017-01-01 00:28:00</td>\n",
       "      <td>2017-01-01 00:36:00</td>\n",
       "      <td>3047</td>\n",
       "      <td>3124</td>\n",
       "      <td>5370</td>\n",
       "      <td>Walk-up</td>\n",
       "      <td>Independence Mall, NPS</td>\n",
       "      <td>Race Street Pier</td>\n",
       "      <td>39.950710</td>\n",
       "      <td>-75.149208</td>\n",
       "      <td>39.952950</td>\n",
       "      <td>-75.139793</td>\n",
       "      <td>0 days 00:08:00</td>\n",
       "      <td>1</td>\n",
       "      <td>52</td>\n",
       "      <td>6</td>\n",
       "      <td>1</td>\n",
       "      <td>0</td>\n",
       "    </tr>\n",
       "    <tr>\n",
       "      <th>...</th>\n",
       "      <td>...</td>\n",
       "      <td>...</td>\n",
       "      <td>...</td>\n",
       "      <td>...</td>\n",
       "      <td>...</td>\n",
       "      <td>...</td>\n",
       "      <td>...</td>\n",
       "      <td>...</td>\n",
       "      <td>...</td>\n",
       "      <td>...</td>\n",
       "      <td>...</td>\n",
       "      <td>...</td>\n",
       "      <td>...</td>\n",
       "      <td>...</td>\n",
       "      <td>...</td>\n",
       "      <td>...</td>\n",
       "      <td>...</td>\n",
       "      <td>...</td>\n",
       "    </tr>\n",
       "    <tr>\n",
       "      <th>782335</th>\n",
       "      <td>2017-12-31 23:05:00</td>\n",
       "      <td>2017-12-31 23:33:00</td>\n",
       "      <td>3070</td>\n",
       "      <td>3124</td>\n",
       "      <td>3708</td>\n",
       "      <td>Indego30</td>\n",
       "      <td>Spring Garden Station, MFL</td>\n",
       "      <td>Race Street Pier</td>\n",
       "      <td>39.960621</td>\n",
       "      <td>-75.139832</td>\n",
       "      <td>39.952950</td>\n",
       "      <td>-75.139793</td>\n",
       "      <td>0 days 00:28:00</td>\n",
       "      <td>12</td>\n",
       "      <td>52</td>\n",
       "      <td>6</td>\n",
       "      <td>31</td>\n",
       "      <td>23</td>\n",
       "    </tr>\n",
       "    <tr>\n",
       "      <th>782336</th>\n",
       "      <td>2017-12-31 23:11:00</td>\n",
       "      <td>2018-01-01 11:03:00</td>\n",
       "      <td>3107</td>\n",
       "      <td>3165</td>\n",
       "      <td>5117</td>\n",
       "      <td>Indego30</td>\n",
       "      <td>33rd &amp; Reservoir</td>\n",
       "      <td>24th &amp; Race SRT</td>\n",
       "      <td>39.982029</td>\n",
       "      <td>-75.188660</td>\n",
       "      <td>39.958191</td>\n",
       "      <td>-75.178200</td>\n",
       "      <td>0 days 11:52:00</td>\n",
       "      <td>12</td>\n",
       "      <td>52</td>\n",
       "      <td>6</td>\n",
       "      <td>31</td>\n",
       "      <td>23</td>\n",
       "    </tr>\n",
       "    <tr>\n",
       "      <th>782337</th>\n",
       "      <td>2017-12-31 23:18:00</td>\n",
       "      <td>2017-12-31 23:25:00</td>\n",
       "      <td>3033</td>\n",
       "      <td>3046</td>\n",
       "      <td>11933</td>\n",
       "      <td>Indego30</td>\n",
       "      <td>10th &amp; Chestnut</td>\n",
       "      <td>2nd &amp; Market</td>\n",
       "      <td>39.950050</td>\n",
       "      <td>-75.156723</td>\n",
       "      <td>39.950119</td>\n",
       "      <td>-75.144722</td>\n",
       "      <td>0 days 00:07:00</td>\n",
       "      <td>12</td>\n",
       "      <td>52</td>\n",
       "      <td>6</td>\n",
       "      <td>31</td>\n",
       "      <td>23</td>\n",
       "    </tr>\n",
       "    <tr>\n",
       "      <th>782338</th>\n",
       "      <td>2017-12-31 23:39:00</td>\n",
       "      <td>2017-12-31 23:40:00</td>\n",
       "      <td>3163</td>\n",
       "      <td>3163</td>\n",
       "      <td>6725</td>\n",
       "      <td>Indego30</td>\n",
       "      <td>25th &amp; Locust</td>\n",
       "      <td>25th &amp; Locust</td>\n",
       "      <td>39.949741</td>\n",
       "      <td>-75.180969</td>\n",
       "      <td>39.949741</td>\n",
       "      <td>-75.180969</td>\n",
       "      <td>0 days 00:01:00</td>\n",
       "      <td>12</td>\n",
       "      <td>52</td>\n",
       "      <td>6</td>\n",
       "      <td>31</td>\n",
       "      <td>23</td>\n",
       "    </tr>\n",
       "    <tr>\n",
       "      <th>782339</th>\n",
       "      <td>2017-12-31 23:41:00</td>\n",
       "      <td>2017-12-31 23:55:00</td>\n",
       "      <td>3163</td>\n",
       "      <td>3057</td>\n",
       "      <td>11864</td>\n",
       "      <td>Indego30</td>\n",
       "      <td>25th &amp; Locust</td>\n",
       "      <td>Philadelphia Museum of Art</td>\n",
       "      <td>39.949741</td>\n",
       "      <td>-75.180969</td>\n",
       "      <td>39.964581</td>\n",
       "      <td>-75.180031</td>\n",
       "      <td>0 days 00:14:00</td>\n",
       "      <td>12</td>\n",
       "      <td>52</td>\n",
       "      <td>6</td>\n",
       "      <td>31</td>\n",
       "      <td>23</td>\n",
       "    </tr>\n",
       "  </tbody>\n",
       "</table>\n",
       "<p>782337 rows × 18 columns</p>\n",
       "</div>"
      ],
      "text/plain": [
       "                start_time            end_time  start_station_id  \\\n",
       "0      2017-01-01 00:05:00 2017-01-01 00:16:00              3046   \n",
       "1      2017-01-01 00:21:00 2017-01-01 00:57:00              3110   \n",
       "2      2017-01-01 00:22:00 2017-01-01 00:57:00              3110   \n",
       "3      2017-01-01 00:27:00 2017-01-01 00:39:00              3041   \n",
       "4      2017-01-01 00:28:00 2017-01-01 00:36:00              3047   \n",
       "...                    ...                 ...               ...   \n",
       "782335 2017-12-31 23:05:00 2017-12-31 23:33:00              3070   \n",
       "782336 2017-12-31 23:11:00 2018-01-01 11:03:00              3107   \n",
       "782337 2017-12-31 23:18:00 2017-12-31 23:25:00              3033   \n",
       "782338 2017-12-31 23:39:00 2017-12-31 23:40:00              3163   \n",
       "782339 2017-12-31 23:41:00 2017-12-31 23:55:00              3163   \n",
       "\n",
       "        end_station_id  bike_id user_type           start_station_name  \\\n",
       "0                 3041     5347  Indego30                 2nd & Market   \n",
       "1                 3054     3364   Walk-up  Del. River Trail & Penn St.   \n",
       "2                 3054     2536   Walk-up  Del. River Trail & Penn St.   \n",
       "3                 3005     5176  Indego30          Girard Station, MFL   \n",
       "4                 3124     5370   Walk-up       Independence Mall, NPS   \n",
       "...                ...      ...       ...                          ...   \n",
       "782335            3124     3708  Indego30   Spring Garden Station, MFL   \n",
       "782336            3165     5117  Indego30             33rd & Reservoir   \n",
       "782337            3046    11933  Indego30              10th & Chestnut   \n",
       "782338            3163     6725  Indego30                25th & Locust   \n",
       "782339            3057    11864  Indego30                25th & Locust   \n",
       "\n",
       "                  end_station_name  start_lat  start_lon    end_lat  \\\n",
       "0              Girard Station, MFL  39.950119 -75.144722  39.968491   \n",
       "1                     Rodin Museum  39.961750 -75.136414  39.962502   \n",
       "2                     Rodin Museum  39.961750 -75.136414  39.962502   \n",
       "3                Welcome Park, NPS  39.968491 -75.135460  39.947330   \n",
       "4                 Race Street Pier  39.950710 -75.149208  39.952950   \n",
       "...                            ...        ...        ...        ...   \n",
       "782335            Race Street Pier  39.960621 -75.139832  39.952950   \n",
       "782336             24th & Race SRT  39.982029 -75.188660  39.958191   \n",
       "782337                2nd & Market  39.950050 -75.156723  39.950119   \n",
       "782338               25th & Locust  39.949741 -75.180969  39.949741   \n",
       "782339  Philadelphia Museum of Art  39.949741 -75.180969  39.964581   \n",
       "\n",
       "          end_lon   trip_duration  month  week  weekday  day  hour  \n",
       "0      -75.135460 0 days 00:11:00      1    52        6    1     0  \n",
       "1      -75.174202 0 days 00:36:00      1    52        6    1     0  \n",
       "2      -75.174202 0 days 00:35:00      1    52        6    1     0  \n",
       "3      -75.144028 0 days 00:12:00      1    52        6    1     0  \n",
       "4      -75.139793 0 days 00:08:00      1    52        6    1     0  \n",
       "...           ...             ...    ...   ...      ...  ...   ...  \n",
       "782335 -75.139793 0 days 00:28:00     12    52        6   31    23  \n",
       "782336 -75.178200 0 days 11:52:00     12    52        6   31    23  \n",
       "782337 -75.144722 0 days 00:07:00     12    52        6   31    23  \n",
       "782338 -75.180969 0 days 00:01:00     12    52        6   31    23  \n",
       "782339 -75.180031 0 days 00:14:00     12    52        6   31    23  \n",
       "\n",
       "[782337 rows x 18 columns]"
      ]
     },
     "execution_count": 165,
     "metadata": {},
     "output_type": "execute_result"
    }
   ],
   "source": [
    "#Adding hour, month, weekday and trip duration(based on start and end time) to the table\n",
    "df_philadelphia_2017_joined.loc[:,\"trip_duration\"] = df_philadelphia_2017_joined[\"end_time\"] - df_philadelphia_2017_joined[\"start_time\"] \n",
    "df_philadelphia_2017_joined.loc[:,\"month\"] = df_philadelphia_2017_joined[\"start_time\"].dt.month\n",
    "df_philadelphia_2017_joined.loc[:,\"week\"] = df_philadelphia_2017_joined[\"start_time\"].dt.isocalendar().week\n",
    "df_philadelphia_2017_joined.loc[:,\"weekday\"] = df_philadelphia_2017_joined[\"start_time\"].dt.weekday\n",
    "df_philadelphia_2017_joined.loc[:,\"day\"] = df_philadelphia_2017_joined[\"start_time\"].dt.day\n",
    "df_philadelphia_2017_joined.loc[:,\"hour\"] = df_philadelphia_2017_joined[\"start_time\"].dt.hour\n",
    "df_philadelphia_2017_joined"
   ]
  },
  {
   "cell_type": "markdown",
   "id": "749dddd8",
   "metadata": {},
   "source": [
    "We also remove trips which are shorter than one minute and longer than one day because the bike sharing service does not allow those trips normally."
   ]
  },
  {
   "cell_type": "code",
   "execution_count": 166,
   "id": "2b910fcf",
   "metadata": {
    "scrolled": true
   },
   "outputs": [
    {
     "data": {
      "text/html": [
       "<div>\n",
       "<style scoped>\n",
       "    .dataframe tbody tr th:only-of-type {\n",
       "        vertical-align: middle;\n",
       "    }\n",
       "\n",
       "    .dataframe tbody tr th {\n",
       "        vertical-align: top;\n",
       "    }\n",
       "\n",
       "    .dataframe thead th {\n",
       "        text-align: right;\n",
       "    }\n",
       "</style>\n",
       "<table border=\"1\" class=\"dataframe\">\n",
       "  <thead>\n",
       "    <tr style=\"text-align: right;\">\n",
       "      <th></th>\n",
       "      <th>start_time</th>\n",
       "      <th>end_time</th>\n",
       "      <th>start_station_id</th>\n",
       "      <th>end_station_id</th>\n",
       "      <th>bike_id</th>\n",
       "      <th>user_type</th>\n",
       "      <th>start_station_name</th>\n",
       "      <th>end_station_name</th>\n",
       "      <th>start_lat</th>\n",
       "      <th>start_lon</th>\n",
       "      <th>end_lat</th>\n",
       "      <th>end_lon</th>\n",
       "      <th>trip_duration</th>\n",
       "      <th>month</th>\n",
       "      <th>week</th>\n",
       "      <th>weekday</th>\n",
       "      <th>day</th>\n",
       "      <th>hour</th>\n",
       "    </tr>\n",
       "  </thead>\n",
       "  <tbody>\n",
       "    <tr>\n",
       "      <th>699155</th>\n",
       "      <td>2017-11-05 01:35:00</td>\n",
       "      <td>2017-11-05 01:03:00</td>\n",
       "      <td>3118</td>\n",
       "      <td>3111</td>\n",
       "      <td>6694</td>\n",
       "      <td>Indego30</td>\n",
       "      <td>46th Street Station, MFL</td>\n",
       "      <td>Parkside &amp; Belmont, Case Building</td>\n",
       "      <td>39.958660</td>\n",
       "      <td>-75.213226</td>\n",
       "      <td>39.977791</td>\n",
       "      <td>-75.213226</td>\n",
       "      <td>-1 days +23:28:00</td>\n",
       "      <td>11</td>\n",
       "      <td>44</td>\n",
       "      <td>6</td>\n",
       "      <td>5</td>\n",
       "      <td>1</td>\n",
       "    </tr>\n",
       "    <tr>\n",
       "      <th>699158</th>\n",
       "      <td>2017-11-05 01:39:00</td>\n",
       "      <td>2017-11-05 01:35:00</td>\n",
       "      <td>3066</td>\n",
       "      <td>3066</td>\n",
       "      <td>2551</td>\n",
       "      <td>Indego30</td>\n",
       "      <td>19th &amp; Lombard</td>\n",
       "      <td>19th &amp; Lombard</td>\n",
       "      <td>39.945610</td>\n",
       "      <td>-75.173477</td>\n",
       "      <td>39.945610</td>\n",
       "      <td>-75.173477</td>\n",
       "      <td>-1 days +23:56:00</td>\n",
       "      <td>11</td>\n",
       "      <td>44</td>\n",
       "      <td>6</td>\n",
       "      <td>5</td>\n",
       "      <td>1</td>\n",
       "    </tr>\n",
       "    <tr>\n",
       "      <th>699163</th>\n",
       "      <td>2017-11-05 01:51:00</td>\n",
       "      <td>2017-11-05 01:20:00</td>\n",
       "      <td>3157</td>\n",
       "      <td>3041</td>\n",
       "      <td>11750</td>\n",
       "      <td>Indego30</td>\n",
       "      <td>8th &amp; Mifflin, Bok Building</td>\n",
       "      <td>Girard Station, MFL</td>\n",
       "      <td>39.925449</td>\n",
       "      <td>-75.159538</td>\n",
       "      <td>39.968491</td>\n",
       "      <td>-75.135460</td>\n",
       "      <td>-1 days +23:29:00</td>\n",
       "      <td>11</td>\n",
       "      <td>44</td>\n",
       "      <td>6</td>\n",
       "      <td>5</td>\n",
       "      <td>1</td>\n",
       "    </tr>\n",
       "  </tbody>\n",
       "</table>\n",
       "</div>"
      ],
      "text/plain": [
       "                start_time            end_time  start_station_id  \\\n",
       "699155 2017-11-05 01:35:00 2017-11-05 01:03:00              3118   \n",
       "699158 2017-11-05 01:39:00 2017-11-05 01:35:00              3066   \n",
       "699163 2017-11-05 01:51:00 2017-11-05 01:20:00              3157   \n",
       "\n",
       "        end_station_id  bike_id user_type           start_station_name  \\\n",
       "699155            3111     6694  Indego30     46th Street Station, MFL   \n",
       "699158            3066     2551  Indego30               19th & Lombard   \n",
       "699163            3041    11750  Indego30  8th & Mifflin, Bok Building   \n",
       "\n",
       "                         end_station_name  start_lat  start_lon    end_lat  \\\n",
       "699155  Parkside & Belmont, Case Building  39.958660 -75.213226  39.977791   \n",
       "699158                     19th & Lombard  39.945610 -75.173477  39.945610   \n",
       "699163                Girard Station, MFL  39.925449 -75.159538  39.968491   \n",
       "\n",
       "          end_lon     trip_duration  month  week  weekday  day  hour  \n",
       "699155 -75.213226 -1 days +23:28:00     11    44        6    5     1  \n",
       "699158 -75.173477 -1 days +23:56:00     11    44        6    5     1  \n",
       "699163 -75.135460 -1 days +23:29:00     11    44        6    5     1  "
      ]
     },
     "execution_count": 166,
     "metadata": {},
     "output_type": "execute_result"
    }
   ],
   "source": [
    "df_philadelphia_2017_joined[df_philadelphia_2017_joined[\"trip_duration\"] < \"0 days 00:01:00\"]"
   ]
  },
  {
   "cell_type": "code",
   "execution_count": 167,
   "id": "8eeee351",
   "metadata": {},
   "outputs": [
    {
     "data": {
      "text/html": [
       "<div>\n",
       "<style scoped>\n",
       "    .dataframe tbody tr th:only-of-type {\n",
       "        vertical-align: middle;\n",
       "    }\n",
       "\n",
       "    .dataframe tbody tr th {\n",
       "        vertical-align: top;\n",
       "    }\n",
       "\n",
       "    .dataframe thead th {\n",
       "        text-align: right;\n",
       "    }\n",
       "</style>\n",
       "<table border=\"1\" class=\"dataframe\">\n",
       "  <thead>\n",
       "    <tr style=\"text-align: right;\">\n",
       "      <th></th>\n",
       "      <th>start_time</th>\n",
       "      <th>end_time</th>\n",
       "      <th>start_station_id</th>\n",
       "      <th>end_station_id</th>\n",
       "      <th>bike_id</th>\n",
       "      <th>user_type</th>\n",
       "      <th>start_station_name</th>\n",
       "      <th>end_station_name</th>\n",
       "      <th>start_lat</th>\n",
       "      <th>start_lon</th>\n",
       "      <th>end_lat</th>\n",
       "      <th>end_lon</th>\n",
       "      <th>trip_duration</th>\n",
       "      <th>month</th>\n",
       "      <th>week</th>\n",
       "      <th>weekday</th>\n",
       "      <th>day</th>\n",
       "      <th>hour</th>\n",
       "    </tr>\n",
       "  </thead>\n",
       "  <tbody>\n",
       "  </tbody>\n",
       "</table>\n",
       "</div>"
      ],
      "text/plain": [
       "Empty DataFrame\n",
       "Columns: [start_time, end_time, start_station_id, end_station_id, bike_id, user_type, start_station_name, end_station_name, start_lat, start_lon, end_lat, end_lon, trip_duration, month, week, weekday, day, hour]\n",
       "Index: []"
      ]
     },
     "execution_count": 167,
     "metadata": {},
     "output_type": "execute_result"
    }
   ],
   "source": [
    "df_philadelphia_2017_joined = df_philadelphia_2017_joined[df_philadelphia_2017_joined[\"trip_duration\"] >= \"0 days 00:01:00\"]\n",
    "df_philadelphia_2017_joined[df_philadelphia_2017_joined[\"trip_duration\"] < \"0 days 00:01:00\"]"
   ]
  },
  {
   "cell_type": "code",
   "execution_count": 168,
   "id": "469c3e8d",
   "metadata": {
    "scrolled": true
   },
   "outputs": [
    {
     "data": {
      "text/html": [
       "<div>\n",
       "<style scoped>\n",
       "    .dataframe tbody tr th:only-of-type {\n",
       "        vertical-align: middle;\n",
       "    }\n",
       "\n",
       "    .dataframe tbody tr th {\n",
       "        vertical-align: top;\n",
       "    }\n",
       "\n",
       "    .dataframe thead th {\n",
       "        text-align: right;\n",
       "    }\n",
       "</style>\n",
       "<table border=\"1\" class=\"dataframe\">\n",
       "  <thead>\n",
       "    <tr style=\"text-align: right;\">\n",
       "      <th></th>\n",
       "      <th>start_time</th>\n",
       "      <th>end_time</th>\n",
       "      <th>start_station_id</th>\n",
       "      <th>end_station_id</th>\n",
       "      <th>bike_id</th>\n",
       "      <th>user_type</th>\n",
       "      <th>start_station_name</th>\n",
       "      <th>end_station_name</th>\n",
       "      <th>start_lat</th>\n",
       "      <th>start_lon</th>\n",
       "      <th>end_lat</th>\n",
       "      <th>end_lon</th>\n",
       "      <th>trip_duration</th>\n",
       "      <th>month</th>\n",
       "      <th>week</th>\n",
       "      <th>weekday</th>\n",
       "      <th>day</th>\n",
       "      <th>hour</th>\n",
       "    </tr>\n",
       "  </thead>\n",
       "  <tbody>\n",
       "    <tr>\n",
       "      <th>682</th>\n",
       "      <td>2017-01-01 18:19:00</td>\n",
       "      <td>2017-01-03 08:04:00</td>\n",
       "      <td>3072</td>\n",
       "      <td>3125</td>\n",
       "      <td>5354</td>\n",
       "      <td>Walk-up</td>\n",
       "      <td>Front &amp; Carpenter</td>\n",
       "      <td>15th &amp; South</td>\n",
       "      <td>39.934448</td>\n",
       "      <td>-75.145409</td>\n",
       "      <td>39.943909</td>\n",
       "      <td>-75.167351</td>\n",
       "      <td>1 days 13:45:00</td>\n",
       "      <td>1</td>\n",
       "      <td>52</td>\n",
       "      <td>6</td>\n",
       "      <td>1</td>\n",
       "      <td>18</td>\n",
       "    </tr>\n",
       "    <tr>\n",
       "      <th>20987</th>\n",
       "      <td>2017-01-23 15:19:00</td>\n",
       "      <td>2017-01-24 16:14:00</td>\n",
       "      <td>3038</td>\n",
       "      <td>3028</td>\n",
       "      <td>2492</td>\n",
       "      <td>Indego30</td>\n",
       "      <td>The Children's Hospital of Philadelphia (CHOP)</td>\n",
       "      <td>4th &amp; Bainbridge</td>\n",
       "      <td>39.947811</td>\n",
       "      <td>-75.194092</td>\n",
       "      <td>39.940609</td>\n",
       "      <td>-75.149582</td>\n",
       "      <td>1 days 00:55:00</td>\n",
       "      <td>1</td>\n",
       "      <td>4</td>\n",
       "      <td>0</td>\n",
       "      <td>23</td>\n",
       "      <td>15</td>\n",
       "    </tr>\n",
       "    <tr>\n",
       "      <th>24873</th>\n",
       "      <td>2017-01-26 17:31:00</td>\n",
       "      <td>2017-01-28 10:00:00</td>\n",
       "      <td>3021</td>\n",
       "      <td>3109</td>\n",
       "      <td>5185</td>\n",
       "      <td>Indego30</td>\n",
       "      <td>18th &amp; JFK</td>\n",
       "      <td>Parkside &amp; Girard</td>\n",
       "      <td>39.953899</td>\n",
       "      <td>-75.169022</td>\n",
       "      <td>39.974861</td>\n",
       "      <td>-75.205238</td>\n",
       "      <td>1 days 16:29:00</td>\n",
       "      <td>1</td>\n",
       "      <td>4</td>\n",
       "      <td>3</td>\n",
       "      <td>26</td>\n",
       "      <td>17</td>\n",
       "    </tr>\n",
       "    <tr>\n",
       "      <th>27216</th>\n",
       "      <td>2017-01-28 15:46:00</td>\n",
       "      <td>2017-01-30 08:01:00</td>\n",
       "      <td>3012</td>\n",
       "      <td>3034</td>\n",
       "      <td>5255</td>\n",
       "      <td>Walk-up</td>\n",
       "      <td>21st &amp; Catharine</td>\n",
       "      <td>11th &amp; Reed</td>\n",
       "      <td>39.942181</td>\n",
       "      <td>-75.177467</td>\n",
       "      <td>39.933151</td>\n",
       "      <td>-75.162483</td>\n",
       "      <td>1 days 16:15:00</td>\n",
       "      <td>1</td>\n",
       "      <td>4</td>\n",
       "      <td>5</td>\n",
       "      <td>28</td>\n",
       "      <td>15</td>\n",
       "    </tr>\n",
       "    <tr>\n",
       "      <th>32762</th>\n",
       "      <td>2017-02-02 09:45:00</td>\n",
       "      <td>2017-02-03 17:59:00</td>\n",
       "      <td>3054</td>\n",
       "      <td>3021</td>\n",
       "      <td>5125</td>\n",
       "      <td>Indego30</td>\n",
       "      <td>Rodin Museum</td>\n",
       "      <td>18th &amp; JFK</td>\n",
       "      <td>39.962502</td>\n",
       "      <td>-75.174202</td>\n",
       "      <td>39.953899</td>\n",
       "      <td>-75.169022</td>\n",
       "      <td>1 days 08:14:00</td>\n",
       "      <td>2</td>\n",
       "      <td>5</td>\n",
       "      <td>3</td>\n",
       "      <td>2</td>\n",
       "      <td>9</td>\n",
       "    </tr>\n",
       "    <tr>\n",
       "      <th>...</th>\n",
       "      <td>...</td>\n",
       "      <td>...</td>\n",
       "      <td>...</td>\n",
       "      <td>...</td>\n",
       "      <td>...</td>\n",
       "      <td>...</td>\n",
       "      <td>...</td>\n",
       "      <td>...</td>\n",
       "      <td>...</td>\n",
       "      <td>...</td>\n",
       "      <td>...</td>\n",
       "      <td>...</td>\n",
       "      <td>...</td>\n",
       "      <td>...</td>\n",
       "      <td>...</td>\n",
       "      <td>...</td>\n",
       "      <td>...</td>\n",
       "      <td>...</td>\n",
       "    </tr>\n",
       "    <tr>\n",
       "      <th>735895</th>\n",
       "      <td>2017-11-25 12:12:00</td>\n",
       "      <td>2017-11-27 07:31:00</td>\n",
       "      <td>3112</td>\n",
       "      <td>3020</td>\n",
       "      <td>11894</td>\n",
       "      <td>Indego30</td>\n",
       "      <td>48th &amp; Spruce</td>\n",
       "      <td>University City Station</td>\n",
       "      <td>39.953732</td>\n",
       "      <td>-75.218246</td>\n",
       "      <td>39.949219</td>\n",
       "      <td>-75.190361</td>\n",
       "      <td>1 days 19:19:00</td>\n",
       "      <td>11</td>\n",
       "      <td>47</td>\n",
       "      <td>5</td>\n",
       "      <td>25</td>\n",
       "      <td>12</td>\n",
       "    </tr>\n",
       "    <tr>\n",
       "      <th>749711</th>\n",
       "      <td>2017-12-02 13:00:00</td>\n",
       "      <td>2017-12-03 14:12:00</td>\n",
       "      <td>3040</td>\n",
       "      <td>3073</td>\n",
       "      <td>11928</td>\n",
       "      <td>Walk-up</td>\n",
       "      <td>17th &amp; Spring Garden</td>\n",
       "      <td>9th &amp; Spring Garden</td>\n",
       "      <td>39.962891</td>\n",
       "      <td>-75.166061</td>\n",
       "      <td>39.961430</td>\n",
       "      <td>-75.152420</td>\n",
       "      <td>1 days 01:12:00</td>\n",
       "      <td>12</td>\n",
       "      <td>48</td>\n",
       "      <td>5</td>\n",
       "      <td>2</td>\n",
       "      <td>13</td>\n",
       "    </tr>\n",
       "    <tr>\n",
       "      <th>763091</th>\n",
       "      <td>2017-12-11 11:46:00</td>\n",
       "      <td>2017-12-12 13:15:00</td>\n",
       "      <td>3018</td>\n",
       "      <td>3037</td>\n",
       "      <td>3367</td>\n",
       "      <td>Indego30</td>\n",
       "      <td>12th &amp; Filbert</td>\n",
       "      <td>Pennsylvania Convention Center</td>\n",
       "      <td>39.952728</td>\n",
       "      <td>-75.159790</td>\n",
       "      <td>39.954239</td>\n",
       "      <td>-75.161377</td>\n",
       "      <td>1 days 01:29:00</td>\n",
       "      <td>12</td>\n",
       "      <td>50</td>\n",
       "      <td>0</td>\n",
       "      <td>11</td>\n",
       "      <td>11</td>\n",
       "    </tr>\n",
       "    <tr>\n",
       "      <th>768955</th>\n",
       "      <td>2017-12-15 19:27:00</td>\n",
       "      <td>2017-12-17 16:32:00</td>\n",
       "      <td>3026</td>\n",
       "      <td>3072</td>\n",
       "      <td>11932</td>\n",
       "      <td>Indego30</td>\n",
       "      <td>2nd &amp; South</td>\n",
       "      <td>Front &amp; Carpenter</td>\n",
       "      <td>39.941380</td>\n",
       "      <td>-75.145638</td>\n",
       "      <td>39.934448</td>\n",
       "      <td>-75.145409</td>\n",
       "      <td>1 days 21:05:00</td>\n",
       "      <td>12</td>\n",
       "      <td>50</td>\n",
       "      <td>4</td>\n",
       "      <td>15</td>\n",
       "      <td>19</td>\n",
       "    </tr>\n",
       "    <tr>\n",
       "      <th>769501</th>\n",
       "      <td>2017-12-17 00:31:00</td>\n",
       "      <td>2017-12-18 13:17:00</td>\n",
       "      <td>3088</td>\n",
       "      <td>3070</td>\n",
       "      <td>11727</td>\n",
       "      <td>Walk-up</td>\n",
       "      <td>3rd &amp; Girard</td>\n",
       "      <td>Spring Garden Station, MFL</td>\n",
       "      <td>39.969841</td>\n",
       "      <td>-75.141800</td>\n",
       "      <td>39.960621</td>\n",
       "      <td>-75.139832</td>\n",
       "      <td>1 days 12:46:00</td>\n",
       "      <td>12</td>\n",
       "      <td>50</td>\n",
       "      <td>6</td>\n",
       "      <td>17</td>\n",
       "      <td>0</td>\n",
       "    </tr>\n",
       "  </tbody>\n",
       "</table>\n",
       "<p>109 rows × 18 columns</p>\n",
       "</div>"
      ],
      "text/plain": [
       "                start_time            end_time  start_station_id  \\\n",
       "682    2017-01-01 18:19:00 2017-01-03 08:04:00              3072   \n",
       "20987  2017-01-23 15:19:00 2017-01-24 16:14:00              3038   \n",
       "24873  2017-01-26 17:31:00 2017-01-28 10:00:00              3021   \n",
       "27216  2017-01-28 15:46:00 2017-01-30 08:01:00              3012   \n",
       "32762  2017-02-02 09:45:00 2017-02-03 17:59:00              3054   \n",
       "...                    ...                 ...               ...   \n",
       "735895 2017-11-25 12:12:00 2017-11-27 07:31:00              3112   \n",
       "749711 2017-12-02 13:00:00 2017-12-03 14:12:00              3040   \n",
       "763091 2017-12-11 11:46:00 2017-12-12 13:15:00              3018   \n",
       "768955 2017-12-15 19:27:00 2017-12-17 16:32:00              3026   \n",
       "769501 2017-12-17 00:31:00 2017-12-18 13:17:00              3088   \n",
       "\n",
       "        end_station_id  bike_id user_type  \\\n",
       "682               3125     5354   Walk-up   \n",
       "20987             3028     2492  Indego30   \n",
       "24873             3109     5185  Indego30   \n",
       "27216             3034     5255   Walk-up   \n",
       "32762             3021     5125  Indego30   \n",
       "...                ...      ...       ...   \n",
       "735895            3020    11894  Indego30   \n",
       "749711            3073    11928   Walk-up   \n",
       "763091            3037     3367  Indego30   \n",
       "768955            3072    11932  Indego30   \n",
       "769501            3070    11727   Walk-up   \n",
       "\n",
       "                                    start_station_name  \\\n",
       "682                                  Front & Carpenter   \n",
       "20987   The Children's Hospital of Philadelphia (CHOP)   \n",
       "24873                                       18th & JFK   \n",
       "27216                                 21st & Catharine   \n",
       "32762                                     Rodin Museum   \n",
       "...                                                ...   \n",
       "735895                                   48th & Spruce   \n",
       "749711                            17th & Spring Garden   \n",
       "763091                                  12th & Filbert   \n",
       "768955                                     2nd & South   \n",
       "769501                                    3rd & Girard   \n",
       "\n",
       "                      end_station_name  start_lat  start_lon    end_lat  \\\n",
       "682                       15th & South  39.934448 -75.145409  39.943909   \n",
       "20987                 4th & Bainbridge  39.947811 -75.194092  39.940609   \n",
       "24873                Parkside & Girard  39.953899 -75.169022  39.974861   \n",
       "27216                      11th & Reed  39.942181 -75.177467  39.933151   \n",
       "32762                       18th & JFK  39.962502 -75.174202  39.953899   \n",
       "...                                ...        ...        ...        ...   \n",
       "735895         University City Station  39.953732 -75.218246  39.949219   \n",
       "749711             9th & Spring Garden  39.962891 -75.166061  39.961430   \n",
       "763091  Pennsylvania Convention Center  39.952728 -75.159790  39.954239   \n",
       "768955               Front & Carpenter  39.941380 -75.145638  39.934448   \n",
       "769501      Spring Garden Station, MFL  39.969841 -75.141800  39.960621   \n",
       "\n",
       "          end_lon   trip_duration  month  week  weekday  day  hour  \n",
       "682    -75.167351 1 days 13:45:00      1    52        6    1    18  \n",
       "20987  -75.149582 1 days 00:55:00      1     4        0   23    15  \n",
       "24873  -75.205238 1 days 16:29:00      1     4        3   26    17  \n",
       "27216  -75.162483 1 days 16:15:00      1     4        5   28    15  \n",
       "32762  -75.169022 1 days 08:14:00      2     5        3    2     9  \n",
       "...           ...             ...    ...   ...      ...  ...   ...  \n",
       "735895 -75.190361 1 days 19:19:00     11    47        5   25    12  \n",
       "749711 -75.152420 1 days 01:12:00     12    48        5    2    13  \n",
       "763091 -75.161377 1 days 01:29:00     12    50        0   11    11  \n",
       "768955 -75.145409 1 days 21:05:00     12    50        4   15    19  \n",
       "769501 -75.139832 1 days 12:46:00     12    50        6   17     0  \n",
       "\n",
       "[109 rows x 18 columns]"
      ]
     },
     "execution_count": 168,
     "metadata": {},
     "output_type": "execute_result"
    }
   ],
   "source": [
    "df_philadelphia_2017_joined[df_philadelphia_2017_joined[\"trip_duration\"] > \"1 days\"]"
   ]
  },
  {
   "cell_type": "code",
   "execution_count": 169,
   "id": "5ac25b06",
   "metadata": {},
   "outputs": [
    {
     "data": {
      "text/html": [
       "<div>\n",
       "<style scoped>\n",
       "    .dataframe tbody tr th:only-of-type {\n",
       "        vertical-align: middle;\n",
       "    }\n",
       "\n",
       "    .dataframe tbody tr th {\n",
       "        vertical-align: top;\n",
       "    }\n",
       "\n",
       "    .dataframe thead th {\n",
       "        text-align: right;\n",
       "    }\n",
       "</style>\n",
       "<table border=\"1\" class=\"dataframe\">\n",
       "  <thead>\n",
       "    <tr style=\"text-align: right;\">\n",
       "      <th></th>\n",
       "      <th>start_time</th>\n",
       "      <th>end_time</th>\n",
       "      <th>start_station_id</th>\n",
       "      <th>end_station_id</th>\n",
       "      <th>bike_id</th>\n",
       "      <th>user_type</th>\n",
       "      <th>start_station_name</th>\n",
       "      <th>end_station_name</th>\n",
       "      <th>start_lat</th>\n",
       "      <th>start_lon</th>\n",
       "      <th>end_lat</th>\n",
       "      <th>end_lon</th>\n",
       "      <th>trip_duration</th>\n",
       "      <th>month</th>\n",
       "      <th>week</th>\n",
       "      <th>weekday</th>\n",
       "      <th>day</th>\n",
       "      <th>hour</th>\n",
       "    </tr>\n",
       "  </thead>\n",
       "  <tbody>\n",
       "  </tbody>\n",
       "</table>\n",
       "</div>"
      ],
      "text/plain": [
       "Empty DataFrame\n",
       "Columns: [start_time, end_time, start_station_id, end_station_id, bike_id, user_type, start_station_name, end_station_name, start_lat, start_lon, end_lat, end_lon, trip_duration, month, week, weekday, day, hour]\n",
       "Index: []"
      ]
     },
     "execution_count": 169,
     "metadata": {},
     "output_type": "execute_result"
    }
   ],
   "source": [
    "df_philadelphia_2017_joined = df_philadelphia_2017_joined[df_philadelphia_2017_joined[\"trip_duration\"] <= \"1 days\"]\n",
    "df_philadelphia_2017_joined[df_philadelphia_2017_joined[\"trip_duration\"] > \"1 days\"]"
   ]
  },
  {
   "cell_type": "code",
   "execution_count": 170,
   "id": "b3d361ba",
   "metadata": {},
   "outputs": [
    {
     "data": {
      "text/html": [
       "<div>\n",
       "<style scoped>\n",
       "    .dataframe tbody tr th:only-of-type {\n",
       "        vertical-align: middle;\n",
       "    }\n",
       "\n",
       "    .dataframe tbody tr th {\n",
       "        vertical-align: top;\n",
       "    }\n",
       "\n",
       "    .dataframe thead th {\n",
       "        text-align: right;\n",
       "    }\n",
       "</style>\n",
       "<table border=\"1\" class=\"dataframe\">\n",
       "  <thead>\n",
       "    <tr style=\"text-align: right;\">\n",
       "      <th></th>\n",
       "      <th>start_time</th>\n",
       "      <th>end_time</th>\n",
       "      <th>start_station_id</th>\n",
       "      <th>end_station_id</th>\n",
       "      <th>bike_id</th>\n",
       "      <th>user_type</th>\n",
       "      <th>start_station_name</th>\n",
       "      <th>end_station_name</th>\n",
       "      <th>start_lat</th>\n",
       "      <th>start_lon</th>\n",
       "      <th>end_lat</th>\n",
       "      <th>end_lon</th>\n",
       "      <th>trip_duration</th>\n",
       "      <th>month</th>\n",
       "      <th>week</th>\n",
       "      <th>weekday</th>\n",
       "      <th>day</th>\n",
       "      <th>hour</th>\n",
       "    </tr>\n",
       "  </thead>\n",
       "  <tbody>\n",
       "    <tr>\n",
       "      <th>0</th>\n",
       "      <td>2017-01-01 00:05:00</td>\n",
       "      <td>2017-01-01 00:16:00</td>\n",
       "      <td>3046</td>\n",
       "      <td>3041</td>\n",
       "      <td>5347</td>\n",
       "      <td>Indego30</td>\n",
       "      <td>2nd &amp; Market</td>\n",
       "      <td>Girard Station, MFL</td>\n",
       "      <td>39.950119</td>\n",
       "      <td>-75.144722</td>\n",
       "      <td>39.968491</td>\n",
       "      <td>-75.135460</td>\n",
       "      <td>0 days 00:11:00</td>\n",
       "      <td>1</td>\n",
       "      <td>52</td>\n",
       "      <td>6</td>\n",
       "      <td>1</td>\n",
       "      <td>0</td>\n",
       "    </tr>\n",
       "    <tr>\n",
       "      <th>1</th>\n",
       "      <td>2017-01-01 00:21:00</td>\n",
       "      <td>2017-01-01 00:57:00</td>\n",
       "      <td>3110</td>\n",
       "      <td>3054</td>\n",
       "      <td>3364</td>\n",
       "      <td>Walk-up</td>\n",
       "      <td>Del. River Trail &amp; Penn St.</td>\n",
       "      <td>Rodin Museum</td>\n",
       "      <td>39.961750</td>\n",
       "      <td>-75.136414</td>\n",
       "      <td>39.962502</td>\n",
       "      <td>-75.174202</td>\n",
       "      <td>0 days 00:36:00</td>\n",
       "      <td>1</td>\n",
       "      <td>52</td>\n",
       "      <td>6</td>\n",
       "      <td>1</td>\n",
       "      <td>0</td>\n",
       "    </tr>\n",
       "    <tr>\n",
       "      <th>2</th>\n",
       "      <td>2017-01-01 00:22:00</td>\n",
       "      <td>2017-01-01 00:57:00</td>\n",
       "      <td>3110</td>\n",
       "      <td>3054</td>\n",
       "      <td>2536</td>\n",
       "      <td>Walk-up</td>\n",
       "      <td>Del. River Trail &amp; Penn St.</td>\n",
       "      <td>Rodin Museum</td>\n",
       "      <td>39.961750</td>\n",
       "      <td>-75.136414</td>\n",
       "      <td>39.962502</td>\n",
       "      <td>-75.174202</td>\n",
       "      <td>0 days 00:35:00</td>\n",
       "      <td>1</td>\n",
       "      <td>52</td>\n",
       "      <td>6</td>\n",
       "      <td>1</td>\n",
       "      <td>0</td>\n",
       "    </tr>\n",
       "    <tr>\n",
       "      <th>3</th>\n",
       "      <td>2017-01-01 00:27:00</td>\n",
       "      <td>2017-01-01 00:39:00</td>\n",
       "      <td>3041</td>\n",
       "      <td>3005</td>\n",
       "      <td>5176</td>\n",
       "      <td>Indego30</td>\n",
       "      <td>Girard Station, MFL</td>\n",
       "      <td>Welcome Park, NPS</td>\n",
       "      <td>39.968491</td>\n",
       "      <td>-75.135460</td>\n",
       "      <td>39.947330</td>\n",
       "      <td>-75.144028</td>\n",
       "      <td>0 days 00:12:00</td>\n",
       "      <td>1</td>\n",
       "      <td>52</td>\n",
       "      <td>6</td>\n",
       "      <td>1</td>\n",
       "      <td>0</td>\n",
       "    </tr>\n",
       "    <tr>\n",
       "      <th>4</th>\n",
       "      <td>2017-01-01 00:28:00</td>\n",
       "      <td>2017-01-01 00:36:00</td>\n",
       "      <td>3047</td>\n",
       "      <td>3124</td>\n",
       "      <td>5370</td>\n",
       "      <td>Walk-up</td>\n",
       "      <td>Independence Mall, NPS</td>\n",
       "      <td>Race Street Pier</td>\n",
       "      <td>39.950710</td>\n",
       "      <td>-75.149208</td>\n",
       "      <td>39.952950</td>\n",
       "      <td>-75.139793</td>\n",
       "      <td>0 days 00:08:00</td>\n",
       "      <td>1</td>\n",
       "      <td>52</td>\n",
       "      <td>6</td>\n",
       "      <td>1</td>\n",
       "      <td>0</td>\n",
       "    </tr>\n",
       "    <tr>\n",
       "      <th>...</th>\n",
       "      <td>...</td>\n",
       "      <td>...</td>\n",
       "      <td>...</td>\n",
       "      <td>...</td>\n",
       "      <td>...</td>\n",
       "      <td>...</td>\n",
       "      <td>...</td>\n",
       "      <td>...</td>\n",
       "      <td>...</td>\n",
       "      <td>...</td>\n",
       "      <td>...</td>\n",
       "      <td>...</td>\n",
       "      <td>...</td>\n",
       "      <td>...</td>\n",
       "      <td>...</td>\n",
       "      <td>...</td>\n",
       "      <td>...</td>\n",
       "      <td>...</td>\n",
       "    </tr>\n",
       "    <tr>\n",
       "      <th>782335</th>\n",
       "      <td>2017-12-31 23:05:00</td>\n",
       "      <td>2017-12-31 23:33:00</td>\n",
       "      <td>3070</td>\n",
       "      <td>3124</td>\n",
       "      <td>3708</td>\n",
       "      <td>Indego30</td>\n",
       "      <td>Spring Garden Station, MFL</td>\n",
       "      <td>Race Street Pier</td>\n",
       "      <td>39.960621</td>\n",
       "      <td>-75.139832</td>\n",
       "      <td>39.952950</td>\n",
       "      <td>-75.139793</td>\n",
       "      <td>0 days 00:28:00</td>\n",
       "      <td>12</td>\n",
       "      <td>52</td>\n",
       "      <td>6</td>\n",
       "      <td>31</td>\n",
       "      <td>23</td>\n",
       "    </tr>\n",
       "    <tr>\n",
       "      <th>782336</th>\n",
       "      <td>2017-12-31 23:11:00</td>\n",
       "      <td>2018-01-01 11:03:00</td>\n",
       "      <td>3107</td>\n",
       "      <td>3165</td>\n",
       "      <td>5117</td>\n",
       "      <td>Indego30</td>\n",
       "      <td>33rd &amp; Reservoir</td>\n",
       "      <td>24th &amp; Race SRT</td>\n",
       "      <td>39.982029</td>\n",
       "      <td>-75.188660</td>\n",
       "      <td>39.958191</td>\n",
       "      <td>-75.178200</td>\n",
       "      <td>0 days 11:52:00</td>\n",
       "      <td>12</td>\n",
       "      <td>52</td>\n",
       "      <td>6</td>\n",
       "      <td>31</td>\n",
       "      <td>23</td>\n",
       "    </tr>\n",
       "    <tr>\n",
       "      <th>782337</th>\n",
       "      <td>2017-12-31 23:18:00</td>\n",
       "      <td>2017-12-31 23:25:00</td>\n",
       "      <td>3033</td>\n",
       "      <td>3046</td>\n",
       "      <td>11933</td>\n",
       "      <td>Indego30</td>\n",
       "      <td>10th &amp; Chestnut</td>\n",
       "      <td>2nd &amp; Market</td>\n",
       "      <td>39.950050</td>\n",
       "      <td>-75.156723</td>\n",
       "      <td>39.950119</td>\n",
       "      <td>-75.144722</td>\n",
       "      <td>0 days 00:07:00</td>\n",
       "      <td>12</td>\n",
       "      <td>52</td>\n",
       "      <td>6</td>\n",
       "      <td>31</td>\n",
       "      <td>23</td>\n",
       "    </tr>\n",
       "    <tr>\n",
       "      <th>782338</th>\n",
       "      <td>2017-12-31 23:39:00</td>\n",
       "      <td>2017-12-31 23:40:00</td>\n",
       "      <td>3163</td>\n",
       "      <td>3163</td>\n",
       "      <td>6725</td>\n",
       "      <td>Indego30</td>\n",
       "      <td>25th &amp; Locust</td>\n",
       "      <td>25th &amp; Locust</td>\n",
       "      <td>39.949741</td>\n",
       "      <td>-75.180969</td>\n",
       "      <td>39.949741</td>\n",
       "      <td>-75.180969</td>\n",
       "      <td>0 days 00:01:00</td>\n",
       "      <td>12</td>\n",
       "      <td>52</td>\n",
       "      <td>6</td>\n",
       "      <td>31</td>\n",
       "      <td>23</td>\n",
       "    </tr>\n",
       "    <tr>\n",
       "      <th>782339</th>\n",
       "      <td>2017-12-31 23:41:00</td>\n",
       "      <td>2017-12-31 23:55:00</td>\n",
       "      <td>3163</td>\n",
       "      <td>3057</td>\n",
       "      <td>11864</td>\n",
       "      <td>Indego30</td>\n",
       "      <td>25th &amp; Locust</td>\n",
       "      <td>Philadelphia Museum of Art</td>\n",
       "      <td>39.949741</td>\n",
       "      <td>-75.180969</td>\n",
       "      <td>39.964581</td>\n",
       "      <td>-75.180031</td>\n",
       "      <td>0 days 00:14:00</td>\n",
       "      <td>12</td>\n",
       "      <td>52</td>\n",
       "      <td>6</td>\n",
       "      <td>31</td>\n",
       "      <td>23</td>\n",
       "    </tr>\n",
       "  </tbody>\n",
       "</table>\n",
       "<p>782225 rows × 18 columns</p>\n",
       "</div>"
      ],
      "text/plain": [
       "                start_time            end_time  start_station_id  \\\n",
       "0      2017-01-01 00:05:00 2017-01-01 00:16:00              3046   \n",
       "1      2017-01-01 00:21:00 2017-01-01 00:57:00              3110   \n",
       "2      2017-01-01 00:22:00 2017-01-01 00:57:00              3110   \n",
       "3      2017-01-01 00:27:00 2017-01-01 00:39:00              3041   \n",
       "4      2017-01-01 00:28:00 2017-01-01 00:36:00              3047   \n",
       "...                    ...                 ...               ...   \n",
       "782335 2017-12-31 23:05:00 2017-12-31 23:33:00              3070   \n",
       "782336 2017-12-31 23:11:00 2018-01-01 11:03:00              3107   \n",
       "782337 2017-12-31 23:18:00 2017-12-31 23:25:00              3033   \n",
       "782338 2017-12-31 23:39:00 2017-12-31 23:40:00              3163   \n",
       "782339 2017-12-31 23:41:00 2017-12-31 23:55:00              3163   \n",
       "\n",
       "        end_station_id  bike_id user_type           start_station_name  \\\n",
       "0                 3041     5347  Indego30                 2nd & Market   \n",
       "1                 3054     3364   Walk-up  Del. River Trail & Penn St.   \n",
       "2                 3054     2536   Walk-up  Del. River Trail & Penn St.   \n",
       "3                 3005     5176  Indego30          Girard Station, MFL   \n",
       "4                 3124     5370   Walk-up       Independence Mall, NPS   \n",
       "...                ...      ...       ...                          ...   \n",
       "782335            3124     3708  Indego30   Spring Garden Station, MFL   \n",
       "782336            3165     5117  Indego30             33rd & Reservoir   \n",
       "782337            3046    11933  Indego30              10th & Chestnut   \n",
       "782338            3163     6725  Indego30                25th & Locust   \n",
       "782339            3057    11864  Indego30                25th & Locust   \n",
       "\n",
       "                  end_station_name  start_lat  start_lon    end_lat  \\\n",
       "0              Girard Station, MFL  39.950119 -75.144722  39.968491   \n",
       "1                     Rodin Museum  39.961750 -75.136414  39.962502   \n",
       "2                     Rodin Museum  39.961750 -75.136414  39.962502   \n",
       "3                Welcome Park, NPS  39.968491 -75.135460  39.947330   \n",
       "4                 Race Street Pier  39.950710 -75.149208  39.952950   \n",
       "...                            ...        ...        ...        ...   \n",
       "782335            Race Street Pier  39.960621 -75.139832  39.952950   \n",
       "782336             24th & Race SRT  39.982029 -75.188660  39.958191   \n",
       "782337                2nd & Market  39.950050 -75.156723  39.950119   \n",
       "782338               25th & Locust  39.949741 -75.180969  39.949741   \n",
       "782339  Philadelphia Museum of Art  39.949741 -75.180969  39.964581   \n",
       "\n",
       "          end_lon   trip_duration  month  week  weekday  day  hour  \n",
       "0      -75.135460 0 days 00:11:00      1    52        6    1     0  \n",
       "1      -75.174202 0 days 00:36:00      1    52        6    1     0  \n",
       "2      -75.174202 0 days 00:35:00      1    52        6    1     0  \n",
       "3      -75.144028 0 days 00:12:00      1    52        6    1     0  \n",
       "4      -75.139793 0 days 00:08:00      1    52        6    1     0  \n",
       "...           ...             ...    ...   ...      ...  ...   ...  \n",
       "782335 -75.139793 0 days 00:28:00     12    52        6   31    23  \n",
       "782336 -75.178200 0 days 11:52:00     12    52        6   31    23  \n",
       "782337 -75.144722 0 days 00:07:00     12    52        6   31    23  \n",
       "782338 -75.180969 0 days 00:01:00     12    52        6   31    23  \n",
       "782339 -75.180031 0 days 00:14:00     12    52        6   31    23  \n",
       "\n",
       "[782225 rows x 18 columns]"
      ]
     },
     "execution_count": 170,
     "metadata": {},
     "output_type": "execute_result"
    }
   ],
   "source": [
    "df_philadelphia_cleaned = df_philadelphia_2017_joined.copy()\n",
    "df_philadelphia_cleaned"
   ]
  },
  {
   "cell_type": "markdown",
   "id": "59507f32",
   "metadata": {},
   "source": [
    "### Preparing and cleaning the weather dataset"
   ]
  },
  {
   "cell_type": "markdown",
   "id": "f1aab1f8",
   "metadata": {},
   "source": [
    "After preparing and cleaning the philadelphia dataset we need to do most of the procedure on the weather dataset."
   ]
  },
  {
   "cell_type": "code",
   "execution_count": 171,
   "id": "8c22f1e5",
   "metadata": {},
   "outputs": [
    {
     "name": "stderr",
     "output_type": "stream",
     "text": [
      "C:\\Users\\Paulo\\AppData\\Local\\Temp\\ipykernel_7596\\1772864593.py:2: FutureWarning:\n",
      "\n",
      "In a future version, `df.iloc[:, i] = newvals` will attempt to set the values inplace instead of always setting a new array. To retain the old behavior, use either `df[df.columns[i]] = newvals` or, if columns are non-unique, `df.isetitem(i, newvals)`\n",
      "\n"
     ]
    }
   ],
   "source": [
    "#Changing the type of date_time (df_weather) to datetime type from pandas\n",
    "df_weather.loc[:, \"date_time\"] = pd.to_datetime(df_weather[\"date_time\"])\n",
    "\n",
    "#Sort the dataframe by their corresponding time column\n",
    "df_weather.sort_values([\"date_time\"], inplace = True)\n",
    "\n",
    "#Reset the index\n",
    "df_weather.reset_index(drop = True, inplace =True)"
   ]
  },
  {
   "cell_type": "markdown",
   "id": "f7c3ef86",
   "metadata": {},
   "source": [
    "First of all we check for duplicate rows in the weather data and delete them if they occur because we do not need multiple rows multiple times."
   ]
  },
  {
   "cell_type": "code",
   "execution_count": 172,
   "id": "7663df90",
   "metadata": {},
   "outputs": [
    {
     "name": "stdout",
     "output_type": "stream",
     "text": [
      "Number of duplicates in df_weather:  630\n"
     ]
    }
   ],
   "source": [
    "#Checking for any duplicates in weather data\n",
    "print(\"Number of duplicates in df_weather: \", df_weather.duplicated().sum())"
   ]
  },
  {
   "cell_type": "code",
   "execution_count": 173,
   "id": "039ded9c",
   "metadata": {},
   "outputs": [
    {
     "data": {
      "text/html": [
       "<div>\n",
       "<style scoped>\n",
       "    .dataframe tbody tr th:only-of-type {\n",
       "        vertical-align: middle;\n",
       "    }\n",
       "\n",
       "    .dataframe tbody tr th {\n",
       "        vertical-align: top;\n",
       "    }\n",
       "\n",
       "    .dataframe thead th {\n",
       "        text-align: right;\n",
       "    }\n",
       "</style>\n",
       "<table border=\"1\" class=\"dataframe\">\n",
       "  <thead>\n",
       "    <tr style=\"text-align: right;\">\n",
       "      <th></th>\n",
       "      <th>date_time</th>\n",
       "      <th>max_temp</th>\n",
       "      <th>min_temp</th>\n",
       "      <th>precip</th>\n",
       "    </tr>\n",
       "  </thead>\n",
       "  <tbody>\n",
       "  </tbody>\n",
       "</table>\n",
       "</div>"
      ],
      "text/plain": [
       "Empty DataFrame\n",
       "Columns: [date_time, max_temp, min_temp, precip]\n",
       "Index: []"
      ]
     },
     "metadata": {},
     "output_type": "display_data"
    }
   ],
   "source": [
    "#Dropping all duplicates for the weather data\n",
    "df_weather.drop_duplicates(subset= [\"date_time\"],inplace = True)\n",
    "\n",
    "display(df_weather[df_weather.duplicated()])"
   ]
  },
  {
   "cell_type": "markdown",
   "id": "c7a4e839",
   "metadata": {},
   "source": [
    "We also check for null values in the weather data and delete them. It is important to note that we later add additional rows with null values but with the missing time intervals because we can interpolate them with the interpolate function in pandas."
   ]
  },
  {
   "cell_type": "code",
   "execution_count": 174,
   "id": "492287f5",
   "metadata": {},
   "outputs": [
    {
     "data": {
      "text/html": [
       "<div>\n",
       "<style scoped>\n",
       "    .dataframe tbody tr th:only-of-type {\n",
       "        vertical-align: middle;\n",
       "    }\n",
       "\n",
       "    .dataframe tbody tr th {\n",
       "        vertical-align: top;\n",
       "    }\n",
       "\n",
       "    .dataframe thead th {\n",
       "        text-align: right;\n",
       "    }\n",
       "</style>\n",
       "<table border=\"1\" class=\"dataframe\">\n",
       "  <thead>\n",
       "    <tr style=\"text-align: right;\">\n",
       "      <th></th>\n",
       "      <th>date_time</th>\n",
       "      <th>max_temp</th>\n",
       "      <th>min_temp</th>\n",
       "      <th>precip</th>\n",
       "    </tr>\n",
       "  </thead>\n",
       "  <tbody>\n",
       "    <tr>\n",
       "      <th>43785</th>\n",
       "      <td>NaT</td>\n",
       "      <td>NaN</td>\n",
       "      <td>NaN</td>\n",
       "      <td>NaN</td>\n",
       "    </tr>\n",
       "  </tbody>\n",
       "</table>\n",
       "</div>"
      ],
      "text/plain": [
       "      date_time  max_temp  min_temp  precip\n",
       "43785       NaT       NaN       NaN     NaN"
      ]
     },
     "metadata": {},
     "output_type": "display_data"
    }
   ],
   "source": [
    "#Checking for missing values in weather data\n",
    "display(df_weather[df_weather.isnull().any(axis = 1)])"
   ]
  },
  {
   "cell_type": "code",
   "execution_count": 175,
   "id": "c9d92af5",
   "metadata": {},
   "outputs": [],
   "source": [
    "df_weather.dropna(inplace = True)"
   ]
  },
  {
   "cell_type": "markdown",
   "id": "b01f8ae2",
   "metadata": {},
   "source": [
    "Since the weather data consists of data from the beginning of 2015 until the end of 2019, we want to have as well only the weather data for 2017."
   ]
  },
  {
   "cell_type": "code",
   "execution_count": 176,
   "id": "4dea3883",
   "metadata": {},
   "outputs": [],
   "source": [
    "#Selecting data from the beginning of 2017 till the end of 2017\n",
    "df_weather_2017 = df_weather[(df_weather[\"date_time\"]>= \"2017-01-01 00:00:00\") & (df_weather[\"date_time\"]< \"2018-01-01 00:00:00\" )]"
   ]
  },
  {
   "cell_type": "code",
   "execution_count": 177,
   "id": "018da9e6",
   "metadata": {},
   "outputs": [],
   "source": [
    "#Add missing intervals in the weather data\n",
    "df_weather_2017.set_index(\"date_time\", inplace = True)\n",
    "df_weather_2017 = df_weather_2017.resample(\"H\").asfreq()"
   ]
  },
  {
   "cell_type": "markdown",
   "id": "cdd5af35",
   "metadata": {},
   "source": [
    "The minimum temperature and maximum temperature will be interpolated linearly. The precipitation value is interpolated by taking one of the nearest existing values."
   ]
  },
  {
   "cell_type": "code",
   "execution_count": 178,
   "id": "e2fce930",
   "metadata": {},
   "outputs": [
    {
     "data": {
      "text/html": [
       "<div>\n",
       "<style scoped>\n",
       "    .dataframe tbody tr th:only-of-type {\n",
       "        vertical-align: middle;\n",
       "    }\n",
       "\n",
       "    .dataframe tbody tr th {\n",
       "        vertical-align: top;\n",
       "    }\n",
       "\n",
       "    .dataframe thead th {\n",
       "        text-align: right;\n",
       "    }\n",
       "</style>\n",
       "<table border=\"1\" class=\"dataframe\">\n",
       "  <thead>\n",
       "    <tr style=\"text-align: right;\">\n",
       "      <th></th>\n",
       "      <th>date_time</th>\n",
       "      <th>max_temp</th>\n",
       "      <th>min_temp</th>\n",
       "      <th>precip</th>\n",
       "    </tr>\n",
       "  </thead>\n",
       "  <tbody>\n",
       "  </tbody>\n",
       "</table>\n",
       "</div>"
      ],
      "text/plain": [
       "Empty DataFrame\n",
       "Columns: [date_time, max_temp, min_temp, precip]\n",
       "Index: []"
      ]
     },
     "metadata": {},
     "output_type": "display_data"
    },
    {
     "data": {
      "text/html": [
       "<div>\n",
       "<style scoped>\n",
       "    .dataframe tbody tr th:only-of-type {\n",
       "        vertical-align: middle;\n",
       "    }\n",
       "\n",
       "    .dataframe tbody tr th {\n",
       "        vertical-align: top;\n",
       "    }\n",
       "\n",
       "    .dataframe thead th {\n",
       "        text-align: right;\n",
       "    }\n",
       "</style>\n",
       "<table border=\"1\" class=\"dataframe\">\n",
       "  <thead>\n",
       "    <tr style=\"text-align: right;\">\n",
       "      <th></th>\n",
       "      <th>date_time</th>\n",
       "      <th>max_temp</th>\n",
       "      <th>min_temp</th>\n",
       "      <th>precip</th>\n",
       "    </tr>\n",
       "  </thead>\n",
       "  <tbody>\n",
       "    <tr>\n",
       "      <th>0</th>\n",
       "      <td>2017-01-01 00:00:00</td>\n",
       "      <td>6.1</td>\n",
       "      <td>6.1</td>\n",
       "      <td>0.0</td>\n",
       "    </tr>\n",
       "    <tr>\n",
       "      <th>1</th>\n",
       "      <td>2017-01-01 01:00:00</td>\n",
       "      <td>6.1</td>\n",
       "      <td>6.1</td>\n",
       "      <td>0.0</td>\n",
       "    </tr>\n",
       "    <tr>\n",
       "      <th>2</th>\n",
       "      <td>2017-01-01 02:00:00</td>\n",
       "      <td>6.7</td>\n",
       "      <td>6.7</td>\n",
       "      <td>0.0</td>\n",
       "    </tr>\n",
       "    <tr>\n",
       "      <th>3</th>\n",
       "      <td>2017-01-01 03:00:00</td>\n",
       "      <td>7.2</td>\n",
       "      <td>7.2</td>\n",
       "      <td>0.0</td>\n",
       "    </tr>\n",
       "    <tr>\n",
       "      <th>4</th>\n",
       "      <td>2017-01-01 04:00:00</td>\n",
       "      <td>7.8</td>\n",
       "      <td>7.8</td>\n",
       "      <td>0.0</td>\n",
       "    </tr>\n",
       "    <tr>\n",
       "      <th>...</th>\n",
       "      <td>...</td>\n",
       "      <td>...</td>\n",
       "      <td>...</td>\n",
       "      <td>...</td>\n",
       "    </tr>\n",
       "    <tr>\n",
       "      <th>8755</th>\n",
       "      <td>2017-12-31 19:00:00</td>\n",
       "      <td>-8.9</td>\n",
       "      <td>-8.9</td>\n",
       "      <td>0.0</td>\n",
       "    </tr>\n",
       "    <tr>\n",
       "      <th>8756</th>\n",
       "      <td>2017-12-31 20:00:00</td>\n",
       "      <td>-8.9</td>\n",
       "      <td>-8.9</td>\n",
       "      <td>0.0</td>\n",
       "    </tr>\n",
       "    <tr>\n",
       "      <th>8757</th>\n",
       "      <td>2017-12-31 21:00:00</td>\n",
       "      <td>-9.4</td>\n",
       "      <td>-9.4</td>\n",
       "      <td>0.0</td>\n",
       "    </tr>\n",
       "    <tr>\n",
       "      <th>8758</th>\n",
       "      <td>2017-12-31 22:00:00</td>\n",
       "      <td>-10.0</td>\n",
       "      <td>-10.0</td>\n",
       "      <td>0.0</td>\n",
       "    </tr>\n",
       "    <tr>\n",
       "      <th>8759</th>\n",
       "      <td>2017-12-31 23:00:00</td>\n",
       "      <td>-10.0</td>\n",
       "      <td>-10.0</td>\n",
       "      <td>0.0</td>\n",
       "    </tr>\n",
       "  </tbody>\n",
       "</table>\n",
       "<p>8760 rows × 4 columns</p>\n",
       "</div>"
      ],
      "text/plain": [
       "               date_time  max_temp  min_temp  precip\n",
       "0    2017-01-01 00:00:00       6.1       6.1     0.0\n",
       "1    2017-01-01 01:00:00       6.1       6.1     0.0\n",
       "2    2017-01-01 02:00:00       6.7       6.7     0.0\n",
       "3    2017-01-01 03:00:00       7.2       7.2     0.0\n",
       "4    2017-01-01 04:00:00       7.8       7.8     0.0\n",
       "...                  ...       ...       ...     ...\n",
       "8755 2017-12-31 19:00:00      -8.9      -8.9     0.0\n",
       "8756 2017-12-31 20:00:00      -8.9      -8.9     0.0\n",
       "8757 2017-12-31 21:00:00      -9.4      -9.4     0.0\n",
       "8758 2017-12-31 22:00:00     -10.0     -10.0     0.0\n",
       "8759 2017-12-31 23:00:00     -10.0     -10.0     0.0\n",
       "\n",
       "[8760 rows x 4 columns]"
      ]
     },
     "metadata": {},
     "output_type": "display_data"
    }
   ],
   "source": [
    "# Interpolate missing values in the weather data\n",
    "df_weather_2017[\"min_temp\"].interpolate(method = \"linear\", inplace = True)\n",
    "df_weather_2017[\"max_temp\"].interpolate(method = \"linear\", inplace = True)\n",
    "df_weather_2017[\"precip\"].interpolate(method = \"pad\", inplace = True)\n",
    "df_weather_2017.reset_index(drop=False, inplace = True)\n",
    "\n",
    "# Check if null values in the weather data still exist\n",
    "display(df_weather_2017[df_weather_2017.isnull().any(axis = 1)])\n",
    "display(df_weather_2017)"
   ]
  },
  {
   "cell_type": "markdown",
   "id": "5d0b0e15",
   "metadata": {},
   "source": [
    "All dataframes for reference:\n",
    "* **Philadelphia data**\n",
    "   * *df_philadelphia_cleaned*\n",
    "* **Weather data**\n",
    "   * *df_weather_2017*"
   ]
  },
  {
   "cell_type": "markdown",
   "id": "11589c83",
   "metadata": {},
   "source": [
    "## Clustering"
   ]
  },
  {
   "attachments": {},
   "cell_type": "markdown",
   "id": "132f9a8d",
   "metadata": {},
   "source": [
    "In the following, we will use clustering to identify potential Trip/Customer Types as well as grouping rental stations by their demand patterns. In our case, we have three options to help us perform clustering:\n",
    "- KMeans\n",
    "- PCA (to reduce dimensionality)\n",
    "- Hierarchical Clustering\n",
    "\n",
    "We will only use KMeans, since we do not have that many features (three to be exact) for the need of a dimensionality reduction, and harder interpretability. Furthermore, Hierarchical Clustering is only helpful to give an outlook on how many clusters there could potentially be and in general does not run at all or take way too long to calculate on big datasets like ours."
   ]
  },
  {
   "attachments": {},
   "cell_type": "markdown",
   "id": "a467d9e9",
   "metadata": {},
   "source": [
    "### General Data Prep\n",
    "\n",
    "Before we can start with the clustering, we thought about a new feature for our clustering process. This feature will be the distance between start and end stations of every trip, which can be calculated with the Haversine library."
   ]
  },
  {
   "cell_type": "code",
   "execution_count": 179,
   "id": "ebfa79b5",
   "metadata": {},
   "outputs": [],
   "source": [
    "df_phil_clustering = df_philadelphia_cleaned.copy()\n",
    "\n",
    "# Only done because its not done in the original data cleaning part, remove once happened\n",
    "df_phil_clustering.reset_index(inplace=True, drop=True)\n",
    "\n",
    "# Changing trip_duration from datetime type to an int -> probably should also be done in the original data cleaning part!\n",
    "df_phil_clustering.loc[:, 'trip_duration'] = df_phil_clustering['trip_duration'].dt.seconds / 60\n",
    "df_phil_clustering.rename(columns={'trip_duration': 'trip_duration_in_minutes'}, inplace=True)\n",
    "df_phil_clustering['trip_duration_in_minutes'] = df_phil_clustering['trip_duration_in_minutes'].astype(int)\n",
    "\n",
    "# Calculating the distance between start and end coordinates of stations as one of our features for Clustering\n",
    "for i in range(0, len(df_phil_clustering)):\n",
    "    combined_start_coordinates = (df_phil_clustering.at[i, 'start_lat'], df_phil_clustering.at[i, 'start_lon'])\n",
    "    combined_end_coordinates = (df_phil_clustering.at[i, 'end_lat'], df_phil_clustering.at[i, 'end_lon'])\n",
    "\n",
    "    # By default haversine uses km, so no need to set extra units\n",
    "    df_phil_clustering.at[i, 'distance_in_km'] = hs.haversine(combined_start_coordinates, combined_end_coordinates)"
   ]
  },
  {
   "cell_type": "code",
   "execution_count": 180,
   "id": "67e9da6a",
   "metadata": {},
   "outputs": [
    {
     "data": {
      "text/html": [
       "<div>\n",
       "<style scoped>\n",
       "    .dataframe tbody tr th:only-of-type {\n",
       "        vertical-align: middle;\n",
       "    }\n",
       "\n",
       "    .dataframe tbody tr th {\n",
       "        vertical-align: top;\n",
       "    }\n",
       "\n",
       "    .dataframe thead th {\n",
       "        text-align: right;\n",
       "    }\n",
       "</style>\n",
       "<table border=\"1\" class=\"dataframe\">\n",
       "  <thead>\n",
       "    <tr style=\"text-align: right;\">\n",
       "      <th></th>\n",
       "      <th>start_time</th>\n",
       "      <th>end_time</th>\n",
       "      <th>start_station_id</th>\n",
       "      <th>end_station_id</th>\n",
       "      <th>bike_id</th>\n",
       "      <th>user_type</th>\n",
       "      <th>start_station_name</th>\n",
       "      <th>end_station_name</th>\n",
       "      <th>start_lat</th>\n",
       "      <th>start_lon</th>\n",
       "      <th>end_lat</th>\n",
       "      <th>end_lon</th>\n",
       "      <th>trip_duration_in_minutes</th>\n",
       "      <th>month</th>\n",
       "      <th>week</th>\n",
       "      <th>weekday</th>\n",
       "      <th>day</th>\n",
       "      <th>hour</th>\n",
       "      <th>distance_in_km</th>\n",
       "    </tr>\n",
       "  </thead>\n",
       "  <tbody>\n",
       "    <tr>\n",
       "      <th>0</th>\n",
       "      <td>2017-01-01 00:05:00</td>\n",
       "      <td>2017-01-01 00:16:00</td>\n",
       "      <td>3046</td>\n",
       "      <td>3041</td>\n",
       "      <td>5347</td>\n",
       "      <td>Indego30</td>\n",
       "      <td>2nd &amp; Market</td>\n",
       "      <td>Girard Station, MFL</td>\n",
       "      <td>39.950119</td>\n",
       "      <td>-75.144722</td>\n",
       "      <td>39.968491</td>\n",
       "      <td>-75.135460</td>\n",
       "      <td>11</td>\n",
       "      <td>1</td>\n",
       "      <td>52</td>\n",
       "      <td>6</td>\n",
       "      <td>1</td>\n",
       "      <td>0</td>\n",
       "      <td>2.190094</td>\n",
       "    </tr>\n",
       "    <tr>\n",
       "      <th>1</th>\n",
       "      <td>2017-01-01 00:21:00</td>\n",
       "      <td>2017-01-01 00:57:00</td>\n",
       "      <td>3110</td>\n",
       "      <td>3054</td>\n",
       "      <td>3364</td>\n",
       "      <td>Walk-up</td>\n",
       "      <td>Del. River Trail &amp; Penn St.</td>\n",
       "      <td>Rodin Museum</td>\n",
       "      <td>39.961750</td>\n",
       "      <td>-75.136414</td>\n",
       "      <td>39.962502</td>\n",
       "      <td>-75.174202</td>\n",
       "      <td>36</td>\n",
       "      <td>1</td>\n",
       "      <td>52</td>\n",
       "      <td>6</td>\n",
       "      <td>1</td>\n",
       "      <td>0</td>\n",
       "      <td>3.221666</td>\n",
       "    </tr>\n",
       "    <tr>\n",
       "      <th>2</th>\n",
       "      <td>2017-01-01 00:22:00</td>\n",
       "      <td>2017-01-01 00:57:00</td>\n",
       "      <td>3110</td>\n",
       "      <td>3054</td>\n",
       "      <td>2536</td>\n",
       "      <td>Walk-up</td>\n",
       "      <td>Del. River Trail &amp; Penn St.</td>\n",
       "      <td>Rodin Museum</td>\n",
       "      <td>39.961750</td>\n",
       "      <td>-75.136414</td>\n",
       "      <td>39.962502</td>\n",
       "      <td>-75.174202</td>\n",
       "      <td>35</td>\n",
       "      <td>1</td>\n",
       "      <td>52</td>\n",
       "      <td>6</td>\n",
       "      <td>1</td>\n",
       "      <td>0</td>\n",
       "      <td>3.221666</td>\n",
       "    </tr>\n",
       "    <tr>\n",
       "      <th>3</th>\n",
       "      <td>2017-01-01 00:27:00</td>\n",
       "      <td>2017-01-01 00:39:00</td>\n",
       "      <td>3041</td>\n",
       "      <td>3005</td>\n",
       "      <td>5176</td>\n",
       "      <td>Indego30</td>\n",
       "      <td>Girard Station, MFL</td>\n",
       "      <td>Welcome Park, NPS</td>\n",
       "      <td>39.968491</td>\n",
       "      <td>-75.135460</td>\n",
       "      <td>39.947330</td>\n",
       "      <td>-75.144028</td>\n",
       "      <td>12</td>\n",
       "      <td>1</td>\n",
       "      <td>52</td>\n",
       "      <td>6</td>\n",
       "      <td>1</td>\n",
       "      <td>0</td>\n",
       "      <td>2.463718</td>\n",
       "    </tr>\n",
       "    <tr>\n",
       "      <th>4</th>\n",
       "      <td>2017-01-01 00:28:00</td>\n",
       "      <td>2017-01-01 00:36:00</td>\n",
       "      <td>3047</td>\n",
       "      <td>3124</td>\n",
       "      <td>5370</td>\n",
       "      <td>Walk-up</td>\n",
       "      <td>Independence Mall, NPS</td>\n",
       "      <td>Race Street Pier</td>\n",
       "      <td>39.950710</td>\n",
       "      <td>-75.149208</td>\n",
       "      <td>39.952950</td>\n",
       "      <td>-75.139793</td>\n",
       "      <td>8</td>\n",
       "      <td>1</td>\n",
       "      <td>52</td>\n",
       "      <td>6</td>\n",
       "      <td>1</td>\n",
       "      <td>0</td>\n",
       "      <td>0.840302</td>\n",
       "    </tr>\n",
       "    <tr>\n",
       "      <th>...</th>\n",
       "      <td>...</td>\n",
       "      <td>...</td>\n",
       "      <td>...</td>\n",
       "      <td>...</td>\n",
       "      <td>...</td>\n",
       "      <td>...</td>\n",
       "      <td>...</td>\n",
       "      <td>...</td>\n",
       "      <td>...</td>\n",
       "      <td>...</td>\n",
       "      <td>...</td>\n",
       "      <td>...</td>\n",
       "      <td>...</td>\n",
       "      <td>...</td>\n",
       "      <td>...</td>\n",
       "      <td>...</td>\n",
       "      <td>...</td>\n",
       "      <td>...</td>\n",
       "      <td>...</td>\n",
       "    </tr>\n",
       "    <tr>\n",
       "      <th>782220</th>\n",
       "      <td>2017-12-31 23:05:00</td>\n",
       "      <td>2017-12-31 23:33:00</td>\n",
       "      <td>3070</td>\n",
       "      <td>3124</td>\n",
       "      <td>3708</td>\n",
       "      <td>Indego30</td>\n",
       "      <td>Spring Garden Station, MFL</td>\n",
       "      <td>Race Street Pier</td>\n",
       "      <td>39.960621</td>\n",
       "      <td>-75.139832</td>\n",
       "      <td>39.952950</td>\n",
       "      <td>-75.139793</td>\n",
       "      <td>28</td>\n",
       "      <td>12</td>\n",
       "      <td>52</td>\n",
       "      <td>6</td>\n",
       "      <td>31</td>\n",
       "      <td>23</td>\n",
       "      <td>0.852984</td>\n",
       "    </tr>\n",
       "    <tr>\n",
       "      <th>782221</th>\n",
       "      <td>2017-12-31 23:11:00</td>\n",
       "      <td>2018-01-01 11:03:00</td>\n",
       "      <td>3107</td>\n",
       "      <td>3165</td>\n",
       "      <td>5117</td>\n",
       "      <td>Indego30</td>\n",
       "      <td>33rd &amp; Reservoir</td>\n",
       "      <td>24th &amp; Race SRT</td>\n",
       "      <td>39.982029</td>\n",
       "      <td>-75.188660</td>\n",
       "      <td>39.958191</td>\n",
       "      <td>-75.178200</td>\n",
       "      <td>712</td>\n",
       "      <td>12</td>\n",
       "      <td>52</td>\n",
       "      <td>6</td>\n",
       "      <td>31</td>\n",
       "      <td>23</td>\n",
       "      <td>2.796533</td>\n",
       "    </tr>\n",
       "    <tr>\n",
       "      <th>782222</th>\n",
       "      <td>2017-12-31 23:18:00</td>\n",
       "      <td>2017-12-31 23:25:00</td>\n",
       "      <td>3033</td>\n",
       "      <td>3046</td>\n",
       "      <td>11933</td>\n",
       "      <td>Indego30</td>\n",
       "      <td>10th &amp; Chestnut</td>\n",
       "      <td>2nd &amp; Market</td>\n",
       "      <td>39.950050</td>\n",
       "      <td>-75.156723</td>\n",
       "      <td>39.950119</td>\n",
       "      <td>-75.144722</td>\n",
       "      <td>7</td>\n",
       "      <td>12</td>\n",
       "      <td>52</td>\n",
       "      <td>6</td>\n",
       "      <td>31</td>\n",
       "      <td>23</td>\n",
       "      <td>1.023025</td>\n",
       "    </tr>\n",
       "    <tr>\n",
       "      <th>782223</th>\n",
       "      <td>2017-12-31 23:39:00</td>\n",
       "      <td>2017-12-31 23:40:00</td>\n",
       "      <td>3163</td>\n",
       "      <td>3163</td>\n",
       "      <td>6725</td>\n",
       "      <td>Indego30</td>\n",
       "      <td>25th &amp; Locust</td>\n",
       "      <td>25th &amp; Locust</td>\n",
       "      <td>39.949741</td>\n",
       "      <td>-75.180969</td>\n",
       "      <td>39.949741</td>\n",
       "      <td>-75.180969</td>\n",
       "      <td>1</td>\n",
       "      <td>12</td>\n",
       "      <td>52</td>\n",
       "      <td>6</td>\n",
       "      <td>31</td>\n",
       "      <td>23</td>\n",
       "      <td>0.000000</td>\n",
       "    </tr>\n",
       "    <tr>\n",
       "      <th>782224</th>\n",
       "      <td>2017-12-31 23:41:00</td>\n",
       "      <td>2017-12-31 23:55:00</td>\n",
       "      <td>3163</td>\n",
       "      <td>3057</td>\n",
       "      <td>11864</td>\n",
       "      <td>Indego30</td>\n",
       "      <td>25th &amp; Locust</td>\n",
       "      <td>Philadelphia Museum of Art</td>\n",
       "      <td>39.949741</td>\n",
       "      <td>-75.180969</td>\n",
       "      <td>39.964581</td>\n",
       "      <td>-75.180031</td>\n",
       "      <td>14</td>\n",
       "      <td>12</td>\n",
       "      <td>52</td>\n",
       "      <td>6</td>\n",
       "      <td>31</td>\n",
       "      <td>23</td>\n",
       "      <td>1.652071</td>\n",
       "    </tr>\n",
       "  </tbody>\n",
       "</table>\n",
       "<p>782225 rows × 19 columns</p>\n",
       "</div>"
      ],
      "text/plain": [
       "                start_time            end_time  start_station_id  \\\n",
       "0      2017-01-01 00:05:00 2017-01-01 00:16:00              3046   \n",
       "1      2017-01-01 00:21:00 2017-01-01 00:57:00              3110   \n",
       "2      2017-01-01 00:22:00 2017-01-01 00:57:00              3110   \n",
       "3      2017-01-01 00:27:00 2017-01-01 00:39:00              3041   \n",
       "4      2017-01-01 00:28:00 2017-01-01 00:36:00              3047   \n",
       "...                    ...                 ...               ...   \n",
       "782220 2017-12-31 23:05:00 2017-12-31 23:33:00              3070   \n",
       "782221 2017-12-31 23:11:00 2018-01-01 11:03:00              3107   \n",
       "782222 2017-12-31 23:18:00 2017-12-31 23:25:00              3033   \n",
       "782223 2017-12-31 23:39:00 2017-12-31 23:40:00              3163   \n",
       "782224 2017-12-31 23:41:00 2017-12-31 23:55:00              3163   \n",
       "\n",
       "        end_station_id  bike_id user_type           start_station_name  \\\n",
       "0                 3041     5347  Indego30                 2nd & Market   \n",
       "1                 3054     3364   Walk-up  Del. River Trail & Penn St.   \n",
       "2                 3054     2536   Walk-up  Del. River Trail & Penn St.   \n",
       "3                 3005     5176  Indego30          Girard Station, MFL   \n",
       "4                 3124     5370   Walk-up       Independence Mall, NPS   \n",
       "...                ...      ...       ...                          ...   \n",
       "782220            3124     3708  Indego30   Spring Garden Station, MFL   \n",
       "782221            3165     5117  Indego30             33rd & Reservoir   \n",
       "782222            3046    11933  Indego30              10th & Chestnut   \n",
       "782223            3163     6725  Indego30                25th & Locust   \n",
       "782224            3057    11864  Indego30                25th & Locust   \n",
       "\n",
       "                  end_station_name  start_lat  start_lon    end_lat  \\\n",
       "0              Girard Station, MFL  39.950119 -75.144722  39.968491   \n",
       "1                     Rodin Museum  39.961750 -75.136414  39.962502   \n",
       "2                     Rodin Museum  39.961750 -75.136414  39.962502   \n",
       "3                Welcome Park, NPS  39.968491 -75.135460  39.947330   \n",
       "4                 Race Street Pier  39.950710 -75.149208  39.952950   \n",
       "...                            ...        ...        ...        ...   \n",
       "782220            Race Street Pier  39.960621 -75.139832  39.952950   \n",
       "782221             24th & Race SRT  39.982029 -75.188660  39.958191   \n",
       "782222                2nd & Market  39.950050 -75.156723  39.950119   \n",
       "782223               25th & Locust  39.949741 -75.180969  39.949741   \n",
       "782224  Philadelphia Museum of Art  39.949741 -75.180969  39.964581   \n",
       "\n",
       "          end_lon  trip_duration_in_minutes  month  week  weekday  day  hour  \\\n",
       "0      -75.135460                        11      1    52        6    1     0   \n",
       "1      -75.174202                        36      1    52        6    1     0   \n",
       "2      -75.174202                        35      1    52        6    1     0   \n",
       "3      -75.144028                        12      1    52        6    1     0   \n",
       "4      -75.139793                         8      1    52        6    1     0   \n",
       "...           ...                       ...    ...   ...      ...  ...   ...   \n",
       "782220 -75.139793                        28     12    52        6   31    23   \n",
       "782221 -75.178200                       712     12    52        6   31    23   \n",
       "782222 -75.144722                         7     12    52        6   31    23   \n",
       "782223 -75.180969                         1     12    52        6   31    23   \n",
       "782224 -75.180031                        14     12    52        6   31    23   \n",
       "\n",
       "        distance_in_km  \n",
       "0             2.190094  \n",
       "1             3.221666  \n",
       "2             3.221666  \n",
       "3             2.463718  \n",
       "4             0.840302  \n",
       "...                ...  \n",
       "782220        0.852984  \n",
       "782221        2.796533  \n",
       "782222        1.023025  \n",
       "782223        0.000000  \n",
       "782224        1.652071  \n",
       "\n",
       "[782225 rows x 19 columns]"
      ]
     },
     "execution_count": 180,
     "metadata": {},
     "output_type": "execute_result"
    }
   ],
   "source": [
    "# Finished dataframe\n",
    "df_phil_clustering"
   ]
  },
  {
   "cell_type": "markdown",
   "id": "295522ff",
   "metadata": {},
   "source": [
    "### Functions to use for Clustering"
   ]
  },
  {
   "cell_type": "code",
   "execution_count": 181,
   "id": "25658140",
   "metadata": {},
   "outputs": [],
   "source": [
    "# This function is used to standardize features\n",
    "def scalingData(dataframe):\n",
    "    newDataframe = dataframe.copy()\n",
    "    scaler = StandardScaler()\n",
    "    newDataframe[newDataframe.columns] = pd.DataFrame(scaler.fit_transform(newDataframe[newDataframe.columns]))\n",
    "    return newDataframe"
   ]
  },
  {
   "cell_type": "code",
   "execution_count": 182,
   "id": "57339bba",
   "metadata": {},
   "outputs": [],
   "source": [
    "# This function calculates the Loss per cluster amount and plots the result of it in the range of 0-10 on the x-axis\n",
    "def calcAndPlotLoss(clusterAmount, dataframe):\n",
    "    k_max = clusterAmount\n",
    "\n",
    "    clusters = []\n",
    "    losses = []\n",
    "\n",
    "    for k in range(k_max):\n",
    "        model = KMeans(n_clusters=k+1, n_init=10)\n",
    "        model.fit(dataframe)\n",
    "        clusters.append(k+1)\n",
    "        losses.append(model.inertia_)\n",
    "\n",
    "    fig = plt.subplots(figsize=(12,7))\n",
    "    plt.plot(clusters, losses)\n",
    "    plt.ylabel(\"Loss\")\n",
    "    plt.xlabel(\"Number of clusters\")\n",
    "    plt.xlim([0,10])\n",
    "    plt.grid(True)\n",
    "    plt.show()"
   ]
  },
  {
   "cell_type": "code",
   "execution_count": 183,
   "id": "3001bb1d",
   "metadata": {},
   "outputs": [],
   "source": [
    "# This function calculates for a the defined amount of clusters KMeans on the given dataframe\n",
    "def calcKMeans(numClusters, dataframe):\n",
    "    result = KMeans(n_clusters=numClusters, n_init=10)\n",
    "    result.fit(dataframe)\n",
    "\n",
    "    dataframe['Cluster'] = result.predict(dataframe)"
   ]
  },
  {
   "cell_type": "code",
   "execution_count": 184,
   "id": "d751b164",
   "metadata": {},
   "outputs": [],
   "source": [
    "# This function describes every KMeans cluster with the describe() function for the original dataframe\n",
    "def describeData(originalDataframe, scaledDataframe, numClusters):   \n",
    "    for i in range(0, numClusters):\n",
    "        display(originalDataframe[scaledDataframe['Cluster'] == i].describe())"
   ]
  },
  {
   "cell_type": "markdown",
   "id": "2ca02c88",
   "metadata": {},
   "source": [
    "### Clustering Trip/Customer Types"
   ]
  },
  {
   "cell_type": "markdown",
   "id": "beb694d7",
   "metadata": {},
   "source": [
    "For this we will use:\n",
    " - Total number of rides\n",
    " - Average Trip Duration in minutes\n",
    " - Average Trip Distance in km"
   ]
  },
  {
   "cell_type": "code",
   "execution_count": 185,
   "id": "858f353b",
   "metadata": {},
   "outputs": [
    {
     "data": {
      "text/html": [
       "<div>\n",
       "<style scoped>\n",
       "    .dataframe tbody tr th:only-of-type {\n",
       "        vertical-align: middle;\n",
       "    }\n",
       "\n",
       "    .dataframe tbody tr th {\n",
       "        vertical-align: top;\n",
       "    }\n",
       "\n",
       "    .dataframe thead th {\n",
       "        text-align: right;\n",
       "    }\n",
       "</style>\n",
       "<table border=\"1\" class=\"dataframe\">\n",
       "  <thead>\n",
       "    <tr style=\"text-align: right;\">\n",
       "      <th></th>\n",
       "      <th>weekday</th>\n",
       "      <th>hour</th>\n",
       "      <th>trip_duration_in_minutes</th>\n",
       "      <th>distance_in_km</th>\n",
       "      <th>n_rides</th>\n",
       "      <th>avg_trip_duration</th>\n",
       "      <th>avg_trip_distance</th>\n",
       "    </tr>\n",
       "  </thead>\n",
       "  <tbody>\n",
       "    <tr>\n",
       "      <th>0</th>\n",
       "      <td>0</td>\n",
       "      <td>0</td>\n",
       "      <td>25440</td>\n",
       "      <td>1394.803697</td>\n",
       "      <td>845</td>\n",
       "      <td>30.106509</td>\n",
       "      <td>1.650655</td>\n",
       "    </tr>\n",
       "    <tr>\n",
       "      <th>1</th>\n",
       "      <td>0</td>\n",
       "      <td>1</td>\n",
       "      <td>14259</td>\n",
       "      <td>678.613088</td>\n",
       "      <td>416</td>\n",
       "      <td>34.276442</td>\n",
       "      <td>1.631281</td>\n",
       "    </tr>\n",
       "    <tr>\n",
       "      <th>2</th>\n",
       "      <td>0</td>\n",
       "      <td>2</td>\n",
       "      <td>11219</td>\n",
       "      <td>411.024992</td>\n",
       "      <td>273</td>\n",
       "      <td>41.095238</td>\n",
       "      <td>1.505586</td>\n",
       "    </tr>\n",
       "    <tr>\n",
       "      <th>3</th>\n",
       "      <td>0</td>\n",
       "      <td>3</td>\n",
       "      <td>3817</td>\n",
       "      <td>223.898330</td>\n",
       "      <td>158</td>\n",
       "      <td>24.158228</td>\n",
       "      <td>1.417078</td>\n",
       "    </tr>\n",
       "    <tr>\n",
       "      <th>4</th>\n",
       "      <td>0</td>\n",
       "      <td>4</td>\n",
       "      <td>5122</td>\n",
       "      <td>467.304804</td>\n",
       "      <td>246</td>\n",
       "      <td>20.821138</td>\n",
       "      <td>1.899613</td>\n",
       "    </tr>\n",
       "    <tr>\n",
       "      <th>...</th>\n",
       "      <td>...</td>\n",
       "      <td>...</td>\n",
       "      <td>...</td>\n",
       "      <td>...</td>\n",
       "      <td>...</td>\n",
       "      <td>...</td>\n",
       "      <td>...</td>\n",
       "    </tr>\n",
       "    <tr>\n",
       "      <th>163</th>\n",
       "      <td>6</td>\n",
       "      <td>19</td>\n",
       "      <td>115243</td>\n",
       "      <td>7600.622249</td>\n",
       "      <td>5003</td>\n",
       "      <td>23.034779</td>\n",
       "      <td>1.519213</td>\n",
       "    </tr>\n",
       "    <tr>\n",
       "      <th>164</th>\n",
       "      <td>6</td>\n",
       "      <td>20</td>\n",
       "      <td>87366</td>\n",
       "      <td>5622.960210</td>\n",
       "      <td>3676</td>\n",
       "      <td>23.766594</td>\n",
       "      <td>1.529641</td>\n",
       "    </tr>\n",
       "    <tr>\n",
       "      <th>165</th>\n",
       "      <td>6</td>\n",
       "      <td>21</td>\n",
       "      <td>62810</td>\n",
       "      <td>4168.057497</td>\n",
       "      <td>2719</td>\n",
       "      <td>23.100405</td>\n",
       "      <td>1.532938</td>\n",
       "    </tr>\n",
       "    <tr>\n",
       "      <th>166</th>\n",
       "      <td>6</td>\n",
       "      <td>22</td>\n",
       "      <td>53831</td>\n",
       "      <td>3462.057835</td>\n",
       "      <td>2144</td>\n",
       "      <td>25.107743</td>\n",
       "      <td>1.614766</td>\n",
       "    </tr>\n",
       "    <tr>\n",
       "      <th>167</th>\n",
       "      <td>6</td>\n",
       "      <td>23</td>\n",
       "      <td>37721</td>\n",
       "      <td>2372.439596</td>\n",
       "      <td>1448</td>\n",
       "      <td>26.050414</td>\n",
       "      <td>1.638425</td>\n",
       "    </tr>\n",
       "  </tbody>\n",
       "</table>\n",
       "<p>168 rows × 7 columns</p>\n",
       "</div>"
      ],
      "text/plain": [
       "     weekday  hour  trip_duration_in_minutes  distance_in_km  n_rides  \\\n",
       "0          0     0                     25440     1394.803697      845   \n",
       "1          0     1                     14259      678.613088      416   \n",
       "2          0     2                     11219      411.024992      273   \n",
       "3          0     3                      3817      223.898330      158   \n",
       "4          0     4                      5122      467.304804      246   \n",
       "..       ...   ...                       ...             ...      ...   \n",
       "163        6    19                    115243     7600.622249     5003   \n",
       "164        6    20                     87366     5622.960210     3676   \n",
       "165        6    21                     62810     4168.057497     2719   \n",
       "166        6    22                     53831     3462.057835     2144   \n",
       "167        6    23                     37721     2372.439596     1448   \n",
       "\n",
       "     avg_trip_duration  avg_trip_distance  \n",
       "0            30.106509           1.650655  \n",
       "1            34.276442           1.631281  \n",
       "2            41.095238           1.505586  \n",
       "3            24.158228           1.417078  \n",
       "4            20.821138           1.899613  \n",
       "..                 ...                ...  \n",
       "163          23.034779           1.519213  \n",
       "164          23.766594           1.529641  \n",
       "165          23.100405           1.532938  \n",
       "166          25.107743           1.614766  \n",
       "167          26.050414           1.638425  \n",
       "\n",
       "[168 rows x 7 columns]"
      ]
     },
     "execution_count": 185,
     "metadata": {},
     "output_type": "execute_result"
    }
   ],
   "source": [
    "#Count number of ride per weekday and hour\n",
    "df_phil_clus_customer_types_wd_hr = df_phil_clustering.groupby(['weekday','hour'])['hour'].count().reset_index(name='n_rides')\n",
    "\n",
    "#Aggregate trip duration and distance by weekday and hour\n",
    "df_phil_clus_customer_types_agg = df_phil_clustering.groupby(['weekday','hour']).agg({'trip_duration_in_minutes': 'sum', 'distance_in_km': 'sum'}).reset_index()\n",
    "\n",
    "#Merge both new dataframes\n",
    "df_phil_clus_customer_types_merged = pd.merge(df_phil_clus_customer_types_agg, df_phil_clus_customer_types_wd_hr)\n",
    "\n",
    "#Calculate average trip duration and distance\n",
    "df_phil_clus_customer_types_merged['avg_trip_duration'] = df_phil_clus_customer_types_merged['trip_duration_in_minutes']/df_phil_clus_customer_types_merged['n_rides']\n",
    "df_phil_clus_customer_types_merged['avg_trip_distance'] = df_phil_clus_customer_types_merged['distance_in_km']/df_phil_clus_customer_types_merged['n_rides']\n",
    "\n",
    "df_phil_clus_customer_types_merged"
   ]
  },
  {
   "cell_type": "code",
   "execution_count": 186,
   "id": "6714ac92",
   "metadata": {},
   "outputs": [
    {
     "data": {
      "text/html": [
       "<div>\n",
       "<style scoped>\n",
       "    .dataframe tbody tr th:only-of-type {\n",
       "        vertical-align: middle;\n",
       "    }\n",
       "\n",
       "    .dataframe tbody tr th {\n",
       "        vertical-align: top;\n",
       "    }\n",
       "\n",
       "    .dataframe thead th {\n",
       "        text-align: right;\n",
       "    }\n",
       "</style>\n",
       "<table border=\"1\" class=\"dataframe\">\n",
       "  <thead>\n",
       "    <tr style=\"text-align: right;\">\n",
       "      <th></th>\n",
       "      <th>n_rides</th>\n",
       "      <th>avg_trip_duration</th>\n",
       "      <th>avg_trip_distance</th>\n",
       "    </tr>\n",
       "  </thead>\n",
       "  <tbody>\n",
       "    <tr>\n",
       "      <th>0</th>\n",
       "      <td>845</td>\n",
       "      <td>30.106509</td>\n",
       "      <td>1.650655</td>\n",
       "    </tr>\n",
       "    <tr>\n",
       "      <th>1</th>\n",
       "      <td>416</td>\n",
       "      <td>34.276442</td>\n",
       "      <td>1.631281</td>\n",
       "    </tr>\n",
       "    <tr>\n",
       "      <th>2</th>\n",
       "      <td>273</td>\n",
       "      <td>41.095238</td>\n",
       "      <td>1.505586</td>\n",
       "    </tr>\n",
       "    <tr>\n",
       "      <th>3</th>\n",
       "      <td>158</td>\n",
       "      <td>24.158228</td>\n",
       "      <td>1.417078</td>\n",
       "    </tr>\n",
       "    <tr>\n",
       "      <th>4</th>\n",
       "      <td>246</td>\n",
       "      <td>20.821138</td>\n",
       "      <td>1.899613</td>\n",
       "    </tr>\n",
       "    <tr>\n",
       "      <th>...</th>\n",
       "      <td>...</td>\n",
       "      <td>...</td>\n",
       "      <td>...</td>\n",
       "    </tr>\n",
       "    <tr>\n",
       "      <th>163</th>\n",
       "      <td>5003</td>\n",
       "      <td>23.034779</td>\n",
       "      <td>1.519213</td>\n",
       "    </tr>\n",
       "    <tr>\n",
       "      <th>164</th>\n",
       "      <td>3676</td>\n",
       "      <td>23.766594</td>\n",
       "      <td>1.529641</td>\n",
       "    </tr>\n",
       "    <tr>\n",
       "      <th>165</th>\n",
       "      <td>2719</td>\n",
       "      <td>23.100405</td>\n",
       "      <td>1.532938</td>\n",
       "    </tr>\n",
       "    <tr>\n",
       "      <th>166</th>\n",
       "      <td>2144</td>\n",
       "      <td>25.107743</td>\n",
       "      <td>1.614766</td>\n",
       "    </tr>\n",
       "    <tr>\n",
       "      <th>167</th>\n",
       "      <td>1448</td>\n",
       "      <td>26.050414</td>\n",
       "      <td>1.638425</td>\n",
       "    </tr>\n",
       "  </tbody>\n",
       "</table>\n",
       "<p>168 rows × 3 columns</p>\n",
       "</div>"
      ],
      "text/plain": [
       "     n_rides  avg_trip_duration  avg_trip_distance\n",
       "0        845          30.106509           1.650655\n",
       "1        416          34.276442           1.631281\n",
       "2        273          41.095238           1.505586\n",
       "3        158          24.158228           1.417078\n",
       "4        246          20.821138           1.899613\n",
       "..       ...                ...                ...\n",
       "163     5003          23.034779           1.519213\n",
       "164     3676          23.766594           1.529641\n",
       "165     2719          23.100405           1.532938\n",
       "166     2144          25.107743           1.614766\n",
       "167     1448          26.050414           1.638425\n",
       "\n",
       "[168 rows x 3 columns]"
      ]
     },
     "execution_count": 186,
     "metadata": {},
     "output_type": "execute_result"
    }
   ],
   "source": [
    "#Create DF to be used for clustering\n",
    "df_phil_clus_customer_types_cluster = df_phil_clus_customer_types_merged[['n_rides','avg_trip_duration','avg_trip_distance']]\n",
    "df_phil_clus_customer_types_cluster"
   ]
  },
  {
   "cell_type": "code",
   "execution_count": 187,
   "id": "249ef821",
   "metadata": {},
   "outputs": [
    {
     "data": {
      "text/html": [
       "<div>\n",
       "<style scoped>\n",
       "    .dataframe tbody tr th:only-of-type {\n",
       "        vertical-align: middle;\n",
       "    }\n",
       "\n",
       "    .dataframe tbody tr th {\n",
       "        vertical-align: top;\n",
       "    }\n",
       "\n",
       "    .dataframe thead th {\n",
       "        text-align: right;\n",
       "    }\n",
       "</style>\n",
       "<table border=\"1\" class=\"dataframe\">\n",
       "  <thead>\n",
       "    <tr style=\"text-align: right;\">\n",
       "      <th></th>\n",
       "      <th>n_rides</th>\n",
       "      <th>avg_trip_duration</th>\n",
       "      <th>avg_trip_distance</th>\n",
       "    </tr>\n",
       "  </thead>\n",
       "  <tbody>\n",
       "    <tr>\n",
       "      <th>0</th>\n",
       "      <td>-1.063363</td>\n",
       "      <td>1.339552</td>\n",
       "      <td>0.033204</td>\n",
       "    </tr>\n",
       "    <tr>\n",
       "      <th>1</th>\n",
       "      <td>-1.183062</td>\n",
       "      <td>1.981452</td>\n",
       "      <td>-0.171021</td>\n",
       "    </tr>\n",
       "    <tr>\n",
       "      <th>2</th>\n",
       "      <td>-1.222961</td>\n",
       "      <td>3.031106</td>\n",
       "      <td>-1.496007</td>\n",
       "    </tr>\n",
       "    <tr>\n",
       "      <th>3</th>\n",
       "      <td>-1.255048</td>\n",
       "      <td>0.423901</td>\n",
       "      <td>-2.428992</td>\n",
       "    </tr>\n",
       "    <tr>\n",
       "      <th>4</th>\n",
       "      <td>-1.230495</td>\n",
       "      <td>-0.089795</td>\n",
       "      <td>2.657529</td>\n",
       "    </tr>\n",
       "    <tr>\n",
       "      <th>...</th>\n",
       "      <td>...</td>\n",
       "      <td>...</td>\n",
       "      <td>...</td>\n",
       "    </tr>\n",
       "    <tr>\n",
       "      <th>163</th>\n",
       "      <td>0.096791</td>\n",
       "      <td>0.250963</td>\n",
       "      <td>-1.352363</td>\n",
       "    </tr>\n",
       "    <tr>\n",
       "      <th>164</th>\n",
       "      <td>-0.273465</td>\n",
       "      <td>0.363615</td>\n",
       "      <td>-1.242438</td>\n",
       "    </tr>\n",
       "    <tr>\n",
       "      <th>165</th>\n",
       "      <td>-0.540485</td>\n",
       "      <td>0.261065</td>\n",
       "      <td>-1.207687</td>\n",
       "    </tr>\n",
       "    <tr>\n",
       "      <th>166</th>\n",
       "      <td>-0.700920</td>\n",
       "      <td>0.570065</td>\n",
       "      <td>-0.345116</td>\n",
       "    </tr>\n",
       "    <tr>\n",
       "      <th>167</th>\n",
       "      <td>-0.895116</td>\n",
       "      <td>0.715176</td>\n",
       "      <td>-0.095717</td>\n",
       "    </tr>\n",
       "  </tbody>\n",
       "</table>\n",
       "<p>168 rows × 3 columns</p>\n",
       "</div>"
      ],
      "text/plain": [
       "      n_rides  avg_trip_duration  avg_trip_distance\n",
       "0   -1.063363           1.339552           0.033204\n",
       "1   -1.183062           1.981452          -0.171021\n",
       "2   -1.222961           3.031106          -1.496007\n",
       "3   -1.255048           0.423901          -2.428992\n",
       "4   -1.230495          -0.089795           2.657529\n",
       "..        ...                ...                ...\n",
       "163  0.096791           0.250963          -1.352363\n",
       "164 -0.273465           0.363615          -1.242438\n",
       "165 -0.540485           0.261065          -1.207687\n",
       "166 -0.700920           0.570065          -0.345116\n",
       "167 -0.895116           0.715176          -0.095717\n",
       "\n",
       "[168 rows x 3 columns]"
      ]
     },
     "execution_count": 187,
     "metadata": {},
     "output_type": "execute_result"
    }
   ],
   "source": [
    "#Scaling the Data\n",
    "df_phil_clus_customer_types_cluster_scaled = scalingData(df_phil_clus_customer_types_cluster)\n",
    "df_phil_clus_customer_types_cluster_scaled"
   ]
  },
  {
   "cell_type": "code",
   "execution_count": 188,
   "id": "98879934",
   "metadata": {},
   "outputs": [
    {
     "data": {
      "image/png": "[encoded data removed]",
      "text/plain": [
       "<Figure size 1200x700 with 1 Axes>"
      ]
     },
     "metadata": {},
     "output_type": "display_data"
    }
   ],
   "source": [
    "#Calculating the Loss with increasing number of Clusters\n",
    "calcAndPlotLoss(10, df_phil_clus_customer_types_cluster_scaled)"
   ]
  },
  {
   "attachments": {},
   "cell_type": "markdown",
   "id": "dcd048d4",
   "metadata": {},
   "source": [
    "Looking at the loss function, the amount of clusters should be between 2-4. By testing the cluster amount, having 4 clusters finds similiar groups for customer/trip types. By using less clusters, the information gained from the clusters is difficult to interpret."
   ]
  },
  {
   "cell_type": "code",
   "execution_count": 189,
   "id": "274d638e",
   "metadata": {},
   "outputs": [
    {
     "data": {
      "text/html": [
       "<div>\n",
       "<style scoped>\n",
       "    .dataframe tbody tr th:only-of-type {\n",
       "        vertical-align: middle;\n",
       "    }\n",
       "\n",
       "    .dataframe tbody tr th {\n",
       "        vertical-align: top;\n",
       "    }\n",
       "\n",
       "    .dataframe thead th {\n",
       "        text-align: right;\n",
       "    }\n",
       "</style>\n",
       "<table border=\"1\" class=\"dataframe\">\n",
       "  <thead>\n",
       "    <tr style=\"text-align: right;\">\n",
       "      <th></th>\n",
       "      <th>weekday</th>\n",
       "      <th>hour</th>\n",
       "      <th>trip_duration_in_minutes</th>\n",
       "      <th>distance_in_km</th>\n",
       "      <th>n_rides</th>\n",
       "      <th>avg_trip_duration</th>\n",
       "      <th>avg_trip_distance</th>\n",
       "      <th>Cluster</th>\n",
       "    </tr>\n",
       "  </thead>\n",
       "  <tbody>\n",
       "    <tr>\n",
       "      <th>0</th>\n",
       "      <td>0</td>\n",
       "      <td>0</td>\n",
       "      <td>25440</td>\n",
       "      <td>1394.803697</td>\n",
       "      <td>845</td>\n",
       "      <td>30.106509</td>\n",
       "      <td>1.650655</td>\n",
       "      <td>1</td>\n",
       "    </tr>\n",
       "    <tr>\n",
       "      <th>1</th>\n",
       "      <td>0</td>\n",
       "      <td>1</td>\n",
       "      <td>14259</td>\n",
       "      <td>678.613088</td>\n",
       "      <td>416</td>\n",
       "      <td>34.276442</td>\n",
       "      <td>1.631281</td>\n",
       "      <td>1</td>\n",
       "    </tr>\n",
       "    <tr>\n",
       "      <th>2</th>\n",
       "      <td>0</td>\n",
       "      <td>2</td>\n",
       "      <td>11219</td>\n",
       "      <td>411.024992</td>\n",
       "      <td>273</td>\n",
       "      <td>41.095238</td>\n",
       "      <td>1.505586</td>\n",
       "      <td>1</td>\n",
       "    </tr>\n",
       "    <tr>\n",
       "      <th>3</th>\n",
       "      <td>0</td>\n",
       "      <td>3</td>\n",
       "      <td>3817</td>\n",
       "      <td>223.898330</td>\n",
       "      <td>158</td>\n",
       "      <td>24.158228</td>\n",
       "      <td>1.417078</td>\n",
       "      <td>1</td>\n",
       "    </tr>\n",
       "    <tr>\n",
       "      <th>4</th>\n",
       "      <td>0</td>\n",
       "      <td>4</td>\n",
       "      <td>5122</td>\n",
       "      <td>467.304804</td>\n",
       "      <td>246</td>\n",
       "      <td>20.821138</td>\n",
       "      <td>1.899613</td>\n",
       "      <td>3</td>\n",
       "    </tr>\n",
       "    <tr>\n",
       "      <th>...</th>\n",
       "      <td>...</td>\n",
       "      <td>...</td>\n",
       "      <td>...</td>\n",
       "      <td>...</td>\n",
       "      <td>...</td>\n",
       "      <td>...</td>\n",
       "      <td>...</td>\n",
       "      <td>...</td>\n",
       "    </tr>\n",
       "    <tr>\n",
       "      <th>163</th>\n",
       "      <td>6</td>\n",
       "      <td>19</td>\n",
       "      <td>115243</td>\n",
       "      <td>7600.622249</td>\n",
       "      <td>5003</td>\n",
       "      <td>23.034779</td>\n",
       "      <td>1.519213</td>\n",
       "      <td>2</td>\n",
       "    </tr>\n",
       "    <tr>\n",
       "      <th>164</th>\n",
       "      <td>6</td>\n",
       "      <td>20</td>\n",
       "      <td>87366</td>\n",
       "      <td>5622.960210</td>\n",
       "      <td>3676</td>\n",
       "      <td>23.766594</td>\n",
       "      <td>1.529641</td>\n",
       "      <td>2</td>\n",
       "    </tr>\n",
       "    <tr>\n",
       "      <th>165</th>\n",
       "      <td>6</td>\n",
       "      <td>21</td>\n",
       "      <td>62810</td>\n",
       "      <td>4168.057497</td>\n",
       "      <td>2719</td>\n",
       "      <td>23.100405</td>\n",
       "      <td>1.532938</td>\n",
       "      <td>2</td>\n",
       "    </tr>\n",
       "    <tr>\n",
       "      <th>166</th>\n",
       "      <td>6</td>\n",
       "      <td>22</td>\n",
       "      <td>53831</td>\n",
       "      <td>3462.057835</td>\n",
       "      <td>2144</td>\n",
       "      <td>25.107743</td>\n",
       "      <td>1.614766</td>\n",
       "      <td>2</td>\n",
       "    </tr>\n",
       "    <tr>\n",
       "      <th>167</th>\n",
       "      <td>6</td>\n",
       "      <td>23</td>\n",
       "      <td>37721</td>\n",
       "      <td>2372.439596</td>\n",
       "      <td>1448</td>\n",
       "      <td>26.050414</td>\n",
       "      <td>1.638425</td>\n",
       "      <td>1</td>\n",
       "    </tr>\n",
       "  </tbody>\n",
       "</table>\n",
       "<p>168 rows × 8 columns</p>\n",
       "</div>"
      ],
      "text/plain": [
       "     weekday  hour  trip_duration_in_minutes  distance_in_km  n_rides  \\\n",
       "0          0     0                     25440     1394.803697      845   \n",
       "1          0     1                     14259      678.613088      416   \n",
       "2          0     2                     11219      411.024992      273   \n",
       "3          0     3                      3817      223.898330      158   \n",
       "4          0     4                      5122      467.304804      246   \n",
       "..       ...   ...                       ...             ...      ...   \n",
       "163        6    19                    115243     7600.622249     5003   \n",
       "164        6    20                     87366     5622.960210     3676   \n",
       "165        6    21                     62810     4168.057497     2719   \n",
       "166        6    22                     53831     3462.057835     2144   \n",
       "167        6    23                     37721     2372.439596     1448   \n",
       "\n",
       "     avg_trip_duration  avg_trip_distance  Cluster  \n",
       "0            30.106509           1.650655        1  \n",
       "1            34.276442           1.631281        1  \n",
       "2            41.095238           1.505586        1  \n",
       "3            24.158228           1.417078        1  \n",
       "4            20.821138           1.899613        3  \n",
       "..                 ...                ...      ...  \n",
       "163          23.034779           1.519213        2  \n",
       "164          23.766594           1.529641        2  \n",
       "165          23.100405           1.532938        2  \n",
       "166          25.107743           1.614766        2  \n",
       "167          26.050414           1.638425        1  \n",
       "\n",
       "[168 rows x 8 columns]"
      ]
     },
     "execution_count": 189,
     "metadata": {},
     "output_type": "execute_result"
    }
   ],
   "source": [
    "# Define the cluster amount here\n",
    "cluster = 4\n",
    "\n",
    "# Calculating KMeans\n",
    "calcKMeans(cluster, df_phil_clus_customer_types_cluster_scaled)\n",
    "\n",
    "# Adding the clusters from KMeans into the original dataframe \n",
    "df_phil_clus_customer_types_merged.loc[:, 'Cluster'] = df_phil_clus_customer_types_cluster_scaled['Cluster']\n",
    "\n",
    "df_phil_clus_customer_types_merged"
   ]
  },
  {
   "cell_type": "code",
   "execution_count": 190,
   "id": "f417b40c",
   "metadata": {},
   "outputs": [
    {
     "data": {
      "image/png": "[encoded data removed]",
      "text/plain": [
       "<Figure size 1000x1000 with 1 Axes>"
      ]
     },
     "metadata": {},
     "output_type": "display_data"
    }
   ],
   "source": [
    "#Plotting the Clustering in 3D\n",
    "fig = plt.figure(figsize=(10, 10))\n",
    "\n",
    "ax = fig.add_subplot(projection='3d')\n",
    "\n",
    "scatter = ax.scatter(xs=df_phil_clus_customer_types_merged['n_rides'], ys=df_phil_clus_customer_types_merged['avg_trip_duration'], zs=df_phil_clus_customer_types_merged['avg_trip_distance'], c=df_phil_clus_customer_types_merged['Cluster'])\n",
    "plt.legend(*scatter.legend_elements())\n",
    "plt.xlabel('Number of Trips')\n",
    "plt.ylabel('Avg. Trip Duration in min')\n",
    "ax.set_zlabel('Avg. Trip Distance in km')\n",
    "ax.zaxis.labelpad = 0\n",
    "plt.show()"
   ]
  },
  {
   "cell_type": "code",
   "execution_count": 203,
   "id": "248aeb15",
   "metadata": {},
   "outputs": [
    {
     "data": {
      "image/png": "[encoded data removed]",
      "text/plain": [
       "<Figure size 1200x700 with 1 Axes>"
      ]
     },
     "metadata": {},
     "output_type": "display_data"
    }
   ],
   "source": [
    "#Plot the cluster result by hour and weekday\n",
    "plt.figure(figsize=(12,7))\n",
    "scatter = plt.scatter(x=df_phil_clus_customer_types_merged['weekday'], y=df_phil_clus_customer_types_merged['hour'], c=df_phil_clus_customer_types_merged['Cluster'])\n",
    "plt.legend(*scatter.legend_elements(), bbox_to_anchor=(1.04, 1), loc='upper left')\n",
    "plt.title('Clustering of Customer Types by weekday and hour')\n",
    "plt.xlabel('Day of the Week')\n",
    "plt.ylabel('Hour of the Day')\n",
    "plt.show()"
   ]
  },
  {
   "cell_type": "code",
   "execution_count": 192,
   "id": "5af8ea1d",
   "metadata": {},
   "outputs": [
    {
     "data": {
      "text/html": [
       "<div>\n",
       "<style scoped>\n",
       "    .dataframe tbody tr th:only-of-type {\n",
       "        vertical-align: middle;\n",
       "    }\n",
       "\n",
       "    .dataframe tbody tr th {\n",
       "        vertical-align: top;\n",
       "    }\n",
       "\n",
       "    .dataframe thead th {\n",
       "        text-align: right;\n",
       "    }\n",
       "</style>\n",
       "<table border=\"1\" class=\"dataframe\">\n",
       "  <thead>\n",
       "    <tr style=\"text-align: right;\">\n",
       "      <th></th>\n",
       "      <th>n_rides</th>\n",
       "      <th>avg_trip_duration</th>\n",
       "      <th>avg_trip_distance</th>\n",
       "    </tr>\n",
       "  </thead>\n",
       "  <tbody>\n",
       "    <tr>\n",
       "      <th>count</th>\n",
       "      <td>34.000000</td>\n",
       "      <td>34.000000</td>\n",
       "      <td>34.000000</td>\n",
       "    </tr>\n",
       "    <tr>\n",
       "      <th>mean</th>\n",
       "      <td>9782.823529</td>\n",
       "      <td>15.064926</td>\n",
       "      <td>1.726869</td>\n",
       "    </tr>\n",
       "    <tr>\n",
       "      <th>std</th>\n",
       "      <td>2891.038562</td>\n",
       "      <td>1.622509</td>\n",
       "      <td>0.048032</td>\n",
       "    </tr>\n",
       "    <tr>\n",
       "      <th>min</th>\n",
       "      <td>5509.000000</td>\n",
       "      <td>12.642819</td>\n",
       "      <td>1.628455</td>\n",
       "    </tr>\n",
       "    <tr>\n",
       "      <th>25%</th>\n",
       "      <td>7439.500000</td>\n",
       "      <td>13.479119</td>\n",
       "      <td>1.694059</td>\n",
       "    </tr>\n",
       "    <tr>\n",
       "      <th>50%</th>\n",
       "      <td>9056.500000</td>\n",
       "      <td>14.982776</td>\n",
       "      <td>1.719940</td>\n",
       "    </tr>\n",
       "    <tr>\n",
       "      <th>75%</th>\n",
       "      <td>11407.500000</td>\n",
       "      <td>16.215522</td>\n",
       "      <td>1.765644</td>\n",
       "    </tr>\n",
       "    <tr>\n",
       "      <th>max</th>\n",
       "      <td>16009.000000</td>\n",
       "      <td>18.318668</td>\n",
       "      <td>1.807625</td>\n",
       "    </tr>\n",
       "  </tbody>\n",
       "</table>\n",
       "</div>"
      ],
      "text/plain": [
       "            n_rides  avg_trip_duration  avg_trip_distance\n",
       "count     34.000000          34.000000          34.000000\n",
       "mean    9782.823529          15.064926           1.726869\n",
       "std     2891.038562           1.622509           0.048032\n",
       "min     5509.000000          12.642819           1.628455\n",
       "25%     7439.500000          13.479119           1.694059\n",
       "50%     9056.500000          14.982776           1.719940\n",
       "75%    11407.500000          16.215522           1.765644\n",
       "max    16009.000000          18.318668           1.807625"
      ]
     },
     "metadata": {},
     "output_type": "display_data"
    },
    {
     "data": {
      "text/html": [
       "<div>\n",
       "<style scoped>\n",
       "    .dataframe tbody tr th:only-of-type {\n",
       "        vertical-align: middle;\n",
       "    }\n",
       "\n",
       "    .dataframe tbody tr th {\n",
       "        vertical-align: top;\n",
       "    }\n",
       "\n",
       "    .dataframe thead th {\n",
       "        text-align: right;\n",
       "    }\n",
       "</style>\n",
       "<table border=\"1\" class=\"dataframe\">\n",
       "  <thead>\n",
       "    <tr style=\"text-align: right;\">\n",
       "      <th></th>\n",
       "      <th>n_rides</th>\n",
       "      <th>avg_trip_duration</th>\n",
       "      <th>avg_trip_distance</th>\n",
       "    </tr>\n",
       "  </thead>\n",
       "  <tbody>\n",
       "    <tr>\n",
       "      <th>count</th>\n",
       "      <td>30.000000</td>\n",
       "      <td>30.000000</td>\n",
       "      <td>30.000000</td>\n",
       "    </tr>\n",
       "    <tr>\n",
       "      <th>mean</th>\n",
       "      <td>664.600000</td>\n",
       "      <td>31.999291</td>\n",
       "      <td>1.601133</td>\n",
       "    </tr>\n",
       "    <tr>\n",
       "      <th>std</th>\n",
       "      <td>493.348908</td>\n",
       "      <td>5.267552</td>\n",
       "      <td>0.089904</td>\n",
       "    </tr>\n",
       "    <tr>\n",
       "      <th>min</th>\n",
       "      <td>142.000000</td>\n",
       "      <td>24.158228</td>\n",
       "      <td>1.417078</td>\n",
       "    </tr>\n",
       "    <tr>\n",
       "      <th>25%</th>\n",
       "      <td>261.750000</td>\n",
       "      <td>27.934570</td>\n",
       "      <td>1.540733</td>\n",
       "    </tr>\n",
       "    <tr>\n",
       "      <th>50%</th>\n",
       "      <td>440.500000</td>\n",
       "      <td>31.242673</td>\n",
       "      <td>1.626812</td>\n",
       "    </tr>\n",
       "    <tr>\n",
       "      <th>75%</th>\n",
       "      <td>894.000000</td>\n",
       "      <td>34.160617</td>\n",
       "      <td>1.649875</td>\n",
       "    </tr>\n",
       "    <tr>\n",
       "      <th>max</th>\n",
       "      <td>1720.000000</td>\n",
       "      <td>46.320930</td>\n",
       "      <td>1.800770</td>\n",
       "    </tr>\n",
       "  </tbody>\n",
       "</table>\n",
       "</div>"
      ],
      "text/plain": [
       "           n_rides  avg_trip_duration  avg_trip_distance\n",
       "count    30.000000          30.000000          30.000000\n",
       "mean    664.600000          31.999291           1.601133\n",
       "std     493.348908           5.267552           0.089904\n",
       "min     142.000000          24.158228           1.417078\n",
       "25%     261.750000          27.934570           1.540733\n",
       "50%     440.500000          31.242673           1.626812\n",
       "75%     894.000000          34.160617           1.649875\n",
       "max    1720.000000          46.320930           1.800770"
      ]
     },
     "metadata": {},
     "output_type": "display_data"
    },
    {
     "data": {
      "text/html": [
       "<div>\n",
       "<style scoped>\n",
       "    .dataframe tbody tr th:only-of-type {\n",
       "        vertical-align: middle;\n",
       "    }\n",
       "\n",
       "    .dataframe tbody tr th {\n",
       "        vertical-align: top;\n",
       "    }\n",
       "\n",
       "    .dataframe thead th {\n",
       "        text-align: right;\n",
       "    }\n",
       "</style>\n",
       "<table border=\"1\" class=\"dataframe\">\n",
       "  <thead>\n",
       "    <tr style=\"text-align: right;\">\n",
       "      <th></th>\n",
       "      <th>n_rides</th>\n",
       "      <th>avg_trip_duration</th>\n",
       "      <th>avg_trip_distance</th>\n",
       "    </tr>\n",
       "  </thead>\n",
       "  <tbody>\n",
       "    <tr>\n",
       "      <th>count</th>\n",
       "      <td>83.000000</td>\n",
       "      <td>83.000000</td>\n",
       "      <td>83.000000</td>\n",
       "    </tr>\n",
       "    <tr>\n",
       "      <th>mean</th>\n",
       "      <td>4790.481928</td>\n",
       "      <td>21.366410</td>\n",
       "      <td>1.598112</td>\n",
       "    </tr>\n",
       "    <tr>\n",
       "      <th>std</th>\n",
       "      <td>1791.283185</td>\n",
       "      <td>3.092041</td>\n",
       "      <td>0.047153</td>\n",
       "    </tr>\n",
       "    <tr>\n",
       "      <th>min</th>\n",
       "      <td>112.000000</td>\n",
       "      <td>16.560976</td>\n",
       "      <td>1.462583</td>\n",
       "    </tr>\n",
       "    <tr>\n",
       "      <th>25%</th>\n",
       "      <td>3623.500000</td>\n",
       "      <td>18.881919</td>\n",
       "      <td>1.569715</td>\n",
       "    </tr>\n",
       "    <tr>\n",
       "      <th>50%</th>\n",
       "      <td>4799.000000</td>\n",
       "      <td>20.518935</td>\n",
       "      <td>1.608684</td>\n",
       "    </tr>\n",
       "    <tr>\n",
       "      <th>75%</th>\n",
       "      <td>5997.500000</td>\n",
       "      <td>23.661720</td>\n",
       "      <td>1.626701</td>\n",
       "    </tr>\n",
       "    <tr>\n",
       "      <th>max</th>\n",
       "      <td>8110.000000</td>\n",
       "      <td>27.991817</td>\n",
       "      <td>1.690540</td>\n",
       "    </tr>\n",
       "  </tbody>\n",
       "</table>\n",
       "</div>"
      ],
      "text/plain": [
       "           n_rides  avg_trip_duration  avg_trip_distance\n",
       "count    83.000000          83.000000          83.000000\n",
       "mean   4790.481928          21.366410           1.598112\n",
       "std    1791.283185           3.092041           0.047153\n",
       "min     112.000000          16.560976           1.462583\n",
       "25%    3623.500000          18.881919           1.569715\n",
       "50%    4799.000000          20.518935           1.608684\n",
       "75%    5997.500000          23.661720           1.626701\n",
       "max    8110.000000          27.991817           1.690540"
      ]
     },
     "metadata": {},
     "output_type": "display_data"
    },
    {
     "data": {
      "text/html": [
       "<div>\n",
       "<style scoped>\n",
       "    .dataframe tbody tr th:only-of-type {\n",
       "        vertical-align: middle;\n",
       "    }\n",
       "\n",
       "    .dataframe tbody tr th {\n",
       "        vertical-align: top;\n",
       "    }\n",
       "\n",
       "    .dataframe thead th {\n",
       "        text-align: right;\n",
       "    }\n",
       "</style>\n",
       "<table border=\"1\" class=\"dataframe\">\n",
       "  <thead>\n",
       "    <tr style=\"text-align: right;\">\n",
       "      <th></th>\n",
       "      <th>n_rides</th>\n",
       "      <th>avg_trip_duration</th>\n",
       "      <th>avg_trip_distance</th>\n",
       "    </tr>\n",
       "  </thead>\n",
       "  <tbody>\n",
       "    <tr>\n",
       "      <th>count</th>\n",
       "      <td>21.000000</td>\n",
       "      <td>21.000000</td>\n",
       "      <td>21.000000</td>\n",
       "    </tr>\n",
       "    <tr>\n",
       "      <th>mean</th>\n",
       "      <td>1526.714286</td>\n",
       "      <td>16.683422</td>\n",
       "      <td>1.780481</td>\n",
       "    </tr>\n",
       "    <tr>\n",
       "      <th>std</th>\n",
       "      <td>1289.202239</td>\n",
       "      <td>3.256720</td>\n",
       "      <td>0.091259</td>\n",
       "    </tr>\n",
       "    <tr>\n",
       "      <th>min</th>\n",
       "      <td>228.000000</td>\n",
       "      <td>12.349515</td>\n",
       "      <td>1.668644</td>\n",
       "    </tr>\n",
       "    <tr>\n",
       "      <th>25%</th>\n",
       "      <td>349.000000</td>\n",
       "      <td>13.764327</td>\n",
       "      <td>1.722561</td>\n",
       "    </tr>\n",
       "    <tr>\n",
       "      <th>50%</th>\n",
       "      <td>1212.000000</td>\n",
       "      <td>15.613821</td>\n",
       "      <td>1.750306</td>\n",
       "    </tr>\n",
       "    <tr>\n",
       "      <th>75%</th>\n",
       "      <td>1960.000000</td>\n",
       "      <td>19.683770</td>\n",
       "      <td>1.820270</td>\n",
       "    </tr>\n",
       "    <tr>\n",
       "      <th>max</th>\n",
       "      <td>4001.000000</td>\n",
       "      <td>22.775510</td>\n",
       "      <td>1.974023</td>\n",
       "    </tr>\n",
       "  </tbody>\n",
       "</table>\n",
       "</div>"
      ],
      "text/plain": [
       "           n_rides  avg_trip_duration  avg_trip_distance\n",
       "count    21.000000          21.000000          21.000000\n",
       "mean   1526.714286          16.683422           1.780481\n",
       "std    1289.202239           3.256720           0.091259\n",
       "min     228.000000          12.349515           1.668644\n",
       "25%     349.000000          13.764327           1.722561\n",
       "50%    1212.000000          15.613821           1.750306\n",
       "75%    1960.000000          19.683770           1.820270\n",
       "max    4001.000000          22.775510           1.974023"
      ]
     },
     "metadata": {},
     "output_type": "display_data"
    }
   ],
   "source": [
    "#Describing the data of each cluster\n",
    "describeData(df_phil_clus_customer_types_cluster, df_phil_clus_customer_types_cluster_scaled, 4)"
   ]
  },
  {
   "cell_type": "markdown",
   "id": "1d7fcfe2",
   "metadata": {},
   "source": [
    "Cluster results for Trip/Customer types:\n",
    "- First Cluster (Rush-Hour Bikers)<br> \n",
    "The first cluster represents Trips during the Rush hour as it only appears on weekdays around 8 AM and 5 PM. In terms of customer groups this is likely people renting a bicycle to get to and away from work. With an average trip duration around 15 mins and an averageg trip distance of 1.7 km, this group drives to their destination comparetively fast. This goes in line with people wanting to get to work and back home on time.\n",
    "<br><br>\n",
    "- Second Cluster (Night Riders)<br> \n",
    "The second Cluster represents customers which ride during the night around 0 AM to 4 AM for each weekday. Datawise this cluster has an average trip duration of around 30 min and an average trip distance of 1.6 km. As the average trip duration here is significantly longer than the other Trip Types without the trip distance being much different, it can be assumed that these trip this group includes full day rentals. The longer average trip duration can also be explained by the fact that people might drive slower at night.\n",
    "<br><br>\n",
    "- Third Cluster (Early Birds)<br>\n",
    "The third Cluster represents people riding bikes early in the morning (around 5 AM). Their behavior shows consistency across all weekdays with a small offset on the weekend (Early Birds). In this cluster the average trip duration sits at aroung 16min and the average trip distance at 1.8 km. This coult be indicating that these customers might want to get ahead of the Rush-Hour Biker as they need to drive a bit longer or farther to work as indicated by slightly higher average for trip duration and distance than the Rush-Hour Bikers.\n",
    "<br><br>\n",
    "- Fourth Cluster (Leisure Bikers) <br>\n",
    "The fourth Cluster represents the trips likely unrelated to work as they are especially prevelant on the weekends as well as after rush hours on weekdays. This cluster has an average trip duration of 21 min with an average trip distance of 1.6 km. These trips are likely attributed to people riding in and out of the city but without hurry as indicated by the longer average trip duration compared to the Rush-Hour Bikers."
   ]
  },
  {
   "attachments": {},
   "cell_type": "markdown",
   "id": "9b001957",
   "metadata": {},
   "source": [
    "### Clustering locations based demand patterns\n",
    "\n",
    "For this we will use:\n",
    "- Total trips of every start and end station\n",
    "- Avg. trip duration of every start and end station\n",
    "- Avg. distance in kilometers between every start and end station"
   ]
  },
  {
   "cell_type": "markdown",
   "id": "2241bcc8",
   "metadata": {},
   "source": [
    "#### Start Stations"
   ]
  },
  {
   "cell_type": "code",
   "execution_count": 193,
   "id": "dca1a264",
   "metadata": {},
   "outputs": [
    {
     "data": {
      "text/html": [
       "<div>\n",
       "<style scoped>\n",
       "    .dataframe tbody tr th:only-of-type {\n",
       "        vertical-align: middle;\n",
       "    }\n",
       "\n",
       "    .dataframe tbody tr th {\n",
       "        vertical-align: top;\n",
       "    }\n",
       "\n",
       "    .dataframe thead th {\n",
       "        text-align: right;\n",
       "    }\n",
       "</style>\n",
       "<table border=\"1\" class=\"dataframe\">\n",
       "  <thead>\n",
       "    <tr style=\"text-align: right;\">\n",
       "      <th></th>\n",
       "      <th>start_station_name</th>\n",
       "      <th>start_lat</th>\n",
       "      <th>start_lon</th>\n",
       "      <th>total_started_trips</th>\n",
       "      <th>trip_duration_in_minutes</th>\n",
       "      <th>distance_in_km</th>\n",
       "    </tr>\n",
       "  </thead>\n",
       "  <tbody>\n",
       "    <tr>\n",
       "      <th>64</th>\n",
       "      <td>40th Street Station, MFL</td>\n",
       "      <td>39.956940</td>\n",
       "      <td>-75.200691</td>\n",
       "      <td>2364</td>\n",
       "      <td>45014</td>\n",
       "      <td>4477.262612</td>\n",
       "    </tr>\n",
       "    <tr>\n",
       "      <th>65</th>\n",
       "      <td>40th Street Station, MFL</td>\n",
       "      <td>39.957081</td>\n",
       "      <td>-75.201767</td>\n",
       "      <td>2184</td>\n",
       "      <td>35858</td>\n",
       "      <td>4310.390978</td>\n",
       "    </tr>\n",
       "    <tr>\n",
       "      <th>106</th>\n",
       "      <td>Parkside &amp; Belmont, Case Building</td>\n",
       "      <td>39.977791</td>\n",
       "      <td>-75.213226</td>\n",
       "      <td>321</td>\n",
       "      <td>8331</td>\n",
       "      <td>833.393816</td>\n",
       "    </tr>\n",
       "    <tr>\n",
       "      <th>107</th>\n",
       "      <td>Parkside &amp; Belmont, Case Building</td>\n",
       "      <td>39.978039</td>\n",
       "      <td>-75.212196</td>\n",
       "      <td>1325</td>\n",
       "      <td>43628</td>\n",
       "      <td>3519.146853</td>\n",
       "    </tr>\n",
       "    <tr>\n",
       "      <th>112</th>\n",
       "      <td>Philadelphia Museum of Art</td>\n",
       "      <td>39.963711</td>\n",
       "      <td>-75.181602</td>\n",
       "      <td>1550</td>\n",
       "      <td>64130</td>\n",
       "      <td>2416.999371</td>\n",
       "    </tr>\n",
       "    <tr>\n",
       "      <th>113</th>\n",
       "      <td>Philadelphia Museum of Art</td>\n",
       "      <td>39.964432</td>\n",
       "      <td>-75.179977</td>\n",
       "      <td>4211</td>\n",
       "      <td>175782</td>\n",
       "      <td>6120.682723</td>\n",
       "    </tr>\n",
       "    <tr>\n",
       "      <th>114</th>\n",
       "      <td>Philadelphia Museum of Art</td>\n",
       "      <td>39.964581</td>\n",
       "      <td>-75.180031</td>\n",
       "      <td>8265</td>\n",
       "      <td>322864</td>\n",
       "      <td>12247.614031</td>\n",
       "    </tr>\n",
       "    <tr>\n",
       "      <th>115</th>\n",
       "      <td>Philadelphia Zoo</td>\n",
       "      <td>39.974689</td>\n",
       "      <td>-75.195618</td>\n",
       "      <td>150</td>\n",
       "      <td>2625</td>\n",
       "      <td>331.270120</td>\n",
       "    </tr>\n",
       "    <tr>\n",
       "      <th>116</th>\n",
       "      <td>Philadelphia Zoo</td>\n",
       "      <td>39.974720</td>\n",
       "      <td>-75.197807</td>\n",
       "      <td>703</td>\n",
       "      <td>20245</td>\n",
       "      <td>1539.227147</td>\n",
       "    </tr>\n",
       "    <tr>\n",
       "      <th>127</th>\n",
       "      <td>University City Station</td>\n",
       "      <td>39.948872</td>\n",
       "      <td>-75.189857</td>\n",
       "      <td>6919</td>\n",
       "      <td>101403</td>\n",
       "      <td>12975.667610</td>\n",
       "    </tr>\n",
       "    <tr>\n",
       "      <th>128</th>\n",
       "      <td>University City Station</td>\n",
       "      <td>39.949219</td>\n",
       "      <td>-75.190361</td>\n",
       "      <td>9020</td>\n",
       "      <td>120389</td>\n",
       "      <td>15419.123591</td>\n",
       "    </tr>\n",
       "  </tbody>\n",
       "</table>\n",
       "</div>"
      ],
      "text/plain": [
       "                    start_station_name  start_lat  start_lon  \\\n",
       "64            40th Street Station, MFL  39.956940 -75.200691   \n",
       "65            40th Street Station, MFL  39.957081 -75.201767   \n",
       "106  Parkside & Belmont, Case Building  39.977791 -75.213226   \n",
       "107  Parkside & Belmont, Case Building  39.978039 -75.212196   \n",
       "112         Philadelphia Museum of Art  39.963711 -75.181602   \n",
       "113         Philadelphia Museum of Art  39.964432 -75.179977   \n",
       "114         Philadelphia Museum of Art  39.964581 -75.180031   \n",
       "115                   Philadelphia Zoo  39.974689 -75.195618   \n",
       "116                   Philadelphia Zoo  39.974720 -75.197807   \n",
       "127            University City Station  39.948872 -75.189857   \n",
       "128            University City Station  39.949219 -75.190361   \n",
       "\n",
       "     total_started_trips  trip_duration_in_minutes  distance_in_km  \n",
       "64                  2364                     45014     4477.262612  \n",
       "65                  2184                     35858     4310.390978  \n",
       "106                  321                      8331      833.393816  \n",
       "107                 1325                     43628     3519.146853  \n",
       "112                 1550                     64130     2416.999371  \n",
       "113                 4211                    175782     6120.682723  \n",
       "114                 8265                    322864    12247.614031  \n",
       "115                  150                      2625      331.270120  \n",
       "116                  703                     20245     1539.227147  \n",
       "127                 6919                    101403    12975.667610  \n",
       "128                 9020                    120389    15419.123591  "
      ]
     },
     "metadata": {},
     "output_type": "display_data"
    },
    {
     "data": {
      "text/html": [
       "<div>\n",
       "<style scoped>\n",
       "    .dataframe tbody tr th:only-of-type {\n",
       "        vertical-align: middle;\n",
       "    }\n",
       "\n",
       "    .dataframe tbody tr th {\n",
       "        vertical-align: top;\n",
       "    }\n",
       "\n",
       "    .dataframe thead th {\n",
       "        text-align: right;\n",
       "    }\n",
       "</style>\n",
       "<table border=\"1\" class=\"dataframe\">\n",
       "  <thead>\n",
       "    <tr style=\"text-align: right;\">\n",
       "      <th></th>\n",
       "      <th>start_station_name</th>\n",
       "      <th>start_lat</th>\n",
       "      <th>start_lon</th>\n",
       "      <th>total_started_trips</th>\n",
       "      <th>trip_duration_in_minutes</th>\n",
       "      <th>distance_in_km</th>\n",
       "    </tr>\n",
       "  </thead>\n",
       "  <tbody>\n",
       "    <tr>\n",
       "      <th>64</th>\n",
       "      <td>40th Street Station, MFL</td>\n",
       "      <td>39.956940</td>\n",
       "      <td>-75.200691</td>\n",
       "      <td>2364</td>\n",
       "      <td>45014</td>\n",
       "      <td>4477.262612</td>\n",
       "    </tr>\n",
       "    <tr>\n",
       "      <th>65</th>\n",
       "      <td>40th Street Station, MFL</td>\n",
       "      <td>39.957081</td>\n",
       "      <td>-75.201767</td>\n",
       "      <td>2184</td>\n",
       "      <td>35858</td>\n",
       "      <td>4310.390978</td>\n",
       "    </tr>\n",
       "  </tbody>\n",
       "</table>\n",
       "</div>"
      ],
      "text/plain": [
       "          start_station_name  start_lat  start_lon  total_started_trips  \\\n",
       "64  40th Street Station, MFL  39.956940 -75.200691                 2364   \n",
       "65  40th Street Station, MFL  39.957081 -75.201767                 2184   \n",
       "\n",
       "    trip_duration_in_minutes  distance_in_km  \n",
       "64                     45014     4477.262612  \n",
       "65                     35858     4310.390978  "
      ]
     },
     "metadata": {},
     "output_type": "display_data"
    },
    {
     "data": {
      "text/html": [
       "<div>\n",
       "<style scoped>\n",
       "    .dataframe tbody tr th:only-of-type {\n",
       "        vertical-align: middle;\n",
       "    }\n",
       "\n",
       "    .dataframe tbody tr th {\n",
       "        vertical-align: top;\n",
       "    }\n",
       "\n",
       "    .dataframe thead th {\n",
       "        text-align: right;\n",
       "    }\n",
       "</style>\n",
       "<table border=\"1\" class=\"dataframe\">\n",
       "  <thead>\n",
       "    <tr style=\"text-align: right;\">\n",
       "      <th></th>\n",
       "      <th>start_station_name</th>\n",
       "      <th>start_lat</th>\n",
       "      <th>start_lon</th>\n",
       "      <th>total_started_trips</th>\n",
       "      <th>trip_duration_in_minutes</th>\n",
       "      <th>distance_in_km</th>\n",
       "    </tr>\n",
       "  </thead>\n",
       "  <tbody>\n",
       "  </tbody>\n",
       "</table>\n",
       "</div>"
      ],
      "text/plain": [
       "Empty DataFrame\n",
       "Columns: [start_station_name, start_lat, start_lon, total_started_trips, trip_duration_in_minutes, distance_in_km]\n",
       "Index: []"
      ]
     },
     "metadata": {},
     "output_type": "display_data"
    },
    {
     "data": {
      "text/html": [
       "<div>\n",
       "<style scoped>\n",
       "    .dataframe tbody tr th:only-of-type {\n",
       "        vertical-align: middle;\n",
       "    }\n",
       "\n",
       "    .dataframe tbody tr th {\n",
       "        vertical-align: top;\n",
       "    }\n",
       "\n",
       "    .dataframe thead th {\n",
       "        text-align: right;\n",
       "    }\n",
       "</style>\n",
       "<table border=\"1\" class=\"dataframe\">\n",
       "  <thead>\n",
       "    <tr style=\"text-align: right;\">\n",
       "      <th></th>\n",
       "      <th>start_station_name</th>\n",
       "      <th>start_lat</th>\n",
       "      <th>start_lon</th>\n",
       "      <th>total_started_trips</th>\n",
       "      <th>trip_duration_in_minutes</th>\n",
       "      <th>distance_in_km</th>\n",
       "    </tr>\n",
       "  </thead>\n",
       "  <tbody>\n",
       "    <tr>\n",
       "      <th>64</th>\n",
       "      <td>40th Street Station, MFL</td>\n",
       "      <td>39.957011</td>\n",
       "      <td>-75.201229</td>\n",
       "      <td>4548</td>\n",
       "      <td>80872</td>\n",
       "      <td>8787.65359</td>\n",
       "    </tr>\n",
       "  </tbody>\n",
       "</table>\n",
       "</div>"
      ],
      "text/plain": [
       "          start_station_name  start_lat  start_lon  total_started_trips  \\\n",
       "64  40th Street Station, MFL  39.957011 -75.201229                 4548   \n",
       "\n",
       "    trip_duration_in_minutes  distance_in_km  \n",
       "64                     80872      8787.65359  "
      ]
     },
     "metadata": {},
     "output_type": "display_data"
    },
    {
     "data": {
      "text/html": [
       "<div>\n",
       "<style scoped>\n",
       "    .dataframe tbody tr th:only-of-type {\n",
       "        vertical-align: middle;\n",
       "    }\n",
       "\n",
       "    .dataframe tbody tr th {\n",
       "        vertical-align: top;\n",
       "    }\n",
       "\n",
       "    .dataframe thead th {\n",
       "        text-align: right;\n",
       "    }\n",
       "</style>\n",
       "<table border=\"1\" class=\"dataframe\">\n",
       "  <thead>\n",
       "    <tr style=\"text-align: right;\">\n",
       "      <th></th>\n",
       "      <th>total_started_trips</th>\n",
       "      <th>avg_trip_duration_in_minutes</th>\n",
       "      <th>avg_distance_in_km</th>\n",
       "    </tr>\n",
       "  </thead>\n",
       "  <tbody>\n",
       "    <tr>\n",
       "      <th>0</th>\n",
       "      <td>8441</td>\n",
       "      <td>16.443075</td>\n",
       "      <td>1.542630</td>\n",
       "    </tr>\n",
       "    <tr>\n",
       "      <th>1</th>\n",
       "      <td>4664</td>\n",
       "      <td>16.487350</td>\n",
       "      <td>1.835612</td>\n",
       "    </tr>\n",
       "    <tr>\n",
       "      <th>2</th>\n",
       "      <td>12025</td>\n",
       "      <td>15.063285</td>\n",
       "      <td>1.343170</td>\n",
       "    </tr>\n",
       "    <tr>\n",
       "      <th>3</th>\n",
       "      <td>743</td>\n",
       "      <td>20.162853</td>\n",
       "      <td>1.332682</td>\n",
       "    </tr>\n",
       "    <tr>\n",
       "      <th>4</th>\n",
       "      <td>7777</td>\n",
       "      <td>15.697827</td>\n",
       "      <td>1.829944</td>\n",
       "    </tr>\n",
       "    <tr>\n",
       "      <th>...</th>\n",
       "      <td>...</td>\n",
       "      <td>...</td>\n",
       "      <td>...</td>\n",
       "    </tr>\n",
       "    <tr>\n",
       "      <th>119</th>\n",
       "      <td>9935</td>\n",
       "      <td>14.731454</td>\n",
       "      <td>1.928227</td>\n",
       "    </tr>\n",
       "    <tr>\n",
       "      <th>120</th>\n",
       "      <td>4032</td>\n",
       "      <td>13.969742</td>\n",
       "      <td>1.975722</td>\n",
       "    </tr>\n",
       "    <tr>\n",
       "      <th>121</th>\n",
       "      <td>1472</td>\n",
       "      <td>22.866168</td>\n",
       "      <td>2.726837</td>\n",
       "    </tr>\n",
       "    <tr>\n",
       "      <th>122</th>\n",
       "      <td>15939</td>\n",
       "      <td>13.915051</td>\n",
       "      <td>1.781466</td>\n",
       "    </tr>\n",
       "    <tr>\n",
       "      <th>123</th>\n",
       "      <td>4653</td>\n",
       "      <td>23.132173</td>\n",
       "      <td>1.806341</td>\n",
       "    </tr>\n",
       "  </tbody>\n",
       "</table>\n",
       "<p>124 rows × 3 columns</p>\n",
       "</div>"
      ],
      "text/plain": [
       "     total_started_trips  avg_trip_duration_in_minutes  avg_distance_in_km\n",
       "0                   8441                     16.443075            1.542630\n",
       "1                   4664                     16.487350            1.835612\n",
       "2                  12025                     15.063285            1.343170\n",
       "3                    743                     20.162853            1.332682\n",
       "4                   7777                     15.697827            1.829944\n",
       "..                   ...                           ...                 ...\n",
       "119                 9935                     14.731454            1.928227\n",
       "120                 4032                     13.969742            1.975722\n",
       "121                 1472                     22.866168            2.726837\n",
       "122                15939                     13.915051            1.781466\n",
       "123                 4653                     23.132173            1.806341\n",
       "\n",
       "[124 rows x 3 columns]"
      ]
     },
     "execution_count": 193,
     "metadata": {},
     "output_type": "execute_result"
    }
   ],
   "source": [
    "# Aggregation function to combine stations that have multiple stations in itself\n",
    "agg_functions = {'start_station_name': 'first', 'start_lat': 'mean', 'start_lon': 'mean', 'total_started_trips': 'sum', 'trip_duration_in_minutes': 'sum', 'distance_in_km': 'sum'}\n",
    "\n",
    "# Dataframe for the sum of trip duration and distance per station\n",
    "descriptiveTripFeatures = df_phil_clustering.groupby(['start_station_name', 'start_lat', 'start_lon']).aggregate({'trip_duration_in_minutes': 'sum', 'distance_in_km': 'sum'}).reset_index()\n",
    "\n",
    "# Dataframe for the amount of total trips per station\n",
    "totalTripCount = df_phil_clustering.groupby(['start_station_name', 'start_lat', 'start_lon'])['start_station_name'].count().reset_index(name='total_started_trips')\n",
    "\n",
    "# Merging both dataframes into one\n",
    "df_phil_start_stations = pd.merge(totalTripCount, descriptiveTripFeatures, on=['start_station_name', 'start_lat', 'start_lon'])\n",
    "\n",
    "# Show duplicates before aggregating them and one example\n",
    "display(df_phil_start_stations[df_phil_start_stations.duplicated(subset=['start_station_name'], keep=False)])\n",
    "display(df_phil_start_stations[df_phil_start_stations['start_station_name'] == '40th Street Station, MFL'])\n",
    "\n",
    "# Aggregation\n",
    "df_phil_start_stations = df_phil_start_stations.groupby(df_phil_start_stations['start_station_name']).aggregate(agg_functions).reset_index(drop=True)\n",
    "\n",
    "# Show duplicates after aggregating to see if they are gone\n",
    "display(df_phil_start_stations[df_phil_start_stations.duplicated(subset=['start_station_name'], keep=False)])\n",
    "display(df_phil_start_stations[df_phil_start_stations['start_station_name'] == '40th Street Station, MFL'])\n",
    "\n",
    "# Copying the original dataframe for visualization and dropping every unnecessary column for KMeans\n",
    "df_phil_start_stations_original = df_phil_start_stations.copy()\n",
    "df_phil_start_stations.drop(['start_station_name', 'start_lat', 'start_lon'], axis=1, inplace=True)\n",
    "\n",
    "# Calculating avg values for both trip duration and the distance\n",
    "df_phil_start_stations['avg_trip_duration_in_minutes'] = df_phil_start_stations['trip_duration_in_minutes'] / df_phil_start_stations['total_started_trips']\n",
    "df_phil_start_stations['avg_distance_in_km'] = df_phil_start_stations['distance_in_km'] / df_phil_start_stations['total_started_trips']\n",
    "\n",
    "df_phil_start_stations.drop(['trip_duration_in_minutes', 'distance_in_km'], axis=1, inplace=True)\n",
    "\n",
    "df_phil_start_stations"
   ]
  },
  {
   "cell_type": "code",
   "execution_count": 194,
   "id": "674b0554",
   "metadata": {},
   "outputs": [
    {
     "data": {
      "image/png": "[encoded data removed]",
      "text/plain": [
       "<Figure size 1200x700 with 1 Axes>"
      ]
     },
     "metadata": {},
     "output_type": "display_data"
    }
   ],
   "source": [
    "# Scaling data and calculating the loss for 10 clusters\n",
    "df_phil_start_stations_scaled = scalingData(df_phil_start_stations)\n",
    "calcAndPlotLoss(10, df_phil_start_stations_scaled)"
   ]
  },
  {
   "attachments": {},
   "cell_type": "markdown",
   "id": "ece6e503",
   "metadata": {},
   "source": [
    "Looking at the loss function, the amount of clusters should be between 2-4. By testing the cluster amount, having 2 clusters is already enough to find similiar groups for both start and end stations."
   ]
  },
  {
   "cell_type": "code",
   "execution_count": 195,
   "id": "cf01cc38",
   "metadata": {},
   "outputs": [],
   "source": [
    "# Define the cluster amount here\n",
    "cluster = 2\n",
    "\n",
    "# Calculating KMeans\n",
    "calcKMeans(cluster, df_phil_start_stations_scaled)\n",
    "\n",
    "# Adding the clusters from KMeans into the original dataframe \n",
    "df_phil_start_stations_original.loc[:, 'Cluster'] = df_phil_start_stations_scaled['Cluster']\n",
    "\n",
    "# Sorting cluster values for the map slider\n",
    "df_phil_start_stations_original.sort_values(by='Cluster', ascending=True, inplace=True)\n",
    "df_phil_start_stations_original.reset_index(drop=True, inplace=True)"
   ]
  },
  {
   "cell_type": "markdown",
   "id": "845d4848",
   "metadata": {},
   "source": [
    "Code for calculating KMeans and plotting is seperated, so that KMeans clusters are not recalculated everytime!"
   ]
  },
  {
   "cell_type": "code",
   "execution_count": 202,
   "id": "ec5cafe4",
   "metadata": {},
   "outputs": [
    {
     "data": {
      "application/vnd.plotly.v1+json": {
       "config": {
        "plotlyServerURL": "https://plot.ly"
       },
       "data": [
        {
         "customdata": [
          [
           39.969841,
           -75.1418
          ],
          [
           39.93401,
           -75.15094
          ],
          [
           39.953732,
           -75.218246
          ],
          [
           39.95866,
           -75.213226
          ],
          [
           39.955109,
           -75.209869
          ],
          [
           39.948219,
           -75.209084
          ],
          [
           39.96674,
           -75.207993
          ],
          [
           39.94952,
           -75.20256
          ],
          [
           39.98003,
           -75.143707
          ],
          [
           39.964111,
           -75.19973
          ],
          [
           39.982029,
           -75.18866
          ],
          [
           39.988369,
           -75.187012
          ],
          [
           39.991791,
           -75.186371
          ],
          [
           39.97522,
           -75.186691
          ],
          [
           39.968441,
           -75.140007
          ],
          [
           39.987709,
           -75.180519
          ],
          [
           39.991192,
           -75.179749
          ],
          [
           39.96664,
           -75.192093
          ],
          [
           39.977139,
           -75.179398
          ],
          [
           39.925449,
           -75.159538
          ],
          [
           39.976688,
           -75.158127
          ],
          [
           39.97216,
           -75.129936
          ],
          [
           39.980782,
           -75.150551
          ],
          [
           39.960621,
           -75.139832
          ],
          [
           39.95295,
           -75.139793
          ],
          [
           39.9747045,
           -75.19671249999999
          ],
          [
           39.96424133333334,
           -75.18053666666667
          ],
          [
           39.966518,
           -75.129959
          ],
          [
           39.978882,
           -75.133392
          ],
          [
           39.974861,
           -75.205238
          ],
          [
           39.978409,
           -75.223991
          ],
          [
           39.927769,
           -75.151031
          ],
          [
           39.968491,
           -75.13546
          ],
          [
           39.970699,
           -75.151711
          ],
          [
           39.945091,
           -75.142502
          ],
          [
           39.96175,
           -75.136414
          ],
          [
           39.925522,
           -75.169037
          ],
          [
           39.977915,
           -75.21271100000001
          ],
          [
           39.97274,
           -75.17939
          ],
          [
           39.94733,
           -75.144028
          ],
          [
           39.980049,
           -75.15522
          ],
          [
           39.928139,
           -75.165154
          ],
          [
           39.980621,
           -75.1735
          ],
          [
           39.928841,
           -75.170212
          ],
          [
           39.980042,
           -75.170883
          ]
         ],
         "hovertemplate": "<b>%{hovertext}</b><br><br>Cluster=0<br>start_lat=%{customdata[0]}<br>start_lon=%{customdata[1]}<extra></extra>",
         "hovertext": [
          "3rd & Girard",
          "4th & Washington",
          "48th & Spruce",
          "46th Street Station, MFL",
          "44th & Walnut",
          "43rd & Chester, Clark Park",
          "42nd & Lancaster",
          "40th & Baltimore, Trolley Portal",
          "6th & Berks",
          "39th & Mt. Vernon, Mantua Haverford Community Center",
          "33rd & Reservoir",
          "33rd & Diamond",
          "33rd & Dauphin",
          "31st & Girard",
          "2nd & Germantown",
          "29th & Diamond",
          "29th & Dauphin",
          "34th & Mantua",
          "27th & Master, Athletic Recreation Center",
          "8th & Mifflin, Bok Building",
          "Broad & Oxford",
          "Thompson & Palmer, Adaire School",
          "Temple University Station",
          "Spring Garden Station, MFL",
          "Race Street Pier",
          "Philadelphia Zoo",
          "Philadelphia Museum of Art",
          "Penn Treaty Park",
          "Berks Station, MFL",
          "Parkside & Girard",
          "ParkWest Town Center",
          "Moyamensing & Tasker",
          "Girard Station, MFL",
          "Girard & Hutchinson",
          "Foglietta Plaza",
          "Del. River Trail & Penn St.",
          "Broad & Passyunk",
          "Parkside & Belmont, Case Building",
          "27th & Girard",
          "Welcome Park, NPS",
          "13th & Montgomery",
          "12th & Passyunk",
          "24th & Cecil B. Moore, Cecil B. Moore Library",
          "15th & Castle, DiSilvestro Playground",
          "22nd & Cecil B. Moore"
         ],
         "ids": [
          "3rd & Girard",
          "4th & Washington",
          "48th & Spruce",
          "46th Street Station, MFL",
          "44th & Walnut",
          "43rd & Chester, Clark Park",
          "42nd & Lancaster",
          "40th & Baltimore, Trolley Portal",
          "6th & Berks",
          "39th & Mt. Vernon, Mantua Haverford Community Center",
          "33rd & Reservoir",
          "33rd & Diamond",
          "33rd & Dauphin",
          "31st & Girard",
          "2nd & Germantown",
          "29th & Diamond",
          "29th & Dauphin",
          "34th & Mantua",
          "27th & Master, Athletic Recreation Center",
          "8th & Mifflin, Bok Building",
          "Broad & Oxford",
          "Thompson & Palmer, Adaire School",
          "Temple University Station",
          "Spring Garden Station, MFL",
          "Race Street Pier",
          "Philadelphia Zoo",
          "Philadelphia Museum of Art",
          "Penn Treaty Park",
          "Berks Station, MFL",
          "Parkside & Girard",
          "ParkWest Town Center",
          "Moyamensing & Tasker",
          "Girard Station, MFL",
          "Girard & Hutchinson",
          "Foglietta Plaza",
          "Del. River Trail & Penn St.",
          "Broad & Passyunk",
          "Parkside & Belmont, Case Building",
          "27th & Girard",
          "Welcome Park, NPS",
          "13th & Montgomery",
          "12th & Passyunk",
          "24th & Cecil B. Moore, Cecil B. Moore Library",
          "15th & Castle, DiSilvestro Playground",
          "22nd & Cecil B. Moore"
         ],
         "lat": [
          39.969841,
          39.93401,
          39.953732,
          39.95866,
          39.955109,
          39.948219,
          39.96674,
          39.94952,
          39.98003,
          39.964111,
          39.982029,
          39.988369,
          39.991791,
          39.97522,
          39.968441,
          39.987709,
          39.991192,
          39.96664,
          39.977139,
          39.925449,
          39.976688,
          39.97216,
          39.980782,
          39.960621,
          39.95295,
          39.9747045,
          39.96424133333334,
          39.966518,
          39.978882,
          39.974861,
          39.978409,
          39.927769,
          39.968491,
          39.970699,
          39.945091,
          39.96175,
          39.925522,
          39.977915,
          39.97274,
          39.94733,
          39.980049,
          39.928139,
          39.980621,
          39.928841,
          39.980042
         ],
         "legendgroup": "",
         "lon": [
          -75.1418,
          -75.15094,
          -75.218246,
          -75.213226,
          -75.209869,
          -75.209084,
          -75.207993,
          -75.20256,
          -75.143707,
          -75.19973,
          -75.18866,
          -75.187012,
          -75.186371,
          -75.186691,
          -75.140007,
          -75.180519,
          -75.179749,
          -75.192093,
          -75.179398,
          -75.159538,
          -75.158127,
          -75.129936,
          -75.150551,
          -75.139832,
          -75.139793,
          -75.19671249999999,
          -75.18053666666667,
          -75.129959,
          -75.133392,
          -75.205238,
          -75.223991,
          -75.151031,
          -75.13546,
          -75.151711,
          -75.142502,
          -75.136414,
          -75.169037,
          -75.21271100000001,
          -75.17939,
          -75.144028,
          -75.15522,
          -75.165154,
          -75.1735,
          -75.170212,
          -75.170883
         ],
         "marker": {
          "color": "#636efa",
          "opacity": 1
         },
         "mode": "markers",
         "name": "",
         "showlegend": false,
         "subplot": "mapbox",
         "type": "scattermapbox"
        }
       ],
       "frames": [
        {
         "data": [
          {
           "customdata": [
            [
             39.969841,
             -75.1418
            ],
            [
             39.93401,
             -75.15094
            ],
            [
             39.953732,
             -75.218246
            ],
            [
             39.95866,
             -75.213226
            ],
            [
             39.955109,
             -75.209869
            ],
            [
             39.948219,
             -75.209084
            ],
            [
             39.96674,
             -75.207993
            ],
            [
             39.94952,
             -75.20256
            ],
            [
             39.98003,
             -75.143707
            ],
            [
             39.964111,
             -75.19973
            ],
            [
             39.982029,
             -75.18866
            ],
            [
             39.988369,
             -75.187012
            ],
            [
             39.991791,
             -75.186371
            ],
            [
             39.97522,
             -75.186691
            ],
            [
             39.968441,
             -75.140007
            ],
            [
             39.987709,
             -75.180519
            ],
            [
             39.991192,
             -75.179749
            ],
            [
             39.96664,
             -75.192093
            ],
            [
             39.977139,
             -75.179398
            ],
            [
             39.925449,
             -75.159538
            ],
            [
             39.976688,
             -75.158127
            ],
            [
             39.97216,
             -75.129936
            ],
            [
             39.980782,
             -75.150551
            ],
            [
             39.960621,
             -75.139832
            ],
            [
             39.95295,
             -75.139793
            ],
            [
             39.9747045,
             -75.19671249999999
            ],
            [
             39.96424133333334,
             -75.18053666666667
            ],
            [
             39.966518,
             -75.129959
            ],
            [
             39.978882,
             -75.133392
            ],
            [
             39.974861,
             -75.205238
            ],
            [
             39.978409,
             -75.223991
            ],
            [
             39.927769,
             -75.151031
            ],
            [
             39.968491,
             -75.13546
            ],
            [
             39.970699,
             -75.151711
            ],
            [
             39.945091,
             -75.142502
            ],
            [
             39.96175,
             -75.136414
            ],
            [
             39.925522,
             -75.169037
            ],
            [
             39.977915,
             -75.21271100000001
            ],
            [
             39.97274,
             -75.17939
            ],
            [
             39.94733,
             -75.144028
            ],
            [
             39.980049,
             -75.15522
            ],
            [
             39.928139,
             -75.165154
            ],
            [
             39.980621,
             -75.1735
            ],
            [
             39.928841,
             -75.170212
            ],
            [
             39.980042,
             -75.170883
            ]
           ],
           "hovertemplate": "<b>%{hovertext}</b><br><br>Cluster=0<br>start_lat=%{customdata[0]}<br>start_lon=%{customdata[1]}<extra></extra>",
           "hovertext": [
            "3rd & Girard",
            "4th & Washington",
            "48th & Spruce",
            "46th Street Station, MFL",
            "44th & Walnut",
            "43rd & Chester, Clark Park",
            "42nd & Lancaster",
            "40th & Baltimore, Trolley Portal",
            "6th & Berks",
            "39th & Mt. Vernon, Mantua Haverford Community Center",
            "33rd & Reservoir",
            "33rd & Diamond",
            "33rd & Dauphin",
            "31st & Girard",
            "2nd & Germantown",
            "29th & Diamond",
            "29th & Dauphin",
            "34th & Mantua",
            "27th & Master, Athletic Recreation Center",
            "8th & Mifflin, Bok Building",
            "Broad & Oxford",
            "Thompson & Palmer, Adaire School",
            "Temple University Station",
            "Spring Garden Station, MFL",
            "Race Street Pier",
            "Philadelphia Zoo",
            "Philadelphia Museum of Art",
            "Penn Treaty Park",
            "Berks Station, MFL",
            "Parkside & Girard",
            "ParkWest Town Center",
            "Moyamensing & Tasker",
            "Girard Station, MFL",
            "Girard & Hutchinson",
            "Foglietta Plaza",
            "Del. River Trail & Penn St.",
            "Broad & Passyunk",
            "Parkside & Belmont, Case Building",
            "27th & Girard",
            "Welcome Park, NPS",
            "13th & Montgomery",
            "12th & Passyunk",
            "24th & Cecil B. Moore, Cecil B. Moore Library",
            "15th & Castle, DiSilvestro Playground",
            "22nd & Cecil B. Moore"
           ],
           "ids": [
            "3rd & Girard",
            "4th & Washington",
            "48th & Spruce",
            "46th Street Station, MFL",
            "44th & Walnut",
            "43rd & Chester, Clark Park",
            "42nd & Lancaster",
            "40th & Baltimore, Trolley Portal",
            "6th & Berks",
            "39th & Mt. Vernon, Mantua Haverford Community Center",
            "33rd & Reservoir",
            "33rd & Diamond",
            "33rd & Dauphin",
            "31st & Girard",
            "2nd & Germantown",
            "29th & Diamond",
            "29th & Dauphin",
            "34th & Mantua",
            "27th & Master, Athletic Recreation Center",
            "8th & Mifflin, Bok Building",
            "Broad & Oxford",
            "Thompson & Palmer, Adaire School",
            "Temple University Station",
            "Spring Garden Station, MFL",
            "Race Street Pier",
            "Philadelphia Zoo",
            "Philadelphia Museum of Art",
            "Penn Treaty Park",
            "Berks Station, MFL",
            "Parkside & Girard",
            "ParkWest Town Center",
            "Moyamensing & Tasker",
            "Girard Station, MFL",
            "Girard & Hutchinson",
            "Foglietta Plaza",
            "Del. River Trail & Penn St.",
            "Broad & Passyunk",
            "Parkside & Belmont, Case Building",
            "27th & Girard",
            "Welcome Park, NPS",
            "13th & Montgomery",
            "12th & Passyunk",
            "24th & Cecil B. Moore, Cecil B. Moore Library",
            "15th & Castle, DiSilvestro Playground",
            "22nd & Cecil B. Moore"
           ],
           "lat": [
            39.969841,
            39.93401,
            39.953732,
            39.95866,
            39.955109,
            39.948219,
            39.96674,
            39.94952,
            39.98003,
            39.964111,
            39.982029,
            39.988369,
            39.991791,
            39.97522,
            39.968441,
            39.987709,
            39.991192,
            39.96664,
            39.977139,
            39.925449,
            39.976688,
            39.97216,
            39.980782,
            39.960621,
            39.95295,
            39.9747045,
            39.96424133333334,
            39.966518,
            39.978882,
            39.974861,
            39.978409,
            39.927769,
            39.968491,
            39.970699,
            39.945091,
            39.96175,
            39.925522,
            39.977915,
            39.97274,
            39.94733,
            39.980049,
            39.928139,
            39.980621,
            39.928841,
            39.980042
           ],
           "legendgroup": "",
           "lon": [
            -75.1418,
            -75.15094,
            -75.218246,
            -75.213226,
            -75.209869,
            -75.209084,
            -75.207993,
            -75.20256,
            -75.143707,
            -75.19973,
            -75.18866,
            -75.187012,
            -75.186371,
            -75.186691,
            -75.140007,
            -75.180519,
            -75.179749,
            -75.192093,
            -75.179398,
            -75.159538,
            -75.158127,
            -75.129936,
            -75.150551,
            -75.139832,
            -75.139793,
            -75.19671249999999,
            -75.18053666666667,
            -75.129959,
            -75.133392,
            -75.205238,
            -75.223991,
            -75.151031,
            -75.13546,
            -75.151711,
            -75.142502,
            -75.136414,
            -75.169037,
            -75.21271100000001,
            -75.17939,
            -75.144028,
            -75.15522,
            -75.165154,
            -75.1735,
            -75.170212,
            -75.170883
           ],
           "marker": {
            "color": "#636efa",
            "opacity": 1
           },
           "mode": "markers",
           "name": "",
           "showlegend": false,
           "subplot": "mapbox",
           "type": "scattermapbox"
          }
         ],
         "name": "0"
        },
        {
         "data": [
          {
           "customdata": [
            [
             39.94426,
             -75.181343
            ],
            [
             39.953159,
             -75.165512
            ],
            [
             39.934448,
             -75.145409
            ],
            [
             39.959229,
             -75.170357
            ],
            [
             39.943909,
             -75.167351
            ],
            [
             39.967178,
             -75.161247
            ],
            [
             39.951969,
             -75.179428
            ],
            [
             39.947109,
             -75.166183
            ],
            [
             39.93935,
             -75.157158
            ],
            [
             39.972069,
             -75.163513
            ],
            [
             39.946331,
             -75.1698
            ],
            [
             39.97121,
             -75.159698
            ],
            [
             39.93549,
             -75.167107
            ],
            [
             39.940189,
             -75.166908
            ],
            [
             39.962891,
             -75.166061
            ],
            [
             39.95071,
             -75.149208
            ],
            [
             39.962711,
             -75.194191
            ],
            [
             39.947922,
             -75.162369
            ],
            [
             39.96006,
             -75.171982
            ],
            [
             39.934311,
             -75.160423
            ],
            [
             39.946812,
             -75.193108
            ],
            [
             39.947811,
             -75.194092
            ],
            [
             39.945171,
             -75.159927
            ],
            [
             39.968922,
             -75.154701
            ],
            [
             39.96265,
             -75.161743
            ],
            [
             39.962502,
             -75.174202
            ],
            [
             39.953781,
             -75.163742
            ],
            [
             39.950481,
             -75.172859
            ],
            [
             39.932308,
             -75.181541
            ],
            [
             39.942951,
             -75.159554
            ],
            [
             39.937241,
             -75.161201
            ],
            [
             39.954239,
             -75.161377
            ],
            [
             39.968182,
             -75.180344
            ],
            [
             39.95924,
             -75.158211
            ],
            [
             39.952728,
             -75.15979
            ],
            [
             39.933151,
             -75.162483
            ],
            [
             39.95472,
             -75.183228
            ],
            [
             39.947319,
             -75.156952
            ],
            [
             39.949741,
             -75.180969
            ],
            [
             39.95121,
             -75.199623
            ],
            [
             39.960461,
             -75.197006
            ],
            [
             39.956619,
             -75.198624
            ],
            [
             39.9538,
             -75.194794
            ],
            [
             39.958858,
             -75.173691
            ],
            [
             39.955761,
             -75.189819
            ],
            [
             39.937752,
             -75.180122
            ],
            [
             39.967442,
             -75.175072
            ],
            [
             39.961731,
             -75.187881
            ],
            [
             39.95425,
             -75.177612
            ],
            [
             39.954861,
             -75.180908
            ],
            [
             39.94138,
             -75.145638
            ],
            [
             39.953819,
             -75.142632
            ],
            [
             39.950119,
             -75.144722
            ],
            [
             39.945271,
             -75.17971
            ],
            [
             39.958191,
             -75.1782
            ],
            [
             39.94595,
             -75.184753
            ],
            [
             39.942181,
             -75.177467
            ],
            [
             39.96143,
             -75.15242
            ],
            [
             39.9490455,
             -75.190109
            ],
            [
             39.952202,
             -75.20311
            ],
            [
             39.953388,
             -75.154259
            ],
            [
             39.93082,
             -75.174744
            ],
            [
             39.951118,
             -75.154572
            ],
            [
             39.940182,
             -75.154419
            ],
            [
             39.954029,
             -75.149834
            ],
            [
             39.963169,
             -75.147919
            ],
            [
             39.953899,
             -75.169022
            ],
            [
             39.9384,
             -75.173271
            ],
            [
             39.94735,
             -75.148857
            ],
            [
             39.937038,
             -75.150383
            ],
            [
             39.940609,
             -75.149582
            ],
            [
             39.97263,
             -75.167572
            ],
            [
             39.94561,
             -75.173477
            ],
            [
             39.953548,
             -75.171921
            ],
            [
             39.967159,
             -75.170013
            ],
            [
             39.953812,
             -75.174072
            ],
            [
             39.9570105,
             -75.20122900000001
            ],
            [
             39.95121,
             -75.173698
            ],
            [
             39.95005,
             -75.156723
            ]
           ],
           "hovertemplate": "<b>%{hovertext}</b><br><br>Cluster=1<br>start_lat=%{customdata[0]}<br>start_lon=%{customdata[1]}<extra></extra>",
           "hovertext": [
            "Grays Ferry & Pemberton",
            "15th & Market",
            "Front & Carpenter",
            "Free Library of Philadelphia - Central Library",
            "15th & South",
            "Fairmount & Ridge",
            "24th & Sansom",
            "15th & Spruce",
            "Darien & Catharine",
            "17th & Girard",
            "17th & Pine",
            "Broad & Girard",
            "Broad & Federal",
            "Broad & Christian",
            "17th & Spring Garden",
            "Independence Mall, NPS",
            "Dornsife Center",
            "13th & Locust",
            "Barnes Foundation",
            "10th & Federal",
            "The Children's Hospital of Philadelphia, Osler Circle",
            "The Children's Hospital of Philadelphia (CHOP)",
            "11th & Pine, Kahn Park",
            "11th & Poplar, John F. Street Community Center",
            "Spring Garden Station, BSL",
            "Rodin Museum",
            "Municipal Services Building Plaza",
            "Rittenhouse Square",
            "Point Breeze & Tasker",
            "11th & South",
            "11th & Washington",
            "Pennsylvania Convention Center",
            "Pennsylvania & Fairmount Perelman Building",
            "12th & Callowhill",
            "12th & Filbert",
            "11th & Reed",
            "Amtrak 30th Street Station",
            "9th & Locust",
            "25th & Locust",
            "38th & Spruce",
            "38th & Powelton",
            "38th & Market",
            "36th & Sansom",
            "21st & Winter, Franklin Institute",
            "33rd & Market",
            "22nd & Federal",
            "23rd & Fairmount",
            "32nd & Baring, Drexel Park",
            "23rd & Market",
            "30th Street Station East",
            "2nd & South",
            "2nd & Race",
            "2nd & Market",
            "23rd & South",
            "24th & Race SRT",
            "27th & South",
            "21st & Catharine",
            "9th & Spring Garden",
            "University City Station",
            "40th & Spruce",
            "9th & Arch",
            "18th & Fernon, Aquinas Center",
            "8th & Market",
            "7th & Fitzwater",
            "6th & Race",
            "6th & Fairmount",
            "18th & JFK",
            "18th & Washington, Chew Playground",
            "4th & Walnut, NPS",
            "4th & Christian",
            "4th & Bainbridge",
            "19th & Girard, PTTI",
            "19th & Lombard",
            "19th & Market",
            "20th & Fairmount",
            "20th & Market",
            "40th Street Station, MFL",
            "20th & Sansom",
            "10th & Chestnut"
           ],
           "ids": [
            "Grays Ferry & Pemberton",
            "15th & Market",
            "Front & Carpenter",
            "Free Library of Philadelphia - Central Library",
            "15th & South",
            "Fairmount & Ridge",
            "24th & Sansom",
            "15th & Spruce",
            "Darien & Catharine",
            "17th & Girard",
            "17th & Pine",
            "Broad & Girard",
            "Broad & Federal",
            "Broad & Christian",
            "17th & Spring Garden",
            "Independence Mall, NPS",
            "Dornsife Center",
            "13th & Locust",
            "Barnes Foundation",
            "10th & Federal",
            "The Children's Hospital of Philadelphia, Osler Circle",
            "The Children's Hospital of Philadelphia (CHOP)",
            "11th & Pine, Kahn Park",
            "11th & Poplar, John F. Street Community Center",
            "Spring Garden Station, BSL",
            "Rodin Museum",
            "Municipal Services Building Plaza",
            "Rittenhouse Square",
            "Point Breeze & Tasker",
            "11th & South",
            "11th & Washington",
            "Pennsylvania Convention Center",
            "Pennsylvania & Fairmount Perelman Building",
            "12th & Callowhill",
            "12th & Filbert",
            "11th & Reed",
            "Amtrak 30th Street Station",
            "9th & Locust",
            "25th & Locust",
            "38th & Spruce",
            "38th & Powelton",
            "38th & Market",
            "36th & Sansom",
            "21st & Winter, Franklin Institute",
            "33rd & Market",
            "22nd & Federal",
            "23rd & Fairmount",
            "32nd & Baring, Drexel Park",
            "23rd & Market",
            "30th Street Station East",
            "2nd & South",
            "2nd & Race",
            "2nd & Market",
            "23rd & South",
            "24th & Race SRT",
            "27th & South",
            "21st & Catharine",
            "9th & Spring Garden",
            "University City Station",
            "40th & Spruce",
            "9th & Arch",
            "18th & Fernon, Aquinas Center",
            "8th & Market",
            "7th & Fitzwater",
            "6th & Race",
            "6th & Fairmount",
            "18th & JFK",
            "18th & Washington, Chew Playground",
            "4th & Walnut, NPS",
            "4th & Christian",
            "4th & Bainbridge",
            "19th & Girard, PTTI",
            "19th & Lombard",
            "19th & Market",
            "20th & Fairmount",
            "20th & Market",
            "40th Street Station, MFL",
            "20th & Sansom",
            "10th & Chestnut"
           ],
           "lat": [
            39.94426,
            39.953159,
            39.934448,
            39.959229,
            39.943909,
            39.967178,
            39.951969,
            39.947109,
            39.93935,
            39.972069,
            39.946331,
            39.97121,
            39.93549,
            39.940189,
            39.962891,
            39.95071,
            39.962711,
            39.947922,
            39.96006,
            39.934311,
            39.946812,
            39.947811,
            39.945171,
            39.968922,
            39.96265,
            39.962502,
            39.953781,
            39.950481,
            39.932308,
            39.942951,
            39.937241,
            39.954239,
            39.968182,
            39.95924,
            39.952728,
            39.933151,
            39.95472,
            39.947319,
            39.949741,
            39.95121,
            39.960461,
            39.956619,
            39.9538,
            39.958858,
            39.955761,
            39.937752,
            39.967442,
            39.961731,
            39.95425,
            39.954861,
            39.94138,
            39.953819,
            39.950119,
            39.945271,
            39.958191,
            39.94595,
            39.942181,
            39.96143,
            39.9490455,
            39.952202,
            39.953388,
            39.93082,
            39.951118,
            39.940182,
            39.954029,
            39.963169,
            39.953899,
            39.9384,
            39.94735,
            39.937038,
            39.940609,
            39.97263,
            39.94561,
            39.953548,
            39.967159,
            39.953812,
            39.9570105,
            39.95121,
            39.95005
           ],
           "legendgroup": "",
           "lon": [
            -75.181343,
            -75.165512,
            -75.145409,
            -75.170357,
            -75.167351,
            -75.161247,
            -75.179428,
            -75.166183,
            -75.157158,
            -75.163513,
            -75.1698,
            -75.159698,
            -75.167107,
            -75.166908,
            -75.166061,
            -75.149208,
            -75.194191,
            -75.162369,
            -75.171982,
            -75.160423,
            -75.193108,
            -75.194092,
            -75.159927,
            -75.154701,
            -75.161743,
            -75.174202,
            -75.163742,
            -75.172859,
            -75.181541,
            -75.159554,
            -75.161201,
            -75.161377,
            -75.180344,
            -75.158211,
            -75.15979,
            -75.162483,
            -75.183228,
            -75.156952,
            -75.180969,
            -75.199623,
            -75.197006,
            -75.198624,
            -75.194794,
            -75.173691,
            -75.189819,
            -75.180122,
            -75.175072,
            -75.187881,
            -75.177612,
            -75.180908,
            -75.145638,
            -75.142632,
            -75.144722,
            -75.17971,
            -75.1782,
            -75.184753,
            -75.177467,
            -75.15242,
            -75.190109,
            -75.20311,
            -75.154259,
            -75.174744,
            -75.154572,
            -75.154419,
            -75.149834,
            -75.147919,
            -75.169022,
            -75.173271,
            -75.148857,
            -75.150383,
            -75.149582,
            -75.167572,
            -75.173477,
            -75.171921,
            -75.170013,
            -75.174072,
            -75.20122900000001,
            -75.173698,
            -75.156723
           ],
           "marker": {
            "color": "#636efa",
            "opacity": 1
           },
           "mode": "markers",
           "name": "",
           "showlegend": false,
           "subplot": "mapbox",
           "type": "scattermapbox"
          }
         ],
         "name": "1"
        }
       ],
       "layout": {
        "font": {
         "size": 18
        },
        "geo": {
         "center": {
          "lat": 39.96,
          "lon": -75.14
         }
        },
        "height": 1000,
        "legend": {
         "tracegroupgap": 0
        },
        "mapbox": {
         "center": {
          "lat": 39.95627086155915,
          "lon": -75.17046182392473
         },
         "domain": {
          "x": [
           0,
           1
          ],
          "y": [
           0,
           1
          ]
         },
         "style": "carto-positron",
         "zoom": 12
        },
        "sliders": [
         {
          "active": 0,
          "currentvalue": {
           "prefix": "Cluster="
          },
          "len": 0.9,
          "pad": {
           "b": 10,
           "t": 60
          },
          "steps": [
           {
            "args": [
             [
              "0"
             ],
             {
              "frame": {
               "duration": 0,
               "redraw": true
              },
              "fromcurrent": true,
              "mode": "immediate",
              "transition": {
               "duration": 0,
               "easing": "linear"
              }
             }
            ],
            "label": "0",
            "method": "animate"
           },
           {
            "args": [
             [
              "1"
             ],
             {
              "frame": {
               "duration": 0,
               "redraw": true
              },
              "fromcurrent": true,
              "mode": "immediate",
              "transition": {
               "duration": 0,
               "easing": "linear"
              }
             }
            ],
            "label": "1",
            "method": "animate"
           }
          ],
          "x": 0.1,
          "xanchor": "left",
          "y": 0,
          "yanchor": "top"
         }
        ],
        "template": {
         "data": {
          "bar": [
           {
            "error_x": {
             "color": "#2a3f5f"
            },
            "error_y": {
             "color": "#2a3f5f"
            },
            "marker": {
             "line": {
              "color": "#E5ECF6",
              "width": 0.5
             },
             "pattern": {
              "fillmode": "overlay",
              "size": 10,
              "solidity": 0.2
             }
            },
            "type": "bar"
           }
          ],
          "barpolar": [
           {
            "marker": {
             "line": {
              "color": "#E5ECF6",
              "width": 0.5
             },
             "pattern": {
              "fillmode": "overlay",
              "size": 10,
              "solidity": 0.2
             }
            },
            "type": "barpolar"
           }
          ],
          "carpet": [
           {
            "aaxis": {
             "endlinecolor": "#2a3f5f",
             "gridcolor": "white",
             "linecolor": "white",
             "minorgridcolor": "white",
             "startlinecolor": "#2a3f5f"
            },
            "baxis": {
             "endlinecolor": "#2a3f5f",
             "gridcolor": "white",
             "linecolor": "white",
             "minorgridcolor": "white",
             "startlinecolor": "#2a3f5f"
            },
            "type": "carpet"
           }
          ],
          "choropleth": [
           {
            "colorbar": {
             "outlinewidth": 0,
             "ticks": ""
            },
            "type": "choropleth"
           }
          ],
          "contour": [
           {
            "colorbar": {
             "outlinewidth": 0,
             "ticks": ""
            },
            "colorscale": [
             [
              0,
              "#0d0887"
             ],
             [
              0.1111111111111111,
              "#46039f"
             ],
             [
              0.2222222222222222,
              "#7201a8"
             ],
             [
              0.3333333333333333,
              "#9c179e"
             ],
             [
              0.4444444444444444,
              "#bd3786"
             ],
             [
              0.5555555555555556,
              "#d8576b"
             ],
             [
              0.6666666666666666,
              "#ed7953"
             ],
             [
              0.7777777777777778,
              "#fb9f3a"
             ],
             [
              0.8888888888888888,
              "#fdca26"
             ],
             [
              1,
              "#f0f921"
             ]
            ],
            "type": "contour"
           }
          ],
          "contourcarpet": [
           {
            "colorbar": {
             "outlinewidth": 0,
             "ticks": ""
            },
            "type": "contourcarpet"
           }
          ],
          "heatmap": [
           {
            "colorbar": {
             "outlinewidth": 0,
             "ticks": ""
            },
            "colorscale": [
             [
              0,
              "#0d0887"
             ],
             [
              0.1111111111111111,
              "#46039f"
             ],
             [
              0.2222222222222222,
              "#7201a8"
             ],
             [
              0.3333333333333333,
              "#9c179e"
             ],
             [
              0.4444444444444444,
              "#bd3786"
             ],
             [
              0.5555555555555556,
              "#d8576b"
             ],
             [
              0.6666666666666666,
              "#ed7953"
             ],
             [
              0.7777777777777778,
              "#fb9f3a"
             ],
             [
              0.8888888888888888,
              "#fdca26"
             ],
             [
              1,
              "#f0f921"
             ]
            ],
            "type": "heatmap"
           }
          ],
          "heatmapgl": [
           {
            "colorbar": {
             "outlinewidth": 0,
             "ticks": ""
            },
            "colorscale": [
             [
              0,
              "#0d0887"
             ],
             [
              0.1111111111111111,
              "#46039f"
             ],
             [
              0.2222222222222222,
              "#7201a8"
             ],
             [
              0.3333333333333333,
              "#9c179e"
             ],
             [
              0.4444444444444444,
              "#bd3786"
             ],
             [
              0.5555555555555556,
              "#d8576b"
             ],
             [
              0.6666666666666666,
              "#ed7953"
             ],
             [
              0.7777777777777778,
              "#fb9f3a"
             ],
             [
              0.8888888888888888,
              "#fdca26"
             ],
             [
              1,
              "#f0f921"
             ]
            ],
            "type": "heatmapgl"
           }
          ],
          "histogram": [
           {
            "marker": {
             "pattern": {
              "fillmode": "overlay",
              "size": 10,
              "solidity": 0.2
             }
            },
            "type": "histogram"
           }
          ],
          "histogram2d": [
           {
            "colorbar": {
             "outlinewidth": 0,
             "ticks": ""
            },
            "colorscale": [
             [
              0,
              "#0d0887"
             ],
             [
              0.1111111111111111,
              "#46039f"
             ],
             [
              0.2222222222222222,
              "#7201a8"
             ],
             [
              0.3333333333333333,
              "#9c179e"
             ],
             [
              0.4444444444444444,
              "#bd3786"
             ],
             [
              0.5555555555555556,
              "#d8576b"
             ],
             [
              0.6666666666666666,
              "#ed7953"
             ],
             [
              0.7777777777777778,
              "#fb9f3a"
             ],
             [
              0.8888888888888888,
              "#fdca26"
             ],
             [
              1,
              "#f0f921"
             ]
            ],
            "type": "histogram2d"
           }
          ],
          "histogram2dcontour": [
           {
            "colorbar": {
             "outlinewidth": 0,
             "ticks": ""
            },
            "colorscale": [
             [
              0,
              "#0d0887"
             ],
             [
              0.1111111111111111,
              "#46039f"
             ],
             [
              0.2222222222222222,
              "#7201a8"
             ],
             [
              0.3333333333333333,
              "#9c179e"
             ],
             [
              0.4444444444444444,
              "#bd3786"
             ],
             [
              0.5555555555555556,
              "#d8576b"
             ],
             [
              0.6666666666666666,
              "#ed7953"
             ],
             [
              0.7777777777777778,
              "#fb9f3a"
             ],
             [
              0.8888888888888888,
              "#fdca26"
             ],
             [
              1,
              "#f0f921"
             ]
            ],
            "type": "histogram2dcontour"
           }
          ],
          "mesh3d": [
           {
            "colorbar": {
             "outlinewidth": 0,
             "ticks": ""
            },
            "type": "mesh3d"
           }
          ],
          "parcoords": [
           {
            "line": {
             "colorbar": {
              "outlinewidth": 0,
              "ticks": ""
             }
            },
            "type": "parcoords"
           }
          ],
          "pie": [
           {
            "automargin": true,
            "type": "pie"
           }
          ],
          "scatter": [
           {
            "fillpattern": {
             "fillmode": "overlay",
             "size": 10,
             "solidity": 0.2
            },
            "type": "scatter"
           }
          ],
          "scatter3d": [
           {
            "line": {
             "colorbar": {
              "outlinewidth": 0,
              "ticks": ""
             }
            },
            "marker": {
             "colorbar": {
              "outlinewidth": 0,
              "ticks": ""
             }
            },
            "type": "scatter3d"
           }
          ],
          "scattercarpet": [
           {
            "marker": {
             "colorbar": {
              "outlinewidth": 0,
              "ticks": ""
             }
            },
            "type": "scattercarpet"
           }
          ],
          "scattergeo": [
           {
            "marker": {
             "colorbar": {
              "outlinewidth": 0,
              "ticks": ""
             }
            },
            "type": "scattergeo"
           }
          ],
          "scattergl": [
           {
            "marker": {
             "colorbar": {
              "outlinewidth": 0,
              "ticks": ""
             }
            },
            "type": "scattergl"
           }
          ],
          "scattermapbox": [
           {
            "marker": {
             "colorbar": {
              "outlinewidth": 0,
              "ticks": ""
             }
            },
            "type": "scattermapbox"
           }
          ],
          "scatterpolar": [
           {
            "marker": {
             "colorbar": {
              "outlinewidth": 0,
              "ticks": ""
             }
            },
            "type": "scatterpolar"
           }
          ],
          "scatterpolargl": [
           {
            "marker": {
             "colorbar": {
              "outlinewidth": 0,
              "ticks": ""
             }
            },
            "type": "scatterpolargl"
           }
          ],
          "scatterternary": [
           {
            "marker": {
             "colorbar": {
              "outlinewidth": 0,
              "ticks": ""
             }
            },
            "type": "scatterternary"
           }
          ],
          "surface": [
           {
            "colorbar": {
             "outlinewidth": 0,
             "ticks": ""
            },
            "colorscale": [
             [
              0,
              "#0d0887"
             ],
             [
              0.1111111111111111,
              "#46039f"
             ],
             [
              0.2222222222222222,
              "#7201a8"
             ],
             [
              0.3333333333333333,
              "#9c179e"
             ],
             [
              0.4444444444444444,
              "#bd3786"
             ],
             [
              0.5555555555555556,
              "#d8576b"
             ],
             [
              0.6666666666666666,
              "#ed7953"
             ],
             [
              0.7777777777777778,
              "#fb9f3a"
             ],
             [
              0.8888888888888888,
              "#fdca26"
             ],
             [
              1,
              "#f0f921"
             ]
            ],
            "type": "surface"
           }
          ],
          "table": [
           {
            "cells": {
             "fill": {
              "color": "#EBF0F8"
             },
             "line": {
              "color": "white"
             }
            },
            "header": {
             "fill": {
              "color": "#C8D4E3"
             },
             "line": {
              "color": "white"
             }
            },
            "type": "table"
           }
          ]
         },
         "layout": {
          "annotationdefaults": {
           "arrowcolor": "#2a3f5f",
           "arrowhead": 0,
           "arrowwidth": 1
          },
          "autotypenumbers": "strict",
          "coloraxis": {
           "colorbar": {
            "outlinewidth": 0,
            "ticks": ""
           }
          },
          "colorscale": {
           "diverging": [
            [
             0,
             "#8e0152"
            ],
            [
             0.1,
             "#c51b7d"
            ],
            [
             0.2,
             "#de77ae"
            ],
            [
             0.3,
             "#f1b6da"
            ],
            [
             0.4,
             "#fde0ef"
            ],
            [
             0.5,
             "#f7f7f7"
            ],
            [
             0.6,
             "#e6f5d0"
            ],
            [
             0.7,
             "#b8e186"
            ],
            [
             0.8,
             "#7fbc41"
            ],
            [
             0.9,
             "#4d9221"
            ],
            [
             1,
             "#276419"
            ]
           ],
           "sequential": [
            [
             0,
             "#0d0887"
            ],
            [
             0.1111111111111111,
             "#46039f"
            ],
            [
             0.2222222222222222,
             "#7201a8"
            ],
            [
             0.3333333333333333,
             "#9c179e"
            ],
            [
             0.4444444444444444,
             "#bd3786"
            ],
            [
             0.5555555555555556,
             "#d8576b"
            ],
            [
             0.6666666666666666,
             "#ed7953"
            ],
            [
             0.7777777777777778,
             "#fb9f3a"
            ],
            [
             0.8888888888888888,
             "#fdca26"
            ],
            [
             1,
             "#f0f921"
            ]
           ],
           "sequentialminus": [
            [
             0,
             "#0d0887"
            ],
            [
             0.1111111111111111,
             "#46039f"
            ],
            [
             0.2222222222222222,
             "#7201a8"
            ],
            [
             0.3333333333333333,
             "#9c179e"
            ],
            [
             0.4444444444444444,
             "#bd3786"
            ],
            [
             0.5555555555555556,
             "#d8576b"
            ],
            [
             0.6666666666666666,
             "#ed7953"
            ],
            [
             0.7777777777777778,
             "#fb9f3a"
            ],
            [
             0.8888888888888888,
             "#fdca26"
            ],
            [
             1,
             "#f0f921"
            ]
           ]
          },
          "colorway": [
           "#636efa",
           "#EF553B",
           "#00cc96",
           "#ab63fa",
           "#FFA15A",
           "#19d3f3",
           "#FF6692",
           "#B6E880",
           "#FF97FF",
           "#FECB52"
          ],
          "font": {
           "color": "#2a3f5f"
          },
          "geo": {
           "bgcolor": "white",
           "lakecolor": "white",
           "landcolor": "#E5ECF6",
           "showlakes": true,
           "showland": true,
           "subunitcolor": "white"
          },
          "hoverlabel": {
           "align": "left"
          },
          "hovermode": "closest",
          "mapbox": {
           "style": "light"
          },
          "paper_bgcolor": "white",
          "plot_bgcolor": "#E5ECF6",
          "polar": {
           "angularaxis": {
            "gridcolor": "white",
            "linecolor": "white",
            "ticks": ""
           },
           "bgcolor": "#E5ECF6",
           "radialaxis": {
            "gridcolor": "white",
            "linecolor": "white",
            "ticks": ""
           }
          },
          "scene": {
           "xaxis": {
            "backgroundcolor": "#E5ECF6",
            "gridcolor": "white",
            "gridwidth": 2,
            "linecolor": "white",
            "showbackground": true,
            "ticks": "",
            "zerolinecolor": "white"
           },
           "yaxis": {
            "backgroundcolor": "#E5ECF6",
            "gridcolor": "white",
            "gridwidth": 2,
            "linecolor": "white",
            "showbackground": true,
            "ticks": "",
            "zerolinecolor": "white"
           },
           "zaxis": {
            "backgroundcolor": "#E5ECF6",
            "gridcolor": "white",
            "gridwidth": 2,
            "linecolor": "white",
            "showbackground": true,
            "ticks": "",
            "zerolinecolor": "white"
           }
          },
          "shapedefaults": {
           "line": {
            "color": "#2a3f5f"
           }
          },
          "ternary": {
           "aaxis": {
            "gridcolor": "white",
            "linecolor": "white",
            "ticks": ""
           },
           "baxis": {
            "gridcolor": "white",
            "linecolor": "white",
            "ticks": ""
           },
           "bgcolor": "#E5ECF6",
           "caxis": {
            "gridcolor": "white",
            "linecolor": "white",
            "ticks": ""
           }
          },
          "title": {
           "x": 0.05
          },
          "xaxis": {
           "automargin": true,
           "gridcolor": "white",
           "linecolor": "white",
           "ticks": "",
           "title": {
            "standoff": 15
           },
           "zerolinecolor": "white",
           "zerolinewidth": 2
          },
          "yaxis": {
           "automargin": true,
           "gridcolor": "white",
           "linecolor": "white",
           "ticks": "",
           "title": {
            "standoff": 15
           },
           "zerolinecolor": "white",
           "zerolinewidth": 2
          }
         }
        },
        "title": {
         "text": "Locational Clusters based on the start stations",
         "x": 0.5,
         "xanchor": "center",
         "y": 0.95,
         "yanchor": "top"
        },
        "updatemenus": [
         {
          "buttons": [
           {
            "args": [
             null,
             {
              "frame": {
               "duration": 500,
               "redraw": true
              },
              "fromcurrent": true,
              "mode": "immediate",
              "transition": {
               "duration": 500,
               "easing": "linear"
              }
             }
            ],
            "label": "&#9654;",
            "method": "animate"
           },
           {
            "args": [
             [
              null
             ],
             {
              "frame": {
               "duration": 0,
               "redraw": true
              },
              "fromcurrent": true,
              "mode": "immediate",
              "transition": {
               "duration": 0,
               "easing": "linear"
              }
             }
            ],
            "label": "&#9724;",
            "method": "animate"
           }
          ],
          "direction": "left",
          "pad": {
           "r": 10,
           "t": 70
          },
          "showactive": false,
          "type": "buttons",
          "x": 0.1,
          "xanchor": "right",
          "y": 0,
          "yanchor": "top"
         }
        ],
        "width": 900
       }
      }
     },
     "metadata": {},
     "output_type": "display_data"
    },
    {
     "data": {
      "text/html": [
       "<div>\n",
       "<style scoped>\n",
       "    .dataframe tbody tr th:only-of-type {\n",
       "        vertical-align: middle;\n",
       "    }\n",
       "\n",
       "    .dataframe tbody tr th {\n",
       "        vertical-align: top;\n",
       "    }\n",
       "\n",
       "    .dataframe thead th {\n",
       "        text-align: right;\n",
       "    }\n",
       "</style>\n",
       "<table border=\"1\" class=\"dataframe\">\n",
       "  <thead>\n",
       "    <tr style=\"text-align: right;\">\n",
       "      <th></th>\n",
       "      <th>total_started_trips</th>\n",
       "      <th>avg_trip_duration_in_minutes</th>\n",
       "      <th>avg_distance_in_km</th>\n",
       "    </tr>\n",
       "  </thead>\n",
       "  <tbody>\n",
       "    <tr>\n",
       "      <th>count</th>\n",
       "      <td>45.000000</td>\n",
       "      <td>45.000000</td>\n",
       "      <td>45.000000</td>\n",
       "    </tr>\n",
       "    <tr>\n",
       "      <th>mean</th>\n",
       "      <td>3104.044444</td>\n",
       "      <td>25.994821</td>\n",
       "      <td>2.068827</td>\n",
       "    </tr>\n",
       "    <tr>\n",
       "      <th>std</th>\n",
       "      <td>2607.057780</td>\n",
       "      <td>6.694612</td>\n",
       "      <td>0.370670</td>\n",
       "    </tr>\n",
       "    <tr>\n",
       "      <th>min</th>\n",
       "      <td>581.000000</td>\n",
       "      <td>18.489814</td>\n",
       "      <td>1.139319</td>\n",
       "    </tr>\n",
       "    <tr>\n",
       "      <th>25%</th>\n",
       "      <td>1312.000000</td>\n",
       "      <td>21.385822</td>\n",
       "      <td>1.806341</td>\n",
       "    </tr>\n",
       "    <tr>\n",
       "      <th>50%</th>\n",
       "      <td>2207.000000</td>\n",
       "      <td>23.578852</td>\n",
       "      <td>2.079830</td>\n",
       "    </tr>\n",
       "    <tr>\n",
       "      <th>75%</th>\n",
       "      <td>4779.000000</td>\n",
       "      <td>29.139571</td>\n",
       "      <td>2.320662</td>\n",
       "    </tr>\n",
       "    <tr>\n",
       "      <th>max</th>\n",
       "      <td>14026.000000</td>\n",
       "      <td>45.941848</td>\n",
       "      <td>2.726837</td>\n",
       "    </tr>\n",
       "  </tbody>\n",
       "</table>\n",
       "</div>"
      ],
      "text/plain": [
       "       total_started_trips  avg_trip_duration_in_minutes  avg_distance_in_km\n",
       "count            45.000000                     45.000000           45.000000\n",
       "mean           3104.044444                     25.994821            2.068827\n",
       "std            2607.057780                      6.694612            0.370670\n",
       "min             581.000000                     18.489814            1.139319\n",
       "25%            1312.000000                     21.385822            1.806341\n",
       "50%            2207.000000                     23.578852            2.079830\n",
       "75%            4779.000000                     29.139571            2.320662\n",
       "max           14026.000000                     45.941848            2.726837"
      ]
     },
     "metadata": {},
     "output_type": "display_data"
    },
    {
     "data": {
      "text/html": [
       "<div>\n",
       "<style scoped>\n",
       "    .dataframe tbody tr th:only-of-type {\n",
       "        vertical-align: middle;\n",
       "    }\n",
       "\n",
       "    .dataframe tbody tr th {\n",
       "        vertical-align: top;\n",
       "    }\n",
       "\n",
       "    .dataframe thead th {\n",
       "        text-align: right;\n",
       "    }\n",
       "</style>\n",
       "<table border=\"1\" class=\"dataframe\">\n",
       "  <thead>\n",
       "    <tr style=\"text-align: right;\">\n",
       "      <th></th>\n",
       "      <th>total_started_trips</th>\n",
       "      <th>avg_trip_duration_in_minutes</th>\n",
       "      <th>avg_distance_in_km</th>\n",
       "    </tr>\n",
       "  </thead>\n",
       "  <tbody>\n",
       "    <tr>\n",
       "      <th>count</th>\n",
       "      <td>79.000000</td>\n",
       "      <td>79.000000</td>\n",
       "      <td>79.000000</td>\n",
       "    </tr>\n",
       "    <tr>\n",
       "      <th>mean</th>\n",
       "      <td>8133.455696</td>\n",
       "      <td>17.429034</td>\n",
       "      <td>1.579752</td>\n",
       "    </tr>\n",
       "    <tr>\n",
       "      <th>std</th>\n",
       "      <td>5068.076730</td>\n",
       "      <td>2.806405</td>\n",
       "      <td>0.176655</td>\n",
       "    </tr>\n",
       "    <tr>\n",
       "      <th>min</th>\n",
       "      <td>48.000000</td>\n",
       "      <td>12.208333</td>\n",
       "      <td>1.225293</td>\n",
       "    </tr>\n",
       "    <tr>\n",
       "      <th>25%</th>\n",
       "      <td>4593.000000</td>\n",
       "      <td>15.263720</td>\n",
       "      <td>1.448293</td>\n",
       "    </tr>\n",
       "    <tr>\n",
       "      <th>50%</th>\n",
       "      <td>7698.000000</td>\n",
       "      <td>16.979985</td>\n",
       "      <td>1.542630</td>\n",
       "    </tr>\n",
       "    <tr>\n",
       "      <th>75%</th>\n",
       "      <td>10817.500000</td>\n",
       "      <td>19.283478</td>\n",
       "      <td>1.688861</td>\n",
       "    </tr>\n",
       "    <tr>\n",
       "      <th>max</th>\n",
       "      <td>24644.000000</td>\n",
       "      <td>26.763823</td>\n",
       "      <td>1.975722</td>\n",
       "    </tr>\n",
       "  </tbody>\n",
       "</table>\n",
       "</div>"
      ],
      "text/plain": [
       "       total_started_trips  avg_trip_duration_in_minutes  avg_distance_in_km\n",
       "count            79.000000                     79.000000           79.000000\n",
       "mean           8133.455696                     17.429034            1.579752\n",
       "std            5068.076730                      2.806405            0.176655\n",
       "min              48.000000                     12.208333            1.225293\n",
       "25%            4593.000000                     15.263720            1.448293\n",
       "50%            7698.000000                     16.979985            1.542630\n",
       "75%           10817.500000                     19.283478            1.688861\n",
       "max           24644.000000                     26.763823            1.975722"
      ]
     },
     "metadata": {},
     "output_type": "display_data"
    }
   ],
   "source": [
    "# Scatter Mapbox to display the clusters in a map\n",
    "fig = px.scatter_mapbox(df_phil_start_stations_original, lat=\"start_lat\", lon=\"start_lon\", animation_frame=\"Cluster\", \n",
    "                        opacity=1, animation_group='start_station_name', zoom=12, height=1000, width=900, \n",
    "                        hover_name=\"start_station_name\", hover_data=[\"start_lat\", \"start_lon\"],\n",
    "                        title='Locational Clusters based on the start stations')\n",
    "fig.update_geos(center=dict(lon=-75.14, lat=39.96))\n",
    "fig.update_layout(mapbox_style=\"carto-positron\")\n",
    "fig.update_layout(\n",
    "    title={\n",
    "        'y':0.95,\n",
    "        'x':0.5,\n",
    "        'xanchor': 'center',\n",
    "        'yanchor': 'top'},\n",
    "    font=dict(\n",
    "            size=18\n",
    "        ))\n",
    "display(fig)\n",
    "\n",
    "describeData(df_phil_start_stations, df_phil_start_stations_scaled, cluster)"
   ]
  },
  {
   "attachments": {},
   "cell_type": "markdown",
   "id": "1f7d8d08",
   "metadata": {},
   "source": [
    "Cluster results from the start stations:\n",
    "- First cluster <br>\n",
    "45 stations in the cluster with highest avg trip duration and highest avg distance between stations. Stations are generally located further away from the center, so they need to drive longer and further to get to their destination. Most likely people that are driving to work or shopping.\n",
    "\n",
    "- Second cluster <br>\n",
    "79 stations in the cluster with lowest avg trip duration and lowest avg distance between stations. Stations are generally located around the center of the city. They most likely stay in the center and therefore do not drive very long and far away."
   ]
  },
  {
   "cell_type": "markdown",
   "id": "ef2038c5",
   "metadata": {},
   "source": [
    "#### End Stations"
   ]
  },
  {
   "cell_type": "code",
   "execution_count": 197,
   "id": "da9ef5b7",
   "metadata": {},
   "outputs": [
    {
     "data": {
      "text/html": [
       "<div>\n",
       "<style scoped>\n",
       "    .dataframe tbody tr th:only-of-type {\n",
       "        vertical-align: middle;\n",
       "    }\n",
       "\n",
       "    .dataframe tbody tr th {\n",
       "        vertical-align: top;\n",
       "    }\n",
       "\n",
       "    .dataframe thead th {\n",
       "        text-align: right;\n",
       "    }\n",
       "</style>\n",
       "<table border=\"1\" class=\"dataframe\">\n",
       "  <thead>\n",
       "    <tr style=\"text-align: right;\">\n",
       "      <th></th>\n",
       "      <th>end_station_name</th>\n",
       "      <th>end_lat</th>\n",
       "      <th>end_lon</th>\n",
       "      <th>total_ended_trips</th>\n",
       "      <th>trip_duration_in_minutes</th>\n",
       "      <th>distance_in_km</th>\n",
       "    </tr>\n",
       "  </thead>\n",
       "  <tbody>\n",
       "    <tr>\n",
       "      <th>64</th>\n",
       "      <td>40th Street Station, MFL</td>\n",
       "      <td>39.956940</td>\n",
       "      <td>-75.200691</td>\n",
       "      <td>1895</td>\n",
       "      <td>40518</td>\n",
       "      <td>3438.095967</td>\n",
       "    </tr>\n",
       "    <tr>\n",
       "      <th>65</th>\n",
       "      <td>40th Street Station, MFL</td>\n",
       "      <td>39.957081</td>\n",
       "      <td>-75.201767</td>\n",
       "      <td>1695</td>\n",
       "      <td>31958</td>\n",
       "      <td>3351.116083</td>\n",
       "    </tr>\n",
       "    <tr>\n",
       "      <th>106</th>\n",
       "      <td>Parkside &amp; Belmont, Case Building</td>\n",
       "      <td>39.977791</td>\n",
       "      <td>-75.213226</td>\n",
       "      <td>308</td>\n",
       "      <td>10398</td>\n",
       "      <td>777.939658</td>\n",
       "    </tr>\n",
       "    <tr>\n",
       "      <th>107</th>\n",
       "      <td>Parkside &amp; Belmont, Case Building</td>\n",
       "      <td>39.978039</td>\n",
       "      <td>-75.212196</td>\n",
       "      <td>1299</td>\n",
       "      <td>42219</td>\n",
       "      <td>3279.611954</td>\n",
       "    </tr>\n",
       "    <tr>\n",
       "      <th>112</th>\n",
       "      <td>Philadelphia Museum of Art</td>\n",
       "      <td>39.963711</td>\n",
       "      <td>-75.181602</td>\n",
       "      <td>1545</td>\n",
       "      <td>62814</td>\n",
       "      <td>2391.176417</td>\n",
       "    </tr>\n",
       "    <tr>\n",
       "      <th>113</th>\n",
       "      <td>Philadelphia Museum of Art</td>\n",
       "      <td>39.964432</td>\n",
       "      <td>-75.179977</td>\n",
       "      <td>4291</td>\n",
       "      <td>194389</td>\n",
       "      <td>6050.049510</td>\n",
       "    </tr>\n",
       "    <tr>\n",
       "      <th>114</th>\n",
       "      <td>Philadelphia Museum of Art</td>\n",
       "      <td>39.964581</td>\n",
       "      <td>-75.180031</td>\n",
       "      <td>8451</td>\n",
       "      <td>362796</td>\n",
       "      <td>12448.271253</td>\n",
       "    </tr>\n",
       "    <tr>\n",
       "      <th>115</th>\n",
       "      <td>Philadelphia Zoo</td>\n",
       "      <td>39.974689</td>\n",
       "      <td>-75.195618</td>\n",
       "      <td>82</td>\n",
       "      <td>3554</td>\n",
       "      <td>176.020379</td>\n",
       "    </tr>\n",
       "    <tr>\n",
       "      <th>116</th>\n",
       "      <td>Philadelphia Zoo</td>\n",
       "      <td>39.974720</td>\n",
       "      <td>-75.197807</td>\n",
       "      <td>715</td>\n",
       "      <td>22567</td>\n",
       "      <td>1593.360342</td>\n",
       "    </tr>\n",
       "    <tr>\n",
       "      <th>127</th>\n",
       "      <td>University City Station</td>\n",
       "      <td>39.948872</td>\n",
       "      <td>-75.189857</td>\n",
       "      <td>6106</td>\n",
       "      <td>94293</td>\n",
       "      <td>11062.630490</td>\n",
       "    </tr>\n",
       "    <tr>\n",
       "      <th>128</th>\n",
       "      <td>University City Station</td>\n",
       "      <td>39.949219</td>\n",
       "      <td>-75.190361</td>\n",
       "      <td>8558</td>\n",
       "      <td>114624</td>\n",
       "      <td>13632.628073</td>\n",
       "    </tr>\n",
       "  </tbody>\n",
       "</table>\n",
       "</div>"
      ],
      "text/plain": [
       "                      end_station_name    end_lat    end_lon  \\\n",
       "64            40th Street Station, MFL  39.956940 -75.200691   \n",
       "65            40th Street Station, MFL  39.957081 -75.201767   \n",
       "106  Parkside & Belmont, Case Building  39.977791 -75.213226   \n",
       "107  Parkside & Belmont, Case Building  39.978039 -75.212196   \n",
       "112         Philadelphia Museum of Art  39.963711 -75.181602   \n",
       "113         Philadelphia Museum of Art  39.964432 -75.179977   \n",
       "114         Philadelphia Museum of Art  39.964581 -75.180031   \n",
       "115                   Philadelphia Zoo  39.974689 -75.195618   \n",
       "116                   Philadelphia Zoo  39.974720 -75.197807   \n",
       "127            University City Station  39.948872 -75.189857   \n",
       "128            University City Station  39.949219 -75.190361   \n",
       "\n",
       "     total_ended_trips  trip_duration_in_minutes  distance_in_km  \n",
       "64                1895                     40518     3438.095967  \n",
       "65                1695                     31958     3351.116083  \n",
       "106                308                     10398      777.939658  \n",
       "107               1299                     42219     3279.611954  \n",
       "112               1545                     62814     2391.176417  \n",
       "113               4291                    194389     6050.049510  \n",
       "114               8451                    362796    12448.271253  \n",
       "115                 82                      3554      176.020379  \n",
       "116                715                     22567     1593.360342  \n",
       "127               6106                     94293    11062.630490  \n",
       "128               8558                    114624    13632.628073  "
      ]
     },
     "metadata": {},
     "output_type": "display_data"
    },
    {
     "data": {
      "text/html": [
       "<div>\n",
       "<style scoped>\n",
       "    .dataframe tbody tr th:only-of-type {\n",
       "        vertical-align: middle;\n",
       "    }\n",
       "\n",
       "    .dataframe tbody tr th {\n",
       "        vertical-align: top;\n",
       "    }\n",
       "\n",
       "    .dataframe thead th {\n",
       "        text-align: right;\n",
       "    }\n",
       "</style>\n",
       "<table border=\"1\" class=\"dataframe\">\n",
       "  <thead>\n",
       "    <tr style=\"text-align: right;\">\n",
       "      <th></th>\n",
       "      <th>end_station_name</th>\n",
       "      <th>end_lat</th>\n",
       "      <th>end_lon</th>\n",
       "      <th>total_ended_trips</th>\n",
       "      <th>trip_duration_in_minutes</th>\n",
       "      <th>distance_in_km</th>\n",
       "    </tr>\n",
       "  </thead>\n",
       "  <tbody>\n",
       "    <tr>\n",
       "      <th>64</th>\n",
       "      <td>40th Street Station, MFL</td>\n",
       "      <td>39.956940</td>\n",
       "      <td>-75.200691</td>\n",
       "      <td>1895</td>\n",
       "      <td>40518</td>\n",
       "      <td>3438.095967</td>\n",
       "    </tr>\n",
       "    <tr>\n",
       "      <th>65</th>\n",
       "      <td>40th Street Station, MFL</td>\n",
       "      <td>39.957081</td>\n",
       "      <td>-75.201767</td>\n",
       "      <td>1695</td>\n",
       "      <td>31958</td>\n",
       "      <td>3351.116083</td>\n",
       "    </tr>\n",
       "  </tbody>\n",
       "</table>\n",
       "</div>"
      ],
      "text/plain": [
       "            end_station_name    end_lat    end_lon  total_ended_trips  \\\n",
       "64  40th Street Station, MFL  39.956940 -75.200691               1895   \n",
       "65  40th Street Station, MFL  39.957081 -75.201767               1695   \n",
       "\n",
       "    trip_duration_in_minutes  distance_in_km  \n",
       "64                     40518     3438.095967  \n",
       "65                     31958     3351.116083  "
      ]
     },
     "metadata": {},
     "output_type": "display_data"
    },
    {
     "data": {
      "text/html": [
       "<div>\n",
       "<style scoped>\n",
       "    .dataframe tbody tr th:only-of-type {\n",
       "        vertical-align: middle;\n",
       "    }\n",
       "\n",
       "    .dataframe tbody tr th {\n",
       "        vertical-align: top;\n",
       "    }\n",
       "\n",
       "    .dataframe thead th {\n",
       "        text-align: right;\n",
       "    }\n",
       "</style>\n",
       "<table border=\"1\" class=\"dataframe\">\n",
       "  <thead>\n",
       "    <tr style=\"text-align: right;\">\n",
       "      <th></th>\n",
       "      <th>end_station_name</th>\n",
       "      <th>end_lat</th>\n",
       "      <th>end_lon</th>\n",
       "      <th>total_ended_trips</th>\n",
       "      <th>trip_duration_in_minutes</th>\n",
       "      <th>distance_in_km</th>\n",
       "    </tr>\n",
       "  </thead>\n",
       "  <tbody>\n",
       "  </tbody>\n",
       "</table>\n",
       "</div>"
      ],
      "text/plain": [
       "Empty DataFrame\n",
       "Columns: [end_station_name, end_lat, end_lon, total_ended_trips, trip_duration_in_minutes, distance_in_km]\n",
       "Index: []"
      ]
     },
     "metadata": {},
     "output_type": "display_data"
    },
    {
     "data": {
      "text/html": [
       "<div>\n",
       "<style scoped>\n",
       "    .dataframe tbody tr th:only-of-type {\n",
       "        vertical-align: middle;\n",
       "    }\n",
       "\n",
       "    .dataframe tbody tr th {\n",
       "        vertical-align: top;\n",
       "    }\n",
       "\n",
       "    .dataframe thead th {\n",
       "        text-align: right;\n",
       "    }\n",
       "</style>\n",
       "<table border=\"1\" class=\"dataframe\">\n",
       "  <thead>\n",
       "    <tr style=\"text-align: right;\">\n",
       "      <th></th>\n",
       "      <th>end_station_name</th>\n",
       "      <th>end_lat</th>\n",
       "      <th>end_lon</th>\n",
       "      <th>total_ended_trips</th>\n",
       "      <th>trip_duration_in_minutes</th>\n",
       "      <th>distance_in_km</th>\n",
       "    </tr>\n",
       "  </thead>\n",
       "  <tbody>\n",
       "    <tr>\n",
       "      <th>64</th>\n",
       "      <td>40th Street Station, MFL</td>\n",
       "      <td>39.957011</td>\n",
       "      <td>-75.201229</td>\n",
       "      <td>3590</td>\n",
       "      <td>72476</td>\n",
       "      <td>6789.212051</td>\n",
       "    </tr>\n",
       "  </tbody>\n",
       "</table>\n",
       "</div>"
      ],
      "text/plain": [
       "            end_station_name    end_lat    end_lon  total_ended_trips  \\\n",
       "64  40th Street Station, MFL  39.957011 -75.201229               3590   \n",
       "\n",
       "    trip_duration_in_minutes  distance_in_km  \n",
       "64                     72476     6789.212051  "
      ]
     },
     "metadata": {},
     "output_type": "display_data"
    },
    {
     "data": {
      "text/html": [
       "<div>\n",
       "<style scoped>\n",
       "    .dataframe tbody tr th:only-of-type {\n",
       "        vertical-align: middle;\n",
       "    }\n",
       "\n",
       "    .dataframe tbody tr th {\n",
       "        vertical-align: top;\n",
       "    }\n",
       "\n",
       "    .dataframe thead th {\n",
       "        text-align: right;\n",
       "    }\n",
       "</style>\n",
       "<table border=\"1\" class=\"dataframe\">\n",
       "  <thead>\n",
       "    <tr style=\"text-align: right;\">\n",
       "      <th></th>\n",
       "      <th>total_ended_trips</th>\n",
       "      <th>avg_trip_duration_in_minutes</th>\n",
       "      <th>avg_distance_in_km</th>\n",
       "    </tr>\n",
       "  </thead>\n",
       "  <tbody>\n",
       "    <tr>\n",
       "      <th>0</th>\n",
       "      <td>8724</td>\n",
       "      <td>16.571756</td>\n",
       "      <td>1.716513</td>\n",
       "    </tr>\n",
       "    <tr>\n",
       "      <th>1</th>\n",
       "      <td>4938</td>\n",
       "      <td>16.980559</td>\n",
       "      <td>1.851371</td>\n",
       "    </tr>\n",
       "    <tr>\n",
       "      <th>2</th>\n",
       "      <td>12458</td>\n",
       "      <td>14.557072</td>\n",
       "      <td>1.450137</td>\n",
       "    </tr>\n",
       "    <tr>\n",
       "      <th>3</th>\n",
       "      <td>772</td>\n",
       "      <td>20.373057</td>\n",
       "      <td>1.347672</td>\n",
       "    </tr>\n",
       "    <tr>\n",
       "      <th>4</th>\n",
       "      <td>8265</td>\n",
       "      <td>17.234604</td>\n",
       "      <td>1.869070</td>\n",
       "    </tr>\n",
       "    <tr>\n",
       "      <th>...</th>\n",
       "      <td>...</td>\n",
       "      <td>...</td>\n",
       "      <td>...</td>\n",
       "    </tr>\n",
       "    <tr>\n",
       "      <th>119</th>\n",
       "      <td>9498</td>\n",
       "      <td>13.871025</td>\n",
       "      <td>1.865382</td>\n",
       "    </tr>\n",
       "    <tr>\n",
       "      <th>120</th>\n",
       "      <td>3815</td>\n",
       "      <td>15.374312</td>\n",
       "      <td>2.051107</td>\n",
       "    </tr>\n",
       "    <tr>\n",
       "      <th>121</th>\n",
       "      <td>1475</td>\n",
       "      <td>25.062373</td>\n",
       "      <td>2.898215</td>\n",
       "    </tr>\n",
       "    <tr>\n",
       "      <th>122</th>\n",
       "      <td>14664</td>\n",
       "      <td>14.246931</td>\n",
       "      <td>1.684074</td>\n",
       "    </tr>\n",
       "    <tr>\n",
       "      <th>123</th>\n",
       "      <td>5223</td>\n",
       "      <td>21.334482</td>\n",
       "      <td>1.838220</td>\n",
       "    </tr>\n",
       "  </tbody>\n",
       "</table>\n",
       "<p>124 rows × 3 columns</p>\n",
       "</div>"
      ],
      "text/plain": [
       "     total_ended_trips  avg_trip_duration_in_minutes  avg_distance_in_km\n",
       "0                 8724                     16.571756            1.716513\n",
       "1                 4938                     16.980559            1.851371\n",
       "2                12458                     14.557072            1.450137\n",
       "3                  772                     20.373057            1.347672\n",
       "4                 8265                     17.234604            1.869070\n",
       "..                 ...                           ...                 ...\n",
       "119               9498                     13.871025            1.865382\n",
       "120               3815                     15.374312            2.051107\n",
       "121               1475                     25.062373            2.898215\n",
       "122              14664                     14.246931            1.684074\n",
       "123               5223                     21.334482            1.838220\n",
       "\n",
       "[124 rows x 3 columns]"
      ]
     },
     "execution_count": 197,
     "metadata": {},
     "output_type": "execute_result"
    }
   ],
   "source": [
    "# Aggregation function to combine stations that have multiple stations in itself\n",
    "agg_functions = {'end_station_name': 'first', 'end_lat': 'mean', 'end_lon': 'mean', 'total_ended_trips': 'sum', 'trip_duration_in_minutes': 'sum', 'distance_in_km': 'sum'}\n",
    "\n",
    "# Dataframe for the sum of trip duration and distance per station\n",
    "descriptiveTripFeatures = df_phil_clustering.groupby(['end_station_name', 'end_lat', 'end_lon']).aggregate({'trip_duration_in_minutes': 'sum', 'distance_in_km': 'sum'}).reset_index()\n",
    "\n",
    "# Dataframe for the amount of total trips per station\n",
    "totalTripCount = df_phil_clustering.groupby(['end_station_name', 'end_lat', 'end_lon'])['end_station_name'].count().reset_index(name='total_ended_trips')\n",
    "\n",
    "# Merging both dataframes into one\n",
    "df_phil_end_stations = pd.merge(totalTripCount, descriptiveTripFeatures, on=['end_station_name', 'end_lat', 'end_lon'])\n",
    "\n",
    "# Show duplicates before aggregating them and one example\n",
    "display(df_phil_end_stations[df_phil_end_stations.duplicated(subset=['end_station_name'], keep=False)])\n",
    "display(df_phil_end_stations[df_phil_end_stations['end_station_name'] == '40th Street Station, MFL'])\n",
    "\n",
    "# Aggregation\n",
    "df_phil_end_stations = df_phil_end_stations.groupby(df_phil_end_stations['end_station_name']).aggregate(agg_functions).reset_index(drop=True)\n",
    "\n",
    "# Show duplicates after aggregating to see if they are gone\n",
    "display(df_phil_end_stations[df_phil_end_stations.duplicated(subset=['end_station_name'], keep=False)])\n",
    "display(df_phil_end_stations[df_phil_end_stations['end_station_name'] == '40th Street Station, MFL'])\n",
    "\n",
    "# Copying the original dataframe for visualization and dropping every unnecessary column for KMeans \n",
    "df_phil_end_stations_original = df_phil_end_stations.copy()\n",
    "df_phil_end_stations.drop(['end_station_name', 'end_lat', 'end_lon'], axis=1, inplace=True)\n",
    "\n",
    "# Calculating avg values for both trip duration and the distance\n",
    "df_phil_end_stations['avg_trip_duration_in_minutes'] = df_phil_end_stations['trip_duration_in_minutes'] / df_phil_end_stations['total_ended_trips']\n",
    "df_phil_end_stations['avg_distance_in_km'] = df_phil_end_stations['distance_in_km'] / df_phil_end_stations['total_ended_trips']\n",
    "\n",
    "df_phil_end_stations.drop(['trip_duration_in_minutes', 'distance_in_km'], axis=1, inplace=True)\n",
    "\n",
    "# Final dataframe to cluster the end stations\n",
    "df_phil_end_stations"
   ]
  },
  {
   "cell_type": "code",
   "execution_count": 198,
   "id": "f812f3cd",
   "metadata": {},
   "outputs": [
    {
     "data": {
      "image/png": "[encoded data removed]",
      "text/plain": [
       "<Figure size 1200x700 with 1 Axes>"
      ]
     },
     "metadata": {},
     "output_type": "display_data"
    }
   ],
   "source": [
    "df_phil_end_stations_scaled = scalingData(df_phil_end_stations)\n",
    "calcAndPlotLoss(10, df_phil_end_stations_scaled)"
   ]
  },
  {
   "attachments": {},
   "cell_type": "markdown",
   "id": "a91e4416",
   "metadata": {},
   "source": [
    "Looking at the loss function, the amount of clusters should be between 2-4. As found out with testing the amount of clusters, having 2 clusters is already enough to find similiar groups for both start and end stations."
   ]
  },
  {
   "cell_type": "code",
   "execution_count": 199,
   "id": "8e615d45",
   "metadata": {},
   "outputs": [],
   "source": [
    "# Define the cluster amount here\n",
    "cluster = 2\n",
    "\n",
    "# Calculating KMeans\n",
    "calcKMeans(cluster, df_phil_end_stations_scaled)\n",
    "\n",
    "# Adding the clusters from KMeans into the original dataframe \n",
    "df_phil_end_stations_original.loc[:, 'Cluster'] = df_phil_end_stations_scaled['Cluster']\n",
    "\n",
    "# Sorting cluster values for the map slider\n",
    "df_phil_end_stations_original.sort_values(by='Cluster', ascending=True, inplace=True)\n",
    "df_phil_end_stations_original.reset_index(drop=True, inplace=True)"
   ]
  },
  {
   "cell_type": "markdown",
   "id": "a52a614c",
   "metadata": {},
   "source": [
    "Code of calculating KMeans and plotting is seperated, so that KMeans clusters are not recalculated everytime!"
   ]
  },
  {
   "cell_type": "code",
   "execution_count": 200,
   "id": "14c607d3",
   "metadata": {},
   "outputs": [
    {
     "data": {
      "application/vnd.plotly.v1+json": {
       "config": {
        "plotlyServerURL": "https://plot.ly"
       },
       "data": [
        {
         "customdata": [
          [
           39.95005,
           -75.156723
          ],
          [
           39.95071,
           -75.149208
          ],
          [
           39.953781,
           -75.163742
          ],
          [
           39.9490455,
           -75.190109
          ],
          [
           39.964111,
           -75.19973
          ],
          [
           39.960461,
           -75.197006
          ],
          [
           39.9538,
           -75.194794
          ],
          [
           39.968182,
           -75.180344
          ],
          [
           39.94426,
           -75.181343
          ],
          [
           39.954239,
           -75.161377
          ],
          [
           39.961731,
           -75.187881
          ],
          [
           39.932308,
           -75.181541
          ],
          [
           39.954861,
           -75.180908
          ],
          [
           39.94138,
           -75.145638
          ],
          [
           39.950481,
           -75.172859
          ],
          [
           39.962502,
           -75.174202
          ],
          [
           39.96265,
           -75.161743
          ],
          [
           39.955761,
           -75.189819
          ],
          [
           39.94595,
           -75.184753
          ],
          [
           39.970699,
           -75.151711
          ],
          [
           39.937038,
           -75.150383
          ],
          [
           39.962711,
           -75.194191
          ],
          [
           39.97121,
           -75.159698
          ],
          [
           39.93549,
           -75.167107
          ],
          [
           39.940189,
           -75.166908
          ],
          [
           39.967178,
           -75.161247
          ],
          [
           39.96006,
           -75.171982
          ],
          [
           39.95472,
           -75.183228
          ],
          [
           39.940609,
           -75.149582
          ],
          [
           39.96143,
           -75.15242
          ],
          [
           39.953388,
           -75.154259
          ],
          [
           39.951118,
           -75.154572
          ],
          [
           39.940182,
           -75.154419
          ],
          [
           39.954029,
           -75.149834
          ],
          [
           39.963169,
           -75.147919
          ],
          [
           39.959229,
           -75.170357
          ],
          [
           39.94735,
           -75.148857
          ],
          [
           39.947319,
           -75.156952
          ],
          [
           39.97274,
           -75.17939
          ],
          [
           39.950119,
           -75.144722
          ],
          [
           39.93935,
           -75.157158
          ],
          [
           39.953548,
           -75.171921
          ],
          [
           39.94561,
           -75.173477
          ],
          [
           39.952728,
           -75.15979
          ],
          [
           39.97263,
           -75.167572
          ],
          [
           39.949741,
           -75.180969
          ],
          [
           39.9384,
           -75.173271
          ],
          [
           39.95924,
           -75.158211
          ],
          [
           39.953899,
           -75.169022
          ],
          [
           39.93082,
           -75.174744
          ],
          [
           39.962891,
           -75.166061
          ],
          [
           39.946331,
           -75.1698
          ],
          [
           39.972069,
           -75.163513
          ],
          [
           39.947109,
           -75.166183
          ],
          [
           39.943909,
           -75.167351
          ],
          [
           39.947922,
           -75.162369
          ],
          [
           39.953159,
           -75.165512
          ],
          [
           39.967159,
           -75.170013
          ],
          [
           39.953812,
           -75.174072
          ],
          [
           39.951969,
           -75.179428
          ],
          [
           39.958191,
           -75.1782
          ],
          [
           39.934311,
           -75.160423
          ],
          [
           39.945271,
           -75.17971
          ],
          [
           39.945171,
           -75.159927
          ],
          [
           39.968922,
           -75.154701
          ],
          [
           39.95425,
           -75.177612
          ],
          [
           39.937241,
           -75.161201
          ],
          [
           39.967442,
           -75.175072
          ],
          [
           39.980042,
           -75.170883
          ],
          [
           39.933151,
           -75.162483
          ],
          [
           39.942951,
           -75.159554
          ],
          [
           39.958858,
           -75.173691
          ],
          [
           39.942181,
           -75.177467
          ],
          [
           39.95121,
           -75.173698
          ],
          [
           39.937752,
           -75.180122
          ],
          [
           39.947811,
           -75.194092
          ]
         ],
         "hovertemplate": "<b>%{hovertext}</b><br><br>Cluster=0<br>end_lat=%{customdata[0]}<br>end_lon=%{customdata[1]}<extra></extra>",
         "hovertext": [
          "10th & Chestnut",
          "Independence Mall, NPS",
          "Municipal Services Building Plaza",
          "University City Station",
          "39th & Mt. Vernon, Mantua Haverford Community Center",
          "38th & Powelton",
          "36th & Sansom",
          "Pennsylvania & Fairmount Perelman Building",
          "Grays Ferry & Pemberton",
          "Pennsylvania Convention Center",
          "32nd & Baring, Drexel Park",
          "Point Breeze & Tasker",
          "30th Street Station East",
          "2nd & South",
          "Rittenhouse Square",
          "Rodin Museum",
          "Spring Garden Station, BSL",
          "33rd & Market",
          "27th & South",
          "Girard & Hutchinson",
          "4th & Christian",
          "Dornsife Center",
          "Broad & Girard",
          "Broad & Federal",
          "Broad & Christian",
          "Fairmount & Ridge",
          "Barnes Foundation",
          "Amtrak 30th Street Station",
          "4th & Bainbridge",
          "9th & Spring Garden",
          "9th & Arch",
          "8th & Market",
          "7th & Fitzwater",
          "6th & Race",
          "6th & Fairmount",
          "Free Library of Philadelphia - Central Library",
          "4th & Walnut, NPS",
          "9th & Locust",
          "27th & Girard",
          "2nd & Market",
          "Darien & Catharine",
          "19th & Market",
          "19th & Lombard",
          "12th & Filbert",
          "19th & Girard, PTTI",
          "25th & Locust",
          "18th & Washington, Chew Playground",
          "12th & Callowhill",
          "18th & JFK",
          "18th & Fernon, Aquinas Center",
          "17th & Spring Garden",
          "17th & Pine",
          "17th & Girard",
          "15th & Spruce",
          "15th & South",
          "13th & Locust",
          "15th & Market",
          "20th & Fairmount",
          "20th & Market",
          "24th & Sansom",
          "24th & Race SRT",
          "10th & Federal",
          "23rd & South",
          "11th & Pine, Kahn Park",
          "11th & Poplar, John F. Street Community Center",
          "23rd & Market",
          "11th & Washington",
          "23rd & Fairmount",
          "22nd & Cecil B. Moore",
          "11th & Reed",
          "11th & South",
          "21st & Winter, Franklin Institute",
          "21st & Catharine",
          "20th & Sansom",
          "22nd & Federal",
          "The Children's Hospital of Philadelphia (CHOP)"
         ],
         "ids": [
          "10th & Chestnut",
          "Independence Mall, NPS",
          "Municipal Services Building Plaza",
          "University City Station",
          "39th & Mt. Vernon, Mantua Haverford Community Center",
          "38th & Powelton",
          "36th & Sansom",
          "Pennsylvania & Fairmount Perelman Building",
          "Grays Ferry & Pemberton",
          "Pennsylvania Convention Center",
          "32nd & Baring, Drexel Park",
          "Point Breeze & Tasker",
          "30th Street Station East",
          "2nd & South",
          "Rittenhouse Square",
          "Rodin Museum",
          "Spring Garden Station, BSL",
          "33rd & Market",
          "27th & South",
          "Girard & Hutchinson",
          "4th & Christian",
          "Dornsife Center",
          "Broad & Girard",
          "Broad & Federal",
          "Broad & Christian",
          "Fairmount & Ridge",
          "Barnes Foundation",
          "Amtrak 30th Street Station",
          "4th & Bainbridge",
          "9th & Spring Garden",
          "9th & Arch",
          "8th & Market",
          "7th & Fitzwater",
          "6th & Race",
          "6th & Fairmount",
          "Free Library of Philadelphia - Central Library",
          "4th & Walnut, NPS",
          "9th & Locust",
          "27th & Girard",
          "2nd & Market",
          "Darien & Catharine",
          "19th & Market",
          "19th & Lombard",
          "12th & Filbert",
          "19th & Girard, PTTI",
          "25th & Locust",
          "18th & Washington, Chew Playground",
          "12th & Callowhill",
          "18th & JFK",
          "18th & Fernon, Aquinas Center",
          "17th & Spring Garden",
          "17th & Pine",
          "17th & Girard",
          "15th & Spruce",
          "15th & South",
          "13th & Locust",
          "15th & Market",
          "20th & Fairmount",
          "20th & Market",
          "24th & Sansom",
          "24th & Race SRT",
          "10th & Federal",
          "23rd & South",
          "11th & Pine, Kahn Park",
          "11th & Poplar, John F. Street Community Center",
          "23rd & Market",
          "11th & Washington",
          "23rd & Fairmount",
          "22nd & Cecil B. Moore",
          "11th & Reed",
          "11th & South",
          "21st & Winter, Franklin Institute",
          "21st & Catharine",
          "20th & Sansom",
          "22nd & Federal",
          "The Children's Hospital of Philadelphia (CHOP)"
         ],
         "lat": [
          39.95005,
          39.95071,
          39.953781,
          39.9490455,
          39.964111,
          39.960461,
          39.9538,
          39.968182,
          39.94426,
          39.954239,
          39.961731,
          39.932308,
          39.954861,
          39.94138,
          39.950481,
          39.962502,
          39.96265,
          39.955761,
          39.94595,
          39.970699,
          39.937038,
          39.962711,
          39.97121,
          39.93549,
          39.940189,
          39.967178,
          39.96006,
          39.95472,
          39.940609,
          39.96143,
          39.953388,
          39.951118,
          39.940182,
          39.954029,
          39.963169,
          39.959229,
          39.94735,
          39.947319,
          39.97274,
          39.950119,
          39.93935,
          39.953548,
          39.94561,
          39.952728,
          39.97263,
          39.949741,
          39.9384,
          39.95924,
          39.953899,
          39.93082,
          39.962891,
          39.946331,
          39.972069,
          39.947109,
          39.943909,
          39.947922,
          39.953159,
          39.967159,
          39.953812,
          39.951969,
          39.958191,
          39.934311,
          39.945271,
          39.945171,
          39.968922,
          39.95425,
          39.937241,
          39.967442,
          39.980042,
          39.933151,
          39.942951,
          39.958858,
          39.942181,
          39.95121,
          39.937752,
          39.947811
         ],
         "legendgroup": "",
         "lon": [
          -75.156723,
          -75.149208,
          -75.163742,
          -75.190109,
          -75.19973,
          -75.197006,
          -75.194794,
          -75.180344,
          -75.181343,
          -75.161377,
          -75.187881,
          -75.181541,
          -75.180908,
          -75.145638,
          -75.172859,
          -75.174202,
          -75.161743,
          -75.189819,
          -75.184753,
          -75.151711,
          -75.150383,
          -75.194191,
          -75.159698,
          -75.167107,
          -75.166908,
          -75.161247,
          -75.171982,
          -75.183228,
          -75.149582,
          -75.15242,
          -75.154259,
          -75.154572,
          -75.154419,
          -75.149834,
          -75.147919,
          -75.170357,
          -75.148857,
          -75.156952,
          -75.17939,
          -75.144722,
          -75.157158,
          -75.171921,
          -75.173477,
          -75.15979,
          -75.167572,
          -75.180969,
          -75.173271,
          -75.158211,
          -75.169022,
          -75.174744,
          -75.166061,
          -75.1698,
          -75.163513,
          -75.166183,
          -75.167351,
          -75.162369,
          -75.165512,
          -75.170013,
          -75.174072,
          -75.179428,
          -75.1782,
          -75.160423,
          -75.17971,
          -75.159927,
          -75.154701,
          -75.177612,
          -75.161201,
          -75.175072,
          -75.170883,
          -75.162483,
          -75.159554,
          -75.173691,
          -75.177467,
          -75.173698,
          -75.180122,
          -75.194092
         ],
         "marker": {
          "color": "#636efa",
          "opacity": 1
         },
         "mode": "markers",
         "name": "",
         "showlegend": false,
         "subplot": "mapbox",
         "type": "scattermapbox"
        }
       ],
       "frames": [
        {
         "data": [
          {
           "customdata": [
            [
             39.95005,
             -75.156723
            ],
            [
             39.95071,
             -75.149208
            ],
            [
             39.953781,
             -75.163742
            ],
            [
             39.9490455,
             -75.190109
            ],
            [
             39.964111,
             -75.19973
            ],
            [
             39.960461,
             -75.197006
            ],
            [
             39.9538,
             -75.194794
            ],
            [
             39.968182,
             -75.180344
            ],
            [
             39.94426,
             -75.181343
            ],
            [
             39.954239,
             -75.161377
            ],
            [
             39.961731,
             -75.187881
            ],
            [
             39.932308,
             -75.181541
            ],
            [
             39.954861,
             -75.180908
            ],
            [
             39.94138,
             -75.145638
            ],
            [
             39.950481,
             -75.172859
            ],
            [
             39.962502,
             -75.174202
            ],
            [
             39.96265,
             -75.161743
            ],
            [
             39.955761,
             -75.189819
            ],
            [
             39.94595,
             -75.184753
            ],
            [
             39.970699,
             -75.151711
            ],
            [
             39.937038,
             -75.150383
            ],
            [
             39.962711,
             -75.194191
            ],
            [
             39.97121,
             -75.159698
            ],
            [
             39.93549,
             -75.167107
            ],
            [
             39.940189,
             -75.166908
            ],
            [
             39.967178,
             -75.161247
            ],
            [
             39.96006,
             -75.171982
            ],
            [
             39.95472,
             -75.183228
            ],
            [
             39.940609,
             -75.149582
            ],
            [
             39.96143,
             -75.15242
            ],
            [
             39.953388,
             -75.154259
            ],
            [
             39.951118,
             -75.154572
            ],
            [
             39.940182,
             -75.154419
            ],
            [
             39.954029,
             -75.149834
            ],
            [
             39.963169,
             -75.147919
            ],
            [
             39.959229,
             -75.170357
            ],
            [
             39.94735,
             -75.148857
            ],
            [
             39.947319,
             -75.156952
            ],
            [
             39.97274,
             -75.17939
            ],
            [
             39.950119,
             -75.144722
            ],
            [
             39.93935,
             -75.157158
            ],
            [
             39.953548,
             -75.171921
            ],
            [
             39.94561,
             -75.173477
            ],
            [
             39.952728,
             -75.15979
            ],
            [
             39.97263,
             -75.167572
            ],
            [
             39.949741,
             -75.180969
            ],
            [
             39.9384,
             -75.173271
            ],
            [
             39.95924,
             -75.158211
            ],
            [
             39.953899,
             -75.169022
            ],
            [
             39.93082,
             -75.174744
            ],
            [
             39.962891,
             -75.166061
            ],
            [
             39.946331,
             -75.1698
            ],
            [
             39.972069,
             -75.163513
            ],
            [
             39.947109,
             -75.166183
            ],
            [
             39.943909,
             -75.167351
            ],
            [
             39.947922,
             -75.162369
            ],
            [
             39.953159,
             -75.165512
            ],
            [
             39.967159,
             -75.170013
            ],
            [
             39.953812,
             -75.174072
            ],
            [
             39.951969,
             -75.179428
            ],
            [
             39.958191,
             -75.1782
            ],
            [
             39.934311,
             -75.160423
            ],
            [
             39.945271,
             -75.17971
            ],
            [
             39.945171,
             -75.159927
            ],
            [
             39.968922,
             -75.154701
            ],
            [
             39.95425,
             -75.177612
            ],
            [
             39.937241,
             -75.161201
            ],
            [
             39.967442,
             -75.175072
            ],
            [
             39.980042,
             -75.170883
            ],
            [
             39.933151,
             -75.162483
            ],
            [
             39.942951,
             -75.159554
            ],
            [
             39.958858,
             -75.173691
            ],
            [
             39.942181,
             -75.177467
            ],
            [
             39.95121,
             -75.173698
            ],
            [
             39.937752,
             -75.180122
            ],
            [
             39.947811,
             -75.194092
            ]
           ],
           "hovertemplate": "<b>%{hovertext}</b><br><br>Cluster=0<br>end_lat=%{customdata[0]}<br>end_lon=%{customdata[1]}<extra></extra>",
           "hovertext": [
            "10th & Chestnut",
            "Independence Mall, NPS",
            "Municipal Services Building Plaza",
            "University City Station",
            "39th & Mt. Vernon, Mantua Haverford Community Center",
            "38th & Powelton",
            "36th & Sansom",
            "Pennsylvania & Fairmount Perelman Building",
            "Grays Ferry & Pemberton",
            "Pennsylvania Convention Center",
            "32nd & Baring, Drexel Park",
            "Point Breeze & Tasker",
            "30th Street Station East",
            "2nd & South",
            "Rittenhouse Square",
            "Rodin Museum",
            "Spring Garden Station, BSL",
            "33rd & Market",
            "27th & South",
            "Girard & Hutchinson",
            "4th & Christian",
            "Dornsife Center",
            "Broad & Girard",
            "Broad & Federal",
            "Broad & Christian",
            "Fairmount & Ridge",
            "Barnes Foundation",
            "Amtrak 30th Street Station",
            "4th & Bainbridge",
            "9th & Spring Garden",
            "9th & Arch",
            "8th & Market",
            "7th & Fitzwater",
            "6th & Race",
            "6th & Fairmount",
            "Free Library of Philadelphia - Central Library",
            "4th & Walnut, NPS",
            "9th & Locust",
            "27th & Girard",
            "2nd & Market",
            "Darien & Catharine",
            "19th & Market",
            "19th & Lombard",
            "12th & Filbert",
            "19th & Girard, PTTI",
            "25th & Locust",
            "18th & Washington, Chew Playground",
            "12th & Callowhill",
            "18th & JFK",
            "18th & Fernon, Aquinas Center",
            "17th & Spring Garden",
            "17th & Pine",
            "17th & Girard",
            "15th & Spruce",
            "15th & South",
            "13th & Locust",
            "15th & Market",
            "20th & Fairmount",
            "20th & Market",
            "24th & Sansom",
            "24th & Race SRT",
            "10th & Federal",
            "23rd & South",
            "11th & Pine, Kahn Park",
            "11th & Poplar, John F. Street Community Center",
            "23rd & Market",
            "11th & Washington",
            "23rd & Fairmount",
            "22nd & Cecil B. Moore",
            "11th & Reed",
            "11th & South",
            "21st & Winter, Franklin Institute",
            "21st & Catharine",
            "20th & Sansom",
            "22nd & Federal",
            "The Children's Hospital of Philadelphia (CHOP)"
           ],
           "ids": [
            "10th & Chestnut",
            "Independence Mall, NPS",
            "Municipal Services Building Plaza",
            "University City Station",
            "39th & Mt. Vernon, Mantua Haverford Community Center",
            "38th & Powelton",
            "36th & Sansom",
            "Pennsylvania & Fairmount Perelman Building",
            "Grays Ferry & Pemberton",
            "Pennsylvania Convention Center",
            "32nd & Baring, Drexel Park",
            "Point Breeze & Tasker",
            "30th Street Station East",
            "2nd & South",
            "Rittenhouse Square",
            "Rodin Museum",
            "Spring Garden Station, BSL",
            "33rd & Market",
            "27th & South",
            "Girard & Hutchinson",
            "4th & Christian",
            "Dornsife Center",
            "Broad & Girard",
            "Broad & Federal",
            "Broad & Christian",
            "Fairmount & Ridge",
            "Barnes Foundation",
            "Amtrak 30th Street Station",
            "4th & Bainbridge",
            "9th & Spring Garden",
            "9th & Arch",
            "8th & Market",
            "7th & Fitzwater",
            "6th & Race",
            "6th & Fairmount",
            "Free Library of Philadelphia - Central Library",
            "4th & Walnut, NPS",
            "9th & Locust",
            "27th & Girard",
            "2nd & Market",
            "Darien & Catharine",
            "19th & Market",
            "19th & Lombard",
            "12th & Filbert",
            "19th & Girard, PTTI",
            "25th & Locust",
            "18th & Washington, Chew Playground",
            "12th & Callowhill",
            "18th & JFK",
            "18th & Fernon, Aquinas Center",
            "17th & Spring Garden",
            "17th & Pine",
            "17th & Girard",
            "15th & Spruce",
            "15th & South",
            "13th & Locust",
            "15th & Market",
            "20th & Fairmount",
            "20th & Market",
            "24th & Sansom",
            "24th & Race SRT",
            "10th & Federal",
            "23rd & South",
            "11th & Pine, Kahn Park",
            "11th & Poplar, John F. Street Community Center",
            "23rd & Market",
            "11th & Washington",
            "23rd & Fairmount",
            "22nd & Cecil B. Moore",
            "11th & Reed",
            "11th & South",
            "21st & Winter, Franklin Institute",
            "21st & Catharine",
            "20th & Sansom",
            "22nd & Federal",
            "The Children's Hospital of Philadelphia (CHOP)"
           ],
           "lat": [
            39.95005,
            39.95071,
            39.953781,
            39.9490455,
            39.964111,
            39.960461,
            39.9538,
            39.968182,
            39.94426,
            39.954239,
            39.961731,
            39.932308,
            39.954861,
            39.94138,
            39.950481,
            39.962502,
            39.96265,
            39.955761,
            39.94595,
            39.970699,
            39.937038,
            39.962711,
            39.97121,
            39.93549,
            39.940189,
            39.967178,
            39.96006,
            39.95472,
            39.940609,
            39.96143,
            39.953388,
            39.951118,
            39.940182,
            39.954029,
            39.963169,
            39.959229,
            39.94735,
            39.947319,
            39.97274,
            39.950119,
            39.93935,
            39.953548,
            39.94561,
            39.952728,
            39.97263,
            39.949741,
            39.9384,
            39.95924,
            39.953899,
            39.93082,
            39.962891,
            39.946331,
            39.972069,
            39.947109,
            39.943909,
            39.947922,
            39.953159,
            39.967159,
            39.953812,
            39.951969,
            39.958191,
            39.934311,
            39.945271,
            39.945171,
            39.968922,
            39.95425,
            39.937241,
            39.967442,
            39.980042,
            39.933151,
            39.942951,
            39.958858,
            39.942181,
            39.95121,
            39.937752,
            39.947811
           ],
           "legendgroup": "",
           "lon": [
            -75.156723,
            -75.149208,
            -75.163742,
            -75.190109,
            -75.19973,
            -75.197006,
            -75.194794,
            -75.180344,
            -75.181343,
            -75.161377,
            -75.187881,
            -75.181541,
            -75.180908,
            -75.145638,
            -75.172859,
            -75.174202,
            -75.161743,
            -75.189819,
            -75.184753,
            -75.151711,
            -75.150383,
            -75.194191,
            -75.159698,
            -75.167107,
            -75.166908,
            -75.161247,
            -75.171982,
            -75.183228,
            -75.149582,
            -75.15242,
            -75.154259,
            -75.154572,
            -75.154419,
            -75.149834,
            -75.147919,
            -75.170357,
            -75.148857,
            -75.156952,
            -75.17939,
            -75.144722,
            -75.157158,
            -75.171921,
            -75.173477,
            -75.15979,
            -75.167572,
            -75.180969,
            -75.173271,
            -75.158211,
            -75.169022,
            -75.174744,
            -75.166061,
            -75.1698,
            -75.163513,
            -75.166183,
            -75.167351,
            -75.162369,
            -75.165512,
            -75.170013,
            -75.174072,
            -75.179428,
            -75.1782,
            -75.160423,
            -75.17971,
            -75.159927,
            -75.154701,
            -75.177612,
            -75.161201,
            -75.175072,
            -75.170883,
            -75.162483,
            -75.159554,
            -75.173691,
            -75.177467,
            -75.173698,
            -75.180122,
            -75.194092
           ],
           "marker": {
            "color": "#636efa",
            "opacity": 1
           },
           "mode": "markers",
           "name": "",
           "showlegend": false,
           "subplot": "mapbox",
           "type": "scattermapbox"
          }
         ],
         "name": "0"
        },
        {
         "data": [
          {
           "customdata": [
            [
             39.97216,
             -75.129936
            ],
            [
             39.945091,
             -75.142502
            ],
            [
             39.960621,
             -75.139832
            ],
            [
             39.934448,
             -75.145409
            ],
            [
             39.968491,
             -75.13546
            ],
            [
             39.978409,
             -75.223991
            ],
            [
             39.977915,
             -75.21271100000001
            ],
            [
             39.974861,
             -75.205238
            ],
            [
             39.966518,
             -75.129959
            ],
            [
             39.96424133333334,
             -75.18053666666667
            ],
            [
             39.9747045,
             -75.19671249999999
            ],
            [
             39.95295,
             -75.139793
            ],
            [
             39.96175,
             -75.136414
            ],
            [
             39.980782,
             -75.150551
            ],
            [
             39.946812,
             -75.193108
            ],
            [
             39.927769,
             -75.151031
            ],
            [
             39.969841,
             -75.1418
            ],
            [
             39.976688,
             -75.158127
            ],
            [
             39.928139,
             -75.165154
            ],
            [
             39.980049,
             -75.15522
            ],
            [
             39.928841,
             -75.170212
            ],
            [
             39.980621,
             -75.1735
            ],
            [
             39.977139,
             -75.179398
            ],
            [
             39.991192,
             -75.179749
            ],
            [
             39.987709,
             -75.180519
            ],
            [
             39.968441,
             -75.140007
            ],
            [
             39.953819,
             -75.142632
            ],
            [
             39.97522,
             -75.186691
            ],
            [
             39.991791,
             -75.186371
            ],
            [
             39.988369,
             -75.187012
            ],
            [
             39.982029,
             -75.18866
            ],
            [
             39.925522,
             -75.169037
            ],
            [
             39.96664,
             -75.192093
            ],
            [
             39.95121,
             -75.199623
            ],
            [
             39.94952,
             -75.20256
            ],
            [
             39.952202,
             -75.20311
            ],
            [
             39.9570105,
             -75.20122900000001
            ],
            [
             39.96674,
             -75.207993
            ],
            [
             39.948219,
             -75.209084
            ],
            [
             39.955109,
             -75.209869
            ],
            [
             39.95866,
             -75.213226
            ],
            [
             39.953732,
             -75.218246
            ],
            [
             39.93401,
             -75.15094
            ],
            [
             39.98003,
             -75.143707
            ],
            [
             39.925449,
             -75.159538
            ],
            [
             39.978882,
             -75.133392
            ],
            [
             39.956619,
             -75.198624
            ],
            [
             39.94733,
             -75.144028
            ]
           ],
           "hovertemplate": "<b>%{hovertext}</b><br><br>Cluster=1<br>end_lat=%{customdata[0]}<br>end_lon=%{customdata[1]}<extra></extra>",
           "hovertext": [
            "Thompson & Palmer, Adaire School",
            "Foglietta Plaza",
            "Spring Garden Station, MFL",
            "Front & Carpenter",
            "Girard Station, MFL",
            "ParkWest Town Center",
            "Parkside & Belmont, Case Building",
            "Parkside & Girard",
            "Penn Treaty Park",
            "Philadelphia Museum of Art",
            "Philadelphia Zoo",
            "Race Street Pier",
            "Del. River Trail & Penn St.",
            "Temple University Station",
            "The Children's Hospital of Philadelphia, Osler Circle",
            "Moyamensing & Tasker",
            "3rd & Girard",
            "Broad & Oxford",
            "12th & Passyunk",
            "13th & Montgomery",
            "15th & Castle, DiSilvestro Playground",
            "24th & Cecil B. Moore, Cecil B. Moore Library",
            "27th & Master, Athletic Recreation Center",
            "29th & Dauphin",
            "29th & Diamond",
            "2nd & Germantown",
            "2nd & Race",
            "31st & Girard",
            "33rd & Dauphin",
            "33rd & Diamond",
            "33rd & Reservoir",
            "Broad & Passyunk",
            "34th & Mantua",
            "38th & Spruce",
            "40th & Baltimore, Trolley Portal",
            "40th & Spruce",
            "40th Street Station, MFL",
            "42nd & Lancaster",
            "43rd & Chester, Clark Park",
            "44th & Walnut",
            "46th Street Station, MFL",
            "48th & Spruce",
            "4th & Washington",
            "6th & Berks",
            "8th & Mifflin, Bok Building",
            "Berks Station, MFL",
            "38th & Market",
            "Welcome Park, NPS"
           ],
           "ids": [
            "Thompson & Palmer, Adaire School",
            "Foglietta Plaza",
            "Spring Garden Station, MFL",
            "Front & Carpenter",
            "Girard Station, MFL",
            "ParkWest Town Center",
            "Parkside & Belmont, Case Building",
            "Parkside & Girard",
            "Penn Treaty Park",
            "Philadelphia Museum of Art",
            "Philadelphia Zoo",
            "Race Street Pier",
            "Del. River Trail & Penn St.",
            "Temple University Station",
            "The Children's Hospital of Philadelphia, Osler Circle",
            "Moyamensing & Tasker",
            "3rd & Girard",
            "Broad & Oxford",
            "12th & Passyunk",
            "13th & Montgomery",
            "15th & Castle, DiSilvestro Playground",
            "24th & Cecil B. Moore, Cecil B. Moore Library",
            "27th & Master, Athletic Recreation Center",
            "29th & Dauphin",
            "29th & Diamond",
            "2nd & Germantown",
            "2nd & Race",
            "31st & Girard",
            "33rd & Dauphin",
            "33rd & Diamond",
            "33rd & Reservoir",
            "Broad & Passyunk",
            "34th & Mantua",
            "38th & Spruce",
            "40th & Baltimore, Trolley Portal",
            "40th & Spruce",
            "40th Street Station, MFL",
            "42nd & Lancaster",
            "43rd & Chester, Clark Park",
            "44th & Walnut",
            "46th Street Station, MFL",
            "48th & Spruce",
            "4th & Washington",
            "6th & Berks",
            "8th & Mifflin, Bok Building",
            "Berks Station, MFL",
            "38th & Market",
            "Welcome Park, NPS"
           ],
           "lat": [
            39.97216,
            39.945091,
            39.960621,
            39.934448,
            39.968491,
            39.978409,
            39.977915,
            39.974861,
            39.966518,
            39.96424133333334,
            39.9747045,
            39.95295,
            39.96175,
            39.980782,
            39.946812,
            39.927769,
            39.969841,
            39.976688,
            39.928139,
            39.980049,
            39.928841,
            39.980621,
            39.977139,
            39.991192,
            39.987709,
            39.968441,
            39.953819,
            39.97522,
            39.991791,
            39.988369,
            39.982029,
            39.925522,
            39.96664,
            39.95121,
            39.94952,
            39.952202,
            39.9570105,
            39.96674,
            39.948219,
            39.955109,
            39.95866,
            39.953732,
            39.93401,
            39.98003,
            39.925449,
            39.978882,
            39.956619,
            39.94733
           ],
           "legendgroup": "",
           "lon": [
            -75.129936,
            -75.142502,
            -75.139832,
            -75.145409,
            -75.13546,
            -75.223991,
            -75.21271100000001,
            -75.205238,
            -75.129959,
            -75.18053666666667,
            -75.19671249999999,
            -75.139793,
            -75.136414,
            -75.150551,
            -75.193108,
            -75.151031,
            -75.1418,
            -75.158127,
            -75.165154,
            -75.15522,
            -75.170212,
            -75.1735,
            -75.179398,
            -75.179749,
            -75.180519,
            -75.140007,
            -75.142632,
            -75.186691,
            -75.186371,
            -75.187012,
            -75.18866,
            -75.169037,
            -75.192093,
            -75.199623,
            -75.20256,
            -75.20311,
            -75.20122900000001,
            -75.207993,
            -75.209084,
            -75.209869,
            -75.213226,
            -75.218246,
            -75.15094,
            -75.143707,
            -75.159538,
            -75.133392,
            -75.198624,
            -75.144028
           ],
           "marker": {
            "color": "#636efa",
            "opacity": 1
           },
           "mode": "markers",
           "name": "",
           "showlegend": false,
           "subplot": "mapbox",
           "type": "scattermapbox"
          }
         ],
         "name": "1"
        }
       ],
       "layout": {
        "font": {
         "size": 18
        },
        "geo": {
         "center": {
          "lat": 39.96,
          "lon": -75.14
         }
        },
        "height": 1000,
        "legend": {
         "tracegroupgap": 0
        },
        "mapbox": {
         "center": {
          "lat": 39.95627086155915,
          "lon": -75.17046182392473
         },
         "domain": {
          "x": [
           0,
           1
          ],
          "y": [
           0,
           1
          ]
         },
         "style": "carto-positron",
         "zoom": 12
        },
        "sliders": [
         {
          "active": 0,
          "currentvalue": {
           "prefix": "Cluster="
          },
          "len": 0.9,
          "pad": {
           "b": 10,
           "t": 60
          },
          "steps": [
           {
            "args": [
             [
              "0"
             ],
             {
              "frame": {
               "duration": 0,
               "redraw": true
              },
              "fromcurrent": true,
              "mode": "immediate",
              "transition": {
               "duration": 0,
               "easing": "linear"
              }
             }
            ],
            "label": "0",
            "method": "animate"
           },
           {
            "args": [
             [
              "1"
             ],
             {
              "frame": {
               "duration": 0,
               "redraw": true
              },
              "fromcurrent": true,
              "mode": "immediate",
              "transition": {
               "duration": 0,
               "easing": "linear"
              }
             }
            ],
            "label": "1",
            "method": "animate"
           }
          ],
          "x": 0.1,
          "xanchor": "left",
          "y": 0,
          "yanchor": "top"
         }
        ],
        "template": {
         "data": {
          "bar": [
           {
            "error_x": {
             "color": "#2a3f5f"
            },
            "error_y": {
             "color": "#2a3f5f"
            },
            "marker": {
             "line": {
              "color": "#E5ECF6",
              "width": 0.5
             },
             "pattern": {
              "fillmode": "overlay",
              "size": 10,
              "solidity": 0.2
             }
            },
            "type": "bar"
           }
          ],
          "barpolar": [
           {
            "marker": {
             "line": {
              "color": "#E5ECF6",
              "width": 0.5
             },
             "pattern": {
              "fillmode": "overlay",
              "size": 10,
              "solidity": 0.2
             }
            },
            "type": "barpolar"
           }
          ],
          "carpet": [
           {
            "aaxis": {
             "endlinecolor": "#2a3f5f",
             "gridcolor": "white",
             "linecolor": "white",
             "minorgridcolor": "white",
             "startlinecolor": "#2a3f5f"
            },
            "baxis": {
             "endlinecolor": "#2a3f5f",
             "gridcolor": "white",
             "linecolor": "white",
             "minorgridcolor": "white",
             "startlinecolor": "#2a3f5f"
            },
            "type": "carpet"
           }
          ],
          "choropleth": [
           {
            "colorbar": {
             "outlinewidth": 0,
             "ticks": ""
            },
            "type": "choropleth"
           }
          ],
          "contour": [
           {
            "colorbar": {
             "outlinewidth": 0,
             "ticks": ""
            },
            "colorscale": [
             [
              0,
              "#0d0887"
             ],
             [
              0.1111111111111111,
              "#46039f"
             ],
             [
              0.2222222222222222,
              "#7201a8"
             ],
             [
              0.3333333333333333,
              "#9c179e"
             ],
             [
              0.4444444444444444,
              "#bd3786"
             ],
             [
              0.5555555555555556,
              "#d8576b"
             ],
             [
              0.6666666666666666,
              "#ed7953"
             ],
             [
              0.7777777777777778,
              "#fb9f3a"
             ],
             [
              0.8888888888888888,
              "#fdca26"
             ],
             [
              1,
              "#f0f921"
             ]
            ],
            "type": "contour"
           }
          ],
          "contourcarpet": [
           {
            "colorbar": {
             "outlinewidth": 0,
             "ticks": ""
            },
            "type": "contourcarpet"
           }
          ],
          "heatmap": [
           {
            "colorbar": {
             "outlinewidth": 0,
             "ticks": ""
            },
            "colorscale": [
             [
              0,
              "#0d0887"
             ],
             [
              0.1111111111111111,
              "#46039f"
             ],
             [
              0.2222222222222222,
              "#7201a8"
             ],
             [
              0.3333333333333333,
              "#9c179e"
             ],
             [
              0.4444444444444444,
              "#bd3786"
             ],
             [
              0.5555555555555556,
              "#d8576b"
             ],
             [
              0.6666666666666666,
              "#ed7953"
             ],
             [
              0.7777777777777778,
              "#fb9f3a"
             ],
             [
              0.8888888888888888,
              "#fdca26"
             ],
             [
              1,
              "#f0f921"
             ]
            ],
            "type": "heatmap"
           }
          ],
          "heatmapgl": [
           {
            "colorbar": {
             "outlinewidth": 0,
             "ticks": ""
            },
            "colorscale": [
             [
              0,
              "#0d0887"
             ],
             [
              0.1111111111111111,
              "#46039f"
             ],
             [
              0.2222222222222222,
              "#7201a8"
             ],
             [
              0.3333333333333333,
              "#9c179e"
             ],
             [
              0.4444444444444444,
              "#bd3786"
             ],
             [
              0.5555555555555556,
              "#d8576b"
             ],
             [
              0.6666666666666666,
              "#ed7953"
             ],
             [
              0.7777777777777778,
              "#fb9f3a"
             ],
             [
              0.8888888888888888,
              "#fdca26"
             ],
             [
              1,
              "#f0f921"
             ]
            ],
            "type": "heatmapgl"
           }
          ],
          "histogram": [
           {
            "marker": {
             "pattern": {
              "fillmode": "overlay",
              "size": 10,
              "solidity": 0.2
             }
            },
            "type": "histogram"
           }
          ],
          "histogram2d": [
           {
            "colorbar": {
             "outlinewidth": 0,
             "ticks": ""
            },
            "colorscale": [
             [
              0,
              "#0d0887"
             ],
             [
              0.1111111111111111,
              "#46039f"
             ],
             [
              0.2222222222222222,
              "#7201a8"
             ],
             [
              0.3333333333333333,
              "#9c179e"
             ],
             [
              0.4444444444444444,
              "#bd3786"
             ],
             [
              0.5555555555555556,
              "#d8576b"
             ],
             [
              0.6666666666666666,
              "#ed7953"
             ],
             [
              0.7777777777777778,
              "#fb9f3a"
             ],
             [
              0.8888888888888888,
              "#fdca26"
             ],
             [
              1,
              "#f0f921"
             ]
            ],
            "type": "histogram2d"
           }
          ],
          "histogram2dcontour": [
           {
            "colorbar": {
             "outlinewidth": 0,
             "ticks": ""
            },
            "colorscale": [
             [
              0,
              "#0d0887"
             ],
             [
              0.1111111111111111,
              "#46039f"
             ],
             [
              0.2222222222222222,
              "#7201a8"
             ],
             [
              0.3333333333333333,
              "#9c179e"
             ],
             [
              0.4444444444444444,
              "#bd3786"
             ],
             [
              0.5555555555555556,
              "#d8576b"
             ],
             [
              0.6666666666666666,
              "#ed7953"
             ],
             [
              0.7777777777777778,
              "#fb9f3a"
             ],
             [
              0.8888888888888888,
              "#fdca26"
             ],
             [
              1,
              "#f0f921"
             ]
            ],
            "type": "histogram2dcontour"
           }
          ],
          "mesh3d": [
           {
            "colorbar": {
             "outlinewidth": 0,
             "ticks": ""
            },
            "type": "mesh3d"
           }
          ],
          "parcoords": [
           {
            "line": {
             "colorbar": {
              "outlinewidth": 0,
              "ticks": ""
             }
            },
            "type": "parcoords"
           }
          ],
          "pie": [
           {
            "automargin": true,
            "type": "pie"
           }
          ],
          "scatter": [
           {
            "fillpattern": {
             "fillmode": "overlay",
             "size": 10,
             "solidity": 0.2
            },
            "type": "scatter"
           }
          ],
          "scatter3d": [
           {
            "line": {
             "colorbar": {
              "outlinewidth": 0,
              "ticks": ""
             }
            },
            "marker": {
             "colorbar": {
              "outlinewidth": 0,
              "ticks": ""
             }
            },
            "type": "scatter3d"
           }
          ],
          "scattercarpet": [
           {
            "marker": {
             "colorbar": {
              "outlinewidth": 0,
              "ticks": ""
             }
            },
            "type": "scattercarpet"
           }
          ],
          "scattergeo": [
           {
            "marker": {
             "colorbar": {
              "outlinewidth": 0,
              "ticks": ""
             }
            },
            "type": "scattergeo"
           }
          ],
          "scattergl": [
           {
            "marker": {
             "colorbar": {
              "outlinewidth": 0,
              "ticks": ""
             }
            },
            "type": "scattergl"
           }
          ],
          "scattermapbox": [
           {
            "marker": {
             "colorbar": {
              "outlinewidth": 0,
              "ticks": ""
             }
            },
            "type": "scattermapbox"
           }
          ],
          "scatterpolar": [
           {
            "marker": {
             "colorbar": {
              "outlinewidth": 0,
              "ticks": ""
             }
            },
            "type": "scatterpolar"
           }
          ],
          "scatterpolargl": [
           {
            "marker": {
             "colorbar": {
              "outlinewidth": 0,
              "ticks": ""
             }
            },
            "type": "scatterpolargl"
           }
          ],
          "scatterternary": [
           {
            "marker": {
             "colorbar": {
              "outlinewidth": 0,
              "ticks": ""
             }
            },
            "type": "scatterternary"
           }
          ],
          "surface": [
           {
            "colorbar": {
             "outlinewidth": 0,
             "ticks": ""
            },
            "colorscale": [
             [
              0,
              "#0d0887"
             ],
             [
              0.1111111111111111,
              "#46039f"
             ],
             [
              0.2222222222222222,
              "#7201a8"
             ],
             [
              0.3333333333333333,
              "#9c179e"
             ],
             [
              0.4444444444444444,
              "#bd3786"
             ],
             [
              0.5555555555555556,
              "#d8576b"
             ],
             [
              0.6666666666666666,
              "#ed7953"
             ],
             [
              0.7777777777777778,
              "#fb9f3a"
             ],
             [
              0.8888888888888888,
              "#fdca26"
             ],
             [
              1,
              "#f0f921"
             ]
            ],
            "type": "surface"
           }
          ],
          "table": [
           {
            "cells": {
             "fill": {
              "color": "#EBF0F8"
             },
             "line": {
              "color": "white"
             }
            },
            "header": {
             "fill": {
              "color": "#C8D4E3"
             },
             "line": {
              "color": "white"
             }
            },
            "type": "table"
           }
          ]
         },
         "layout": {
          "annotationdefaults": {
           "arrowcolor": "#2a3f5f",
           "arrowhead": 0,
           "arrowwidth": 1
          },
          "autotypenumbers": "strict",
          "coloraxis": {
           "colorbar": {
            "outlinewidth": 0,
            "ticks": ""
           }
          },
          "colorscale": {
           "diverging": [
            [
             0,
             "#8e0152"
            ],
            [
             0.1,
             "#c51b7d"
            ],
            [
             0.2,
             "#de77ae"
            ],
            [
             0.3,
             "#f1b6da"
            ],
            [
             0.4,
             "#fde0ef"
            ],
            [
             0.5,
             "#f7f7f7"
            ],
            [
             0.6,
             "#e6f5d0"
            ],
            [
             0.7,
             "#b8e186"
            ],
            [
             0.8,
             "#7fbc41"
            ],
            [
             0.9,
             "#4d9221"
            ],
            [
             1,
             "#276419"
            ]
           ],
           "sequential": [
            [
             0,
             "#0d0887"
            ],
            [
             0.1111111111111111,
             "#46039f"
            ],
            [
             0.2222222222222222,
             "#7201a8"
            ],
            [
             0.3333333333333333,
             "#9c179e"
            ],
            [
             0.4444444444444444,
             "#bd3786"
            ],
            [
             0.5555555555555556,
             "#d8576b"
            ],
            [
             0.6666666666666666,
             "#ed7953"
            ],
            [
             0.7777777777777778,
             "#fb9f3a"
            ],
            [
             0.8888888888888888,
             "#fdca26"
            ],
            [
             1,
             "#f0f921"
            ]
           ],
           "sequentialminus": [
            [
             0,
             "#0d0887"
            ],
            [
             0.1111111111111111,
             "#46039f"
            ],
            [
             0.2222222222222222,
             "#7201a8"
            ],
            [
             0.3333333333333333,
             "#9c179e"
            ],
            [
             0.4444444444444444,
             "#bd3786"
            ],
            [
             0.5555555555555556,
             "#d8576b"
            ],
            [
             0.6666666666666666,
             "#ed7953"
            ],
            [
             0.7777777777777778,
             "#fb9f3a"
            ],
            [
             0.8888888888888888,
             "#fdca26"
            ],
            [
             1,
             "#f0f921"
            ]
           ]
          },
          "colorway": [
           "#636efa",
           "#EF553B",
           "#00cc96",
           "#ab63fa",
           "#FFA15A",
           "#19d3f3",
           "#FF6692",
           "#B6E880",
           "#FF97FF",
           "#FECB52"
          ],
          "font": {
           "color": "#2a3f5f"
          },
          "geo": {
           "bgcolor": "white",
           "lakecolor": "white",
           "landcolor": "#E5ECF6",
           "showlakes": true,
           "showland": true,
           "subunitcolor": "white"
          },
          "hoverlabel": {
           "align": "left"
          },
          "hovermode": "closest",
          "mapbox": {
           "style": "light"
          },
          "paper_bgcolor": "white",
          "plot_bgcolor": "#E5ECF6",
          "polar": {
           "angularaxis": {
            "gridcolor": "white",
            "linecolor": "white",
            "ticks": ""
           },
           "bgcolor": "#E5ECF6",
           "radialaxis": {
            "gridcolor": "white",
            "linecolor": "white",
            "ticks": ""
           }
          },
          "scene": {
           "xaxis": {
            "backgroundcolor": "#E5ECF6",
            "gridcolor": "white",
            "gridwidth": 2,
            "linecolor": "white",
            "showbackground": true,
            "ticks": "",
            "zerolinecolor": "white"
           },
           "yaxis": {
            "backgroundcolor": "#E5ECF6",
            "gridcolor": "white",
            "gridwidth": 2,
            "linecolor": "white",
            "showbackground": true,
            "ticks": "",
            "zerolinecolor": "white"
           },
           "zaxis": {
            "backgroundcolor": "#E5ECF6",
            "gridcolor": "white",
            "gridwidth": 2,
            "linecolor": "white",
            "showbackground": true,
            "ticks": "",
            "zerolinecolor": "white"
           }
          },
          "shapedefaults": {
           "line": {
            "color": "#2a3f5f"
           }
          },
          "ternary": {
           "aaxis": {
            "gridcolor": "white",
            "linecolor": "white",
            "ticks": ""
           },
           "baxis": {
            "gridcolor": "white",
            "linecolor": "white",
            "ticks": ""
           },
           "bgcolor": "#E5ECF6",
           "caxis": {
            "gridcolor": "white",
            "linecolor": "white",
            "ticks": ""
           }
          },
          "title": {
           "x": 0.05
          },
          "xaxis": {
           "automargin": true,
           "gridcolor": "white",
           "linecolor": "white",
           "ticks": "",
           "title": {
            "standoff": 15
           },
           "zerolinecolor": "white",
           "zerolinewidth": 2
          },
          "yaxis": {
           "automargin": true,
           "gridcolor": "white",
           "linecolor": "white",
           "ticks": "",
           "title": {
            "standoff": 15
           },
           "zerolinecolor": "white",
           "zerolinewidth": 2
          }
         }
        },
        "title": {
         "text": "Locational Clusters based on the end stations",
         "x": 0.5,
         "xanchor": "center",
         "y": 0.95,
         "yanchor": "top"
        },
        "updatemenus": [
         {
          "buttons": [
           {
            "args": [
             null,
             {
              "frame": {
               "duration": 500,
               "redraw": true
              },
              "fromcurrent": true,
              "mode": "immediate",
              "transition": {
               "duration": 500,
               "easing": "linear"
              }
             }
            ],
            "label": "&#9654;",
            "method": "animate"
           },
           {
            "args": [
             [
              null
             ],
             {
              "frame": {
               "duration": 0,
               "redraw": true
              },
              "fromcurrent": true,
              "mode": "immediate",
              "transition": {
               "duration": 0,
               "easing": "linear"
              }
             }
            ],
            "label": "&#9724;",
            "method": "animate"
           }
          ],
          "direction": "left",
          "pad": {
           "r": 10,
           "t": 70
          },
          "showactive": false,
          "type": "buttons",
          "x": 0.1,
          "xanchor": "right",
          "y": 0,
          "yanchor": "top"
         }
        ],
        "width": 900
       }
      }
     },
     "metadata": {},
     "output_type": "display_data"
    },
    {
     "data": {
      "text/html": [
       "<div>\n",
       "<style scoped>\n",
       "    .dataframe tbody tr th:only-of-type {\n",
       "        vertical-align: middle;\n",
       "    }\n",
       "\n",
       "    .dataframe tbody tr th {\n",
       "        vertical-align: top;\n",
       "    }\n",
       "\n",
       "    .dataframe thead th {\n",
       "        text-align: right;\n",
       "    }\n",
       "</style>\n",
       "<table border=\"1\" class=\"dataframe\">\n",
       "  <thead>\n",
       "    <tr style=\"text-align: right;\">\n",
       "      <th></th>\n",
       "      <th>total_ended_trips</th>\n",
       "      <th>avg_trip_duration_in_minutes</th>\n",
       "      <th>avg_distance_in_km</th>\n",
       "    </tr>\n",
       "  </thead>\n",
       "  <tbody>\n",
       "    <tr>\n",
       "      <th>count</th>\n",
       "      <td>76.000000</td>\n",
       "      <td>76.000000</td>\n",
       "      <td>76.000000</td>\n",
       "    </tr>\n",
       "    <tr>\n",
       "      <th>mean</th>\n",
       "      <td>8181.250000</td>\n",
       "      <td>17.744140</td>\n",
       "      <td>1.540690</td>\n",
       "    </tr>\n",
       "    <tr>\n",
       "      <th>std</th>\n",
       "      <td>5517.576976</td>\n",
       "      <td>3.021512</td>\n",
       "      <td>0.155857</td>\n",
       "    </tr>\n",
       "    <tr>\n",
       "      <th>min</th>\n",
       "      <td>76.000000</td>\n",
       "      <td>12.912581</td>\n",
       "      <td>1.130996</td>\n",
       "    </tr>\n",
       "    <tr>\n",
       "      <th>25%</th>\n",
       "      <td>4060.000000</td>\n",
       "      <td>15.691668</td>\n",
       "      <td>1.432245</td>\n",
       "    </tr>\n",
       "    <tr>\n",
       "      <th>50%</th>\n",
       "      <td>7620.000000</td>\n",
       "      <td>17.059781</td>\n",
       "      <td>1.527020</td>\n",
       "    </tr>\n",
       "    <tr>\n",
       "      <th>75%</th>\n",
       "      <td>11203.000000</td>\n",
       "      <td>19.413633</td>\n",
       "      <td>1.645121</td>\n",
       "    </tr>\n",
       "    <tr>\n",
       "      <th>max</th>\n",
       "      <td>25444.000000</td>\n",
       "      <td>29.200730</td>\n",
       "      <td>1.869070</td>\n",
       "    </tr>\n",
       "  </tbody>\n",
       "</table>\n",
       "</div>"
      ],
      "text/plain": [
       "       total_ended_trips  avg_trip_duration_in_minutes  avg_distance_in_km\n",
       "count          76.000000                     76.000000           76.000000\n",
       "mean         8181.250000                     17.744140            1.540690\n",
       "std          5517.576976                      3.021512            0.155857\n",
       "min            76.000000                     12.912581            1.130996\n",
       "25%          4060.000000                     15.691668            1.432245\n",
       "50%          7620.000000                     17.059781            1.527020\n",
       "75%         11203.000000                     19.413633            1.645121\n",
       "max         25444.000000                     29.200730            1.869070"
      ]
     },
     "metadata": {},
     "output_type": "display_data"
    },
    {
     "data": {
      "text/html": [
       "<div>\n",
       "<style scoped>\n",
       "    .dataframe tbody tr th:only-of-type {\n",
       "        vertical-align: middle;\n",
       "    }\n",
       "\n",
       "    .dataframe tbody tr th {\n",
       "        vertical-align: top;\n",
       "    }\n",
       "\n",
       "    .dataframe thead th {\n",
       "        text-align: right;\n",
       "    }\n",
       "</style>\n",
       "<table border=\"1\" class=\"dataframe\">\n",
       "  <thead>\n",
       "    <tr style=\"text-align: right;\">\n",
       "      <th></th>\n",
       "      <th>total_ended_trips</th>\n",
       "      <th>avg_trip_duration_in_minutes</th>\n",
       "      <th>avg_distance_in_km</th>\n",
       "    </tr>\n",
       "  </thead>\n",
       "  <tbody>\n",
       "    <tr>\n",
       "      <th>count</th>\n",
       "      <td>48.000000</td>\n",
       "      <td>48.000000</td>\n",
       "      <td>48.000000</td>\n",
       "    </tr>\n",
       "    <tr>\n",
       "      <th>mean</th>\n",
       "      <td>3342.708333</td>\n",
       "      <td>25.780803</td>\n",
       "      <td>2.045492</td>\n",
       "    </tr>\n",
       "    <tr>\n",
       "      <th>std</th>\n",
       "      <td>2627.333848</td>\n",
       "      <td>8.160838</td>\n",
       "      <td>0.356627</td>\n",
       "    </tr>\n",
       "    <tr>\n",
       "      <th>min</th>\n",
       "      <td>627.000000</td>\n",
       "      <td>15.374312</td>\n",
       "      <td>1.126567</td>\n",
       "    </tr>\n",
       "    <tr>\n",
       "      <th>25%</th>\n",
       "      <td>1268.000000</td>\n",
       "      <td>20.303649</td>\n",
       "      <td>1.870075</td>\n",
       "    </tr>\n",
       "    <tr>\n",
       "      <th>50%</th>\n",
       "      <td>2841.500000</td>\n",
       "      <td>22.790117</td>\n",
       "      <td>2.051777</td>\n",
       "    </tr>\n",
       "    <tr>\n",
       "      <th>75%</th>\n",
       "      <td>5030.500000</td>\n",
       "      <td>28.926474</td>\n",
       "      <td>2.257754</td>\n",
       "    </tr>\n",
       "    <tr>\n",
       "      <th>max</th>\n",
       "      <td>14287.000000</td>\n",
       "      <td>48.018257</td>\n",
       "      <td>2.898215</td>\n",
       "    </tr>\n",
       "  </tbody>\n",
       "</table>\n",
       "</div>"
      ],
      "text/plain": [
       "       total_ended_trips  avg_trip_duration_in_minutes  avg_distance_in_km\n",
       "count          48.000000                     48.000000           48.000000\n",
       "mean         3342.708333                     25.780803            2.045492\n",
       "std          2627.333848                      8.160838            0.356627\n",
       "min           627.000000                     15.374312            1.126567\n",
       "25%          1268.000000                     20.303649            1.870075\n",
       "50%          2841.500000                     22.790117            2.051777\n",
       "75%          5030.500000                     28.926474            2.257754\n",
       "max         14287.000000                     48.018257            2.898215"
      ]
     },
     "metadata": {},
     "output_type": "display_data"
    }
   ],
   "source": [
    "# Scatter Mapbox to display the clusters in a map\n",
    "fig = px.scatter_mapbox(df_phil_end_stations_original, lat=\"end_lat\", lon=\"end_lon\", animation_frame=\"Cluster\", \n",
    "                        opacity=1, animation_group='end_station_name', zoom=12, height=1000, width=900, \n",
    "                        hover_name=\"end_station_name\", hover_data=[\"end_lat\", \"end_lon\"],\n",
    "                        title='Locational Clusters based on the end stations')\n",
    "fig.update_geos(center=dict(lon=-75.14, lat=39.96))\n",
    "fig.update_layout(mapbox_style=\"carto-positron\")\n",
    "fig.update_layout(\n",
    "    title={\n",
    "        'y':0.95,\n",
    "        'x':0.5,\n",
    "        'xanchor': 'center',\n",
    "        'yanchor': 'top'},\n",
    "    font=dict(\n",
    "            size=18\n",
    "        ))\n",
    "display(fig)\n",
    "\n",
    "describeData(df_phil_end_stations, df_phil_end_stations_scaled, cluster)"
   ]
  },
  {
   "attachments": {},
   "cell_type": "markdown",
   "id": "bebf724f",
   "metadata": {},
   "source": [
    "Cluster results from the end stations:\n",
    "- First cluster <br>\n",
    "76 stations in the cluster with lowest avg trip duration and lowest avg distance between stations. Stations are generally located around the center of the city. They dont need to drive long and far, because they live in the center and have everything close to them.\n",
    "\n",
    "- Second cluster <br>\n",
    "48 stations in the cluster with highest avg trip duration and highest avg distance between stations. Stations are generally located further away from the center, so they need to drive longer and further to get to their destination. Most likely people that are driving home from work or shopping."
   ]
  },
  {
   "attachments": {},
   "cell_type": "markdown",
   "id": "5924b4fb",
   "metadata": {},
   "source": [
    "Interpretation conclusion: <br>\n",
    "We can find two clusters based on the stations that are further away from the center and the ones that are close to the center of the city. People from the outside drive into the city, for example, for shopping or going to work, and also drive home again from the center to the outside of the city. People from the inside tend to stay in the center, because there is no necessity for them to leave the center, since everything they need is available there."
   ]
  },
  {
   "cell_type": "markdown",
   "id": "17f995be",
   "metadata": {},
   "source": [
    "### Clustering Conclusion"
   ]
  },
  {
   "attachments": {},
   "cell_type": "markdown",
   "id": "6ec361cf",
   "metadata": {},
   "source": [
    "The previously identified Trip/Customer Types as well as the Location Clusters provides valuable insight into Indegos' customer base, behaviors and rental stations. One way the company could make use of this new information is by looking into targeted Marketing for the identified Customer Types. For example providing a special offer or advertisement campaign for people driving during rush hour might increase the number of rides even further. Targeted marketing could also be applied to the find location clusters. Here you might offer discounted long trips for people starting from outer stations or encourage short trips for stations in the center."
   ]
  }
 ],
 "metadata": {
  "kernelspec": {
   "display_name": "Python 3",
   "language": "python",
   "name": "python3"
  },
  "language_info": {
   "codemirror_mode": {
    "name": "ipython",
    "version": 3
   },
   "file_extension": ".py",
   "mimetype": "text/x-python",
   "name": "python",
   "nbconvert_exporter": "python",
   "pygments_lexer": "ipython3",
   "version": "3.9.4"
  },
  "vscode": {
   "interpreter": {
    "hash": "81794d4967e6c3204c66dcd87b604927b115b27c00565d3d43f05ba2f3a2cb0d"
   }
  }
 },
 "nbformat": 4,
 "nbformat_minor": 5
}
