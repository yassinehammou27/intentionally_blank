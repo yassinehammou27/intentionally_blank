{
 "cells": [
  {
   "cell_type": "code",
   "execution_count": 28,
   "metadata": {},
   "outputs": [],
   "source": [
    "import pandas as pd\n",
    "import matplotlib.pyplot as plt\n",
    "import numpy as np"
   ]
  },
  {
   "cell_type": "code",
   "execution_count": 3,
   "metadata": {},
   "outputs": [],
   "source": [
    "df = pd.read_csv(\"philadelphia_2017.csv\")"
   ]
  },
  {
   "cell_type": "code",
   "execution_count": 152,
   "metadata": {},
   "outputs": [],
   "source": [
    "for column in [\"start_time\", \"end_time\"]:\n",
    "    df[column] = pd.to_datetime(df[column])\n",
    "    df[column+\"_date\"] = df[column].dt.date\n",
    "    df[column+\"_time\"] = df[column].dt.time\n",
    "    df[column+\"_hour\"] = df[column].dt.hour\n",
    "    df[column+\"_month\"] = df[column].dt.month\n",
    "    df[column+\"_weekday\"] = df[column].dt.weekday"
   ]
  },
  {
   "cell_type": "code",
   "execution_count": 15,
   "metadata": {},
   "outputs": [
    {
     "data": {
      "text/html": [
       "<div>\n",
       "<style scoped>\n",
       "    .dataframe tbody tr th:only-of-type {\n",
       "        vertical-align: middle;\n",
       "    }\n",
       "\n",
       "    .dataframe tbody tr th {\n",
       "        vertical-align: top;\n",
       "    }\n",
       "\n",
       "    .dataframe thead th {\n",
       "        text-align: right;\n",
       "    }\n",
       "</style>\n",
       "<table border=\"1\" class=\"dataframe\">\n",
       "  <thead>\n",
       "    <tr style=\"text-align: right;\">\n",
       "      <th></th>\n",
       "      <th>start_time</th>\n",
       "      <th>end_time</th>\n",
       "      <th>start_station_id</th>\n",
       "      <th>end_station_id</th>\n",
       "      <th>bike_id</th>\n",
       "      <th>user_type</th>\n",
       "      <th>start_station_name</th>\n",
       "      <th>end_station_name</th>\n",
       "    </tr>\n",
       "  </thead>\n",
       "  <tbody>\n",
       "    <tr>\n",
       "      <th>50</th>\n",
       "      <td>2017-01-01 02:03:00</td>\n",
       "      <td>2017-01-02 00:03:00</td>\n",
       "      <td>3004</td>\n",
       "      <td>3031</td>\n",
       "      <td>5236</td>\n",
       "      <td>Walk-up</td>\n",
       "      <td>Municipal Services Building Plaza</td>\n",
       "      <td>13th &amp; Montgomery</td>\n",
       "    </tr>\n",
       "    <tr>\n",
       "      <th>178</th>\n",
       "      <td>2017-01-01 11:30:00</td>\n",
       "      <td>2017-01-02 14:21:00</td>\n",
       "      <td>3068</td>\n",
       "      <td>3000</td>\n",
       "      <td>3553</td>\n",
       "      <td>Indego30</td>\n",
       "      <td>Broad &amp; Federal</td>\n",
       "      <td>Virtual Station</td>\n",
       "    </tr>\n",
       "    <tr>\n",
       "      <th>382</th>\n",
       "      <td>2017-01-01 14:26:00</td>\n",
       "      <td>2017-01-02 14:19:00</td>\n",
       "      <td>3047</td>\n",
       "      <td>3000</td>\n",
       "      <td>5240</td>\n",
       "      <td>Walk-up</td>\n",
       "      <td>Independence Mall, NPS</td>\n",
       "      <td>Virtual Station</td>\n",
       "    </tr>\n",
       "    <tr>\n",
       "      <th>390</th>\n",
       "      <td>2017-01-01 14:30:00</td>\n",
       "      <td>2017-01-02 12:24:00</td>\n",
       "      <td>3070</td>\n",
       "      <td>3000</td>\n",
       "      <td>11030</td>\n",
       "      <td>Walk-up</td>\n",
       "      <td>Spring Garden Station, MFL</td>\n",
       "      <td>Virtual Station</td>\n",
       "    </tr>\n",
       "    <tr>\n",
       "      <th>588</th>\n",
       "      <td>2017-01-01 17:01:00</td>\n",
       "      <td>2017-01-02 00:04:00</td>\n",
       "      <td>3005</td>\n",
       "      <td>3072</td>\n",
       "      <td>5127</td>\n",
       "      <td>Walk-up</td>\n",
       "      <td>Welcome Park, NPS</td>\n",
       "      <td>Front &amp; Carpenter</td>\n",
       "    </tr>\n",
       "    <tr>\n",
       "      <th>...</th>\n",
       "      <td>...</td>\n",
       "      <td>...</td>\n",
       "      <td>...</td>\n",
       "      <td>...</td>\n",
       "      <td>...</td>\n",
       "      <td>...</td>\n",
       "      <td>...</td>\n",
       "      <td>...</td>\n",
       "    </tr>\n",
       "    <tr>\n",
       "      <th>788677</th>\n",
       "      <td>2017-12-31 06:36:00</td>\n",
       "      <td>2018-01-02 12:04:00</td>\n",
       "      <td>3112</td>\n",
       "      <td>3000</td>\n",
       "      <td>11826</td>\n",
       "      <td>Walk-up</td>\n",
       "      <td>48th &amp; Spruce</td>\n",
       "      <td>Virtual Station</td>\n",
       "    </tr>\n",
       "    <tr>\n",
       "      <th>788699</th>\n",
       "      <td>2017-12-31 09:09:00</td>\n",
       "      <td>2018-01-03 06:56:00</td>\n",
       "      <td>3073</td>\n",
       "      <td>3083</td>\n",
       "      <td>5411</td>\n",
       "      <td>Indego30</td>\n",
       "      <td>9th &amp; Spring Garden</td>\n",
       "      <td>3083</td>\n",
       "    </tr>\n",
       "    <tr>\n",
       "      <th>788885</th>\n",
       "      <td>2017-12-31 21:28:00</td>\n",
       "      <td>2018-01-01 00:02:00</td>\n",
       "      <td>3055</td>\n",
       "      <td>3110</td>\n",
       "      <td>3649</td>\n",
       "      <td>Walk-up</td>\n",
       "      <td>8th &amp; Market</td>\n",
       "      <td>Del. River Trail &amp; Penn St.</td>\n",
       "    </tr>\n",
       "    <tr>\n",
       "      <th>788901</th>\n",
       "      <td>2017-12-31 23:01:00</td>\n",
       "      <td>2018-01-02 06:59:00</td>\n",
       "      <td>3071</td>\n",
       "      <td>3000</td>\n",
       "      <td>5309</td>\n",
       "      <td>Indego30</td>\n",
       "      <td>32nd &amp; Baring, Drexel Park</td>\n",
       "      <td>Virtual Station</td>\n",
       "    </tr>\n",
       "    <tr>\n",
       "      <th>788903</th>\n",
       "      <td>2017-12-31 23:11:00</td>\n",
       "      <td>2018-01-01 11:03:00</td>\n",
       "      <td>3107</td>\n",
       "      <td>3165</td>\n",
       "      <td>5117</td>\n",
       "      <td>Indego30</td>\n",
       "      <td>33rd &amp; Reservoir</td>\n",
       "      <td>24th &amp; Race SRT</td>\n",
       "    </tr>\n",
       "  </tbody>\n",
       "</table>\n",
       "<p>6151 rows × 8 columns</p>\n",
       "</div>"
      ],
      "text/plain": [
       "                start_time            end_time  start_station_id  \\\n",
       "50     2017-01-01 02:03:00 2017-01-02 00:03:00              3004   \n",
       "178    2017-01-01 11:30:00 2017-01-02 14:21:00              3068   \n",
       "382    2017-01-01 14:26:00 2017-01-02 14:19:00              3047   \n",
       "390    2017-01-01 14:30:00 2017-01-02 12:24:00              3070   \n",
       "588    2017-01-01 17:01:00 2017-01-02 00:04:00              3005   \n",
       "...                    ...                 ...               ...   \n",
       "788677 2017-12-31 06:36:00 2018-01-02 12:04:00              3112   \n",
       "788699 2017-12-31 09:09:00 2018-01-03 06:56:00              3073   \n",
       "788885 2017-12-31 21:28:00 2018-01-01 00:02:00              3055   \n",
       "788901 2017-12-31 23:01:00 2018-01-02 06:59:00              3071   \n",
       "788903 2017-12-31 23:11:00 2018-01-01 11:03:00              3107   \n",
       "\n",
       "        end_station_id  bike_id user_type                 start_station_name  \\\n",
       "50                3031     5236   Walk-up  Municipal Services Building Plaza   \n",
       "178               3000     3553  Indego30                    Broad & Federal   \n",
       "382               3000     5240   Walk-up             Independence Mall, NPS   \n",
       "390               3000    11030   Walk-up         Spring Garden Station, MFL   \n",
       "588               3072     5127   Walk-up                  Welcome Park, NPS   \n",
       "...                ...      ...       ...                                ...   \n",
       "788677            3000    11826   Walk-up                      48th & Spruce   \n",
       "788699            3083     5411  Indego30                9th & Spring Garden   \n",
       "788885            3110     3649   Walk-up                       8th & Market   \n",
       "788901            3000     5309  Indego30         32nd & Baring, Drexel Park   \n",
       "788903            3165     5117  Indego30                   33rd & Reservoir   \n",
       "\n",
       "                   end_station_name  \n",
       "50                13th & Montgomery  \n",
       "178                 Virtual Station  \n",
       "382                 Virtual Station  \n",
       "390                 Virtual Station  \n",
       "588               Front & Carpenter  \n",
       "...                             ...  \n",
       "788677              Virtual Station  \n",
       "788699                         3083  \n",
       "788885  Del. River Trail & Penn St.  \n",
       "788901              Virtual Station  \n",
       "788903              24th & Race SRT  \n",
       "\n",
       "[6151 rows x 8 columns]"
      ]
     },
     "execution_count": 15,
     "metadata": {},
     "output_type": "execute_result"
    }
   ],
   "source": [
    "# Es gibt Fälle wo die Fahrräder über mehrere Tage ausgeliehen weren\n",
    "df[df[\"start_time\"].dt.date < df[\"end_time\"].dt.date]"
   ]
  },
  {
   "cell_type": "code",
   "execution_count": 109,
   "metadata": {},
   "outputs": [
    {
     "data": {
      "image/png": "[encoded data removed]",
      "text/plain": [
       "<Figure size 432x288 with 1 Axes>"
      ]
     },
     "metadata": {
      "needs_background": "light"
     },
     "output_type": "display_data"
    }
   ],
   "source": [
    "plt.hist(df[\"start_time_hour\"], bins=range(0,24,1), color=\"green\")\n",
    "plt.xlabel(\"Hour\")\n",
    "plt.ylabel(\"Number of rentals started\")\n",
    "plt.title(\"Development of started rentals during the day\")\n",
    "plt.xticks(range(0,24,2))\n",
    "plt.grid(True)\n",
    "plt.show()"
   ]
  },
  {
   "cell_type": "code",
   "execution_count": 123,
   "metadata": {},
   "outputs": [
    {
     "data": {
      "image/png": "[encoded data removed]",
      "text/plain": [
       "<Figure size 432x288 with 1 Axes>"
      ]
     },
     "metadata": {
      "needs_background": "light"
     },
     "output_type": "display_data"
    }
   ],
   "source": [
    "plt.hist(df[\"start_time_weekday\"], bins=range(0,8,1), color=\"green\")\n",
    "plt.xlabel(\"Weekday\")\n",
    "plt.ylabel(\"Total number of rentals started on weekday\")\n",
    "plt.title(\"Development of started rentals during the week\")\n",
    "plt.xticks(range(0,8,1))\n",
    "plt.grid(True)\n",
    "plt.show()"
   ]
  },
  {
   "cell_type": "code",
   "execution_count": 106,
   "metadata": {},
   "outputs": [],
   "source": [
    "# Calculate the average number of rentals for each day ( 52 number of weeks per year)\n",
    "df_average_per_weekday = df.groupby([\"start_time_weekday\"])[\"start_time_weekday\"].count().divide(52).reset_index(name=\"avg_number_started_rentals\")"
   ]
  },
  {
   "cell_type": "code",
   "execution_count": 108,
   "metadata": {},
   "outputs": [
    {
     "data": {
      "image/png": "[encoded data removed]",
      "text/plain": [
       "<Figure size 720x360 with 1 Axes>"
      ]
     },
     "metadata": {
      "needs_background": "light"
     },
     "output_type": "display_data"
    }
   ],
   "source": [
    "fig = plt.figure(figsize = (10, 5))\n",
    "plt.bar(\n",
    "        df_average_per_weekday[\"start_time_weekday\"], \n",
    "        df_average_per_weekday[\"avg_number_started_rentals\"], \n",
    "        color=\"green\"\n",
    ")\n",
    "plt.xlabel(\"Weekday\")\n",
    "plt.ylabel(\"Average number of rentals started per weekday\")\n",
    "plt.title(\"Development of started rentals during the week\")\n",
    "plt.grid(True)\n",
    "plt.show()"
   ]
  },
  {
   "cell_type": "code",
   "execution_count": 148,
   "metadata": {},
   "outputs": [
    {
     "data": {
      "text/html": [
       "<div>\n",
       "<style scoped>\n",
       "    .dataframe tbody tr th:only-of-type {\n",
       "        vertical-align: middle;\n",
       "    }\n",
       "\n",
       "    .dataframe tbody tr th {\n",
       "        vertical-align: top;\n",
       "    }\n",
       "\n",
       "    .dataframe thead th {\n",
       "        text-align: right;\n",
       "    }\n",
       "</style>\n",
       "<table border=\"1\" class=\"dataframe\">\n",
       "  <thead>\n",
       "    <tr style=\"text-align: right;\">\n",
       "      <th></th>\n",
       "      <th>start_time_month</th>\n",
       "      <th>number of started retals in month</th>\n",
       "    </tr>\n",
       "  </thead>\n",
       "  <tbody>\n",
       "    <tr>\n",
       "      <th>0</th>\n",
       "      <td>1</td>\n",
       "      <td>31194</td>\n",
       "    </tr>\n",
       "    <tr>\n",
       "      <th>1</th>\n",
       "      <td>2</td>\n",
       "      <td>39557</td>\n",
       "    </tr>\n",
       "    <tr>\n",
       "      <th>2</th>\n",
       "      <td>3</td>\n",
       "      <td>37021</td>\n",
       "    </tr>\n",
       "    <tr>\n",
       "      <th>3</th>\n",
       "      <td>4</td>\n",
       "      <td>66158</td>\n",
       "    </tr>\n",
       "    <tr>\n",
       "      <th>4</th>\n",
       "      <td>5</td>\n",
       "      <td>69653</td>\n",
       "    </tr>\n",
       "    <tr>\n",
       "      <th>5</th>\n",
       "      <td>6</td>\n",
       "      <td>84630</td>\n",
       "    </tr>\n",
       "    <tr>\n",
       "      <th>6</th>\n",
       "      <td>7</td>\n",
       "      <td>91138</td>\n",
       "    </tr>\n",
       "    <tr>\n",
       "      <th>7</th>\n",
       "      <td>8</td>\n",
       "      <td>94552</td>\n",
       "    </tr>\n",
       "    <tr>\n",
       "      <th>8</th>\n",
       "      <td>9</td>\n",
       "      <td>91095</td>\n",
       "    </tr>\n",
       "    <tr>\n",
       "      <th>9</th>\n",
       "      <td>10</td>\n",
       "      <td>88092</td>\n",
       "    </tr>\n",
       "    <tr>\n",
       "      <th>10</th>\n",
       "      <td>11</td>\n",
       "      <td>59852</td>\n",
       "    </tr>\n",
       "    <tr>\n",
       "      <th>11</th>\n",
       "      <td>12</td>\n",
       "      <td>35965</td>\n",
       "    </tr>\n",
       "  </tbody>\n",
       "</table>\n",
       "</div>"
      ],
      "text/plain": [
       "    start_time_month  number of started retals in month\n",
       "0                  1                              31194\n",
       "1                  2                              39557\n",
       "2                  3                              37021\n",
       "3                  4                              66158\n",
       "4                  5                              69653\n",
       "5                  6                              84630\n",
       "6                  7                              91138\n",
       "7                  8                              94552\n",
       "8                  9                              91095\n",
       "9                 10                              88092\n",
       "10                11                              59852\n",
       "11                12                              35965"
      ]
     },
     "execution_count": 148,
     "metadata": {},
     "output_type": "execute_result"
    }
   ],
   "source": [
    "df.groupby([\"start_time_month\"])[\"start_time_month\"].count().reset_index(name=\"number of started retals in month\")"
   ]
  },
  {
   "cell_type": "code",
   "execution_count": 161,
   "metadata": {},
   "outputs": [
    {
     "data": {
      "image/png": "[encoded data removed]",
      "text/plain": [
       "<Figure size 432x288 with 1 Axes>"
      ]
     },
     "metadata": {
      "needs_background": "light"
     },
     "output_type": "display_data"
    }
   ],
   "source": [
    "plt.hist(df[\"start_time_month\"], bins=range(0,14,1), color=\"green\")\n",
    "plt.xlabel(\"Weekday\")\n",
    "plt.ylabel(\"Total number of rentals started in month\")\n",
    "plt.title(\"Development of started rentals during month\")\n",
    "plt.xticks(range(1,13,1))\n",
    "plt.grid(True)\n",
    "plt.show()"
   ]
  },
  {
   "cell_type": "code",
   "execution_count": 160,
   "metadata": {},
   "outputs": [
    {
     "data": {
      "text/plain": [
       "True"
      ]
     },
     "execution_count": 160,
     "metadata": {},
     "output_type": "execute_result"
    }
   ],
   "source": [
    "(df[\"start_time_month\"] < df[\"end_time_month\"]).any()\n",
    "# es gibt Fälle in denen das Fahrrad im nächsten Monata zurückgegeben wurde"
   ]
  },
  {
   "cell_type": "markdown",
   "metadata": {},
   "source": [
    "#### We calculate how many bikes in the respective hours were in use accumulated over the year. (e.g. Rental from 0 o'clock to 2:45 would count as a usage in hour 0, 1 and 2) We have to considere in this case that bikes can be rented out for several days."
   ]
  },
  {
   "cell_type": "code",
   "execution_count": 203,
   "metadata": {},
   "outputs": [],
   "source": [
    "df_values = pd.DataFrame()\n",
    "for i in range(0,24,1):\n",
    "    df_values[f\"{i}\"]= ((df[\"start_time_hour\"] <= i) & (df[\"end_time_hour\"] >= i)) | ((df[\"end_time_hour\"] >= i) & (df[\"start_time_date\"] < df[\"end_time_date\"]))\n",
    "\n",
    "df_sum = df_values.apply(lambda x: x.sum()/365).reset_index(name=\"avg_n_of_bikes_in_use\").rename(columns={\"index\": \"hour\"})"
   ]
  },
  {
   "cell_type": "code",
   "execution_count": 204,
   "metadata": {},
   "outputs": [
    {
     "data": {
      "image/png": "[encoded data removed]",
      "text/plain": [
       "<Figure size 432x288 with 1 Axes>"
      ]
     },
     "metadata": {
      "needs_background": "light"
     },
     "output_type": "display_data"
    }
   ],
   "source": [
    "plt.bar(df_sum[\"hour\"], df_sum[\"avg_n_of_bikes_in_use\"], color=\"green\")\n",
    "plt.xlabel(\"hours\")\n",
    "plt.ylabel(\"average number of bikes in use\")\n",
    "plt.title(\"Bikes in use divided by hours of the day\")\n",
    "plt.grid(True)\n",
    "plt.show()"
   ]
  },
  {
   "cell_type": "code",
   "execution_count": null,
   "metadata": {},
   "outputs": [],
   "source": []
  }
 ],
 "metadata": {
  "kernelspec": {
   "display_name": "Python 3",
   "language": "python",
   "name": "python3"
  },
  "language_info": {
   "codemirror_mode": {
    "name": "ipython",
    "version": 3
   },
   "file_extension": ".py",
   "mimetype": "text/x-python",
   "name": "python",
   "nbconvert_exporter": "python",
   "pygments_lexer": "ipython3",
   "version": "3.8.5"
  }
 },
 "nbformat": 4,
 "nbformat_minor": 4
}
