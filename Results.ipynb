{
 "cells": [
  {
   "cell_type": "markdown",
   "metadata": {},
   "source": [
    "## Temporal Demand Patterns and Seasonality"
   ]
  },
  {
   "cell_type": "markdown",
   "metadata": {},
   "source": [
    "Step 1: Data preparation\n",
    "We convert the columns \"start_time\" and \"end_time\" to datetime and the generate additional columns for the date, time, hour, month and weekday."
   ]
  },
  {
   "cell_type": "code",
   "execution_count": 2,
   "metadata": {},
   "outputs": [],
   "source": [
    "import pandas as pd\n",
    "import matplotlib.pyplot as plt\n",
    "import numpy as np"
   ]
  },
  {
   "cell_type": "code",
   "execution_count": 3,
   "metadata": {},
   "outputs": [],
   "source": [
    "df = pd.read_csv(\"data/philadelphia_2017.csv\")"
   ]
  },
  {
   "cell_type": "code",
   "execution_count": 4,
   "metadata": {},
   "outputs": [],
   "source": [
    "for column in [\"start_time\", \"end_time\"]:\n",
    "    df[column] = pd.to_datetime(df[column])\n",
    "    df[column+\"_date\"] = df[column].dt.date\n",
    "    df[column+\"_time\"] = df[column].dt.time\n",
    "    df[column+\"_hour\"] = df[column].dt.hour\n",
    "    df[column+\"_month\"] = df[column].dt.month\n",
    "    df[column+\"_week\"] = df[column].dt.isocalendar().week\n",
    "    df[column+\"_weekday\"] = df[column].dt.weekday"
   ]
  },
  {
   "cell_type": "markdown",
   "metadata": {},
   "source": [
    "#### Analysis of Rental during the day\n",
    "\n",
    "First count the started rentals for each hour of the day for the whole dataset and vizualize it in a histogram."
   ]
  },
  {
   "cell_type": "code",
   "execution_count": 5,
   "metadata": {},
   "outputs": [
    {
     "data": {
      "text/html": [
       "<div>\n",
       "<style scoped>\n",
       "    .dataframe tbody tr th:only-of-type {\n",
       "        vertical-align: middle;\n",
       "    }\n",
       "\n",
       "    .dataframe tbody tr th {\n",
       "        vertical-align: top;\n",
       "    }\n",
       "\n",
       "    .dataframe thead th {\n",
       "        text-align: right;\n",
       "    }\n",
       "</style>\n",
       "<table border=\"1\" class=\"dataframe\">\n",
       "  <thead>\n",
       "    <tr style=\"text-align: right;\">\n",
       "      <th></th>\n",
       "      <th>start_time_hour</th>\n",
       "      <th>n_rentals_within_hour</th>\n",
       "    </tr>\n",
       "  </thead>\n",
       "  <tbody>\n",
       "    <tr>\n",
       "      <th>0</th>\n",
       "      <td>0</td>\n",
       "      <td>7726</td>\n",
       "    </tr>\n",
       "    <tr>\n",
       "      <th>1</th>\n",
       "      <td>1</td>\n",
       "      <td>4962</td>\n",
       "    </tr>\n",
       "    <tr>\n",
       "      <th>2</th>\n",
       "      <td>2</td>\n",
       "      <td>3373</td>\n",
       "    </tr>\n",
       "    <tr>\n",
       "      <th>3</th>\n",
       "      <td>3</td>\n",
       "      <td>1659</td>\n",
       "    </tr>\n",
       "    <tr>\n",
       "      <th>4</th>\n",
       "      <td>4</td>\n",
       "      <td>1752</td>\n",
       "    </tr>\n",
       "    <tr>\n",
       "      <th>5</th>\n",
       "      <td>5</td>\n",
       "      <td>7271</td>\n",
       "    </tr>\n",
       "    <tr>\n",
       "      <th>6</th>\n",
       "      <td>6</td>\n",
       "      <td>20167</td>\n",
       "    </tr>\n",
       "    <tr>\n",
       "      <th>7</th>\n",
       "      <td>7</td>\n",
       "      <td>40404</td>\n",
       "    </tr>\n",
       "    <tr>\n",
       "      <th>8</th>\n",
       "      <td>8</td>\n",
       "      <td>66331</td>\n",
       "    </tr>\n",
       "    <tr>\n",
       "      <th>9</th>\n",
       "      <td>9</td>\n",
       "      <td>40853</td>\n",
       "    </tr>\n",
       "    <tr>\n",
       "      <th>10</th>\n",
       "      <td>10</td>\n",
       "      <td>32241</td>\n",
       "    </tr>\n",
       "    <tr>\n",
       "      <th>11</th>\n",
       "      <td>11</td>\n",
       "      <td>35392</td>\n",
       "    </tr>\n",
       "    <tr>\n",
       "      <th>12</th>\n",
       "      <td>12</td>\n",
       "      <td>40386</td>\n",
       "    </tr>\n",
       "    <tr>\n",
       "      <th>13</th>\n",
       "      <td>13</td>\n",
       "      <td>40922</td>\n",
       "    </tr>\n",
       "    <tr>\n",
       "      <th>14</th>\n",
       "      <td>14</td>\n",
       "      <td>42462</td>\n",
       "    </tr>\n",
       "    <tr>\n",
       "      <th>15</th>\n",
       "      <td>15</td>\n",
       "      <td>47678</td>\n",
       "    </tr>\n",
       "    <tr>\n",
       "      <th>16</th>\n",
       "      <td>16</td>\n",
       "      <td>61041</td>\n",
       "    </tr>\n",
       "    <tr>\n",
       "      <th>17</th>\n",
       "      <td>17</td>\n",
       "      <td>87434</td>\n",
       "    </tr>\n",
       "    <tr>\n",
       "      <th>18</th>\n",
       "      <td>18</td>\n",
       "      <td>64452</td>\n",
       "    </tr>\n",
       "    <tr>\n",
       "      <th>19</th>\n",
       "      <td>19</td>\n",
       "      <td>50034</td>\n",
       "    </tr>\n",
       "    <tr>\n",
       "      <th>20</th>\n",
       "      <td>20</td>\n",
       "      <td>35254</td>\n",
       "    </tr>\n",
       "    <tr>\n",
       "      <th>21</th>\n",
       "      <td>21</td>\n",
       "      <td>25557</td>\n",
       "    </tr>\n",
       "    <tr>\n",
       "      <th>22</th>\n",
       "      <td>22</td>\n",
       "      <td>18835</td>\n",
       "    </tr>\n",
       "    <tr>\n",
       "      <th>23</th>\n",
       "      <td>23</td>\n",
       "      <td>12721</td>\n",
       "    </tr>\n",
       "  </tbody>\n",
       "</table>\n",
       "</div>"
      ],
      "text/plain": [
       "    start_time_hour  n_rentals_within_hour\n",
       "0                 0                   7726\n",
       "1                 1                   4962\n",
       "2                 2                   3373\n",
       "3                 3                   1659\n",
       "4                 4                   1752\n",
       "5                 5                   7271\n",
       "6                 6                  20167\n",
       "7                 7                  40404\n",
       "8                 8                  66331\n",
       "9                 9                  40853\n",
       "10               10                  32241\n",
       "11               11                  35392\n",
       "12               12                  40386\n",
       "13               13                  40922\n",
       "14               14                  42462\n",
       "15               15                  47678\n",
       "16               16                  61041\n",
       "17               17                  87434\n",
       "18               18                  64452\n",
       "19               19                  50034\n",
       "20               20                  35254\n",
       "21               21                  25557\n",
       "22               22                  18835\n",
       "23               23                  12721"
      ]
     },
     "execution_count": 5,
     "metadata": {},
     "output_type": "execute_result"
    }
   ],
   "source": [
    "df.groupby([\"start_time_hour\"])[\"start_time_hour\"].count().reset_index(name=\"n_rentals_within_hour\")"
   ]
  },
  {
   "cell_type": "code",
   "execution_count": 6,
   "metadata": {},
   "outputs": [
    {
     "data": {
      "text/plain": [
       "32871.125"
      ]
     },
     "execution_count": 6,
     "metadata": {},
     "output_type": "execute_result"
    }
   ],
   "source": [
    "mean = df.groupby([\"start_time_hour\"])[\"start_time_hour\"].count().mean()\n",
    "mean"
   ]
  },
  {
   "cell_type": "code",
   "execution_count": 7,
   "metadata": {
    "scrolled": true
   },
   "outputs": [
    {
     "data": {
      "image/png": "[encoded data removed]",
      "text/plain": [
       "<Figure size 432x288 with 1 Axes>"
      ]
     },
     "metadata": {
      "needs_background": "light"
     },
     "output_type": "display_data"
    }
   ],
   "source": [
    "plt.hist(df[\"start_time_hour\"], bins=range(0,25,1), color=\"green\")\n",
    "plt.axhline(mean , color = 'r', linestyle = '--')\n",
    "plt.xlabel(\"Hour\")\n",
    "plt.ylabel(\"Number of rentals started\")\n",
    "plt.title(\"Development of started rentals during the day\")\n",
    "plt.xticks(range(0,25,2))\n",
    "plt.grid(True)\n",
    "min_xlim, max_xlim = plt.xlim()\n",
    "plt.text(min_xlim*(-0.2), mean*1.1, 'Mean: {:.2f}'.format(mean))\n",
    "plt.show()"
   ]
  },
  {
   "cell_type": "markdown",
   "metadata": {},
   "source": [
    "To get average values we calculate the number of days for which we have data in our dataset and calculate the avarage number of rentals started within each hour in a day.\n",
    "\n",
    "IMPORTANT: The average values only provide meaningful results if we assume that we have all rental transactions that actually occurred included in our data set."
   ]
  },
  {
   "cell_type": "code",
   "execution_count": 8,
   "metadata": {},
   "outputs": [
    {
     "data": {
      "text/plain": [
       "365"
      ]
     },
     "execution_count": 8,
     "metadata": {},
     "output_type": "execute_result"
    }
   ],
   "source": [
    "number_days = len(df[\"start_time_date\"].unique())\n",
    "number_days"
   ]
  },
  {
   "cell_type": "code",
   "execution_count": 9,
   "metadata": {},
   "outputs": [
    {
     "data": {
      "text/html": [
       "<div>\n",
       "<style scoped>\n",
       "    .dataframe tbody tr th:only-of-type {\n",
       "        vertical-align: middle;\n",
       "    }\n",
       "\n",
       "    .dataframe tbody tr th {\n",
       "        vertical-align: top;\n",
       "    }\n",
       "\n",
       "    .dataframe thead th {\n",
       "        text-align: right;\n",
       "    }\n",
       "</style>\n",
       "<table border=\"1\" class=\"dataframe\">\n",
       "  <thead>\n",
       "    <tr style=\"text-align: right;\">\n",
       "      <th></th>\n",
       "      <th>start_time_hour</th>\n",
       "      <th>avg_n_rentals_within_hour</th>\n",
       "    </tr>\n",
       "  </thead>\n",
       "  <tbody>\n",
       "    <tr>\n",
       "      <th>0</th>\n",
       "      <td>0</td>\n",
       "      <td>21.167123</td>\n",
       "    </tr>\n",
       "    <tr>\n",
       "      <th>1</th>\n",
       "      <td>1</td>\n",
       "      <td>13.594521</td>\n",
       "    </tr>\n",
       "    <tr>\n",
       "      <th>2</th>\n",
       "      <td>2</td>\n",
       "      <td>9.241096</td>\n",
       "    </tr>\n",
       "    <tr>\n",
       "      <th>3</th>\n",
       "      <td>3</td>\n",
       "      <td>4.545205</td>\n",
       "    </tr>\n",
       "    <tr>\n",
       "      <th>4</th>\n",
       "      <td>4</td>\n",
       "      <td>4.800000</td>\n",
       "    </tr>\n",
       "    <tr>\n",
       "      <th>5</th>\n",
       "      <td>5</td>\n",
       "      <td>19.920548</td>\n",
       "    </tr>\n",
       "    <tr>\n",
       "      <th>6</th>\n",
       "      <td>6</td>\n",
       "      <td>55.252055</td>\n",
       "    </tr>\n",
       "    <tr>\n",
       "      <th>7</th>\n",
       "      <td>7</td>\n",
       "      <td>110.695890</td>\n",
       "    </tr>\n",
       "    <tr>\n",
       "      <th>8</th>\n",
       "      <td>8</td>\n",
       "      <td>181.728767</td>\n",
       "    </tr>\n",
       "    <tr>\n",
       "      <th>9</th>\n",
       "      <td>9</td>\n",
       "      <td>111.926027</td>\n",
       "    </tr>\n",
       "    <tr>\n",
       "      <th>10</th>\n",
       "      <td>10</td>\n",
       "      <td>88.331507</td>\n",
       "    </tr>\n",
       "    <tr>\n",
       "      <th>11</th>\n",
       "      <td>11</td>\n",
       "      <td>96.964384</td>\n",
       "    </tr>\n",
       "    <tr>\n",
       "      <th>12</th>\n",
       "      <td>12</td>\n",
       "      <td>110.646575</td>\n",
       "    </tr>\n",
       "    <tr>\n",
       "      <th>13</th>\n",
       "      <td>13</td>\n",
       "      <td>112.115068</td>\n",
       "    </tr>\n",
       "    <tr>\n",
       "      <th>14</th>\n",
       "      <td>14</td>\n",
       "      <td>116.334247</td>\n",
       "    </tr>\n",
       "    <tr>\n",
       "      <th>15</th>\n",
       "      <td>15</td>\n",
       "      <td>130.624658</td>\n",
       "    </tr>\n",
       "    <tr>\n",
       "      <th>16</th>\n",
       "      <td>16</td>\n",
       "      <td>167.235616</td>\n",
       "    </tr>\n",
       "    <tr>\n",
       "      <th>17</th>\n",
       "      <td>17</td>\n",
       "      <td>239.545205</td>\n",
       "    </tr>\n",
       "    <tr>\n",
       "      <th>18</th>\n",
       "      <td>18</td>\n",
       "      <td>176.580822</td>\n",
       "    </tr>\n",
       "    <tr>\n",
       "      <th>19</th>\n",
       "      <td>19</td>\n",
       "      <td>137.079452</td>\n",
       "    </tr>\n",
       "    <tr>\n",
       "      <th>20</th>\n",
       "      <td>20</td>\n",
       "      <td>96.586301</td>\n",
       "    </tr>\n",
       "    <tr>\n",
       "      <th>21</th>\n",
       "      <td>21</td>\n",
       "      <td>70.019178</td>\n",
       "    </tr>\n",
       "    <tr>\n",
       "      <th>22</th>\n",
       "      <td>22</td>\n",
       "      <td>51.602740</td>\n",
       "    </tr>\n",
       "    <tr>\n",
       "      <th>23</th>\n",
       "      <td>23</td>\n",
       "      <td>34.852055</td>\n",
       "    </tr>\n",
       "  </tbody>\n",
       "</table>\n",
       "</div>"
      ],
      "text/plain": [
       "    start_time_hour  avg_n_rentals_within_hour\n",
       "0                 0                  21.167123\n",
       "1                 1                  13.594521\n",
       "2                 2                   9.241096\n",
       "3                 3                   4.545205\n",
       "4                 4                   4.800000\n",
       "5                 5                  19.920548\n",
       "6                 6                  55.252055\n",
       "7                 7                 110.695890\n",
       "8                 8                 181.728767\n",
       "9                 9                 111.926027\n",
       "10               10                  88.331507\n",
       "11               11                  96.964384\n",
       "12               12                 110.646575\n",
       "13               13                 112.115068\n",
       "14               14                 116.334247\n",
       "15               15                 130.624658\n",
       "16               16                 167.235616\n",
       "17               17                 239.545205\n",
       "18               18                 176.580822\n",
       "19               19                 137.079452\n",
       "20               20                  96.586301\n",
       "21               21                  70.019178\n",
       "22               22                  51.602740\n",
       "23               23                  34.852055"
      ]
     },
     "execution_count": 9,
     "metadata": {},
     "output_type": "execute_result"
    }
   ],
   "source": [
    "df_avg_per_hour = df.groupby([\"start_time_hour\"])[\"start_time_hour\"].count().divide(number_days).reset_index(name=\"avg_n_rentals_within_hour\")\n",
    "df_avg_per_hour"
   ]
  },
  {
   "cell_type": "code",
   "execution_count": 10,
   "metadata": {},
   "outputs": [
    {
     "data": {
      "text/plain": [
       "90.05787671232876"
      ]
     },
     "execution_count": 10,
     "metadata": {},
     "output_type": "execute_result"
    }
   ],
   "source": [
    "mean= df_avg_per_hour[\"avg_n_rentals_within_hour\"].mean()\n",
    "mean"
   ]
  },
  {
   "cell_type": "code",
   "execution_count": 11,
   "metadata": {},
   "outputs": [
    {
     "data": {
      "image/png": "[encoded data removed]",
      "text/plain": [
       "<Figure size 432x288 with 1 Axes>"
      ]
     },
     "metadata": {
      "needs_background": "light"
     },
     "output_type": "display_data"
    }
   ],
   "source": [
    "plt.bar(\n",
    "        df_avg_per_hour[\"start_time_hour\"], \n",
    "        df_avg_per_hour[\"avg_n_rentals_within_hour\"], \n",
    "        color=\"green\"\n",
    ")\n",
    "plt.axhline(mean , color = 'r', linestyle = '--')\n",
    "plt.xlabel(\"Hour\")\n",
    "plt.ylabel(\"Average number of rentals started within hour\")\n",
    "plt.title(\"Development of avg started rentals during the day\")\n",
    "min_xlim, max_xlim = plt.xlim()\n",
    "plt.text(min_xlim*(-0.2), mean*1.1, 'Mean: {:.2f}'.format(mean))\n",
    "plt.grid(True)\n",
    "plt.show()"
   ]
  },
  {
   "cell_type": "markdown",
   "metadata": {},
   "source": [
    "In the plots above we only considered the starting times of the rentals. To also considere the endtime, we calculate how many bikes in the respective hours were IN USE accumulated over the year. (e.g. rental from 0 o'clock to 2:45 would count as a usage in hour 0, 1 and 2). In the process of calculation we also have to considere that bikes can be rented out for several days."
   ]
  },
  {
   "cell_type": "code",
   "execution_count": 12,
   "metadata": {},
   "outputs": [
    {
     "data": {
      "text/html": [
       "<div>\n",
       "<style scoped>\n",
       "    .dataframe tbody tr th:only-of-type {\n",
       "        vertical-align: middle;\n",
       "    }\n",
       "\n",
       "    .dataframe tbody tr th {\n",
       "        vertical-align: top;\n",
       "    }\n",
       "\n",
       "    .dataframe thead th {\n",
       "        text-align: right;\n",
       "    }\n",
       "</style>\n",
       "<table border=\"1\" class=\"dataframe\">\n",
       "  <thead>\n",
       "    <tr style=\"text-align: right;\">\n",
       "      <th></th>\n",
       "      <th>hour</th>\n",
       "      <th>avg_n_of_bikes_in_use</th>\n",
       "    </tr>\n",
       "  </thead>\n",
       "  <tbody>\n",
       "    <tr>\n",
       "      <th>0</th>\n",
       "      <td>0</td>\n",
       "      <td>37.969863</td>\n",
       "    </tr>\n",
       "    <tr>\n",
       "      <th>1</th>\n",
       "      <td>1</td>\n",
       "      <td>25.605479</td>\n",
       "    </tr>\n",
       "    <tr>\n",
       "      <th>2</th>\n",
       "      <td>2</td>\n",
       "      <td>19.534247</td>\n",
       "    </tr>\n",
       "    <tr>\n",
       "      <th>3</th>\n",
       "      <td>3</td>\n",
       "      <td>13.673973</td>\n",
       "    </tr>\n",
       "    <tr>\n",
       "      <th>4</th>\n",
       "      <td>4</td>\n",
       "      <td>13.200000</td>\n",
       "    </tr>\n",
       "    <tr>\n",
       "      <th>5</th>\n",
       "      <td>5</td>\n",
       "      <td>28.863014</td>\n",
       "    </tr>\n",
       "    <tr>\n",
       "      <th>6</th>\n",
       "      <td>6</td>\n",
       "      <td>67.904110</td>\n",
       "    </tr>\n",
       "    <tr>\n",
       "      <th>7</th>\n",
       "      <td>7</td>\n",
       "      <td>131.383562</td>\n",
       "    </tr>\n",
       "    <tr>\n",
       "      <th>8</th>\n",
       "      <td>8</td>\n",
       "      <td>217.268493</td>\n",
       "    </tr>\n",
       "    <tr>\n",
       "      <th>9</th>\n",
       "      <td>9</td>\n",
       "      <td>155.221918</td>\n",
       "    </tr>\n",
       "    <tr>\n",
       "      <th>10</th>\n",
       "      <td>10</td>\n",
       "      <td>118.591781</td>\n",
       "    </tr>\n",
       "    <tr>\n",
       "      <th>11</th>\n",
       "      <td>11</td>\n",
       "      <td>127.427397</td>\n",
       "    </tr>\n",
       "    <tr>\n",
       "      <th>12</th>\n",
       "      <td>12</td>\n",
       "      <td>146.953425</td>\n",
       "    </tr>\n",
       "    <tr>\n",
       "      <th>13</th>\n",
       "      <td>13</td>\n",
       "      <td>153.112329</td>\n",
       "    </tr>\n",
       "    <tr>\n",
       "      <th>14</th>\n",
       "      <td>14</td>\n",
       "      <td>158.547945</td>\n",
       "    </tr>\n",
       "    <tr>\n",
       "      <th>15</th>\n",
       "      <td>15</td>\n",
       "      <td>175.526027</td>\n",
       "    </tr>\n",
       "    <tr>\n",
       "      <th>16</th>\n",
       "      <td>16</td>\n",
       "      <td>214.852055</td>\n",
       "    </tr>\n",
       "    <tr>\n",
       "      <th>17</th>\n",
       "      <td>17</td>\n",
       "      <td>295.369863</td>\n",
       "    </tr>\n",
       "    <tr>\n",
       "      <th>18</th>\n",
       "      <td>18</td>\n",
       "      <td>235.717808</td>\n",
       "    </tr>\n",
       "    <tr>\n",
       "      <th>19</th>\n",
       "      <td>19</td>\n",
       "      <td>182.668493</td>\n",
       "    </tr>\n",
       "    <tr>\n",
       "      <th>20</th>\n",
       "      <td>20</td>\n",
       "      <td>131.780822</td>\n",
       "    </tr>\n",
       "    <tr>\n",
       "      <th>21</th>\n",
       "      <td>21</td>\n",
       "      <td>94.526027</td>\n",
       "    </tr>\n",
       "    <tr>\n",
       "      <th>22</th>\n",
       "      <td>22</td>\n",
       "      <td>68.000000</td>\n",
       "    </tr>\n",
       "    <tr>\n",
       "      <th>23</th>\n",
       "      <td>23</td>\n",
       "      <td>38.342466</td>\n",
       "    </tr>\n",
       "  </tbody>\n",
       "</table>\n",
       "</div>"
      ],
      "text/plain": [
       "   hour  avg_n_of_bikes_in_use\n",
       "0     0              37.969863\n",
       "1     1              25.605479\n",
       "2     2              19.534247\n",
       "3     3              13.673973\n",
       "4     4              13.200000\n",
       "5     5              28.863014\n",
       "6     6              67.904110\n",
       "7     7             131.383562\n",
       "8     8             217.268493\n",
       "9     9             155.221918\n",
       "10   10             118.591781\n",
       "11   11             127.427397\n",
       "12   12             146.953425\n",
       "13   13             153.112329\n",
       "14   14             158.547945\n",
       "15   15             175.526027\n",
       "16   16             214.852055\n",
       "17   17             295.369863\n",
       "18   18             235.717808\n",
       "19   19             182.668493\n",
       "20   20             131.780822\n",
       "21   21              94.526027\n",
       "22   22              68.000000\n",
       "23   23              38.342466"
      ]
     },
     "execution_count": 12,
     "metadata": {},
     "output_type": "execute_result"
    }
   ],
   "source": [
    "df_values = pd.DataFrame()\n",
    "for i in range(0,24,1):\n",
    "    df_values[f\"{i}\"]= (((df[\"start_time_hour\"] <= i) & (df[\"end_time_hour\"] >= i)) \n",
    "                        | ((df[\"end_time_hour\"] >= i) & (df[\"start_time_date\"] < df[\"end_time_date\"])))\n",
    "\n",
    "df_sum = df_values.apply(lambda x: x.sum()/number_days).reset_index(name=\"avg_n_of_bikes_in_use\").rename(columns={\"index\": \"hour\"})\n",
    "df_sum"
   ]
  },
  {
   "cell_type": "code",
   "execution_count": 13,
   "metadata": {},
   "outputs": [
    {
     "data": {
      "text/plain": [
       "118.83504566210046"
      ]
     },
     "execution_count": 13,
     "metadata": {},
     "output_type": "execute_result"
    }
   ],
   "source": [
    "mean = df_sum[\"avg_n_of_bikes_in_use\"].mean()\n",
    "mean"
   ]
  },
  {
   "cell_type": "code",
   "execution_count": 14,
   "metadata": {},
   "outputs": [
    {
     "data": {
      "image/png": "[encoded data removed]",
      "text/plain": [
       "<Figure size 432x288 with 1 Axes>"
      ]
     },
     "metadata": {
      "needs_background": "light"
     },
     "output_type": "display_data"
    }
   ],
   "source": [
    "plt.bar(df_sum[\"hour\"], df_sum[\"avg_n_of_bikes_in_use\"], color=\"green\")\n",
    "plt.axhline(mean , color = 'r', linestyle = '--')\n",
    "plt.xlabel(\"Hour\")\n",
    "plt.ylabel(\"Average Number of Bikes in Use\")\n",
    "plt.title(\"Bikes in Use by Hours of the Day\")\n",
    "min_xlim, max_xlim = plt.xlim()\n",
    "plt.text(min_xlim*(-0.2), mean*1.1, 'Mean: {:.2f}'.format(mean))\n",
    "plt.grid(True)\n",
    "plt.show()"
   ]
  },
  {
   "cell_type": "markdown",
   "metadata": {},
   "source": [
    "#### Analysis and Interpretation of the Results:\n",
    "\n",
    "The plots above all show that we have two peaks of bike rentals in the day. One peak demand at 8 am and the other peak at 5 pm. This peak can be a result of the rush-hour traffic. At these times most people are on their way to work/school or on their way back home. The demand around these times ( 8 am and 5 pm ) are also above average. Besides that, it also becomes clear that the bikes are mostly used during the day. During the night the demand is significantly below average (from 9 pm until 6 am)."
   ]
  },
  {
   "cell_type": "markdown",
   "metadata": {},
   "source": [
    "### Analysis of Rental during the week\n",
    "\n",
    "First count the started rentals for each weekday of the day for the whole dataset and vizualize it in a histogram."
   ]
  },
  {
   "cell_type": "code",
   "execution_count": 15,
   "metadata": {
    "scrolled": true
   },
   "outputs": [
    {
     "data": {
      "text/html": [
       "<div>\n",
       "<style scoped>\n",
       "    .dataframe tbody tr th:only-of-type {\n",
       "        vertical-align: middle;\n",
       "    }\n",
       "\n",
       "    .dataframe tbody tr th {\n",
       "        vertical-align: top;\n",
       "    }\n",
       "\n",
       "    .dataframe thead th {\n",
       "        text-align: right;\n",
       "    }\n",
       "</style>\n",
       "<table border=\"1\" class=\"dataframe\">\n",
       "  <thead>\n",
       "    <tr style=\"text-align: right;\">\n",
       "      <th></th>\n",
       "      <th>start_time_weekday</th>\n",
       "      <th>n_rentals_within_weekday</th>\n",
       "    </tr>\n",
       "  </thead>\n",
       "  <tbody>\n",
       "    <tr>\n",
       "      <th>0</th>\n",
       "      <td>0</td>\n",
       "      <td>112313</td>\n",
       "    </tr>\n",
       "    <tr>\n",
       "      <th>1</th>\n",
       "      <td>1</td>\n",
       "      <td>119890</td>\n",
       "    </tr>\n",
       "    <tr>\n",
       "      <th>2</th>\n",
       "      <td>2</td>\n",
       "      <td>129499</td>\n",
       "    </tr>\n",
       "    <tr>\n",
       "      <th>3</th>\n",
       "      <td>3</td>\n",
       "      <td>124702</td>\n",
       "    </tr>\n",
       "    <tr>\n",
       "      <th>4</th>\n",
       "      <td>4</td>\n",
       "      <td>118701</td>\n",
       "    </tr>\n",
       "    <tr>\n",
       "      <th>5</th>\n",
       "      <td>5</td>\n",
       "      <td>92786</td>\n",
       "    </tr>\n",
       "    <tr>\n",
       "      <th>6</th>\n",
       "      <td>6</td>\n",
       "      <td>91016</td>\n",
       "    </tr>\n",
       "  </tbody>\n",
       "</table>\n",
       "</div>"
      ],
      "text/plain": [
       "   start_time_weekday  n_rentals_within_weekday\n",
       "0                   0                    112313\n",
       "1                   1                    119890\n",
       "2                   2                    129499\n",
       "3                   3                    124702\n",
       "4                   4                    118701\n",
       "5                   5                     92786\n",
       "6                   6                     91016"
      ]
     },
     "execution_count": 15,
     "metadata": {},
     "output_type": "execute_result"
    }
   ],
   "source": [
    "df.groupby([\"start_time_weekday\"])[\"start_time_weekday\"].count().reset_index(name=\"n_rentals_within_weekday\")"
   ]
  },
  {
   "cell_type": "markdown",
   "metadata": {},
   "source": [
    "The mapping: {0: \"Monday\", 1: \"Tuesday\", 2: \"Wednesday\", 3: \"Thursday\", 4: \"Friday\",5: \"Saturday\",6: \"Sunday\"}"
   ]
  },
  {
   "cell_type": "code",
   "execution_count": 16,
   "metadata": {},
   "outputs": [
    {
     "data": {
      "text/plain": [
       "112701.0"
      ]
     },
     "execution_count": 16,
     "metadata": {},
     "output_type": "execute_result"
    }
   ],
   "source": [
    "mean = df.groupby([\"start_time_weekday\"])[\"start_time_weekday\"].count().mean()\n",
    "mean"
   ]
  },
  {
   "cell_type": "code",
   "execution_count": 17,
   "metadata": {},
   "outputs": [
    {
     "data": {
      "image/png": "[encoded data removed]",
      "text/plain": [
       "<Figure size 432x288 with 1 Axes>"
      ]
     },
     "metadata": {
      "needs_background": "light"
     },
     "output_type": "display_data"
    }
   ],
   "source": [
    "plt.hist(df[\"start_time_weekday\"], bins=range(0,8,1), color=\"green\")\n",
    "plt.axhline(mean , color = 'r', linestyle = '--')\n",
    "plt.xlabel(\"Weekday\")\n",
    "plt.ylabel(\"Total number of rentals started on weekday\")\n",
    "plt.title(\"Development of started rentals during the week\")\n",
    "plt.xticks(range(0,8,1))\n",
    "min_xlim, max_xlim = plt.xlim()\n",
    "plt.text(min_xlim*(-0.1), mean*1.1, 'Mean: {:.2f}'.format(mean))\n",
    "plt.grid(True)\n",
    "plt.show()"
   ]
  },
  {
   "cell_type": "markdown",
   "metadata": {},
   "source": [
    "To get average values we calculate the number of weeks for which we have data in our dataset and calculate the avarage number of rentals started within each weekday.\n",
    "\n",
    "IMPORTANT: The average values only provide meaningful results if we assume that we have all rental transactions that actually occurred included in our data set or at least equally distributed missing data points for each weekday. Otherwise the average values would provide misleading information. If we for example would have missing rental data for a specific weekday for several weeks, dividing by the total number of weeks would result to false average value for this weekday!"
   ]
  },
  {
   "cell_type": "code",
   "execution_count": 18,
   "metadata": {},
   "outputs": [
    {
     "data": {
      "text/plain": [
       "52"
      ]
     },
     "execution_count": 18,
     "metadata": {},
     "output_type": "execute_result"
    }
   ],
   "source": [
    "number_weeks = len(df[\"start_time_week\"].unique())\n",
    "number_weeks"
   ]
  },
  {
   "cell_type": "code",
   "execution_count": 19,
   "metadata": {},
   "outputs": [
    {
     "data": {
      "text/html": [
       "<div>\n",
       "<style scoped>\n",
       "    .dataframe tbody tr th:only-of-type {\n",
       "        vertical-align: middle;\n",
       "    }\n",
       "\n",
       "    .dataframe tbody tr th {\n",
       "        vertical-align: top;\n",
       "    }\n",
       "\n",
       "    .dataframe thead th {\n",
       "        text-align: right;\n",
       "    }\n",
       "</style>\n",
       "<table border=\"1\" class=\"dataframe\">\n",
       "  <thead>\n",
       "    <tr style=\"text-align: right;\">\n",
       "      <th></th>\n",
       "      <th>start_time_weekday</th>\n",
       "      <th>avg_number_started_rentals</th>\n",
       "    </tr>\n",
       "  </thead>\n",
       "  <tbody>\n",
       "    <tr>\n",
       "      <th>0</th>\n",
       "      <td>0</td>\n",
       "      <td>2159.865385</td>\n",
       "    </tr>\n",
       "    <tr>\n",
       "      <th>1</th>\n",
       "      <td>1</td>\n",
       "      <td>2305.576923</td>\n",
       "    </tr>\n",
       "    <tr>\n",
       "      <th>2</th>\n",
       "      <td>2</td>\n",
       "      <td>2490.365385</td>\n",
       "    </tr>\n",
       "    <tr>\n",
       "      <th>3</th>\n",
       "      <td>3</td>\n",
       "      <td>2398.115385</td>\n",
       "    </tr>\n",
       "    <tr>\n",
       "      <th>4</th>\n",
       "      <td>4</td>\n",
       "      <td>2282.711538</td>\n",
       "    </tr>\n",
       "    <tr>\n",
       "      <th>5</th>\n",
       "      <td>5</td>\n",
       "      <td>1784.346154</td>\n",
       "    </tr>\n",
       "    <tr>\n",
       "      <th>6</th>\n",
       "      <td>6</td>\n",
       "      <td>1750.307692</td>\n",
       "    </tr>\n",
       "  </tbody>\n",
       "</table>\n",
       "</div>"
      ],
      "text/plain": [
       "   start_time_weekday  avg_number_started_rentals\n",
       "0                   0                 2159.865385\n",
       "1                   1                 2305.576923\n",
       "2                   2                 2490.365385\n",
       "3                   3                 2398.115385\n",
       "4                   4                 2282.711538\n",
       "5                   5                 1784.346154\n",
       "6                   6                 1750.307692"
      ]
     },
     "execution_count": 19,
     "metadata": {},
     "output_type": "execute_result"
    }
   ],
   "source": [
    "df_average_per_weekday = df.groupby([\"start_time_weekday\"])[\"start_time_weekday\"].count().divide(number_weeks).reset_index(name=\"avg_number_started_rentals\")\n",
    "df_average_per_weekday"
   ]
  },
  {
   "cell_type": "code",
   "execution_count": 20,
   "metadata": {},
   "outputs": [
    {
     "data": {
      "text/plain": [
       "2167.3269230769233"
      ]
     },
     "execution_count": 20,
     "metadata": {},
     "output_type": "execute_result"
    }
   ],
   "source": [
    "mean = df_average_per_weekday[\"avg_number_started_rentals\"].mean()\n",
    "mean"
   ]
  },
  {
   "cell_type": "code",
   "execution_count": 21,
   "metadata": {},
   "outputs": [
    {
     "data": {
      "image/png": "[encoded data removed]",
      "text/plain": [
       "<Figure size 432x288 with 1 Axes>"
      ]
     },
     "metadata": {
      "needs_background": "light"
     },
     "output_type": "display_data"
    }
   ],
   "source": [
    "plt.bar(\n",
    "        df_average_per_weekday[\"start_time_weekday\"], \n",
    "        df_average_per_weekday[\"avg_number_started_rentals\"], \n",
    "        color=\"green\"\n",
    ")\n",
    "plt.axhline(mean, color=\"r\", linestyle=\"--\")\n",
    "plt.xlabel(\"Weekday\")\n",
    "plt.ylabel(\"Average number of rentals started per weekday\")\n",
    "plt.title(\"Development of started rentals during the week\")\n",
    "min_xlim, max_xlim = plt.xlim()\n",
    "plt.text(min_xlim*(-0.1), mean*1.1, 'Mean: {:.2f}'.format(mean))\n",
    "plt.grid(True)\n",
    "plt.show()"
   ]
  },
  {
   "cell_type": "markdown",
   "metadata": {},
   "source": [
    "#### Analysis and Interpretation of Results:\n",
    "\n",
    "The Bike rental demand is the lowest at the weekends (Saturdays and Sundays). The demand these days is significantly below average. The demand on Mondays is slightly below the average. We have a peak demand on Wednesdays. This development can possibly be rooted in the fact that most people don't work/ go to school or university on the weekends. This could mean that a big share of people who use the bike rental service are people who are on their way to work, school, or university."
   ]
  },
  {
   "cell_type": "markdown",
   "metadata": {},
   "source": [
    "### Analysis of Rental during the Year\n",
    "\n",
    "First count the started rentals for each month of the year for the whole dataset and vizualize it in a histogram.\n",
    "Average values can not be calculated since we only have data of one year."
   ]
  },
  {
   "cell_type": "code",
   "execution_count": 24,
   "metadata": {
    "scrolled": true
   },
   "outputs": [
    {
     "data": {
      "image/png": "[encoded data removed]",
      "text/plain": [
       "<Figure size 432x288 with 1 Axes>"
      ]
     },
     "metadata": {
      "needs_background": "light"
     },
     "output_type": "display_data"
    }
   ],
   "source": [
    "plt.bar(\n",
    "        df_average_per_weekday[\"start_time_weekday\"], \n",
    "        df_average_per_weekday[\"avg_number_started_rentals\"], \n",
    "        color=\"green\"\n",
    ")\n",
    "plt.axhline(mean, color=\"r\", linestyle=\"--\")\n",
    "plt.xlabel(\"Weekday\")\n",
    "plt.ylabel(\"Average number of rentals started per weekday\")\n",
    "plt.title(\"Development of started rentals during the week\")\n",
    "min_xlim, max_xlim = plt.xlim()\n",
    "plt.text(min_xlim*(-0.1), mean*1.1, 'Mean: {:.2f}'.format(mean))\n",
    "plt.grid(True)\n",
    "plt.show()"
   ]
  },
  {
   "cell_type": "code",
   "execution_count": 25,
   "metadata": {
    "scrolled": true
   },
   "outputs": [
    {
     "data": {
      "text/html": [
       "<div>\n",
       "<style scoped>\n",
       "    .dataframe tbody tr th:only-of-type {\n",
       "        vertical-align: middle;\n",
       "    }\n",
       "\n",
       "    .dataframe tbody tr th {\n",
       "        vertical-align: top;\n",
       "    }\n",
       "\n",
       "    .dataframe thead th {\n",
       "        text-align: right;\n",
       "    }\n",
       "</style>\n",
       "<table border=\"1\" class=\"dataframe\">\n",
       "  <thead>\n",
       "    <tr style=\"text-align: right;\">\n",
       "      <th></th>\n",
       "      <th>start_time_month</th>\n",
       "      <th>n_of_retals_in_month</th>\n",
       "    </tr>\n",
       "  </thead>\n",
       "  <tbody>\n",
       "    <tr>\n",
       "      <th>0</th>\n",
       "      <td>1</td>\n",
       "      <td>31194</td>\n",
       "    </tr>\n",
       "    <tr>\n",
       "      <th>1</th>\n",
       "      <td>2</td>\n",
       "      <td>39557</td>\n",
       "    </tr>\n",
       "    <tr>\n",
       "      <th>2</th>\n",
       "      <td>3</td>\n",
       "      <td>37021</td>\n",
       "    </tr>\n",
       "    <tr>\n",
       "      <th>3</th>\n",
       "      <td>4</td>\n",
       "      <td>66158</td>\n",
       "    </tr>\n",
       "    <tr>\n",
       "      <th>4</th>\n",
       "      <td>5</td>\n",
       "      <td>69653</td>\n",
       "    </tr>\n",
       "    <tr>\n",
       "      <th>5</th>\n",
       "      <td>6</td>\n",
       "      <td>84630</td>\n",
       "    </tr>\n",
       "    <tr>\n",
       "      <th>6</th>\n",
       "      <td>7</td>\n",
       "      <td>91138</td>\n",
       "    </tr>\n",
       "    <tr>\n",
       "      <th>7</th>\n",
       "      <td>8</td>\n",
       "      <td>94552</td>\n",
       "    </tr>\n",
       "    <tr>\n",
       "      <th>8</th>\n",
       "      <td>9</td>\n",
       "      <td>91095</td>\n",
       "    </tr>\n",
       "    <tr>\n",
       "      <th>9</th>\n",
       "      <td>10</td>\n",
       "      <td>88092</td>\n",
       "    </tr>\n",
       "    <tr>\n",
       "      <th>10</th>\n",
       "      <td>11</td>\n",
       "      <td>59852</td>\n",
       "    </tr>\n",
       "    <tr>\n",
       "      <th>11</th>\n",
       "      <td>12</td>\n",
       "      <td>35965</td>\n",
       "    </tr>\n",
       "  </tbody>\n",
       "</table>\n",
       "</div>"
      ],
      "text/plain": [
       "    start_time_month  n_of_retals_in_month\n",
       "0                  1                 31194\n",
       "1                  2                 39557\n",
       "2                  3                 37021\n",
       "3                  4                 66158\n",
       "4                  5                 69653\n",
       "5                  6                 84630\n",
       "6                  7                 91138\n",
       "7                  8                 94552\n",
       "8                  9                 91095\n",
       "9                 10                 88092\n",
       "10                11                 59852\n",
       "11                12                 35965"
      ]
     },
     "execution_count": 22,
     "metadata": {},
     "output_type": "execute_result"
    }
   ],
   "source": [
    "df.groupby([\"start_time_month\"])[\"start_time_month\"].count().reset_index(name=\"n_of_retals_in_month\")"
   ]
  },
  {
   "cell_type": "code",
   "execution_count": null,
   "metadata": {},
   "outputs": [],
   "source": []
  },
  {
   "cell_type": "code",
   "execution_count": 23,
   "metadata": {},
   "outputs": [
    {
     "data": {
      "text/plain": [
       "65742.25"
      ]
     },
     "execution_count": 23,
     "metadata": {},
     "output_type": "execute_result"
    }
   ],
   "source": [
    "mean = df.groupby([\"start_time_month\"])[\"start_time_month\"].count().mean()\n",
    "mean"
   ]
  },
  {
   "cell_type": "code",
   "execution_count": 24,
   "metadata": {},
   "outputs": [
    {
     "data": {
      "image/png": "[encoded data removed]",
      "text/plain": [
       "<Figure size 432x288 with 1 Axes>"
      ]
     },
     "metadata": {
      "needs_background": "light"
     },
     "output_type": "display_data"
    }
   ],
   "source": [
    "plt.hist(df[\"start_time_month\"], bins=range(0,14,1), color=\"green\")\n",
    "plt.axhline(mean, color=\"r\", linestyle=\"--\")\n",
    "plt.xlabel(\"Weekday\")\n",
    "plt.ylabel(\"Total Number of Rentals Started in Month\")\n",
    "plt.title(\"Development of Started Rentals during Month\")\n",
    "plt.xticks(range(1,13,1))\n",
    "min_xlim, max_xlim = plt.xlim()\n",
    "plt.text(min_xlim*(-0.1), mean*(1.06), \"Mean: {:.2f}\".format(mean))\n",
    "plt.grid(True)\n",
    "plt.show()"
   ]
  },
  {
   "cell_type": "code",
   "execution_count": 27,
   "metadata": {},
   "outputs": [],
   "source": [
    "df_weather = pd.read_csv(\"data/weather_hourly_philadelphia.csv\")\n",
    "\n",
    "df_weather[\"date_time\"] = pd.to_datetime(df_weather[\"date_time\"])\n",
    "df_weather[\"date\"] = df_weather[\"date_time\"].dt.date\n",
    "df_weather[\"hour\"] = df_weather[\"date_time\"].dt.hour\n",
    "df_merge = pd.merge(df, df_weather, how=\"left\", left_on=[\"start_time_date\", \"start_time_hour\"], right_on=[\"date\", \"hour\"])\n",
    "df_merge[\"avg_temp\"] = df_merge[[\"max_temp\", \"min_temp\"]].mean(axis=\"columns\")"
   ]
  },
  {
   "cell_type": "code",
   "execution_count": 28,
   "metadata": {},
   "outputs": [
    {
     "data": {
      "text/html": [
       "<div>\n",
       "<style scoped>\n",
       "    .dataframe tbody tr th:only-of-type {\n",
       "        vertical-align: middle;\n",
       "    }\n",
       "\n",
       "    .dataframe tbody tr th {\n",
       "        vertical-align: top;\n",
       "    }\n",
       "\n",
       "    .dataframe thead th {\n",
       "        text-align: right;\n",
       "    }\n",
       "</style>\n",
       "<table border=\"1\" class=\"dataframe\">\n",
       "  <thead>\n",
       "    <tr style=\"text-align: right;\">\n",
       "      <th></th>\n",
       "      <th>start_time_month</th>\n",
       "      <th>avg_temp</th>\n",
       "    </tr>\n",
       "  </thead>\n",
       "  <tbody>\n",
       "    <tr>\n",
       "      <th>0</th>\n",
       "      <td>1</td>\n",
       "      <td>5.074718</td>\n",
       "    </tr>\n",
       "    <tr>\n",
       "      <th>1</th>\n",
       "      <td>2</td>\n",
       "      <td>7.943745</td>\n",
       "    </tr>\n",
       "    <tr>\n",
       "      <th>2</th>\n",
       "      <td>3</td>\n",
       "      <td>7.591164</td>\n",
       "    </tr>\n",
       "    <tr>\n",
       "      <th>3</th>\n",
       "      <td>4</td>\n",
       "      <td>16.490964</td>\n",
       "    </tr>\n",
       "    <tr>\n",
       "      <th>4</th>\n",
       "      <td>5</td>\n",
       "      <td>18.141019</td>\n",
       "    </tr>\n",
       "    <tr>\n",
       "      <th>5</th>\n",
       "      <td>6</td>\n",
       "      <td>24.117952</td>\n",
       "    </tr>\n",
       "    <tr>\n",
       "      <th>6</th>\n",
       "      <td>7</td>\n",
       "      <td>26.481392</td>\n",
       "    </tr>\n",
       "    <tr>\n",
       "      <th>7</th>\n",
       "      <td>8</td>\n",
       "      <td>24.538687</td>\n",
       "    </tr>\n",
       "    <tr>\n",
       "      <th>8</th>\n",
       "      <td>9</td>\n",
       "      <td>22.174505</td>\n",
       "    </tr>\n",
       "    <tr>\n",
       "      <th>9</th>\n",
       "      <td>10</td>\n",
       "      <td>17.784617</td>\n",
       "    </tr>\n",
       "    <tr>\n",
       "      <th>10</th>\n",
       "      <td>11</td>\n",
       "      <td>9.960483</td>\n",
       "    </tr>\n",
       "    <tr>\n",
       "      <th>11</th>\n",
       "      <td>12</td>\n",
       "      <td>4.476909</td>\n",
       "    </tr>\n",
       "  </tbody>\n",
       "</table>\n",
       "</div>"
      ],
      "text/plain": [
       "    start_time_month   avg_temp\n",
       "0                  1   5.074718\n",
       "1                  2   7.943745\n",
       "2                  3   7.591164\n",
       "3                  4  16.490964\n",
       "4                  5  18.141019\n",
       "5                  6  24.117952\n",
       "6                  7  26.481392\n",
       "7                  8  24.538687\n",
       "8                  9  22.174505\n",
       "9                 10  17.784617\n",
       "10                11   9.960483\n",
       "11                12   4.476909"
      ]
     },
     "execution_count": 28,
     "metadata": {},
     "output_type": "execute_result"
    }
   ],
   "source": [
    "df_temp_month = df_merge.groupby(\"start_time_month\")[\"avg_temp\"].mean().reset_index(name=\"avg_temp\")\n",
    "df_temp_month"
   ]
  },
  {
   "cell_type": "code",
   "execution_count": 30,
   "metadata": {
    "scrolled": true
   },
   "outputs": [
    {
     "data": {
      "image/png": "[encoded data removed]",
      "text/plain": [
       "<Figure size 432x288 with 2 Axes>"
      ]
     },
     "metadata": {
      "needs_background": "light"
     },
     "output_type": "display_data"
    }
   ],
   "source": [
    "fig, ax1 = plt.subplots()\n",
    "ax2 = ax1.twinx()\n",
    "df_months = df.groupby([\"start_time_month\"])[\"start_time_month\"].count().reset_index(name=\"n_of_retals_in_month\")\n",
    "ax1.bar(df_months[\"start_time_month\"], df_months[\"n_of_retals_in_month\"], color=\"green\")\n",
    "plt.xlabel(\"Weekday\")\n",
    "ax1.set_ylabel(\"Total Number of Rentals Started in Month\")\n",
    "plt.title(\"Development of Started Rentals and Temperature\")\n",
    "plt.xticks(range(1,13,1))\n",
    "ax2.scatter(df_temp_month[\"start_time_month\"], df_temp_month[\"avg_temp\"], color=\"red\")\n",
    "ax2.set_ylabel(\"Average Temperature\")\n",
    "plt.grid(True)\n",
    "plt.show()"
   ]
  },
  {
   "cell_type": "code",
   "execution_count": 31,
   "metadata": {},
   "outputs": [
    {
     "data": {
      "image/png": "[encoded data removed]",
      "text/plain": [
       "<Figure size 432x288 with 1 Axes>"
      ]
     },
     "metadata": {
      "needs_background": "light"
     },
     "output_type": "display_data"
    }
   ],
   "source": [
    "plt.scatter(df_temp_month[\"avg_temp\"], df_months[\"n_of_retals_in_month\"], color=\"red\")\n",
    "plt.xlabel(\"Average Temperature\")\n",
    "plt.ylabel(\"Bike Rental Demand\")\n",
    "plt.title(\"Development of Bike Rental Demand dependant on Average Temperature\")\n",
    "plt.grid(True)\n",
    "plt.show()"
   ]
  },
  {
   "cell_type": "markdown",
   "metadata": {},
   "source": [
    "#### Analysis and Interpretation of the Results:\n",
    "\n",
    "The development of bike rental demand has similar development as the development of the average temperature during the year. \n",
    "The only difference can be seen at the peak. The average temperature has its peak in July whereas the bike rental demand has its peak in August. However, the difference in the bike rental demand in July and August is not that high. Another effect that could have an influence on the bike rental demand is the number of tourists. According to the annual report of Philadelphia, the number of tourists was the highest for the second and third quarters of the year (April to September). In these months the bike rental demand was always very close (April) or above the overall average of the bike rental demand. \n",
    "Especially for the month of December, January, February, and March the bike rental demand is clearly below the average.\n",
    "\n",
    "Development of the tourist numbers according to the annual report: \n",
    "- Q1: 7 million\n",
    "- Q2: 13.1 million\n",
    "- Q3: 13.1 million\n",
    "- Q4: 10.1 million"
   ]
  },
  {
   "cell_type": "markdown",
   "metadata": {},
   "source": [
    "#### KPIs"
   ]
  },
  {
   "cell_type": "code",
   "execution_count": 33,
   "metadata": {},
   "outputs": [
    {
     "ename": "KeyError",
     "evalue": "'Column not found: duration_of_use'",
     "output_type": "error",
     "traceback": [
      "\u001b[0;31m---------------------------------------------------------------------------\u001b[0m",
      "\u001b[0;31mKeyError\u001b[0m                                  Traceback (most recent call last)",
      "\u001b[0;32m<ipython-input-36-d3b84a54b6d3>\u001b[0m in \u001b[0;36m<module>\u001b[0;34m\u001b[0m\n\u001b[0;32m----> 1\u001b[0;31m \u001b[0mdf_duration_monthly\u001b[0m \u001b[0;34m=\u001b[0m \u001b[0mdf\u001b[0m\u001b[0;34m.\u001b[0m\u001b[0mgroupby\u001b[0m\u001b[0;34m(\u001b[0m\u001b[0;34m\"start_time_month\"\u001b[0m\u001b[0;34m)\u001b[0m\u001b[0;34m[\u001b[0m\u001b[0;34m\"duration_of_use\"\u001b[0m\u001b[0;34m]\u001b[0m\u001b[0;34m.\u001b[0m\u001b[0msum\u001b[0m\u001b[0;34m(\u001b[0m\u001b[0;34m)\u001b[0m\u001b[0;34m.\u001b[0m\u001b[0mreset_index\u001b[0m\u001b[0;34m(\u001b[0m\u001b[0mname\u001b[0m\u001b[0;34m=\u001b[0m\u001b[0;34m\"sum_duration_bike_rentals\"\u001b[0m\u001b[0;34m)\u001b[0m\u001b[0;34m\u001b[0m\u001b[0;34m\u001b[0m\u001b[0m\n\u001b[0m\u001b[1;32m      2\u001b[0m \u001b[0mdf_duration_monthly\u001b[0m\u001b[0;34m[\u001b[0m\u001b[0;34m\"duration_in_hours\"\u001b[0m\u001b[0;34m]\u001b[0m \u001b[0;34m=\u001b[0m \u001b[0mdf_duration_monthly\u001b[0m\u001b[0;34m[\u001b[0m\u001b[0;34m\"sum_duration_bike_rentals\"\u001b[0m\u001b[0;34m]\u001b[0m\u001b[0;34m.\u001b[0m\u001b[0mdt\u001b[0m\u001b[0;34m.\u001b[0m\u001b[0mtotal_seconds\u001b[0m\u001b[0;34m(\u001b[0m\u001b[0;34m)\u001b[0m\u001b[0;34m.\u001b[0m\u001b[0mdivide\u001b[0m\u001b[0;34m(\u001b[0m\u001b[0;36m60\u001b[0m\u001b[0;34m*\u001b[0m\u001b[0;36m60\u001b[0m\u001b[0;34m)\u001b[0m\u001b[0;34m\u001b[0m\u001b[0;34m\u001b[0m\u001b[0m\n\u001b[1;32m      3\u001b[0m \u001b[0mdf_duration_monthly\u001b[0m\u001b[0;34m[\u001b[0m\u001b[0;34m\"duration_in_minutes\"\u001b[0m\u001b[0;34m]\u001b[0m \u001b[0;34m=\u001b[0m \u001b[0mdf_duration_monthly\u001b[0m\u001b[0;34m[\u001b[0m\u001b[0;34m\"sum_duration_bike_rentals\"\u001b[0m\u001b[0;34m]\u001b[0m\u001b[0;34m.\u001b[0m\u001b[0mdt\u001b[0m\u001b[0;34m.\u001b[0m\u001b[0mtotal_seconds\u001b[0m\u001b[0;34m(\u001b[0m\u001b[0;34m)\u001b[0m\u001b[0;34m.\u001b[0m\u001b[0mdivide\u001b[0m\u001b[0;34m(\u001b[0m\u001b[0;36m60\u001b[0m\u001b[0;34m)\u001b[0m\u001b[0;34m\u001b[0m\u001b[0;34m\u001b[0m\u001b[0m\n\u001b[1;32m      4\u001b[0m \u001b[0mdf_duration_monthly\u001b[0m\u001b[0;34m[\u001b[0m\u001b[0;34m\"number_of_rentals\"\u001b[0m\u001b[0;34m]\u001b[0m \u001b[0;34m=\u001b[0m \u001b[0mdf\u001b[0m\u001b[0;34m.\u001b[0m\u001b[0mgroupby\u001b[0m\u001b[0;34m(\u001b[0m\u001b[0;34m\"start_time_month\"\u001b[0m\u001b[0;34m)\u001b[0m\u001b[0;34m[\u001b[0m\u001b[0;34m\"start_time_month\"\u001b[0m\u001b[0;34m]\u001b[0m\u001b[0;34m.\u001b[0m\u001b[0mcount\u001b[0m\u001b[0;34m(\u001b[0m\u001b[0;34m)\u001b[0m\u001b[0;34m.\u001b[0m\u001b[0mreset_index\u001b[0m\u001b[0;34m(\u001b[0m\u001b[0mdrop\u001b[0m\u001b[0;34m=\u001b[0m\u001b[0;32mTrue\u001b[0m\u001b[0;34m)\u001b[0m\u001b[0;34m\u001b[0m\u001b[0;34m\u001b[0m\u001b[0m\n\u001b[1;32m      5\u001b[0m \u001b[0mdf_duration_monthly\u001b[0m\u001b[0;34m[\u001b[0m\u001b[0;34m\"avg_duration_per_rental_in_min\"\u001b[0m\u001b[0;34m]\u001b[0m \u001b[0;34m=\u001b[0m \u001b[0mdf_duration_monthly\u001b[0m\u001b[0;34m[\u001b[0m\u001b[0;34m\"duration_in_minutes\"\u001b[0m\u001b[0;34m]\u001b[0m \u001b[0;34m/\u001b[0m \u001b[0mdf_duration_monthly\u001b[0m\u001b[0;34m[\u001b[0m\u001b[0;34m\"number_of_rentals\"\u001b[0m\u001b[0;34m]\u001b[0m\u001b[0;34m\u001b[0m\u001b[0;34m\u001b[0m\u001b[0m\n",
      "\u001b[0;32m~/opt/anaconda3/lib/python3.8/site-packages/pandas/core/groupby/generic.py\u001b[0m in \u001b[0;36m__getitem__\u001b[0;34m(self, key)\u001b[0m\n\u001b[1;32m   1648\u001b[0m                 \u001b[0mstacklevel\u001b[0m\u001b[0;34m=\u001b[0m\u001b[0;36m2\u001b[0m\u001b[0;34m,\u001b[0m\u001b[0;34m\u001b[0m\u001b[0;34m\u001b[0m\u001b[0m\n\u001b[1;32m   1649\u001b[0m             )\n\u001b[0;32m-> 1650\u001b[0;31m         \u001b[0;32mreturn\u001b[0m \u001b[0msuper\u001b[0m\u001b[0;34m(\u001b[0m\u001b[0;34m)\u001b[0m\u001b[0;34m.\u001b[0m\u001b[0m__getitem__\u001b[0m\u001b[0;34m(\u001b[0m\u001b[0mkey\u001b[0m\u001b[0;34m)\u001b[0m\u001b[0;34m\u001b[0m\u001b[0;34m\u001b[0m\u001b[0m\n\u001b[0m\u001b[1;32m   1651\u001b[0m \u001b[0;34m\u001b[0m\u001b[0m\n\u001b[1;32m   1652\u001b[0m     \u001b[0;32mdef\u001b[0m \u001b[0m_gotitem\u001b[0m\u001b[0;34m(\u001b[0m\u001b[0mself\u001b[0m\u001b[0;34m,\u001b[0m \u001b[0mkey\u001b[0m\u001b[0;34m,\u001b[0m \u001b[0mndim\u001b[0m\u001b[0;34m:\u001b[0m \u001b[0mint\u001b[0m\u001b[0;34m,\u001b[0m \u001b[0msubset\u001b[0m\u001b[0;34m=\u001b[0m\u001b[0;32mNone\u001b[0m\u001b[0;34m)\u001b[0m\u001b[0;34m:\u001b[0m\u001b[0;34m\u001b[0m\u001b[0;34m\u001b[0m\u001b[0m\n",
      "\u001b[0;32m~/opt/anaconda3/lib/python3.8/site-packages/pandas/core/base.py\u001b[0m in \u001b[0;36m__getitem__\u001b[0;34m(self, key)\u001b[0m\n\u001b[1;32m    226\u001b[0m         \u001b[0;32melse\u001b[0m\u001b[0;34m:\u001b[0m\u001b[0;34m\u001b[0m\u001b[0;34m\u001b[0m\u001b[0m\n\u001b[1;32m    227\u001b[0m             \u001b[0;32mif\u001b[0m \u001b[0mkey\u001b[0m \u001b[0;32mnot\u001b[0m \u001b[0;32min\u001b[0m \u001b[0mself\u001b[0m\u001b[0;34m.\u001b[0m\u001b[0mobj\u001b[0m\u001b[0;34m:\u001b[0m\u001b[0;34m\u001b[0m\u001b[0;34m\u001b[0m\u001b[0m\n\u001b[0;32m--> 228\u001b[0;31m                 \u001b[0;32mraise\u001b[0m \u001b[0mKeyError\u001b[0m\u001b[0;34m(\u001b[0m\u001b[0;34mf\"Column not found: {key}\"\u001b[0m\u001b[0;34m)\u001b[0m\u001b[0;34m\u001b[0m\u001b[0;34m\u001b[0m\u001b[0m\n\u001b[0m\u001b[1;32m    229\u001b[0m             \u001b[0;32mreturn\u001b[0m \u001b[0mself\u001b[0m\u001b[0;34m.\u001b[0m\u001b[0m_gotitem\u001b[0m\u001b[0;34m(\u001b[0m\u001b[0mkey\u001b[0m\u001b[0;34m,\u001b[0m \u001b[0mndim\u001b[0m\u001b[0;34m=\u001b[0m\u001b[0;36m1\u001b[0m\u001b[0;34m)\u001b[0m\u001b[0;34m\u001b[0m\u001b[0;34m\u001b[0m\u001b[0m\n\u001b[1;32m    230\u001b[0m \u001b[0;34m\u001b[0m\u001b[0m\n",
      "\u001b[0;31mKeyError\u001b[0m: 'Column not found: duration_of_use'"
     ]
    }
   ],
   "source": [
    "df[\"duration_of_use\"] = df[\"end_time\"] - df[\"start_time\"]\n",
    "df_duration_monthly = df.groupby(\"start_time_month\")[\"duration_of_use\"].sum().reset_index(name=\"sum_duration_bike_rentals\")\n",
    "df_duration_monthly[\"duration_in_hours\"] = df_duration_monthly[\"sum_duration_bike_rentals\"].dt.total_seconds().divide(60*60)\n",
    "df_duration_monthly[\"duration_in_minutes\"] = df_duration_monthly[\"sum_duration_bike_rentals\"].dt.total_seconds().divide(60)\n",
    "df_duration_monthly[\"number_of_rentals\"] = df.groupby(\"start_time_month\")[\"start_time_month\"].count().reset_index(drop=True)\n",
    "df_duration_monthly[\"avg_duration_per_rental_in_min\"] = df_duration_monthly[\"duration_in_minutes\"] / df_duration_monthly[\"number_of_rentals\"]"
   ]
  },
  {
   "cell_type": "code",
   "execution_count": 34,
   "metadata": {
    "scrolled": true
   },
   "outputs": [
    {
     "data": {
      "text/html": [
       "<div>\n",
       "<style scoped>\n",
       "    .dataframe tbody tr th:only-of-type {\n",
       "        vertical-align: middle;\n",
       "    }\n",
       "\n",
       "    .dataframe tbody tr th {\n",
       "        vertical-align: top;\n",
       "    }\n",
       "\n",
       "    .dataframe thead th {\n",
       "        text-align: right;\n",
       "    }\n",
       "</style>\n",
       "<table border=\"1\" class=\"dataframe\">\n",
       "  <thead>\n",
       "    <tr style=\"text-align: right;\">\n",
       "      <th></th>\n",
       "      <th>start_time_month</th>\n",
       "      <th>sum_duration_bike_rentals</th>\n",
       "      <th>duration_in_hours</th>\n",
       "      <th>duration_in_minutes</th>\n",
       "      <th>number_of_rentals</th>\n",
       "      <th>avg_duration_per_rental_in_min</th>\n",
       "    </tr>\n",
       "  </thead>\n",
       "  <tbody>\n",
       "    <tr>\n",
       "      <th>0</th>\n",
       "      <td>1</td>\n",
       "      <td>423 days 23:59:00</td>\n",
       "      <td>10175.983333</td>\n",
       "      <td>610559.0</td>\n",
       "      <td>31194</td>\n",
       "      <td>19.572963</td>\n",
       "    </tr>\n",
       "    <tr>\n",
       "      <th>1</th>\n",
       "      <td>2</td>\n",
       "      <td>591 days 05:01:00</td>\n",
       "      <td>14189.016667</td>\n",
       "      <td>851341.0</td>\n",
       "      <td>39557</td>\n",
       "      <td>21.521880</td>\n",
       "    </tr>\n",
       "    <tr>\n",
       "      <th>2</th>\n",
       "      <td>3</td>\n",
       "      <td>534 days 00:11:00</td>\n",
       "      <td>12816.183333</td>\n",
       "      <td>768971.0</td>\n",
       "      <td>37021</td>\n",
       "      <td>20.771211</td>\n",
       "    </tr>\n",
       "    <tr>\n",
       "      <th>3</th>\n",
       "      <td>4</td>\n",
       "      <td>1039 days 08:26:00</td>\n",
       "      <td>24944.433333</td>\n",
       "      <td>1496666.0</td>\n",
       "      <td>66158</td>\n",
       "      <td>22.622600</td>\n",
       "    </tr>\n",
       "    <tr>\n",
       "      <th>4</th>\n",
       "      <td>5</td>\n",
       "      <td>1064 days 12:41:00</td>\n",
       "      <td>25548.683333</td>\n",
       "      <td>1532921.0</td>\n",
       "      <td>69653</td>\n",
       "      <td>22.007968</td>\n",
       "    </tr>\n",
       "    <tr>\n",
       "      <th>5</th>\n",
       "      <td>6</td>\n",
       "      <td>1336 days 18:29:00</td>\n",
       "      <td>32082.483333</td>\n",
       "      <td>1924949.0</td>\n",
       "      <td>84630</td>\n",
       "      <td>22.745469</td>\n",
       "    </tr>\n",
       "    <tr>\n",
       "      <th>6</th>\n",
       "      <td>7</td>\n",
       "      <td>1463 days 15:43:00</td>\n",
       "      <td>35127.716667</td>\n",
       "      <td>2107663.0</td>\n",
       "      <td>91138</td>\n",
       "      <td>23.126062</td>\n",
       "    </tr>\n",
       "    <tr>\n",
       "      <th>7</th>\n",
       "      <td>8</td>\n",
       "      <td>1413 days 12:27:00</td>\n",
       "      <td>33924.450000</td>\n",
       "      <td>2035467.0</td>\n",
       "      <td>94552</td>\n",
       "      <td>21.527488</td>\n",
       "    </tr>\n",
       "    <tr>\n",
       "      <th>8</th>\n",
       "      <td>9</td>\n",
       "      <td>1387 days 09:35:00</td>\n",
       "      <td>33297.583333</td>\n",
       "      <td>1997855.0</td>\n",
       "      <td>91095</td>\n",
       "      <td>21.931555</td>\n",
       "    </tr>\n",
       "    <tr>\n",
       "      <th>9</th>\n",
       "      <td>10</td>\n",
       "      <td>1257 days 08:11:00</td>\n",
       "      <td>30176.183333</td>\n",
       "      <td>1810571.0</td>\n",
       "      <td>88092</td>\n",
       "      <td>20.553183</td>\n",
       "    </tr>\n",
       "    <tr>\n",
       "      <th>10</th>\n",
       "      <td>11</td>\n",
       "      <td>822 days 21:41:00</td>\n",
       "      <td>19749.683333</td>\n",
       "      <td>1184981.0</td>\n",
       "      <td>59852</td>\n",
       "      <td>19.798520</td>\n",
       "    </tr>\n",
       "    <tr>\n",
       "      <th>11</th>\n",
       "      <td>12</td>\n",
       "      <td>515 days 17:58:00</td>\n",
       "      <td>12377.966667</td>\n",
       "      <td>742678.0</td>\n",
       "      <td>35965</td>\n",
       "      <td>20.650021</td>\n",
       "    </tr>\n",
       "  </tbody>\n",
       "</table>\n",
       "</div>"
      ],
      "text/plain": [
       "    start_time_month sum_duration_bike_rentals  duration_in_hours  \\\n",
       "0                  1         423 days 23:59:00       10175.983333   \n",
       "1                  2         591 days 05:01:00       14189.016667   \n",
       "2                  3         534 days 00:11:00       12816.183333   \n",
       "3                  4        1039 days 08:26:00       24944.433333   \n",
       "4                  5        1064 days 12:41:00       25548.683333   \n",
       "5                  6        1336 days 18:29:00       32082.483333   \n",
       "6                  7        1463 days 15:43:00       35127.716667   \n",
       "7                  8        1413 days 12:27:00       33924.450000   \n",
       "8                  9        1387 days 09:35:00       33297.583333   \n",
       "9                 10        1257 days 08:11:00       30176.183333   \n",
       "10                11         822 days 21:41:00       19749.683333   \n",
       "11                12         515 days 17:58:00       12377.966667   \n",
       "\n",
       "    duration_in_minutes  number_of_rentals  avg_duration_per_rental_in_min  \n",
       "0              610559.0              31194                       19.572963  \n",
       "1              851341.0              39557                       21.521880  \n",
       "2              768971.0              37021                       20.771211  \n",
       "3             1496666.0              66158                       22.622600  \n",
       "4             1532921.0              69653                       22.007968  \n",
       "5             1924949.0              84630                       22.745469  \n",
       "6             2107663.0              91138                       23.126062  \n",
       "7             2035467.0              94552                       21.527488  \n",
       "8             1997855.0              91095                       21.931555  \n",
       "9             1810571.0              88092                       20.553183  \n",
       "10            1184981.0              59852                       19.798520  \n",
       "11             742678.0              35965                       20.650021  "
      ]
     },
     "execution_count": 34,
     "metadata": {},
     "output_type": "execute_result"
    }
   ],
   "source": [
    "df_duration_monthly"
   ]
  },
  {
   "cell_type": "code",
   "execution_count": 35,
   "metadata": {
    "scrolled": false
   },
   "outputs": [],
   "source": [
    "plt.bar(df_duration_monthly[\"start_time_month\"],\n",
    "       df_duration_monthly[\"avg_duration_per_rental_in_min\"],\n",
    "       color=\"green\")\n",
    "plt.grid(True)\n",
    "plt.xticks(range(1,13,1))\n",
    "plt.xlabel(\"Months\")\n",
    "plt.ylabel(\"Avg Duration per Rental in min\")\n",
    "plt.show()"
   ]
  },
  {
   "cell_type": "code",
   "execution_count": 36,
   "metadata": {},
   "outputs": [],
   "source": [
    "plt.bar(df_duration_monthly[\"start_time_month\"],\n",
    "       df_duration_monthly[\"duration_in_hours\"],\n",
    "       color=\"green\")\n",
    "plt.grid(True)\n",
    "plt.xticks(range(1,13,1))\n",
    "plt.xlabel(\"Months\")\n",
    "plt.ylabel(\"Summed Rental durations in Hours\")\n",
    "plt.show()"
   ]
  },
  {
   "cell_type": "code",
   "execution_count": 37,
   "metadata": {},
   "outputs": [
    {
     "data": {
      "text/plain": [
       "array(['Indego30', 'Walk-up', 'IndegoFlex', 'One Day Pass',\n",
       "       'Two Day Pass', 'Indego365'], dtype=object)"
      ]
     },
     "execution_count": 37,
     "metadata": {},
     "output_type": "execute_result"
    }
   ],
   "source": [
    "df.user_type.unique()"
   ]
  },
  {
   "cell_type": "code",
   "execution_count": null,
   "metadata": {},
   "outputs": [],
   "source": [
    "df.columns"
   ]
  },
  {
   "cell_type": "markdown",
   "metadata": {},
   "source": [
    "Other KPIs: \n",
    "Share of long time customers -> Indego365\n",
    "Revenue -> fehlende preise\n",
    "Fleet utilization (Auslastung) -> Don't know the total number of bikes"
   ]
  },
  {
   "cell_type": "markdown",
   "metadata": {},
   "source": [
    "## Bike fleet utilization"
   ]
  },
  {
   "cell_type": "code",
   "execution_count": 38,
   "metadata": {},
   "outputs": [
    {
     "name": "stdout",
     "output_type": "stream",
     "text": [
      "number_of_bikes=1250, total_number_of_rentals=788907\n"
     ]
    }
   ],
   "source": [
    "# approximate how many individual bikes there are (we have no information about total number of bikes)\n",
    "number_of_bikes = len(df[\"bike_id\"].unique())\n",
    "total_number_of_rentals = len(df) # each row is a rental process\n",
    "print(f\"{number_of_bikes=}, {total_number_of_rentals=}\")"
   ]
  },
  {
   "cell_type": "code",
   "execution_count": 39,
   "metadata": {},
   "outputs": [
    {
     "data": {
      "text/html": [
       "<div>\n",
       "<style scoped>\n",
       "    .dataframe tbody tr th:only-of-type {\n",
       "        vertical-align: middle;\n",
       "    }\n",
       "\n",
       "    .dataframe tbody tr th {\n",
       "        vertical-align: top;\n",
       "    }\n",
       "\n",
       "    .dataframe thead th {\n",
       "        text-align: right;\n",
       "    }\n",
       "</style>\n",
       "<table border=\"1\" class=\"dataframe\">\n",
       "  <thead>\n",
       "    <tr style=\"text-align: right;\">\n",
       "      <th></th>\n",
       "      <th>bike_id</th>\n",
       "      <th>total_number_of_rides</th>\n",
       "      <th>cumulative_ride_count</th>\n",
       "      <th>percentage_number_of_bikes</th>\n",
       "      <th>percentage_ride_count</th>\n",
       "    </tr>\n",
       "  </thead>\n",
       "  <tbody>\n",
       "    <tr>\n",
       "      <th>0</th>\n",
       "      <td>11171</td>\n",
       "      <td>1370</td>\n",
       "      <td>1370</td>\n",
       "      <td>0.0008</td>\n",
       "      <td>0.001737</td>\n",
       "    </tr>\n",
       "    <tr>\n",
       "      <th>1</th>\n",
       "      <td>11010</td>\n",
       "      <td>1031</td>\n",
       "      <td>2401</td>\n",
       "      <td>0.0016</td>\n",
       "      <td>0.003043</td>\n",
       "    </tr>\n",
       "    <tr>\n",
       "      <th>2</th>\n",
       "      <td>5351</td>\n",
       "      <td>1027</td>\n",
       "      <td>3428</td>\n",
       "      <td>0.0024</td>\n",
       "      <td>0.004345</td>\n",
       "    </tr>\n",
       "    <tr>\n",
       "      <th>3</th>\n",
       "      <td>5182</td>\n",
       "      <td>1025</td>\n",
       "      <td>4453</td>\n",
       "      <td>0.0032</td>\n",
       "      <td>0.005645</td>\n",
       "    </tr>\n",
       "    <tr>\n",
       "      <th>4</th>\n",
       "      <td>5167</td>\n",
       "      <td>1024</td>\n",
       "      <td>5477</td>\n",
       "      <td>0.0040</td>\n",
       "      <td>0.006943</td>\n",
       "    </tr>\n",
       "    <tr>\n",
       "      <th>...</th>\n",
       "      <td>...</td>\n",
       "      <td>...</td>\n",
       "      <td>...</td>\n",
       "      <td>...</td>\n",
       "      <td>...</td>\n",
       "    </tr>\n",
       "    <tr>\n",
       "      <th>1245</th>\n",
       "      <td>11045</td>\n",
       "      <td>35</td>\n",
       "      <td>788881</td>\n",
       "      <td>0.9968</td>\n",
       "      <td>0.999967</td>\n",
       "    </tr>\n",
       "    <tr>\n",
       "      <th>1246</th>\n",
       "      <td>11829</td>\n",
       "      <td>10</td>\n",
       "      <td>788891</td>\n",
       "      <td>0.9976</td>\n",
       "      <td>0.999980</td>\n",
       "    </tr>\n",
       "    <tr>\n",
       "      <th>1247</th>\n",
       "      <td>11825</td>\n",
       "      <td>8</td>\n",
       "      <td>788899</td>\n",
       "      <td>0.9984</td>\n",
       "      <td>0.999990</td>\n",
       "    </tr>\n",
       "    <tr>\n",
       "      <th>1248</th>\n",
       "      <td>11003</td>\n",
       "      <td>7</td>\n",
       "      <td>788906</td>\n",
       "      <td>0.9992</td>\n",
       "      <td>0.999999</td>\n",
       "    </tr>\n",
       "    <tr>\n",
       "      <th>1249</th>\n",
       "      <td>0</td>\n",
       "      <td>1</td>\n",
       "      <td>788907</td>\n",
       "      <td>1.0000</td>\n",
       "      <td>1.000000</td>\n",
       "    </tr>\n",
       "  </tbody>\n",
       "</table>\n",
       "<p>1250 rows × 5 columns</p>\n",
       "</div>"
      ],
      "text/plain": [
       "      bike_id  total_number_of_rides  cumulative_ride_count  \\\n",
       "0       11171                   1370                   1370   \n",
       "1       11010                   1031                   2401   \n",
       "2        5351                   1027                   3428   \n",
       "3        5182                   1025                   4453   \n",
       "4        5167                   1024                   5477   \n",
       "...       ...                    ...                    ...   \n",
       "1245    11045                     35                 788881   \n",
       "1246    11829                     10                 788891   \n",
       "1247    11825                      8                 788899   \n",
       "1248    11003                      7                 788906   \n",
       "1249        0                      1                 788907   \n",
       "\n",
       "      percentage_number_of_bikes  percentage_ride_count  \n",
       "0                         0.0008               0.001737  \n",
       "1                         0.0016               0.003043  \n",
       "2                         0.0024               0.004345  \n",
       "3                         0.0032               0.005645  \n",
       "4                         0.0040               0.006943  \n",
       "...                          ...                    ...  \n",
       "1245                      0.9968               0.999967  \n",
       "1246                      0.9976               0.999980  \n",
       "1247                      0.9984               0.999990  \n",
       "1248                      0.9992               0.999999  \n",
       "1249                      1.0000               1.000000  \n",
       "\n",
       "[1250 rows x 5 columns]"
      ]
     },
     "execution_count": 39,
     "metadata": {},
     "output_type": "execute_result"
    }
   ],
   "source": [
    "# calculate total number of rides for each bike over the whole year\n",
    "df_bike_ride_count = df.groupby(\"bike_id\")[\"start_time\"].count().reset_index(name=\"total_number_of_rides\").sort_values(by=\"total_number_of_rides\", ascending=False).reset_index(drop=True)\n",
    "df_bike_ride_count[\"cumulative_ride_count\"] = df_bike_ride_count[\"total_number_of_rides\"].cumsum()\n",
    "df_bike_ride_count[\"percentage_number_of_bikes\"] = df_bike_ride_count.index.to_series().add(1).divide(number_of_bikes)\n",
    "df_bike_ride_count[\"percentage_ride_count\"] = df_bike_ride_count[\"cumulative_ride_count\"].divide(total_number_of_rentals)\n",
    "df_bike_ride_count"
   ]
  },
  {
   "cell_type": "code",
   "execution_count": 40,
   "metadata": {},
   "outputs": [
    {
     "data": {
      "text/plain": [
       "[<matplotlib.lines.Line2D at 0x7fd748983bb0>]"
      ]
     },
     "execution_count": 40,
     "metadata": {},
     "output_type": "execute_result"
    },
    {
     "data": {
      "image/png": "[encoded data removed]",
      "text/plain": [
       "<Figure size 432x288 with 1 Axes>"
      ]
     },
     "metadata": {
      "needs_background": "light"
     },
     "output_type": "display_data"
    }
   ],
   "source": [
    "plt.plot(df_bike_ride_count.index.to_series(), df_bike_ride_count[\"total_number_of_rides\"])"
   ]
  },
  {
   "cell_type": "code",
   "execution_count": 41,
   "metadata": {},
   "outputs": [
    {
     "data": {
      "text/plain": [
       "[<matplotlib.lines.Line2D at 0x7fd748a471f0>]"
      ]
     },
     "execution_count": 41,
     "metadata": {},
     "output_type": "execute_result"
    },
    {
     "data": {
      "image/png": "[encoded data removed]",
      "text/plain": [
       "<Figure size 432x288 with 1 Axes>"
      ]
     },
     "metadata": {
      "needs_background": "light"
     },
     "output_type": "display_data"
    }
   ],
   "source": [
    "plt.plot(df_bike_ride_count.index.to_series(), df_bike_ride_count[\"cumulative_ride_count\"])"
   ]
  },
  {
   "cell_type": "code",
   "execution_count": 42,
   "metadata": {},
   "outputs": [
    {
     "data": {
      "text/plain": [
       "[<matplotlib.lines.Line2D at 0x7fd748ac9dc0>]"
      ]
     },
     "execution_count": 42,
     "metadata": {},
     "output_type": "execute_result"
    },
    {
     "data": {
      "image/png": "[encoded data removed]",
      "text/plain": [
       "<Figure size 432x288 with 1 Axes>"
      ]
     },
     "metadata": {
      "needs_background": "light"
     },
     "output_type": "display_data"
    }
   ],
   "source": [
    "plt.plot(df_bike_ride_count[\"percentage_number_of_bikes\"], df_bike_ride_count[\"percentage_ride_count\"])"
   ]
  },
  {
   "cell_type": "code",
   "execution_count": 43,
   "metadata": {},
   "outputs": [
    {
     "data": {
      "text/html": [
       "<div>\n",
       "<style scoped>\n",
       "    .dataframe tbody tr th:only-of-type {\n",
       "        vertical-align: middle;\n",
       "    }\n",
       "\n",
       "    .dataframe tbody tr th {\n",
       "        vertical-align: top;\n",
       "    }\n",
       "\n",
       "    .dataframe thead th {\n",
       "        text-align: right;\n",
       "    }\n",
       "</style>\n",
       "<table border=\"1\" class=\"dataframe\">\n",
       "  <thead>\n",
       "    <tr style=\"text-align: right;\">\n",
       "      <th></th>\n",
       "      <th>start_time_month</th>\n",
       "      <th>number_of_bikes_used</th>\n",
       "      <th>utilization</th>\n",
       "    </tr>\n",
       "  </thead>\n",
       "  <tbody>\n",
       "    <tr>\n",
       "      <th>0</th>\n",
       "      <td>1</td>\n",
       "      <td>939</td>\n",
       "      <td>0.7512</td>\n",
       "    </tr>\n",
       "    <tr>\n",
       "      <th>1</th>\n",
       "      <td>2</td>\n",
       "      <td>958</td>\n",
       "      <td>0.7664</td>\n",
       "    </tr>\n",
       "    <tr>\n",
       "      <th>2</th>\n",
       "      <td>3</td>\n",
       "      <td>952</td>\n",
       "      <td>0.7616</td>\n",
       "    </tr>\n",
       "    <tr>\n",
       "      <th>3</th>\n",
       "      <td>4</td>\n",
       "      <td>963</td>\n",
       "      <td>0.7704</td>\n",
       "    </tr>\n",
       "    <tr>\n",
       "      <th>4</th>\n",
       "      <td>5</td>\n",
       "      <td>1044</td>\n",
       "      <td>0.8352</td>\n",
       "    </tr>\n",
       "    <tr>\n",
       "      <th>5</th>\n",
       "      <td>6</td>\n",
       "      <td>1109</td>\n",
       "      <td>0.8872</td>\n",
       "    </tr>\n",
       "    <tr>\n",
       "      <th>6</th>\n",
       "      <td>7</td>\n",
       "      <td>1104</td>\n",
       "      <td>0.8832</td>\n",
       "    </tr>\n",
       "    <tr>\n",
       "      <th>7</th>\n",
       "      <td>8</td>\n",
       "      <td>1151</td>\n",
       "      <td>0.9208</td>\n",
       "    </tr>\n",
       "    <tr>\n",
       "      <th>8</th>\n",
       "      <td>9</td>\n",
       "      <td>1196</td>\n",
       "      <td>0.9568</td>\n",
       "    </tr>\n",
       "    <tr>\n",
       "      <th>9</th>\n",
       "      <td>10</td>\n",
       "      <td>1184</td>\n",
       "      <td>0.9472</td>\n",
       "    </tr>\n",
       "    <tr>\n",
       "      <th>10</th>\n",
       "      <td>11</td>\n",
       "      <td>1187</td>\n",
       "      <td>0.9496</td>\n",
       "    </tr>\n",
       "    <tr>\n",
       "      <th>11</th>\n",
       "      <td>12</td>\n",
       "      <td>1152</td>\n",
       "      <td>0.9216</td>\n",
       "    </tr>\n",
       "  </tbody>\n",
       "</table>\n",
       "</div>"
      ],
      "text/plain": [
       "    start_time_month  number_of_bikes_used  utilization\n",
       "0                  1                   939       0.7512\n",
       "1                  2                   958       0.7664\n",
       "2                  3                   952       0.7616\n",
       "3                  4                   963       0.7704\n",
       "4                  5                  1044       0.8352\n",
       "5                  6                  1109       0.8872\n",
       "6                  7                  1104       0.8832\n",
       "7                  8                  1151       0.9208\n",
       "8                  9                  1196       0.9568\n",
       "9                 10                  1184       0.9472\n",
       "10                11                  1187       0.9496\n",
       "11                12                  1152       0.9216"
      ]
     },
     "execution_count": 43,
     "metadata": {},
     "output_type": "execute_result"
    }
   ],
   "source": [
    "# utilization by month\n",
    "df_util_month = df.groupby(\"start_time_month\")[\"bike_id\"].nunique().reset_index(name=\"number_of_bikes_used\")\n",
    "df_util_month[\"utilization\"] = df_util_month[\"number_of_bikes_used\"].divide(number_of_bikes)\n",
    "df_util_month"
   ]
  },
  {
   "cell_type": "code",
   "execution_count": 44,
   "metadata": {},
   "outputs": [
    {
     "data": {
      "text/plain": [
       "<BarContainer object of 12 artists>"
      ]
     },
     "execution_count": 44,
     "metadata": {},
     "output_type": "execute_result"
    },
    {
     "data": {
      "image/png": "[encoded data removed]",
      "text/plain": [
       "<Figure size 432x288 with 1 Axes>"
      ]
     },
     "metadata": {
      "needs_background": "light"
     },
     "output_type": "display_data"
    }
   ],
   "source": [
    "plt.bar(df_util_month[\"start_time_month\"], df_util_month[\"utilization\"])"
   ]
  },
  {
   "cell_type": "code",
   "execution_count": 45,
   "metadata": {},
   "outputs": [
    {
     "data": {
      "text/plain": [
       "{0,\n",
       " 5125,\n",
       " 5196,\n",
       " 6701,\n",
       " 11014,\n",
       " 11706,\n",
       " 11708,\n",
       " 11714,\n",
       " 11718,\n",
       " 11719,\n",
       " 11720,\n",
       " 11723,\n",
       " 11725,\n",
       " 11728,\n",
       " 11731,\n",
       " 11736,\n",
       " 11740,\n",
       " 11742,\n",
       " 11743,\n",
       " 11752,\n",
       " 11754,\n",
       " 11755,\n",
       " 11756,\n",
       " 11757,\n",
       " 11759,\n",
       " 11762,\n",
       " 11764,\n",
       " 11766,\n",
       " 11768,\n",
       " 11770,\n",
       " 11771,\n",
       " 11772,\n",
       " 11773,\n",
       " 11776,\n",
       " 11778,\n",
       " 11784,\n",
       " 11795,\n",
       " 11797,\n",
       " 11798,\n",
       " 11804,\n",
       " 11805,\n",
       " 11806,\n",
       " 11807,\n",
       " 11811,\n",
       " 11823,\n",
       " 11828,\n",
       " 11829,\n",
       " 11830,\n",
       " 11832,\n",
       " 11834,\n",
       " 11835,\n",
       " 11837,\n",
       " 11843,\n",
       " 11845,\n",
       " 11853,\n",
       " 11855,\n",
       " 11861,\n",
       " 11869,\n",
       " 11874,\n",
       " 11878,\n",
       " 11883,\n",
       " 11885,\n",
       " 11886,\n",
       " 11892,\n",
       " 11893,\n",
       " 11901,\n",
       " 11903,\n",
       " 11904,\n",
       " 11906,\n",
       " 11907,\n",
       " 11910,\n",
       " 11914,\n",
       " 11921,\n",
       " 11923,\n",
       " 11926,\n",
       " 11929,\n",
       " 11930,\n",
       " 11931,\n",
       " 11932,\n",
       " 11942,\n",
       " 11946,\n",
       " 11951,\n",
       " 11952,\n",
       " 11953,\n",
       " 11954,\n",
       " 11955,\n",
       " 11960}"
      ]
     },
     "execution_count": 45,
     "metadata": {},
     "output_type": "execute_result"
    }
   ],
   "source": [
    "set(df[df[\"start_time_month\"]==5][\"bike_id\"].unique()) - set(df[df[\"start_time_month\"]==4][\"bike_id\"].unique())"
   ]
  },
  {
   "cell_type": "code",
   "execution_count": 46,
   "metadata": {
    "scrolled": true
   },
   "outputs": [
    {
     "name": "stdout",
     "output_type": "stream",
     "text": [
      "False\n",
      "False\n",
      "False\n",
      "False\n"
     ]
    }
   ],
   "source": [
    "for i in range(1,5):\n",
    "    print((df[df[\"start_time_month\"]==i][\"bike_id\"] > 11700).any())"
   ]
  },
  {
   "cell_type": "code",
   "execution_count": 61,
   "metadata": {
    "scrolled": false
   },
   "outputs": [
    {
     "data": {
      "text/html": [
       "<div>\n",
       "<style scoped>\n",
       "    .dataframe tbody tr th:only-of-type {\n",
       "        vertical-align: middle;\n",
       "    }\n",
       "\n",
       "    .dataframe tbody tr th {\n",
       "        vertical-align: top;\n",
       "    }\n",
       "\n",
       "    .dataframe thead th {\n",
       "        text-align: right;\n",
       "    }\n",
       "</style>\n",
       "<table border=\"1\" class=\"dataframe\">\n",
       "  <thead>\n",
       "    <tr style=\"text-align: right;\">\n",
       "      <th></th>\n",
       "      <th>start_time_date</th>\n",
       "      <th>start_time_hour</th>\n",
       "      <th>number_of_bikes</th>\n",
       "      <th>start_time_date_hour</th>\n",
       "    </tr>\n",
       "  </thead>\n",
       "  <tbody>\n",
       "    <tr>\n",
       "      <th>0</th>\n",
       "      <td>2017-01-01</td>\n",
       "      <td>0</td>\n",
       "      <td>21</td>\n",
       "      <td>2017-01-01x0</td>\n",
       "    </tr>\n",
       "    <tr>\n",
       "      <th>1</th>\n",
       "      <td>2017-01-01</td>\n",
       "      <td>1</td>\n",
       "      <td>24</td>\n",
       "      <td>2017-01-01x1</td>\n",
       "    </tr>\n",
       "    <tr>\n",
       "      <th>2</th>\n",
       "      <td>2017-01-01</td>\n",
       "      <td>2</td>\n",
       "      <td>16</td>\n",
       "      <td>2017-01-01x2</td>\n",
       "    </tr>\n",
       "    <tr>\n",
       "      <th>3</th>\n",
       "      <td>2017-01-01</td>\n",
       "      <td>3</td>\n",
       "      <td>5</td>\n",
       "      <td>2017-01-01x3</td>\n",
       "    </tr>\n",
       "    <tr>\n",
       "      <th>4</th>\n",
       "      <td>2017-01-01</td>\n",
       "      <td>4</td>\n",
       "      <td>4</td>\n",
       "      <td>2017-01-01x4</td>\n",
       "    </tr>\n",
       "    <tr>\n",
       "      <th>...</th>\n",
       "      <td>...</td>\n",
       "      <td>...</td>\n",
       "      <td>...</td>\n",
       "      <td>...</td>\n",
       "    </tr>\n",
       "    <tr>\n",
       "      <th>8663</th>\n",
       "      <td>2017-12-31</td>\n",
       "      <td>19</td>\n",
       "      <td>12</td>\n",
       "      <td>2017-12-31x19</td>\n",
       "    </tr>\n",
       "    <tr>\n",
       "      <th>8664</th>\n",
       "      <td>2017-12-31</td>\n",
       "      <td>20</td>\n",
       "      <td>4</td>\n",
       "      <td>2017-12-31x20</td>\n",
       "    </tr>\n",
       "    <tr>\n",
       "      <th>8665</th>\n",
       "      <td>2017-12-31</td>\n",
       "      <td>21</td>\n",
       "      <td>7</td>\n",
       "      <td>2017-12-31x21</td>\n",
       "    </tr>\n",
       "    <tr>\n",
       "      <th>8666</th>\n",
       "      <td>2017-12-31</td>\n",
       "      <td>22</td>\n",
       "      <td>10</td>\n",
       "      <td>2017-12-31x22</td>\n",
       "    </tr>\n",
       "    <tr>\n",
       "      <th>8667</th>\n",
       "      <td>2017-12-31</td>\n",
       "      <td>23</td>\n",
       "      <td>6</td>\n",
       "      <td>2017-12-31x23</td>\n",
       "    </tr>\n",
       "  </tbody>\n",
       "</table>\n",
       "<p>8668 rows × 4 columns</p>\n",
       "</div>"
      ],
      "text/plain": [
       "     start_time_date  start_time_hour  number_of_bikes start_time_date_hour\n",
       "0         2017-01-01                0               21         2017-01-01x0\n",
       "1         2017-01-01                1               24         2017-01-01x1\n",
       "2         2017-01-01                2               16         2017-01-01x2\n",
       "3         2017-01-01                3                5         2017-01-01x3\n",
       "4         2017-01-01                4                4         2017-01-01x4\n",
       "...              ...              ...              ...                  ...\n",
       "8663      2017-12-31               19               12        2017-12-31x19\n",
       "8664      2017-12-31               20                4        2017-12-31x20\n",
       "8665      2017-12-31               21                7        2017-12-31x21\n",
       "8666      2017-12-31               22               10        2017-12-31x22\n",
       "8667      2017-12-31               23                6        2017-12-31x23\n",
       "\n",
       "[8668 rows x 4 columns]"
      ]
     },
     "execution_count": 61,
     "metadata": {},
     "output_type": "execute_result"
    }
   ],
   "source": [
    "# hourly values\n",
    "df_bike_count_hourly = df.groupby([\"start_time_date\", \"start_time_hour\"])[\"bike_id\"].nunique().reset_index(name=\"number_of_bikes\")\n",
    "df_bike_count_hourly[\"start_time_date_hour\"] = df_bike_count_hourly[\"start_time_date\"].astype(str) +\"x\"+  df_bike_count_hourly[\"start_time_hour\"].astype(str)\n",
    "df_bike_count_hourly"
   ]
  },
  {
   "cell_type": "code",
   "execution_count": 48,
   "metadata": {
    "scrolled": true
   },
   "outputs": [
    {
     "data": {
      "text/html": [
       "<div>\n",
       "<style scoped>\n",
       "    .dataframe tbody tr th:only-of-type {\n",
       "        vertical-align: middle;\n",
       "    }\n",
       "\n",
       "    .dataframe tbody tr th {\n",
       "        vertical-align: top;\n",
       "    }\n",
       "\n",
       "    .dataframe thead th {\n",
       "        text-align: right;\n",
       "    }\n",
       "</style>\n",
       "<table border=\"1\" class=\"dataframe\">\n",
       "  <thead>\n",
       "    <tr style=\"text-align: right;\">\n",
       "      <th></th>\n",
       "      <th>start_time_date</th>\n",
       "      <th>number_of_bikes</th>\n",
       "    </tr>\n",
       "  </thead>\n",
       "  <tbody>\n",
       "    <tr>\n",
       "      <th>0</th>\n",
       "      <td>2017-01-01</td>\n",
       "      <td>457</td>\n",
       "    </tr>\n",
       "    <tr>\n",
       "      <th>1</th>\n",
       "      <td>2017-01-02</td>\n",
       "      <td>198</td>\n",
       "    </tr>\n",
       "    <tr>\n",
       "      <th>2</th>\n",
       "      <td>2017-01-03</td>\n",
       "      <td>365</td>\n",
       "    </tr>\n",
       "    <tr>\n",
       "      <th>3</th>\n",
       "      <td>2017-01-04</td>\n",
       "      <td>566</td>\n",
       "    </tr>\n",
       "    <tr>\n",
       "      <th>4</th>\n",
       "      <td>2017-01-05</td>\n",
       "      <td>478</td>\n",
       "    </tr>\n",
       "    <tr>\n",
       "      <th>...</th>\n",
       "      <td>...</td>\n",
       "      <td>...</td>\n",
       "    </tr>\n",
       "    <tr>\n",
       "      <th>360</th>\n",
       "      <td>2017-12-27</td>\n",
       "      <td>368</td>\n",
       "    </tr>\n",
       "    <tr>\n",
       "      <th>361</th>\n",
       "      <td>2017-12-28</td>\n",
       "      <td>351</td>\n",
       "    </tr>\n",
       "    <tr>\n",
       "      <th>362</th>\n",
       "      <td>2017-12-29</td>\n",
       "      <td>341</td>\n",
       "    </tr>\n",
       "    <tr>\n",
       "      <th>363</th>\n",
       "      <td>2017-12-30</td>\n",
       "      <td>133</td>\n",
       "    </tr>\n",
       "    <tr>\n",
       "      <th>364</th>\n",
       "      <td>2017-12-31</td>\n",
       "      <td>170</td>\n",
       "    </tr>\n",
       "  </tbody>\n",
       "</table>\n",
       "<p>365 rows × 2 columns</p>\n",
       "</div>"
      ],
      "text/plain": [
       "    start_time_date  number_of_bikes\n",
       "0        2017-01-01              457\n",
       "1        2017-01-02              198\n",
       "2        2017-01-03              365\n",
       "3        2017-01-04              566\n",
       "4        2017-01-05              478\n",
       "..              ...              ...\n",
       "360      2017-12-27              368\n",
       "361      2017-12-28              351\n",
       "362      2017-12-29              341\n",
       "363      2017-12-30              133\n",
       "364      2017-12-31              170\n",
       "\n",
       "[365 rows x 2 columns]"
      ]
     },
     "execution_count": 48,
     "metadata": {},
     "output_type": "execute_result"
    }
   ],
   "source": [
    "# dayly values\n",
    "df_bike_count_daily = df.groupby([\"start_time_date\"])[\"bike_id\"].nunique().reset_index(name=\"number_of_bikes\")\n",
    "df_bike_count_daily"
   ]
  },
  {
   "cell_type": "code",
   "execution_count": 49,
   "metadata": {
    "scrolled": true
   },
   "outputs": [
    {
     "data": {
      "text/plain": [
       "[<matplotlib.lines.Line2D at 0x7fd77b160c10>]"
      ]
     },
     "execution_count": 49,
     "metadata": {},
     "output_type": "execute_result"
    },
    {
     "data": {
      "image/png": "[encoded data removed]",
      "text/plain": [
       "<Figure size 432x288 with 1 Axes>"
      ]
     },
     "metadata": {
      "needs_background": "light"
     },
     "output_type": "display_data"
    }
   ],
   "source": [
    "plt.plot(df_bike_count_daily[\"start_time_date\"], df_bike_count_daily[\"number_of_bikes\"])"
   ]
  },
  {
   "cell_type": "code",
   "execution_count": 54,
   "metadata": {},
   "outputs": [],
   "source": [
    "# weekly values\n",
    "df_bike_count_weekly = df.groupby(\"start_time_week\")[\"bike_id\"].nunique().reset_index(name=\"number_of_bikes\")"
   ]
  },
  {
   "cell_type": "code",
   "execution_count": 55,
   "metadata": {
    "scrolled": false
   },
   "outputs": [
    {
     "data": {
      "text/plain": [
       "[<matplotlib.lines.Line2D at 0x7fd7743b8430>]"
      ]
     },
     "execution_count": 55,
     "metadata": {},
     "output_type": "execute_result"
    },
    {
     "data": {
      "image/png": "[encoded data removed]",
      "text/plain": [
       "<Figure size 432x288 with 1 Axes>"
      ]
     },
     "metadata": {
      "needs_background": "light"
     },
     "output_type": "display_data"
    }
   ],
   "source": [
    "plt.plot(df_bike_count_weekly[\"start_time_week\"], df_bike_count_weekly[\"number_of_bikes\"])"
   ]
  },
  {
   "cell_type": "code",
   "execution_count": null,
   "metadata": {},
   "outputs": [],
   "source": []
  }
 ],
 "metadata": {
  "kernelspec": {
   "display_name": "Python 3",
   "language": "python",
   "name": "python3"
  },
  "language_info": {
   "codemirror_mode": {
    "name": "ipython",
    "version": 3
   },
   "file_extension": ".py",
   "mimetype": "text/x-python",
   "name": "python",
   "nbconvert_exporter": "python",
   "pygments_lexer": "ipython3",
   "version": "3.8.5"
  }
 },
 "nbformat": 4,
 "nbformat_minor": 4
}
