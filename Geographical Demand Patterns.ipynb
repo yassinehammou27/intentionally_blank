{
 "cells": [
  {
   "cell_type": "markdown",
   "id": "c5f5fdf8",
   "metadata": {},
   "source": [
    "## Geographical Demand Patterns ##\n",
    "\n",
    "In this section, we look at which stations in Philadelphia are particularly popular and which are not due to the given dataset."
   ]
  },
  {
   "cell_type": "code",
   "execution_count": 1,
   "id": "02dfa80a",
   "metadata": {},
   "outputs": [],
   "source": [
    "import pandas as pd\n",
    "import matplotlib.pyplot as plt"
   ]
  },
  {
   "cell_type": "markdown",
   "id": "d88ba6a0",
   "metadata": {},
   "source": [
    "First step: reading data from the bikeshare dataset from Ride Indego Philadelphia."
   ]
  },
  {
   "cell_type": "code",
   "execution_count": 2,
   "id": "c5adab98",
   "metadata": {},
   "outputs": [],
   "source": [
    "df = pd.read_csv(\"philadelphia_2017.csv\")"
   ]
  },
  {
   "cell_type": "code",
   "execution_count": 3,
   "id": "cd916052",
   "metadata": {},
   "outputs": [
    {
     "data": {
      "text/html": [
       "<div>\n",
       "<style scoped>\n",
       "    .dataframe tbody tr th:only-of-type {\n",
       "        vertical-align: middle;\n",
       "    }\n",
       "\n",
       "    .dataframe tbody tr th {\n",
       "        vertical-align: top;\n",
       "    }\n",
       "\n",
       "    .dataframe thead th {\n",
       "        text-align: right;\n",
       "    }\n",
       "</style>\n",
       "<table border=\"1\" class=\"dataframe\">\n",
       "  <thead>\n",
       "    <tr style=\"text-align: right;\">\n",
       "      <th></th>\n",
       "      <th>start_station_id</th>\n",
       "      <th>start_station_name</th>\n",
       "      <th>end_station_id</th>\n",
       "      <th>end_station_name</th>\n",
       "    </tr>\n",
       "  </thead>\n",
       "  <tbody>\n",
       "    <tr>\n",
       "      <th>0</th>\n",
       "      <td>3046</td>\n",
       "      <td>2nd &amp; Market</td>\n",
       "      <td>3041</td>\n",
       "      <td>Girard Station, MFL</td>\n",
       "    </tr>\n",
       "    <tr>\n",
       "      <th>1</th>\n",
       "      <td>3110</td>\n",
       "      <td>Del. River Trail &amp; Penn St.</td>\n",
       "      <td>3054</td>\n",
       "      <td>Rodin Museum</td>\n",
       "    </tr>\n",
       "    <tr>\n",
       "      <th>2</th>\n",
       "      <td>3110</td>\n",
       "      <td>Del. River Trail &amp; Penn St.</td>\n",
       "      <td>3054</td>\n",
       "      <td>Rodin Museum</td>\n",
       "    </tr>\n",
       "    <tr>\n",
       "      <th>3</th>\n",
       "      <td>3041</td>\n",
       "      <td>Girard Station, MFL</td>\n",
       "      <td>3005</td>\n",
       "      <td>Welcome Park, NPS</td>\n",
       "    </tr>\n",
       "    <tr>\n",
       "      <th>4</th>\n",
       "      <td>3047</td>\n",
       "      <td>Independence Mall, NPS</td>\n",
       "      <td>3124</td>\n",
       "      <td>Race Street Pier</td>\n",
       "    </tr>\n",
       "    <tr>\n",
       "      <th>...</th>\n",
       "      <td>...</td>\n",
       "      <td>...</td>\n",
       "      <td>...</td>\n",
       "      <td>...</td>\n",
       "    </tr>\n",
       "    <tr>\n",
       "      <th>788902</th>\n",
       "      <td>3070</td>\n",
       "      <td>Spring Garden Station, MFL</td>\n",
       "      <td>3124</td>\n",
       "      <td>Race Street Pier</td>\n",
       "    </tr>\n",
       "    <tr>\n",
       "      <th>788903</th>\n",
       "      <td>3107</td>\n",
       "      <td>33rd &amp; Reservoir</td>\n",
       "      <td>3165</td>\n",
       "      <td>24th &amp; Race SRT</td>\n",
       "    </tr>\n",
       "    <tr>\n",
       "      <th>788904</th>\n",
       "      <td>3033</td>\n",
       "      <td>10th &amp; Chestnut</td>\n",
       "      <td>3046</td>\n",
       "      <td>2nd &amp; Market</td>\n",
       "    </tr>\n",
       "    <tr>\n",
       "      <th>788905</th>\n",
       "      <td>3163</td>\n",
       "      <td>25th &amp; Locust</td>\n",
       "      <td>3163</td>\n",
       "      <td>25th &amp; Locust</td>\n",
       "    </tr>\n",
       "    <tr>\n",
       "      <th>788906</th>\n",
       "      <td>3163</td>\n",
       "      <td>25th &amp; Locust</td>\n",
       "      <td>3057</td>\n",
       "      <td>Philadelphia Museum of Art</td>\n",
       "    </tr>\n",
       "  </tbody>\n",
       "</table>\n",
       "<p>788907 rows × 4 columns</p>\n",
       "</div>"
      ],
      "text/plain": [
       "        start_station_id           start_station_name  end_station_id  \\\n",
       "0                   3046                 2nd & Market            3041   \n",
       "1                   3110  Del. River Trail & Penn St.            3054   \n",
       "2                   3110  Del. River Trail & Penn St.            3054   \n",
       "3                   3041          Girard Station, MFL            3005   \n",
       "4                   3047       Independence Mall, NPS            3124   \n",
       "...                  ...                          ...             ...   \n",
       "788902              3070   Spring Garden Station, MFL            3124   \n",
       "788903              3107             33rd & Reservoir            3165   \n",
       "788904              3033              10th & Chestnut            3046   \n",
       "788905              3163                25th & Locust            3163   \n",
       "788906              3163                25th & Locust            3057   \n",
       "\n",
       "                  end_station_name  \n",
       "0              Girard Station, MFL  \n",
       "1                     Rodin Museum  \n",
       "2                     Rodin Museum  \n",
       "3                Welcome Park, NPS  \n",
       "4                 Race Street Pier  \n",
       "...                            ...  \n",
       "788902            Race Street Pier  \n",
       "788903             24th & Race SRT  \n",
       "788904                2nd & Market  \n",
       "788905               25th & Locust  \n",
       "788906  Philadelphia Museum of Art  \n",
       "\n",
       "[788907 rows x 4 columns]"
      ]
     },
     "execution_count": 3,
     "metadata": {},
     "output_type": "execute_result"
    }
   ],
   "source": [
    "data = df[[\"start_station_id\", \"start_station_name\", \"end_station_id\", \"end_station_name\"]]\n",
    "data"
   ]
  },
  {
   "cell_type": "code",
   "execution_count": 4,
   "id": "c6996300",
   "metadata": {},
   "outputs": [
    {
     "data": {
      "text/html": [
       "<div>\n",
       "<style scoped>\n",
       "    .dataframe tbody tr th:only-of-type {\n",
       "        vertical-align: middle;\n",
       "    }\n",
       "\n",
       "    .dataframe tbody tr th {\n",
       "        vertical-align: top;\n",
       "    }\n",
       "\n",
       "    .dataframe thead th {\n",
       "        text-align: right;\n",
       "    }\n",
       "</style>\n",
       "<table border=\"1\" class=\"dataframe\">\n",
       "  <thead>\n",
       "    <tr style=\"text-align: right;\">\n",
       "      <th></th>\n",
       "      <th>start_station_name</th>\n",
       "      <th>end_station_name</th>\n",
       "    </tr>\n",
       "  </thead>\n",
       "  <tbody>\n",
       "    <tr>\n",
       "      <th>0</th>\n",
       "      <td>2nd &amp; Market</td>\n",
       "      <td>Girard Station, MFL</td>\n",
       "    </tr>\n",
       "    <tr>\n",
       "      <th>1</th>\n",
       "      <td>Del. River Trail &amp; Penn St.</td>\n",
       "      <td>Rodin Museum</td>\n",
       "    </tr>\n",
       "    <tr>\n",
       "      <th>2</th>\n",
       "      <td>Del. River Trail &amp; Penn St.</td>\n",
       "      <td>Rodin Museum</td>\n",
       "    </tr>\n",
       "    <tr>\n",
       "      <th>3</th>\n",
       "      <td>Girard Station, MFL</td>\n",
       "      <td>Welcome Park, NPS</td>\n",
       "    </tr>\n",
       "    <tr>\n",
       "      <th>4</th>\n",
       "      <td>Independence Mall, NPS</td>\n",
       "      <td>Race Street Pier</td>\n",
       "    </tr>\n",
       "    <tr>\n",
       "      <th>...</th>\n",
       "      <td>...</td>\n",
       "      <td>...</td>\n",
       "    </tr>\n",
       "    <tr>\n",
       "      <th>788902</th>\n",
       "      <td>Spring Garden Station, MFL</td>\n",
       "      <td>Race Street Pier</td>\n",
       "    </tr>\n",
       "    <tr>\n",
       "      <th>788903</th>\n",
       "      <td>33rd &amp; Reservoir</td>\n",
       "      <td>24th &amp; Race SRT</td>\n",
       "    </tr>\n",
       "    <tr>\n",
       "      <th>788904</th>\n",
       "      <td>10th &amp; Chestnut</td>\n",
       "      <td>2nd &amp; Market</td>\n",
       "    </tr>\n",
       "    <tr>\n",
       "      <th>788905</th>\n",
       "      <td>25th &amp; Locust</td>\n",
       "      <td>25th &amp; Locust</td>\n",
       "    </tr>\n",
       "    <tr>\n",
       "      <th>788906</th>\n",
       "      <td>25th &amp; Locust</td>\n",
       "      <td>Philadelphia Museum of Art</td>\n",
       "    </tr>\n",
       "  </tbody>\n",
       "</table>\n",
       "<p>788907 rows × 2 columns</p>\n",
       "</div>"
      ],
      "text/plain": [
       "                 start_station_name            end_station_name\n",
       "0                      2nd & Market         Girard Station, MFL\n",
       "1       Del. River Trail & Penn St.                Rodin Museum\n",
       "2       Del. River Trail & Penn St.                Rodin Museum\n",
       "3               Girard Station, MFL           Welcome Park, NPS\n",
       "4            Independence Mall, NPS            Race Street Pier\n",
       "...                             ...                         ...\n",
       "788902   Spring Garden Station, MFL            Race Street Pier\n",
       "788903             33rd & Reservoir             24th & Race SRT\n",
       "788904              10th & Chestnut                2nd & Market\n",
       "788905                25th & Locust               25th & Locust\n",
       "788906                25th & Locust  Philadelphia Museum of Art\n",
       "\n",
       "[788907 rows x 2 columns]"
      ]
     },
     "execution_count": 4,
     "metadata": {},
     "output_type": "execute_result"
    }
   ],
   "source": [
    "data = df[[\"start_station_name\", \"end_station_name\"]]\n",
    "data"
   ]
  },
  {
   "cell_type": "markdown",
   "id": "92ede51f",
   "metadata": {},
   "source": [
    "In the following we look at the stations where the ride was started and sort them in descending order of the number of rentals."
   ]
  },
  {
   "cell_type": "code",
   "execution_count": 5,
   "id": "2ae56fb1",
   "metadata": {},
   "outputs": [
    {
     "data": {
      "text/html": [
       "<div>\n",
       "<style scoped>\n",
       "    .dataframe tbody tr th:only-of-type {\n",
       "        vertical-align: middle;\n",
       "    }\n",
       "\n",
       "    .dataframe tbody tr th {\n",
       "        vertical-align: top;\n",
       "    }\n",
       "\n",
       "    .dataframe thead th {\n",
       "        text-align: right;\n",
       "    }\n",
       "</style>\n",
       "<table border=\"1\" class=\"dataframe\">\n",
       "  <thead>\n",
       "    <tr style=\"text-align: right;\">\n",
       "      <th></th>\n",
       "      <th>start_station_name</th>\n",
       "      <th>rentals_per_station</th>\n",
       "    </tr>\n",
       "  </thead>\n",
       "  <tbody>\n",
       "    <tr>\n",
       "      <th>115</th>\n",
       "      <td>Rittenhouse Square</td>\n",
       "      <td>24828</td>\n",
       "    </tr>\n",
       "    <tr>\n",
       "      <th>15</th>\n",
       "      <td>15th &amp; Spruce</td>\n",
       "      <td>23655</td>\n",
       "    </tr>\n",
       "    <tr>\n",
       "      <th>20</th>\n",
       "      <td>18th &amp; JFK</td>\n",
       "      <td>19828</td>\n",
       "    </tr>\n",
       "    <tr>\n",
       "      <th>10</th>\n",
       "      <td>13th &amp; Locust</td>\n",
       "      <td>19222</td>\n",
       "    </tr>\n",
       "    <tr>\n",
       "      <th>116</th>\n",
       "      <td>Rodin Museum</td>\n",
       "      <td>16405</td>\n",
       "    </tr>\n",
       "    <tr>\n",
       "      <th>...</th>\n",
       "      <td>...</td>\n",
       "      <td>...</td>\n",
       "    </tr>\n",
       "    <tr>\n",
       "      <th>9</th>\n",
       "      <td>12th &amp; Passyunk</td>\n",
       "      <td>588</td>\n",
       "    </tr>\n",
       "    <tr>\n",
       "      <th>27</th>\n",
       "      <td>20th &amp; Sansom</td>\n",
       "      <td>133</td>\n",
       "    </tr>\n",
       "    <tr>\n",
       "      <th>124</th>\n",
       "      <td>Virtual Station</td>\n",
       "      <td>110</td>\n",
       "    </tr>\n",
       "    <tr>\n",
       "      <th>85</th>\n",
       "      <td>Barnes Foundation</td>\n",
       "      <td>48</td>\n",
       "    </tr>\n",
       "    <tr>\n",
       "      <th>48</th>\n",
       "      <td>3083</td>\n",
       "      <td>10</td>\n",
       "    </tr>\n",
       "  </tbody>\n",
       "</table>\n",
       "<p>126 rows × 2 columns</p>\n",
       "</div>"
      ],
      "text/plain": [
       "     start_station_name  rentals_per_station\n",
       "115  Rittenhouse Square                24828\n",
       "15        15th & Spruce                23655\n",
       "20           18th & JFK                19828\n",
       "10        13th & Locust                19222\n",
       "116        Rodin Museum                16405\n",
       "..                  ...                  ...\n",
       "9       12th & Passyunk                  588\n",
       "27        20th & Sansom                  133\n",
       "124     Virtual Station                  110\n",
       "85    Barnes Foundation                   48\n",
       "48                 3083                   10\n",
       "\n",
       "[126 rows x 2 columns]"
      ]
     },
     "execution_count": 5,
     "metadata": {},
     "output_type": "execute_result"
    }
   ],
   "source": [
    "df.groupby([\"start_station_name\"])[\"start_station_name\"].count().reset_index(name = \"rentals_per_station\").sort_values(by=['rentals_per_station'], ascending=False)"
   ]
  },
  {
   "cell_type": "markdown",
   "id": "905dd34f",
   "metadata": {},
   "source": [
    "Displaying only the five most popular start stations:"
   ]
  },
  {
   "cell_type": "code",
   "execution_count": 6,
   "id": "21f3f57c",
   "metadata": {},
   "outputs": [
    {
     "data": {
      "text/html": [
       "<div>\n",
       "<style scoped>\n",
       "    .dataframe tbody tr th:only-of-type {\n",
       "        vertical-align: middle;\n",
       "    }\n",
       "\n",
       "    .dataframe tbody tr th {\n",
       "        vertical-align: top;\n",
       "    }\n",
       "\n",
       "    .dataframe thead th {\n",
       "        text-align: right;\n",
       "    }\n",
       "</style>\n",
       "<table border=\"1\" class=\"dataframe\">\n",
       "  <thead>\n",
       "    <tr style=\"text-align: right;\">\n",
       "      <th></th>\n",
       "      <th>start_station_name</th>\n",
       "      <th>rentals_per_station</th>\n",
       "    </tr>\n",
       "  </thead>\n",
       "  <tbody>\n",
       "    <tr>\n",
       "      <th>115</th>\n",
       "      <td>Rittenhouse Square</td>\n",
       "      <td>24828</td>\n",
       "    </tr>\n",
       "    <tr>\n",
       "      <th>15</th>\n",
       "      <td>15th &amp; Spruce</td>\n",
       "      <td>23655</td>\n",
       "    </tr>\n",
       "    <tr>\n",
       "      <th>20</th>\n",
       "      <td>18th &amp; JFK</td>\n",
       "      <td>19828</td>\n",
       "    </tr>\n",
       "    <tr>\n",
       "      <th>10</th>\n",
       "      <td>13th &amp; Locust</td>\n",
       "      <td>19222</td>\n",
       "    </tr>\n",
       "    <tr>\n",
       "      <th>116</th>\n",
       "      <td>Rodin Museum</td>\n",
       "      <td>16405</td>\n",
       "    </tr>\n",
       "  </tbody>\n",
       "</table>\n",
       "</div>"
      ],
      "text/plain": [
       "     start_station_name  rentals_per_station\n",
       "115  Rittenhouse Square                24828\n",
       "15        15th & Spruce                23655\n",
       "20           18th & JFK                19828\n",
       "10        13th & Locust                19222\n",
       "116        Rodin Museum                16405"
      ]
     },
     "execution_count": 6,
     "metadata": {},
     "output_type": "execute_result"
    }
   ],
   "source": [
    "df_most_popular = df.groupby([\"start_station_name\"])[\"start_station_name\"].count().reset_index(name = \"rentals_per_station\").sort_values(by=['rentals_per_station'], ascending=False).head()\n",
    "df_most_popular"
   ]
  },
  {
   "cell_type": "code",
   "execution_count": 49,
   "id": "c24fe620",
   "metadata": {},
   "outputs": [
    {
     "data": {
      "image/png": "[encoded data removed]",
      "text/plain": [
       "<Figure size 900x400 with 1 Axes>"
      ]
     },
     "metadata": {},
     "output_type": "display_data"
    }
   ],
   "source": [
    "fig = plt.figure(figsize=(9,4))\n",
    "plt.bar(df_most_popular[\"start_station_name\"], df_most_popular[\"rentals_per_station\"])\n",
    "plt.rc('xtick', labelsize = 10)\n",
    "plt.rc('ytick', labelsize = 10)\n",
    "plt.xlabel(\"name of the station\", size = 'medium')\n",
    "plt.ylabel(\"number of rentals per station\", size = 'medium')\n",
    "plt.title(\"Top 5 most popular start stations\", size = 'x-large')\n",
    "plt.show()"
   ]
  },
  {
   "cell_type": "markdown",
   "id": "4f2ea3b2",
   "metadata": {},
   "source": [
    "Displaying only the five least popular start stations:"
   ]
  },
  {
   "cell_type": "code",
   "execution_count": 15,
   "id": "1dfe0f0a",
   "metadata": {},
   "outputs": [
    {
     "data": {
      "text/html": [
       "<div>\n",
       "<style scoped>\n",
       "    .dataframe tbody tr th:only-of-type {\n",
       "        vertical-align: middle;\n",
       "    }\n",
       "\n",
       "    .dataframe tbody tr th {\n",
       "        vertical-align: top;\n",
       "    }\n",
       "\n",
       "    .dataframe thead th {\n",
       "        text-align: right;\n",
       "    }\n",
       "</style>\n",
       "<table border=\"1\" class=\"dataframe\">\n",
       "  <thead>\n",
       "    <tr style=\"text-align: right;\">\n",
       "      <th></th>\n",
       "      <th>start_station_name</th>\n",
       "      <th>rentals_per_station</th>\n",
       "    </tr>\n",
       "  </thead>\n",
       "  <tbody>\n",
       "    <tr>\n",
       "      <th>9</th>\n",
       "      <td>12th &amp; Passyunk</td>\n",
       "      <td>588</td>\n",
       "    </tr>\n",
       "    <tr>\n",
       "      <th>27</th>\n",
       "      <td>20th &amp; Sansom</td>\n",
       "      <td>133</td>\n",
       "    </tr>\n",
       "    <tr>\n",
       "      <th>124</th>\n",
       "      <td>Virtual Station</td>\n",
       "      <td>110</td>\n",
       "    </tr>\n",
       "    <tr>\n",
       "      <th>85</th>\n",
       "      <td>Barnes Foundation</td>\n",
       "      <td>48</td>\n",
       "    </tr>\n",
       "    <tr>\n",
       "      <th>48</th>\n",
       "      <td>3083</td>\n",
       "      <td>10</td>\n",
       "    </tr>\n",
       "  </tbody>\n",
       "</table>\n",
       "</div>"
      ],
      "text/plain": [
       "    start_station_name  rentals_per_station\n",
       "9      12th & Passyunk                  588\n",
       "27       20th & Sansom                  133\n",
       "124    Virtual Station                  110\n",
       "85   Barnes Foundation                   48\n",
       "48                3083                   10"
      ]
     },
     "execution_count": 15,
     "metadata": {},
     "output_type": "execute_result"
    }
   ],
   "source": [
    "df_least_popular = df.groupby([\"start_station_name\"])[\"start_station_name\"].count().reset_index(name = \"rentals_per_station\").sort_values(by=['rentals_per_station'], ascending=False).tail()\n",
    "df_least_popular"
   ]
  },
  {
   "cell_type": "code",
   "execution_count": 48,
   "id": "bc506369",
   "metadata": {},
   "outputs": [
    {
     "data": {
      "image/png": "[encoded data removed]",
      "text/plain": [
       "<Figure size 900x400 with 1 Axes>"
      ]
     },
     "metadata": {},
     "output_type": "display_data"
    }
   ],
   "source": [
    "fig = plt.figure(figsize=(9,4))\n",
    "plt.bar(df_least_popular[\"start_station_name\"], df_least_popular[\"rentals_per_station\"])\n",
    "plt.rc('xtick', labelsize = 10)\n",
    "plt.rc('ytick', labelsize = 10)\n",
    "plt.xlabel(\"name of the station\", size = 'medium')\n",
    "plt.ylabel(\"number of rentals per station\", size = 'medium')\n",
    "plt.title(\"Top 5 least popular start stations\", size = 'x-large')\n",
    "plt.show()"
   ]
  },
  {
   "cell_type": "markdown",
   "id": "510c20c8",
   "metadata": {},
   "source": [
    "In the following we look at the stations where the ride was terminated and sort them in descending order of the number of rentals."
   ]
  },
  {
   "cell_type": "code",
   "execution_count": 20,
   "id": "669bbceb",
   "metadata": {},
   "outputs": [
    {
     "data": {
      "text/html": [
       "<div>\n",
       "<style scoped>\n",
       "    .dataframe tbody tr th:only-of-type {\n",
       "        vertical-align: middle;\n",
       "    }\n",
       "\n",
       "    .dataframe tbody tr th {\n",
       "        vertical-align: top;\n",
       "    }\n",
       "\n",
       "    .dataframe thead th {\n",
       "        text-align: right;\n",
       "    }\n",
       "</style>\n",
       "<table border=\"1\" class=\"dataframe\">\n",
       "  <thead>\n",
       "    <tr style=\"text-align: right;\">\n",
       "      <th></th>\n",
       "      <th>end_station_name</th>\n",
       "      <th>rentals_per_station</th>\n",
       "    </tr>\n",
       "  </thead>\n",
       "  <tbody>\n",
       "    <tr>\n",
       "      <th>115</th>\n",
       "      <td>Rittenhouse Square</td>\n",
       "      <td>25452</td>\n",
       "    </tr>\n",
       "    <tr>\n",
       "      <th>20</th>\n",
       "      <td>18th &amp; JFK</td>\n",
       "      <td>24742</td>\n",
       "    </tr>\n",
       "    <tr>\n",
       "      <th>15</th>\n",
       "      <td>15th &amp; Spruce</td>\n",
       "      <td>23599</td>\n",
       "    </tr>\n",
       "    <tr>\n",
       "      <th>10</th>\n",
       "      <td>13th &amp; Locust</td>\n",
       "      <td>19190</td>\n",
       "    </tr>\n",
       "    <tr>\n",
       "      <th>116</th>\n",
       "      <td>Rodin Museum</td>\n",
       "      <td>16989</td>\n",
       "    </tr>\n",
       "    <tr>\n",
       "      <th>...</th>\n",
       "      <td>...</td>\n",
       "      <td>...</td>\n",
       "    </tr>\n",
       "    <tr>\n",
       "      <th>63</th>\n",
       "      <td>40th &amp; Baltimore, Trolley Portal</td>\n",
       "      <td>628</td>\n",
       "    </tr>\n",
       "    <tr>\n",
       "      <th>61</th>\n",
       "      <td>39th &amp; Mt. Vernon, Mantua Haverford Community ...</td>\n",
       "      <td>548</td>\n",
       "    </tr>\n",
       "    <tr>\n",
       "      <th>48</th>\n",
       "      <td>3083</td>\n",
       "      <td>152</td>\n",
       "    </tr>\n",
       "    <tr>\n",
       "      <th>27</th>\n",
       "      <td>20th &amp; Sansom</td>\n",
       "      <td>143</td>\n",
       "    </tr>\n",
       "    <tr>\n",
       "      <th>85</th>\n",
       "      <td>Barnes Foundation</td>\n",
       "      <td>76</td>\n",
       "    </tr>\n",
       "  </tbody>\n",
       "</table>\n",
       "<p>126 rows × 2 columns</p>\n",
       "</div>"
      ],
      "text/plain": [
       "                                      end_station_name  rentals_per_station\n",
       "115                                 Rittenhouse Square                25452\n",
       "20                                          18th & JFK                24742\n",
       "15                                       15th & Spruce                23599\n",
       "10                                       13th & Locust                19190\n",
       "116                                       Rodin Museum                16989\n",
       "..                                                 ...                  ...\n",
       "63                    40th & Baltimore, Trolley Portal                  628\n",
       "61   39th & Mt. Vernon, Mantua Haverford Community ...                  548\n",
       "48                                                3083                  152\n",
       "27                                       20th & Sansom                  143\n",
       "85                                   Barnes Foundation                   76\n",
       "\n",
       "[126 rows x 2 columns]"
      ]
     },
     "execution_count": 20,
     "metadata": {},
     "output_type": "execute_result"
    }
   ],
   "source": [
    "df.groupby([\"end_station_name\"])[\"end_station_name\"].count().reset_index(name = \"rentals_per_station\").sort_values(by=['rentals_per_station'], ascending=False)"
   ]
  },
  {
   "cell_type": "markdown",
   "id": "fc0a0d97",
   "metadata": {},
   "source": [
    "Displaying only the five most popular end stations:"
   ]
  },
  {
   "cell_type": "code",
   "execution_count": 21,
   "id": "748f449a",
   "metadata": {},
   "outputs": [
    {
     "data": {
      "text/html": [
       "<div>\n",
       "<style scoped>\n",
       "    .dataframe tbody tr th:only-of-type {\n",
       "        vertical-align: middle;\n",
       "    }\n",
       "\n",
       "    .dataframe tbody tr th {\n",
       "        vertical-align: top;\n",
       "    }\n",
       "\n",
       "    .dataframe thead th {\n",
       "        text-align: right;\n",
       "    }\n",
       "</style>\n",
       "<table border=\"1\" class=\"dataframe\">\n",
       "  <thead>\n",
       "    <tr style=\"text-align: right;\">\n",
       "      <th></th>\n",
       "      <th>end_station_name</th>\n",
       "      <th>rentals_per_station</th>\n",
       "    </tr>\n",
       "  </thead>\n",
       "  <tbody>\n",
       "    <tr>\n",
       "      <th>115</th>\n",
       "      <td>Rittenhouse Square</td>\n",
       "      <td>25452</td>\n",
       "    </tr>\n",
       "    <tr>\n",
       "      <th>20</th>\n",
       "      <td>18th &amp; JFK</td>\n",
       "      <td>24742</td>\n",
       "    </tr>\n",
       "    <tr>\n",
       "      <th>15</th>\n",
       "      <td>15th &amp; Spruce</td>\n",
       "      <td>23599</td>\n",
       "    </tr>\n",
       "    <tr>\n",
       "      <th>10</th>\n",
       "      <td>13th &amp; Locust</td>\n",
       "      <td>19190</td>\n",
       "    </tr>\n",
       "    <tr>\n",
       "      <th>116</th>\n",
       "      <td>Rodin Museum</td>\n",
       "      <td>16989</td>\n",
       "    </tr>\n",
       "  </tbody>\n",
       "</table>\n",
       "</div>"
      ],
      "text/plain": [
       "       end_station_name  rentals_per_station\n",
       "115  Rittenhouse Square                25452\n",
       "20           18th & JFK                24742\n",
       "15        15th & Spruce                23599\n",
       "10        13th & Locust                19190\n",
       "116        Rodin Museum                16989"
      ]
     },
     "execution_count": 21,
     "metadata": {},
     "output_type": "execute_result"
    }
   ],
   "source": [
    "df_most_popular_end = df.groupby([\"end_station_name\"])[\"end_station_name\"].count().reset_index(name = \"rentals_per_station\").sort_values(by=['rentals_per_station'], ascending=False).head()\n",
    "df_most_popular_end"
   ]
  },
  {
   "cell_type": "code",
   "execution_count": 47,
   "id": "6f130530",
   "metadata": {},
   "outputs": [
    {
     "data": {
      "image/png": "[encoded data removed]",
      "text/plain": [
       "<Figure size 900x400 with 1 Axes>"
      ]
     },
     "metadata": {},
     "output_type": "display_data"
    }
   ],
   "source": [
    "fig = plt.figure(figsize=(9,4))\n",
    "plt.bar(df_most_popular_end[\"end_station_name\"], df_most_popular_end[\"rentals_per_station\"])\n",
    "plt.rc('xtick', labelsize = 10)\n",
    "plt.rc('ytick', labelsize = 10)\n",
    "plt.xlabel(\"name of the station\", size = 'medium')\n",
    "plt.ylabel(\"number of rentals per station\", size = 'medium')\n",
    "plt.title(\"Top 5 most popular end stations\", size = 'x-large')\n",
    "plt.show()"
   ]
  },
  {
   "cell_type": "markdown",
   "id": "87e185dc",
   "metadata": {},
   "source": [
    "Displaying only the five least popular end stations:"
   ]
  },
  {
   "cell_type": "code",
   "execution_count": 43,
   "id": "7a0fd77c",
   "metadata": {},
   "outputs": [
    {
     "data": {
      "text/html": [
       "<div>\n",
       "<style scoped>\n",
       "    .dataframe tbody tr th:only-of-type {\n",
       "        vertical-align: middle;\n",
       "    }\n",
       "\n",
       "    .dataframe tbody tr th {\n",
       "        vertical-align: top;\n",
       "    }\n",
       "\n",
       "    .dataframe thead th {\n",
       "        text-align: right;\n",
       "    }\n",
       "</style>\n",
       "<table border=\"1\" class=\"dataframe\">\n",
       "  <thead>\n",
       "    <tr style=\"text-align: right;\">\n",
       "      <th></th>\n",
       "      <th>end_station_name</th>\n",
       "      <th>rentals_per_station</th>\n",
       "    </tr>\n",
       "  </thead>\n",
       "  <tbody>\n",
       "    <tr>\n",
       "      <th>63</th>\n",
       "      <td>40th &amp; Baltimore, Trolley Portal</td>\n",
       "      <td>628</td>\n",
       "    </tr>\n",
       "    <tr>\n",
       "      <th>61</th>\n",
       "      <td>39th &amp; Mt. Vernon, Mantua Haverford Community ...</td>\n",
       "      <td>548</td>\n",
       "    </tr>\n",
       "    <tr>\n",
       "      <th>48</th>\n",
       "      <td>3083</td>\n",
       "      <td>152</td>\n",
       "    </tr>\n",
       "    <tr>\n",
       "      <th>27</th>\n",
       "      <td>20th &amp; Sansom</td>\n",
       "      <td>143</td>\n",
       "    </tr>\n",
       "    <tr>\n",
       "      <th>85</th>\n",
       "      <td>Barnes Foundation</td>\n",
       "      <td>76</td>\n",
       "    </tr>\n",
       "  </tbody>\n",
       "</table>\n",
       "</div>"
      ],
      "text/plain": [
       "                                     end_station_name  rentals_per_station\n",
       "63                   40th & Baltimore, Trolley Portal                  628\n",
       "61  39th & Mt. Vernon, Mantua Haverford Community ...                  548\n",
       "48                                               3083                  152\n",
       "27                                      20th & Sansom                  143\n",
       "85                                  Barnes Foundation                   76"
      ]
     },
     "execution_count": 43,
     "metadata": {},
     "output_type": "execute_result"
    }
   ],
   "source": [
    "df_least_popular_end = df.groupby([\"end_station_name\"])[\"end_station_name\"].count().reset_index(name = \"rentals_per_station\").sort_values(by=['rentals_per_station'], ascending=False).tail()\n",
    "df_least_popular_end"
   ]
  },
  {
   "cell_type": "code",
   "execution_count": 44,
   "id": "9b8617c2",
   "metadata": {},
   "outputs": [
    {
     "name": "stdout",
     "output_type": "stream",
     "text": [
      "     end_station_name  rentals_per_station\n",
      "63   40th & Baltimore                  628\n",
      "61  39th & Mt. Vernon                  548\n",
      "48               3083                  152\n",
      "27      20th & Sansom                  143\n",
      "85  Barnes Foundation                   76\n"
     ]
    }
   ],
   "source": [
    "df_least_popular_end = df_least_popular_end.replace(['39th & Mt. Vernon, Mantua Haverford Community Center', '40th & Baltimore, Trolley Portal'], ['39th & Mt. Vernon', '40th & Baltimore'])\n",
    "print(df_least_popular_end)"
   ]
  },
  {
   "cell_type": "code",
   "execution_count": 46,
   "id": "cf33b73f",
   "metadata": {},
   "outputs": [
    {
     "data": {
      "image/png": "[encoded data removed]",
      "text/plain": [
       "<Figure size 900x400 with 1 Axes>"
      ]
     },
     "metadata": {},
     "output_type": "display_data"
    }
   ],
   "source": [
    "fig = plt.figure(figsize=(9,4))\n",
    "plt.bar(df_least_popular_end[\"end_station_name\"], df_least_popular_end[\"rentals_per_station\"])\n",
    "plt.rc('xtick', labelsize = 10)\n",
    "plt.rc('ytick', labelsize = 10)\n",
    "plt.xlabel(\"name of the station\", size = 'medium')\n",
    "plt.ylabel(\"number of rentals per station\", size = 'medium')\n",
    "plt.title(\"Top 5 least popular end stations\", size = 'x-large')\n",
    "plt.show()"
   ]
  },
  {
   "cell_type": "markdown",
   "id": "67c8d015",
   "metadata": {},
   "source": [
    "### Analysis of the results:\n",
    "\n",
    "After looking at the top 5 most popular and top 5 least popular start and end stations, it is especially noticeable that the five most popular start stations are also the five most popular end stations in Philadelphia. Apparently, there is a high demand for renting bikes between these stations. According to Google Maps these stations are located in the center of the city and are no more than 1.6 miles apart from each other. This shows, that the bicycles are mainly used for short distances in the city center."
   ]
  }
 ],
 "metadata": {
  "kernelspec": {
   "display_name": "Python 3 (ipykernel)",
   "language": "python",
   "name": "python3"
  },
  "language_info": {
   "codemirror_mode": {
    "name": "ipython",
    "version": 3
   },
   "file_extension": ".py",
   "mimetype": "text/x-python",
   "name": "python",
   "nbconvert_exporter": "python",
   "pygments_lexer": "ipython3",
   "version": "3.7.13"
  }
 },
 "nbformat": 4,
 "nbformat_minor": 5
}
