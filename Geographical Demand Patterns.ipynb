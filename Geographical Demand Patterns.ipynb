{
 "cells": [
  {
   "cell_type": "markdown",
   "id": "c5f5fdf8",
   "metadata": {},
   "source": [
    "## Geographical Demand Patterns ##\n",
    "\n",
    "In this section, we look at which stations in Philadelphia are particularly popular and which are not due to the given dataset."
   ]
  },
  {
   "cell_type": "code",
   "execution_count": 2,
   "id": "02dfa80a",
   "metadata": {},
   "outputs": [],
   "source": [
    "import pandas as pd\n",
    "import numpy as np\n",
    "import matplotlib.pyplot as plt\n",
    "import seaborn as sns\n",
    "sns.set()\n",
    "sns.set_style(\"whitegrid\")\n",
    "sns.set_palette(\"GnBu_d\")"
   ]
  },
  {
   "cell_type": "markdown",
   "id": "d88ba6a0",
   "metadata": {},
   "source": [
    "First step: reading data from the bikeshare dataset from Ride Indego Philadelphia"
   ]
  },
  {
   "cell_type": "code",
   "execution_count": 3,
   "id": "c5adab98",
   "metadata": {},
   "outputs": [],
   "source": [
    "phili = pd.read_csv(\"philadelphia_2017.csv\")"
   ]
  },
  {
   "cell_type": "code",
   "execution_count": null,
   "id": "e9193dc3",
   "metadata": {},
   "outputs": [],
   "source": []
  }
 ],
 "metadata": {
  "kernelspec": {
   "display_name": "Python 3 (ipykernel)",
   "language": "python",
   "name": "python3"
  },
  "language_info": {
   "codemirror_mode": {
    "name": "ipython",
    "version": 3
   },
   "file_extension": ".py",
   "mimetype": "text/x-python",
   "name": "python",
   "nbconvert_exporter": "python",
   "pygments_lexer": "ipython3",
   "version": "3.7.13"
  }
 },
 "nbformat": 4,
 "nbformat_minor": 5
}
